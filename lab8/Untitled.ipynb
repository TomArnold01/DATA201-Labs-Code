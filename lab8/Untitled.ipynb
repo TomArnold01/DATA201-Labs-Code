{
 "cells": [
  {
   "cell_type": "code",
   "execution_count": 2,
   "id": "9da14e49-1cc0-4607-ab55-b187c323ca13",
   "metadata": {},
   "outputs": [
    {
     "name": "stderr",
     "output_type": "stream",
     "text": [
      "── \u001b[1mAttaching packages\u001b[22m ─────────────────────────────────────────────────────────────────────────────── tidyverse 1.3.2 ──\n",
      "\u001b[32m✔\u001b[39m \u001b[34mggplot2\u001b[39m 3.3.6     \u001b[32m✔\u001b[39m \u001b[34mpurrr  \u001b[39m 0.3.4\n",
      "\u001b[32m✔\u001b[39m \u001b[34mtibble \u001b[39m 3.1.7     \u001b[32m✔\u001b[39m \u001b[34mdplyr  \u001b[39m 1.0.9\n",
      "\u001b[32m✔\u001b[39m \u001b[34mtidyr  \u001b[39m 1.2.0     \u001b[32m✔\u001b[39m \u001b[34mstringr\u001b[39m 1.4.0\n",
      "\u001b[32m✔\u001b[39m \u001b[34mreadr  \u001b[39m 2.1.2     \u001b[32m✔\u001b[39m \u001b[34mforcats\u001b[39m 0.5.1\n",
      "── \u001b[1mConflicts\u001b[22m ────────────────────────────────────────────────────────────────────────────────── tidyverse_conflicts() ──\n",
      "\u001b[31m✖\u001b[39m \u001b[34mdplyr\u001b[39m::\u001b[32mfilter()\u001b[39m masks \u001b[34mstats\u001b[39m::filter()\n",
      "\u001b[31m✖\u001b[39m \u001b[34mdplyr\u001b[39m::\u001b[32mlag()\u001b[39m    masks \u001b[34mstats\u001b[39m::lag()\n"
     ]
    }
   ],
   "source": [
    "library(tidyverse)"
   ]
  },
  {
   "cell_type": "code",
   "execution_count": 3,
   "id": "ac1b1fed-a347-45ed-995f-4f485a3744f0",
   "metadata": {},
   "outputs": [
    {
     "name": "stderr",
     "output_type": "stream",
     "text": [
      "\n",
      "Attaching package: 'jsonlite'\n",
      "\n",
      "\n",
      "The following object is masked from 'package:purrr':\n",
      "\n",
      "    flatten\n",
      "\n",
      "\n"
     ]
    }
   ],
   "source": [
    "library(httr)\n",
    "library(jsonlite)"
   ]
  },
  {
   "cell_type": "code",
   "execution_count": 4,
   "id": "96c9ee25-d9bc-44f3-a408-e44f8196f01f",
   "metadata": {},
   "outputs": [],
   "source": [
    "result = GET(\"http://api.open-notify.org/astros.json\")"
   ]
  },
  {
   "cell_type": "code",
   "execution_count": 5,
   "id": "2a3f22e5-cf82-46e9-b65a-60c6a19fe53a",
   "metadata": {},
   "outputs": [
    {
     "data": {
      "text/plain": [
       "Response [http://api.open-notify.org/astros.json]\n",
       "  Date: 2022-10-08 06:49\n",
       "  Status: 200\n",
       "  Content-Type: application/json\n",
       "  Size: 681 B\n"
      ]
     },
     "metadata": {},
     "output_type": "display_data"
    }
   ],
   "source": [
    "result"
   ]
  },
  {
   "cell_type": "code",
   "execution_count": 6,
   "id": "b15eafeb-eae2-4aac-8ff5-4e2414877e49",
   "metadata": {},
   "outputs": [
    {
     "data": {
      "text/html": [
       "'{\"number\": 14, \"message\": \"success\", \"people\": [{\"craft\": \"ISS\", \"name\": \"Kjell Lindgren\"}, {\"craft\": \"ISS\", \"name\": \"Bob Hines\"}, {\"craft\": \"ISS\", \"name\": \"Samantha Cristoforetti\"}, {\"craft\": \"ISS\", \"name\": \"Jessica Watkins\"}, {\"craft\": \"Tiangong\", \"name\": \"Cai Xuzhe\"}, {\"craft\": \"Tiangong\", \"name\": \"Chen Dong\"}, {\"craft\": \"Tiangong\", \"name\": \"Liu Yang\"}, {\"craft\": \"ISS\", \"name\": \"Sergey Prokopyev\"}, {\"craft\": \"ISS\", \"name\": \"Dmitry Petelin\"}, {\"craft\": \"ISS\", \"name\": \"Frank Rubio\"}, {\"craft\": \"Endurance\", \"name\": \"Nicole Mann\"}, {\"craft\": \"Endurance\", \"name\": \"Josh Cassada\"}, {\"craft\": \"Endurance\", \"name\": \"Koichi Wakata\"}, {\"craft\": \"Endurance\", \"name\": \"Anna Kikina\"}]}'"
      ],
      "text/latex": [
       "'\\{\"number\": 14, \"message\": \"success\", \"people\": {[}\\{\"craft\": \"ISS\", \"name\": \"Kjell Lindgren\"\\}, \\{\"craft\": \"ISS\", \"name\": \"Bob Hines\"\\}, \\{\"craft\": \"ISS\", \"name\": \"Samantha Cristoforetti\"\\}, \\{\"craft\": \"ISS\", \"name\": \"Jessica Watkins\"\\}, \\{\"craft\": \"Tiangong\", \"name\": \"Cai Xuzhe\"\\}, \\{\"craft\": \"Tiangong\", \"name\": \"Chen Dong\"\\}, \\{\"craft\": \"Tiangong\", \"name\": \"Liu Yang\"\\}, \\{\"craft\": \"ISS\", \"name\": \"Sergey Prokopyev\"\\}, \\{\"craft\": \"ISS\", \"name\": \"Dmitry Petelin\"\\}, \\{\"craft\": \"ISS\", \"name\": \"Frank Rubio\"\\}, \\{\"craft\": \"Endurance\", \"name\": \"Nicole Mann\"\\}, \\{\"craft\": \"Endurance\", \"name\": \"Josh Cassada\"\\}, \\{\"craft\": \"Endurance\", \"name\": \"Koichi Wakata\"\\}, \\{\"craft\": \"Endurance\", \"name\": \"Anna Kikina\"\\}{]}\\}'"
      ],
      "text/markdown": [
       "'{\"number\": 14, \"message\": \"success\", \"people\": [{\"craft\": \"ISS\", \"name\": \"Kjell Lindgren\"}, {\"craft\": \"ISS\", \"name\": \"Bob Hines\"}, {\"craft\": \"ISS\", \"name\": \"Samantha Cristoforetti\"}, {\"craft\": \"ISS\", \"name\": \"Jessica Watkins\"}, {\"craft\": \"Tiangong\", \"name\": \"Cai Xuzhe\"}, {\"craft\": \"Tiangong\", \"name\": \"Chen Dong\"}, {\"craft\": \"Tiangong\", \"name\": \"Liu Yang\"}, {\"craft\": \"ISS\", \"name\": \"Sergey Prokopyev\"}, {\"craft\": \"ISS\", \"name\": \"Dmitry Petelin\"}, {\"craft\": \"ISS\", \"name\": \"Frank Rubio\"}, {\"craft\": \"Endurance\", \"name\": \"Nicole Mann\"}, {\"craft\": \"Endurance\", \"name\": \"Josh Cassada\"}, {\"craft\": \"Endurance\", \"name\": \"Koichi Wakata\"}, {\"craft\": \"Endurance\", \"name\": \"Anna Kikina\"}]}'"
      ],
      "text/plain": [
       "[1] \"{\\\"number\\\": 14, \\\"message\\\": \\\"success\\\", \\\"people\\\": [{\\\"craft\\\": \\\"ISS\\\", \\\"name\\\": \\\"Kjell Lindgren\\\"}, {\\\"craft\\\": \\\"ISS\\\", \\\"name\\\": \\\"Bob Hines\\\"}, {\\\"craft\\\": \\\"ISS\\\", \\\"name\\\": \\\"Samantha Cristoforetti\\\"}, {\\\"craft\\\": \\\"ISS\\\", \\\"name\\\": \\\"Jessica Watkins\\\"}, {\\\"craft\\\": \\\"Tiangong\\\", \\\"name\\\": \\\"Cai Xuzhe\\\"}, {\\\"craft\\\": \\\"Tiangong\\\", \\\"name\\\": \\\"Chen Dong\\\"}, {\\\"craft\\\": \\\"Tiangong\\\", \\\"name\\\": \\\"Liu Yang\\\"}, {\\\"craft\\\": \\\"ISS\\\", \\\"name\\\": \\\"Sergey Prokopyev\\\"}, {\\\"craft\\\": \\\"ISS\\\", \\\"name\\\": \\\"Dmitry Petelin\\\"}, {\\\"craft\\\": \\\"ISS\\\", \\\"name\\\": \\\"Frank Rubio\\\"}, {\\\"craft\\\": \\\"Endurance\\\", \\\"name\\\": \\\"Nicole Mann\\\"}, {\\\"craft\\\": \\\"Endurance\\\", \\\"name\\\": \\\"Josh Cassada\\\"}, {\\\"craft\\\": \\\"Endurance\\\", \\\"name\\\": \\\"Koichi Wakata\\\"}, {\\\"craft\\\": \\\"Endurance\\\", \\\"name\\\": \\\"Anna Kikina\\\"}]}\""
      ]
     },
     "metadata": {},
     "output_type": "display_data"
    }
   ],
   "source": [
    "rawToChar(result$content)"
   ]
  },
  {
   "cell_type": "code",
   "execution_count": 7,
   "id": "f4d00493-7421-4d44-a7a2-1b7d0604f06f",
   "metadata": {},
   "outputs": [
    {
     "data": {
      "text/html": [
       "<style>\n",
       ".list-inline {list-style: none; margin:0; padding: 0}\n",
       ".list-inline>li {display: inline-block}\n",
       ".list-inline>li:not(:last-child)::after {content: \"\\00b7\"; padding: 0 .5ex}\n",
       "</style>\n",
       "<ol class=list-inline><li>'number'</li><li>'message'</li><li>'people'</li></ol>\n"
      ],
      "text/latex": [
       "\\begin{enumerate*}\n",
       "\\item 'number'\n",
       "\\item 'message'\n",
       "\\item 'people'\n",
       "\\end{enumerate*}\n"
      ],
      "text/markdown": [
       "1. 'number'\n",
       "2. 'message'\n",
       "3. 'people'\n",
       "\n",
       "\n"
      ],
      "text/plain": [
       "[1] \"number\"  \"message\" \"people\" "
      ]
     },
     "metadata": {},
     "output_type": "display_data"
    }
   ],
   "source": [
    "data = fromJSON(rawToChar(result$content))\n",
    "names(data)"
   ]
  },
  {
   "cell_type": "code",
   "execution_count": 8,
   "id": "bec4701e-0b10-482c-b9f6-fd2ba1e27ec8",
   "metadata": {},
   "outputs": [],
   "source": [
    "space <- data$people"
   ]
  },
  {
   "cell_type": "code",
   "execution_count": 9,
   "id": "b8d615df-845b-4a22-81c0-6fac03af21bb",
   "metadata": {},
   "outputs": [
    {
     "data": {
      "text/html": [
       "<table class=\"dataframe\">\n",
       "<caption>A data.frame: 14 × 2</caption>\n",
       "<thead>\n",
       "\t<tr><th></th><th scope=col>craft</th><th scope=col>name</th></tr>\n",
       "\t<tr><th></th><th scope=col>&lt;chr&gt;</th><th scope=col>&lt;chr&gt;</th></tr>\n",
       "</thead>\n",
       "<tbody>\n",
       "\t<tr><th scope=row>1</th><td>ISS      </td><td>Kjell Lindgren        </td></tr>\n",
       "\t<tr><th scope=row>2</th><td>ISS      </td><td>Bob Hines             </td></tr>\n",
       "\t<tr><th scope=row>3</th><td>ISS      </td><td>Samantha Cristoforetti</td></tr>\n",
       "\t<tr><th scope=row>4</th><td>ISS      </td><td>Jessica Watkins       </td></tr>\n",
       "\t<tr><th scope=row>5</th><td>Tiangong </td><td>Cai Xuzhe             </td></tr>\n",
       "\t<tr><th scope=row>6</th><td>Tiangong </td><td>Chen Dong             </td></tr>\n",
       "\t<tr><th scope=row>7</th><td>Tiangong </td><td>Liu Yang              </td></tr>\n",
       "\t<tr><th scope=row>8</th><td>ISS      </td><td>Sergey Prokopyev      </td></tr>\n",
       "\t<tr><th scope=row>9</th><td>ISS      </td><td>Dmitry Petelin        </td></tr>\n",
       "\t<tr><th scope=row>10</th><td>ISS      </td><td>Frank Rubio           </td></tr>\n",
       "\t<tr><th scope=row>11</th><td>Endurance</td><td>Nicole Mann           </td></tr>\n",
       "\t<tr><th scope=row>12</th><td>Endurance</td><td>Josh Cassada          </td></tr>\n",
       "\t<tr><th scope=row>13</th><td>Endurance</td><td>Koichi Wakata         </td></tr>\n",
       "\t<tr><th scope=row>14</th><td>Endurance</td><td>Anna Kikina           </td></tr>\n",
       "</tbody>\n",
       "</table>\n"
      ],
      "text/latex": [
       "A data.frame: 14 × 2\n",
       "\\begin{tabular}{r|ll}\n",
       "  & craft & name\\\\\n",
       "  & <chr> & <chr>\\\\\n",
       "\\hline\n",
       "\t1 & ISS       & Kjell Lindgren        \\\\\n",
       "\t2 & ISS       & Bob Hines             \\\\\n",
       "\t3 & ISS       & Samantha Cristoforetti\\\\\n",
       "\t4 & ISS       & Jessica Watkins       \\\\\n",
       "\t5 & Tiangong  & Cai Xuzhe             \\\\\n",
       "\t6 & Tiangong  & Chen Dong             \\\\\n",
       "\t7 & Tiangong  & Liu Yang              \\\\\n",
       "\t8 & ISS       & Sergey Prokopyev      \\\\\n",
       "\t9 & ISS       & Dmitry Petelin        \\\\\n",
       "\t10 & ISS       & Frank Rubio           \\\\\n",
       "\t11 & Endurance & Nicole Mann           \\\\\n",
       "\t12 & Endurance & Josh Cassada          \\\\\n",
       "\t13 & Endurance & Koichi Wakata         \\\\\n",
       "\t14 & Endurance & Anna Kikina           \\\\\n",
       "\\end{tabular}\n"
      ],
      "text/markdown": [
       "\n",
       "A data.frame: 14 × 2\n",
       "\n",
       "| <!--/--> | craft &lt;chr&gt; | name &lt;chr&gt; |\n",
       "|---|---|---|\n",
       "| 1 | ISS       | Kjell Lindgren         |\n",
       "| 2 | ISS       | Bob Hines              |\n",
       "| 3 | ISS       | Samantha Cristoforetti |\n",
       "| 4 | ISS       | Jessica Watkins        |\n",
       "| 5 | Tiangong  | Cai Xuzhe              |\n",
       "| 6 | Tiangong  | Chen Dong              |\n",
       "| 7 | Tiangong  | Liu Yang               |\n",
       "| 8 | ISS       | Sergey Prokopyev       |\n",
       "| 9 | ISS       | Dmitry Petelin         |\n",
       "| 10 | ISS       | Frank Rubio            |\n",
       "| 11 | Endurance | Nicole Mann            |\n",
       "| 12 | Endurance | Josh Cassada           |\n",
       "| 13 | Endurance | Koichi Wakata          |\n",
       "| 14 | Endurance | Anna Kikina            |\n",
       "\n"
      ],
      "text/plain": [
       "   craft     name                  \n",
       "1  ISS       Kjell Lindgren        \n",
       "2  ISS       Bob Hines             \n",
       "3  ISS       Samantha Cristoforetti\n",
       "4  ISS       Jessica Watkins       \n",
       "5  Tiangong  Cai Xuzhe             \n",
       "6  Tiangong  Chen Dong             \n",
       "7  Tiangong  Liu Yang              \n",
       "8  ISS       Sergey Prokopyev      \n",
       "9  ISS       Dmitry Petelin        \n",
       "10 ISS       Frank Rubio           \n",
       "11 Endurance Nicole Mann           \n",
       "12 Endurance Josh Cassada          \n",
       "13 Endurance Koichi Wakata         \n",
       "14 Endurance Anna Kikina           "
      ]
     },
     "metadata": {},
     "output_type": "display_data"
    }
   ],
   "source": [
    "space"
   ]
  },
  {
   "cell_type": "code",
   "execution_count": null,
   "id": "1dd1c7ce-ec18-4198-b71f-741028f8bd92",
   "metadata": {},
   "outputs": [],
   "source": []
  }
 ],
 "metadata": {
  "kernelspec": {
   "display_name": "R",
   "language": "R",
   "name": "ir"
  },
  "language_info": {
   "codemirror_mode": "r",
   "file_extension": ".r",
   "mimetype": "text/x-r-source",
   "name": "R",
   "pygments_lexer": "r",
   "version": "4.2.1"
  }
 },
 "nbformat": 4,
 "nbformat_minor": 5
}

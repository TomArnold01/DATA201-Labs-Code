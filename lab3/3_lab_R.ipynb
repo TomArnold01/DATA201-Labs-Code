{
 "cells": [
  {
   "cell_type": "markdown",
   "metadata": {},
   "source": [
    "# Grouped Mutation"
   ]
  },
  {
   "cell_type": "markdown",
   "metadata": {},
   "source": [
    "We can use the variables within a dataframe to group together observation and operate on groups.\n",
    "\n",
    "The function we will use are `group_by`, to define the group, `mutate()`, to create new variable (we have already seen this one!), and `summarise()`, to reduce a dataframe compressing each group into one row."
   ]
  },
  {
   "cell_type": "code",
   "execution_count": 1,
   "metadata": {},
   "outputs": [
    {
     "name": "stderr",
     "output_type": "stream",
     "text": [
      "── \u001b[1mAttaching packages\u001b[22m ────────────────────────────────────────────────────────────────────────────── tidyverse 1.3.2 ──\n",
      "\u001b[32m✔\u001b[39m \u001b[34mggplot2\u001b[39m 3.3.6     \u001b[32m✔\u001b[39m \u001b[34mpurrr  \u001b[39m 0.3.4\n",
      "\u001b[32m✔\u001b[39m \u001b[34mtibble \u001b[39m 3.1.7     \u001b[32m✔\u001b[39m \u001b[34mdplyr  \u001b[39m 1.0.9\n",
      "\u001b[32m✔\u001b[39m \u001b[34mtidyr  \u001b[39m 1.2.0     \u001b[32m✔\u001b[39m \u001b[34mstringr\u001b[39m 1.4.0\n",
      "\u001b[32m✔\u001b[39m \u001b[34mreadr  \u001b[39m 2.1.2     \u001b[32m✔\u001b[39m \u001b[34mforcats\u001b[39m 0.5.1\n",
      "── \u001b[1mConflicts\u001b[22m ───────────────────────────────────────────────────────────────────────────────── tidyverse_conflicts() ──\n",
      "\u001b[31m✖\u001b[39m \u001b[34mdplyr\u001b[39m::\u001b[32mfilter()\u001b[39m masks \u001b[34mstats\u001b[39m::filter()\n",
      "\u001b[31m✖\u001b[39m \u001b[34mdplyr\u001b[39m::\u001b[32mlag()\u001b[39m    masks \u001b[34mstats\u001b[39m::lag()\n"
     ]
    }
   ],
   "source": [
    "library(tidyverse)\n",
    "library(singer)\n",
    "library(skimr) "
   ]
  },
  {
   "cell_type": "code",
   "execution_count": 2,
   "metadata": {},
   "outputs": [
    {
     "name": "stderr",
     "output_type": "stream",
     "text": [
      "Warning message:\n",
      "\"package 'skimr' is in use and will not be installed\"\n",
      "Downloading package from url: https://cran.r-project.org/src/contrib/Archive/skimr/skimr_2.0.tar.gz\n",
      "\n"
     ]
    },
    {
     "name": "stdout",
     "output_type": "stream",
     "text": [
      "rlang     (1.0.3 -> 1.0.4) [CRAN]\n",
      "tibble    (3.1.7 -> 3.1.8) [CRAN]\n",
      "htmltools (0.5.2 -> 0.5.3) [CRAN]\n"
     ]
    },
    {
     "name": "stderr",
     "output_type": "stream",
     "text": [
      "Installing 3 packages: rlang, tibble, htmltools\n",
      "\n",
      "Warning message:\n",
      "\"package 'tibble' is in use and will not be installed\"\n",
      "Installing packages into 'C:/Users/Tommy/AppData/Local/R/win-library/4.2'\n",
      "(as 'lib' is unspecified)\n",
      "\n",
      "Warning message in i.p(...):\n",
      "\"installation of package 'rlang' had non-zero exit status\"\n",
      "Warning message in i.p(...):\n",
      "\"installation of package 'htmltools' had non-zero exit status\"\n",
      "Warning message:\n",
      "\"package 'skimr' is in use and will not be installed\"\n"
     ]
    }
   ],
   "source": [
    "# run the line before to install skimr\n",
    "install.packages(\"skimr\")\n",
    "devtools::install_version(\"skimr\", version = \"2.0.0\")"
   ]
  },
  {
   "cell_type": "markdown",
   "metadata": {},
   "source": [
    "Consider the usual `singer_locations` example (and let's get rid of the zero years). One of the variable is `year`. We can use it to group the dataframe."
   ]
  },
  {
   "cell_type": "code",
   "execution_count": 2,
   "metadata": {},
   "outputs": [
    {
     "data": {
      "text/html": [
       "<table class=\"dataframe\">\n",
       "<caption>A grouped_df: 6 × 14</caption>\n",
       "<thead>\n",
       "\t<tr><th scope=col>track_id</th><th scope=col>title</th><th scope=col>song_id</th><th scope=col>release</th><th scope=col>artist_id</th><th scope=col>artist_name</th><th scope=col>year</th><th scope=col>duration</th><th scope=col>artist_hotttnesss</th><th scope=col>artist_familiarity</th><th scope=col>latitude</th><th scope=col>longitude</th><th scope=col>name</th><th scope=col>city</th></tr>\n",
       "\t<tr><th scope=col>&lt;chr&gt;</th><th scope=col>&lt;chr&gt;</th><th scope=col>&lt;chr&gt;</th><th scope=col>&lt;chr&gt;</th><th scope=col>&lt;chr&gt;</th><th scope=col>&lt;chr&gt;</th><th scope=col>&lt;int&gt;</th><th scope=col>&lt;dbl&gt;</th><th scope=col>&lt;dbl&gt;</th><th scope=col>&lt;dbl&gt;</th><th scope=col>&lt;dbl&gt;</th><th scope=col>&lt;dbl&gt;</th><th scope=col>&lt;chr&gt;</th><th scope=col>&lt;chr&gt;</th></tr>\n",
       "</thead>\n",
       "<tbody>\n",
       "\t<tr><td>TRWICRA128F42368DB</td><td>The Conversation (Cd)</td><td>SOSURTI12A81C22FB8</td><td>Even If It Kills Me</td><td>ARACDPV1187FB58DF4</td><td>Motion City Soundtrack        </td><td>2007</td><td>170.4485</td><td>0.6410183</td><td>0.8230522</td><td>      NA</td><td>       NA</td><td>NA           </td><td>NA          </td></tr>\n",
       "\t<tr><td>TRXJANY128F42246FC</td><td>Lonely Island        </td><td>SODESQP12A6D4F98EF</td><td>The Duke Of Earl   </td><td>ARYBUAO1187FB3F4EB</td><td>Gene Chandler                 </td><td>2004</td><td>106.5530</td><td>0.3937627</td><td>0.5700167</td><td>41.88415</td><td>-87.63241</td><td>Gene Chandler</td><td>Chicago, IL </td></tr>\n",
       "\t<tr><td>TRIKPCA128F424A553</td><td>Here's That Rainy Day</td><td>SOQUYQD12A8C131619</td><td>Imprompture        </td><td>AR4111G1187B9B58AB</td><td>Paul Horn                     </td><td>1998</td><td>527.5947</td><td>0.4306226</td><td>0.5039940</td><td>40.71455</td><td>-74.00712</td><td>Paul Horn    </td><td>New York, NY</td></tr>\n",
       "\t<tr><td>TRYEATD128F92F87C9</td><td><span style=white-space:pre-wrap>Rego Park Blues      </span></td><td>SOEZGRC12AB017F1AC</td><td><span style=white-space:pre-wrap>Still River        </span></td><td>ARQDZP31187B98D623</td><td>Ronnie Earl &amp; the Broadcasters</td><td>1995</td><td>695.1179</td><td>0.3622792</td><td>0.4773099</td><td><span style=white-space:pre-wrap>      NA</span></td><td><span style=white-space:pre-wrap>       NA</span></td><td><span style=white-space:pre-wrap>NA           </span></td><td><span style=white-space:pre-wrap>NA          </span></td></tr>\n",
       "\t<tr><td>TRBYYXH128F4264585</td><td>Games                </td><td>SOPIOCP12A8C13A322</td><td>Afro-Harping       </td><td>AR75GYU1187B9AE47A</td><td>Dorothy Ashby                 </td><td>1968</td><td>237.3220</td><td>0.4107520</td><td>0.5303468</td><td>42.33168</td><td>-83.04792</td><td>Dorothy Ashby</td><td>Detroit, MI </td></tr>\n",
       "\t<tr><td>TRKFFKR128F9303AE3</td><td>More Pipes           </td><td>SOHQSPY12AB0181325</td><td>Six Yanks          </td><td>ARCENE01187B9AF929</td><td>Barleyjuice                   </td><td>2006</td><td>192.9400</td><td>0.3762635</td><td>0.5412950</td><td>40.99471</td><td>-77.60454</td><td>Barleyjuice  </td><td>Pennsylvania</td></tr>\n",
       "</tbody>\n",
       "</table>\n"
      ],
      "text/latex": [
       "A grouped\\_df: 6 × 14\n",
       "\\begin{tabular}{llllllllllllll}\n",
       " track\\_id & title & song\\_id & release & artist\\_id & artist\\_name & year & duration & artist\\_hotttnesss & artist\\_familiarity & latitude & longitude & name & city\\\\\n",
       " <chr> & <chr> & <chr> & <chr> & <chr> & <chr> & <int> & <dbl> & <dbl> & <dbl> & <dbl> & <dbl> & <chr> & <chr>\\\\\n",
       "\\hline\n",
       "\t TRWICRA128F42368DB & The Conversation (Cd) & SOSURTI12A81C22FB8 & Even If It Kills Me & ARACDPV1187FB58DF4 & Motion City Soundtrack         & 2007 & 170.4485 & 0.6410183 & 0.8230522 &       NA &        NA & NA            & NA          \\\\\n",
       "\t TRXJANY128F42246FC & Lonely Island         & SODESQP12A6D4F98EF & The Duke Of Earl    & ARYBUAO1187FB3F4EB & Gene Chandler                  & 2004 & 106.5530 & 0.3937627 & 0.5700167 & 41.88415 & -87.63241 & Gene Chandler & Chicago, IL \\\\\n",
       "\t TRIKPCA128F424A553 & Here's That Rainy Day & SOQUYQD12A8C131619 & Imprompture         & AR4111G1187B9B58AB & Paul Horn                      & 1998 & 527.5947 & 0.4306226 & 0.5039940 & 40.71455 & -74.00712 & Paul Horn     & New York, NY\\\\\n",
       "\t TRYEATD128F92F87C9 & Rego Park Blues       & SOEZGRC12AB017F1AC & Still River         & ARQDZP31187B98D623 & Ronnie Earl \\& the Broadcasters & 1995 & 695.1179 & 0.3622792 & 0.4773099 &       NA &        NA & NA            & NA          \\\\\n",
       "\t TRBYYXH128F4264585 & Games                 & SOPIOCP12A8C13A322 & Afro-Harping        & AR75GYU1187B9AE47A & Dorothy Ashby                  & 1968 & 237.3220 & 0.4107520 & 0.5303468 & 42.33168 & -83.04792 & Dorothy Ashby & Detroit, MI \\\\\n",
       "\t TRKFFKR128F9303AE3 & More Pipes            & SOHQSPY12AB0181325 & Six Yanks           & ARCENE01187B9AF929 & Barleyjuice                    & 2006 & 192.9400 & 0.3762635 & 0.5412950 & 40.99471 & -77.60454 & Barleyjuice   & Pennsylvania\\\\\n",
       "\\end{tabular}\n"
      ],
      "text/markdown": [
       "\n",
       "A grouped_df: 6 × 14\n",
       "\n",
       "| track_id &lt;chr&gt; | title &lt;chr&gt; | song_id &lt;chr&gt; | release &lt;chr&gt; | artist_id &lt;chr&gt; | artist_name &lt;chr&gt; | year &lt;int&gt; | duration &lt;dbl&gt; | artist_hotttnesss &lt;dbl&gt; | artist_familiarity &lt;dbl&gt; | latitude &lt;dbl&gt; | longitude &lt;dbl&gt; | name &lt;chr&gt; | city &lt;chr&gt; |\n",
       "|---|---|---|---|---|---|---|---|---|---|---|---|---|---|\n",
       "| TRWICRA128F42368DB | The Conversation (Cd) | SOSURTI12A81C22FB8 | Even If It Kills Me | ARACDPV1187FB58DF4 | Motion City Soundtrack         | 2007 | 170.4485 | 0.6410183 | 0.8230522 |       NA |        NA | NA            | NA           |\n",
       "| TRXJANY128F42246FC | Lonely Island         | SODESQP12A6D4F98EF | The Duke Of Earl    | ARYBUAO1187FB3F4EB | Gene Chandler                  | 2004 | 106.5530 | 0.3937627 | 0.5700167 | 41.88415 | -87.63241 | Gene Chandler | Chicago, IL  |\n",
       "| TRIKPCA128F424A553 | Here's That Rainy Day | SOQUYQD12A8C131619 | Imprompture         | AR4111G1187B9B58AB | Paul Horn                      | 1998 | 527.5947 | 0.4306226 | 0.5039940 | 40.71455 | -74.00712 | Paul Horn     | New York, NY |\n",
       "| TRYEATD128F92F87C9 | Rego Park Blues       | SOEZGRC12AB017F1AC | Still River         | ARQDZP31187B98D623 | Ronnie Earl &amp; the Broadcasters | 1995 | 695.1179 | 0.3622792 | 0.4773099 |       NA |        NA | NA            | NA           |\n",
       "| TRBYYXH128F4264585 | Games                 | SOPIOCP12A8C13A322 | Afro-Harping        | AR75GYU1187B9AE47A | Dorothy Ashby                  | 1968 | 237.3220 | 0.4107520 | 0.5303468 | 42.33168 | -83.04792 | Dorothy Ashby | Detroit, MI  |\n",
       "| TRKFFKR128F9303AE3 | More Pipes            | SOHQSPY12AB0181325 | Six Yanks           | ARCENE01187B9AF929 | Barleyjuice                    | 2006 | 192.9400 | 0.3762635 | 0.5412950 | 40.99471 | -77.60454 | Barleyjuice   | Pennsylvania |\n",
       "\n"
      ],
      "text/plain": [
       "  track_id           title                 song_id           \n",
       "1 TRWICRA128F42368DB The Conversation (Cd) SOSURTI12A81C22FB8\n",
       "2 TRXJANY128F42246FC Lonely Island         SODESQP12A6D4F98EF\n",
       "3 TRIKPCA128F424A553 Here's That Rainy Day SOQUYQD12A8C131619\n",
       "4 TRYEATD128F92F87C9 Rego Park Blues       SOEZGRC12AB017F1AC\n",
       "5 TRBYYXH128F4264585 Games                 SOPIOCP12A8C13A322\n",
       "6 TRKFFKR128F9303AE3 More Pipes            SOHQSPY12AB0181325\n",
       "  release             artist_id          artist_name                    year\n",
       "1 Even If It Kills Me ARACDPV1187FB58DF4 Motion City Soundtrack         2007\n",
       "2 The Duke Of Earl    ARYBUAO1187FB3F4EB Gene Chandler                  2004\n",
       "3 Imprompture         AR4111G1187B9B58AB Paul Horn                      1998\n",
       "4 Still River         ARQDZP31187B98D623 Ronnie Earl & the Broadcasters 1995\n",
       "5 Afro-Harping        AR75GYU1187B9AE47A Dorothy Ashby                  1968\n",
       "6 Six Yanks           ARCENE01187B9AF929 Barleyjuice                    2006\n",
       "  duration artist_hotttnesss artist_familiarity latitude longitude\n",
       "1 170.4485 0.6410183         0.8230522                NA        NA\n",
       "2 106.5530 0.3937627         0.5700167          41.88415 -87.63241\n",
       "3 527.5947 0.4306226         0.5039940          40.71455 -74.00712\n",
       "4 695.1179 0.3622792         0.4773099                NA        NA\n",
       "5 237.3220 0.4107520         0.5303468          42.33168 -83.04792\n",
       "6 192.9400 0.3762635         0.5412950          40.99471 -77.60454\n",
       "  name          city        \n",
       "1 NA            NA          \n",
       "2 Gene Chandler Chicago, IL \n",
       "3 Paul Horn     New York, NY\n",
       "4 NA            NA          \n",
       "5 Dorothy Ashby Detroit, MI \n",
       "6 Barleyjuice   Pennsylvania"
      ]
     },
     "metadata": {},
     "output_type": "display_data"
    }
   ],
   "source": [
    "sl <- singer_locations %>%\n",
    "  filter(year != 0)\n",
    "\n",
    "sl %>%\n",
    "  group_by(year) %>%\n",
    "  head()"
   ]
  },
  {
   "cell_type": "markdown",
   "metadata": {},
   "source": [
    "Wait, this is **exactly** the same output we get when we don't group. Well, yes. The grouping is almost invisible. We can notice it if we look at the `class()` of the dataframe"
   ]
  },
  {
   "cell_type": "code",
   "execution_count": 6,
   "metadata": {},
   "outputs": [
    {
     "data": {
      "text/html": [
       "<style>\n",
       ".list-inline {list-style: none; margin:0; padding: 0}\n",
       ".list-inline>li {display: inline-block}\n",
       ".list-inline>li:not(:last-child)::after {content: \"\\00b7\"; padding: 0 .5ex}\n",
       "</style>\n",
       "<ol class=list-inline><li>'tbl_df'</li><li>'tbl'</li><li>'data.frame'</li></ol>\n"
      ],
      "text/latex": [
       "\\begin{enumerate*}\n",
       "\\item 'tbl\\_df'\n",
       "\\item 'tbl'\n",
       "\\item 'data.frame'\n",
       "\\end{enumerate*}\n"
      ],
      "text/markdown": [
       "1. 'tbl_df'\n",
       "2. 'tbl'\n",
       "3. 'data.frame'\n",
       "\n",
       "\n"
      ],
      "text/plain": [
       "[1] \"tbl_df\"     \"tbl\"        \"data.frame\""
      ]
     },
     "metadata": {},
     "output_type": "display_data"
    },
    {
     "data": {
      "text/html": [
       "<style>\n",
       ".list-inline {list-style: none; margin:0; padding: 0}\n",
       ".list-inline>li {display: inline-block}\n",
       ".list-inline>li:not(:last-child)::after {content: \"\\00b7\"; padding: 0 .5ex}\n",
       "</style>\n",
       "<ol class=list-inline><li>'grouped_df'</li><li>'tbl_df'</li><li>'tbl'</li><li>'data.frame'</li></ol>\n"
      ],
      "text/latex": [
       "\\begin{enumerate*}\n",
       "\\item 'grouped\\_df'\n",
       "\\item 'tbl\\_df'\n",
       "\\item 'tbl'\n",
       "\\item 'data.frame'\n",
       "\\end{enumerate*}\n"
      ],
      "text/markdown": [
       "1. 'grouped_df'\n",
       "2. 'tbl_df'\n",
       "3. 'tbl'\n",
       "4. 'data.frame'\n",
       "\n",
       "\n"
      ],
      "text/plain": [
       "[1] \"grouped_df\" \"tbl_df\"     \"tbl\"        \"data.frame\""
      ]
     },
     "metadata": {},
     "output_type": "display_data"
    }
   ],
   "source": [
    "sl %>% class()\n",
    "sl %>% group_by(year) %>% class()"
   ]
  },
  {
   "cell_type": "markdown",
   "metadata": {},
   "source": [
    "Yet, the grouping makes a lot of difference when we operate on the dataframe!  \n",
    "Let's use the function `summarise()` to see it."
   ]
  },
  {
   "cell_type": "code",
   "execution_count": 3,
   "metadata": {},
   "outputs": [
    {
     "data": {
      "text/html": [
       "<table class=\"dataframe\">\n",
       "<caption>A tibble: 1 × 1</caption>\n",
       "<thead>\n",
       "\t<tr><th scope=col>median_hotttnesss</th></tr>\n",
       "\t<tr><th scope=col>&lt;dbl&gt;</th></tr>\n",
       "</thead>\n",
       "<tbody>\n",
       "\t<tr><td>0.4103622</td></tr>\n",
       "</tbody>\n",
       "</table>\n"
      ],
      "text/latex": [
       "A tibble: 1 × 1\n",
       "\\begin{tabular}{l}\n",
       " median\\_hotttnesss\\\\\n",
       " <dbl>\\\\\n",
       "\\hline\n",
       "\t 0.4103622\\\\\n",
       "\\end{tabular}\n"
      ],
      "text/markdown": [
       "\n",
       "A tibble: 1 × 1\n",
       "\n",
       "| median_hotttnesss &lt;dbl&gt; |\n",
       "|---|\n",
       "| 0.4103622 |\n",
       "\n"
      ],
      "text/plain": [
       "  median_hotttnesss\n",
       "1 0.4103622        "
      ]
     },
     "metadata": {},
     "output_type": "display_data"
    }
   ],
   "source": [
    "sl %>%\n",
    "  summarise(median_hotttnesss = median(artist_hotttnesss))"
   ]
  },
  {
   "cell_type": "markdown",
   "metadata": {},
   "source": [
    "The function `summarise()` took the full column of `artist_hotttnesss` and computed the mean. One column, on value. However, if we group:"
   ]
  },
  {
   "cell_type": "code",
   "execution_count": 4,
   "metadata": {},
   "outputs": [
    {
     "data": {
      "text/html": [
       "<table class=\"dataframe\">\n",
       "<caption>A tibble: 6 × 2</caption>\n",
       "<thead>\n",
       "\t<tr><th scope=col>year</th><th scope=col>median_hotttnesss</th></tr>\n",
       "\t<tr><th scope=col>&lt;int&gt;</th><th scope=col>&lt;dbl&gt;</th></tr>\n",
       "</thead>\n",
       "<tbody>\n",
       "\t<tr><td>1922</td><td>0.3496206</td></tr>\n",
       "\t<tr><td>1926</td><td>0.3828469</td></tr>\n",
       "\t<tr><td>1927</td><td>0.3828469</td></tr>\n",
       "\t<tr><td>1929</td><td>0.3507879</td></tr>\n",
       "\t<tr><td>1937</td><td>0.3530357</td></tr>\n",
       "\t<tr><td>1940</td><td>0.3568980</td></tr>\n",
       "</tbody>\n",
       "</table>\n"
      ],
      "text/latex": [
       "A tibble: 6 × 2\n",
       "\\begin{tabular}{ll}\n",
       " year & median\\_hotttnesss\\\\\n",
       " <int> & <dbl>\\\\\n",
       "\\hline\n",
       "\t 1922 & 0.3496206\\\\\n",
       "\t 1926 & 0.3828469\\\\\n",
       "\t 1927 & 0.3828469\\\\\n",
       "\t 1929 & 0.3507879\\\\\n",
       "\t 1937 & 0.3530357\\\\\n",
       "\t 1940 & 0.3568980\\\\\n",
       "\\end{tabular}\n"
      ],
      "text/markdown": [
       "\n",
       "A tibble: 6 × 2\n",
       "\n",
       "| year &lt;int&gt; | median_hotttnesss &lt;dbl&gt; |\n",
       "|---|---|\n",
       "| 1922 | 0.3496206 |\n",
       "| 1926 | 0.3828469 |\n",
       "| 1927 | 0.3828469 |\n",
       "| 1929 | 0.3507879 |\n",
       "| 1937 | 0.3530357 |\n",
       "| 1940 | 0.3568980 |\n",
       "\n"
      ],
      "text/plain": [
       "  year median_hotttnesss\n",
       "1 1922 0.3496206        \n",
       "2 1926 0.3828469        \n",
       "3 1927 0.3828469        \n",
       "4 1929 0.3507879        \n",
       "5 1937 0.3530357        \n",
       "6 1940 0.3568980        "
      ]
     },
     "metadata": {},
     "output_type": "display_data"
    }
   ],
   "source": [
    "sl %>%\n",
    "group_by(year) %>%\n",
    "  summarise(median_hotttnesss = median(artist_hotttnesss)) %>%\n",
    "  head()"
   ]
  },
  {
   "cell_type": "markdown",
   "metadata": {},
   "source": [
    "Now we have one median for each year! Neat! We can use it to do some plotting:"
   ]
  },
  {
   "cell_type": "code",
   "execution_count": 13,
   "metadata": {},
   "outputs": [
    {
     "data": {
      "image/png": "[encoded data removed]",
      "text/plain": [
       "plot without title"
      ]
     },
     "metadata": {
      "image/png": {
       "height": 420,
       "width": 420
      }
     },
     "output_type": "display_data"
    }
   ],
   "source": [
    "sl %>%\n",
    "  group_by(year) %>%\n",
    "  summarise(median_hotttnesss = median(artist_hotttnesss)) %>%\n",
    "  ggplot(aes(x = year, y = median_hotttnesss)) +\n",
    "  geom_point() + theme_minimal()"
   ]
  },
  {
   "cell_type": "markdown",
   "metadata": {},
   "source": [
    "Without the grouping, we would have plotted many points for every year (one for each song in that year).\n",
    "\n",
    "Arguably, it is easier to see a possible trend in the previous plot than in the following."
   ]
  },
  {
   "cell_type": "code",
   "execution_count": 14,
   "metadata": {},
   "outputs": [
    {
     "data": {
      "image/png": "[encoded data removed]",
      "text/plain": [
       "plot without title"
      ]
     },
     "metadata": {
      "image/png": {
       "height": 420,
       "width": 420
      }
     },
     "output_type": "display_data"
    }
   ],
   "source": [
    "sl %>%\n",
    "  ggplot(aes(x = year, y = artist_hotttnesss)) +\n",
    "  geom_point() + theme_minimal()"
   ]
  },
  {
   "cell_type": "markdown",
   "metadata": {},
   "source": [
    "## Your turn!"
   ]
  },
  {
   "cell_type": "markdown",
   "metadata": {},
   "source": [
    "Compute the median song duration for each city and find the city with shortest and longest songs.  \n",
    "You will need to use `group_by()`, yet you can modify the code we just used."
   ]
  },
  {
   "cell_type": "code",
   "execution_count": 19,
   "metadata": {},
   "outputs": [
    {
     "data": {
      "image/png": "[encoded data removed]",
      "text/plain": [
       "plot without title"
      ]
     },
     "metadata": {
      "image/png": {
       "height": 420,
       "width": 420
      }
     },
     "output_type": "display_data"
    }
   ],
   "source": [
    "sl %>%\n",
    "   group_by(city) %>%\n",
    "   summarise(median_song = median(duration)) %>%\n",
    "   ggplot(aes(x = city, y = median_song)) +\n",
    "   geom_point() + theme_minimal()"
   ]
  },
  {
   "cell_type": "markdown",
   "metadata": {},
   "source": [
    "## Challenge 1: your turn!\n",
    "\n",
    "- Produce two new variables that are the rounding of latitude and longitude (you decide the rounding).  \n",
    "- Group artists by the new rounded latitude and longitude. \n",
    "- Use `tally()` to count how many rows fall in each group\n",
    "- Arrange by `n`umber of songs in each group"
   ]
  },
  {
   "cell_type": "code",
   "execution_count": 29,
   "metadata": {},
   "outputs": [
    {
     "data": {
      "text/html": [
       "<table class=\"dataframe\">\n",
       "<caption>A grouped_df: 981 × 3</caption>\n",
       "<thead>\n",
       "\t<tr><th scope=col>lat</th><th scope=col>long</th><th scope=col>n</th></tr>\n",
       "\t<tr><th scope=col>&lt;dbl&gt;</th><th scope=col>&lt;dbl&gt;</th><th scope=col>&lt;int&gt;</th></tr>\n",
       "</thead>\n",
       "<tbody>\n",
       "\t<tr><td>-45.87</td><td>170.50</td><td> 1</td></tr>\n",
       "\t<tr><td>-43.53</td><td>172.64</td><td> 1</td></tr>\n",
       "\t<tr><td>-41.28</td><td>174.77</td><td> 3</td></tr>\n",
       "\t<tr><td>-37.90</td><td>145.08</td><td> 1</td></tr>\n",
       "\t<tr><td>-37.89</td><td>175.47</td><td> 1</td></tr>\n",
       "\t<tr><td>-37.82</td><td>144.97</td><td> 9</td></tr>\n",
       "\t<tr><td>-37.09</td><td>-63.58</td><td> 5</td></tr>\n",
       "\t<tr><td>-36.88</td><td>174.77</td><td> 4</td></tr>\n",
       "\t<tr><td>-36.56</td><td>145.47</td><td> 2</td></tr>\n",
       "\t<tr><td>-36.36</td><td>144.70</td><td> 1</td></tr>\n",
       "\t<tr><td>-36.35</td><td>146.33</td><td> 3</td></tr>\n",
       "\t<tr><td>-35.71</td><td>-71.34</td><td> 1</td></tr>\n",
       "\t<tr><td>-35.31</td><td>149.13</td><td> 2</td></tr>\n",
       "\t<tr><td>-34.88</td><td>-56.17</td><td> 1</td></tr>\n",
       "\t<tr><td>-34.61</td><td>-58.37</td><td> 9</td></tr>\n",
       "\t<tr><td>-33.98</td><td> 22.66</td><td> 1</td></tr>\n",
       "\t<tr><td>-33.96</td><td> 25.62</td><td> 2</td></tr>\n",
       "\t<tr><td>-33.87</td><td>151.21</td><td>10</td></tr>\n",
       "\t<tr><td>-33.47</td><td>151.38</td><td> 1</td></tr>\n",
       "\t<tr><td>-33.46</td><td>-70.65</td><td> 1</td></tr>\n",
       "\t<tr><td>-32.83</td><td>147.32</td><td> 3</td></tr>\n",
       "\t<tr><td>-31.95</td><td>115.86</td><td> 2</td></tr>\n",
       "\t<tr><td>-30.91</td><td>152.68</td><td> 1</td></tr>\n",
       "\t<tr><td>-29.86</td><td> 31.04</td><td> 1</td></tr>\n",
       "\t<tr><td>-28.48</td><td> 24.68</td><td> 1</td></tr>\n",
       "\t<tr><td>-27.65</td><td>-51.15</td><td> 1</td></tr>\n",
       "\t<tr><td>-27.47</td><td>153.02</td><td> 1</td></tr>\n",
       "\t<tr><td>-25.75</td><td> 28.19</td><td> 1</td></tr>\n",
       "\t<tr><td>-25.29</td><td>152.84</td><td> 2</td></tr>\n",
       "\t<tr><td>-24.92</td><td>133.39</td><td>15</td></tr>\n",
       "\t<tr><td>⋮</td><td>⋮</td><td>⋮</td></tr>\n",
       "\t<tr><td>58.97</td><td>  5.73</td><td> 2</td></tr>\n",
       "\t<tr><td>59.27</td><td> 15.22</td><td> 2</td></tr>\n",
       "\t<tr><td>59.33</td><td> 18.06</td><td>15</td></tr>\n",
       "\t<tr><td>59.54</td><td>  5.36</td><td> 3</td></tr>\n",
       "\t<tr><td>59.56</td><td>  9.27</td><td> 3</td></tr>\n",
       "\t<tr><td>59.86</td><td> 17.64</td><td> 4</td></tr>\n",
       "\t<tr><td>59.91</td><td> 10.75</td><td> 7</td></tr>\n",
       "\t<tr><td>60.03</td><td> 13.70</td><td> 2</td></tr>\n",
       "\t<tr><td>60.17</td><td> 24.93</td><td>11</td></tr>\n",
       "\t<tr><td>60.21</td><td> 24.66</td><td> 3</td></tr>\n",
       "\t<tr><td>60.39</td><td>  5.33</td><td> 5</td></tr>\n",
       "\t<tr><td>61.50</td><td> 23.76</td><td> 3</td></tr>\n",
       "\t<tr><td>62.20</td><td> 17.55</td><td>41</td></tr>\n",
       "\t<tr><td>62.24</td><td> 25.75</td><td> 1</td></tr>\n",
       "\t<tr><td>62.31</td><td>  6.93</td><td> 1</td></tr>\n",
       "\t<tr><td>62.42</td><td>  6.21</td><td> 1</td></tr>\n",
       "\t<tr><td>63.14</td><td> 18.81</td><td> 1</td></tr>\n",
       "\t<tr><td>63.23</td><td> 29.33</td><td> 3</td></tr>\n",
       "\t<tr><td>63.41</td><td> 10.79</td><td> 1</td></tr>\n",
       "\t<tr><td>63.59</td><td> 27.12</td><td> 1</td></tr>\n",
       "\t<tr><td>63.83</td><td> 20.26</td><td> 6</td></tr>\n",
       "\t<tr><td>63.83</td><td> 23.14</td><td> 1</td></tr>\n",
       "\t<tr><td>63.96</td><td> 10.22</td><td> 3</td></tr>\n",
       "\t<tr><td>64.14</td><td>-21.90</td><td> 1</td></tr>\n",
       "\t<tr><td>64.47</td><td> 11.49</td><td> 2</td></tr>\n",
       "\t<tr><td>64.56</td><td> 12.67</td><td> 9</td></tr>\n",
       "\t<tr><td>64.95</td><td> 26.07</td><td>14</td></tr>\n",
       "\t<tr><td>64.96</td><td>-19.02</td><td> 1</td></tr>\n",
       "\t<tr><td>65.01</td><td> 25.47</td><td> 2</td></tr>\n",
       "\t<tr><td>69.65</td><td> 18.96</td><td> 2</td></tr>\n",
       "</tbody>\n",
       "</table>\n"
      ],
      "text/latex": [
       "A grouped\\_df: 981 × 3\n",
       "\\begin{tabular}{lll}\n",
       " lat & long & n\\\\\n",
       " <dbl> & <dbl> & <int>\\\\\n",
       "\\hline\n",
       "\t -45.87 & 170.50 &  1\\\\\n",
       "\t -43.53 & 172.64 &  1\\\\\n",
       "\t -41.28 & 174.77 &  3\\\\\n",
       "\t -37.90 & 145.08 &  1\\\\\n",
       "\t -37.89 & 175.47 &  1\\\\\n",
       "\t -37.82 & 144.97 &  9\\\\\n",
       "\t -37.09 & -63.58 &  5\\\\\n",
       "\t -36.88 & 174.77 &  4\\\\\n",
       "\t -36.56 & 145.47 &  2\\\\\n",
       "\t -36.36 & 144.70 &  1\\\\\n",
       "\t -36.35 & 146.33 &  3\\\\\n",
       "\t -35.71 & -71.34 &  1\\\\\n",
       "\t -35.31 & 149.13 &  2\\\\\n",
       "\t -34.88 & -56.17 &  1\\\\\n",
       "\t -34.61 & -58.37 &  9\\\\\n",
       "\t -33.98 &  22.66 &  1\\\\\n",
       "\t -33.96 &  25.62 &  2\\\\\n",
       "\t -33.87 & 151.21 & 10\\\\\n",
       "\t -33.47 & 151.38 &  1\\\\\n",
       "\t -33.46 & -70.65 &  1\\\\\n",
       "\t -32.83 & 147.32 &  3\\\\\n",
       "\t -31.95 & 115.86 &  2\\\\\n",
       "\t -30.91 & 152.68 &  1\\\\\n",
       "\t -29.86 &  31.04 &  1\\\\\n",
       "\t -28.48 &  24.68 &  1\\\\\n",
       "\t -27.65 & -51.15 &  1\\\\\n",
       "\t -27.47 & 153.02 &  1\\\\\n",
       "\t -25.75 &  28.19 &  1\\\\\n",
       "\t -25.29 & 152.84 &  2\\\\\n",
       "\t -24.92 & 133.39 & 15\\\\\n",
       "\t ⋮ & ⋮ & ⋮\\\\\n",
       "\t 58.97 &   5.73 &  2\\\\\n",
       "\t 59.27 &  15.22 &  2\\\\\n",
       "\t 59.33 &  18.06 & 15\\\\\n",
       "\t 59.54 &   5.36 &  3\\\\\n",
       "\t 59.56 &   9.27 &  3\\\\\n",
       "\t 59.86 &  17.64 &  4\\\\\n",
       "\t 59.91 &  10.75 &  7\\\\\n",
       "\t 60.03 &  13.70 &  2\\\\\n",
       "\t 60.17 &  24.93 & 11\\\\\n",
       "\t 60.21 &  24.66 &  3\\\\\n",
       "\t 60.39 &   5.33 &  5\\\\\n",
       "\t 61.50 &  23.76 &  3\\\\\n",
       "\t 62.20 &  17.55 & 41\\\\\n",
       "\t 62.24 &  25.75 &  1\\\\\n",
       "\t 62.31 &   6.93 &  1\\\\\n",
       "\t 62.42 &   6.21 &  1\\\\\n",
       "\t 63.14 &  18.81 &  1\\\\\n",
       "\t 63.23 &  29.33 &  3\\\\\n",
       "\t 63.41 &  10.79 &  1\\\\\n",
       "\t 63.59 &  27.12 &  1\\\\\n",
       "\t 63.83 &  20.26 &  6\\\\\n",
       "\t 63.83 &  23.14 &  1\\\\\n",
       "\t 63.96 &  10.22 &  3\\\\\n",
       "\t 64.14 & -21.90 &  1\\\\\n",
       "\t 64.47 &  11.49 &  2\\\\\n",
       "\t 64.56 &  12.67 &  9\\\\\n",
       "\t 64.95 &  26.07 & 14\\\\\n",
       "\t 64.96 & -19.02 &  1\\\\\n",
       "\t 65.01 &  25.47 &  2\\\\\n",
       "\t 69.65 &  18.96 &  2\\\\\n",
       "\\end{tabular}\n"
      ],
      "text/markdown": [
       "\n",
       "A grouped_df: 981 × 3\n",
       "\n",
       "| lat &lt;dbl&gt; | long &lt;dbl&gt; | n &lt;int&gt; |\n",
       "|---|---|---|\n",
       "| -45.87 | 170.50 |  1 |\n",
       "| -43.53 | 172.64 |  1 |\n",
       "| -41.28 | 174.77 |  3 |\n",
       "| -37.90 | 145.08 |  1 |\n",
       "| -37.89 | 175.47 |  1 |\n",
       "| -37.82 | 144.97 |  9 |\n",
       "| -37.09 | -63.58 |  5 |\n",
       "| -36.88 | 174.77 |  4 |\n",
       "| -36.56 | 145.47 |  2 |\n",
       "| -36.36 | 144.70 |  1 |\n",
       "| -36.35 | 146.33 |  3 |\n",
       "| -35.71 | -71.34 |  1 |\n",
       "| -35.31 | 149.13 |  2 |\n",
       "| -34.88 | -56.17 |  1 |\n",
       "| -34.61 | -58.37 |  9 |\n",
       "| -33.98 |  22.66 |  1 |\n",
       "| -33.96 |  25.62 |  2 |\n",
       "| -33.87 | 151.21 | 10 |\n",
       "| -33.47 | 151.38 |  1 |\n",
       "| -33.46 | -70.65 |  1 |\n",
       "| -32.83 | 147.32 |  3 |\n",
       "| -31.95 | 115.86 |  2 |\n",
       "| -30.91 | 152.68 |  1 |\n",
       "| -29.86 |  31.04 |  1 |\n",
       "| -28.48 |  24.68 |  1 |\n",
       "| -27.65 | -51.15 |  1 |\n",
       "| -27.47 | 153.02 |  1 |\n",
       "| -25.75 |  28.19 |  1 |\n",
       "| -25.29 | 152.84 |  2 |\n",
       "| -24.92 | 133.39 | 15 |\n",
       "| ⋮ | ⋮ | ⋮ |\n",
       "| 58.97 |   5.73 |  2 |\n",
       "| 59.27 |  15.22 |  2 |\n",
       "| 59.33 |  18.06 | 15 |\n",
       "| 59.54 |   5.36 |  3 |\n",
       "| 59.56 |   9.27 |  3 |\n",
       "| 59.86 |  17.64 |  4 |\n",
       "| 59.91 |  10.75 |  7 |\n",
       "| 60.03 |  13.70 |  2 |\n",
       "| 60.17 |  24.93 | 11 |\n",
       "| 60.21 |  24.66 |  3 |\n",
       "| 60.39 |   5.33 |  5 |\n",
       "| 61.50 |  23.76 |  3 |\n",
       "| 62.20 |  17.55 | 41 |\n",
       "| 62.24 |  25.75 |  1 |\n",
       "| 62.31 |   6.93 |  1 |\n",
       "| 62.42 |   6.21 |  1 |\n",
       "| 63.14 |  18.81 |  1 |\n",
       "| 63.23 |  29.33 |  3 |\n",
       "| 63.41 |  10.79 |  1 |\n",
       "| 63.59 |  27.12 |  1 |\n",
       "| 63.83 |  20.26 |  6 |\n",
       "| 63.83 |  23.14 |  1 |\n",
       "| 63.96 |  10.22 |  3 |\n",
       "| 64.14 | -21.90 |  1 |\n",
       "| 64.47 |  11.49 |  2 |\n",
       "| 64.56 |  12.67 |  9 |\n",
       "| 64.95 |  26.07 | 14 |\n",
       "| 64.96 | -19.02 |  1 |\n",
       "| 65.01 |  25.47 |  2 |\n",
       "| 69.65 |  18.96 |  2 |\n",
       "\n"
      ],
      "text/plain": [
       "    lat    long   n \n",
       "1   -45.87 170.50  1\n",
       "2   -43.53 172.64  1\n",
       "3   -41.28 174.77  3\n",
       "4   -37.90 145.08  1\n",
       "5   -37.89 175.47  1\n",
       "6   -37.82 144.97  9\n",
       "7   -37.09 -63.58  5\n",
       "8   -36.88 174.77  4\n",
       "9   -36.56 145.47  2\n",
       "10  -36.36 144.70  1\n",
       "11  -36.35 146.33  3\n",
       "12  -35.71 -71.34  1\n",
       "13  -35.31 149.13  2\n",
       "14  -34.88 -56.17  1\n",
       "15  -34.61 -58.37  9\n",
       "16  -33.98  22.66  1\n",
       "17  -33.96  25.62  2\n",
       "18  -33.87 151.21 10\n",
       "19  -33.47 151.38  1\n",
       "20  -33.46 -70.65  1\n",
       "21  -32.83 147.32  3\n",
       "22  -31.95 115.86  2\n",
       "23  -30.91 152.68  1\n",
       "24  -29.86  31.04  1\n",
       "25  -28.48  24.68  1\n",
       "26  -27.65 -51.15  1\n",
       "27  -27.47 153.02  1\n",
       "28  -25.75  28.19  1\n",
       "29  -25.29 152.84  2\n",
       "30  -24.92 133.39 15\n",
       "⋮   ⋮      ⋮      ⋮ \n",
       "952 58.97    5.73  2\n",
       "953 59.27   15.22  2\n",
       "954 59.33   18.06 15\n",
       "955 59.54    5.36  3\n",
       "956 59.56    9.27  3\n",
       "957 59.86   17.64  4\n",
       "958 59.91   10.75  7\n",
       "959 60.03   13.70  2\n",
       "960 60.17   24.93 11\n",
       "961 60.21   24.66  3\n",
       "962 60.39    5.33  5\n",
       "963 61.50   23.76  3\n",
       "964 62.20   17.55 41\n",
       "965 62.24   25.75  1\n",
       "966 62.31    6.93  1\n",
       "967 62.42    6.21  1\n",
       "968 63.14   18.81  1\n",
       "969 63.23   29.33  3\n",
       "970 63.41   10.79  1\n",
       "971 63.59   27.12  1\n",
       "972 63.83   20.26  6\n",
       "973 63.83   23.14  1\n",
       "974 63.96   10.22  3\n",
       "975 64.14  -21.90  1\n",
       "976 64.47   11.49  2\n",
       "977 64.56   12.67  9\n",
       "978 64.95   26.07 14\n",
       "979 64.96  -19.02  1\n",
       "980 65.01   25.47  2\n",
       "981 69.65   18.96  2"
      ]
     },
     "metadata": {},
     "output_type": "display_data"
    }
   ],
   "source": [
    "singer_locations %>%\n",
    "    mutate(lat = latitude %>% round(digits = 2), \n",
    "         long = longitude %>% round(digits = 2)) %>%\n",
    "   group_by(lat, long) %>%\n",
    "   filter(!is.na(latitude), !is.na(longitude)) %>%\n",
    "   tally()"
   ]
  },
  {
   "cell_type": "markdown",
   "metadata": {},
   "source": [
    "# Wide, Long, Tidy, Groupy"
   ]
  },
  {
   "cell_type": "markdown",
   "metadata": {},
   "source": [
    "Dataframes can have differen shape: some are longer, some are wider, some are messy, some are tidy.  \n",
    "\n",
    "Consider for examples the two following dataframes."
   ]
  },
  {
   "cell_type": "markdown",
   "metadata": {},
   "source": [
    "The dataframes will contain information about the best band in certain decades for a certain musical style.  \n",
    "The choice is mine ;-)"
   ]
  },
  {
   "cell_type": "code",
   "execution_count": 30,
   "metadata": {},
   "outputs": [
    {
     "data": {
      "text/html": [
       "<table class=\"dataframe\">\n",
       "<caption>A tibble: 6 × 3</caption>\n",
       "<thead>\n",
       "\t<tr><th scope=col>Style</th><th scope=col>Decade</th><th scope=col>Band</th></tr>\n",
       "\t<tr><th scope=col>&lt;chr&gt;</th><th scope=col>&lt;dbl&gt;</th><th scope=col>&lt;chr&gt;</th></tr>\n",
       "</thead>\n",
       "<tbody>\n",
       "\t<tr><td>punk </td><td>1980</td><td>Ramones   </td></tr>\n",
       "\t<tr><td>punk </td><td>1990</td><td>Pennywise </td></tr>\n",
       "\t<tr><td>punk </td><td>2000</td><td>Black Flag</td></tr>\n",
       "\t<tr><td>metal</td><td>1980</td><td>Metallica </td></tr>\n",
       "\t<tr><td>metal</td><td>1990</td><td>Sepultura </td></tr>\n",
       "\t<tr><td>metal</td><td>2000</td><td>Gojira    </td></tr>\n",
       "</tbody>\n",
       "</table>\n"
      ],
      "text/latex": [
       "A tibble: 6 × 3\n",
       "\\begin{tabular}{lll}\n",
       " Style & Decade & Band\\\\\n",
       " <chr> & <dbl> & <chr>\\\\\n",
       "\\hline\n",
       "\t punk  & 1980 & Ramones   \\\\\n",
       "\t punk  & 1990 & Pennywise \\\\\n",
       "\t punk  & 2000 & Black Flag\\\\\n",
       "\t metal & 1980 & Metallica \\\\\n",
       "\t metal & 1990 & Sepultura \\\\\n",
       "\t metal & 2000 & Gojira    \\\\\n",
       "\\end{tabular}\n"
      ],
      "text/markdown": [
       "\n",
       "A tibble: 6 × 3\n",
       "\n",
       "| Style &lt;chr&gt; | Decade &lt;dbl&gt; | Band &lt;chr&gt; |\n",
       "|---|---|---|\n",
       "| punk  | 1980 | Ramones    |\n",
       "| punk  | 1990 | Pennywise  |\n",
       "| punk  | 2000 | Black Flag |\n",
       "| metal | 1980 | Metallica  |\n",
       "| metal | 1990 | Sepultura  |\n",
       "| metal | 2000 | Gojira     |\n",
       "\n"
      ],
      "text/plain": [
       "  Style Decade Band      \n",
       "1 punk  1980   Ramones   \n",
       "2 punk  1990   Pennywise \n",
       "3 punk  2000   Black Flag\n",
       "4 metal 1980   Metallica \n",
       "5 metal 1990   Sepultura \n",
       "6 metal 2000   Gojira    "
      ]
     },
     "metadata": {},
     "output_type": "display_data"
    },
    {
     "data": {
      "text/html": [
       "<table class=\"dataframe\">\n",
       "<caption>A tibble: 2 × 4</caption>\n",
       "<thead>\n",
       "\t<tr><th scope=col>Style</th><th scope=col>1980</th><th scope=col>1990</th><th scope=col>2000</th></tr>\n",
       "\t<tr><th scope=col>&lt;chr&gt;</th><th scope=col>&lt;chr&gt;</th><th scope=col>&lt;chr&gt;</th><th scope=col>&lt;chr&gt;</th></tr>\n",
       "</thead>\n",
       "<tbody>\n",
       "\t<tr><td>punk </td><td>Ramones  </td><td>Pennywise</td><td>Black Flag</td></tr>\n",
       "\t<tr><td>metal</td><td>Metallica</td><td>Sepultura</td><td>Gojira    </td></tr>\n",
       "</tbody>\n",
       "</table>\n"
      ],
      "text/latex": [
       "A tibble: 2 × 4\n",
       "\\begin{tabular}{llll}\n",
       " Style & 1980 & 1990 & 2000\\\\\n",
       " <chr> & <chr> & <chr> & <chr>\\\\\n",
       "\\hline\n",
       "\t punk  & Ramones   & Pennywise & Black Flag\\\\\n",
       "\t metal & Metallica & Sepultura & Gojira    \\\\\n",
       "\\end{tabular}\n"
      ],
      "text/markdown": [
       "\n",
       "A tibble: 2 × 4\n",
       "\n",
       "| Style &lt;chr&gt; | 1980 &lt;chr&gt; | 1990 &lt;chr&gt; | 2000 &lt;chr&gt; |\n",
       "|---|---|---|---|\n",
       "| punk  | Ramones   | Pennywise | Black Flag |\n",
       "| metal | Metallica | Sepultura | Gojira     |\n",
       "\n"
      ],
      "text/plain": [
       "  Style 1980      1990      2000      \n",
       "1 punk  Ramones   Pennywise Black Flag\n",
       "2 metal Metallica Sepultura Gojira    "
      ]
     },
     "metadata": {},
     "output_type": "display_data"
    }
   ],
   "source": [
    "long_df <- tibble(\n",
    "  Style = c(\"punk\",\"punk\",\"punk\",\"metal\",\"metal\",\"metal\"),\n",
    "  Decade = c(1980,1990,2000,1980,1990,2000),\n",
    "  Band = c(\"Ramones\",\"Pennywise\",\"Black Flag\",\"Metallica\",\"Sepultura\",\"Gojira\")\n",
    ")\n",
    "wide_df <- tibble(\n",
    "  Style = c(\"punk\",\"metal\"),\n",
    "  `1980` = c(\"Ramones\",\"Metallica\"),\n",
    "  `1990` = c(\"Pennywise\",\"Sepultura\"),\n",
    "  `2000` = c(\"Black Flag\",\"Gojira\")\n",
    ")\n",
    "long_df\n",
    "wide_df"
   ]
  },
  {
   "cell_type": "markdown",
   "metadata": {},
   "source": [
    "## Reflect:\n",
    "Do the two dataframe contain the same information?\n",
    "  \n",
    "     \n",
    "> Yes both contain the same information just displayed in different ways (the second it easier to read). "
   ]
  },
  {
   "cell_type": "markdown",
   "metadata": {},
   "source": [
    "In fact, we can go from one shape to the other of that dataframe without loosing information.\n",
    "\n",
    "To go from the long (many rows) to the wide (many columns) format we use `spread()`."
   ]
  },
  {
   "cell_type": "code",
   "execution_count": 35,
   "metadata": {},
   "outputs": [
    {
     "data": {
      "text/html": [
       "<table class=\"dataframe\">\n",
       "<caption>A tibble: 2 × 4</caption>\n",
       "<thead>\n",
       "\t<tr><th scope=col>Style</th><th scope=col>1980</th><th scope=col>1990</th><th scope=col>2000</th></tr>\n",
       "\t<tr><th scope=col>&lt;chr&gt;</th><th scope=col>&lt;chr&gt;</th><th scope=col>&lt;chr&gt;</th><th scope=col>&lt;chr&gt;</th></tr>\n",
       "</thead>\n",
       "<tbody>\n",
       "\t<tr><td>metal</td><td>Metallica</td><td>Sepultura</td><td>Gojira    </td></tr>\n",
       "\t<tr><td>punk </td><td>Ramones  </td><td>Pennywise</td><td>Black Flag</td></tr>\n",
       "</tbody>\n",
       "</table>\n"
      ],
      "text/latex": [
       "A tibble: 2 × 4\n",
       "\\begin{tabular}{llll}\n",
       " Style & 1980 & 1990 & 2000\\\\\n",
       " <chr> & <chr> & <chr> & <chr>\\\\\n",
       "\\hline\n",
       "\t metal & Metallica & Sepultura & Gojira    \\\\\n",
       "\t punk  & Ramones   & Pennywise & Black Flag\\\\\n",
       "\\end{tabular}\n"
      ],
      "text/markdown": [
       "\n",
       "A tibble: 2 × 4\n",
       "\n",
       "| Style &lt;chr&gt; | 1980 &lt;chr&gt; | 1990 &lt;chr&gt; | 2000 &lt;chr&gt; |\n",
       "|---|---|---|---|\n",
       "| metal | Metallica | Sepultura | Gojira     |\n",
       "| punk  | Ramones   | Pennywise | Black Flag |\n",
       "\n"
      ],
      "text/plain": [
       "  Style 1980      1990      2000      \n",
       "1 metal Metallica Sepultura Gojira    \n",
       "2 punk  Ramones   Pennywise Black Flag"
      ]
     },
     "metadata": {},
     "output_type": "display_data"
    }
   ],
   "source": [
    "long_df %>%\n",
    "  spread(key = Decade,\n",
    "         value = Band)"
   ]
  },
  {
   "cell_type": "code",
   "execution_count": 36,
   "metadata": {},
   "outputs": [
    {
     "data": {
      "text/html": [
       "<table class=\"dataframe\">\n",
       "<caption>A tibble: 6 × 3</caption>\n",
       "<thead>\n",
       "\t<tr><th scope=col>Style</th><th scope=col>Decade</th><th scope=col>Band</th></tr>\n",
       "\t<tr><th scope=col>&lt;chr&gt;</th><th scope=col>&lt;chr&gt;</th><th scope=col>&lt;chr&gt;</th></tr>\n",
       "</thead>\n",
       "<tbody>\n",
       "\t<tr><td>punk </td><td>1980</td><td>Ramones   </td></tr>\n",
       "\t<tr><td>metal</td><td>1980</td><td>Metallica </td></tr>\n",
       "\t<tr><td>punk </td><td>1990</td><td>Pennywise </td></tr>\n",
       "\t<tr><td>metal</td><td>1990</td><td>Sepultura </td></tr>\n",
       "\t<tr><td>punk </td><td>2000</td><td>Black Flag</td></tr>\n",
       "\t<tr><td>metal</td><td>2000</td><td>Gojira    </td></tr>\n",
       "</tbody>\n",
       "</table>\n"
      ],
      "text/latex": [
       "A tibble: 6 × 3\n",
       "\\begin{tabular}{lll}\n",
       " Style & Decade & Band\\\\\n",
       " <chr> & <chr> & <chr>\\\\\n",
       "\\hline\n",
       "\t punk  & 1980 & Ramones   \\\\\n",
       "\t metal & 1980 & Metallica \\\\\n",
       "\t punk  & 1990 & Pennywise \\\\\n",
       "\t metal & 1990 & Sepultura \\\\\n",
       "\t punk  & 2000 & Black Flag\\\\\n",
       "\t metal & 2000 & Gojira    \\\\\n",
       "\\end{tabular}\n"
      ],
      "text/markdown": [
       "\n",
       "A tibble: 6 × 3\n",
       "\n",
       "| Style &lt;chr&gt; | Decade &lt;chr&gt; | Band &lt;chr&gt; |\n",
       "|---|---|---|\n",
       "| punk  | 1980 | Ramones    |\n",
       "| metal | 1980 | Metallica  |\n",
       "| punk  | 1990 | Pennywise  |\n",
       "| metal | 1990 | Sepultura  |\n",
       "| punk  | 2000 | Black Flag |\n",
       "| metal | 2000 | Gojira     |\n",
       "\n"
      ],
      "text/plain": [
       "  Style Decade Band      \n",
       "1 punk  1980   Ramones   \n",
       "2 metal 1980   Metallica \n",
       "3 punk  1990   Pennywise \n",
       "4 metal 1990   Sepultura \n",
       "5 punk  2000   Black Flag\n",
       "6 metal 2000   Gojira    "
      ]
     },
     "metadata": {},
     "output_type": "display_data"
    }
   ],
   "source": [
    "wide_df %>%\n",
    "  gather(key = Decade,\n",
    "         value = Band,\n",
    "         -Style)"
   ]
  },
  {
   "cell_type": "markdown",
   "metadata": {},
   "source": [
    "Yet, consider the following dataframe, where we added one metal band in the 1980s."
   ]
  },
  {
   "cell_type": "code",
   "execution_count": 37,
   "metadata": {},
   "outputs": [
    {
     "data": {
      "text/html": [
       "<table class=\"dataframe\">\n",
       "<caption>A tibble: 7 × 3</caption>\n",
       "<thead>\n",
       "\t<tr><th scope=col>Style</th><th scope=col>Decade</th><th scope=col>Band</th></tr>\n",
       "\t<tr><th scope=col>&lt;chr&gt;</th><th scope=col>&lt;dbl&gt;</th><th scope=col>&lt;chr&gt;</th></tr>\n",
       "</thead>\n",
       "<tbody>\n",
       "\t<tr><td>punk </td><td>1980</td><td>Ramones   </td></tr>\n",
       "\t<tr><td>punk </td><td>1990</td><td>Pennywise </td></tr>\n",
       "\t<tr><td>punk </td><td>2000</td><td>Black Flag</td></tr>\n",
       "\t<tr><td>metal</td><td>1980</td><td>Metallica </td></tr>\n",
       "\t<tr><td>metal</td><td>1990</td><td>Sepultura </td></tr>\n",
       "\t<tr><td>metal</td><td>2000</td><td>Gojira    </td></tr>\n",
       "\t<tr><td>metal</td><td>1980</td><td>Megadeth  </td></tr>\n",
       "</tbody>\n",
       "</table>\n"
      ],
      "text/latex": [
       "A tibble: 7 × 3\n",
       "\\begin{tabular}{lll}\n",
       " Style & Decade & Band\\\\\n",
       " <chr> & <dbl> & <chr>\\\\\n",
       "\\hline\n",
       "\t punk  & 1980 & Ramones   \\\\\n",
       "\t punk  & 1990 & Pennywise \\\\\n",
       "\t punk  & 2000 & Black Flag\\\\\n",
       "\t metal & 1980 & Metallica \\\\\n",
       "\t metal & 1990 & Sepultura \\\\\n",
       "\t metal & 2000 & Gojira    \\\\\n",
       "\t metal & 1980 & Megadeth  \\\\\n",
       "\\end{tabular}\n"
      ],
      "text/markdown": [
       "\n",
       "A tibble: 7 × 3\n",
       "\n",
       "| Style &lt;chr&gt; | Decade &lt;dbl&gt; | Band &lt;chr&gt; |\n",
       "|---|---|---|\n",
       "| punk  | 1980 | Ramones    |\n",
       "| punk  | 1990 | Pennywise  |\n",
       "| punk  | 2000 | Black Flag |\n",
       "| metal | 1980 | Metallica  |\n",
       "| metal | 1990 | Sepultura  |\n",
       "| metal | 2000 | Gojira     |\n",
       "| metal | 1980 | Megadeth   |\n",
       "\n"
      ],
      "text/plain": [
       "  Style Decade Band      \n",
       "1 punk  1980   Ramones   \n",
       "2 punk  1990   Pennywise \n",
       "3 punk  2000   Black Flag\n",
       "4 metal 1980   Metallica \n",
       "5 metal 1990   Sepultura \n",
       "6 metal 2000   Gojira    \n",
       "7 metal 1980   Megadeth  "
      ]
     },
     "metadata": {},
     "output_type": "display_data"
    }
   ],
   "source": [
    "long_df_2 <- long_df %>%\n",
    " add_row(\n",
    "   Style = \"metal\", Decade = 1980, Band = \"Megadeth\"\n",
    " )\n",
    "long_df_2"
   ]
  },
  {
   "cell_type": "markdown",
   "metadata": {},
   "source": [
    "If we try to go back to the wide format:"
   ]
  },
  {
   "cell_type": "code",
   "execution_count": 2,
   "metadata": {},
   "outputs": [
    {
     "ename": "ERROR",
     "evalue": "Error in spread(., key = Decade, value = Band): object 'long_df_2' not found\n",
     "output_type": "error",
     "traceback": [
      "Error in spread(., key = Decade, value = Band): object 'long_df_2' not found\nTraceback:\n",
      "1. long_df_2 %>% spread(key = Decade, value = Band)",
      "2. spread(., key = Decade, value = Band)"
     ]
    }
   ],
   "source": [
    "long_df_2 %>%\n",
    "  spread(key = Decade,\n",
    "         value = Band)"
   ]
  },
  {
   "cell_type": "markdown",
   "metadata": {},
   "source": [
    "We get an error: in the wide format there was space only for 1 band in Metal, 1980.  \n",
    "In the long format, we can have many.\n",
    "\n",
    "Think about the `Style` and `Decade` as the \"address\" of a `band`.  \n",
    "If every band has a unique \"address\", then we can go back and forth between long and wide formats.  \n",
    "\n",
    "In the following example, we will remove part of the \"address\": we will not be able to spread anymore."
   ]
  },
  {
   "cell_type": "code",
   "execution_count": 39,
   "metadata": {},
   "outputs": [
    {
     "data": {
      "text/html": [
       "<table class=\"dataframe\">\n",
       "<caption>A tibble: 6 × 2</caption>\n",
       "<thead>\n",
       "\t<tr><th scope=col>Decade</th><th scope=col>Band</th></tr>\n",
       "\t<tr><th scope=col>&lt;dbl&gt;</th><th scope=col>&lt;chr&gt;</th></tr>\n",
       "</thead>\n",
       "<tbody>\n",
       "\t<tr><td>1980</td><td>Ramones   </td></tr>\n",
       "\t<tr><td>1990</td><td>Pennywise </td></tr>\n",
       "\t<tr><td>2000</td><td>Black Flag</td></tr>\n",
       "\t<tr><td>1980</td><td>Metallica </td></tr>\n",
       "\t<tr><td>1990</td><td>Sepultura </td></tr>\n",
       "\t<tr><td>2000</td><td>Gojira    </td></tr>\n",
       "</tbody>\n",
       "</table>\n"
      ],
      "text/latex": [
       "A tibble: 6 × 2\n",
       "\\begin{tabular}{ll}\n",
       " Decade & Band\\\\\n",
       " <dbl> & <chr>\\\\\n",
       "\\hline\n",
       "\t 1980 & Ramones   \\\\\n",
       "\t 1990 & Pennywise \\\\\n",
       "\t 2000 & Black Flag\\\\\n",
       "\t 1980 & Metallica \\\\\n",
       "\t 1990 & Sepultura \\\\\n",
       "\t 2000 & Gojira    \\\\\n",
       "\\end{tabular}\n"
      ],
      "text/markdown": [
       "\n",
       "A tibble: 6 × 2\n",
       "\n",
       "| Decade &lt;dbl&gt; | Band &lt;chr&gt; |\n",
       "|---|---|\n",
       "| 1980 | Ramones    |\n",
       "| 1990 | Pennywise  |\n",
       "| 2000 | Black Flag |\n",
       "| 1980 | Metallica  |\n",
       "| 1990 | Sepultura  |\n",
       "| 2000 | Gojira     |\n",
       "\n"
      ],
      "text/plain": [
       "  Decade Band      \n",
       "1 1980   Ramones   \n",
       "2 1990   Pennywise \n",
       "3 2000   Black Flag\n",
       "4 1980   Metallica \n",
       "5 1990   Sepultura \n",
       "6 2000   Gojira    "
      ]
     },
     "metadata": {},
     "output_type": "display_data"
    }
   ],
   "source": [
    "long_df %>%\n",
    "  select(-Style)"
   ]
  },
  {
   "cell_type": "code",
   "execution_count": 40,
   "metadata": {},
   "outputs": [
    {
     "ename": "ERROR",
     "evalue": "\u001b[1m\u001b[33mError\u001b[39m in \u001b[1m\u001b[1m`spread()`:\u001b[22m\n\u001b[33m!\u001b[39m Each row of output must be identified by a unique combination of keys.\nKeys are shared for 6 rows:\n* 1, 4\n* 2, 5\n* 3, 6\n",
     "output_type": "error",
     "traceback": [
      "\u001b[1m\u001b[33mError\u001b[39m in \u001b[1m\u001b[1m`spread()`:\u001b[22m\n\u001b[33m!\u001b[39m Each row of output must be identified by a unique combination of keys.\nKeys are shared for 6 rows:\n* 1, 4\n* 2, 5\n* 3, 6\nTraceback:\n",
      "1. long_df %>% select(-Style) %>% spread(key = Decade, value = Band)",
      "2. spread(., key = Decade, value = Band)",
      "3. spread.data.frame(., key = Decade, value = Band)",
      "4. abort(glue(\"Each row of output must be identified by a unique combination of keys.\", \n .     \"\\nKeys are shared for {shared} rows:\", \"\\n{rows}\"))",
      "5. signal_abort(cnd, .file)"
     ]
    }
   ],
   "source": [
    "long_df %>%\n",
    "  select(-Style) %>%\n",
    "  spread(key = Decade,\n",
    "         value = Band)"
   ]
  },
  {
   "cell_type": "markdown",
   "metadata": {},
   "source": [
    "## Messy data\n",
    "\n",
    "Long and Wide are two position in a more complicated spectru, The following data is arguably more long than wide, but it could also be \"longer\"."
   ]
  },
  {
   "cell_type": "code",
   "execution_count": 41,
   "metadata": {},
   "outputs": [
    {
     "data": {
      "text/html": [
       "<table class=\"dataframe\">\n",
       "<caption>A tibble: 7 × 4</caption>\n",
       "<thead>\n",
       "\t<tr><th scope=col>Style</th><th scope=col>Decade</th><th scope=col>Band</th><th scope=col>Albums_in_Decade</th></tr>\n",
       "\t<tr><th scope=col>&lt;chr&gt;</th><th scope=col>&lt;dbl&gt;</th><th scope=col>&lt;chr&gt;</th><th scope=col>&lt;dbl&gt;</th></tr>\n",
       "</thead>\n",
       "<tbody>\n",
       "\t<tr><td>punk </td><td>1980</td><td>Ramones   </td><td>7</td></tr>\n",
       "\t<tr><td>punk </td><td>1990</td><td>Pennywise </td><td>5</td></tr>\n",
       "\t<tr><td>punk </td><td>2000</td><td>Black Flag</td><td>1</td></tr>\n",
       "\t<tr><td>metal</td><td>1980</td><td>Metallica </td><td>4</td></tr>\n",
       "\t<tr><td>metal</td><td>1990</td><td>Sepultura </td><td>4</td></tr>\n",
       "\t<tr><td>metal</td><td>2000</td><td>Gojira    </td><td>4</td></tr>\n",
       "\t<tr><td>metal</td><td>1980</td><td>Megadeth  </td><td>3</td></tr>\n",
       "</tbody>\n",
       "</table>\n"
      ],
      "text/latex": [
       "A tibble: 7 × 4\n",
       "\\begin{tabular}{llll}\n",
       " Style & Decade & Band & Albums\\_in\\_Decade\\\\\n",
       " <chr> & <dbl> & <chr> & <dbl>\\\\\n",
       "\\hline\n",
       "\t punk  & 1980 & Ramones    & 7\\\\\n",
       "\t punk  & 1990 & Pennywise  & 5\\\\\n",
       "\t punk  & 2000 & Black Flag & 1\\\\\n",
       "\t metal & 1980 & Metallica  & 4\\\\\n",
       "\t metal & 1990 & Sepultura  & 4\\\\\n",
       "\t metal & 2000 & Gojira     & 4\\\\\n",
       "\t metal & 1980 & Megadeth   & 3\\\\\n",
       "\\end{tabular}\n"
      ],
      "text/markdown": [
       "\n",
       "A tibble: 7 × 4\n",
       "\n",
       "| Style &lt;chr&gt; | Decade &lt;dbl&gt; | Band &lt;chr&gt; | Albums_in_Decade &lt;dbl&gt; |\n",
       "|---|---|---|---|\n",
       "| punk  | 1980 | Ramones    | 7 |\n",
       "| punk  | 1990 | Pennywise  | 5 |\n",
       "| punk  | 2000 | Black Flag | 1 |\n",
       "| metal | 1980 | Metallica  | 4 |\n",
       "| metal | 1990 | Sepultura  | 4 |\n",
       "| metal | 2000 | Gojira     | 4 |\n",
       "| metal | 1980 | Megadeth   | 3 |\n",
       "\n"
      ],
      "text/plain": [
       "  Style Decade Band       Albums_in_Decade\n",
       "1 punk  1980   Ramones    7               \n",
       "2 punk  1990   Pennywise  5               \n",
       "3 punk  2000   Black Flag 1               \n",
       "4 metal 1980   Metallica  4               \n",
       "5 metal 1990   Sepultura  4               \n",
       "6 metal 2000   Gojira     4               \n",
       "7 metal 1980   Megadeth   3               "
      ]
     },
     "metadata": {},
     "output_type": "display_data"
    },
    {
     "data": {
      "text/html": [
       "<table class=\"dataframe\">\n",
       "<caption>A tibble: 6 × 4</caption>\n",
       "<thead>\n",
       "\t<tr><th scope=col>Style</th><th scope=col>Decade</th><th scope=col>Band</th><th scope=col>Albums_in_Decade</th></tr>\n",
       "\t<tr><th scope=col>&lt;chr&gt;</th><th scope=col>&lt;dbl&gt;</th><th scope=col>&lt;chr&gt;</th><th scope=col>&lt;dbl&gt;</th></tr>\n",
       "</thead>\n",
       "<tbody>\n",
       "\t<tr><td>punk </td><td>1980</td><td>Ramones   </td><td>7</td></tr>\n",
       "\t<tr><td>punk </td><td>1990</td><td>Pennywise </td><td>5</td></tr>\n",
       "\t<tr><td>punk </td><td>2000</td><td>Black Flag</td><td>1</td></tr>\n",
       "\t<tr><td>metal</td><td>1980</td><td>Metallica </td><td>4</td></tr>\n",
       "\t<tr><td>metal</td><td>1990</td><td>Sepultura </td><td>4</td></tr>\n",
       "\t<tr><td>metal</td><td>2000</td><td>Gojira    </td><td>4</td></tr>\n",
       "</tbody>\n",
       "</table>\n"
      ],
      "text/latex": [
       "A tibble: 6 × 4\n",
       "\\begin{tabular}{llll}\n",
       " Style & Decade & Band & Albums\\_in\\_Decade\\\\\n",
       " <chr> & <dbl> & <chr> & <dbl>\\\\\n",
       "\\hline\n",
       "\t punk  & 1980 & Ramones    & 7\\\\\n",
       "\t punk  & 1990 & Pennywise  & 5\\\\\n",
       "\t punk  & 2000 & Black Flag & 1\\\\\n",
       "\t metal & 1980 & Metallica  & 4\\\\\n",
       "\t metal & 1990 & Sepultura  & 4\\\\\n",
       "\t metal & 2000 & Gojira     & 4\\\\\n",
       "\\end{tabular}\n"
      ],
      "text/markdown": [
       "\n",
       "A tibble: 6 × 4\n",
       "\n",
       "| Style &lt;chr&gt; | Decade &lt;dbl&gt; | Band &lt;chr&gt; | Albums_in_Decade &lt;dbl&gt; |\n",
       "|---|---|---|---|\n",
       "| punk  | 1980 | Ramones    | 7 |\n",
       "| punk  | 1990 | Pennywise  | 5 |\n",
       "| punk  | 2000 | Black Flag | 1 |\n",
       "| metal | 1980 | Metallica  | 4 |\n",
       "| metal | 1990 | Sepultura  | 4 |\n",
       "| metal | 2000 | Gojira     | 4 |\n",
       "\n"
      ],
      "text/plain": [
       "  Style Decade Band       Albums_in_Decade\n",
       "1 punk  1980   Ramones    7               \n",
       "2 punk  1990   Pennywise  5               \n",
       "3 punk  2000   Black Flag 1               \n",
       "4 metal 1980   Metallica  4               \n",
       "5 metal 1990   Sepultura  4               \n",
       "6 metal 2000   Gojira     4               "
      ]
     },
     "metadata": {},
     "output_type": "display_data"
    }
   ],
   "source": [
    "long_df_rank_2 <- long_df_2 %>%\n",
    "  mutate(Albums_in_Decade = c(7,5,1,4,4,4,3))\n",
    "long_df_rank_2\n",
    "\n",
    "long_df_rank <- long_df_rank_2 %>%\n",
    "  filter(Band != \"Megadeth\")\n",
    "long_df_rank"
   ]
  },
  {
   "cell_type": "markdown",
   "metadata": {},
   "source": [
    "Once again, we can not simply go from this long format to the wide format."
   ]
  },
  {
   "cell_type": "code",
   "execution_count": 42,
   "metadata": {},
   "outputs": [
    {
     "data": {
      "text/html": [
       "<table class=\"dataframe\">\n",
       "<caption>A tibble: 4 × 5</caption>\n",
       "<thead>\n",
       "\t<tr><th scope=col>Style</th><th scope=col>Albums_in_Decade</th><th scope=col>1980</th><th scope=col>1990</th><th scope=col>2000</th></tr>\n",
       "\t<tr><th scope=col>&lt;chr&gt;</th><th scope=col>&lt;dbl&gt;</th><th scope=col>&lt;chr&gt;</th><th scope=col>&lt;chr&gt;</th><th scope=col>&lt;chr&gt;</th></tr>\n",
       "</thead>\n",
       "<tbody>\n",
       "\t<tr><td>metal</td><td>4</td><td>Metallica</td><td>Sepultura</td><td>Gojira    </td></tr>\n",
       "\t<tr><td>punk </td><td>1</td><td>NA       </td><td>NA       </td><td>Black Flag</td></tr>\n",
       "\t<tr><td>punk </td><td>5</td><td>NA       </td><td>Pennywise</td><td>NA        </td></tr>\n",
       "\t<tr><td>punk </td><td>7</td><td>Ramones  </td><td>NA       </td><td>NA        </td></tr>\n",
       "</tbody>\n",
       "</table>\n"
      ],
      "text/latex": [
       "A tibble: 4 × 5\n",
       "\\begin{tabular}{lllll}\n",
       " Style & Albums\\_in\\_Decade & 1980 & 1990 & 2000\\\\\n",
       " <chr> & <dbl> & <chr> & <chr> & <chr>\\\\\n",
       "\\hline\n",
       "\t metal & 4 & Metallica & Sepultura & Gojira    \\\\\n",
       "\t punk  & 1 & NA        & NA        & Black Flag\\\\\n",
       "\t punk  & 5 & NA        & Pennywise & NA        \\\\\n",
       "\t punk  & 7 & Ramones   & NA        & NA        \\\\\n",
       "\\end{tabular}\n"
      ],
      "text/markdown": [
       "\n",
       "A tibble: 4 × 5\n",
       "\n",
       "| Style &lt;chr&gt; | Albums_in_Decade &lt;dbl&gt; | 1980 &lt;chr&gt; | 1990 &lt;chr&gt; | 2000 &lt;chr&gt; |\n",
       "|---|---|---|---|---|\n",
       "| metal | 4 | Metallica | Sepultura | Gojira     |\n",
       "| punk  | 1 | NA        | NA        | Black Flag |\n",
       "| punk  | 5 | NA        | Pennywise | NA         |\n",
       "| punk  | 7 | Ramones   | NA        | NA         |\n",
       "\n"
      ],
      "text/plain": [
       "  Style Albums_in_Decade 1980      1990      2000      \n",
       "1 metal 4                Metallica Sepultura Gojira    \n",
       "2 punk  1                NA        NA        Black Flag\n",
       "3 punk  5                NA        Pennywise NA        \n",
       "4 punk  7                Ramones   NA        NA        "
      ]
     },
     "metadata": {},
     "output_type": "display_data"
    }
   ],
   "source": [
    "long_df_rank %>%\n",
    "  spread(key = Decade,\n",
    "         value = Band)"
   ]
  },
  {
   "cell_type": "markdown",
   "metadata": {},
   "source": [
    "Nope, this is not at all what we wanted.  \n",
    "The information is still there, but we also had to introduce a lot of `NA`s. Moreover, the format is not consistent (some rows have 1 band, 1 row has 4 bands, which happen to have the same number of albums...)\n",
    "\n",
    "To express the same information, we would probably need to use two separate wide dataframes: one for the bands, one for the rankings."
   ]
  },
  {
   "cell_type": "code",
   "execution_count": 44,
   "metadata": {},
   "outputs": [
    {
     "data": {
      "text/html": [
       "<table class=\"dataframe\">\n",
       "<caption>A tibble: 2 × 4</caption>\n",
       "<thead>\n",
       "\t<tr><th scope=col>Style</th><th scope=col>1980</th><th scope=col>1990</th><th scope=col>2000</th></tr>\n",
       "\t<tr><th scope=col>&lt;chr&gt;</th><th scope=col>&lt;chr&gt;</th><th scope=col>&lt;chr&gt;</th><th scope=col>&lt;chr&gt;</th></tr>\n",
       "</thead>\n",
       "<tbody>\n",
       "\t<tr><td>metal</td><td>Metallica</td><td>Sepultura</td><td>Gojira    </td></tr>\n",
       "\t<tr><td>punk </td><td>Ramones  </td><td>Pennywise</td><td>Black Flag</td></tr>\n",
       "</tbody>\n",
       "</table>\n"
      ],
      "text/latex": [
       "A tibble: 2 × 4\n",
       "\\begin{tabular}{llll}\n",
       " Style & 1980 & 1990 & 2000\\\\\n",
       " <chr> & <chr> & <chr> & <chr>\\\\\n",
       "\\hline\n",
       "\t metal & Metallica & Sepultura & Gojira    \\\\\n",
       "\t punk  & Ramones   & Pennywise & Black Flag\\\\\n",
       "\\end{tabular}\n"
      ],
      "text/markdown": [
       "\n",
       "A tibble: 2 × 4\n",
       "\n",
       "| Style &lt;chr&gt; | 1980 &lt;chr&gt; | 1990 &lt;chr&gt; | 2000 &lt;chr&gt; |\n",
       "|---|---|---|---|\n",
       "| metal | Metallica | Sepultura | Gojira     |\n",
       "| punk  | Ramones   | Pennywise | Black Flag |\n",
       "\n"
      ],
      "text/plain": [
       "  Style 1980      1990      2000      \n",
       "1 metal Metallica Sepultura Gojira    \n",
       "2 punk  Ramones   Pennywise Black Flag"
      ]
     },
     "metadata": {},
     "output_type": "display_data"
    }
   ],
   "source": [
    "long_df_rank %>%\n",
    "  select(-Albums_in_Decade) %>%\n",
    "  spread(key = Decade,\n",
    "         value = Band)"
   ]
  },
  {
   "cell_type": "code",
   "execution_count": 45,
   "metadata": {},
   "outputs": [
    {
     "data": {
      "text/html": [
       "<table class=\"dataframe\">\n",
       "<caption>A tibble: 2 × 4</caption>\n",
       "<thead>\n",
       "\t<tr><th scope=col>Style</th><th scope=col>1980</th><th scope=col>1990</th><th scope=col>2000</th></tr>\n",
       "\t<tr><th scope=col>&lt;chr&gt;</th><th scope=col>&lt;dbl&gt;</th><th scope=col>&lt;dbl&gt;</th><th scope=col>&lt;dbl&gt;</th></tr>\n",
       "</thead>\n",
       "<tbody>\n",
       "\t<tr><td>metal</td><td>4</td><td>4</td><td>4</td></tr>\n",
       "\t<tr><td>punk </td><td>7</td><td>5</td><td>1</td></tr>\n",
       "</tbody>\n",
       "</table>\n"
      ],
      "text/latex": [
       "A tibble: 2 × 4\n",
       "\\begin{tabular}{llll}\n",
       " Style & 1980 & 1990 & 2000\\\\\n",
       " <chr> & <dbl> & <dbl> & <dbl>\\\\\n",
       "\\hline\n",
       "\t metal & 4 & 4 & 4\\\\\n",
       "\t punk  & 7 & 5 & 1\\\\\n",
       "\\end{tabular}\n"
      ],
      "text/markdown": [
       "\n",
       "A tibble: 2 × 4\n",
       "\n",
       "| Style &lt;chr&gt; | 1980 &lt;dbl&gt; | 1990 &lt;dbl&gt; | 2000 &lt;dbl&gt; |\n",
       "|---|---|---|---|\n",
       "| metal | 4 | 4 | 4 |\n",
       "| punk  | 7 | 5 | 1 |\n",
       "\n"
      ],
      "text/plain": [
       "  Style 1980 1990 2000\n",
       "1 metal 4    4    4   \n",
       "2 punk  7    5    1   "
      ]
     },
     "metadata": {},
     "output_type": "display_data"
    }
   ],
   "source": [
    "long_df_rank %>%\n",
    "  select(-Band) %>%\n",
    "  spread(key = Decade,\n",
    "         value = Albums_in_Decade)"
   ]
  },
  {
   "cell_type": "markdown",
   "metadata": {},
   "source": [
    "Notice that in the above two cells, the roles of `Albums_in_Decade` and `Band` switch.  \n",
    "\n",
    "Dealing with two tables (or dataframes) is more complicated: for one thing, we need to remind what *links* exist between the two tables (in this case: one expresses the name band, the other the associated ranking of that band). **Relational** databases have ways of making those links explicit, but simple tabular data (as dataframes) doesn't. Thus, we need to be more strict about how we represent data in dataframes."
   ]
  },
  {
   "cell_type": "markdown",
   "metadata": {},
   "source": [
    "There's another way data can be messy, and it is by being TOO long:"
   ]
  },
  {
   "cell_type": "code",
   "execution_count": 46,
   "metadata": {},
   "outputs": [
    {
     "name": "stderr",
     "output_type": "stream",
     "text": [
      "Warning message:\n",
      "\"`data_frame()` was deprecated in tibble 1.1.0.\n",
      "Please use `tibble()` instead.\n",
      "\u001b[90mThis warning is displayed once every 8 hours.\u001b[39m\n",
      "\u001b[90mCall `lifecycle::last_lifecycle_warnings()` to see where this warning was generated.\u001b[39m\"\n"
     ]
    },
    {
     "data": {
      "text/html": [
       "<table class=\"dataframe\">\n",
       "<caption>A tibble: 12 × 4</caption>\n",
       "<thead>\n",
       "\t<tr><th scope=col>Style</th><th scope=col>Decade</th><th scope=col>Information</th><th scope=col>Value</th></tr>\n",
       "\t<tr><th scope=col>&lt;chr&gt;</th><th scope=col>&lt;dbl&gt;</th><th scope=col>&lt;chr&gt;</th><th scope=col>&lt;chr&gt;</th></tr>\n",
       "</thead>\n",
       "<tbody>\n",
       "\t<tr><td>punk </td><td>1980</td><td>Band            </td><td>Ramones   </td></tr>\n",
       "\t<tr><td>punk </td><td>1980</td><td>Albums_in_Decade</td><td>7         </td></tr>\n",
       "\t<tr><td>metal</td><td>1980</td><td>Band            </td><td>Metallica </td></tr>\n",
       "\t<tr><td>metal</td><td>1980</td><td>Albums_in_Decade</td><td>4         </td></tr>\n",
       "\t<tr><td>punk </td><td>1990</td><td>Band            </td><td>Pennywise </td></tr>\n",
       "\t<tr><td>punk </td><td>1990</td><td>Albums_in_Decade</td><td>5         </td></tr>\n",
       "\t<tr><td>metal</td><td>1990</td><td>Band            </td><td>Sepultura </td></tr>\n",
       "\t<tr><td>metal</td><td>1990</td><td>Albums_in_Decade</td><td>4         </td></tr>\n",
       "\t<tr><td>punk </td><td>2000</td><td>Band            </td><td>Black Flag</td></tr>\n",
       "\t<tr><td>punk </td><td>2000</td><td>Albums_in_Decade</td><td>1         </td></tr>\n",
       "\t<tr><td>metal</td><td>2000</td><td>Band            </td><td>Gojira    </td></tr>\n",
       "\t<tr><td>metal</td><td>2000</td><td>Albums_in_Decade</td><td>4         </td></tr>\n",
       "</tbody>\n",
       "</table>\n"
      ],
      "text/latex": [
       "A tibble: 12 × 4\n",
       "\\begin{tabular}{llll}\n",
       " Style & Decade & Information & Value\\\\\n",
       " <chr> & <dbl> & <chr> & <chr>\\\\\n",
       "\\hline\n",
       "\t punk  & 1980 & Band             & Ramones   \\\\\n",
       "\t punk  & 1980 & Albums\\_in\\_Decade & 7         \\\\\n",
       "\t metal & 1980 & Band             & Metallica \\\\\n",
       "\t metal & 1980 & Albums\\_in\\_Decade & 4         \\\\\n",
       "\t punk  & 1990 & Band             & Pennywise \\\\\n",
       "\t punk  & 1990 & Albums\\_in\\_Decade & 5         \\\\\n",
       "\t metal & 1990 & Band             & Sepultura \\\\\n",
       "\t metal & 1990 & Albums\\_in\\_Decade & 4         \\\\\n",
       "\t punk  & 2000 & Band             & Black Flag\\\\\n",
       "\t punk  & 2000 & Albums\\_in\\_Decade & 1         \\\\\n",
       "\t metal & 2000 & Band             & Gojira    \\\\\n",
       "\t metal & 2000 & Albums\\_in\\_Decade & 4         \\\\\n",
       "\\end{tabular}\n"
      ],
      "text/markdown": [
       "\n",
       "A tibble: 12 × 4\n",
       "\n",
       "| Style &lt;chr&gt; | Decade &lt;dbl&gt; | Information &lt;chr&gt; | Value &lt;chr&gt; |\n",
       "|---|---|---|---|\n",
       "| punk  | 1980 | Band             | Ramones    |\n",
       "| punk  | 1980 | Albums_in_Decade | 7          |\n",
       "| metal | 1980 | Band             | Metallica  |\n",
       "| metal | 1980 | Albums_in_Decade | 4          |\n",
       "| punk  | 1990 | Band             | Pennywise  |\n",
       "| punk  | 1990 | Albums_in_Decade | 5          |\n",
       "| metal | 1990 | Band             | Sepultura  |\n",
       "| metal | 1990 | Albums_in_Decade | 4          |\n",
       "| punk  | 2000 | Band             | Black Flag |\n",
       "| punk  | 2000 | Albums_in_Decade | 1          |\n",
       "| metal | 2000 | Band             | Gojira     |\n",
       "| metal | 2000 | Albums_in_Decade | 4          |\n",
       "\n"
      ],
      "text/plain": [
       "   Style Decade Information      Value     \n",
       "1  punk  1980   Band             Ramones   \n",
       "2  punk  1980   Albums_in_Decade 7         \n",
       "3  metal 1980   Band             Metallica \n",
       "4  metal 1980   Albums_in_Decade 4         \n",
       "5  punk  1990   Band             Pennywise \n",
       "6  punk  1990   Albums_in_Decade 5         \n",
       "7  metal 1990   Band             Sepultura \n",
       "8  metal 1990   Albums_in_Decade 4         \n",
       "9  punk  2000   Band             Black Flag\n",
       "10 punk  2000   Albums_in_Decade 1         \n",
       "11 metal 2000   Band             Gojira    \n",
       "12 metal 2000   Albums_in_Decade 4         "
      ]
     },
     "metadata": {},
     "output_type": "display_data"
    }
   ],
   "source": [
    "messy_df_rank <- data_frame(\n",
    "  Style = rep(c(\"punk\",\"punk\",\"metal\",\"metal\"),3),\n",
    "  Decade = c(rep(1980,4),rep(1990,4),rep(2000,4)),\n",
    "  Information = rep(c(\"Band\",\"Albums_in_Decade\"),6),\n",
    "  Value = c(\"Ramones\",7,\"Metallica\",4,\"Pennywise\",5,\"Sepultura\",4,\"Black Flag\",1,\"Gojira\",4)\n",
    ")\n",
    "messy_df_rank"
   ]
  },
  {
   "cell_type": "markdown",
   "metadata": {},
   "source": [
    "A number of issue are at play in `messy_df_rank`: Most notably, the `typeof()` the `Value` is not uniform. R silently changed the numeric values into characters (and we can't do much math with that!). Moreover, let's consider the next one where we add one \"row\" (actually, two)."
   ]
  },
  {
   "cell_type": "code",
   "execution_count": 50,
   "metadata": {},
   "outputs": [
    {
     "ename": "ERROR",
     "evalue": "\u001b[1m\u001b[33mError\u001b[39m in \u001b[1m\u001b[1m`vec_rbind()`:\u001b[22m\n\u001b[33m!\u001b[39m Can't combine `..1$Value` <character> and `..2$Value` <double>.\n",
     "output_type": "error",
     "traceback": [
      "\u001b[1m\u001b[33mError\u001b[39m in \u001b[1m\u001b[1m`vec_rbind()`:\u001b[22m\n\u001b[33m!\u001b[39m Can't combine `..1$Value` <character> and `..2$Value` <double>.\nTraceback:\n",
      "1. messy_df_rank %>% add_row(Style = \"metal\", Decade = 1980, Information = \"Band\", \n .     Value = \"Megadeth\") %>% add_row(Style = \"metal\", Decade = 1980, \n .     Information = \"Albums_in_Decade\", Value = 3)",
      "2. add_row(., Style = \"metal\", Decade = 1980, Information = \"Albums_in_Decade\", \n .     Value = 3)",
      "3. rbind_at(.data, df, pos)",
      "4. vec_rbind(old, new)",
      "5. (function () \n . vec_default_ptype2(x = x, y = y, x_arg = x_arg, y_arg = y_arg, \n .     call = call, `vctrs:::from_dispatch` = `vctrs:::from_dispatch`, \n .     `vctrs:::df_fallback` = `vctrs:::df_fallback`, `vctrs:::s3_fallback` = `vctrs:::s3_fallback`))()",
      "6. vec_default_ptype2(x = x, y = y, x_arg = x_arg, y_arg = y_arg, \n .     call = call, `vctrs:::from_dispatch` = `vctrs:::from_dispatch`, \n .     `vctrs:::df_fallback` = `vctrs:::df_fallback`, `vctrs:::s3_fallback` = `vctrs:::s3_fallback`)",
      "7. stop_incompatible_type(x, y, x_arg = x_arg, y_arg = y_arg, `vctrs:::from_dispatch` = match_from_dispatch(...), \n .     call = call)",
      "8. stop_incompatible(x, y, x_arg = x_arg, y_arg = y_arg, details = details, \n .     ..., message = message, class = c(class, \"vctrs_error_incompatible_type\"), \n .     call = call)",
      "9. stop_vctrs(message, class = c(class, \"vctrs_error_incompatible\"), \n .     x = x, y = y, details = details, ..., call = call)",
      "10. abort(message, class = c(class, \"vctrs_error\"), ..., call = vctrs_error_call(call))",
      "11. signal_abort(cnd, .file)"
     ]
    }
   ],
   "source": [
    "messy_df_rank_2 <- messy_df_rank %>%\n",
    " add_row(\n",
    "   Style = \"metal\", Decade = 1980, Information = \"Band\", Value = \"Megadeth\"\n",
    " ) %>%\n",
    " add_row(\n",
    "   Style = \"metal\", Decade = 1980, Information = \"Albums_in_Decade\", Value = 3\n",
    " )\n",
    "\n",
    "messy_df_rank_2"
   ]
  },
  {
   "cell_type": "code",
   "execution_count": 51,
   "metadata": {},
   "outputs": [
    {
     "data": {
      "text/html": [
       "<table class=\"dataframe\">\n",
       "<caption>A tibble: 14 × 4</caption>\n",
       "<thead>\n",
       "\t<tr><th scope=col>Style</th><th scope=col>Decade</th><th scope=col>Information</th><th scope=col>Value</th></tr>\n",
       "\t<tr><th scope=col>&lt;chr&gt;</th><th scope=col>&lt;dbl&gt;</th><th scope=col>&lt;chr&gt;</th><th scope=col>&lt;chr&gt;</th></tr>\n",
       "</thead>\n",
       "<tbody>\n",
       "\t<tr><td>punk </td><td>1980</td><td>Band            </td><td>Ramones   </td></tr>\n",
       "\t<tr><td>punk </td><td>1980</td><td>Albums_in_Decade</td><td>7         </td></tr>\n",
       "\t<tr><td>metal</td><td>1980</td><td>Band            </td><td>Metallica </td></tr>\n",
       "\t<tr><td>metal</td><td>1980</td><td>Albums_in_Decade</td><td>4         </td></tr>\n",
       "\t<tr><td>punk </td><td>1990</td><td>Band            </td><td>Pennywise </td></tr>\n",
       "\t<tr><td>punk </td><td>1990</td><td>Albums_in_Decade</td><td>5         </td></tr>\n",
       "\t<tr><td>metal</td><td>1990</td><td>Band            </td><td>Sepultura </td></tr>\n",
       "\t<tr><td>metal</td><td>1990</td><td>Albums_in_Decade</td><td>4         </td></tr>\n",
       "\t<tr><td>punk </td><td>2000</td><td>Band            </td><td>Black Flag</td></tr>\n",
       "\t<tr><td>punk </td><td>2000</td><td>Albums_in_Decade</td><td>1         </td></tr>\n",
       "\t<tr><td>metal</td><td>2000</td><td>Band            </td><td>Gojira    </td></tr>\n",
       "\t<tr><td>metal</td><td>2000</td><td>Albums_in_Decade</td><td>4         </td></tr>\n",
       "\t<tr><td>metal</td><td>1980</td><td>Band            </td><td>Megadeth  </td></tr>\n",
       "\t<tr><td>metal</td><td>1980</td><td>Albums_in_Decade</td><td>3         </td></tr>\n",
       "</tbody>\n",
       "</table>\n"
      ],
      "text/latex": [
       "A tibble: 14 × 4\n",
       "\\begin{tabular}{llll}\n",
       " Style & Decade & Information & Value\\\\\n",
       " <chr> & <dbl> & <chr> & <chr>\\\\\n",
       "\\hline\n",
       "\t punk  & 1980 & Band             & Ramones   \\\\\n",
       "\t punk  & 1980 & Albums\\_in\\_Decade & 7         \\\\\n",
       "\t metal & 1980 & Band             & Metallica \\\\\n",
       "\t metal & 1980 & Albums\\_in\\_Decade & 4         \\\\\n",
       "\t punk  & 1990 & Band             & Pennywise \\\\\n",
       "\t punk  & 1990 & Albums\\_in\\_Decade & 5         \\\\\n",
       "\t metal & 1990 & Band             & Sepultura \\\\\n",
       "\t metal & 1990 & Albums\\_in\\_Decade & 4         \\\\\n",
       "\t punk  & 2000 & Band             & Black Flag\\\\\n",
       "\t punk  & 2000 & Albums\\_in\\_Decade & 1         \\\\\n",
       "\t metal & 2000 & Band             & Gojira    \\\\\n",
       "\t metal & 2000 & Albums\\_in\\_Decade & 4         \\\\\n",
       "\t metal & 1980 & Band             & Megadeth  \\\\\n",
       "\t metal & 1980 & Albums\\_in\\_Decade & 3         \\\\\n",
       "\\end{tabular}\n"
      ],
      "text/markdown": [
       "\n",
       "A tibble: 14 × 4\n",
       "\n",
       "| Style &lt;chr&gt; | Decade &lt;dbl&gt; | Information &lt;chr&gt; | Value &lt;chr&gt; |\n",
       "|---|---|---|---|\n",
       "| punk  | 1980 | Band             | Ramones    |\n",
       "| punk  | 1980 | Albums_in_Decade | 7          |\n",
       "| metal | 1980 | Band             | Metallica  |\n",
       "| metal | 1980 | Albums_in_Decade | 4          |\n",
       "| punk  | 1990 | Band             | Pennywise  |\n",
       "| punk  | 1990 | Albums_in_Decade | 5          |\n",
       "| metal | 1990 | Band             | Sepultura  |\n",
       "| metal | 1990 | Albums_in_Decade | 4          |\n",
       "| punk  | 2000 | Band             | Black Flag |\n",
       "| punk  | 2000 | Albums_in_Decade | 1          |\n",
       "| metal | 2000 | Band             | Gojira     |\n",
       "| metal | 2000 | Albums_in_Decade | 4          |\n",
       "| metal | 1980 | Band             | Megadeth   |\n",
       "| metal | 1980 | Albums_in_Decade | 3          |\n",
       "\n"
      ],
      "text/plain": [
       "   Style Decade Information      Value     \n",
       "1  punk  1980   Band             Ramones   \n",
       "2  punk  1980   Albums_in_Decade 7         \n",
       "3  metal 1980   Band             Metallica \n",
       "4  metal 1980   Albums_in_Decade 4         \n",
       "5  punk  1990   Band             Pennywise \n",
       "6  punk  1990   Albums_in_Decade 5         \n",
       "7  metal 1990   Band             Sepultura \n",
       "8  metal 1990   Albums_in_Decade 4         \n",
       "9  punk  2000   Band             Black Flag\n",
       "10 punk  2000   Albums_in_Decade 1         \n",
       "11 metal 2000   Band             Gojira    \n",
       "12 metal 2000   Albums_in_Decade 4         \n",
       "13 metal 1980   Band             Megadeth  \n",
       "14 metal 1980   Albums_in_Decade 3         "
      ]
     },
     "metadata": {},
     "output_type": "display_data"
    }
   ],
   "source": [
    "messy_df_rank_2 <- messy_df_rank %>%\n",
    " add_row(\n",
    "   Style = \"metal\", Decade = 1980, Information = \"Band\", Value = \"Megadeth\"\n",
    " ) %>%\n",
    " add_row(\n",
    "   Style = \"metal\", Decade = 1980, Information = \"Albums_in_Decade\", Value = \"3\"\n",
    " )\n",
    "\n",
    "messy_df_rank_2"
   ]
  },
  {
   "cell_type": "markdown",
   "metadata": {},
   "source": [
    "In `long_df_rank` and `long_df_rank_2`, we could always associate a band with its ranking even if the rows where shuffled around or arranged in any other way:"
   ]
  },
  {
   "cell_type": "code",
   "execution_count": 52,
   "metadata": {},
   "outputs": [
    {
     "data": {
      "text/html": [
       "<table class=\"dataframe\">\n",
       "<caption>A tibble: 7 × 4</caption>\n",
       "<thead>\n",
       "\t<tr><th scope=col>Style</th><th scope=col>Decade</th><th scope=col>Band</th><th scope=col>Albums_in_Decade</th></tr>\n",
       "\t<tr><th scope=col>&lt;chr&gt;</th><th scope=col>&lt;dbl&gt;</th><th scope=col>&lt;chr&gt;</th><th scope=col>&lt;dbl&gt;</th></tr>\n",
       "</thead>\n",
       "<tbody>\n",
       "\t<tr><td>punk </td><td>1990</td><td>Pennywise </td><td>5</td></tr>\n",
       "\t<tr><td>metal</td><td>1980</td><td>Megadeth  </td><td>3</td></tr>\n",
       "\t<tr><td>punk </td><td>1980</td><td>Ramones   </td><td>7</td></tr>\n",
       "\t<tr><td>metal</td><td>1980</td><td>Metallica </td><td>4</td></tr>\n",
       "\t<tr><td>punk </td><td>2000</td><td>Black Flag</td><td>1</td></tr>\n",
       "\t<tr><td>metal</td><td>2000</td><td>Gojira    </td><td>4</td></tr>\n",
       "\t<tr><td>metal</td><td>1990</td><td>Sepultura </td><td>4</td></tr>\n",
       "</tbody>\n",
       "</table>\n"
      ],
      "text/latex": [
       "A tibble: 7 × 4\n",
       "\\begin{tabular}{llll}\n",
       " Style & Decade & Band & Albums\\_in\\_Decade\\\\\n",
       " <chr> & <dbl> & <chr> & <dbl>\\\\\n",
       "\\hline\n",
       "\t punk  & 1990 & Pennywise  & 5\\\\\n",
       "\t metal & 1980 & Megadeth   & 3\\\\\n",
       "\t punk  & 1980 & Ramones    & 7\\\\\n",
       "\t metal & 1980 & Metallica  & 4\\\\\n",
       "\t punk  & 2000 & Black Flag & 1\\\\\n",
       "\t metal & 2000 & Gojira     & 4\\\\\n",
       "\t metal & 1990 & Sepultura  & 4\\\\\n",
       "\\end{tabular}\n"
      ],
      "text/markdown": [
       "\n",
       "A tibble: 7 × 4\n",
       "\n",
       "| Style &lt;chr&gt; | Decade &lt;dbl&gt; | Band &lt;chr&gt; | Albums_in_Decade &lt;dbl&gt; |\n",
       "|---|---|---|---|\n",
       "| punk  | 1990 | Pennywise  | 5 |\n",
       "| metal | 1980 | Megadeth   | 3 |\n",
       "| punk  | 1980 | Ramones    | 7 |\n",
       "| metal | 1980 | Metallica  | 4 |\n",
       "| punk  | 2000 | Black Flag | 1 |\n",
       "| metal | 2000 | Gojira     | 4 |\n",
       "| metal | 1990 | Sepultura  | 4 |\n",
       "\n"
      ],
      "text/plain": [
       "  Style Decade Band       Albums_in_Decade\n",
       "1 punk  1990   Pennywise  5               \n",
       "2 metal 1980   Megadeth   3               \n",
       "3 punk  1980   Ramones    7               \n",
       "4 metal 1980   Metallica  4               \n",
       "5 punk  2000   Black Flag 1               \n",
       "6 metal 2000   Gojira     4               \n",
       "7 metal 1990   Sepultura  4               "
      ]
     },
     "metadata": {},
     "output_type": "display_data"
    }
   ],
   "source": [
    "long_df_rank_2 %>%\n",
    "  sample_frac(1)"
   ]
  },
  {
   "cell_type": "markdown",
   "metadata": {},
   "source": [
    "With a little bit more work, we could do that also for `messy_df_rank`. That is because there was only ONE band for each decade and style."
   ]
  },
  {
   "cell_type": "code",
   "execution_count": 53,
   "metadata": {},
   "outputs": [
    {
     "data": {
      "text/html": [
       "<table class=\"dataframe\">\n",
       "<caption>A tibble: 12 × 4</caption>\n",
       "<thead>\n",
       "\t<tr><th scope=col>Style</th><th scope=col>Decade</th><th scope=col>Information</th><th scope=col>Value</th></tr>\n",
       "\t<tr><th scope=col>&lt;chr&gt;</th><th scope=col>&lt;dbl&gt;</th><th scope=col>&lt;chr&gt;</th><th scope=col>&lt;chr&gt;</th></tr>\n",
       "</thead>\n",
       "<tbody>\n",
       "\t<tr><td>punk </td><td>1990</td><td>Band            </td><td>Pennywise </td></tr>\n",
       "\t<tr><td>punk </td><td>1980</td><td>Band            </td><td>Ramones   </td></tr>\n",
       "\t<tr><td>metal</td><td>2000</td><td>Band            </td><td>Gojira    </td></tr>\n",
       "\t<tr><td>punk </td><td>1990</td><td>Albums_in_Decade</td><td>5         </td></tr>\n",
       "\t<tr><td>punk </td><td>2000</td><td>Albums_in_Decade</td><td>1         </td></tr>\n",
       "\t<tr><td>punk </td><td>1980</td><td>Albums_in_Decade</td><td>7         </td></tr>\n",
       "\t<tr><td>punk </td><td>2000</td><td>Band            </td><td>Black Flag</td></tr>\n",
       "\t<tr><td>metal</td><td>1980</td><td>Band            </td><td>Metallica </td></tr>\n",
       "\t<tr><td>metal</td><td>1980</td><td>Albums_in_Decade</td><td>4         </td></tr>\n",
       "\t<tr><td>metal</td><td>2000</td><td>Albums_in_Decade</td><td>4         </td></tr>\n",
       "\t<tr><td>metal</td><td>1990</td><td>Albums_in_Decade</td><td>4         </td></tr>\n",
       "\t<tr><td>metal</td><td>1990</td><td>Band            </td><td>Sepultura </td></tr>\n",
       "</tbody>\n",
       "</table>\n"
      ],
      "text/latex": [
       "A tibble: 12 × 4\n",
       "\\begin{tabular}{llll}\n",
       " Style & Decade & Information & Value\\\\\n",
       " <chr> & <dbl> & <chr> & <chr>\\\\\n",
       "\\hline\n",
       "\t punk  & 1990 & Band             & Pennywise \\\\\n",
       "\t punk  & 1980 & Band             & Ramones   \\\\\n",
       "\t metal & 2000 & Band             & Gojira    \\\\\n",
       "\t punk  & 1990 & Albums\\_in\\_Decade & 5         \\\\\n",
       "\t punk  & 2000 & Albums\\_in\\_Decade & 1         \\\\\n",
       "\t punk  & 1980 & Albums\\_in\\_Decade & 7         \\\\\n",
       "\t punk  & 2000 & Band             & Black Flag\\\\\n",
       "\t metal & 1980 & Band             & Metallica \\\\\n",
       "\t metal & 1980 & Albums\\_in\\_Decade & 4         \\\\\n",
       "\t metal & 2000 & Albums\\_in\\_Decade & 4         \\\\\n",
       "\t metal & 1990 & Albums\\_in\\_Decade & 4         \\\\\n",
       "\t metal & 1990 & Band             & Sepultura \\\\\n",
       "\\end{tabular}\n"
      ],
      "text/markdown": [
       "\n",
       "A tibble: 12 × 4\n",
       "\n",
       "| Style &lt;chr&gt; | Decade &lt;dbl&gt; | Information &lt;chr&gt; | Value &lt;chr&gt; |\n",
       "|---|---|---|---|\n",
       "| punk  | 1990 | Band             | Pennywise  |\n",
       "| punk  | 1980 | Band             | Ramones    |\n",
       "| metal | 2000 | Band             | Gojira     |\n",
       "| punk  | 1990 | Albums_in_Decade | 5          |\n",
       "| punk  | 2000 | Albums_in_Decade | 1          |\n",
       "| punk  | 1980 | Albums_in_Decade | 7          |\n",
       "| punk  | 2000 | Band             | Black Flag |\n",
       "| metal | 1980 | Band             | Metallica  |\n",
       "| metal | 1980 | Albums_in_Decade | 4          |\n",
       "| metal | 2000 | Albums_in_Decade | 4          |\n",
       "| metal | 1990 | Albums_in_Decade | 4          |\n",
       "| metal | 1990 | Band             | Sepultura  |\n",
       "\n"
      ],
      "text/plain": [
       "   Style Decade Information      Value     \n",
       "1  punk  1990   Band             Pennywise \n",
       "2  punk  1980   Band             Ramones   \n",
       "3  metal 2000   Band             Gojira    \n",
       "4  punk  1990   Albums_in_Decade 5         \n",
       "5  punk  2000   Albums_in_Decade 1         \n",
       "6  punk  1980   Albums_in_Decade 7         \n",
       "7  punk  2000   Band             Black Flag\n",
       "8  metal 1980   Band             Metallica \n",
       "9  metal 1980   Albums_in_Decade 4         \n",
       "10 metal 2000   Albums_in_Decade 4         \n",
       "11 metal 1990   Albums_in_Decade 4         \n",
       "12 metal 1990   Band             Sepultura "
      ]
     },
     "metadata": {},
     "output_type": "display_data"
    }
   ],
   "source": [
    "messy_df_rank %>%\n",
    "  sample_frac(1)"
   ]
  },
  {
   "cell_type": "markdown",
   "metadata": {},
   "source": [
    "Yet, this is not possible anymore for `messy_df_rank_2`:"
   ]
  },
  {
   "cell_type": "code",
   "execution_count": 54,
   "metadata": {},
   "outputs": [
    {
     "data": {
      "text/html": [
       "<table class=\"dataframe\">\n",
       "<caption>A tibble: 14 × 4</caption>\n",
       "<thead>\n",
       "\t<tr><th scope=col>Style</th><th scope=col>Decade</th><th scope=col>Information</th><th scope=col>Value</th></tr>\n",
       "\t<tr><th scope=col>&lt;chr&gt;</th><th scope=col>&lt;dbl&gt;</th><th scope=col>&lt;chr&gt;</th><th scope=col>&lt;chr&gt;</th></tr>\n",
       "</thead>\n",
       "<tbody>\n",
       "\t<tr><td>metal</td><td>1980</td><td>Albums_in_Decade</td><td>4         </td></tr>\n",
       "\t<tr><td>metal</td><td>1980</td><td>Band            </td><td>Metallica </td></tr>\n",
       "\t<tr><td>punk </td><td>2000</td><td>Albums_in_Decade</td><td>1         </td></tr>\n",
       "\t<tr><td>metal</td><td>1980</td><td>Albums_in_Decade</td><td>3         </td></tr>\n",
       "\t<tr><td>metal</td><td>2000</td><td>Albums_in_Decade</td><td>4         </td></tr>\n",
       "\t<tr><td>punk </td><td>1990</td><td>Band            </td><td>Pennywise </td></tr>\n",
       "\t<tr><td>metal</td><td>2000</td><td>Band            </td><td>Gojira    </td></tr>\n",
       "\t<tr><td>metal</td><td>1980</td><td>Band            </td><td>Megadeth  </td></tr>\n",
       "\t<tr><td>punk </td><td>1980</td><td>Band            </td><td>Ramones   </td></tr>\n",
       "\t<tr><td>metal</td><td>1990</td><td>Albums_in_Decade</td><td>4         </td></tr>\n",
       "\t<tr><td>punk </td><td>1990</td><td>Albums_in_Decade</td><td>5         </td></tr>\n",
       "\t<tr><td>punk </td><td>1980</td><td>Albums_in_Decade</td><td>7         </td></tr>\n",
       "\t<tr><td>punk </td><td>2000</td><td>Band            </td><td>Black Flag</td></tr>\n",
       "\t<tr><td>metal</td><td>1990</td><td>Band            </td><td>Sepultura </td></tr>\n",
       "</tbody>\n",
       "</table>\n"
      ],
      "text/latex": [
       "A tibble: 14 × 4\n",
       "\\begin{tabular}{llll}\n",
       " Style & Decade & Information & Value\\\\\n",
       " <chr> & <dbl> & <chr> & <chr>\\\\\n",
       "\\hline\n",
       "\t metal & 1980 & Albums\\_in\\_Decade & 4         \\\\\n",
       "\t metal & 1980 & Band             & Metallica \\\\\n",
       "\t punk  & 2000 & Albums\\_in\\_Decade & 1         \\\\\n",
       "\t metal & 1980 & Albums\\_in\\_Decade & 3         \\\\\n",
       "\t metal & 2000 & Albums\\_in\\_Decade & 4         \\\\\n",
       "\t punk  & 1990 & Band             & Pennywise \\\\\n",
       "\t metal & 2000 & Band             & Gojira    \\\\\n",
       "\t metal & 1980 & Band             & Megadeth  \\\\\n",
       "\t punk  & 1980 & Band             & Ramones   \\\\\n",
       "\t metal & 1990 & Albums\\_in\\_Decade & 4         \\\\\n",
       "\t punk  & 1990 & Albums\\_in\\_Decade & 5         \\\\\n",
       "\t punk  & 1980 & Albums\\_in\\_Decade & 7         \\\\\n",
       "\t punk  & 2000 & Band             & Black Flag\\\\\n",
       "\t metal & 1990 & Band             & Sepultura \\\\\n",
       "\\end{tabular}\n"
      ],
      "text/markdown": [
       "\n",
       "A tibble: 14 × 4\n",
       "\n",
       "| Style &lt;chr&gt; | Decade &lt;dbl&gt; | Information &lt;chr&gt; | Value &lt;chr&gt; |\n",
       "|---|---|---|---|\n",
       "| metal | 1980 | Albums_in_Decade | 4          |\n",
       "| metal | 1980 | Band             | Metallica  |\n",
       "| punk  | 2000 | Albums_in_Decade | 1          |\n",
       "| metal | 1980 | Albums_in_Decade | 3          |\n",
       "| metal | 2000 | Albums_in_Decade | 4          |\n",
       "| punk  | 1990 | Band             | Pennywise  |\n",
       "| metal | 2000 | Band             | Gojira     |\n",
       "| metal | 1980 | Band             | Megadeth   |\n",
       "| punk  | 1980 | Band             | Ramones    |\n",
       "| metal | 1990 | Albums_in_Decade | 4          |\n",
       "| punk  | 1990 | Albums_in_Decade | 5          |\n",
       "| punk  | 1980 | Albums_in_Decade | 7          |\n",
       "| punk  | 2000 | Band             | Black Flag |\n",
       "| metal | 1990 | Band             | Sepultura  |\n",
       "\n"
      ],
      "text/plain": [
       "   Style Decade Information      Value     \n",
       "1  metal 1980   Albums_in_Decade 4         \n",
       "2  metal 1980   Band             Metallica \n",
       "3  punk  2000   Albums_in_Decade 1         \n",
       "4  metal 1980   Albums_in_Decade 3         \n",
       "5  metal 2000   Albums_in_Decade 4         \n",
       "6  punk  1990   Band             Pennywise \n",
       "7  metal 2000   Band             Gojira    \n",
       "8  metal 1980   Band             Megadeth  \n",
       "9  punk  1980   Band             Ramones   \n",
       "10 metal 1990   Albums_in_Decade 4         \n",
       "11 punk  1990   Albums_in_Decade 5         \n",
       "12 punk  1980   Albums_in_Decade 7         \n",
       "13 punk  2000   Band             Black Flag\n",
       "14 metal 1990   Band             Sepultura "
      ]
     },
     "metadata": {},
     "output_type": "display_data"
    }
   ],
   "source": [
    "messy_df_rank_2 %>%\n",
    "  sample_frac(1)"
   ]
  },
  {
   "cell_type": "markdown",
   "metadata": {},
   "source": [
    "We now have two different MyRanking values (a 7 and a 8), both referring to a 1980 metal observation. Who got the 7 and who the 8?"
   ]
  },
  {
   "cell_type": "markdown",
   "metadata": {},
   "source": [
    "## Wrangling: Your Turn\n",
    "\n",
    "Consider the following dataframe in long format from `singer`"
   ]
  },
  {
   "cell_type": "code",
   "execution_count": 55,
   "metadata": {},
   "outputs": [
    {
     "data": {
      "text/html": [
       "<table class=\"dataframe\">\n",
       "<caption>A tibble: 22 × 3</caption>\n",
       "<thead>\n",
       "\t<tr><th scope=col>title</th><th scope=col>artist_name</th><th scope=col>year</th></tr>\n",
       "\t<tr><th scope=col>&lt;chr&gt;</th><th scope=col>&lt;chr&gt;</th><th scope=col>&lt;int&gt;</th></tr>\n",
       "</thead>\n",
       "<tbody>\n",
       "\t<tr><td>Corduroy                                      </td><td>Pearl Jam      </td><td>1994</td></tr>\n",
       "\t<tr><td>Grievance                                     </td><td>Pearl Jam      </td><td>2000</td></tr>\n",
       "\t<tr><td>Stupidmop                                     </td><td>Pearl Jam      </td><td>1994</td></tr>\n",
       "\t<tr><td>Present Tense                                 </td><td>Pearl Jam      </td><td>1996</td></tr>\n",
       "\t<tr><td>MFC                                           </td><td>Pearl Jam      </td><td>1998</td></tr>\n",
       "\t<tr><td>Lukin                                         </td><td>Pearl Jam      </td><td>1996</td></tr>\n",
       "\t<tr><td>It's Lulu                                     </td><td>The Boo Radleys</td><td>1995</td></tr>\n",
       "\t<tr><td>Sparrow                                       </td><td>The Boo Radleys</td><td>1992</td></tr>\n",
       "\t<tr><td>Martin_ Doom! It's Seven O'Clock              </td><td>The Boo Radleys</td><td>1995</td></tr>\n",
       "\t<tr><td>Leaves And Sand                               </td><td>The Boo Radleys</td><td>1993</td></tr>\n",
       "\t<tr><td>High as Monkeys                               </td><td>The Boo Radleys</td><td>1998</td></tr>\n",
       "\t<tr><td>Comb Your Hair                                </td><td>The Boo Radleys</td><td>1998</td></tr>\n",
       "\t<tr><td>Butterfly McQueen                             </td><td>The Boo Radleys</td><td>1993</td></tr>\n",
       "\t<tr><td>Mine Again                                    </td><td>Mariah Carey   </td><td>2005</td></tr>\n",
       "\t<tr><td>Don't Forget About Us                         </td><td>Mariah Carey   </td><td>2005</td></tr>\n",
       "\t<tr><td>Babydoll                                      </td><td>Mariah Carey   </td><td>1997</td></tr>\n",
       "\t<tr><td>Don't Forget About Us                         </td><td>Mariah Carey   </td><td>2005</td></tr>\n",
       "\t<tr><td>Vision Of Love                                </td><td>Mariah Carey   </td><td>1990</td></tr>\n",
       "\t<tr><td>My One and Only Love                          </td><td>Carly Simon    </td><td>2005</td></tr>\n",
       "\t<tr><td>It Was So Easy  (LP Version)                  </td><td>Carly Simon    </td><td>1972</td></tr>\n",
       "\t<tr><td>I've Got A Crush On You                       </td><td>Carly Simon    </td><td>1994</td></tr>\n",
       "\t<tr><td>Manha De Carnaval (Theme from \"Black Orpheus\")</td><td>Carly Simon    </td><td>2007</td></tr>\n",
       "</tbody>\n",
       "</table>\n"
      ],
      "text/latex": [
       "A tibble: 22 × 3\n",
       "\\begin{tabular}{lll}\n",
       " title & artist\\_name & year\\\\\n",
       " <chr> & <chr> & <int>\\\\\n",
       "\\hline\n",
       "\t Corduroy                                       & Pearl Jam       & 1994\\\\\n",
       "\t Grievance                                      & Pearl Jam       & 2000\\\\\n",
       "\t Stupidmop                                      & Pearl Jam       & 1994\\\\\n",
       "\t Present Tense                                  & Pearl Jam       & 1996\\\\\n",
       "\t MFC                                            & Pearl Jam       & 1998\\\\\n",
       "\t Lukin                                          & Pearl Jam       & 1996\\\\\n",
       "\t It's Lulu                                      & The Boo Radleys & 1995\\\\\n",
       "\t Sparrow                                        & The Boo Radleys & 1992\\\\\n",
       "\t Martin\\_ Doom! It's Seven O'Clock               & The Boo Radleys & 1995\\\\\n",
       "\t Leaves And Sand                                & The Boo Radleys & 1993\\\\\n",
       "\t High as Monkeys                                & The Boo Radleys & 1998\\\\\n",
       "\t Comb Your Hair                                 & The Boo Radleys & 1998\\\\\n",
       "\t Butterfly McQueen                              & The Boo Radleys & 1993\\\\\n",
       "\t Mine Again                                     & Mariah Carey    & 2005\\\\\n",
       "\t Don't Forget About Us                          & Mariah Carey    & 2005\\\\\n",
       "\t Babydoll                                       & Mariah Carey    & 1997\\\\\n",
       "\t Don't Forget About Us                          & Mariah Carey    & 2005\\\\\n",
       "\t Vision Of Love                                 & Mariah Carey    & 1990\\\\\n",
       "\t My One and Only Love                           & Carly Simon     & 2005\\\\\n",
       "\t It Was So Easy  (LP Version)                   & Carly Simon     & 1972\\\\\n",
       "\t I've Got A Crush On You                        & Carly Simon     & 1994\\\\\n",
       "\t Manha De Carnaval (Theme from \"Black Orpheus\") & Carly Simon     & 2007\\\\\n",
       "\\end{tabular}\n"
      ],
      "text/markdown": [
       "\n",
       "A tibble: 22 × 3\n",
       "\n",
       "| title &lt;chr&gt; | artist_name &lt;chr&gt; | year &lt;int&gt; |\n",
       "|---|---|---|\n",
       "| Corduroy                                       | Pearl Jam       | 1994 |\n",
       "| Grievance                                      | Pearl Jam       | 2000 |\n",
       "| Stupidmop                                      | Pearl Jam       | 1994 |\n",
       "| Present Tense                                  | Pearl Jam       | 1996 |\n",
       "| MFC                                            | Pearl Jam       | 1998 |\n",
       "| Lukin                                          | Pearl Jam       | 1996 |\n",
       "| It's Lulu                                      | The Boo Radleys | 1995 |\n",
       "| Sparrow                                        | The Boo Radleys | 1992 |\n",
       "| Martin_ Doom! It's Seven O'Clock               | The Boo Radleys | 1995 |\n",
       "| Leaves And Sand                                | The Boo Radleys | 1993 |\n",
       "| High as Monkeys                                | The Boo Radleys | 1998 |\n",
       "| Comb Your Hair                                 | The Boo Radleys | 1998 |\n",
       "| Butterfly McQueen                              | The Boo Radleys | 1993 |\n",
       "| Mine Again                                     | Mariah Carey    | 2005 |\n",
       "| Don't Forget About Us                          | Mariah Carey    | 2005 |\n",
       "| Babydoll                                       | Mariah Carey    | 1997 |\n",
       "| Don't Forget About Us                          | Mariah Carey    | 2005 |\n",
       "| Vision Of Love                                 | Mariah Carey    | 1990 |\n",
       "| My One and Only Love                           | Carly Simon     | 2005 |\n",
       "| It Was So Easy  (LP Version)                   | Carly Simon     | 1972 |\n",
       "| I've Got A Crush On You                        | Carly Simon     | 1994 |\n",
       "| Manha De Carnaval (Theme from \"Black Orpheus\") | Carly Simon     | 2007 |\n",
       "\n"
      ],
      "text/plain": [
       "   title                                          artist_name     year\n",
       "1  Corduroy                                       Pearl Jam       1994\n",
       "2  Grievance                                      Pearl Jam       2000\n",
       "3  Stupidmop                                      Pearl Jam       1994\n",
       "4  Present Tense                                  Pearl Jam       1996\n",
       "5  MFC                                            Pearl Jam       1998\n",
       "6  Lukin                                          Pearl Jam       1996\n",
       "7  It's Lulu                                      The Boo Radleys 1995\n",
       "8  Sparrow                                        The Boo Radleys 1992\n",
       "9  Martin_ Doom! It's Seven O'Clock               The Boo Radleys 1995\n",
       "10 Leaves And Sand                                The Boo Radleys 1993\n",
       "11 High as Monkeys                                The Boo Radleys 1998\n",
       "12 Comb Your Hair                                 The Boo Radleys 1998\n",
       "13 Butterfly McQueen                              The Boo Radleys 1993\n",
       "14 Mine Again                                     Mariah Carey    2005\n",
       "15 Don't Forget About Us                          Mariah Carey    2005\n",
       "16 Babydoll                                       Mariah Carey    1997\n",
       "17 Don't Forget About Us                          Mariah Carey    2005\n",
       "18 Vision Of Love                                 Mariah Carey    1990\n",
       "19 My One and Only Love                           Carly Simon     2005\n",
       "20 It Was So Easy  (LP Version)                   Carly Simon     1972\n",
       "21 I've Got A Crush On You                        Carly Simon     1994\n",
       "22 Manha De Carnaval (Theme from \"Black Orpheus\") Carly Simon     2007"
      ]
     },
     "metadata": {},
     "output_type": "display_data"
    }
   ],
   "source": [
    "songs"
   ]
  },
  {
   "cell_type": "markdown",
   "metadata": {},
   "source": [
    "Conver `songs` in a wide format and then back."
   ]
  },
  {
   "cell_type": "markdown",
   "metadata": {},
   "source": [
    "## Tidy data"
   ]
  },
  {
   "cell_type": "markdown",
   "metadata": {},
   "source": [
    "The concept of Tidy Data tries to implements some constraints to prevent common errors.\n",
    "\n",
    "> Tidy data is a standard way of mapping the meaning of a dataset to its structure. A dataset is messy or tidy depending on how rows, columns and tables are matched up with observations, variables and types. In tidy data:\n",
    ">\n",
    ">  -  Each variable forms [one, and only one] column.\n",
    ">  -  Each observation forms a row.\n",
    ">  -  Each type of observation (observational unit) forms a dataframe (table).\n",
    "\n",
    "(from https://tidyr.tidyverse.org/articles/tidy-data.html#tidy-data <- Go and read that chapter!)"
   ]
  },
  {
   "cell_type": "markdown",
   "metadata": {},
   "source": [
    "Thus, the first thing we need to decide in our example is: what is the observational unit.  \n",
    "There's not only one possible answer, but we can provide at least one."
   ]
  },
  {
   "cell_type": "code",
   "execution_count": 56,
   "metadata": {},
   "outputs": [
    {
     "data": {
      "text/html": [
       "<table class=\"dataframe\">\n",
       "<caption>A tibble: 2 × 4</caption>\n",
       "<thead>\n",
       "\t<tr><th scope=col>Style</th><th scope=col>1980</th><th scope=col>1990</th><th scope=col>2000</th></tr>\n",
       "\t<tr><th scope=col>&lt;chr&gt;</th><th scope=col>&lt;chr&gt;</th><th scope=col>&lt;chr&gt;</th><th scope=col>&lt;chr&gt;</th></tr>\n",
       "</thead>\n",
       "<tbody>\n",
       "\t<tr><td>punk </td><td>Ramones  </td><td>Pennywise</td><td>Black Flag</td></tr>\n",
       "\t<tr><td>metal</td><td>Metallica</td><td>Sepultura</td><td>Gojira    </td></tr>\n",
       "</tbody>\n",
       "</table>\n"
      ],
      "text/latex": [
       "A tibble: 2 × 4\n",
       "\\begin{tabular}{llll}\n",
       " Style & 1980 & 1990 & 2000\\\\\n",
       " <chr> & <chr> & <chr> & <chr>\\\\\n",
       "\\hline\n",
       "\t punk  & Ramones   & Pennywise & Black Flag\\\\\n",
       "\t metal & Metallica & Sepultura & Gojira    \\\\\n",
       "\\end{tabular}\n"
      ],
      "text/markdown": [
       "\n",
       "A tibble: 2 × 4\n",
       "\n",
       "| Style &lt;chr&gt; | 1980 &lt;chr&gt; | 1990 &lt;chr&gt; | 2000 &lt;chr&gt; |\n",
       "|---|---|---|---|\n",
       "| punk  | Ramones   | Pennywise | Black Flag |\n",
       "| metal | Metallica | Sepultura | Gojira     |\n",
       "\n"
      ],
      "text/plain": [
       "  Style 1980      1990      2000      \n",
       "1 punk  Ramones   Pennywise Black Flag\n",
       "2 metal Metallica Sepultura Gojira    "
      ]
     },
     "metadata": {},
     "output_type": "display_data"
    }
   ],
   "source": [
    "wide_df"
   ]
  },
  {
   "cell_type": "markdown",
   "metadata": {},
   "source": [
    "Every decade we observe, for two different styles, what was my favourite band and what was the my band ranking.  \n",
    "\n",
    "Thus, we can identify the decade as the observational unit.\n",
    "\n",
    "In that case, in the `wide_df` each of the two rows correspond to three different observations. And that's not tidy."
   ]
  },
  {
   "cell_type": "code",
   "execution_count": 57,
   "metadata": {},
   "outputs": [
    {
     "data": {
      "text/html": [
       "<table class=\"dataframe\">\n",
       "<caption>A tibble: 6 × 3</caption>\n",
       "<thead>\n",
       "\t<tr><th scope=col>Style</th><th scope=col>Decade</th><th scope=col>Band</th></tr>\n",
       "\t<tr><th scope=col>&lt;chr&gt;</th><th scope=col>&lt;dbl&gt;</th><th scope=col>&lt;chr&gt;</th></tr>\n",
       "</thead>\n",
       "<tbody>\n",
       "\t<tr><td>punk </td><td>1980</td><td>Ramones   </td></tr>\n",
       "\t<tr><td>punk </td><td>1990</td><td>Pennywise </td></tr>\n",
       "\t<tr><td>punk </td><td>2000</td><td>Black Flag</td></tr>\n",
       "\t<tr><td>metal</td><td>1980</td><td>Metallica </td></tr>\n",
       "\t<tr><td>metal</td><td>1990</td><td>Sepultura </td></tr>\n",
       "\t<tr><td>metal</td><td>2000</td><td>Gojira    </td></tr>\n",
       "</tbody>\n",
       "</table>\n"
      ],
      "text/latex": [
       "A tibble: 6 × 3\n",
       "\\begin{tabular}{lll}\n",
       " Style & Decade & Band\\\\\n",
       " <chr> & <dbl> & <chr>\\\\\n",
       "\\hline\n",
       "\t punk  & 1980 & Ramones   \\\\\n",
       "\t punk  & 1990 & Pennywise \\\\\n",
       "\t punk  & 2000 & Black Flag\\\\\n",
       "\t metal & 1980 & Metallica \\\\\n",
       "\t metal & 1990 & Sepultura \\\\\n",
       "\t metal & 2000 & Gojira    \\\\\n",
       "\\end{tabular}\n"
      ],
      "text/markdown": [
       "\n",
       "A tibble: 6 × 3\n",
       "\n",
       "| Style &lt;chr&gt; | Decade &lt;dbl&gt; | Band &lt;chr&gt; |\n",
       "|---|---|---|\n",
       "| punk  | 1980 | Ramones    |\n",
       "| punk  | 1990 | Pennywise  |\n",
       "| punk  | 2000 | Black Flag |\n",
       "| metal | 1980 | Metallica  |\n",
       "| metal | 1990 | Sepultura  |\n",
       "| metal | 2000 | Gojira     |\n",
       "\n"
      ],
      "text/plain": [
       "  Style Decade Band      \n",
       "1 punk  1980   Ramones   \n",
       "2 punk  1990   Pennywise \n",
       "3 punk  2000   Black Flag\n",
       "4 metal 1980   Metallica \n",
       "5 metal 1990   Sepultura \n",
       "6 metal 2000   Gojira    "
      ]
     },
     "metadata": {},
     "output_type": "display_data"
    }
   ],
   "source": [
    "long_df"
   ]
  },
  {
   "cell_type": "markdown",
   "metadata": {},
   "source": [
    "The `long_df` is better. Yet, my taste is to have the variable identifying the main observational unit on the leftmost position."
   ]
  },
  {
   "cell_type": "code",
   "execution_count": 58,
   "metadata": {},
   "outputs": [
    {
     "data": {
      "text/html": [
       "<table class=\"dataframe\">\n",
       "<caption>A tibble: 6 × 3</caption>\n",
       "<thead>\n",
       "\t<tr><th scope=col>Decade</th><th scope=col>Style</th><th scope=col>Band</th></tr>\n",
       "\t<tr><th scope=col>&lt;dbl&gt;</th><th scope=col>&lt;chr&gt;</th><th scope=col>&lt;chr&gt;</th></tr>\n",
       "</thead>\n",
       "<tbody>\n",
       "\t<tr><td>1980</td><td>punk </td><td>Ramones   </td></tr>\n",
       "\t<tr><td>1990</td><td>punk </td><td>Pennywise </td></tr>\n",
       "\t<tr><td>2000</td><td>punk </td><td>Black Flag</td></tr>\n",
       "\t<tr><td>1980</td><td>metal</td><td>Metallica </td></tr>\n",
       "\t<tr><td>1990</td><td>metal</td><td>Sepultura </td></tr>\n",
       "\t<tr><td>2000</td><td>metal</td><td>Gojira    </td></tr>\n",
       "</tbody>\n",
       "</table>\n"
      ],
      "text/latex": [
       "A tibble: 6 × 3\n",
       "\\begin{tabular}{lll}\n",
       " Decade & Style & Band\\\\\n",
       " <dbl> & <chr> & <chr>\\\\\n",
       "\\hline\n",
       "\t 1980 & punk  & Ramones   \\\\\n",
       "\t 1990 & punk  & Pennywise \\\\\n",
       "\t 2000 & punk  & Black Flag\\\\\n",
       "\t 1980 & metal & Metallica \\\\\n",
       "\t 1990 & metal & Sepultura \\\\\n",
       "\t 2000 & metal & Gojira    \\\\\n",
       "\\end{tabular}\n"
      ],
      "text/markdown": [
       "\n",
       "A tibble: 6 × 3\n",
       "\n",
       "| Decade &lt;dbl&gt; | Style &lt;chr&gt; | Band &lt;chr&gt; |\n",
       "|---|---|---|\n",
       "| 1980 | punk  | Ramones    |\n",
       "| 1990 | punk  | Pennywise  |\n",
       "| 2000 | punk  | Black Flag |\n",
       "| 1980 | metal | Metallica  |\n",
       "| 1990 | metal | Sepultura  |\n",
       "| 2000 | metal | Gojira     |\n",
       "\n"
      ],
      "text/plain": [
       "  Decade Style Band      \n",
       "1 1980   punk  Ramones   \n",
       "2 1990   punk  Pennywise \n",
       "3 2000   punk  Black Flag\n",
       "4 1980   metal Metallica \n",
       "5 1990   metal Sepultura \n",
       "6 2000   metal Gojira    "
      ]
     },
     "metadata": {},
     "output_type": "display_data"
    }
   ],
   "source": [
    "long_df <- long_df %>%\n",
    "  select(Decade, Style, Band)\n",
    "long_df"
   ]
  },
  {
   "cell_type": "markdown",
   "metadata": {},
   "source": [
    "Notice that `long_df_rank` is still tidy: each row correspond to an observation, each column form on (and only one) column, and we have only one observational unit."
   ]
  },
  {
   "cell_type": "code",
   "execution_count": 59,
   "metadata": {},
   "outputs": [
    {
     "data": {
      "text/html": [
       "<table class=\"dataframe\">\n",
       "<caption>A tibble: 6 × 4</caption>\n",
       "<thead>\n",
       "\t<tr><th scope=col>Style</th><th scope=col>Decade</th><th scope=col>Band</th><th scope=col>Albums_in_Decade</th></tr>\n",
       "\t<tr><th scope=col>&lt;chr&gt;</th><th scope=col>&lt;dbl&gt;</th><th scope=col>&lt;chr&gt;</th><th scope=col>&lt;dbl&gt;</th></tr>\n",
       "</thead>\n",
       "<tbody>\n",
       "\t<tr><td>punk </td><td>1980</td><td>Ramones   </td><td>7</td></tr>\n",
       "\t<tr><td>punk </td><td>1990</td><td>Pennywise </td><td>5</td></tr>\n",
       "\t<tr><td>punk </td><td>2000</td><td>Black Flag</td><td>1</td></tr>\n",
       "\t<tr><td>metal</td><td>1980</td><td>Metallica </td><td>4</td></tr>\n",
       "\t<tr><td>metal</td><td>1990</td><td>Sepultura </td><td>4</td></tr>\n",
       "\t<tr><td>metal</td><td>2000</td><td>Gojira    </td><td>4</td></tr>\n",
       "</tbody>\n",
       "</table>\n"
      ],
      "text/latex": [
       "A tibble: 6 × 4\n",
       "\\begin{tabular}{llll}\n",
       " Style & Decade & Band & Albums\\_in\\_Decade\\\\\n",
       " <chr> & <dbl> & <chr> & <dbl>\\\\\n",
       "\\hline\n",
       "\t punk  & 1980 & Ramones    & 7\\\\\n",
       "\t punk  & 1990 & Pennywise  & 5\\\\\n",
       "\t punk  & 2000 & Black Flag & 1\\\\\n",
       "\t metal & 1980 & Metallica  & 4\\\\\n",
       "\t metal & 1990 & Sepultura  & 4\\\\\n",
       "\t metal & 2000 & Gojira     & 4\\\\\n",
       "\\end{tabular}\n"
      ],
      "text/markdown": [
       "\n",
       "A tibble: 6 × 4\n",
       "\n",
       "| Style &lt;chr&gt; | Decade &lt;dbl&gt; | Band &lt;chr&gt; | Albums_in_Decade &lt;dbl&gt; |\n",
       "|---|---|---|---|\n",
       "| punk  | 1980 | Ramones    | 7 |\n",
       "| punk  | 1990 | Pennywise  | 5 |\n",
       "| punk  | 2000 | Black Flag | 1 |\n",
       "| metal | 1980 | Metallica  | 4 |\n",
       "| metal | 1990 | Sepultura  | 4 |\n",
       "| metal | 2000 | Gojira     | 4 |\n",
       "\n"
      ],
      "text/plain": [
       "  Style Decade Band       Albums_in_Decade\n",
       "1 punk  1980   Ramones    7               \n",
       "2 punk  1990   Pennywise  5               \n",
       "3 punk  2000   Black Flag 1               \n",
       "4 metal 1980   Metallica  4               \n",
       "5 metal 1990   Sepultura  4               \n",
       "6 metal 2000   Gojira     4               "
      ]
     },
     "metadata": {},
     "output_type": "display_data"
    }
   ],
   "source": [
    "long_df_rank"
   ]
  },
  {
   "cell_type": "markdown",
   "metadata": {},
   "source": [
    "## Reflection\n",
    "\n",
    "Consider the `singer_locations` dataframe. What is the observational unit in that case?"
   ]
  },
  {
   "cell_type": "code",
   "execution_count": 60,
   "metadata": {},
   "outputs": [
    {
     "name": "stdout",
     "output_type": "stream",
     "text": [
      "── Data Summary ────────────────────────\n",
      "                           Values    \n",
      "Name                       Piped data\n",
      "Number of rows             10100     \n",
      "Number of columns          14        \n",
      "_______________________              \n",
      "Column type frequency:               \n",
      "  character                8         \n",
      "  numeric                  6         \n",
      "________________________             \n",
      "Group variables            None      \n",
      "\n",
      "── Variable type: character ────────────────────────────────────────────────────\n",
      "  skim_variable n_missing complete_rate min max empty n_unique whitespace\n",
      "\u001b[90m1\u001b[39m track_id              0         1      18  18     0    \u001b[4m1\u001b[24m\u001b[4m0\u001b[24m100          0\n",
      "\u001b[90m2\u001b[39m title                 0         1       1 118     0     \u001b[4m9\u001b[24m799          0\n",
      "\u001b[90m3\u001b[39m song_id               0         1      18  18     0    \u001b[4m1\u001b[24m\u001b[4m0\u001b[24m100          0\n",
      "\u001b[90m4\u001b[39m release               0         1       1 125     0     \u001b[4m9\u001b[24m049          0\n",
      "\u001b[90m5\u001b[39m artist_id             0         1      18  18     0     \u001b[4m7\u001b[24m346          0\n",
      "\u001b[90m6\u001b[39m artist_name           0         1       2 127     0     \u001b[4m7\u001b[24m498          0\n",
      "\u001b[90m7\u001b[39m name               \u001b[4m5\u001b[24m968         0.409   1 223     0     \u001b[4m2\u001b[24m912          0\n",
      "\u001b[90m8\u001b[39m city               \u001b[4m5\u001b[24m971         0.409   2  90     0     \u001b[4m1\u001b[24m316          0\n",
      "\n",
      "── Variable type: numeric ──────────────────────────────────────────────────────\n",
      "  skim_variable      n_missing complete_rate     mean      sd       p0      p25\n",
      "\u001b[90m1\u001b[39m year                       0         1     \u001b[4m1\u001b[24m979.    198.       0     \u001b[4m1\u001b[24m994    \n",
      "\u001b[90m2\u001b[39m duration                   0         1      248.    115.       0.600  184.   \n",
      "\u001b[90m3\u001b[39m artist_hotttnesss          0         1        0.415   0.110    0        0.364\n",
      "\u001b[90m4\u001b[39m artist_familiarity         0         1        0.598   0.126    0        0.516\n",
      "\u001b[90m5\u001b[39m latitude                \u001b[4m5\u001b[24m968         0.409   40.1    15.3    -\u001b[31m45\u001b[39m\u001b[31m.\u001b[39m\u001b[31m9\u001b[39m     35.1  \n",
      "\u001b[90m6\u001b[39m longitude               \u001b[4m5\u001b[24m968         0.409  -\u001b[31m53\u001b[39m\u001b[31m.\u001b[39m\u001b[31m6\u001b[39m    56.7   -\u001b[31m155\u001b[39m\u001b[31m.\u001b[39m     -\u001b[31m90\u001b[39m\u001b[31m.\u001b[39m\u001b[31m2\u001b[39m  \n",
      "       p50      p75    p100 hist \n",
      "\u001b[90m1\u001b[39m \u001b[4m2\u001b[24m002     \u001b[4m2\u001b[24m006     \u001b[4m2\u001b[24m010    ▁▁▁▁▇\n",
      "\u001b[90m2\u001b[39m  231.     288.    \u001b[4m2\u001b[24m149.   ▇▁▁▁▁\n",
      "\u001b[90m3\u001b[39m    0.410    0.467    1.02 ▁▇▇▁▁\n",
      "\u001b[90m4\u001b[39m    0.596    0.678    1    ▁▁▇▇▁\n",
      "\u001b[90m5\u001b[39m   40.7     50.9     69.7  ▁▁▁▇▅\n",
      "\u001b[90m6\u001b[39m  -\u001b[31m74\u001b[39m\u001b[31m.\u001b[39m\u001b[31m7\u001b[39m     -\u001b[31m1\u001b[39m\u001b[31m.\u001b[39m\u001b[31m46\u001b[39m   175.   ▆▇▇▁▁\n"
     ]
    },
    {
     "name": "stderr",
     "output_type": "stream",
     "text": [
      "Warning message in is.null(text_repr) || nchar(text_repr) == 0L:\n",
      "\"'length(x) = 17 > 1' in coercion to 'logical(1)'\"\n"
     ]
    },
    {
     "data": {
      "text/html": [
       "<table class=\"dataframe\">\n",
       "<caption>A skim_df: 14 × 17</caption>\n",
       "<thead>\n",
       "\t<tr><th></th><th scope=col>skim_type</th><th scope=col>skim_variable</th><th scope=col>n_missing</th><th scope=col>complete_rate</th><th scope=col>character.min</th><th scope=col>character.max</th><th scope=col>character.empty</th><th scope=col>character.n_unique</th><th scope=col>character.whitespace</th><th scope=col>numeric.mean</th><th scope=col>numeric.sd</th><th scope=col>numeric.p0</th><th scope=col>numeric.p25</th><th scope=col>numeric.p50</th><th scope=col>numeric.p75</th><th scope=col>numeric.p100</th><th scope=col>numeric.hist</th></tr>\n",
       "\t<tr><th></th><th scope=col>&lt;chr&gt;</th><th scope=col>&lt;chr&gt;</th><th scope=col>&lt;int&gt;</th><th scope=col>&lt;dbl&gt;</th><th scope=col>&lt;int&gt;</th><th scope=col>&lt;int&gt;</th><th scope=col>&lt;int&gt;</th><th scope=col>&lt;int&gt;</th><th scope=col>&lt;int&gt;</th><th scope=col>&lt;dbl&gt;</th><th scope=col>&lt;dbl&gt;</th><th scope=col>&lt;dbl&gt;</th><th scope=col>&lt;dbl&gt;</th><th scope=col>&lt;dbl&gt;</th><th scope=col>&lt;dbl&gt;</th><th scope=col>&lt;dbl&gt;</th><th scope=col>&lt;chr&gt;</th></tr>\n",
       "</thead>\n",
       "<tbody>\n",
       "\t<tr><th scope=row>1</th><td>character</td><td>track_id          </td><td>   0</td><td>1.0000000</td><td>18</td><td> 18</td><td> 0</td><td>10100</td><td> 0</td><td>          NA</td><td>         NA</td><td>        NA</td><td>          NA</td><td>          NA</td><td>          NA</td><td>         NA</td><td>NA   </td></tr>\n",
       "\t<tr><th scope=row>2</th><td>character</td><td>title             </td><td>   0</td><td>1.0000000</td><td> 1</td><td>118</td><td> 0</td><td> 9799</td><td> 0</td><td>          NA</td><td>         NA</td><td>        NA</td><td>          NA</td><td>          NA</td><td>          NA</td><td>         NA</td><td>NA   </td></tr>\n",
       "\t<tr><th scope=row>3</th><td>character</td><td>song_id           </td><td>   0</td><td>1.0000000</td><td>18</td><td> 18</td><td> 0</td><td>10100</td><td> 0</td><td>          NA</td><td>         NA</td><td>        NA</td><td>          NA</td><td>          NA</td><td>          NA</td><td>         NA</td><td>NA   </td></tr>\n",
       "\t<tr><th scope=row>4</th><td>character</td><td>release           </td><td>   0</td><td>1.0000000</td><td> 1</td><td>125</td><td> 0</td><td> 9049</td><td> 0</td><td>          NA</td><td>         NA</td><td>        NA</td><td>          NA</td><td>          NA</td><td>          NA</td><td>         NA</td><td>NA   </td></tr>\n",
       "\t<tr><th scope=row>5</th><td>character</td><td>artist_id         </td><td>   0</td><td>1.0000000</td><td>18</td><td> 18</td><td> 0</td><td> 7346</td><td> 0</td><td>          NA</td><td>         NA</td><td>        NA</td><td>          NA</td><td>          NA</td><td>          NA</td><td>         NA</td><td>NA   </td></tr>\n",
       "\t<tr><th scope=row>6</th><td>character</td><td>artist_name       </td><td>   0</td><td>1.0000000</td><td> 2</td><td>127</td><td> 0</td><td> 7498</td><td> 0</td><td>          NA</td><td>         NA</td><td>        NA</td><td>          NA</td><td>          NA</td><td>          NA</td><td>         NA</td><td>NA   </td></tr>\n",
       "\t<tr><th scope=row>7</th><td>character</td><td>name              </td><td>5968</td><td>0.4091089</td><td> 1</td><td>223</td><td> 0</td><td> 2912</td><td> 0</td><td>          NA</td><td>         NA</td><td>        NA</td><td>          NA</td><td>          NA</td><td>          NA</td><td>         NA</td><td>NA   </td></tr>\n",
       "\t<tr><th scope=row>8</th><td>character</td><td>city              </td><td>5971</td><td>0.4088119</td><td> 2</td><td> 90</td><td> 0</td><td> 1316</td><td> 0</td><td>          NA</td><td>         NA</td><td>        NA</td><td>          NA</td><td>          NA</td><td>          NA</td><td>         NA</td><td>NA   </td></tr>\n",
       "\t<tr><th scope=row>9</th><td>numeric  </td><td>year              </td><td>   0</td><td>1.0000000</td><td>NA</td><td> NA</td><td>NA</td><td>   NA</td><td>NA</td><td>1978.5784158</td><td>198.1651527</td><td>   0.00000</td><td>1994.0000000</td><td>2002.0000000</td><td>2006.0000000</td><td>2010.000000</td><td>▁▁▁▁▇</td></tr>\n",
       "\t<tr><th scope=row>10</th><td>numeric  </td><td>duration          </td><td>   0</td><td>1.0000000</td><td>NA</td><td> NA</td><td>NA</td><td>   NA</td><td>NA</td><td> 248.3993523</td><td>115.3733651</td><td>   0.60036</td><td> 184.0517900</td><td> 231.3791400</td><td> 288.4566900</td><td>2149.328530</td><td>▇▁▁▁▁</td></tr>\n",
       "\t<tr><th scope=row>11</th><td>numeric  </td><td>artist_hotttnesss </td><td>   0</td><td>1.0000000</td><td>NA</td><td> NA</td><td>NA</td><td>   NA</td><td>NA</td><td>   0.4149219</td><td>  0.1102882</td><td>   0.00000</td><td>   0.3644032</td><td>   0.4098406</td><td>   0.4672968</td><td>   1.021256</td><td>▁▇▇▁▁</td></tr>\n",
       "\t<tr><th scope=row>12</th><td>numeric  </td><td>artist_familiarity</td><td>   0</td><td>1.0000000</td><td>NA</td><td> NA</td><td>NA</td><td>   NA</td><td>NA</td><td>   0.5975895</td><td>  0.1259589</td><td>   0.00000</td><td>   0.5163572</td><td>   0.5959966</td><td>   0.6781187</td><td>   1.000000</td><td>▁▁▇▇▁</td></tr>\n",
       "\t<tr><th scope=row>13</th><td>numeric  </td><td>latitude          </td><td>5968</td><td>0.4091089</td><td>NA</td><td> NA</td><td>NA</td><td>   NA</td><td>NA</td><td>  40.0528621</td><td> 15.2634867</td><td> -45.87450</td><td>  35.1496800</td><td>  40.7145500</td><td>  50.8842300</td><td>  69.651020</td><td>▁▁▁▇▅</td></tr>\n",
       "\t<tr><th scope=row>14</th><td>numeric  </td><td>longitude         </td><td>5968</td><td>0.4091089</td><td>NA</td><td> NA</td><td>NA</td><td>   NA</td><td>NA</td><td> -53.6315298</td><td> 56.6865203</td><td>-155.43414</td><td> -90.1995100</td><td> -74.7267100</td><td>  -1.4645400</td><td> 175.471310</td><td>▆▇▇▁▁</td></tr>\n",
       "</tbody>\n",
       "</table>\n"
      ],
      "text/latex": [
       "A skim\\_df: 14 × 17\n",
       "\\begin{tabular}{r|lllllllllllllllll}\n",
       "  & skim\\_type & skim\\_variable & n\\_missing & complete\\_rate & character.min & character.max & character.empty & character.n\\_unique & character.whitespace & numeric.mean & numeric.sd & numeric.p0 & numeric.p25 & numeric.p50 & numeric.p75 & numeric.p100 & numeric.hist\\\\\n",
       "  & <chr> & <chr> & <int> & <dbl> & <int> & <int> & <int> & <int> & <int> & <dbl> & <dbl> & <dbl> & <dbl> & <dbl> & <dbl> & <dbl> & <chr>\\\\\n",
       "\\hline\n",
       "\t1 & character & track\\_id           &    0 & 1.0000000 & 18 &  18 &  0 & 10100 &  0 &           NA &          NA &         NA &           NA &           NA &           NA &          NA & NA   \\\\\n",
       "\t2 & character & title              &    0 & 1.0000000 &  1 & 118 &  0 &  9799 &  0 &           NA &          NA &         NA &           NA &           NA &           NA &          NA & NA   \\\\\n",
       "\t3 & character & song\\_id            &    0 & 1.0000000 & 18 &  18 &  0 & 10100 &  0 &           NA &          NA &         NA &           NA &           NA &           NA &          NA & NA   \\\\\n",
       "\t4 & character & release            &    0 & 1.0000000 &  1 & 125 &  0 &  9049 &  0 &           NA &          NA &         NA &           NA &           NA &           NA &          NA & NA   \\\\\n",
       "\t5 & character & artist\\_id          &    0 & 1.0000000 & 18 &  18 &  0 &  7346 &  0 &           NA &          NA &         NA &           NA &           NA &           NA &          NA & NA   \\\\\n",
       "\t6 & character & artist\\_name        &    0 & 1.0000000 &  2 & 127 &  0 &  7498 &  0 &           NA &          NA &         NA &           NA &           NA &           NA &          NA & NA   \\\\\n",
       "\t7 & character & name               & 5968 & 0.4091089 &  1 & 223 &  0 &  2912 &  0 &           NA &          NA &         NA &           NA &           NA &           NA &          NA & NA   \\\\\n",
       "\t8 & character & city               & 5971 & 0.4088119 &  2 &  90 &  0 &  1316 &  0 &           NA &          NA &         NA &           NA &           NA &           NA &          NA & NA   \\\\\n",
       "\t9 & numeric   & year               &    0 & 1.0000000 & NA &  NA & NA &    NA & NA & 1978.5784158 & 198.1651527 &    0.00000 & 1994.0000000 & 2002.0000000 & 2006.0000000 & 2010.000000 & ▁▁▁▁▇\\\\\n",
       "\t10 & numeric   & duration           &    0 & 1.0000000 & NA &  NA & NA &    NA & NA &  248.3993523 & 115.3733651 &    0.60036 &  184.0517900 &  231.3791400 &  288.4566900 & 2149.328530 & ▇▁▁▁▁\\\\\n",
       "\t11 & numeric   & artist\\_hotttnesss  &    0 & 1.0000000 & NA &  NA & NA &    NA & NA &    0.4149219 &   0.1102882 &    0.00000 &    0.3644032 &    0.4098406 &    0.4672968 &    1.021256 & ▁▇▇▁▁\\\\\n",
       "\t12 & numeric   & artist\\_familiarity &    0 & 1.0000000 & NA &  NA & NA &    NA & NA &    0.5975895 &   0.1259589 &    0.00000 &    0.5163572 &    0.5959966 &    0.6781187 &    1.000000 & ▁▁▇▇▁\\\\\n",
       "\t13 & numeric   & latitude           & 5968 & 0.4091089 & NA &  NA & NA &    NA & NA &   40.0528621 &  15.2634867 &  -45.87450 &   35.1496800 &   40.7145500 &   50.8842300 &   69.651020 & ▁▁▁▇▅\\\\\n",
       "\t14 & numeric   & longitude          & 5968 & 0.4091089 & NA &  NA & NA &    NA & NA &  -53.6315298 &  56.6865203 & -155.43414 &  -90.1995100 &  -74.7267100 &   -1.4645400 &  175.471310 & ▆▇▇▁▁\\\\\n",
       "\\end{tabular}\n"
      ],
      "text/markdown": [
       "\n",
       "A skim_df: 14 × 17\n",
       "\n",
       "| <!--/--> | skim_type &lt;chr&gt; | skim_variable &lt;chr&gt; | n_missing &lt;int&gt; | complete_rate &lt;dbl&gt; | character.min &lt;int&gt; | character.max &lt;int&gt; | character.empty &lt;int&gt; | character.n_unique &lt;int&gt; | character.whitespace &lt;int&gt; | numeric.mean &lt;dbl&gt; | numeric.sd &lt;dbl&gt; | numeric.p0 &lt;dbl&gt; | numeric.p25 &lt;dbl&gt; | numeric.p50 &lt;dbl&gt; | numeric.p75 &lt;dbl&gt; | numeric.p100 &lt;dbl&gt; | numeric.hist &lt;chr&gt; |\n",
       "|---|---|---|---|---|---|---|---|---|---|---|---|---|---|---|---|---|---|\n",
       "| 1 | character | track_id           |    0 | 1.0000000 | 18 |  18 |  0 | 10100 |  0 |           NA |          NA |         NA |           NA |           NA |           NA |          NA | NA    |\n",
       "| 2 | character | title              |    0 | 1.0000000 |  1 | 118 |  0 |  9799 |  0 |           NA |          NA |         NA |           NA |           NA |           NA |          NA | NA    |\n",
       "| 3 | character | song_id            |    0 | 1.0000000 | 18 |  18 |  0 | 10100 |  0 |           NA |          NA |         NA |           NA |           NA |           NA |          NA | NA    |\n",
       "| 4 | character | release            |    0 | 1.0000000 |  1 | 125 |  0 |  9049 |  0 |           NA |          NA |         NA |           NA |           NA |           NA |          NA | NA    |\n",
       "| 5 | character | artist_id          |    0 | 1.0000000 | 18 |  18 |  0 |  7346 |  0 |           NA |          NA |         NA |           NA |           NA |           NA |          NA | NA    |\n",
       "| 6 | character | artist_name        |    0 | 1.0000000 |  2 | 127 |  0 |  7498 |  0 |           NA |          NA |         NA |           NA |           NA |           NA |          NA | NA    |\n",
       "| 7 | character | name               | 5968 | 0.4091089 |  1 | 223 |  0 |  2912 |  0 |           NA |          NA |         NA |           NA |           NA |           NA |          NA | NA    |\n",
       "| 8 | character | city               | 5971 | 0.4088119 |  2 |  90 |  0 |  1316 |  0 |           NA |          NA |         NA |           NA |           NA |           NA |          NA | NA    |\n",
       "| 9 | numeric   | year               |    0 | 1.0000000 | NA |  NA | NA |    NA | NA | 1978.5784158 | 198.1651527 |    0.00000 | 1994.0000000 | 2002.0000000 | 2006.0000000 | 2010.000000 | ▁▁▁▁▇ |\n",
       "| 10 | numeric   | duration           |    0 | 1.0000000 | NA |  NA | NA |    NA | NA |  248.3993523 | 115.3733651 |    0.60036 |  184.0517900 |  231.3791400 |  288.4566900 | 2149.328530 | ▇▁▁▁▁ |\n",
       "| 11 | numeric   | artist_hotttnesss  |    0 | 1.0000000 | NA |  NA | NA |    NA | NA |    0.4149219 |   0.1102882 |    0.00000 |    0.3644032 |    0.4098406 |    0.4672968 |    1.021256 | ▁▇▇▁▁ |\n",
       "| 12 | numeric   | artist_familiarity |    0 | 1.0000000 | NA |  NA | NA |    NA | NA |    0.5975895 |   0.1259589 |    0.00000 |    0.5163572 |    0.5959966 |    0.6781187 |    1.000000 | ▁▁▇▇▁ |\n",
       "| 13 | numeric   | latitude           | 5968 | 0.4091089 | NA |  NA | NA |    NA | NA |   40.0528621 |  15.2634867 |  -45.87450 |   35.1496800 |   40.7145500 |   50.8842300 |   69.651020 | ▁▁▁▇▅ |\n",
       "| 14 | numeric   | longitude          | 5968 | 0.4091089 | NA |  NA | NA |    NA | NA |  -53.6315298 |  56.6865203 | -155.43414 |  -90.1995100 |  -74.7267100 |   -1.4645400 |  175.471310 | ▆▇▇▁▁ |\n",
       "\n"
      ],
      "text/plain": [
       {
        "character.empty": 0,
        "character.max": 18,
        "character.min": 18,
        "character.n_unique": 10100,
        "character.whitespace": 0,
        "complete_rate": 1,
        "n_missing": 0,
        "skim_type": "character",
        "skim_variable": "track_id"
       },
       {
        "character.empty": 0,
        "character.max": 118,
        "character.min": 1,
        "character.n_unique": 9799,
        "character.whitespace": 0,
        "complete_rate": 1,
        "n_missing": 0,
        "skim_type": "character",
        "skim_variable": "title"
       },
       {
        "character.empty": 0,
        "character.max": 18,
        "character.min": 18,
        "character.n_unique": 10100,
        "character.whitespace": 0,
        "complete_rate": 1,
        "n_missing": 0,
        "skim_type": "character",
        "skim_variable": "song_id"
       },
       {
        "character.empty": 0,
        "character.max": 125,
        "character.min": 1,
        "character.n_unique": 9049,
        "character.whitespace": 0,
        "complete_rate": 1,
        "n_missing": 0,
        "skim_type": "character",
        "skim_variable": "release"
       },
       {
        "character.empty": 0,
        "character.max": 18,
        "character.min": 18,
        "character.n_unique": 7346,
        "character.whitespace": 0,
        "complete_rate": 1,
        "n_missing": 0,
        "skim_type": "character",
        "skim_variable": "artist_id"
       },
       {
        "character.empty": 0,
        "character.max": 127,
        "character.min": 2,
        "character.n_unique": 7498,
        "character.whitespace": 0,
        "complete_rate": 1,
        "n_missing": 0,
        "skim_type": "character",
        "skim_variable": "artist_name"
       },
       {
        "character.empty": 0,
        "character.max": 223,
        "character.min": 1,
        "character.n_unique": 2912,
        "character.whitespace": 0,
        "complete_rate": 0.4091,
        "n_missing": 5968,
        "skim_type": "character",
        "skim_variable": "name"
       },
       {
        "character.empty": 0,
        "character.max": 90,
        "character.min": 2,
        "character.n_unique": 1316,
        "character.whitespace": 0,
        "complete_rate": 0.4088,
        "n_missing": 5971,
        "skim_type": "character",
        "skim_variable": "city"
       },
       {
        "complete_rate": 1,
        "n_missing": 0,
        "numeric.hist": "▁▁▁▁▇",
        "numeric.mean": 1978.5784,
        "numeric.p0": 0,
        "numeric.p100": 2010,
        "numeric.p25": 1994,
        "numeric.p50": 2002,
        "numeric.p75": 2006,
        "numeric.sd": 198.1652,
        "skim_type": "numeric",
        "skim_variable": "year"
       },
       {
        "complete_rate": 1,
        "n_missing": 0,
        "numeric.hist": "▇▁▁▁▁",
        "numeric.mean": 248.3994,
        "numeric.p0": 0.6004,
        "numeric.p100": 2149.3285,
        "numeric.p25": 184.0518,
        "numeric.p50": 231.3791,
        "numeric.p75": 288.4567,
        "numeric.sd": 115.3734,
        "skim_type": "numeric",
        "skim_variable": "duration"
       },
       {
        "complete_rate": 1,
        "n_missing": 0,
        "numeric.hist": "▁▇▇▁▁",
        "numeric.mean": 0.4149,
        "numeric.p0": 0,
        "numeric.p100": 1.0213,
        "numeric.p25": 0.3644,
        "numeric.p50": 0.4098,
        "numeric.p75": 0.4673,
        "numeric.sd": 0.1103,
        "skim_type": "numeric",
        "skim_variable": "artist_hotttnesss"
       },
       {
        "complete_rate": 1,
        "n_missing": 0,
        "numeric.hist": "▁▁▇▇▁",
        "numeric.mean": 0.5976,
        "numeric.p0": 0,
        "numeric.p100": 1,
        "numeric.p25": 0.5164,
        "numeric.p50": 0.596,
        "numeric.p75": 0.6781,
        "numeric.sd": 0.126,
        "skim_type": "numeric",
        "skim_variable": "artist_familiarity"
       },
       {
        "complete_rate": 0.4091,
        "n_missing": 5968,
        "numeric.hist": "▁▁▁▇▅",
        "numeric.mean": 40.0529,
        "numeric.p0": -45.8745,
        "numeric.p100": 69.651,
        "numeric.p25": 35.1497,
        "numeric.p50": 40.7146,
        "numeric.p75": 50.8842,
        "numeric.sd": 15.2635,
        "skim_type": "numeric",
        "skim_variable": "latitude"
       },
       {
        "complete_rate": 0.4091,
        "n_missing": 5968,
        "numeric.hist": "▆▇▇▁▁",
        "numeric.mean": -53.6315,
        "numeric.p0": -155.4341,
        "numeric.p100": 175.4713,
        "numeric.p25": -90.1995,
        "numeric.p50": -74.7267,
        "numeric.p75": -1.4645,
        "numeric.sd": 56.6865,
        "skim_type": "numeric",
        "skim_variable": "longitude"
       }
      ]
     },
     "metadata": {},
     "output_type": "display_data"
    }
   ],
   "source": [
    "library(singer)\n",
    "library(skimr)\n",
    "singer_locations %>%\n",
    "  skim()"
   ]
  },
  {
   "cell_type": "markdown",
   "metadata": {},
   "source": [
    "## Avoiding trouble"
   ]
  },
  {
   "cell_type": "markdown",
   "metadata": {},
   "source": [
    "The five most common things that make data messy are:\n",
    "\n",
    "\n",
    "\n",
    " 1.   Column headers are values, not variable names.\n",
    "\n",
    " 2.   Multiple variables are stored in one column.\n",
    "\n",
    " 3.   Variables are stored in both rows and columns.\n",
    "\n",
    " 4.   Multiple types of observational units are stored in the same table.\n",
    "\n",
    " 5.   A single observational unit is stored in multiple tables.\n",
    "\n",
    "(from https://tidyr.tidyverse.org/articles/tidy-data.html#sec:tidying)"
   ]
  },
  {
   "cell_type": "markdown",
   "metadata": {},
   "source": [
    "We saw an violation of `1` in `wide_df`: the years (1980, 1990, 2000) are values, not variable names. We solved it making the dataframe longer.\n",
    "\n",
    "We saw a violation of `1` in `messy_df_rank` and `messy_df_rank_2`: two different variables were stored in the same column. `long_df_rank` and `long_df_rank_2` contain the same information of their messy counterpart but avoid this mistake."
   ]
  },
  {
   "cell_type": "markdown",
   "metadata": {},
   "source": [
    "### Challenge reflection\n",
    "\n",
    "Is singer locations tidy or not? If not, what can you do to make it tidyer?"
   ]
  },
  {
   "cell_type": "markdown",
   "metadata": {},
   "source": [
    "# Join together!"
   ]
  },
  {
   "cell_type": "markdown",
   "metadata": {},
   "source": [
    "As we have seen, a tidy dataframe can not contain all the information we need about our problem.  \n",
    "\n",
    "No worries! We can join two or more dataframes together!\n",
    "\n",
    "In the lab we'll only see a little bit of this, in the next lecture Thomas will go in details."
   ]
  },
  {
   "cell_type": "markdown",
   "metadata": {},
   "source": [
    "Let's go back to one of the tiny examples we saw in lecture 2. The one with John playing the Guitar."
   ]
  },
  {
   "cell_type": "code",
   "execution_count": 61,
   "metadata": {},
   "outputs": [
    {
     "data": {
      "text/html": [
       "'instruments'"
      ],
      "text/latex": [
       "'instruments'"
      ],
      "text/markdown": [
       "'instruments'"
      ],
      "text/plain": [
       "[1] \"instruments\""
      ]
     },
     "metadata": {},
     "output_type": "display_data"
    },
    {
     "data": {
      "text/html": [
       "<table class=\"dataframe\">\n",
       "<caption>A tibble: 3 × 2</caption>\n",
       "<thead>\n",
       "\t<tr><th scope=col>name</th><th scope=col>plays</th></tr>\n",
       "\t<tr><th scope=col>&lt;chr&gt;</th><th scope=col>&lt;chr&gt;</th></tr>\n",
       "</thead>\n",
       "<tbody>\n",
       "\t<tr><td>John </td><td>guitar</td></tr>\n",
       "\t<tr><td>Paul </td><td>bass  </td></tr>\n",
       "\t<tr><td>Keith</td><td>guitar</td></tr>\n",
       "</tbody>\n",
       "</table>\n"
      ],
      "text/latex": [
       "A tibble: 3 × 2\n",
       "\\begin{tabular}{ll}\n",
       " name & plays\\\\\n",
       " <chr> & <chr>\\\\\n",
       "\\hline\n",
       "\t John  & guitar\\\\\n",
       "\t Paul  & bass  \\\\\n",
       "\t Keith & guitar\\\\\n",
       "\\end{tabular}\n"
      ],
      "text/markdown": [
       "\n",
       "A tibble: 3 × 2\n",
       "\n",
       "| name &lt;chr&gt; | plays &lt;chr&gt; |\n",
       "|---|---|\n",
       "| John  | guitar |\n",
       "| Paul  | bass   |\n",
       "| Keith | guitar |\n",
       "\n"
      ],
      "text/plain": [
       "  name  plays \n",
       "1 John  guitar\n",
       "2 Paul  bass  \n",
       "3 Keith guitar"
      ]
     },
     "metadata": {},
     "output_type": "display_data"
    },
    {
     "data": {
      "text/html": [
       "'members'"
      ],
      "text/latex": [
       "'members'"
      ],
      "text/markdown": [
       "'members'"
      ],
      "text/plain": [
       "[1] \"members\""
      ]
     },
     "metadata": {},
     "output_type": "display_data"
    },
    {
     "data": {
      "text/html": [
       "<table class=\"dataframe\">\n",
       "<caption>A tibble: 3 × 2</caption>\n",
       "<thead>\n",
       "\t<tr><th scope=col>name</th><th scope=col>band</th></tr>\n",
       "\t<tr><th scope=col>&lt;chr&gt;</th><th scope=col>&lt;chr&gt;</th></tr>\n",
       "</thead>\n",
       "<tbody>\n",
       "\t<tr><td>Mick</td><td>Stones </td></tr>\n",
       "\t<tr><td>John</td><td>Beatles</td></tr>\n",
       "\t<tr><td>Paul</td><td>Beatles</td></tr>\n",
       "</tbody>\n",
       "</table>\n"
      ],
      "text/latex": [
       "A tibble: 3 × 2\n",
       "\\begin{tabular}{ll}\n",
       " name & band\\\\\n",
       " <chr> & <chr>\\\\\n",
       "\\hline\n",
       "\t Mick & Stones \\\\\n",
       "\t John & Beatles\\\\\n",
       "\t Paul & Beatles\\\\\n",
       "\\end{tabular}\n"
      ],
      "text/markdown": [
       "\n",
       "A tibble: 3 × 2\n",
       "\n",
       "| name &lt;chr&gt; | band &lt;chr&gt; |\n",
       "|---|---|\n",
       "| Mick | Stones  |\n",
       "| John | Beatles |\n",
       "| Paul | Beatles |\n",
       "\n"
      ],
      "text/plain": [
       "  name band   \n",
       "1 Mick Stones \n",
       "2 John Beatles\n",
       "3 Paul Beatles"
      ]
     },
     "metadata": {},
     "output_type": "display_data"
    }
   ],
   "source": [
    "\"instruments\"\n",
    "band_instruments\n",
    "\"members\"\n",
    "band_members"
   ]
  },
  {
   "cell_type": "markdown",
   "metadata": {},
   "source": [
    "We want to know who plays the bass in the Beatles.  \n",
    "We can do it in two different ways:  \n",
    "\n",
    "1) we first look at `band_members`, find who plays in the Beatles, remember those names; then, with those names in mind we look at the `band_instruments` and see what those musicians play.  \n",
    "2) we first look at `band_instruments`, find who plays the bass, remember those names; then, with those names in mind we look at the `band_members` and see in which band those musicians play.\n",
    "\n",
    "In this particular case the second one is easier (why?). But, the important thing is that one column allows us to bridge one table with the other."
   ]
  },
  {
   "cell_type": "markdown",
   "metadata": {},
   "source": [
    "There are many ways of doing this in R. Now we see one based on `join`ing (_glueing_) the tables together.  \n",
    "Observe what `left_join` does:"
   ]
  },
  {
   "cell_type": "code",
   "execution_count": 64,
   "metadata": {},
   "outputs": [
    {
     "data": {
      "text/html": [
       "<table class=\"dataframe\">\n",
       "<caption>A tibble: 3 × 3</caption>\n",
       "<thead>\n",
       "\t<tr><th scope=col>name</th><th scope=col>band</th><th scope=col>plays</th></tr>\n",
       "\t<tr><th scope=col>&lt;chr&gt;</th><th scope=col>&lt;chr&gt;</th><th scope=col>&lt;chr&gt;</th></tr>\n",
       "</thead>\n",
       "<tbody>\n",
       "\t<tr><td>Mick</td><td>Stones </td><td>NA    </td></tr>\n",
       "\t<tr><td>John</td><td>Beatles</td><td>guitar</td></tr>\n",
       "\t<tr><td>Paul</td><td>Beatles</td><td>bass  </td></tr>\n",
       "</tbody>\n",
       "</table>\n"
      ],
      "text/latex": [
       "A tibble: 3 × 3\n",
       "\\begin{tabular}{lll}\n",
       " name & band & plays\\\\\n",
       " <chr> & <chr> & <chr>\\\\\n",
       "\\hline\n",
       "\t Mick & Stones  & NA    \\\\\n",
       "\t John & Beatles & guitar\\\\\n",
       "\t Paul & Beatles & bass  \\\\\n",
       "\\end{tabular}\n"
      ],
      "text/markdown": [
       "\n",
       "A tibble: 3 × 3\n",
       "\n",
       "| name &lt;chr&gt; | band &lt;chr&gt; | plays &lt;chr&gt; |\n",
       "|---|---|---|\n",
       "| Mick | Stones  | NA     |\n",
       "| John | Beatles | guitar |\n",
       "| Paul | Beatles | bass   |\n",
       "\n"
      ],
      "text/plain": [
       "  name band    plays \n",
       "1 Mick Stones  NA    \n",
       "2 John Beatles guitar\n",
       "3 Paul Beatles bass  "
      ]
     },
     "metadata": {},
     "output_type": "display_data"
    }
   ],
   "source": [
    "band_members %>%\n",
    " left_join(band_instruments, by = \"name\")"
   ]
  },
  {
   "cell_type": "markdown",
   "metadata": {},
   "source": [
    "This is not exactly what we did in 1), but almost. For any of the name in `band_members` we went to the instruments table and look up what they play. One of the band members name is not in the instruments table, so we indicate with `NA` that we don't have that information. Compare it with `right_join()`, where we first look at the band_instruments table (the dataframe which is written on the right of the join function) and then go back to the members table."
   ]
  },
  {
   "cell_type": "code",
   "execution_count": 63,
   "metadata": {},
   "outputs": [
    {
     "data": {
      "text/html": [
       "<table class=\"dataframe\">\n",
       "<caption>A tibble: 4 × 3</caption>\n",
       "<thead>\n",
       "\t<tr><th scope=col>name</th><th scope=col>band</th><th scope=col>plays</th></tr>\n",
       "\t<tr><th scope=col>&lt;chr&gt;</th><th scope=col>&lt;chr&gt;</th><th scope=col>&lt;chr&gt;</th></tr>\n",
       "</thead>\n",
       "<tbody>\n",
       "\t<tr><td>Mick </td><td>Stones </td><td>NA    </td></tr>\n",
       "\t<tr><td>John </td><td>Beatles</td><td>guitar</td></tr>\n",
       "\t<tr><td>Paul </td><td>Beatles</td><td>bass  </td></tr>\n",
       "\t<tr><td>Keith</td><td>NA     </td><td>guitar</td></tr>\n",
       "</tbody>\n",
       "</table>\n"
      ],
      "text/latex": [
       "A tibble: 4 × 3\n",
       "\\begin{tabular}{lll}\n",
       " name & band & plays\\\\\n",
       " <chr> & <chr> & <chr>\\\\\n",
       "\\hline\n",
       "\t Mick  & Stones  & NA    \\\\\n",
       "\t John  & Beatles & guitar\\\\\n",
       "\t Paul  & Beatles & bass  \\\\\n",
       "\t Keith & NA      & guitar\\\\\n",
       "\\end{tabular}\n"
      ],
      "text/markdown": [
       "\n",
       "A tibble: 4 × 3\n",
       "\n",
       "| name &lt;chr&gt; | band &lt;chr&gt; | plays &lt;chr&gt; |\n",
       "|---|---|---|\n",
       "| Mick  | Stones  | NA     |\n",
       "| John  | Beatles | guitar |\n",
       "| Paul  | Beatles | bass   |\n",
       "| Keith | NA      | guitar |\n",
       "\n"
      ],
      "text/plain": [
       "  name  band    plays \n",
       "1 Mick  Stones  NA    \n",
       "2 John  Beatles guitar\n",
       "3 Paul  Beatles bass  \n",
       "4 Keith NA      guitar"
      ]
     },
     "metadata": {},
     "output_type": "display_data"
    }
   ],
   "source": [
    "band_members %>%\n",
    " full_join(band_instruments, by = \"name\")"
   ]
  },
  {
   "cell_type": "markdown",
   "metadata": {},
   "source": [
    "## Reflection\n",
    "\n",
    "Can you replicate the functioning of `right_join()` with a `left_join()` changing something else?\n",
    "\n",
    "> i would assume so. "
   ]
  },
  {
   "cell_type": "markdown",
   "metadata": {},
   "source": [
    "There are many other \"versions\" of `_join()`: you can find theme here: https://dplyr.tidyverse.org/reference/join.html\n",
    "\n",
    "Take a look and try them on band_members and instruments."
   ]
  },
  {
   "cell_type": "markdown",
   "metadata": {},
   "source": [
    "## Challenge 2: your turn!"
   ]
  },
  {
   "cell_type": "markdown",
   "metadata": {},
   "source": [
    "Consider the two following dataframes from `singer`."
   ]
  },
  {
   "cell_type": "code",
   "execution_count": 65,
   "metadata": {},
   "outputs": [
    {
     "name": "stdout",
     "output_type": "stream",
     "text": [
      "Rows: 14\n",
      "Columns: 4\n",
      "$ artist_name \u001b[3m\u001b[90m<chr>\u001b[39m\u001b[23m \"Pearl Jam\", \"Pearl Jam\", \"Pearl Jam\", \"Pearl Jam\", \"Pearl…\n",
      "$ city        \u001b[3m\u001b[90m<chr>\u001b[39m\u001b[23m \"Seattle, WA\", \"Seattle, WA\", \"Seattle, WA\", \"Seattle, WA\"…\n",
      "$ release     \u001b[3m\u001b[90m<chr>\u001b[39m\u001b[23m \"Binaural\", \"Vitalogy\", \"No Code\", \"Live On Two Legs\", \"Se…\n",
      "$ title       \u001b[3m\u001b[90m<chr>\u001b[39m\u001b[23m \"Grievance\", \"Stupidmop\", \"Present Tense\", \"MFC\", \"Lukin\",…\n",
      "Rows: 22\n",
      "Columns: 3\n",
      "$ title       \u001b[3m\u001b[90m<chr>\u001b[39m\u001b[23m \"Corduroy\", \"Grievance\", \"Stupidmop\", \"Present Tense\", \"MF…\n",
      "$ artist_name \u001b[3m\u001b[90m<chr>\u001b[39m\u001b[23m \"Pearl Jam\", \"Pearl Jam\", \"Pearl Jam\", \"Pearl Jam\", \"Pearl…\n",
      "$ year        \u001b[3m\u001b[90m<int>\u001b[39m\u001b[23m 1994, 2000, 1994, 1996, 1998, 1996, 1995, 1992, 1995, 1993…\n"
     ]
    }
   ],
   "source": [
    "locations %>%\n",
    "  glimpse()\n",
    "songs %>%\n",
    "  glimpse()"
   ]
  },
  {
   "cell_type": "markdown",
   "metadata": {},
   "source": [
    "They have some variable in common (which ones?) and some not in common (which ones?). Use `anti_join()` to find which songs are not present in the `locations` dataframe."
   ]
  },
  {
   "cell_type": "code",
   "execution_count": 70,
   "metadata": {},
   "outputs": [
    {
     "data": {
      "text/html": [
       "<table class=\"dataframe\">\n",
       "<caption>A tibble: 9 × 3</caption>\n",
       "<thead>\n",
       "\t<tr><th scope=col>title</th><th scope=col>artist_name</th><th scope=col>year</th></tr>\n",
       "\t<tr><th scope=col>&lt;chr&gt;</th><th scope=col>&lt;chr&gt;</th><th scope=col>&lt;int&gt;</th></tr>\n",
       "</thead>\n",
       "<tbody>\n",
       "\t<tr><td>Corduroy                        </td><td>Pearl Jam      </td><td>1994</td></tr>\n",
       "\t<tr><td>Martin_ Doom! It's Seven O'Clock</td><td>The Boo Radleys</td><td>1995</td></tr>\n",
       "\t<tr><td>Leaves And Sand                 </td><td>The Boo Radleys</td><td>1993</td></tr>\n",
       "\t<tr><td>Comb Your Hair                  </td><td>The Boo Radleys</td><td>1998</td></tr>\n",
       "\t<tr><td>Mine Again                      </td><td>Mariah Carey   </td><td>2005</td></tr>\n",
       "\t<tr><td>Don't Forget About Us           </td><td>Mariah Carey   </td><td>2005</td></tr>\n",
       "\t<tr><td>Babydoll                        </td><td>Mariah Carey   </td><td>1997</td></tr>\n",
       "\t<tr><td>Don't Forget About Us           </td><td>Mariah Carey   </td><td>2005</td></tr>\n",
       "\t<tr><td>Vision Of Love                  </td><td>Mariah Carey   </td><td>1990</td></tr>\n",
       "</tbody>\n",
       "</table>\n"
      ],
      "text/latex": [
       "A tibble: 9 × 3\n",
       "\\begin{tabular}{lll}\n",
       " title & artist\\_name & year\\\\\n",
       " <chr> & <chr> & <int>\\\\\n",
       "\\hline\n",
       "\t Corduroy                         & Pearl Jam       & 1994\\\\\n",
       "\t Martin\\_ Doom! It's Seven O'Clock & The Boo Radleys & 1995\\\\\n",
       "\t Leaves And Sand                  & The Boo Radleys & 1993\\\\\n",
       "\t Comb Your Hair                   & The Boo Radleys & 1998\\\\\n",
       "\t Mine Again                       & Mariah Carey    & 2005\\\\\n",
       "\t Don't Forget About Us            & Mariah Carey    & 2005\\\\\n",
       "\t Babydoll                         & Mariah Carey    & 1997\\\\\n",
       "\t Don't Forget About Us            & Mariah Carey    & 2005\\\\\n",
       "\t Vision Of Love                   & Mariah Carey    & 1990\\\\\n",
       "\\end{tabular}\n"
      ],
      "text/markdown": [
       "\n",
       "A tibble: 9 × 3\n",
       "\n",
       "| title &lt;chr&gt; | artist_name &lt;chr&gt; | year &lt;int&gt; |\n",
       "|---|---|---|\n",
       "| Corduroy                         | Pearl Jam       | 1994 |\n",
       "| Martin_ Doom! It's Seven O'Clock | The Boo Radleys | 1995 |\n",
       "| Leaves And Sand                  | The Boo Radleys | 1993 |\n",
       "| Comb Your Hair                   | The Boo Radleys | 1998 |\n",
       "| Mine Again                       | Mariah Carey    | 2005 |\n",
       "| Don't Forget About Us            | Mariah Carey    | 2005 |\n",
       "| Babydoll                         | Mariah Carey    | 1997 |\n",
       "| Don't Forget About Us            | Mariah Carey    | 2005 |\n",
       "| Vision Of Love                   | Mariah Carey    | 1990 |\n",
       "\n"
      ],
      "text/plain": [
       "  title                            artist_name     year\n",
       "1 Corduroy                         Pearl Jam       1994\n",
       "2 Martin_ Doom! It's Seven O'Clock The Boo Radleys 1995\n",
       "3 Leaves And Sand                  The Boo Radleys 1993\n",
       "4 Comb Your Hair                   The Boo Radleys 1998\n",
       "5 Mine Again                       Mariah Carey    2005\n",
       "6 Don't Forget About Us            Mariah Carey    2005\n",
       "7 Babydoll                         Mariah Carey    1997\n",
       "8 Don't Forget About Us            Mariah Carey    2005\n",
       "9 Vision Of Love                   Mariah Carey    1990"
      ]
     },
     "metadata": {},
     "output_type": "display_data"
    }
   ],
   "source": [
    "songs %>%\n",
    "  anti_join(locations, by = c(\"title\",\"artist_name\")) "
   ]
  },
  {
   "cell_type": "markdown",
   "metadata": {},
   "source": [
    "Now use one of the join operator and a `top_n()` to find the release with the oldest song."
   ]
  },
  {
   "cell_type": "code",
   "execution_count": 75,
   "metadata": {},
   "outputs": [
    {
     "data": {
      "text/html": [
       "<table class=\"dataframe\">\n",
       "<caption>A tibble: 1 × 5</caption>\n",
       "<thead>\n",
       "\t<tr><th scope=col>artist_name</th><th scope=col>city</th><th scope=col>release</th><th scope=col>title</th><th scope=col>year</th></tr>\n",
       "\t<tr><th scope=col>&lt;chr&gt;</th><th scope=col>&lt;chr&gt;</th><th scope=col>&lt;chr&gt;</th><th scope=col>&lt;chr&gt;</th><th scope=col>&lt;int&gt;</th></tr>\n",
       "</thead>\n",
       "<tbody>\n",
       "\t<tr><td>Carly Simon</td><td>New York, NY</td><td>No Secrets</td><td>It Was So Easy  (LP Version)</td><td>1972</td></tr>\n",
       "</tbody>\n",
       "</table>\n"
      ],
      "text/latex": [
       "A tibble: 1 × 5\n",
       "\\begin{tabular}{lllll}\n",
       " artist\\_name & city & release & title & year\\\\\n",
       " <chr> & <chr> & <chr> & <chr> & <int>\\\\\n",
       "\\hline\n",
       "\t Carly Simon & New York, NY & No Secrets & It Was So Easy  (LP Version) & 1972\\\\\n",
       "\\end{tabular}\n"
      ],
      "text/markdown": [
       "\n",
       "A tibble: 1 × 5\n",
       "\n",
       "| artist_name &lt;chr&gt; | city &lt;chr&gt; | release &lt;chr&gt; | title &lt;chr&gt; | year &lt;int&gt; |\n",
       "|---|---|---|---|---|\n",
       "| Carly Simon | New York, NY | No Secrets | It Was So Easy  (LP Version) | 1972 |\n",
       "\n"
      ],
      "text/plain": [
       "  artist_name city         release    title                        year\n",
       "1 Carly Simon New York, NY No Secrets It Was So Easy  (LP Version) 1972"
      ]
     },
     "metadata": {},
     "output_type": "display_data"
    }
   ],
   "source": [
    "locations %>%\n",
    "  inner_join(songs, by=c(\"title\",\"artist_name\")) %>% \n",
    "  top_n(1,desc(year)) # we need to specify \"desc()\" to be sure not to get the most recent release"
   ]
  },
  {
   "cell_type": "markdown",
   "metadata": {},
   "source": [
    "#### WARNING\n",
    "\n",
    "If you keep scrolling, you'll find solutions (one example of solutions) for challenges 1 and 2. Try FIRST to solve them by your own, and only after scroll down!\n",
    "\n",
    "- .\n",
    "- .\n",
    "- .\n",
    "- .\n",
    "- .\n",
    "- .\n",
    "- .\n",
    "- .\n",
    "- .\n",
    "- .\n",
    "- .\n",
    "- .\n",
    "- .\n",
    "- .\n",
    "- .\n",
    "- .\n",
    "- .\n",
    "- .\n",
    "- .\n",
    "- .\n",
    "- .\n",
    "- .\n",
    "- .\n",
    "- .\n",
    "- .\n",
    "- .\n",
    "- .\n",
    "- .\n",
    "- .\n",
    "- .\n",
    "- .\n",
    "- .\n",
    "- .\n",
    "- .\n",
    "- .\n",
    "- .\n",
    "- .\n",
    "- .\n",
    "- .\n",
    "- .\n",
    "- .\n",
    "- .\n",
    "- .\n",
    "- .\n",
    "- .\n",
    "- .\n",
    "- .\n",
    "- .\n",
    "- .\n",
    "- .\n",
    "- .\n",
    "- .\n",
    "- .\n",
    "- .\n",
    "- .\n",
    "- .\n",
    "- .\n",
    "- .\n",
    "- .\n",
    "- .\n",
    "- .\n",
    "- .\n",
    "- .\n",
    "- .\n",
    "- .\n",
    "- .\n",
    "- .\n",
    "- .\n",
    "- .\n",
    "- .\n",
    "- .\n",
    "- .\n",
    "- .\n",
    "- .\n",
    "- .\n",
    "- .\n",
    "- .\n",
    "- .\n",
    "- .\n",
    "- .\n",
    "- .\n",
    "- .\n",
    "- .\n",
    "- .\n",
    "- .\n",
    "- .\n",
    "- .\n",
    "- .\n",
    "- .\n",
    "- .\n",
    "- .\n",
    "- .\n",
    "- .\n",
    "- .\n",
    "- .\n",
    "- .\n",
    "- .\n",
    "- .\n",
    "- .\n",
    "- .\n",
    "- .\n",
    "- .\n",
    "- .\n",
    "- .\n",
    "- .\n",
    "- .\n",
    "- .\n",
    "- .\n",
    "- .\n",
    "- .\n",
    "- .\n",
    "- .\n",
    "- .\n",
    "- .\n",
    "- .\n",
    "- .\n",
    "- .\n",
    "- .\n",
    "- .\n",
    "- .\n",
    "- .\n",
    "- .\n",
    "- .\n",
    "- .\n",
    "- .\n",
    "- .\n",
    "- .\n",
    "- .\n",
    "- .\n",
    "- .\n",
    "- .\n",
    "- .\n",
    "- .\n",
    "- .\n",
    "- .\n",
    "- .\n",
    "- .\n",
    "- .\n",
    "- .\n",
    "- .\n",
    "- .\n",
    "- .\n",
    "- .\n",
    "- ."
   ]
  },
  {
   "cell_type": "markdown",
   "metadata": {},
   "source": [
    "## Solution to Challenge 1"
   ]
  },
  {
   "cell_type": "code",
   "execution_count": 39,
   "metadata": {},
   "outputs": [
    {
     "data": {
      "text/html": [
       "<table class=\"dataframe\">\n",
       "<caption>A grouped_df: 556 × 3</caption>\n",
       "<thead>\n",
       "\t<tr><th scope=col>lat</th><th scope=col>long</th><th scope=col>n</th></tr>\n",
       "\t<tr><th scope=col>&lt;dbl&gt;</th><th scope=col>&lt;dbl&gt;</th><th scope=col>&lt;int&gt;</th></tr>\n",
       "</thead>\n",
       "<tbody>\n",
       "\t<tr><td>41</td><td> -74</td><td>361</td></tr>\n",
       "\t<tr><td>34</td><td>-118</td><td>244</td></tr>\n",
       "\t<tr><td>52</td><td>   0</td><td>212</td></tr>\n",
       "\t<tr><td>40</td><td> -75</td><td>106</td></tr>\n",
       "\t<tr><td>38</td><td>-122</td><td>101</td></tr>\n",
       "\t<tr><td>53</td><td>  -2</td><td> 90</td></tr>\n",
       "\t<tr><td>42</td><td> -88</td><td> 77</td></tr>\n",
       "\t<tr><td>39</td><td> -77</td><td> 72</td></tr>\n",
       "\t<tr><td>51</td><td>  10</td><td> 64</td></tr>\n",
       "\t<tr><td>54</td><td>  -2</td><td> 59</td></tr>\n",
       "\t<tr><td>42</td><td> -83</td><td> 58</td></tr>\n",
       "\t<tr><td>42</td><td> -71</td><td> 42</td></tr>\n",
       "\t<tr><td>62</td><td>  18</td><td> 41</td></tr>\n",
       "\t<tr><td>48</td><td>-122</td><td> 40</td></tr>\n",
       "\t<tr><td>37</td><td>-119</td><td> 39</td></tr>\n",
       "\t<tr><td>49</td><td>   2</td><td> 39</td></tr>\n",
       "\t<tr><td>53</td><td>  -1</td><td> 39</td></tr>\n",
       "\t<tr><td>28</td><td> -82</td><td> 37</td></tr>\n",
       "\t<tr><td>31</td><td>-100</td><td> 36</td></tr>\n",
       "\t<tr><td>51</td><td>   0</td><td> 36</td></tr>\n",
       "\t<tr><td>36</td><td> -87</td><td> 34</td></tr>\n",
       "\t<tr><td>53</td><td>  -3</td><td> 34</td></tr>\n",
       "\t<tr><td>18</td><td> -77</td><td> 32</td></tr>\n",
       "\t<tr><td>52</td><td>  -2</td><td> 31</td></tr>\n",
       "\t<tr><td>33</td><td> -97</td><td> 28</td></tr>\n",
       "\t<tr><td>35</td><td> -90</td><td> 28</td></tr>\n",
       "\t<tr><td>51</td><td>  -3</td><td> 28</td></tr>\n",
       "\t<tr><td>37</td><td> -96</td><td> 25</td></tr>\n",
       "\t<tr><td>42</td><td> -82</td><td> 25</td></tr>\n",
       "\t<tr><td>56</td><td>  -4</td><td> 24</td></tr>\n",
       "\t<tr><td>...</td><td>...</td><td>...</td></tr>\n",
       "\t<tr><td>50</td><td>   7</td><td>1</td></tr>\n",
       "\t<tr><td>50</td><td>  19</td><td>1</td></tr>\n",
       "\t<tr><td>50</td><td>  31</td><td>1</td></tr>\n",
       "\t<tr><td>51</td><td>  14</td><td>1</td></tr>\n",
       "\t<tr><td>52</td><td>  -8</td><td>1</td></tr>\n",
       "\t<tr><td>52</td><td>   4</td><td>1</td></tr>\n",
       "\t<tr><td>52</td><td>   6</td><td>1</td></tr>\n",
       "\t<tr><td>52</td><td>   7</td><td>1</td></tr>\n",
       "\t<tr><td>52</td><td>  10</td><td>1</td></tr>\n",
       "\t<tr><td>53</td><td>  -9</td><td>1</td></tr>\n",
       "\t<tr><td>54</td><td>-113</td><td>1</td></tr>\n",
       "\t<tr><td>54</td><td>  -5</td><td>1</td></tr>\n",
       "\t<tr><td>55</td><td>-119</td><td>1</td></tr>\n",
       "\t<tr><td>56</td><td>  -2</td><td>1</td></tr>\n",
       "\t<tr><td>56</td><td>  38</td><td>1</td></tr>\n",
       "\t<tr><td>57</td><td>-101</td><td>1</td></tr>\n",
       "\t<tr><td>57</td><td>  13</td><td>1</td></tr>\n",
       "\t<tr><td>57</td><td>  15</td><td>1</td></tr>\n",
       "\t<tr><td>58</td><td>  13</td><td>1</td></tr>\n",
       "\t<tr><td>58</td><td>  14</td><td>1</td></tr>\n",
       "\t<tr><td>59</td><td>  26</td><td>1</td></tr>\n",
       "\t<tr><td>62</td><td>   6</td><td>1</td></tr>\n",
       "\t<tr><td>62</td><td>   7</td><td>1</td></tr>\n",
       "\t<tr><td>62</td><td>  26</td><td>1</td></tr>\n",
       "\t<tr><td>63</td><td>  11</td><td>1</td></tr>\n",
       "\t<tr><td>63</td><td>  19</td><td>1</td></tr>\n",
       "\t<tr><td>64</td><td> -22</td><td>1</td></tr>\n",
       "\t<tr><td>64</td><td>  23</td><td>1</td></tr>\n",
       "\t<tr><td>64</td><td>  27</td><td>1</td></tr>\n",
       "\t<tr><td>65</td><td> -19</td><td>1</td></tr>\n",
       "</tbody>\n",
       "</table>\n"
      ],
      "text/latex": [
       "A grouped\\_df: 556 × 3\n",
       "\\begin{tabular}{lll}\n",
       " lat & long & n\\\\\n",
       " <dbl> & <dbl> & <int>\\\\\n",
       "\\hline\n",
       "\t 41 &  -74 & 361\\\\\n",
       "\t 34 & -118 & 244\\\\\n",
       "\t 52 &    0 & 212\\\\\n",
       "\t 40 &  -75 & 106\\\\\n",
       "\t 38 & -122 & 101\\\\\n",
       "\t 53 &   -2 &  90\\\\\n",
       "\t 42 &  -88 &  77\\\\\n",
       "\t 39 &  -77 &  72\\\\\n",
       "\t 51 &   10 &  64\\\\\n",
       "\t 54 &   -2 &  59\\\\\n",
       "\t 42 &  -83 &  58\\\\\n",
       "\t 42 &  -71 &  42\\\\\n",
       "\t 62 &   18 &  41\\\\\n",
       "\t 48 & -122 &  40\\\\\n",
       "\t 37 & -119 &  39\\\\\n",
       "\t 49 &    2 &  39\\\\\n",
       "\t 53 &   -1 &  39\\\\\n",
       "\t 28 &  -82 &  37\\\\\n",
       "\t 31 & -100 &  36\\\\\n",
       "\t 51 &    0 &  36\\\\\n",
       "\t 36 &  -87 &  34\\\\\n",
       "\t 53 &   -3 &  34\\\\\n",
       "\t 18 &  -77 &  32\\\\\n",
       "\t 52 &   -2 &  31\\\\\n",
       "\t 33 &  -97 &  28\\\\\n",
       "\t 35 &  -90 &  28\\\\\n",
       "\t 51 &   -3 &  28\\\\\n",
       "\t 37 &  -96 &  25\\\\\n",
       "\t 42 &  -82 &  25\\\\\n",
       "\t 56 &   -4 &  24\\\\\n",
       "\t ... & ... & ...\\\\\n",
       "\t 50 &    7 & 1\\\\\n",
       "\t 50 &   19 & 1\\\\\n",
       "\t 50 &   31 & 1\\\\\n",
       "\t 51 &   14 & 1\\\\\n",
       "\t 52 &   -8 & 1\\\\\n",
       "\t 52 &    4 & 1\\\\\n",
       "\t 52 &    6 & 1\\\\\n",
       "\t 52 &    7 & 1\\\\\n",
       "\t 52 &   10 & 1\\\\\n",
       "\t 53 &   -9 & 1\\\\\n",
       "\t 54 & -113 & 1\\\\\n",
       "\t 54 &   -5 & 1\\\\\n",
       "\t 55 & -119 & 1\\\\\n",
       "\t 56 &   -2 & 1\\\\\n",
       "\t 56 &   38 & 1\\\\\n",
       "\t 57 & -101 & 1\\\\\n",
       "\t 57 &   13 & 1\\\\\n",
       "\t 57 &   15 & 1\\\\\n",
       "\t 58 &   13 & 1\\\\\n",
       "\t 58 &   14 & 1\\\\\n",
       "\t 59 &   26 & 1\\\\\n",
       "\t 62 &    6 & 1\\\\\n",
       "\t 62 &    7 & 1\\\\\n",
       "\t 62 &   26 & 1\\\\\n",
       "\t 63 &   11 & 1\\\\\n",
       "\t 63 &   19 & 1\\\\\n",
       "\t 64 &  -22 & 1\\\\\n",
       "\t 64 &   23 & 1\\\\\n",
       "\t 64 &   27 & 1\\\\\n",
       "\t 65 &  -19 & 1\\\\\n",
       "\\end{tabular}\n"
      ],
      "text/markdown": [
       "\n",
       "A grouped_df: 556 × 3\n",
       "\n",
       "| lat &lt;dbl&gt; | long &lt;dbl&gt; | n &lt;int&gt; |\n",
       "|---|---|---|\n",
       "| 41 |  -74 | 361 |\n",
       "| 34 | -118 | 244 |\n",
       "| 52 |    0 | 212 |\n",
       "| 40 |  -75 | 106 |\n",
       "| 38 | -122 | 101 |\n",
       "| 53 |   -2 |  90 |\n",
       "| 42 |  -88 |  77 |\n",
       "| 39 |  -77 |  72 |\n",
       "| 51 |   10 |  64 |\n",
       "| 54 |   -2 |  59 |\n",
       "| 42 |  -83 |  58 |\n",
       "| 42 |  -71 |  42 |\n",
       "| 62 |   18 |  41 |\n",
       "| 48 | -122 |  40 |\n",
       "| 37 | -119 |  39 |\n",
       "| 49 |    2 |  39 |\n",
       "| 53 |   -1 |  39 |\n",
       "| 28 |  -82 |  37 |\n",
       "| 31 | -100 |  36 |\n",
       "| 51 |    0 |  36 |\n",
       "| 36 |  -87 |  34 |\n",
       "| 53 |   -3 |  34 |\n",
       "| 18 |  -77 |  32 |\n",
       "| 52 |   -2 |  31 |\n",
       "| 33 |  -97 |  28 |\n",
       "| 35 |  -90 |  28 |\n",
       "| 51 |   -3 |  28 |\n",
       "| 37 |  -96 |  25 |\n",
       "| 42 |  -82 |  25 |\n",
       "| 56 |   -4 |  24 |\n",
       "| ... | ... | ... |\n",
       "| 50 |    7 | 1 |\n",
       "| 50 |   19 | 1 |\n",
       "| 50 |   31 | 1 |\n",
       "| 51 |   14 | 1 |\n",
       "| 52 |   -8 | 1 |\n",
       "| 52 |    4 | 1 |\n",
       "| 52 |    6 | 1 |\n",
       "| 52 |    7 | 1 |\n",
       "| 52 |   10 | 1 |\n",
       "| 53 |   -9 | 1 |\n",
       "| 54 | -113 | 1 |\n",
       "| 54 |   -5 | 1 |\n",
       "| 55 | -119 | 1 |\n",
       "| 56 |   -2 | 1 |\n",
       "| 56 |   38 | 1 |\n",
       "| 57 | -101 | 1 |\n",
       "| 57 |   13 | 1 |\n",
       "| 57 |   15 | 1 |\n",
       "| 58 |   13 | 1 |\n",
       "| 58 |   14 | 1 |\n",
       "| 59 |   26 | 1 |\n",
       "| 62 |    6 | 1 |\n",
       "| 62 |    7 | 1 |\n",
       "| 62 |   26 | 1 |\n",
       "| 63 |   11 | 1 |\n",
       "| 63 |   19 | 1 |\n",
       "| 64 |  -22 | 1 |\n",
       "| 64 |   23 | 1 |\n",
       "| 64 |   27 | 1 |\n",
       "| 65 |  -19 | 1 |\n",
       "\n"
      ],
      "text/plain": [
       "    lat long n  \n",
       "1   41   -74 361\n",
       "2   34  -118 244\n",
       "3   52     0 212\n",
       "4   40   -75 106\n",
       "5   38  -122 101\n",
       "6   53    -2  90\n",
       "7   42   -88  77\n",
       "8   39   -77  72\n",
       "9   51    10  64\n",
       "10  54    -2  59\n",
       "11  42   -83  58\n",
       "12  42   -71  42\n",
       "13  62    18  41\n",
       "14  48  -122  40\n",
       "15  37  -119  39\n",
       "16  49     2  39\n",
       "17  53    -1  39\n",
       "18  28   -82  37\n",
       "19  31  -100  36\n",
       "20  51     0  36\n",
       "21  36   -87  34\n",
       "22  53    -3  34\n",
       "23  18   -77  32\n",
       "24  52    -2  31\n",
       "25  33   -97  28\n",
       "26  35   -90  28\n",
       "27  51    -3  28\n",
       "28  37   -96  25\n",
       "29  42   -82  25\n",
       "30  56    -4  24\n",
       "... ... ...  ...\n",
       "527 50     7 1  \n",
       "528 50    19 1  \n",
       "529 50    31 1  \n",
       "530 51    14 1  \n",
       "531 52    -8 1  \n",
       "532 52     4 1  \n",
       "533 52     6 1  \n",
       "534 52     7 1  \n",
       "535 52    10 1  \n",
       "536 53    -9 1  \n",
       "537 54  -113 1  \n",
       "538 54    -5 1  \n",
       "539 55  -119 1  \n",
       "540 56    -2 1  \n",
       "541 56    38 1  \n",
       "542 57  -101 1  \n",
       "543 57    13 1  \n",
       "544 57    15 1  \n",
       "545 58    13 1  \n",
       "546 58    14 1  \n",
       "547 59    26 1  \n",
       "548 62     6 1  \n",
       "549 62     7 1  \n",
       "550 62    26 1  \n",
       "551 63    11 1  \n",
       "552 63    19 1  \n",
       "553 64   -22 1  \n",
       "554 64    23 1  \n",
       "555 64    27 1  \n",
       "556 65   -19 1  "
      ]
     },
     "metadata": {},
     "output_type": "display_data"
    }
   ],
   "source": [
    "singer_locations %>% \n",
    "  mutate(lat = latitude %>% round(digits = 0), # round latitude\n",
    "         long = longitude %>% round(digits = 0)) %>% # round longitude\n",
    "  group_by(lat,long) %>% # group by lat and long\n",
    "  filter(!is.na(lat), !is.na(long)) %>% # filter out cities with no information about lat and long\n",
    "  tally() %>% # tally up\n",
    "  arrange(desc(n)) # arrange"
   ]
  },
  {
   "cell_type": "markdown",
   "metadata": {},
   "source": [
    "## Solution to Challenge 2"
   ]
  },
  {
   "cell_type": "code",
   "execution_count": 40,
   "metadata": {},
   "outputs": [
    {
     "data": {
      "text/html": [
       "<table class=\"dataframe\">\n",
       "<caption>A tibble: 9 × 3</caption>\n",
       "<thead>\n",
       "\t<tr><th scope=col>title</th><th scope=col>artist_name</th><th scope=col>year</th></tr>\n",
       "\t<tr><th scope=col>&lt;chr&gt;</th><th scope=col>&lt;chr&gt;</th><th scope=col>&lt;int&gt;</th></tr>\n",
       "</thead>\n",
       "<tbody>\n",
       "\t<tr><td>Corduroy                        </td><td>Pearl Jam      </td><td>1994</td></tr>\n",
       "\t<tr><td>Martin_ Doom! It's Seven O'Clock</td><td>The Boo Radleys</td><td>1995</td></tr>\n",
       "\t<tr><td>Leaves And Sand                 </td><td>The Boo Radleys</td><td>1993</td></tr>\n",
       "\t<tr><td>Comb Your Hair                  </td><td>The Boo Radleys</td><td>1998</td></tr>\n",
       "\t<tr><td>Mine Again                      </td><td>Mariah Carey   </td><td>2005</td></tr>\n",
       "\t<tr><td>Don't Forget About Us           </td><td>Mariah Carey   </td><td>2005</td></tr>\n",
       "\t<tr><td>Babydoll                        </td><td>Mariah Carey   </td><td>1997</td></tr>\n",
       "\t<tr><td>Don't Forget About Us           </td><td>Mariah Carey   </td><td>2005</td></tr>\n",
       "\t<tr><td>Vision Of Love                  </td><td>Mariah Carey   </td><td>1990</td></tr>\n",
       "</tbody>\n",
       "</table>\n"
      ],
      "text/latex": [
       "A tibble: 9 × 3\n",
       "\\begin{tabular}{lll}\n",
       " title & artist\\_name & year\\\\\n",
       " <chr> & <chr> & <int>\\\\\n",
       "\\hline\n",
       "\t Corduroy                         & Pearl Jam       & 1994\\\\\n",
       "\t Martin\\_ Doom! It's Seven O'Clock & The Boo Radleys & 1995\\\\\n",
       "\t Leaves And Sand                  & The Boo Radleys & 1993\\\\\n",
       "\t Comb Your Hair                   & The Boo Radleys & 1998\\\\\n",
       "\t Mine Again                       & Mariah Carey    & 2005\\\\\n",
       "\t Don't Forget About Us            & Mariah Carey    & 2005\\\\\n",
       "\t Babydoll                         & Mariah Carey    & 1997\\\\\n",
       "\t Don't Forget About Us            & Mariah Carey    & 2005\\\\\n",
       "\t Vision Of Love                   & Mariah Carey    & 1990\\\\\n",
       "\\end{tabular}\n"
      ],
      "text/markdown": [
       "\n",
       "A tibble: 9 × 3\n",
       "\n",
       "| title &lt;chr&gt; | artist_name &lt;chr&gt; | year &lt;int&gt; |\n",
       "|---|---|---|\n",
       "| Corduroy                         | Pearl Jam       | 1994 |\n",
       "| Martin_ Doom! It's Seven O'Clock | The Boo Radleys | 1995 |\n",
       "| Leaves And Sand                  | The Boo Radleys | 1993 |\n",
       "| Comb Your Hair                   | The Boo Radleys | 1998 |\n",
       "| Mine Again                       | Mariah Carey    | 2005 |\n",
       "| Don't Forget About Us            | Mariah Carey    | 2005 |\n",
       "| Babydoll                         | Mariah Carey    | 1997 |\n",
       "| Don't Forget About Us            | Mariah Carey    | 2005 |\n",
       "| Vision Of Love                   | Mariah Carey    | 1990 |\n",
       "\n"
      ],
      "text/plain": [
       "  title                            artist_name     year\n",
       "1 Corduroy                         Pearl Jam       1994\n",
       "2 Martin_ Doom! It's Seven O'Clock The Boo Radleys 1995\n",
       "3 Leaves And Sand                  The Boo Radleys 1993\n",
       "4 Comb Your Hair                   The Boo Radleys 1998\n",
       "5 Mine Again                       Mariah Carey    2005\n",
       "6 Don't Forget About Us            Mariah Carey    2005\n",
       "7 Babydoll                         Mariah Carey    1997\n",
       "8 Don't Forget About Us            Mariah Carey    2005\n",
       "9 Vision Of Love                   Mariah Carey    1990"
      ]
     },
     "metadata": {},
     "output_type": "display_data"
    }
   ],
   "source": [
    "songs %>%\n",
    "  anti_join(locations, # with anti_join we preserve only those rows wich values ARE NOT present in both datasets\n",
    "            by = c(\"title\",\"artist_name\")) # we use 2 variables (title and artist_name) to ensure to capture unique combinations"
   ]
  },
  {
   "cell_type": "code",
   "execution_count": 41,
   "metadata": {},
   "outputs": [
    {
     "data": {
      "text/html": [
       "<table class=\"dataframe\">\n",
       "<caption>A tibble: 1 × 5</caption>\n",
       "<thead>\n",
       "\t<tr><th scope=col>artist_name</th><th scope=col>city</th><th scope=col>release</th><th scope=col>title</th><th scope=col>year</th></tr>\n",
       "\t<tr><th scope=col>&lt;chr&gt;</th><th scope=col>&lt;chr&gt;</th><th scope=col>&lt;chr&gt;</th><th scope=col>&lt;chr&gt;</th><th scope=col>&lt;int&gt;</th></tr>\n",
       "</thead>\n",
       "<tbody>\n",
       "\t<tr><td>Carly Simon</td><td>New York, NY</td><td>No Secrets</td><td>It Was So Easy  (LP Version)</td><td>1972</td></tr>\n",
       "</tbody>\n",
       "</table>\n"
      ],
      "text/latex": [
       "A tibble: 1 × 5\n",
       "\\begin{tabular}{lllll}\n",
       " artist\\_name & city & release & title & year\\\\\n",
       " <chr> & <chr> & <chr> & <chr> & <int>\\\\\n",
       "\\hline\n",
       "\t Carly Simon & New York, NY & No Secrets & It Was So Easy  (LP Version) & 1972\\\\\n",
       "\\end{tabular}\n"
      ],
      "text/markdown": [
       "\n",
       "A tibble: 1 × 5\n",
       "\n",
       "| artist_name &lt;chr&gt; | city &lt;chr&gt; | release &lt;chr&gt; | title &lt;chr&gt; | year &lt;int&gt; |\n",
       "|---|---|---|---|---|\n",
       "| Carly Simon | New York, NY | No Secrets | It Was So Easy  (LP Version) | 1972 |\n",
       "\n"
      ],
      "text/plain": [
       "  artist_name city         release    title                        year\n",
       "1 Carly Simon New York, NY No Secrets It Was So Easy  (LP Version) 1972"
      ]
     },
     "metadata": {},
     "output_type": "display_data"
    }
   ],
   "source": [
    "locations %>%\n",
    "  inner_join(songs, # with inner_join we preserve only those rows wich values ARE present in both datasets\n",
    "             by=c(\"title\",\"artist_name\")) %>% # we use 2 variables (title and artist_name) to ensure to capture unique combinations\n",
    "  top_n(1,desc(year)) # we need to specify \"desc()\" to be sure not to get the most recent release"
   ]
  },
  {
   "cell_type": "code",
   "execution_count": null,
   "metadata": {},
   "outputs": [],
   "source": []
  },
  {
   "cell_type": "code",
   "execution_count": null,
   "metadata": {},
   "outputs": [],
   "source": []
  },
  {
   "cell_type": "code",
   "execution_count": null,
   "metadata": {},
   "outputs": [],
   "source": []
  }
 ],
 "metadata": {
  "kernelspec": {
   "display_name": "R",
   "language": "R",
   "name": "ir"
  },
  "language_info": {
   "codemirror_mode": "r",
   "file_extension": ".r",
   "mimetype": "text/x-r-source",
   "name": "R",
   "pygments_lexer": "r",
   "version": "4.2.1"
  }
 },
 "nbformat": 4,
 "nbformat_minor": 4
}

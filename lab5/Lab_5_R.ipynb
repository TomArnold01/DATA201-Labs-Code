{
 "cells": [
  {
   "cell_type": "markdown",
   "metadata": {},
   "source": [
    "# Class theory in R\n",
    "\n",
    "So far we have been free-riding R with a light heart. It's now time to tidy up our knowledge and cover our basis.\n",
    "\n",
    "In particular, in this lab we will talk a little bit more about the kind of objects you deal with in R."
   ]
  },
  {
   "cell_type": "code",
   "execution_count": 1,
   "metadata": {},
   "outputs": [
    {
     "name": "stderr",
     "output_type": "stream",
     "text": [
      "── \u001b[1mAttaching packages\u001b[22m ────────────────────────────────────────────────────────────────────────────── tidyverse 1.3.2 ──\n",
      "\u001b[32m✔\u001b[39m \u001b[34mggplot2\u001b[39m 3.3.6     \u001b[32m✔\u001b[39m \u001b[34mpurrr  \u001b[39m 0.3.4\n",
      "\u001b[32m✔\u001b[39m \u001b[34mtibble \u001b[39m 3.1.7     \u001b[32m✔\u001b[39m \u001b[34mdplyr  \u001b[39m 1.0.9\n",
      "\u001b[32m✔\u001b[39m \u001b[34mtidyr  \u001b[39m 1.2.0     \u001b[32m✔\u001b[39m \u001b[34mstringr\u001b[39m 1.4.0\n",
      "\u001b[32m✔\u001b[39m \u001b[34mreadr  \u001b[39m 2.1.2     \u001b[32m✔\u001b[39m \u001b[34mforcats\u001b[39m 0.5.1\n",
      "── \u001b[1mConflicts\u001b[22m ───────────────────────────────────────────────────────────────────────────────── tidyverse_conflicts() ──\n",
      "\u001b[31m✖\u001b[39m \u001b[34mdplyr\u001b[39m::\u001b[32mfilter()\u001b[39m masks \u001b[34mstats\u001b[39m::filter()\n",
      "\u001b[31m✖\u001b[39m \u001b[34mdplyr\u001b[39m::\u001b[32mlag()\u001b[39m    masks \u001b[34mstats\u001b[39m::lag()\n"
     ]
    }
   ],
   "source": [
    "library(tidyverse)"
   ]
  },
  {
   "cell_type": "markdown",
   "metadata": {},
   "source": [
    "# Atomic Vectors"
   ]
  },
  {
   "cell_type": "markdown",
   "metadata": {},
   "source": [
    "The atoms of R are _vectors_. Even simple values as `12` are actually atomic vectors: in particular, vectors of length 1.  \n",
    "Atomic vectors are vectors containing logical, integer, double precision, or character data. We refer to them simply as vectors."
   ]
  },
  {
   "cell_type": "code",
   "execution_count": 2,
   "metadata": {},
   "outputs": [
    {
     "data": {
      "text/html": [
       "12"
      ],
      "text/latex": [
       "12"
      ],
      "text/markdown": [
       "12"
      ],
      "text/plain": [
       "[1] 12"
      ]
     },
     "metadata": {},
     "output_type": "display_data"
    }
   ],
   "source": [
    "my_value <- 12\n",
    "my_value"
   ]
  },
  {
   "cell_type": "code",
   "execution_count": 3,
   "metadata": {},
   "outputs": [
    {
     "data": {
      "text/html": [
       "TRUE"
      ],
      "text/latex": [
       "TRUE"
      ],
      "text/markdown": [
       "TRUE"
      ],
      "text/plain": [
       "[1] TRUE"
      ]
     },
     "metadata": {},
     "output_type": "display_data"
    }
   ],
   "source": [
    "is.vector(my_value)"
   ]
  },
  {
   "cell_type": "code",
   "execution_count": 4,
   "metadata": {},
   "outputs": [
    {
     "data": {
      "text/html": [
       "TRUE"
      ],
      "text/latex": [
       "TRUE"
      ],
      "text/markdown": [
       "TRUE"
      ],
      "text/plain": [
       "[1] TRUE"
      ]
     },
     "metadata": {},
     "output_type": "display_data"
    }
   ],
   "source": [
    "is.vector(12)"
   ]
  },
  {
   "cell_type": "code",
   "execution_count": 5,
   "metadata": {},
   "outputs": [
    {
     "data": {
      "text/html": [
       "1"
      ],
      "text/latex": [
       "1"
      ],
      "text/markdown": [
       "1"
      ],
      "text/plain": [
       "[1] 1"
      ]
     },
     "metadata": {},
     "output_type": "display_data"
    },
    {
     "data": {
      "text/html": [
       "1"
      ],
      "text/latex": [
       "1"
      ],
      "text/markdown": [
       "1"
      ],
      "text/plain": [
       "[1] 1"
      ]
     },
     "metadata": {},
     "output_type": "display_data"
    }
   ],
   "source": [
    "length(my_value)\n",
    "length(12)"
   ]
  },
  {
   "cell_type": "markdown",
   "metadata": {},
   "source": [
    "We build a vector in many ways, but the most common is using the concatenation function `c()`."
   ]
  },
  {
   "cell_type": "code",
   "execution_count": 6,
   "metadata": {},
   "outputs": [
    {
     "data": {
      "text/html": [
       "<style>\n",
       ".list-inline {list-style: none; margin:0; padding: 0}\n",
       ".list-inline>li {display: inline-block}\n",
       ".list-inline>li:not(:last-child)::after {content: \"\\00b7\"; padding: 0 .5ex}\n",
       "</style>\n",
       "<ol class=list-inline><li>'my'</li><li>'cool'</li><li>'vect'</li></ol>\n"
      ],
      "text/latex": [
       "\\begin{enumerate*}\n",
       "\\item 'my'\n",
       "\\item 'cool'\n",
       "\\item 'vect'\n",
       "\\end{enumerate*}\n"
      ],
      "text/markdown": [
       "1. 'my'\n",
       "2. 'cool'\n",
       "3. 'vect'\n",
       "\n",
       "\n"
      ],
      "text/plain": [
       "[1] \"my\"   \"cool\" \"vect\""
      ]
     },
     "metadata": {},
     "output_type": "display_data"
    }
   ],
   "source": [
    "vect <- c(\"my\",\"cool\",\"vect\")\n",
    "vect"
   ]
  },
  {
   "cell_type": "markdown",
   "metadata": {},
   "source": [
    "To get something from within a vector, be it of length 1 or more, we use the square brackets \\[ \\] and call stuff by their position, starting from 1 (not from 0 as in other languages, remember!). The indexes can be either single values or other vectors:"
   ]
  },
  {
   "cell_type": "code",
   "execution_count": 7,
   "metadata": {},
   "outputs": [
    {
     "data": {
      "text/html": [
       "'my'"
      ],
      "text/latex": [
       "'my'"
      ],
      "text/markdown": [
       "'my'"
      ],
      "text/plain": [
       "[1] \"my\""
      ]
     },
     "metadata": {},
     "output_type": "display_data"
    },
    {
     "data": {
      "text/html": [
       "'cool'"
      ],
      "text/latex": [
       "'cool'"
      ],
      "text/markdown": [
       "'cool'"
      ],
      "text/plain": [
       "[1] \"cool\""
      ]
     },
     "metadata": {},
     "output_type": "display_data"
    },
    {
     "data": {
      "text/html": [
       "<style>\n",
       ".list-inline {list-style: none; margin:0; padding: 0}\n",
       ".list-inline>li {display: inline-block}\n",
       ".list-inline>li:not(:last-child)::after {content: \"\\00b7\"; padding: 0 .5ex}\n",
       "</style>\n",
       "<ol class=list-inline><li>'my'</li><li>'vect'</li></ol>\n"
      ],
      "text/latex": [
       "\\begin{enumerate*}\n",
       "\\item 'my'\n",
       "\\item 'vect'\n",
       "\\end{enumerate*}\n"
      ],
      "text/markdown": [
       "1. 'my'\n",
       "2. 'vect'\n",
       "\n",
       "\n"
      ],
      "text/plain": [
       "[1] \"my\"   \"vect\""
      ]
     },
     "metadata": {},
     "output_type": "display_data"
    }
   ],
   "source": [
    "vect[1]\n",
    "vect[2]\n",
    "vect[c(1,3)]"
   ]
  },
  {
   "cell_type": "markdown",
   "metadata": {},
   "source": [
    "We can also use the indexing to assign new values into the vector or changing existing ones:"
   ]
  },
  {
   "cell_type": "code",
   "execution_count": 8,
   "metadata": {},
   "outputs": [
    {
     "data": {
      "text/html": [
       "<style>\n",
       ".list-inline {list-style: none; margin:0; padding: 0}\n",
       ".list-inline>li {display: inline-block}\n",
       ".list-inline>li:not(:last-child)::after {content: \"\\00b7\"; padding: 0 .5ex}\n",
       "</style>\n",
       "<ol class=list-inline><li>'my'</li><li>'cool'</li><li>'vect'</li><li>'woooords'</li></ol>\n"
      ],
      "text/latex": [
       "\\begin{enumerate*}\n",
       "\\item 'my'\n",
       "\\item 'cool'\n",
       "\\item 'vect'\n",
       "\\item 'woooords'\n",
       "\\end{enumerate*}\n"
      ],
      "text/markdown": [
       "1. 'my'\n",
       "2. 'cool'\n",
       "3. 'vect'\n",
       "4. 'woooords'\n",
       "\n",
       "\n"
      ],
      "text/plain": [
       "[1] \"my\"       \"cool\"     \"vect\"     \"woooords\""
      ]
     },
     "metadata": {},
     "output_type": "display_data"
    }
   ],
   "source": [
    "vect[4] <- \"woooords\"\n",
    "vect"
   ]
  },
  {
   "cell_type": "code",
   "execution_count": 9,
   "metadata": {},
   "outputs": [
    {
     "data": {
      "text/html": [
       "<style>\n",
       ".list-inline {list-style: none; margin:0; padding: 0}\n",
       ".list-inline>li {display: inline-block}\n",
       ".list-inline>li:not(:last-child)::after {content: \"\\00b7\"; padding: 0 .5ex}\n",
       "</style>\n",
       "<ol class=list-inline><li>'my'</li><li>'woooords'</li><li>'vect'</li><li>'woooords'</li></ol>\n"
      ],
      "text/latex": [
       "\\begin{enumerate*}\n",
       "\\item 'my'\n",
       "\\item 'woooords'\n",
       "\\item 'vect'\n",
       "\\item 'woooords'\n",
       "\\end{enumerate*}\n"
      ],
      "text/markdown": [
       "1. 'my'\n",
       "2. 'woooords'\n",
       "3. 'vect'\n",
       "4. 'woooords'\n",
       "\n",
       "\n"
      ],
      "text/plain": [
       "[1] \"my\"       \"woooords\" \"vect\"     \"woooords\""
      ]
     },
     "metadata": {},
     "output_type": "display_data"
    }
   ],
   "source": [
    "vect[2] <- \"woooords\"\n",
    "vect"
   ]
  },
  {
   "cell_type": "markdown",
   "metadata": {},
   "source": [
    "To understand the structure of a vectore, you can use `str()`."
   ]
  },
  {
   "cell_type": "code",
   "execution_count": 10,
   "metadata": {},
   "outputs": [
    {
     "name": "stdout",
     "output_type": "stream",
     "text": [
      " chr [1:4] \"my\" \"woooords\" \"vect\" \"woooords\"\n"
     ]
    }
   ],
   "source": [
    "str(vect)"
   ]
  },
  {
   "cell_type": "markdown",
   "metadata": {},
   "source": [
    "These vectors are homogenous: they must contain the exact same kind of data. If you try to put the wrong kind of data together, its type will be transformed to a common one, if possible, of the operation fails, if no conversion is possible."
   ]
  },
  {
   "cell_type": "code",
   "execution_count": 11,
   "metadata": {},
   "outputs": [
    {
     "name": "stdout",
     "output_type": "stream",
     "text": [
      " chr [1:6] \"my\" \"woooords\" \"vect\" \"woooords\" \"10\" \"10\"\n"
     ]
    }
   ],
   "source": [
    "vect[c(5,6)] <- 10\n",
    "str(vect) # the numbers get transformed into characters"
   ]
  },
  {
   "cell_type": "markdown",
   "metadata": {},
   "source": [
    "### explore the structure of the following vectors:\n",
    "\n",
    "Use `str()` to study the structure of the following vectors. Try also the functions `length()`, `mode()`, `class()`, `is.numeric()`, `is.logical()`, `is.character()`."
   ]
  },
  {
   "cell_type": "code",
   "execution_count": 12,
   "metadata": {},
   "outputs": [],
   "source": [
    "normdistr <- rnorm(10)\n",
    "uptoten <- 1:10\n",
    "poetry <- LETTERS[1:10]\n",
    "isit <- normdistr > 0"
   ]
  },
  {
   "cell_type": "markdown",
   "metadata": {},
   "source": [
    "Now, discover tab completion if you didn't already: start typing `is.` in the next cell and hit the tab key. R will show you all the available commands starting with \"is.\". Try them out or read their help page.\n",
    "\n",
    "Also `tidyverse` offers some is functions. You can discover and try them by typing `is_` and tab key. In particular, a family of functions starting with \"is_scalar_\" offer yous the possibility to check whether something is a, say, character and have length 1."
   ]
  },
  {
   "cell_type": "code",
   "execution_count": 13,
   "metadata": {},
   "outputs": [
    {
     "data": {
      "text/html": [
       "TRUE"
      ],
      "text/latex": [
       "TRUE"
      ],
      "text/markdown": [
       "TRUE"
      ],
      "text/plain": [
       "[1] TRUE"
      ]
     },
     "metadata": {},
     "output_type": "display_data"
    },
    {
     "data": {
      "text/html": [
       "FALSE"
      ],
      "text/latex": [
       "FALSE"
      ],
      "text/markdown": [
       "FALSE"
      ],
      "text/plain": [
       "[1] FALSE"
      ]
     },
     "metadata": {},
     "output_type": "display_data"
    }
   ],
   "source": [
    "is_scalar_character(\"asdba\")\n",
    "is_scalar_character(c(\"a\",\"b\",\"c\"))"
   ]
  },
  {
   "cell_type": "markdown",
   "metadata": {},
   "source": [
    "Vectors elements can be named (all, none or some of them)."
   ]
  },
  {
   "cell_type": "code",
   "execution_count": 14,
   "metadata": {},
   "outputs": [
    {
     "name": "stdout",
     "output_type": "stream",
     "text": [
      "          a           b                       d           e     letters \n",
      "       \"my\"      \"cool\"      \"vect\"      \"with\" \"important\"     \"words\" \n"
     ]
    }
   ],
   "source": [
    "vect_names <- c(a = \"my\", b = \"cool\",\n",
    "          \"vect\", d = \"with\",\n",
    "          e = \"important\", letters = \"words\")\n",
    "vect_names %>% print()"
   ]
  },
  {
   "cell_type": "markdown",
   "metadata": {},
   "source": [
    "## Indexing\n",
    "\n",
    "You can index within vectors in many different ways:\n",
    "\n",
    "1. positive integers: picking by position from start\n",
    "2. negative integers: dropping by position from start\n",
    "3. logical (true/false) indexes\n",
    "4. names\n"
   ]
  },
  {
   "cell_type": "code",
   "execution_count": 15,
   "metadata": {},
   "outputs": [],
   "source": [
    "vect <- c(\"my\",\"cool\",\"vect\",\"with\",\"important\",\"words\")"
   ]
  },
  {
   "cell_type": "code",
   "execution_count": 16,
   "metadata": {},
   "outputs": [
    {
     "data": {
      "text/html": [
       "<style>\n",
       ".list-inline {list-style: none; margin:0; padding: 0}\n",
       ".list-inline>li {display: inline-block}\n",
       ".list-inline>li:not(:last-child)::after {content: \"\\00b7\"; padding: 0 .5ex}\n",
       "</style>\n",
       "<ol class=list-inline><li>'my'</li><li>'cool'</li><li>'with'</li></ol>\n"
      ],
      "text/latex": [
       "\\begin{enumerate*}\n",
       "\\item 'my'\n",
       "\\item 'cool'\n",
       "\\item 'with'\n",
       "\\end{enumerate*}\n"
      ],
      "text/markdown": [
       "1. 'my'\n",
       "2. 'cool'\n",
       "3. 'with'\n",
       "\n",
       "\n"
      ],
      "text/plain": [
       "[1] \"my\"   \"cool\" \"with\""
      ]
     },
     "metadata": {},
     "output_type": "display_data"
    }
   ],
   "source": [
    "vect[c(1,2,4)]"
   ]
  },
  {
   "cell_type": "code",
   "execution_count": 17,
   "metadata": {},
   "outputs": [
    {
     "data": {
      "text/html": [
       "<style>\n",
       ".list-inline {list-style: none; margin:0; padding: 0}\n",
       ".list-inline>li {display: inline-block}\n",
       ".list-inline>li:not(:last-child)::after {content: \"\\00b7\"; padding: 0 .5ex}\n",
       "</style>\n",
       "<ol class=list-inline><li>'my'</li><li>'cool'</li><li>'with'</li></ol>\n"
      ],
      "text/latex": [
       "\\begin{enumerate*}\n",
       "\\item 'my'\n",
       "\\item 'cool'\n",
       "\\item 'with'\n",
       "\\end{enumerate*}\n"
      ],
      "text/markdown": [
       "1. 'my'\n",
       "2. 'cool'\n",
       "3. 'with'\n",
       "\n",
       "\n"
      ],
      "text/plain": [
       "[1] \"my\"   \"cool\" \"with\""
      ]
     },
     "metadata": {},
     "output_type": "display_data"
    }
   ],
   "source": [
    "vect[c(-3,-5,-6)]"
   ]
  },
  {
   "cell_type": "markdown",
   "metadata": {},
   "source": [
    "If you use logical indexes, remember that they get recycled to cover the full length of the vector you are indexing from. So the two following commands produce the same exact output."
   ]
  },
  {
   "cell_type": "code",
   "execution_count": 18,
   "metadata": {},
   "outputs": [
    {
     "data": {
      "text/html": [
       "<style>\n",
       ".list-inline {list-style: none; margin:0; padding: 0}\n",
       ".list-inline>li {display: inline-block}\n",
       ".list-inline>li:not(:last-child)::after {content: \"\\00b7\"; padding: 0 .5ex}\n",
       "</style>\n",
       "<ol class=list-inline><li>'my'</li><li>'vect'</li><li>'important'</li></ol>\n"
      ],
      "text/latex": [
       "\\begin{enumerate*}\n",
       "\\item 'my'\n",
       "\\item 'vect'\n",
       "\\item 'important'\n",
       "\\end{enumerate*}\n"
      ],
      "text/markdown": [
       "1. 'my'\n",
       "2. 'vect'\n",
       "3. 'important'\n",
       "\n",
       "\n"
      ],
      "text/plain": [
       "[1] \"my\"        \"vect\"      \"important\""
      ]
     },
     "metadata": {},
     "output_type": "display_data"
    },
    {
     "data": {
      "text/html": [
       "<style>\n",
       ".list-inline {list-style: none; margin:0; padding: 0}\n",
       ".list-inline>li {display: inline-block}\n",
       ".list-inline>li:not(:last-child)::after {content: \"\\00b7\"; padding: 0 .5ex}\n",
       "</style>\n",
       "<ol class=list-inline><li>'my'</li><li>'vect'</li><li>'important'</li></ol>\n"
      ],
      "text/latex": [
       "\\begin{enumerate*}\n",
       "\\item 'my'\n",
       "\\item 'vect'\n",
       "\\item 'important'\n",
       "\\end{enumerate*}\n"
      ],
      "text/markdown": [
       "1. 'my'\n",
       "2. 'vect'\n",
       "3. 'important'\n",
       "\n",
       "\n"
      ],
      "text/plain": [
       "[1] \"my\"        \"vect\"      \"important\""
      ]
     },
     "metadata": {},
     "output_type": "display_data"
    }
   ],
   "source": [
    "vect[c(TRUE,FALSE)]\n",
    "vect[c(TRUE,FALSE,TRUE,FALSE,TRUE,FALSE)]"
   ]
  },
  {
   "cell_type": "code",
   "execution_count": 19,
   "metadata": {},
   "outputs": [
    {
     "data": {
      "text/html": [
       "<style>\n",
       ".dl-inline {width: auto; margin:0; padding: 0}\n",
       ".dl-inline>dt, .dl-inline>dd {float: none; width: auto; display: inline-block}\n",
       ".dl-inline>dt::after {content: \":\\0020\"; padding-right: .5ex}\n",
       ".dl-inline>dt:not(:first-of-type) {padding-left: .5ex}\n",
       "</style><dl class=dl-inline><dt>a</dt><dd>'my'</dd><dt>letters</dt><dd>'words'</dd></dl>\n"
      ],
      "text/latex": [
       "\\begin{description*}\n",
       "\\item[a] 'my'\n",
       "\\item[letters] 'words'\n",
       "\\end{description*}\n"
      ],
      "text/markdown": [
       "a\n",
       ":   'my'letters\n",
       ":   'words'\n",
       "\n"
      ],
      "text/plain": [
       "      a letters \n",
       "   \"my\" \"words\" "
      ]
     },
     "metadata": {},
     "output_type": "display_data"
    }
   ],
   "source": [
    "vect_names[c(\"a\",\"letters\")]"
   ]
  },
  {
   "cell_type": "markdown",
   "metadata": {},
   "source": [
    "**try yourself** some indexing into the vectors"
   ]
  },
  {
   "cell_type": "code",
   "execution_count": 20,
   "metadata": {},
   "outputs": [],
   "source": [
    "# your code here"
   ]
  },
  {
   "cell_type": "markdown",
   "metadata": {},
   "source": [
    "#### Limits of Vectors"
   ]
  },
  {
   "cell_type": "markdown",
   "metadata": {},
   "source": [
    "Vectors in R has some limitations (issues? quirkness? you name it), given by the design of R itself.\n",
    "\n",
    "The main one, is that when we concatenattwo things with `c()`, the _type_ of the result is not always easy to predict. In fancy pant words, `c()` is not a type stable function. Consider for example two factors and their concatenation:"
   ]
  },
  {
   "cell_type": "code",
   "execution_count": 21,
   "metadata": {},
   "outputs": [],
   "source": [
    "afactor <-factor(\"a\")\n",
    "bfactor <- factor(\"b\")\n",
    "abfactor <- c(afactor, bfactor)"
   ]
  },
  {
   "cell_type": "markdown",
   "metadata": {},
   "source": [
    "Before trying to run the following cell, try to guess: what sort of object do you expect `abfactor` to be?"
   ]
  },
  {
   "cell_type": "code",
   "execution_count": 22,
   "metadata": {},
   "outputs": [
    {
     "data": {
      "text/html": [
       "'integer'"
      ],
      "text/latex": [
       "'integer'"
      ],
      "text/markdown": [
       "'integer'"
      ],
      "text/plain": [
       "[1] \"integer\""
      ]
     },
     "metadata": {},
     "output_type": "display_data"
    },
    {
     "data": {
      "text/html": [
       "<style>\n",
       ".list-inline {list-style: none; margin:0; padding: 0}\n",
       ".list-inline>li {display: inline-block}\n",
       ".list-inline>li:not(:last-child)::after {content: \"\\00b7\"; padding: 0 .5ex}\n",
       "</style>\n",
       "<ol class=list-inline><li>a</li><li>b</li></ol>\n",
       "\n",
       "<details>\n",
       "\t<summary style=display:list-item;cursor:pointer>\n",
       "\t\t<strong>Levels</strong>:\n",
       "\t</summary>\n",
       "\t<style>\n",
       "\t.list-inline {list-style: none; margin:0; padding: 0}\n",
       "\t.list-inline>li {display: inline-block}\n",
       "\t.list-inline>li:not(:last-child)::after {content: \"\\00b7\"; padding: 0 .5ex}\n",
       "\t</style>\n",
       "\t<ol class=list-inline><li>'a'</li><li>'b'</li></ol>\n",
       "</details>"
      ],
      "text/latex": [
       "\\begin{enumerate*}\n",
       "\\item a\n",
       "\\item b\n",
       "\\end{enumerate*}\n",
       "\n",
       "\\emph{Levels}: \\begin{enumerate*}\n",
       "\\item 'a'\n",
       "\\item 'b'\n",
       "\\end{enumerate*}\n"
      ],
      "text/markdown": [
       "1. a\n",
       "2. b\n",
       "\n",
       "\n",
       "\n",
       "**Levels**: 1. 'a'\n",
       "2. 'b'\n",
       "\n",
       "\n"
      ],
      "text/plain": [
       "[1] a b\n",
       "Levels: a b"
      ]
     },
     "metadata": {},
     "output_type": "display_data"
    }
   ],
   "source": [
    "abfactor %>% typeof()\n",
    "abfactor"
   ]
  },
  {
   "cell_type": "markdown",
   "metadata": {},
   "source": [
    "The package `vctrs` provides functions to handle this situation more robustly."
   ]
  },
  {
   "cell_type": "code",
   "execution_count": 23,
   "metadata": {},
   "outputs": [
    {
     "name": "stderr",
     "output_type": "stream",
     "text": [
      "\n",
      "Attaching package: 'vctrs'\n",
      "\n",
      "\n",
      "The following object is masked from 'package:dplyr':\n",
      "\n",
      "    data_frame\n",
      "\n",
      "\n",
      "The following object is masked from 'package:tibble':\n",
      "\n",
      "    data_frame\n",
      "\n",
      "\n"
     ]
    }
   ],
   "source": [
    "# install.packages(\"vctrs\")\n",
    "library(vctrs)"
   ]
  },
  {
   "cell_type": "markdown",
   "metadata": {},
   "source": [
    "Read more about it here: https://vctrs.r-lib.org/articles/stability.html"
   ]
  },
  {
   "cell_type": "markdown",
   "metadata": {},
   "source": [
    "# Lists"
   ]
  },
  {
   "cell_type": "markdown",
   "metadata": {},
   "source": [
    "Where atomic vectors must contain excatly the same kind of stuff, lists are happy to host whatever. Even dataframe or other lists. we build them using the function `list()`."
   ]
  },
  {
   "cell_type": "code",
   "execution_count": 24,
   "metadata": {},
   "outputs": [
    {
     "data": {
      "text/html": [
       "<ol>\n",
       "\t<li>'don\\'t'</li>\n",
       "\t<li>34</li>\n",
       "\t<li>'eat'</li>\n",
       "\t<li>TRUE</li>\n",
       "\t<li>1</li>\n",
       "\t<li>'the fruit'</li>\n",
       "\t<li><table class=\"dataframe\">\n",
       "<caption>A data.frame: 1 × 2</caption>\n",
       "<thead>\n",
       "\t<tr><th scope=col>x</th><th scope=col>y</th></tr>\n",
       "\t<tr><th scope=col>&lt;dbl&gt;</th><th scope=col>&lt;dbl&gt;</th></tr>\n",
       "</thead>\n",
       "<tbody>\n",
       "\t<tr><td>1</td><td>2</td></tr>\n",
       "</tbody>\n",
       "</table>\n",
       "</li>\n",
       "\t<li><ol>\n",
       "\t<li>1</li>\n",
       "\t<li>'ciao'</li>\n",
       "\t<li><ol>\n",
       "\t<li>2</li>\n",
       "\t<li>'hello'</li>\n",
       "\t<li>'there'</li>\n",
       "</ol>\n",
       "</li>\n",
       "</ol>\n",
       "</li>\n",
       "</ol>\n"
      ],
      "text/latex": [
       "\\begin{enumerate}\n",
       "\\item 'don\\textbackslash{}'t'\n",
       "\\item 34\n",
       "\\item 'eat'\n",
       "\\item TRUE\n",
       "\\item 1\n",
       "\\item 'the fruit'\n",
       "\\item A data.frame: 1 × 2\n",
       "\\begin{tabular}{ll}\n",
       " x & y\\\\\n",
       " <dbl> & <dbl>\\\\\n",
       "\\hline\n",
       "\t 1 & 2\\\\\n",
       "\\end{tabular}\n",
       "\n",
       "\\item \\begin{enumerate}\n",
       "\\item 1\n",
       "\\item 'ciao'\n",
       "\\item \\begin{enumerate}\n",
       "\\item 2\n",
       "\\item 'hello'\n",
       "\\item 'there'\n",
       "\\end{enumerate}\n",
       "\n",
       "\\end{enumerate}\n",
       "\n",
       "\\end{enumerate}\n"
      ],
      "text/markdown": [
       "1. 'don\\'t'\n",
       "2. 34\n",
       "3. 'eat'\n",
       "4. TRUE\n",
       "5. 1\n",
       "6. 'the fruit'\n",
       "7. \n",
       "A data.frame: 1 × 2\n",
       "\n",
       "| x &lt;dbl&gt; | y &lt;dbl&gt; |\n",
       "|---|---|\n",
       "| 1 | 2 |\n",
       "\n",
       "\n",
       "8. 1. 1\n",
       "2. 'ciao'\n",
       "3. 1. 2\n",
       "2. 'hello'\n",
       "3. 'there'\n",
       "\n",
       "\n",
       "\n",
       "\n",
       "\n",
       "\n",
       "\n",
       "\n"
      ],
      "text/plain": [
       "[[1]]\n",
       "[1] \"don't\"\n",
       "\n",
       "[[2]]\n",
       "[1] 34\n",
       "\n",
       "[[3]]\n",
       "[1] \"eat\"\n",
       "\n",
       "[[4]]\n",
       "[1] TRUE\n",
       "\n",
       "[[5]]\n",
       "[1] 1\n",
       "\n",
       "[[6]]\n",
       "[1] \"the fruit\"\n",
       "\n",
       "[[7]]\n",
       "  x y\n",
       "1 1 2\n",
       "\n",
       "[[8]]\n",
       "[[8]][[1]]\n",
       "[1] 1\n",
       "\n",
       "[[8]][[2]]\n",
       "[1] \"ciao\"\n",
       "\n",
       "[[8]][[3]]\n",
       "[[8]][[3]][[1]]\n",
       "[1] 2\n",
       "\n",
       "[[8]][[3]][[2]]\n",
       "[1] \"hello\"\n",
       "\n",
       "[[8]][[3]][[3]]\n",
       "[1] \"there\"\n",
       "\n",
       "\n"
      ]
     },
     "metadata": {},
     "output_type": "display_data"
    }
   ],
   "source": [
    "messy_list <- list(\"don't\", 34, \"eat\",\n",
    "                   TRUE, 1L, \"the fruit\", \n",
    "                   data_frame(x = 1, y = 2),\n",
    "                   list(1,\"ciao\",list(2,\"hello\",\"there\")))\n",
    "messy_list\n"
   ]
  },
  {
   "cell_type": "markdown",
   "metadata": {},
   "source": [
    "Use `str()`, `length()`, `mode()`, and `class()` to explore the list."
   ]
  },
  {
   "cell_type": "markdown",
   "metadata": {},
   "source": [
    "List elements can have names, all of the elements or just some of them."
   ]
  },
  {
   "cell_type": "code",
   "execution_count": 25,
   "metadata": {},
   "outputs": [
    {
     "name": "stdout",
     "output_type": "stream",
     "text": [
      "$do\n",
      "[1] \"don't\"\n",
      "\n",
      "$number\n",
      "[1] 34\n",
      "\n",
      "[[3]]\n",
      "[1] \"eat\"\n",
      "\n",
      "[[4]]\n",
      "[1] TRUE\n",
      "\n",
      "[[5]]\n",
      "[1] 1\n",
      "\n",
      "[[6]]\n",
      "[1] \"the fruit\"\n",
      "\n",
      "$data\n",
      "  x y\n",
      "1 1 2\n",
      "\n",
      "$listi\n",
      "$listi[[1]]\n",
      "[1] 1\n",
      "\n",
      "$listi[[2]]\n",
      "[1] \"ciao\"\n",
      "\n",
      "$listi[[3]]\n",
      "$listi[[3]][[1]]\n",
      "[1] 2\n",
      "\n",
      "$listi[[3]][[2]]\n",
      "[1] \"hello\"\n",
      "\n",
      "$listi[[3]][[3]]\n",
      "[1] \"there\"\n",
      "\n",
      "\n",
      "\n"
     ]
    }
   ],
   "source": [
    "messy_list_named <- list(do = \"don't\", number = 34, \"eat\",\n",
    "                   TRUE, 1L, \"the fruit\", \n",
    "                   data = data_frame(x = 1, y = 2),\n",
    "                   listi = list(1,\"ciao\",list(2,\"hello\",\"there\")))\n",
    "messy_list_named %>% print()"
   ]
  },
  {
   "cell_type": "markdown",
   "metadata": {},
   "source": [
    "If you remember, we saw that a data frame is a list:"
   ]
  },
  {
   "cell_type": "code",
   "execution_count": 26,
   "metadata": {},
   "outputs": [
    {
     "data": {
      "text/html": [
       "'list'"
      ],
      "text/latex": [
       "'list'"
      ],
      "text/markdown": [
       "'list'"
      ],
      "text/plain": [
       "[1] \"list\""
      ]
     },
     "metadata": {},
     "output_type": "display_data"
    }
   ],
   "source": [
    "data_frame(x = 1, y = \"ciao\") %>% typeof()"
   ]
  },
  {
   "cell_type": "markdown",
   "metadata": {},
   "source": [
    "You can index in a list in the same way we did with atomic vectors (remind, list are vectors even if we don't call them vectors). Moreover, we now introduce a package call `purrr` which makes working with lists much more convenient."
   ]
  },
  {
   "cell_type": "markdown",
   "metadata": {},
   "source": [
    "There is a similarity that runs deep between vectors and lists. You can think about lists as vectors which elements are of type \"whatever\" (instead of any specific type). Accordingly, we can initialise them using `vector()` as follows:"
   ]
  },
  {
   "cell_type": "code",
   "execution_count": 27,
   "metadata": {},
   "outputs": [],
   "source": [
    " listor <- vector(\"list\", 3)"
   ]
  },
  {
   "cell_type": "markdown",
   "metadata": {},
   "source": [
    "and ask ourselves, is that a list or a vector?"
   ]
  },
  {
   "cell_type": "code",
   "execution_count": 28,
   "metadata": {},
   "outputs": [
    {
     "data": {
      "text/html": [
       "TRUE"
      ],
      "text/latex": [
       "TRUE"
      ],
      "text/markdown": [
       "TRUE"
      ],
      "text/plain": [
       "[1] TRUE"
      ]
     },
     "metadata": {},
     "output_type": "display_data"
    },
    {
     "data": {
      "text/html": [
       "TRUE"
      ],
      "text/latex": [
       "TRUE"
      ],
      "text/markdown": [
       "TRUE"
      ],
      "text/plain": [
       "[1] TRUE"
      ]
     },
     "metadata": {},
     "output_type": "display_data"
    }
   ],
   "source": [
    " is.list(listor)\n",
    " is.vector(listor)"
   ]
  },
  {
   "cell_type": "markdown",
   "metadata": {},
   "source": [
    "### Lists in the wild"
   ]
  },
  {
   "cell_type": "markdown",
   "metadata": {},
   "source": [
    "A common place where we can find things that, at least superficially, looks like lists (and sometimes very \\[ very {very (nested lists)}\\] ) is the web! Two common formats for data avaible through the web are \"json\" and \"xml\". R offer a conveniente way of handling that type of data using\n",
    "\n",
    "1.  `jsonlite` for json data (https://cran.r-project.org/web/packages/jsonlite/vignettes/json-aaquickstart.html)\n",
    "2. `xml2` for xml data (https://xml2.r-lib.org/index.html)"
   ]
  },
  {
   "cell_type": "markdown",
   "metadata": {},
   "source": [
    "## Working with lists (or nested objects)"
   ]
  },
  {
   "cell_type": "code",
   "execution_count": 43,
   "metadata": {},
   "outputs": [
    {
     "name": "stderr",
     "output_type": "stream",
     "text": [
      "Warning message:\n",
      "\"package 'purrr' is in use and will not be installed\"\n",
      "Warning message:\n",
      "\"package 'repurrrsive' is in use and will not be installed\"\n"
     ]
    }
   ],
   "source": [
    "install.packages(\"purrr\")\n",
    "install.packages(\"repurrrsive\")\n",
    "library(purrr)\n",
    "library(repurrrsive) # <- this contains example lists"
   ]
  },
  {
   "cell_type": "markdown",
   "metadata": {},
   "source": [
    "The tool of the trade is the family of `map` functions (that is `map()` and a number of `map_{something}()` where instead of {something} you'll have to specify the typo of data you expect to have as output) . Type `map` in and then the tab key to see which other function are related. Let's see how it works on an example from Jenny Brian's `repurrrsive` package.\n",
    "\n",
    "Tip: keep a copy of this cheatsheet nearby you, as it is easy to get lost in `purrr`: https://github.com/rstudio/cheatsheets/blob/master/purrr.pdf"
   ]
  },
  {
   "cell_type": "code",
   "execution_count": 44,
   "metadata": {},
   "outputs": [
    {
     "data": {
      "text/html": [
       "<dl>\n",
       "\t<dt>$GrandBudapest</dt>\n",
       "\t\t<dd><style>\n",
       ".list-inline {list-style: none; margin:0; padding: 0}\n",
       ".list-inline>li {display: inline-block}\n",
       ".list-inline>li:not(:last-child)::after {content: \"\\00b7\"; padding: 0 .5ex}\n",
       "</style>\n",
       "<ol class=list-inline><li>'#F1BB7B'</li><li>'#FD6467'</li><li>'#5B1A18'</li><li>'#D67236'</li></ol>\n",
       "</dd>\n",
       "\t<dt>$Moonrise1</dt>\n",
       "\t\t<dd><style>\n",
       ".list-inline {list-style: none; margin:0; padding: 0}\n",
       ".list-inline>li {display: inline-block}\n",
       ".list-inline>li:not(:last-child)::after {content: \"\\00b7\"; padding: 0 .5ex}\n",
       "</style>\n",
       "<ol class=list-inline><li>'#F3DF6C'</li><li>'#CEAB07'</li><li>'#D5D5D3'</li><li>'#24281A'</li></ol>\n",
       "</dd>\n",
       "\t<dt>$Royal1</dt>\n",
       "\t\t<dd><style>\n",
       ".list-inline {list-style: none; margin:0; padding: 0}\n",
       ".list-inline>li {display: inline-block}\n",
       ".list-inline>li:not(:last-child)::after {content: \"\\00b7\"; padding: 0 .5ex}\n",
       "</style>\n",
       "<ol class=list-inline><li>'#899DA4'</li><li>'#C93312'</li><li>'#FAEFD1'</li><li>'#DC863B'</li></ol>\n",
       "</dd>\n",
       "\t<dt>$Moonrise2</dt>\n",
       "\t\t<dd><style>\n",
       ".list-inline {list-style: none; margin:0; padding: 0}\n",
       ".list-inline>li {display: inline-block}\n",
       ".list-inline>li:not(:last-child)::after {content: \"\\00b7\"; padding: 0 .5ex}\n",
       "</style>\n",
       "<ol class=list-inline><li>'#798E87'</li><li>'#C27D38'</li><li>'#CCC591'</li><li>'#29211F'</li></ol>\n",
       "</dd>\n",
       "\t<dt>$Cavalcanti</dt>\n",
       "\t\t<dd><style>\n",
       ".list-inline {list-style: none; margin:0; padding: 0}\n",
       ".list-inline>li {display: inline-block}\n",
       ".list-inline>li:not(:last-child)::after {content: \"\\00b7\"; padding: 0 .5ex}\n",
       "</style>\n",
       "<ol class=list-inline><li>'#D8B70A'</li><li>'#02401B'</li><li>'#A2A475'</li><li>'#81A88D'</li><li>'#972D15'</li></ol>\n",
       "</dd>\n",
       "\t<dt>$Royal2</dt>\n",
       "\t\t<dd><style>\n",
       ".list-inline {list-style: none; margin:0; padding: 0}\n",
       ".list-inline>li {display: inline-block}\n",
       ".list-inline>li:not(:last-child)::after {content: \"\\00b7\"; padding: 0 .5ex}\n",
       "</style>\n",
       "<ol class=list-inline><li>'#9A8822'</li><li>'#F5CDB4'</li><li>'#F8AFA8'</li><li>'#FDDDA0'</li><li>'#74A089'</li></ol>\n",
       "</dd>\n",
       "\t<dt>$GrandBudapest2</dt>\n",
       "\t\t<dd><style>\n",
       ".list-inline {list-style: none; margin:0; padding: 0}\n",
       ".list-inline>li {display: inline-block}\n",
       ".list-inline>li:not(:last-child)::after {content: \"\\00b7\"; padding: 0 .5ex}\n",
       "</style>\n",
       "<ol class=list-inline><li>'#E6A0C4'</li><li>'#C6CDF7'</li><li>'#D8A499'</li><li>'#7294D4'</li></ol>\n",
       "</dd>\n",
       "\t<dt>$Moonrise3</dt>\n",
       "\t\t<dd><style>\n",
       ".list-inline {list-style: none; margin:0; padding: 0}\n",
       ".list-inline>li {display: inline-block}\n",
       ".list-inline>li:not(:last-child)::after {content: \"\\00b7\"; padding: 0 .5ex}\n",
       "</style>\n",
       "<ol class=list-inline><li>'#85D4E3'</li><li>'#F4B5BD'</li><li>'#9C964A'</li><li>'#CDC08C'</li><li>'#FAD77B'</li></ol>\n",
       "</dd>\n",
       "\t<dt>$Chevalier</dt>\n",
       "\t\t<dd><style>\n",
       ".list-inline {list-style: none; margin:0; padding: 0}\n",
       ".list-inline>li {display: inline-block}\n",
       ".list-inline>li:not(:last-child)::after {content: \"\\00b7\"; padding: 0 .5ex}\n",
       "</style>\n",
       "<ol class=list-inline><li>'#446455'</li><li>'#FDD262'</li><li>'#D3DDDC'</li><li>'#C7B19C'</li></ol>\n",
       "</dd>\n",
       "\t<dt>$Zissou</dt>\n",
       "\t\t<dd><style>\n",
       ".list-inline {list-style: none; margin:0; padding: 0}\n",
       ".list-inline>li {display: inline-block}\n",
       ".list-inline>li:not(:last-child)::after {content: \"\\00b7\"; padding: 0 .5ex}\n",
       "</style>\n",
       "<ol class=list-inline><li>'#3B9AB2'</li><li>'#78B7C5'</li><li>'#EBCC2A'</li><li>'#E1AF00'</li><li>'#F21A00'</li></ol>\n",
       "</dd>\n",
       "\t<dt>$FantasticFox</dt>\n",
       "\t\t<dd><style>\n",
       ".list-inline {list-style: none; margin:0; padding: 0}\n",
       ".list-inline>li {display: inline-block}\n",
       ".list-inline>li:not(:last-child)::after {content: \"\\00b7\"; padding: 0 .5ex}\n",
       "</style>\n",
       "<ol class=list-inline><li>'#DD8D29'</li><li>'#E2D200'</li><li>'#46ACC8'</li><li>'#E58601'</li><li>'#B40F20'</li></ol>\n",
       "</dd>\n",
       "\t<dt>$Darjeeling</dt>\n",
       "\t\t<dd><style>\n",
       ".list-inline {list-style: none; margin:0; padding: 0}\n",
       ".list-inline>li {display: inline-block}\n",
       ".list-inline>li:not(:last-child)::after {content: \"\\00b7\"; padding: 0 .5ex}\n",
       "</style>\n",
       "<ol class=list-inline><li>'#FF0000'</li><li>'#00A08A'</li><li>'#F2AD00'</li><li>'#F98400'</li><li>'#5BBCD6'</li></ol>\n",
       "</dd>\n",
       "\t<dt>$Rushmore</dt>\n",
       "\t\t<dd><style>\n",
       ".list-inline {list-style: none; margin:0; padding: 0}\n",
       ".list-inline>li {display: inline-block}\n",
       ".list-inline>li:not(:last-child)::after {content: \"\\00b7\"; padding: 0 .5ex}\n",
       "</style>\n",
       "<ol class=list-inline><li>'#E1BD6D'</li><li>'#EABE94'</li><li>'#0B775E'</li><li>'#35274A'</li><li>'#F2300F'</li></ol>\n",
       "</dd>\n",
       "\t<dt>$BottleRocket</dt>\n",
       "\t\t<dd><style>\n",
       ".list-inline {list-style: none; margin:0; padding: 0}\n",
       ".list-inline>li {display: inline-block}\n",
       ".list-inline>li:not(:last-child)::after {content: \"\\00b7\"; padding: 0 .5ex}\n",
       "</style>\n",
       "<ol class=list-inline><li>'#A42820'</li><li>'#5F5647'</li><li>'#9B110E'</li><li>'#3F5151'</li><li>'#4E2A1E'</li><li>'#550307'</li><li>'#0C1707'</li></ol>\n",
       "</dd>\n",
       "\t<dt>$Darjeeling2</dt>\n",
       "\t\t<dd><style>\n",
       ".list-inline {list-style: none; margin:0; padding: 0}\n",
       ".list-inline>li {display: inline-block}\n",
       ".list-inline>li:not(:last-child)::after {content: \"\\00b7\"; padding: 0 .5ex}\n",
       "</style>\n",
       "<ol class=list-inline><li>'#ECCBAE'</li><li>'#046C9A'</li><li>'#D69C4E'</li><li>'#ABDDDE'</li><li>'#000000'</li></ol>\n",
       "</dd>\n",
       "</dl>\n"
      ],
      "text/latex": [
       "\\begin{description}\n",
       "\\item[\\$GrandBudapest] \\begin{enumerate*}\n",
       "\\item '\\#F1BB7B'\n",
       "\\item '\\#FD6467'\n",
       "\\item '\\#5B1A18'\n",
       "\\item '\\#D67236'\n",
       "\\end{enumerate*}\n",
       "\n",
       "\\item[\\$Moonrise1] \\begin{enumerate*}\n",
       "\\item '\\#F3DF6C'\n",
       "\\item '\\#CEAB07'\n",
       "\\item '\\#D5D5D3'\n",
       "\\item '\\#24281A'\n",
       "\\end{enumerate*}\n",
       "\n",
       "\\item[\\$Royal1] \\begin{enumerate*}\n",
       "\\item '\\#899DA4'\n",
       "\\item '\\#C93312'\n",
       "\\item '\\#FAEFD1'\n",
       "\\item '\\#DC863B'\n",
       "\\end{enumerate*}\n",
       "\n",
       "\\item[\\$Moonrise2] \\begin{enumerate*}\n",
       "\\item '\\#798E87'\n",
       "\\item '\\#C27D38'\n",
       "\\item '\\#CCC591'\n",
       "\\item '\\#29211F'\n",
       "\\end{enumerate*}\n",
       "\n",
       "\\item[\\$Cavalcanti] \\begin{enumerate*}\n",
       "\\item '\\#D8B70A'\n",
       "\\item '\\#02401B'\n",
       "\\item '\\#A2A475'\n",
       "\\item '\\#81A88D'\n",
       "\\item '\\#972D15'\n",
       "\\end{enumerate*}\n",
       "\n",
       "\\item[\\$Royal2] \\begin{enumerate*}\n",
       "\\item '\\#9A8822'\n",
       "\\item '\\#F5CDB4'\n",
       "\\item '\\#F8AFA8'\n",
       "\\item '\\#FDDDA0'\n",
       "\\item '\\#74A089'\n",
       "\\end{enumerate*}\n",
       "\n",
       "\\item[\\$GrandBudapest2] \\begin{enumerate*}\n",
       "\\item '\\#E6A0C4'\n",
       "\\item '\\#C6CDF7'\n",
       "\\item '\\#D8A499'\n",
       "\\item '\\#7294D4'\n",
       "\\end{enumerate*}\n",
       "\n",
       "\\item[\\$Moonrise3] \\begin{enumerate*}\n",
       "\\item '\\#85D4E3'\n",
       "\\item '\\#F4B5BD'\n",
       "\\item '\\#9C964A'\n",
       "\\item '\\#CDC08C'\n",
       "\\item '\\#FAD77B'\n",
       "\\end{enumerate*}\n",
       "\n",
       "\\item[\\$Chevalier] \\begin{enumerate*}\n",
       "\\item '\\#446455'\n",
       "\\item '\\#FDD262'\n",
       "\\item '\\#D3DDDC'\n",
       "\\item '\\#C7B19C'\n",
       "\\end{enumerate*}\n",
       "\n",
       "\\item[\\$Zissou] \\begin{enumerate*}\n",
       "\\item '\\#3B9AB2'\n",
       "\\item '\\#78B7C5'\n",
       "\\item '\\#EBCC2A'\n",
       "\\item '\\#E1AF00'\n",
       "\\item '\\#F21A00'\n",
       "\\end{enumerate*}\n",
       "\n",
       "\\item[\\$FantasticFox] \\begin{enumerate*}\n",
       "\\item '\\#DD8D29'\n",
       "\\item '\\#E2D200'\n",
       "\\item '\\#46ACC8'\n",
       "\\item '\\#E58601'\n",
       "\\item '\\#B40F20'\n",
       "\\end{enumerate*}\n",
       "\n",
       "\\item[\\$Darjeeling] \\begin{enumerate*}\n",
       "\\item '\\#FF0000'\n",
       "\\item '\\#00A08A'\n",
       "\\item '\\#F2AD00'\n",
       "\\item '\\#F98400'\n",
       "\\item '\\#5BBCD6'\n",
       "\\end{enumerate*}\n",
       "\n",
       "\\item[\\$Rushmore] \\begin{enumerate*}\n",
       "\\item '\\#E1BD6D'\n",
       "\\item '\\#EABE94'\n",
       "\\item '\\#0B775E'\n",
       "\\item '\\#35274A'\n",
       "\\item '\\#F2300F'\n",
       "\\end{enumerate*}\n",
       "\n",
       "\\item[\\$BottleRocket] \\begin{enumerate*}\n",
       "\\item '\\#A42820'\n",
       "\\item '\\#5F5647'\n",
       "\\item '\\#9B110E'\n",
       "\\item '\\#3F5151'\n",
       "\\item '\\#4E2A1E'\n",
       "\\item '\\#550307'\n",
       "\\item '\\#0C1707'\n",
       "\\end{enumerate*}\n",
       "\n",
       "\\item[\\$Darjeeling2] \\begin{enumerate*}\n",
       "\\item '\\#ECCBAE'\n",
       "\\item '\\#046C9A'\n",
       "\\item '\\#D69C4E'\n",
       "\\item '\\#ABDDDE'\n",
       "\\item '\\#000000'\n",
       "\\end{enumerate*}\n",
       "\n",
       "\\end{description}\n"
      ],
      "text/markdown": [
       "$GrandBudapest\n",
       ":   1. '#F1BB7B'\n",
       "2. '#FD6467'\n",
       "3. '#5B1A18'\n",
       "4. '#D67236'\n",
       "\n",
       "\n",
       "\n",
       "$Moonrise1\n",
       ":   1. '#F3DF6C'\n",
       "2. '#CEAB07'\n",
       "3. '#D5D5D3'\n",
       "4. '#24281A'\n",
       "\n",
       "\n",
       "\n",
       "$Royal1\n",
       ":   1. '#899DA4'\n",
       "2. '#C93312'\n",
       "3. '#FAEFD1'\n",
       "4. '#DC863B'\n",
       "\n",
       "\n",
       "\n",
       "$Moonrise2\n",
       ":   1. '#798E87'\n",
       "2. '#C27D38'\n",
       "3. '#CCC591'\n",
       "4. '#29211F'\n",
       "\n",
       "\n",
       "\n",
       "$Cavalcanti\n",
       ":   1. '#D8B70A'\n",
       "2. '#02401B'\n",
       "3. '#A2A475'\n",
       "4. '#81A88D'\n",
       "5. '#972D15'\n",
       "\n",
       "\n",
       "\n",
       "$Royal2\n",
       ":   1. '#9A8822'\n",
       "2. '#F5CDB4'\n",
       "3. '#F8AFA8'\n",
       "4. '#FDDDA0'\n",
       "5. '#74A089'\n",
       "\n",
       "\n",
       "\n",
       "$GrandBudapest2\n",
       ":   1. '#E6A0C4'\n",
       "2. '#C6CDF7'\n",
       "3. '#D8A499'\n",
       "4. '#7294D4'\n",
       "\n",
       "\n",
       "\n",
       "$Moonrise3\n",
       ":   1. '#85D4E3'\n",
       "2. '#F4B5BD'\n",
       "3. '#9C964A'\n",
       "4. '#CDC08C'\n",
       "5. '#FAD77B'\n",
       "\n",
       "\n",
       "\n",
       "$Chevalier\n",
       ":   1. '#446455'\n",
       "2. '#FDD262'\n",
       "3. '#D3DDDC'\n",
       "4. '#C7B19C'\n",
       "\n",
       "\n",
       "\n",
       "$Zissou\n",
       ":   1. '#3B9AB2'\n",
       "2. '#78B7C5'\n",
       "3. '#EBCC2A'\n",
       "4. '#E1AF00'\n",
       "5. '#F21A00'\n",
       "\n",
       "\n",
       "\n",
       "$FantasticFox\n",
       ":   1. '#DD8D29'\n",
       "2. '#E2D200'\n",
       "3. '#46ACC8'\n",
       "4. '#E58601'\n",
       "5. '#B40F20'\n",
       "\n",
       "\n",
       "\n",
       "$Darjeeling\n",
       ":   1. '#FF0000'\n",
       "2. '#00A08A'\n",
       "3. '#F2AD00'\n",
       "4. '#F98400'\n",
       "5. '#5BBCD6'\n",
       "\n",
       "\n",
       "\n",
       "$Rushmore\n",
       ":   1. '#E1BD6D'\n",
       "2. '#EABE94'\n",
       "3. '#0B775E'\n",
       "4. '#35274A'\n",
       "5. '#F2300F'\n",
       "\n",
       "\n",
       "\n",
       "$BottleRocket\n",
       ":   1. '#A42820'\n",
       "2. '#5F5647'\n",
       "3. '#9B110E'\n",
       "4. '#3F5151'\n",
       "5. '#4E2A1E'\n",
       "6. '#550307'\n",
       "7. '#0C1707'\n",
       "\n",
       "\n",
       "\n",
       "$Darjeeling2\n",
       ":   1. '#ECCBAE'\n",
       "2. '#046C9A'\n",
       "3. '#D69C4E'\n",
       "4. '#ABDDDE'\n",
       "5. '#000000'\n",
       "\n",
       "\n",
       "\n",
       "\n",
       "\n"
      ],
      "text/plain": [
       "$GrandBudapest\n",
       "[1] \"#F1BB7B\" \"#FD6467\" \"#5B1A18\" \"#D67236\"\n",
       "\n",
       "$Moonrise1\n",
       "[1] \"#F3DF6C\" \"#CEAB07\" \"#D5D5D3\" \"#24281A\"\n",
       "\n",
       "$Royal1\n",
       "[1] \"#899DA4\" \"#C93312\" \"#FAEFD1\" \"#DC863B\"\n",
       "\n",
       "$Moonrise2\n",
       "[1] \"#798E87\" \"#C27D38\" \"#CCC591\" \"#29211F\"\n",
       "\n",
       "$Cavalcanti\n",
       "[1] \"#D8B70A\" \"#02401B\" \"#A2A475\" \"#81A88D\" \"#972D15\"\n",
       "\n",
       "$Royal2\n",
       "[1] \"#9A8822\" \"#F5CDB4\" \"#F8AFA8\" \"#FDDDA0\" \"#74A089\"\n",
       "\n",
       "$GrandBudapest2\n",
       "[1] \"#E6A0C4\" \"#C6CDF7\" \"#D8A499\" \"#7294D4\"\n",
       "\n",
       "$Moonrise3\n",
       "[1] \"#85D4E3\" \"#F4B5BD\" \"#9C964A\" \"#CDC08C\" \"#FAD77B\"\n",
       "\n",
       "$Chevalier\n",
       "[1] \"#446455\" \"#FDD262\" \"#D3DDDC\" \"#C7B19C\"\n",
       "\n",
       "$Zissou\n",
       "[1] \"#3B9AB2\" \"#78B7C5\" \"#EBCC2A\" \"#E1AF00\" \"#F21A00\"\n",
       "\n",
       "$FantasticFox\n",
       "[1] \"#DD8D29\" \"#E2D200\" \"#46ACC8\" \"#E58601\" \"#B40F20\"\n",
       "\n",
       "$Darjeeling\n",
       "[1] \"#FF0000\" \"#00A08A\" \"#F2AD00\" \"#F98400\" \"#5BBCD6\"\n",
       "\n",
       "$Rushmore\n",
       "[1] \"#E1BD6D\" \"#EABE94\" \"#0B775E\" \"#35274A\" \"#F2300F\"\n",
       "\n",
       "$BottleRocket\n",
       "[1] \"#A42820\" \"#5F5647\" \"#9B110E\" \"#3F5151\" \"#4E2A1E\" \"#550307\" \"#0C1707\"\n",
       "\n",
       "$Darjeeling2\n",
       "[1] \"#ECCBAE\" \"#046C9A\" \"#D69C4E\" \"#ABDDDE\" \"#000000\"\n"
      ]
     },
     "metadata": {},
     "output_type": "display_data"
    }
   ],
   "source": [
    "wesanderson # this contains information about the color palette in Wes Anderson movies"
   ]
  },
  {
   "cell_type": "markdown",
   "metadata": {},
   "source": [
    "If we want to extract the first element from all the elements in `wesanderson` we can not simply do:"
   ]
  },
  {
   "cell_type": "code",
   "execution_count": 45,
   "metadata": {},
   "outputs": [
    {
     "data": {
      "text/html": [
       "<strong>$GrandBudapest</strong> = <style>\n",
       ".list-inline {list-style: none; margin:0; padding: 0}\n",
       ".list-inline>li {display: inline-block}\n",
       ".list-inline>li:not(:last-child)::after {content: \"\\00b7\"; padding: 0 .5ex}\n",
       "</style>\n",
       "<ol class=list-inline><li>'#F1BB7B'</li><li>'#FD6467'</li><li>'#5B1A18'</li><li>'#D67236'</li></ol>\n"
      ],
      "text/latex": [
       "\\textbf{\\$GrandBudapest} = \\begin{enumerate*}\n",
       "\\item '\\#F1BB7B'\n",
       "\\item '\\#FD6467'\n",
       "\\item '\\#5B1A18'\n",
       "\\item '\\#D67236'\n",
       "\\end{enumerate*}\n"
      ],
      "text/markdown": [
       "**$GrandBudapest** = 1. '#F1BB7B'\n",
       "2. '#FD6467'\n",
       "3. '#5B1A18'\n",
       "4. '#D67236'\n",
       "\n",
       "\n"
      ],
      "text/plain": [
       "$GrandBudapest\n",
       "[1] \"#F1BB7B\" \"#FD6467\" \"#5B1A18\" \"#D67236\"\n"
      ]
     },
     "metadata": {},
     "output_type": "display_data"
    }
   ],
   "source": [
    "wesanderson[1]"
   ]
  },
  {
   "cell_type": "markdown",
   "metadata": {},
   "source": [
    "nor"
   ]
  },
  {
   "cell_type": "code",
   "execution_count": 46,
   "metadata": {},
   "outputs": [
    {
     "data": {
      "text/html": [
       "<style>\n",
       ".list-inline {list-style: none; margin:0; padding: 0}\n",
       ".list-inline>li {display: inline-block}\n",
       ".list-inline>li:not(:last-child)::after {content: \"\\00b7\"; padding: 0 .5ex}\n",
       "</style>\n",
       "<ol class=list-inline><li>'#F1BB7B'</li><li>'#FD6467'</li><li>'#5B1A18'</li><li>'#D67236'</li></ol>\n"
      ],
      "text/latex": [
       "\\begin{enumerate*}\n",
       "\\item '\\#F1BB7B'\n",
       "\\item '\\#FD6467'\n",
       "\\item '\\#5B1A18'\n",
       "\\item '\\#D67236'\n",
       "\\end{enumerate*}\n"
      ],
      "text/markdown": [
       "1. '#F1BB7B'\n",
       "2. '#FD6467'\n",
       "3. '#5B1A18'\n",
       "4. '#D67236'\n",
       "\n",
       "\n"
      ],
      "text/plain": [
       "[1] \"#F1BB7B\" \"#FD6467\" \"#5B1A18\" \"#D67236\""
      ]
     },
     "metadata": {},
     "output_type": "display_data"
    }
   ],
   "source": [
    "wesanderson[[1]]"
   ]
  },
  {
   "cell_type": "markdown",
   "metadata": {},
   "source": [
    "because that will give the first element of `wesanderson`. Not the same thing. Something like"
   ]
  },
  {
   "cell_type": "code",
   "execution_count": 47,
   "metadata": {},
   "outputs": [
    {
     "data": {
      "text/html": [
       "'#F1BB7B'"
      ],
      "text/latex": [
       "'\\#F1BB7B'"
      ],
      "text/markdown": [
       "'#F1BB7B'"
      ],
      "text/plain": [
       "[1] \"#F1BB7B\""
      ]
     },
     "metadata": {},
     "output_type": "display_data"
    }
   ],
   "source": [
    "wesanderson[[1]][1]"
   ]
  },
  {
   "cell_type": "markdown",
   "metadata": {},
   "source": [
    "would work for the first movie, but what about the others? Here comes `map()`"
   ]
  },
  {
   "cell_type": "code",
   "execution_count": 48,
   "metadata": {},
   "outputs": [
    {
     "data": {
      "text/html": [
       "<dl>\n",
       "\t<dt>$GrandBudapest</dt>\n",
       "\t\t<dd>'#F1BB7B'</dd>\n",
       "\t<dt>$Moonrise1</dt>\n",
       "\t\t<dd>'#F3DF6C'</dd>\n",
       "\t<dt>$Royal1</dt>\n",
       "\t\t<dd>'#899DA4'</dd>\n",
       "\t<dt>$Moonrise2</dt>\n",
       "\t\t<dd>'#798E87'</dd>\n",
       "\t<dt>$Cavalcanti</dt>\n",
       "\t\t<dd>'#D8B70A'</dd>\n",
       "\t<dt>$Royal2</dt>\n",
       "\t\t<dd>'#9A8822'</dd>\n",
       "\t<dt>$GrandBudapest2</dt>\n",
       "\t\t<dd>'#E6A0C4'</dd>\n",
       "\t<dt>$Moonrise3</dt>\n",
       "\t\t<dd>'#85D4E3'</dd>\n",
       "\t<dt>$Chevalier</dt>\n",
       "\t\t<dd>'#446455'</dd>\n",
       "\t<dt>$Zissou</dt>\n",
       "\t\t<dd>'#3B9AB2'</dd>\n",
       "\t<dt>$FantasticFox</dt>\n",
       "\t\t<dd>'#DD8D29'</dd>\n",
       "\t<dt>$Darjeeling</dt>\n",
       "\t\t<dd>'#FF0000'</dd>\n",
       "\t<dt>$Rushmore</dt>\n",
       "\t\t<dd>'#E1BD6D'</dd>\n",
       "\t<dt>$BottleRocket</dt>\n",
       "\t\t<dd>'#A42820'</dd>\n",
       "\t<dt>$Darjeeling2</dt>\n",
       "\t\t<dd>'#ECCBAE'</dd>\n",
       "</dl>\n"
      ],
      "text/latex": [
       "\\begin{description}\n",
       "\\item[\\$GrandBudapest] '\\#F1BB7B'\n",
       "\\item[\\$Moonrise1] '\\#F3DF6C'\n",
       "\\item[\\$Royal1] '\\#899DA4'\n",
       "\\item[\\$Moonrise2] '\\#798E87'\n",
       "\\item[\\$Cavalcanti] '\\#D8B70A'\n",
       "\\item[\\$Royal2] '\\#9A8822'\n",
       "\\item[\\$GrandBudapest2] '\\#E6A0C4'\n",
       "\\item[\\$Moonrise3] '\\#85D4E3'\n",
       "\\item[\\$Chevalier] '\\#446455'\n",
       "\\item[\\$Zissou] '\\#3B9AB2'\n",
       "\\item[\\$FantasticFox] '\\#DD8D29'\n",
       "\\item[\\$Darjeeling] '\\#FF0000'\n",
       "\\item[\\$Rushmore] '\\#E1BD6D'\n",
       "\\item[\\$BottleRocket] '\\#A42820'\n",
       "\\item[\\$Darjeeling2] '\\#ECCBAE'\n",
       "\\end{description}\n"
      ],
      "text/markdown": [
       "$GrandBudapest\n",
       ":   '#F1BB7B'\n",
       "$Moonrise1\n",
       ":   '#F3DF6C'\n",
       "$Royal1\n",
       ":   '#899DA4'\n",
       "$Moonrise2\n",
       ":   '#798E87'\n",
       "$Cavalcanti\n",
       ":   '#D8B70A'\n",
       "$Royal2\n",
       ":   '#9A8822'\n",
       "$GrandBudapest2\n",
       ":   '#E6A0C4'\n",
       "$Moonrise3\n",
       ":   '#85D4E3'\n",
       "$Chevalier\n",
       ":   '#446455'\n",
       "$Zissou\n",
       ":   '#3B9AB2'\n",
       "$FantasticFox\n",
       ":   '#DD8D29'\n",
       "$Darjeeling\n",
       ":   '#FF0000'\n",
       "$Rushmore\n",
       ":   '#E1BD6D'\n",
       "$BottleRocket\n",
       ":   '#A42820'\n",
       "$Darjeeling2\n",
       ":   '#ECCBAE'\n",
       "\n",
       "\n"
      ],
      "text/plain": [
       "$GrandBudapest\n",
       "[1] \"#F1BB7B\"\n",
       "\n",
       "$Moonrise1\n",
       "[1] \"#F3DF6C\"\n",
       "\n",
       "$Royal1\n",
       "[1] \"#899DA4\"\n",
       "\n",
       "$Moonrise2\n",
       "[1] \"#798E87\"\n",
       "\n",
       "$Cavalcanti\n",
       "[1] \"#D8B70A\"\n",
       "\n",
       "$Royal2\n",
       "[1] \"#9A8822\"\n",
       "\n",
       "$GrandBudapest2\n",
       "[1] \"#E6A0C4\"\n",
       "\n",
       "$Moonrise3\n",
       "[1] \"#85D4E3\"\n",
       "\n",
       "$Chevalier\n",
       "[1] \"#446455\"\n",
       "\n",
       "$Zissou\n",
       "[1] \"#3B9AB2\"\n",
       "\n",
       "$FantasticFox\n",
       "[1] \"#DD8D29\"\n",
       "\n",
       "$Darjeeling\n",
       "[1] \"#FF0000\"\n",
       "\n",
       "$Rushmore\n",
       "[1] \"#E1BD6D\"\n",
       "\n",
       "$BottleRocket\n",
       "[1] \"#A42820\"\n",
       "\n",
       "$Darjeeling2\n",
       "[1] \"#ECCBAE\"\n"
      ]
     },
     "metadata": {},
     "output_type": "display_data"
    }
   ],
   "source": [
    "wesanderson %>% map(1)"
   ]
  },
  {
   "cell_type": "markdown",
   "metadata": {},
   "source": [
    "Much better! But `map()` is way more powerful than that! If we simply use integers (or names) it will extract elements, but if we pass **functions** map will apply that function to each element of the list. Let's see:"
   ]
  },
  {
   "cell_type": "code",
   "execution_count": 49,
   "metadata": {},
   "outputs": [
    {
     "data": {
      "text/html": [
       "<dl>\n",
       "\t<dt>$GrandBudapest</dt>\n",
       "\t\t<dd>4</dd>\n",
       "\t<dt>$Moonrise1</dt>\n",
       "\t\t<dd>4</dd>\n",
       "\t<dt>$Royal1</dt>\n",
       "\t\t<dd>4</dd>\n",
       "\t<dt>$Moonrise2</dt>\n",
       "\t\t<dd>4</dd>\n",
       "\t<dt>$Cavalcanti</dt>\n",
       "\t\t<dd>5</dd>\n",
       "\t<dt>$Royal2</dt>\n",
       "\t\t<dd>5</dd>\n",
       "\t<dt>$GrandBudapest2</dt>\n",
       "\t\t<dd>4</dd>\n",
       "\t<dt>$Moonrise3</dt>\n",
       "\t\t<dd>5</dd>\n",
       "\t<dt>$Chevalier</dt>\n",
       "\t\t<dd>4</dd>\n",
       "\t<dt>$Zissou</dt>\n",
       "\t\t<dd>5</dd>\n",
       "\t<dt>$FantasticFox</dt>\n",
       "\t\t<dd>5</dd>\n",
       "\t<dt>$Darjeeling</dt>\n",
       "\t\t<dd>5</dd>\n",
       "\t<dt>$Rushmore</dt>\n",
       "\t\t<dd>5</dd>\n",
       "\t<dt>$BottleRocket</dt>\n",
       "\t\t<dd>7</dd>\n",
       "\t<dt>$Darjeeling2</dt>\n",
       "\t\t<dd>5</dd>\n",
       "</dl>\n"
      ],
      "text/latex": [
       "\\begin{description}\n",
       "\\item[\\$GrandBudapest] 4\n",
       "\\item[\\$Moonrise1] 4\n",
       "\\item[\\$Royal1] 4\n",
       "\\item[\\$Moonrise2] 4\n",
       "\\item[\\$Cavalcanti] 5\n",
       "\\item[\\$Royal2] 5\n",
       "\\item[\\$GrandBudapest2] 4\n",
       "\\item[\\$Moonrise3] 5\n",
       "\\item[\\$Chevalier] 4\n",
       "\\item[\\$Zissou] 5\n",
       "\\item[\\$FantasticFox] 5\n",
       "\\item[\\$Darjeeling] 5\n",
       "\\item[\\$Rushmore] 5\n",
       "\\item[\\$BottleRocket] 7\n",
       "\\item[\\$Darjeeling2] 5\n",
       "\\end{description}\n"
      ],
      "text/markdown": [
       "$GrandBudapest\n",
       ":   4\n",
       "$Moonrise1\n",
       ":   4\n",
       "$Royal1\n",
       ":   4\n",
       "$Moonrise2\n",
       ":   4\n",
       "$Cavalcanti\n",
       ":   5\n",
       "$Royal2\n",
       ":   5\n",
       "$GrandBudapest2\n",
       ":   4\n",
       "$Moonrise3\n",
       ":   5\n",
       "$Chevalier\n",
       ":   4\n",
       "$Zissou\n",
       ":   5\n",
       "$FantasticFox\n",
       ":   5\n",
       "$Darjeeling\n",
       ":   5\n",
       "$Rushmore\n",
       ":   5\n",
       "$BottleRocket\n",
       ":   7\n",
       "$Darjeeling2\n",
       ":   5\n",
       "\n",
       "\n"
      ],
      "text/plain": [
       "$GrandBudapest\n",
       "[1] 4\n",
       "\n",
       "$Moonrise1\n",
       "[1] 4\n",
       "\n",
       "$Royal1\n",
       "[1] 4\n",
       "\n",
       "$Moonrise2\n",
       "[1] 4\n",
       "\n",
       "$Cavalcanti\n",
       "[1] 5\n",
       "\n",
       "$Royal2\n",
       "[1] 5\n",
       "\n",
       "$GrandBudapest2\n",
       "[1] 4\n",
       "\n",
       "$Moonrise3\n",
       "[1] 5\n",
       "\n",
       "$Chevalier\n",
       "[1] 4\n",
       "\n",
       "$Zissou\n",
       "[1] 5\n",
       "\n",
       "$FantasticFox\n",
       "[1] 5\n",
       "\n",
       "$Darjeeling\n",
       "[1] 5\n",
       "\n",
       "$Rushmore\n",
       "[1] 5\n",
       "\n",
       "$BottleRocket\n",
       "[1] 7\n",
       "\n",
       "$Darjeeling2\n",
       "[1] 5\n"
      ]
     },
     "metadata": {},
     "output_type": "display_data"
    }
   ],
   "source": [
    "wesanderson %>%\n",
    "  purrr::map(length) # we apply the function length to all elements in wesanderson"
   ]
  },
  {
   "cell_type": "markdown",
   "metadata": {},
   "source": [
    "`map` comes in many flavours: `map_chr()`, `map_dbl()`, `map_df()`, ... What changes is the **expected outcome** of the function being mapped or the elements being extracted. If they are going to be all of the same type, the mapping takes advantage of that and is much faster. Also, if we have reason to expect all the outcomes to be of the same kind, we can use it to detect possible errors: if one outcome is not as desidered the map tells as there was an error.\n",
    "\n",
    "**try out the various versions of map_ on the wesanderson list**"
   ]
  },
  {
   "cell_type": "code",
   "execution_count": 50,
   "metadata": {},
   "outputs": [],
   "source": [
    "# your code here."
   ]
  },
  {
   "cell_type": "markdown",
   "metadata": {},
   "source": [
    "## Your turn"
   ]
  },
  {
   "cell_type": "markdown",
   "metadata": {},
   "source": [
    "Work on the list `got_chars` which contains information about Game of Thrones characters (from https://www.anapioficeandfire.com)."
   ]
  },
  {
   "cell_type": "code",
   "execution_count": null,
   "metadata": {},
   "outputs": [],
   "source": [
    "got_chars %>% glimpse()"
   ]
  },
  {
   "cell_type": "markdown",
   "metadata": {},
   "source": [
    "Extract the `name` of each character:"
   ]
  },
  {
   "cell_type": "code",
   "execution_count": null,
   "metadata": {},
   "outputs": [],
   "source": [
    "# your code here"
   ]
  },
  {
   "cell_type": "markdown",
   "metadata": {},
   "source": [
    "## Challenge\n",
    "\n",
    "Now, in 1 piping flow, create a new dataframe containing `name` and `allegiances` of each character. You will need to use the `data_frame()` function, a couple of `map_...()` functions, and you will need to understand a little bit more about how to use the `%>%` operator (especially curly brackets and the dot, a good place where to do it is [here](https://magrittr.tidyverse.org/))."
   ]
  },
  {
   "cell_type": "code",
   "execution_count": null,
   "metadata": {},
   "outputs": [],
   "source": [
    "# your code here."
   ]
  },
  {
   "cell_type": "markdown",
   "metadata": {},
   "source": [
    "### More fancy operations\n",
    "\n",
    "The `map_...()` family of functions come with also a more agile notation for specifying the mapped function _on the fly_. This are called _anonymous functions_. In `purrr` this fuctions are defined starting with a tilde, ~ , and they have one implicit argument: `.x`. Consider the following list:"
   ]
  },
  {
   "cell_type": "code",
   "execution_count": null,
   "metadata": {},
   "outputs": [],
   "source": [
    "gap_split[1:4] # I'm printing out only the first 4 elements"
   ]
  },
  {
   "cell_type": "markdown",
   "metadata": {},
   "source": [
    "It is a list containing dataframes. If we want to get back from that list a dataframe with only the information about the year 1952, we can use the anonymous function notation and the usual piping flow of tidyverse. To get that information from one of the elements in the list we would write something like:"
   ]
  },
  {
   "cell_type": "code",
   "execution_count": null,
   "metadata": {},
   "outputs": [],
   "source": [
    "gap_split[[\"Austria\"]] %>%\n",
    "  filter(year == 1952)"
   ]
  },
  {
   "cell_type": "markdown",
   "metadata": {},
   "source": [
    "Now, if we want to apply that to every element in the list, we use the ~ and `.x` notation.\n",
    "\n",
    "As the `map` goes through the list, `.x` will become one of the elements at each time."
   ]
  },
  {
   "cell_type": "code",
   "execution_count": null,
   "metadata": {},
   "outputs": [],
   "source": [
    "gap_split %>%\n",
    "  map_df(~ .x %>% filter(year == 1952))"
   ]
  },
  {
   "cell_type": "markdown",
   "metadata": {},
   "source": [
    "### Readings:\n",
    "\n",
    "1) Work through https://r4ds.had.co.nz/iteration.html and do the exercises there."
   ]
  },
  {
   "cell_type": "markdown",
   "metadata": {},
   "source": [
    "## Strings, Dates, and all that Jazz"
   ]
  },
  {
   "cell_type": "markdown",
   "metadata": {},
   "source": [
    "R (as most other programming languages) have dedicated classes for many variable types. Like, many of them. And a full ecosystem of packages that help you operate on those type on a higher level of abstraction. Two that are particularly common are strings (from letters to words, from tweets to entire books can be coded as strings) and data-times. Many different packages can handle those, but I'd like to introduce you with two in particular:\n",
    "\n",
    "1.  `stringr` for strings (https://stringr.tidyverse.org/)\n",
    "2.  `lubridate` for dates (https://lubridate.tidyverse.org/)"
   ]
  },
  {
   "cell_type": "markdown",
   "metadata": {},
   "source": [
    "Hadley's \"R for data science\" offers a great introduction to both:\n",
    "\n",
    "1.  for strings, study here: http://r4ds.had.co.nz/strings.html\n",
    "2.  for dates, study here: https://r4ds.had.co.nz/dates-and-times.html\n",
    "\n",
    "If you have time, it's a very good idea to work through the exercises."
   ]
  },
  {
   "cell_type": "code",
   "execution_count": null,
   "metadata": {},
   "outputs": [],
   "source": []
  },
  {
   "cell_type": "markdown",
   "metadata": {},
   "source": [
    "## Relational Data Exercises\n",
    "\n",
    "1. What does it mean for a flight to have a missing tailnum? What do the tail numbers that don’t have a matching record in planes have in common? (Hint: one variable explains ~90% of the problems.) Flights that have a missing tailnum all have missing values of arr_time...\n",
    "\n",
    "2. Filter flights to only show flights with planes that have flown at least 100 flights."
   ]
  },
  {
   "cell_type": "code",
   "execution_count": null,
   "metadata": {},
   "outputs": [],
   "source": [
    "# install.packages(\"nycflights13\")\n",
    "library(nycflights13)"
   ]
  },
  {
   "cell_type": "code",
   "execution_count": null,
   "metadata": {},
   "outputs": [],
   "source": []
  },
  {
   "cell_type": "code",
   "execution_count": null,
   "metadata": {},
   "outputs": [],
   "source": []
  },
  {
   "cell_type": "markdown",
   "metadata": {},
   "source": [
    "3. Find the 24 hours (over the course of the whole year) that have the worst delays. Cross-reference it with the weather data. Can you see any patterns?\n",
    "\n",
    "4. What does anti_join(flights, airports, by = c(\"dest\" = \"faa\")) tell you? What does anti_join(airports, flights, by = c(\"faa\" = \"dest\")) tell you?"
   ]
  },
  {
   "cell_type": "code",
   "execution_count": null,
   "metadata": {},
   "outputs": [],
   "source": []
  },
  {
   "cell_type": "code",
   "execution_count": null,
   "metadata": {},
   "outputs": [],
   "source": []
  },
  {
   "cell_type": "code",
   "execution_count": null,
   "metadata": {},
   "outputs": [],
   "source": []
  },
  {
   "cell_type": "code",
   "execution_count": null,
   "metadata": {},
   "outputs": [],
   "source": []
  },
  {
   "cell_type": "markdown",
   "metadata": {},
   "source": [
    "### Economy vs Common Cars\n",
    "5. Combine fueleconomy::vehicles and fueleconomy::common to find only the records for the most common models."
   ]
  },
  {
   "cell_type": "code",
   "execution_count": null,
   "metadata": {},
   "outputs": [],
   "source": [
    "# install.packages(\"fueleconomy\")"
   ]
  },
  {
   "cell_type": "code",
   "execution_count": null,
   "metadata": {},
   "outputs": [],
   "source": [
    "fueleconomy::vehicles%>%head()"
   ]
  },
  {
   "cell_type": "code",
   "execution_count": null,
   "metadata": {},
   "outputs": [],
   "source": [
    "fueleconomy::common%>%head()"
   ]
  },
  {
   "cell_type": "code",
   "execution_count": null,
   "metadata": {},
   "outputs": [],
   "source": [
    "fueleconomy::vehicles %>%\n",
    "  semi_join(fueleconomy::common, by = c(\"make\", \"model\"))%>%\n",
    "head()"
   ]
  },
  {
   "cell_type": "code",
   "execution_count": null,
   "metadata": {},
   "outputs": [],
   "source": []
  },
  {
   "cell_type": "code",
   "execution_count": null,
   "metadata": {},
   "outputs": [],
   "source": []
  },
  {
   "cell_type": "raw",
   "metadata": {},
   "source": [
    ". 1\n",
    ". 1\n",
    ". 1\n",
    ". 1\n",
    ". 1\n",
    ". 1\n",
    ". 1\n",
    ". 1\n",
    ". 1\n",
    ". 1\n",
    ". 1\n",
    ". 1\n",
    "### Answer is Below, but you should have a go first. ### \n",
    ". 1\n",
    ". 1\n",
    ". 1\n",
    ". 1\n",
    ". 1\n",
    ". 1\n",
    ". 1\n",
    ". 1\n",
    ". 1\n",
    ". 1\n",
    ". 1\n",
    ". 1"
   ]
  },
  {
   "cell_type": "code",
   "execution_count": null,
   "metadata": {},
   "outputs": [],
   "source": [
    "fueleconomy::vehicles %>%\n",
    "  distinct(model, make) %>%\n",
    "  group_by(model) %>%\n",
    "  filter(n() > 1) %>%\n",
    "  arrange(model)"
   ]
  },
  {
   "cell_type": "code",
   "execution_count": null,
   "metadata": {},
   "outputs": [],
   "source": [
    "fueleconomy::common %>%\n",
    "  distinct(model, make) %>%\n",
    "  group_by(model) %>%\n",
    "  filter(n() > 1) %>%\n",
    "  arrange(model)"
   ]
  },
  {
   "cell_type": "code",
   "execution_count": null,
   "metadata": {},
   "outputs": [],
   "source": []
  }
 ],
 "metadata": {
  "kernelspec": {
   "display_name": "R",
   "language": "R",
   "name": "ir"
  },
  "language_info": {
   "codemirror_mode": "r",
   "file_extension": ".r",
   "mimetype": "text/x-r-source",
   "name": "R",
   "pygments_lexer": "r",
   "version": "4.2.1"
  }
 },
 "nbformat": 4,
 "nbformat_minor": 4
}

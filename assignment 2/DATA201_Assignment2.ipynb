{
 "cells": [
  {
   "cell_type": "markdown",
   "metadata": {},
   "source": [
    "# Data 201\n",
    "\n",
    "Data Wrangling, S2 2022\n",
    "\n",
    "## Assignement 2\n",
    "\n",
    "### 20% of final grade\n",
    "\n",
    "## Due date: 2pm Monday 12 October 2022\n",
    "\n",
    "The assignment must be submitted on the DATA 201 and 422 Learn page and should be **your own pair** (or group of three if we are odd) **work**. Avoid plagiarism: if you are not sure what may constitute code plagiarism, read this http://web.science.mq.edu.au/~mtaylor/ponline/index.php?id=source-code-plagiarism. Remember, when in doubt **declare your sources**.  \n",
    "As a general rule, late submission are **highly** unsuggested. The pace of the course is very quick, and you don't want to be working on this too long, as you would have less time for other assignments. I suggest you to submit what you have ready by the time the assignment is due, even if it is not everything we required. For any particular problem, please contact [Thomas Li](thomas.li@canterbury.ac.nz) or [Giulio Dalla Riva](giulio.dallariva@canterbury.ac.nz) or TAs.\n",
    "\n",
    "\n",
    "## Instruction\n",
    "\n",
    "### Total: 20 marks.\n",
    "\n",
    "For this assignment you will work with data from the web. Your goal is to scrape it or request it, wrangle it, produce some plotting, in order to demonstrate that you are able to use the functions, plotting, and markdown format we have been learning.  \n",
    "You shall hand in your work as a jupyter R notebook comprehending the code, the plots and, **very important**, enough comments and explanations for us to understand what you did, how you did it, and why you did it. Remember: better comments, means better marks.  \n",
    "You can either modify this notebook or write a new one from scratch."
   ]
  },
  {
   "cell_type": "markdown",
   "metadata": {},
   "source": [
    "Do use the tidyverse syntax that's introduced in class and labs. If in doubt, refresh the lab material 1 to 7."
   ]
  },
  {
   "cell_type": "code",
   "execution_count": 1,
   "metadata": {},
   "outputs": [
    {
     "name": "stderr",
     "output_type": "stream",
     "text": [
      "── \u001b[1mAttaching packages\u001b[22m ─────────────────────────────────────────────────────────────────────────────── tidyverse 1.3.2 ──\n",
      "\u001b[32m✔\u001b[39m \u001b[34mggplot2\u001b[39m 3.3.6     \u001b[32m✔\u001b[39m \u001b[34mpurrr  \u001b[39m 0.3.4\n",
      "\u001b[32m✔\u001b[39m \u001b[34mtibble \u001b[39m 3.1.7     \u001b[32m✔\u001b[39m \u001b[34mdplyr  \u001b[39m 1.0.9\n",
      "\u001b[32m✔\u001b[39m \u001b[34mtidyr  \u001b[39m 1.2.0     \u001b[32m✔\u001b[39m \u001b[34mstringr\u001b[39m 1.4.0\n",
      "\u001b[32m✔\u001b[39m \u001b[34mreadr  \u001b[39m 2.1.2     \u001b[32m✔\u001b[39m \u001b[34mforcats\u001b[39m 0.5.1\n",
      "── \u001b[1mConflicts\u001b[22m ────────────────────────────────────────────────────────────────────────────────── tidyverse_conflicts() ──\n",
      "\u001b[31m✖\u001b[39m \u001b[34mdplyr\u001b[39m::\u001b[32mfilter()\u001b[39m masks \u001b[34mstats\u001b[39m::filter()\n",
      "\u001b[31m✖\u001b[39m \u001b[34mdplyr\u001b[39m::\u001b[32mlag()\u001b[39m    masks \u001b[34mstats\u001b[39m::lag()\n"
     ]
    }
   ],
   "source": [
    "#this section is just getting all of the liabarys that are needed \n",
    "library(tidyverse) # This is bringing in the tidyverse "
   ]
  },
  {
   "cell_type": "code",
   "execution_count": 2,
   "metadata": {},
   "outputs": [
    {
     "name": "stderr",
     "output_type": "stream",
     "text": [
      "\n",
      "Attaching package: 'rvest'\n",
      "\n",
      "\n",
      "The following object is masked from 'package:readr':\n",
      "\n",
      "    guess_encoding\n",
      "\n",
      "\n",
      "\n",
      "Attaching package: 'magrittr'\n",
      "\n",
      "\n",
      "The following object is masked from 'package:purrr':\n",
      "\n",
      "    set_names\n",
      "\n",
      "\n",
      "The following object is masked from 'package:tidyr':\n",
      "\n",
      "    extract\n",
      "\n",
      "\n",
      "\n",
      "Attaching package: 'jsonlite'\n",
      "\n",
      "\n",
      "The following object is masked from 'package:purrr':\n",
      "\n",
      "    flatten\n",
      "\n",
      "\n"
     ]
    }
   ],
   "source": [
    "# This section is just getting all of the liabarys that are needed \n",
    "library(rvest) # This is installing the requried library\n",
    "library(polite) # This library is jsut a better version of the rvest library \n",
    "library(xml2) # Makes it easier to work with HTML and XML from R\n",
    "library(magrittr) # Better handling of pipes\n",
    "library(purrr) # To work with lists and map functions\n",
    "library(glue) # To paste strings\n",
    "library(stringr) # To hand strings\n",
    "#install.packages(c(\"httr\", \"jsonlite\")) # Uncomment if needed \n",
    "library(httr) # For API\n",
    "library(jsonlite) # For API"
   ]
  },
  {
   "cell_type": "markdown",
   "metadata": {},
   "source": [
    "### Task (a): scrape it (5 marks)\n",
    "\n",
    "Identify a website page showing information you find interesting. The information should be presented across more than one page. Select one of this pages (the rest is for later) and using `rvest` (and the suit of `tidyverse` libraries we used so far, plus any other one you may need) get the html into R."
   ]
  },
  {
   "cell_type": "code",
   "execution_count": 3,
   "metadata": {
    "vscode": {
     "languageId": "r"
    }
   },
   "outputs": [],
   "source": [
    "# This is the website that has the top 40 New Zealand singles. The website holds information about the song name, the artist(s), \n",
    "# and the current rank that that song is.  \n",
    "url <- \"https://ccc.govt.nz/transport/improving-our-transport-and-roads/works\"\n",
    "page <- read_html(url) # Here i am reading the url into page_top_songs"
   ]
  },
  {
   "cell_type": "code",
   "execution_count": 4,
   "metadata": {},
   "outputs": [
    {
     "data": {
      "text/html": [
       "'list'"
      ],
      "text/latex": [
       "'list'"
      ],
      "text/markdown": [
       "'list'"
      ],
      "text/plain": [
       "[1] \"list\""
      ]
     },
     "metadata": {},
     "output_type": "display_data"
    },
    {
     "name": "stdout",
     "output_type": "stream",
     "text": [
      "List of 2\n",
      " $ node:<externalptr> \n",
      " $ doc :<externalptr> \n",
      " - attr(*, \"class\")= chr [1:2] \"xml_document\" \"xml_node\"\n"
     ]
    }
   ],
   "source": [
    "page %>% typeof() # To show the type\n",
    "page %>% glimpse() # To see a short summary of what the data is like "
   ]
  },
  {
   "cell_type": "code",
   "execution_count": 5,
   "metadata": {},
   "outputs": [],
   "source": [
    "# Here i am scraping all the data that i want from the website, \n",
    "All_Data <- page %>%  # Naming the data appropriately \n",
    "  html_nodes(\".results td \") %>% # Because of the way the website is this was the fastest way to get all the data that i want to get at this stage \n",
    "  html_text()"
   ]
  },
  {
   "cell_type": "code",
   "execution_count": 6,
   "metadata": {},
   "outputs": [],
   "source": [
    "# In this section i am using the seq() function to select every nth item to sperate the data so i can orginise it into a table \n",
    "\n",
    "suburb <- All_Data[seq(1, length(All_Data), 6)] # Am getting the suburb of the roadworks \n",
    "\n",
    "location <- All_Data[seq(2, length(All_Data), 6)] # Am getting the location of the roadworks \n",
    "\n",
    "type <- All_Data[seq(3, length(All_Data), 6)] # Am getting the type of the roadwork\n",
    "\n",
    "impact <- All_Data[seq(4, length(All_Data), 6)] # Am getting the impact of the roadwork\n",
    "\n",
    "start_date <- All_Data[seq(5, length(All_Data), 6)] # Am getting the start_date of the roadwork\n",
    "\n",
    "Expected_end_date <- All_Data[seq(6, length(All_Data), 6)] # Am getting the Expected_end_date of the roadwork"
   ]
  },
  {
   "cell_type": "markdown",
   "metadata": {},
   "source": [
    "### Task (b): wrangle it (5 marks)\n",
    "\n",
    "\n",
    "Working on the page from task (a), transform the data you collected into relational data model (that is, one or more data frames). WARNING: you will need to think and motivate how you are doing this in terms of the **data model** you are trying to build; just throwing everything in a table is not enough."
   ]
  },
  {
   "cell_type": "code",
   "execution_count": 7,
   "metadata": {
    "vscode": {
     "languageId": "r"
    }
   },
   "outputs": [
    {
     "data": {
      "text/html": [
       "<table class=\"dataframe\">\n",
       "<caption>A tibble: 43 × 6</caption>\n",
       "<thead>\n",
       "\t<tr><th scope=col>Suburb</th><th scope=col>Location</th><th scope=col>Type</th><th scope=col>Impact</th><th scope=col>Start_date</th><th scope=col>Expected_end_date</th></tr>\n",
       "\t<tr><th scope=col>&lt;chr&gt;</th><th scope=col>&lt;chr&gt;</th><th scope=col>&lt;chr&gt;</th><th scope=col>&lt;chr&gt;</th><th scope=col>&lt;chr&gt;</th><th scope=col>&lt;chr&gt;</th></tr>\n",
       "</thead>\n",
       "<tbody>\n",
       "\t<tr><td>Addington         </td><td>Lincoln Road between Moorhouse Avenue and Whiteleigh Avenue, Addington.                                                                                                                                             </td><td>Road improvement                                                           </td><td>                                                                                                                                                                      </td><td>3 May 2022 </td><td>30 Nov 2022</td></tr>\n",
       "\t<tr><td>Addington         </td><td>The intersection of Lincoln Road, Whiteleigh Avenue and Barrington Street, Addington, Christchurch.                                                                                                                 </td><td>Road improvement , Road maintenance                                        </td><td>                                                                                                                                                                      </td><td>30 Sep 2022</td><td>10 Oct 2022</td></tr>\n",
       "\t<tr><td>Akaroa            </td><td>Akaroa Lighthouse at 135 Beach Road, Akaroa.                                                                                                                                                                        </td><td>Facility/infrastructure maintenance                                        </td><td>Restricted on-street parking                                                                                                                                          </td><td>12 Aug 2022</td><td>31 Dec 2022</td></tr>\n",
       "\t<tr><td>Akaroa            </td><td>From Aylmers Valley Road intersection to 7 Newton Place.                                                                                                                                                            </td><td>Pipe renewal                                                               </td><td>Restricted access to property , Restricted on-street parking , Restricted pedestrian access , Road closure                                                            </td><td>12 Sep 2022</td><td>21 Oct 2022</td></tr>\n",
       "\t<tr><td>Akaroa            </td><td>Ōnuku landfill is located at 293 Beach Road, Akaroa. Site access for the works will be gained from Ōnuku Road in Akaroa.                                                                                            </td><td>Facility/infrastructure construction , Facility/infrastructure maintenance </td><td>Restricted on-street parking                                                                                                                                          </td><td>4 Oct 2022 </td><td>10 Feb 2023</td></tr>\n",
       "\t<tr><td>Bexley            </td><td>The entire area bound by the Ōtākaro Avon River, Pages Road and Anzac Drive.                                                                                                                                        </td><td>Facility/infrastructure construction                                       </td><td>Traffic management                                                                                                                                                    </td><td>24 Jan 2022</td><td>30 Jun 2023</td></tr>\n",
       "\t<tr><td>Cashmere          </td><td>Palatine Terrace to Domett Street (refer to map below)                                                                                                                                                              </td><td>Pipe renewal                                                               </td><td>Reduced speed limits , Restricted pedestrian access , Road closure , Traffic management                                                                               </td><td>1 May 2022 </td><td>1 Apr 2023 </td></tr>\n",
       "\t<tr><td>Cashmere          </td><td>On the city side of Dyers Pass Road, uphill from the Sign of the Takahe Café (see map).                                                                                                                             </td><td>Road improvement                                                           </td><td>Road closure                                                                                                                                                          </td><td>10 Jul 2022</td><td>31 Dec 2022</td></tr>\n",
       "\t<tr><td>Cashmere          </td><td>From Bunz Stream to 564 Cashmere Road, Cashmere.                                                                                                                                                                    </td><td>Facility/infrastructure construction                                       </td><td>                                                                                                                                                                      </td><td>11 Jul 2022</td><td>30 Nov 2022</td></tr>\n",
       "\t<tr><td>Cashmere          </td><td>The dam will be constructed in Cashmere Valley between the roundabout on McVicar Drive and Shalamar Drive. Construction traffic will primarily utilise the old Christchurch Adventure Park access off Worsleys Road.</td><td>Facility/infrastructure construction                                       </td><td>Reduced speed limits , Restricted pedestrian access , Traffic management                                                                                              </td><td>3 Oct 2022 </td><td>29 Sep 2023</td></tr>\n",
       "\t<tr><td>Cashmere          </td><td>Cashmere Road/Barrington Street/Purau Terrace intersection, Cashmere, Christchurch.                                                                                                                                 </td><td>Road improvement , Road maintenance                                        </td><td>Restricted on-street parking , Restricted pedestrian access , Traffic management                                                                                      </td><td>3 Oct 2022 </td><td>28 Oct 2022</td></tr>\n",
       "\t<tr><td>Duvauchelle       </td><td>Between properties 6075 - 6073 State Highway 75, Duvauchelle.                                                                                                                                                       </td><td>Pipe renewal                                                               </td><td>Restricted access to property , Restricted on-street parking , Restricted pedestrian access , Traffic management                                                      </td><td>3 Oct 2022 </td><td>24 Feb 2023</td></tr>\n",
       "\t<tr><td>Duvauchelle       </td><td>Between properties 1 - 17 Pawsons Valley Road, Duvauchelle.                                                                                                                                                         </td><td>Pipe renewal                                                               </td><td>Restricted access to property , Restricted on-street parking , Restricted pedestrian access , Traffic management                                                      </td><td>3 Oct 2022 </td><td>24 Feb 2023</td></tr>\n",
       "\t<tr><td>Duvauchelle       </td><td>Between properties 10 - 26 Onawe Flat Road, Duvauchelle.                                                                                                                                                            </td><td>Pipe renewal                                                               </td><td>Restricted access to property , Restricted on-street parking , Restricted pedestrian access , Traffic management                                                      </td><td>3 Oct 2022 </td><td>24 Feb 2023</td></tr>\n",
       "\t<tr><td>Duvauchelle       </td><td>Near property 6033 State Highway 75, Duvauchelle.                                                                                                                                                                   </td><td>Pipe renewal                                                               </td><td>Restricted access to property , Restricted on-street parking , Restricted pedestrian access , Traffic management                                                      </td><td>3 Oct 2022 </td><td>24 Feb 2023</td></tr>\n",
       "\t<tr><td>Fendalton         </td><td>Blighs Pump Station (PS1007), located at 1 Blighs Rd.                                                                                                                                                               </td><td>Pipe renewal                                                               </td><td>Restricted on-street parking , Traffic management                                                                                                                     </td><td>22 Oct 2021</td><td>22 Oct 2022</td></tr>\n",
       "\t<tr><td>Fendalton         </td><td>Jeffreys Reserve (refer to map below)                                                                                                                                                                               </td><td>Facility/infrastructure maintenance                                        </td><td>Traffic management                                                                                                                                                    </td><td>2 May 2022 </td><td>1 May 2023 </td></tr>\n",
       "\t<tr><td>Harewood          </td><td>Roto Kohatu Reserve, Harewood.                                                                                                                                                                                      </td><td>Road maintenance                                                           </td><td>Restricted access to property , Road closure                                                                                                                          </td><td>3 Oct 2022 </td><td>29 Oct 2022</td></tr>\n",
       "\t<tr><td><span style=white-space:pre-wrap>Heathcote Valley  </span></td><td><span style=white-space:pre-wrap>Station Road, Marsden Street &amp; Bridle Path Road, Christchurch.                                                                                                                                                      </span></td><td><span style=white-space:pre-wrap>Pipe renewal                                                               </span></td><td><span style=white-space:pre-wrap>Restricted access to property , Restricted on-street parking , Restricted pedestrian access , Water shut-off                                                          </span></td><td>12 Sep 2022</td><td>31 Mar 2023</td></tr>\n",
       "\t<tr><td>Hoon Hay          </td><td>Maryhill Avenue, outside Hoon Hay School gates, Christchurch.                                                                                                                                                       </td><td>Road improvement , Road maintenance                                        </td><td>Restricted on-street parking , Restricted pedestrian access , Traffic management                                                                                      </td><td>27 Sep 2022</td><td>28 Oct 2022</td></tr>\n",
       "\t<tr><td><span style=white-space:pre-wrap>Hoon Hay          </span></td><td><span style=white-space:pre-wrap>Rowley Avenue, outside of residential properties 48 &amp; 57, Hoon Hay, Christchurch.                                                                                                                                   </span></td><td><span style=white-space:pre-wrap>Road improvement , Road maintenance                                        </span></td><td><span style=white-space:pre-wrap>                                                                                                                                                                      </span></td><td>3 Oct 2022 </td><td>21 Oct 2022</td></tr>\n",
       "\t<tr><td>Hornby            </td><td>The eastern end of Kyle Park, corner of Waterloo Road and Smarts Road.                                                                                                                                              </td><td>Facility/infrastructure construction                                       </td><td>Reduced speed limits , Traffic management                                                                                                                             </td><td>22 Nov 2021</td><td>19 Mar 2023</td></tr>\n",
       "\t<tr><td>Linwood           </td><td>Carnarvon Street, Linwood, Christchurch.                                                                                                                                                                            </td><td>Pipe renewal                                                               </td><td>Restricted access to property , Restricted on-street parking , Restricted pedestrian access                                                                           </td><td>5 Oct 2022 </td><td>30 Nov 2022</td></tr>\n",
       "\t<tr><td>Little River      </td><td>4213 Christchurch - Akaroa Road and across SH75, Little River.                                                                                                                                                      </td><td>Pipe renewal                                                               </td><td>Traffic management                                                                                                                                                    </td><td>1 Jul 2022 </td><td>31 Dec 2022</td></tr>\n",
       "\t<tr><td>Lyttelton         </td><td>Te Nukutai o Tapoa-Naval Point, Lyttelton.                                                                                                                                                                          </td><td>Facility/infrastructure construction , Road improvement                    </td><td>                                                                                                                                                                      </td><td>15 Jul 2022</td><td>31 Oct 2022</td></tr>\n",
       "\t<tr><td>Lyttelton         </td><td>Gladstone Quay from intersection of Norwich Quay and Oxford Street to Cashin Quay, Lyttelton.                                                                                                                       </td><td>Pipe renewal                                                               </td><td>Restricted on-street parking , Traffic management                                                                                                                     </td><td>8 Aug 2022 </td><td>23 Dec 2022</td></tr>\n",
       "\t<tr><td>Lyttelton         </td><td>3 Winchester Street and Norman Kirk Memorial Pool on Oxford Street, Lyttelton, Christchurch.                                                                                                                        </td><td>Facility/infrastructure construction                                       </td><td>Reduced speed limits , Restricted access to property , Restricted pedestrian access , Traffic management                                                              </td><td>9 Sep 2022 </td><td>11 Nov 2022</td></tr>\n",
       "\t<tr><td>Mt Pleasant       </td><td>From 212 Main Road to Shag Rock, Mount Pleasant.                                                                                                                                                                    </td><td>Facility/infrastructure maintenance                                        </td><td>Traffic management                                                                                                                                                    </td><td>29 Nov 2021</td><td>17 Jul 2023</td></tr>\n",
       "\t<tr><td>North New Brighton</td><td>Ascot Avenue and Bower Avenue, North New Brighton.                                                                                                                                                                  </td><td>Pipe renewal                                                               </td><td>Road closure , Traffic management                                                                                                                                     </td><td>23 Jun 2022</td><td>31 Oct 2022</td></tr>\n",
       "\t<tr><td>Papanui           </td><td>St James Avenue, Papanui, Christchurch.                                                                                                                                                                             </td><td>Pipe renewal                                                               </td><td>Restricted access to property , Restricted on-street parking , Restricted pedestrian access                                                                           </td><td>15 Sep 2022</td><td>28 Oct 2022</td></tr>\n",
       "\t<tr><td>Papanui           </td><td>Dalriada Street, Papanui, Christchurch.                                                                                                                                                                             </td><td>Pipe renewal                                                               </td><td>Restricted access to property , Restricted on-street parking , Restricted pedestrian access                                                                           </td><td>15 Sep 2022</td><td>28 Oct 2022</td></tr>\n",
       "\t<tr><td>Riccarton         </td><td>Nelson Street from Picton Avenue to property number 180 (near Clarence St), Riccarton, Christchurch.                                                                                                                </td><td>Pipe renewal                                                               </td><td>Reduced speed limits , Restricted access to property , Restricted on-street parking , Restricted pedestrian access                                                    </td><td>4 Oct 2022 </td><td>30 Dec 2022</td></tr>\n",
       "\t<tr><td>Riccarton         </td><td>North Hagley Park, Christchurch.                                                                                                                                                                                    </td><td>Road improvement , Road maintenance                                        </td><td>Reduced speed limits , Restricted on-street parking , Restricted pedestrian access                                                                                    </td><td>3 Oct 2022 </td><td>17 Dec 2022</td></tr>\n",
       "\t<tr><td>Richmond          </td><td>Chrystal Street (from North Avon Road to Randall Street), Richmond.                                                                                                                                                 </td><td>Road improvement                                                           </td><td>Traffic management                                                                                                                                                    </td><td>19 Apr 2022</td><td>31 Oct 2022</td></tr>\n",
       "\t<tr><td>Richmond          </td><td>Petrie Street from North Avon Road to Randall Street, Richmond.                                                                                                                                                     </td><td>Pipe renewal                                                               </td><td>Restricted access to property , Restricted on-street parking , Road closure                                                                                           </td><td>13 May 2022</td><td>21 Oct 2022</td></tr>\n",
       "\t<tr><td>Somerfield        </td><td>85 Lyttelton Street, Somerfield.                                                                                                                                                                                    </td><td>Pipe renewal                                                               </td><td>Traffic management                                                                                                                                                    </td><td>2 May 2022 </td><td>31 Jan 2023</td></tr>\n",
       "\t<tr><td>Spencerville      </td><td>Spencerville Reserve.                                                                                                                                                                                               </td><td>Facility/infrastructure construction , Facility/infrastructure maintenance </td><td>Restricted access to property , Restricted pedestrian access , Traffic management                                                                                     </td><td>10 Oct 2022</td><td>31 Oct 2022</td></tr>\n",
       "\t<tr><td>St Albans         </td><td>Mays Pump Station, 107 Mays Road, St Albans.                                                                                                                                                                        </td><td>Facility/infrastructure maintenance                                        </td><td>                                                                                                                                                                      </td><td>8 Jul 2022 </td><td>1 Dec 2022 </td></tr>\n",
       "\t<tr><td>St Martins        </td><td>From 1 to 5 Willock Place, Saint Martins, Christchurch.                                                                                                                                                             </td><td>Pipe renewal                                                               </td><td>Reduced speed limits , Restricted access to property , Restricted on-street parking , Traffic management                                                              </td><td>3 Oct 2022 </td><td>28 Oct 2022</td></tr>\n",
       "\t<tr><td>St Martins        </td><td>Riverlaw Terrace, St Martins, Christchurch.                                                                                                                                                                         </td><td>Pipe renewal                                                               </td><td>Restricted access to property , Restricted on-street parking , Restricted pedestrian access                                                                           </td><td>3 Oct 2022 </td><td>11 Nov 2022</td></tr>\n",
       "\t<tr><td>Sydenham          </td><td>Sydenham Pump Station, Christchurch.                                                                                                                                                                                </td><td>Pipe renewal                                                               </td><td>Restricted pedestrian access                                                                                                                                          </td><td>1 Sep 2022 </td><td>31 Jan 2024</td></tr>\n",
       "\t<tr><td>Wainoni           </td><td>Odie Place, Wainoni.                                                                                                                                                                                                </td><td>Pipe renewal                                                               </td><td>Restricted access to property                                                                                                                                         </td><td>13 Oct 2022</td><td>11 Nov 2022</td></tr>\n",
       "\t<tr><td>Waltham           </td><td>Fifield Terrace between Ensors Road and 79 Acorn Close (Please see detailed map below).                                                                                                                             </td><td>Pipe renewal                                                               </td><td>Lane closure , Reduced speed limits , Restricted access to property , Restricted on-street parking , Restricted pedestrian access , Road closure , Traffic management </td><td>1 Sep 2022 </td><td>28 Feb 2023</td></tr>\n",
       "</tbody>\n",
       "</table>\n"
      ],
      "text/latex": [
       "A tibble: 43 × 6\n",
       "\\begin{tabular}{llllll}\n",
       " Suburb & Location & Type & Impact & Start\\_date & Expected\\_end\\_date\\\\\n",
       " <chr> & <chr> & <chr> & <chr> & <chr> & <chr>\\\\\n",
       "\\hline\n",
       "\t Addington          & Lincoln Road between Moorhouse Avenue and Whiteleigh Avenue, Addington.                                                                                                                                              & Road improvement                                                            &                                                                                                                                                                        & 3 May 2022  & 30 Nov 2022\\\\\n",
       "\t Addington          & The intersection of Lincoln Road, Whiteleigh Avenue and Barrington Street, Addington, Christchurch.                                                                                                                  & Road improvement , Road maintenance                                         &                                                                                                                                                                        & 30 Sep 2022 & 10 Oct 2022\\\\\n",
       "\t Akaroa             & Akaroa Lighthouse at 135 Beach Road, Akaroa.                                                                                                                                                                         & Facility/infrastructure maintenance                                         & Restricted on-street parking                                                                                                                                           & 12 Aug 2022 & 31 Dec 2022\\\\\n",
       "\t Akaroa             & From Aylmers Valley Road intersection to 7 Newton Place.                                                                                                                                                             & Pipe renewal                                                                & Restricted access to property , Restricted on-street parking , Restricted pedestrian access , Road closure                                                             & 12 Sep 2022 & 21 Oct 2022\\\\\n",
       "\t Akaroa             & Ōnuku landfill is located at 293 Beach Road, Akaroa. Site access for the works will be gained from Ōnuku Road in Akaroa.                                                                                             & Facility/infrastructure construction , Facility/infrastructure maintenance  & Restricted on-street parking                                                                                                                                           & 4 Oct 2022  & 10 Feb 2023\\\\\n",
       "\t Bexley             & The entire area bound by the Ōtākaro Avon River, Pages Road and Anzac Drive.                                                                                                                                         & Facility/infrastructure construction                                        & Traffic management                                                                                                                                                     & 24 Jan 2022 & 30 Jun 2023\\\\\n",
       "\t Cashmere           & Palatine Terrace to Domett Street (refer to map below)                                                                                                                                                               & Pipe renewal                                                                & Reduced speed limits , Restricted pedestrian access , Road closure , Traffic management                                                                                & 1 May 2022  & 1 Apr 2023 \\\\\n",
       "\t Cashmere           & On the city side of Dyers Pass Road, uphill from the Sign of the Takahe Café (see map).                                                                                                                              & Road improvement                                                            & Road closure                                                                                                                                                           & 10 Jul 2022 & 31 Dec 2022\\\\\n",
       "\t Cashmere           & From Bunz Stream to 564 Cashmere Road, Cashmere.                                                                                                                                                                     & Facility/infrastructure construction                                        &                                                                                                                                                                        & 11 Jul 2022 & 30 Nov 2022\\\\\n",
       "\t Cashmere           & The dam will be constructed in Cashmere Valley between the roundabout on McVicar Drive and Shalamar Drive. Construction traffic will primarily utilise the old Christchurch Adventure Park access off Worsleys Road. & Facility/infrastructure construction                                        & Reduced speed limits , Restricted pedestrian access , Traffic management                                                                                               & 3 Oct 2022  & 29 Sep 2023\\\\\n",
       "\t Cashmere           & Cashmere Road/Barrington Street/Purau Terrace intersection, Cashmere, Christchurch.                                                                                                                                  & Road improvement , Road maintenance                                         & Restricted on-street parking , Restricted pedestrian access , Traffic management                                                                                       & 3 Oct 2022  & 28 Oct 2022\\\\\n",
       "\t Duvauchelle        & Between properties 6075 - 6073 State Highway 75, Duvauchelle.                                                                                                                                                        & Pipe renewal                                                                & Restricted access to property , Restricted on-street parking , Restricted pedestrian access , Traffic management                                                       & 3 Oct 2022  & 24 Feb 2023\\\\\n",
       "\t Duvauchelle        & Between properties 1 - 17 Pawsons Valley Road, Duvauchelle.                                                                                                                                                          & Pipe renewal                                                                & Restricted access to property , Restricted on-street parking , Restricted pedestrian access , Traffic management                                                       & 3 Oct 2022  & 24 Feb 2023\\\\\n",
       "\t Duvauchelle        & Between properties 10 - 26 Onawe Flat Road, Duvauchelle.                                                                                                                                                             & Pipe renewal                                                                & Restricted access to property , Restricted on-street parking , Restricted pedestrian access , Traffic management                                                       & 3 Oct 2022  & 24 Feb 2023\\\\\n",
       "\t Duvauchelle        & Near property 6033 State Highway 75, Duvauchelle.                                                                                                                                                                    & Pipe renewal                                                                & Restricted access to property , Restricted on-street parking , Restricted pedestrian access , Traffic management                                                       & 3 Oct 2022  & 24 Feb 2023\\\\\n",
       "\t Fendalton          & Blighs Pump Station (PS1007), located at 1 Blighs Rd.                                                                                                                                                                & Pipe renewal                                                                & Restricted on-street parking , Traffic management                                                                                                                      & 22 Oct 2021 & 22 Oct 2022\\\\\n",
       "\t Fendalton          & Jeffreys Reserve (refer to map below)                                                                                                                                                                                & Facility/infrastructure maintenance                                         & Traffic management                                                                                                                                                     & 2 May 2022  & 1 May 2023 \\\\\n",
       "\t Harewood           & Roto Kohatu Reserve, Harewood.                                                                                                                                                                                       & Road maintenance                                                            & Restricted access to property , Road closure                                                                                                                           & 3 Oct 2022  & 29 Oct 2022\\\\\n",
       "\t Heathcote Valley   & Station Road, Marsden Street \\& Bridle Path Road, Christchurch.                                                                                                                                                       & Pipe renewal                                                                & Restricted access to property , Restricted on-street parking , Restricted pedestrian access , Water shut-off                                                           & 12 Sep 2022 & 31 Mar 2023\\\\\n",
       "\t Hoon Hay           & Maryhill Avenue, outside Hoon Hay School gates, Christchurch.                                                                                                                                                        & Road improvement , Road maintenance                                         & Restricted on-street parking , Restricted pedestrian access , Traffic management                                                                                       & 27 Sep 2022 & 28 Oct 2022\\\\\n",
       "\t Hoon Hay           & Rowley Avenue, outside of residential properties 48 \\& 57, Hoon Hay, Christchurch.                                                                                                                                    & Road improvement , Road maintenance                                         &                                                                                                                                                                        & 3 Oct 2022  & 21 Oct 2022\\\\\n",
       "\t Hornby             & The eastern end of Kyle Park, corner of Waterloo Road and Smarts Road.                                                                                                                                               & Facility/infrastructure construction                                        & Reduced speed limits , Traffic management                                                                                                                              & 22 Nov 2021 & 19 Mar 2023\\\\\n",
       "\t Linwood            & Carnarvon Street, Linwood, Christchurch.                                                                                                                                                                             & Pipe renewal                                                                & Restricted access to property , Restricted on-street parking , Restricted pedestrian access                                                                            & 5 Oct 2022  & 30 Nov 2022\\\\\n",
       "\t Little River       & 4213 Christchurch - Akaroa Road and across SH75, Little River.                                                                                                                                                       & Pipe renewal                                                                & Traffic management                                                                                                                                                     & 1 Jul 2022  & 31 Dec 2022\\\\\n",
       "\t Lyttelton          & Te Nukutai o Tapoa-Naval Point, Lyttelton.                                                                                                                                                                           & Facility/infrastructure construction , Road improvement                     &                                                                                                                                                                        & 15 Jul 2022 & 31 Oct 2022\\\\\n",
       "\t Lyttelton          & Gladstone Quay from intersection of Norwich Quay and Oxford Street to Cashin Quay, Lyttelton.                                                                                                                        & Pipe renewal                                                                & Restricted on-street parking , Traffic management                                                                                                                      & 8 Aug 2022  & 23 Dec 2022\\\\\n",
       "\t Lyttelton          & 3 Winchester Street and Norman Kirk Memorial Pool on Oxford Street, Lyttelton, Christchurch.                                                                                                                         & Facility/infrastructure construction                                        & Reduced speed limits , Restricted access to property , Restricted pedestrian access , Traffic management                                                               & 9 Sep 2022  & 11 Nov 2022\\\\\n",
       "\t Mt Pleasant        & From 212 Main Road to Shag Rock, Mount Pleasant.                                                                                                                                                                     & Facility/infrastructure maintenance                                         & Traffic management                                                                                                                                                     & 29 Nov 2021 & 17 Jul 2023\\\\\n",
       "\t North New Brighton & Ascot Avenue and Bower Avenue, North New Brighton.                                                                                                                                                                   & Pipe renewal                                                                & Road closure , Traffic management                                                                                                                                      & 23 Jun 2022 & 31 Oct 2022\\\\\n",
       "\t Papanui            & St James Avenue, Papanui, Christchurch.                                                                                                                                                                              & Pipe renewal                                                                & Restricted access to property , Restricted on-street parking , Restricted pedestrian access                                                                            & 15 Sep 2022 & 28 Oct 2022\\\\\n",
       "\t Papanui            & Dalriada Street, Papanui, Christchurch.                                                                                                                                                                              & Pipe renewal                                                                & Restricted access to property , Restricted on-street parking , Restricted pedestrian access                                                                            & 15 Sep 2022 & 28 Oct 2022\\\\\n",
       "\t Riccarton          & Nelson Street from Picton Avenue to property number 180 (near Clarence St), Riccarton, Christchurch.                                                                                                                 & Pipe renewal                                                                & Reduced speed limits , Restricted access to property , Restricted on-street parking , Restricted pedestrian access                                                     & 4 Oct 2022  & 30 Dec 2022\\\\\n",
       "\t Riccarton          & North Hagley Park, Christchurch.                                                                                                                                                                                     & Road improvement , Road maintenance                                         & Reduced speed limits , Restricted on-street parking , Restricted pedestrian access                                                                                     & 3 Oct 2022  & 17 Dec 2022\\\\\n",
       "\t Richmond           & Chrystal Street (from North Avon Road to Randall Street), Richmond.                                                                                                                                                  & Road improvement                                                            & Traffic management                                                                                                                                                     & 19 Apr 2022 & 31 Oct 2022\\\\\n",
       "\t Richmond           & Petrie Street from North Avon Road to Randall Street, Richmond.                                                                                                                                                      & Pipe renewal                                                                & Restricted access to property , Restricted on-street parking , Road closure                                                                                            & 13 May 2022 & 21 Oct 2022\\\\\n",
       "\t Somerfield         & 85 Lyttelton Street, Somerfield.                                                                                                                                                                                     & Pipe renewal                                                                & Traffic management                                                                                                                                                     & 2 May 2022  & 31 Jan 2023\\\\\n",
       "\t Spencerville       & Spencerville Reserve.                                                                                                                                                                                                & Facility/infrastructure construction , Facility/infrastructure maintenance  & Restricted access to property , Restricted pedestrian access , Traffic management                                                                                      & 10 Oct 2022 & 31 Oct 2022\\\\\n",
       "\t St Albans          & Mays Pump Station, 107 Mays Road, St Albans.                                                                                                                                                                         & Facility/infrastructure maintenance                                         &                                                                                                                                                                        & 8 Jul 2022  & 1 Dec 2022 \\\\\n",
       "\t St Martins         & From 1 to 5 Willock Place, Saint Martins, Christchurch.                                                                                                                                                              & Pipe renewal                                                                & Reduced speed limits , Restricted access to property , Restricted on-street parking , Traffic management                                                               & 3 Oct 2022  & 28 Oct 2022\\\\\n",
       "\t St Martins         & Riverlaw Terrace, St Martins, Christchurch.                                                                                                                                                                          & Pipe renewal                                                                & Restricted access to property , Restricted on-street parking , Restricted pedestrian access                                                                            & 3 Oct 2022  & 11 Nov 2022\\\\\n",
       "\t Sydenham           & Sydenham Pump Station, Christchurch.                                                                                                                                                                                 & Pipe renewal                                                                & Restricted pedestrian access                                                                                                                                           & 1 Sep 2022  & 31 Jan 2024\\\\\n",
       "\t Wainoni            & Odie Place, Wainoni.                                                                                                                                                                                                 & Pipe renewal                                                                & Restricted access to property                                                                                                                                          & 13 Oct 2022 & 11 Nov 2022\\\\\n",
       "\t Waltham            & Fifield Terrace between Ensors Road and 79 Acorn Close (Please see detailed map below).                                                                                                                              & Pipe renewal                                                                & Lane closure , Reduced speed limits , Restricted access to property , Restricted on-street parking , Restricted pedestrian access , Road closure , Traffic management  & 1 Sep 2022  & 28 Feb 2023\\\\\n",
       "\\end{tabular}\n"
      ],
      "text/markdown": [
       "\n",
       "A tibble: 43 × 6\n",
       "\n",
       "| Suburb &lt;chr&gt; | Location &lt;chr&gt; | Type &lt;chr&gt; | Impact &lt;chr&gt; | Start_date &lt;chr&gt; | Expected_end_date &lt;chr&gt; |\n",
       "|---|---|---|---|---|---|\n",
       "| Addington          | Lincoln Road between Moorhouse Avenue and Whiteleigh Avenue, Addington.                                                                                                                                              | Road improvement                                                            | <!----> | 3 May 2022  | 30 Nov 2022 |\n",
       "| Addington          | The intersection of Lincoln Road, Whiteleigh Avenue and Barrington Street, Addington, Christchurch.                                                                                                                  | Road improvement , Road maintenance                                         | <!----> | 30 Sep 2022 | 10 Oct 2022 |\n",
       "| Akaroa             | Akaroa Lighthouse at 135 Beach Road, Akaroa.                                                                                                                                                                         | Facility/infrastructure maintenance                                         | Restricted on-street parking                                                                                                                                           | 12 Aug 2022 | 31 Dec 2022 |\n",
       "| Akaroa             | From Aylmers Valley Road intersection to 7 Newton Place.                                                                                                                                                             | Pipe renewal                                                                | Restricted access to property , Restricted on-street parking , Restricted pedestrian access , Road closure                                                             | 12 Sep 2022 | 21 Oct 2022 |\n",
       "| Akaroa             | Ōnuku landfill is located at 293 Beach Road, Akaroa. Site access for the works will be gained from Ōnuku Road in Akaroa.                                                                                             | Facility/infrastructure construction , Facility/infrastructure maintenance  | Restricted on-street parking                                                                                                                                           | 4 Oct 2022  | 10 Feb 2023 |\n",
       "| Bexley             | The entire area bound by the Ōtākaro Avon River, Pages Road and Anzac Drive.                                                                                                                                         | Facility/infrastructure construction                                        | Traffic management                                                                                                                                                     | 24 Jan 2022 | 30 Jun 2023 |\n",
       "| Cashmere           | Palatine Terrace to Domett Street (refer to map below)                                                                                                                                                               | Pipe renewal                                                                | Reduced speed limits , Restricted pedestrian access , Road closure , Traffic management                                                                                | 1 May 2022  | 1 Apr 2023  |\n",
       "| Cashmere           | On the city side of Dyers Pass Road, uphill from the Sign of the Takahe Café (see map).                                                                                                                              | Road improvement                                                            | Road closure                                                                                                                                                           | 10 Jul 2022 | 31 Dec 2022 |\n",
       "| Cashmere           | From Bunz Stream to 564 Cashmere Road, Cashmere.                                                                                                                                                                     | Facility/infrastructure construction                                        | <!----> | 11 Jul 2022 | 30 Nov 2022 |\n",
       "| Cashmere           | The dam will be constructed in Cashmere Valley between the roundabout on McVicar Drive and Shalamar Drive. Construction traffic will primarily utilise the old Christchurch Adventure Park access off Worsleys Road. | Facility/infrastructure construction                                        | Reduced speed limits , Restricted pedestrian access , Traffic management                                                                                               | 3 Oct 2022  | 29 Sep 2023 |\n",
       "| Cashmere           | Cashmere Road/Barrington Street/Purau Terrace intersection, Cashmere, Christchurch.                                                                                                                                  | Road improvement , Road maintenance                                         | Restricted on-street parking , Restricted pedestrian access , Traffic management                                                                                       | 3 Oct 2022  | 28 Oct 2022 |\n",
       "| Duvauchelle        | Between properties 6075 - 6073 State Highway 75, Duvauchelle.                                                                                                                                                        | Pipe renewal                                                                | Restricted access to property , Restricted on-street parking , Restricted pedestrian access , Traffic management                                                       | 3 Oct 2022  | 24 Feb 2023 |\n",
       "| Duvauchelle        | Between properties 1 - 17 Pawsons Valley Road, Duvauchelle.                                                                                                                                                          | Pipe renewal                                                                | Restricted access to property , Restricted on-street parking , Restricted pedestrian access , Traffic management                                                       | 3 Oct 2022  | 24 Feb 2023 |\n",
       "| Duvauchelle        | Between properties 10 - 26 Onawe Flat Road, Duvauchelle.                                                                                                                                                             | Pipe renewal                                                                | Restricted access to property , Restricted on-street parking , Restricted pedestrian access , Traffic management                                                       | 3 Oct 2022  | 24 Feb 2023 |\n",
       "| Duvauchelle        | Near property 6033 State Highway 75, Duvauchelle.                                                                                                                                                                    | Pipe renewal                                                                | Restricted access to property , Restricted on-street parking , Restricted pedestrian access , Traffic management                                                       | 3 Oct 2022  | 24 Feb 2023 |\n",
       "| Fendalton          | Blighs Pump Station (PS1007), located at 1 Blighs Rd.                                                                                                                                                                | Pipe renewal                                                                | Restricted on-street parking , Traffic management                                                                                                                      | 22 Oct 2021 | 22 Oct 2022 |\n",
       "| Fendalton          | Jeffreys Reserve (refer to map below)                                                                                                                                                                                | Facility/infrastructure maintenance                                         | Traffic management                                                                                                                                                     | 2 May 2022  | 1 May 2023  |\n",
       "| Harewood           | Roto Kohatu Reserve, Harewood.                                                                                                                                                                                       | Road maintenance                                                            | Restricted access to property , Road closure                                                                                                                           | 3 Oct 2022  | 29 Oct 2022 |\n",
       "| Heathcote Valley   | Station Road, Marsden Street &amp; Bridle Path Road, Christchurch.                                                                                                                                                       | Pipe renewal                                                                | Restricted access to property , Restricted on-street parking , Restricted pedestrian access , Water shut-off                                                           | 12 Sep 2022 | 31 Mar 2023 |\n",
       "| Hoon Hay           | Maryhill Avenue, outside Hoon Hay School gates, Christchurch.                                                                                                                                                        | Road improvement , Road maintenance                                         | Restricted on-street parking , Restricted pedestrian access , Traffic management                                                                                       | 27 Sep 2022 | 28 Oct 2022 |\n",
       "| Hoon Hay           | Rowley Avenue, outside of residential properties 48 &amp; 57, Hoon Hay, Christchurch.                                                                                                                                    | Road improvement , Road maintenance                                         | <!----> | 3 Oct 2022  | 21 Oct 2022 |\n",
       "| Hornby             | The eastern end of Kyle Park, corner of Waterloo Road and Smarts Road.                                                                                                                                               | Facility/infrastructure construction                                        | Reduced speed limits , Traffic management                                                                                                                              | 22 Nov 2021 | 19 Mar 2023 |\n",
       "| Linwood            | Carnarvon Street, Linwood, Christchurch.                                                                                                                                                                             | Pipe renewal                                                                | Restricted access to property , Restricted on-street parking , Restricted pedestrian access                                                                            | 5 Oct 2022  | 30 Nov 2022 |\n",
       "| Little River       | 4213 Christchurch - Akaroa Road and across SH75, Little River.                                                                                                                                                       | Pipe renewal                                                                | Traffic management                                                                                                                                                     | 1 Jul 2022  | 31 Dec 2022 |\n",
       "| Lyttelton          | Te Nukutai o Tapoa-Naval Point, Lyttelton.                                                                                                                                                                           | Facility/infrastructure construction , Road improvement                     | <!----> | 15 Jul 2022 | 31 Oct 2022 |\n",
       "| Lyttelton          | Gladstone Quay from intersection of Norwich Quay and Oxford Street to Cashin Quay, Lyttelton.                                                                                                                        | Pipe renewal                                                                | Restricted on-street parking , Traffic management                                                                                                                      | 8 Aug 2022  | 23 Dec 2022 |\n",
       "| Lyttelton          | 3 Winchester Street and Norman Kirk Memorial Pool on Oxford Street, Lyttelton, Christchurch.                                                                                                                         | Facility/infrastructure construction                                        | Reduced speed limits , Restricted access to property , Restricted pedestrian access , Traffic management                                                               | 9 Sep 2022  | 11 Nov 2022 |\n",
       "| Mt Pleasant        | From 212 Main Road to Shag Rock, Mount Pleasant.                                                                                                                                                                     | Facility/infrastructure maintenance                                         | Traffic management                                                                                                                                                     | 29 Nov 2021 | 17 Jul 2023 |\n",
       "| North New Brighton | Ascot Avenue and Bower Avenue, North New Brighton.                                                                                                                                                                   | Pipe renewal                                                                | Road closure , Traffic management                                                                                                                                      | 23 Jun 2022 | 31 Oct 2022 |\n",
       "| Papanui            | St James Avenue, Papanui, Christchurch.                                                                                                                                                                              | Pipe renewal                                                                | Restricted access to property , Restricted on-street parking , Restricted pedestrian access                                                                            | 15 Sep 2022 | 28 Oct 2022 |\n",
       "| Papanui            | Dalriada Street, Papanui, Christchurch.                                                                                                                                                                              | Pipe renewal                                                                | Restricted access to property , Restricted on-street parking , Restricted pedestrian access                                                                            | 15 Sep 2022 | 28 Oct 2022 |\n",
       "| Riccarton          | Nelson Street from Picton Avenue to property number 180 (near Clarence St), Riccarton, Christchurch.                                                                                                                 | Pipe renewal                                                                | Reduced speed limits , Restricted access to property , Restricted on-street parking , Restricted pedestrian access                                                     | 4 Oct 2022  | 30 Dec 2022 |\n",
       "| Riccarton          | North Hagley Park, Christchurch.                                                                                                                                                                                     | Road improvement , Road maintenance                                         | Reduced speed limits , Restricted on-street parking , Restricted pedestrian access                                                                                     | 3 Oct 2022  | 17 Dec 2022 |\n",
       "| Richmond           | Chrystal Street (from North Avon Road to Randall Street), Richmond.                                                                                                                                                  | Road improvement                                                            | Traffic management                                                                                                                                                     | 19 Apr 2022 | 31 Oct 2022 |\n",
       "| Richmond           | Petrie Street from North Avon Road to Randall Street, Richmond.                                                                                                                                                      | Pipe renewal                                                                | Restricted access to property , Restricted on-street parking , Road closure                                                                                            | 13 May 2022 | 21 Oct 2022 |\n",
       "| Somerfield         | 85 Lyttelton Street, Somerfield.                                                                                                                                                                                     | Pipe renewal                                                                | Traffic management                                                                                                                                                     | 2 May 2022  | 31 Jan 2023 |\n",
       "| Spencerville       | Spencerville Reserve.                                                                                                                                                                                                | Facility/infrastructure construction , Facility/infrastructure maintenance  | Restricted access to property , Restricted pedestrian access , Traffic management                                                                                      | 10 Oct 2022 | 31 Oct 2022 |\n",
       "| St Albans          | Mays Pump Station, 107 Mays Road, St Albans.                                                                                                                                                                         | Facility/infrastructure maintenance                                         | <!----> | 8 Jul 2022  | 1 Dec 2022  |\n",
       "| St Martins         | From 1 to 5 Willock Place, Saint Martins, Christchurch.                                                                                                                                                              | Pipe renewal                                                                | Reduced speed limits , Restricted access to property , Restricted on-street parking , Traffic management                                                               | 3 Oct 2022  | 28 Oct 2022 |\n",
       "| St Martins         | Riverlaw Terrace, St Martins, Christchurch.                                                                                                                                                                          | Pipe renewal                                                                | Restricted access to property , Restricted on-street parking , Restricted pedestrian access                                                                            | 3 Oct 2022  | 11 Nov 2022 |\n",
       "| Sydenham           | Sydenham Pump Station, Christchurch.                                                                                                                                                                                 | Pipe renewal                                                                | Restricted pedestrian access                                                                                                                                           | 1 Sep 2022  | 31 Jan 2024 |\n",
       "| Wainoni            | Odie Place, Wainoni.                                                                                                                                                                                                 | Pipe renewal                                                                | Restricted access to property                                                                                                                                          | 13 Oct 2022 | 11 Nov 2022 |\n",
       "| Waltham            | Fifield Terrace between Ensors Road and 79 Acorn Close (Please see detailed map below).                                                                                                                              | Pipe renewal                                                                | Lane closure , Reduced speed limits , Restricted access to property , Restricted on-street parking , Restricted pedestrian access , Road closure , Traffic management  | 1 Sep 2022  | 28 Feb 2023 |\n",
       "\n"
      ],
      "text/plain": [
       "   Suburb            \n",
       "1  Addington         \n",
       "2  Addington         \n",
       "3  Akaroa            \n",
       "4  Akaroa            \n",
       "5  Akaroa            \n",
       "6  Bexley            \n",
       "7  Cashmere          \n",
       "8  Cashmere          \n",
       "9  Cashmere          \n",
       "10 Cashmere          \n",
       "11 Cashmere          \n",
       "12 Duvauchelle       \n",
       "13 Duvauchelle       \n",
       "14 Duvauchelle       \n",
       "15 Duvauchelle       \n",
       "16 Fendalton         \n",
       "17 Fendalton         \n",
       "18 Harewood          \n",
       "19 Heathcote Valley  \n",
       "20 Hoon Hay          \n",
       "21 Hoon Hay          \n",
       "22 Hornby            \n",
       "23 Linwood           \n",
       "24 Little River      \n",
       "25 Lyttelton         \n",
       "26 Lyttelton         \n",
       "27 Lyttelton         \n",
       "28 Mt Pleasant       \n",
       "29 North New Brighton\n",
       "30 Papanui           \n",
       "31 Papanui           \n",
       "32 Riccarton         \n",
       "33 Riccarton         \n",
       "34 Richmond          \n",
       "35 Richmond          \n",
       "36 Somerfield        \n",
       "37 Spencerville      \n",
       "38 St Albans         \n",
       "39 St Martins        \n",
       "40 St Martins        \n",
       "41 Sydenham          \n",
       "42 Wainoni           \n",
       "43 Waltham           \n",
       "   Location                                                                                                                                                                                                            \n",
       "1  Lincoln Road between Moorhouse Avenue and Whiteleigh Avenue, Addington.                                                                                                                                             \n",
       "2  The intersection of Lincoln Road, Whiteleigh Avenue and Barrington Street, Addington, Christchurch.                                                                                                                 \n",
       "3  Akaroa Lighthouse at 135 Beach Road, Akaroa.                                                                                                                                                                        \n",
       "4  From Aylmers Valley Road intersection to 7 Newton Place.                                                                                                                                                            \n",
       "5  Ōnuku landfill is located at 293 Beach Road, Akaroa. Site access for the works will be gained from Ōnuku Road in Akaroa.                                                                                            \n",
       "6  The entire area bound by the Ōtākaro Avon River, Pages Road and Anzac Drive.                                                                                                                                        \n",
       "7  Palatine Terrace to Domett Street (refer to map below)                                                                                                                                                              \n",
       "8  On the city side of Dyers Pass Road, uphill from the Sign of the Takahe Café (see map).                                                                                                                             \n",
       "9  From Bunz Stream to 564 Cashmere Road, Cashmere.                                                                                                                                                                    \n",
       "10 The dam will be constructed in Cashmere Valley between the roundabout on McVicar Drive and Shalamar Drive. Construction traffic will primarily utilise the old Christchurch Adventure Park access off Worsleys Road.\n",
       "11 Cashmere Road/Barrington Street/Purau Terrace intersection, Cashmere, Christchurch.                                                                                                                                 \n",
       "12 Between properties 6075 - 6073 State Highway 75, Duvauchelle.                                                                                                                                                       \n",
       "13 Between properties 1 - 17 Pawsons Valley Road, Duvauchelle.                                                                                                                                                         \n",
       "14 Between properties 10 - 26 Onawe Flat Road, Duvauchelle.                                                                                                                                                            \n",
       "15 Near property 6033 State Highway 75, Duvauchelle.                                                                                                                                                                   \n",
       "16 Blighs Pump Station (PS1007), located at 1 Blighs Rd.                                                                                                                                                               \n",
       "17 Jeffreys Reserve (refer to map below)                                                                                                                                                                               \n",
       "18 Roto Kohatu Reserve, Harewood.                                                                                                                                                                                      \n",
       "19 Station Road, Marsden Street & Bridle Path Road, Christchurch.                                                                                                                                                      \n",
       "20 Maryhill Avenue, outside Hoon Hay School gates, Christchurch.                                                                                                                                                       \n",
       "21 Rowley Avenue, outside of residential properties 48 & 57, Hoon Hay, Christchurch.                                                                                                                                   \n",
       "22 The eastern end of Kyle Park, corner of Waterloo Road and Smarts Road.                                                                                                                                              \n",
       "23 Carnarvon Street, Linwood, Christchurch.                                                                                                                                                                            \n",
       "24 4213 Christchurch - Akaroa Road and across SH75, Little River.                                                                                                                                                      \n",
       "25 Te Nukutai o Tapoa-Naval Point, Lyttelton.                                                                                                                                                                          \n",
       "26 Gladstone Quay from intersection of Norwich Quay and Oxford Street to Cashin Quay, Lyttelton.                                                                                                                       \n",
       "27 3 Winchester Street and Norman Kirk Memorial Pool on Oxford Street, Lyttelton, Christchurch.                                                                                                                        \n",
       "28 From 212 Main Road to Shag Rock, Mount Pleasant.                                                                                                                                                                    \n",
       "29 Ascot Avenue and Bower Avenue, North New Brighton.                                                                                                                                                                  \n",
       "30 St James Avenue, Papanui, Christchurch.                                                                                                                                                                             \n",
       "31 Dalriada Street, Papanui, Christchurch.                                                                                                                                                                             \n",
       "32 Nelson Street from Picton Avenue to property number 180 (near Clarence St), Riccarton, Christchurch.                                                                                                                \n",
       "33 North Hagley Park, Christchurch.                                                                                                                                                                                    \n",
       "34 Chrystal Street (from North Avon Road to Randall Street), Richmond.                                                                                                                                                 \n",
       "35 Petrie Street from North Avon Road to Randall Street, Richmond.                                                                                                                                                     \n",
       "36 85 Lyttelton Street, Somerfield.                                                                                                                                                                                    \n",
       "37 Spencerville Reserve.                                                                                                                                                                                               \n",
       "38 Mays Pump Station, 107 Mays Road, St Albans.                                                                                                                                                                        \n",
       "39 From 1 to 5 Willock Place, Saint Martins, Christchurch.                                                                                                                                                             \n",
       "40 Riverlaw Terrace, St Martins, Christchurch.                                                                                                                                                                         \n",
       "41 Sydenham Pump Station, Christchurch.                                                                                                                                                                                \n",
       "42 Odie Place, Wainoni.                                                                                                                                                                                                \n",
       "43 Fifield Terrace between Ensors Road and 79 Acorn Close (Please see detailed map below).                                                                                                                             \n",
       "   Type                                                                       \n",
       "1  Road improvement                                                           \n",
       "2  Road improvement , Road maintenance                                        \n",
       "3  Facility/infrastructure maintenance                                        \n",
       "4  Pipe renewal                                                               \n",
       "5  Facility/infrastructure construction , Facility/infrastructure maintenance \n",
       "6  Facility/infrastructure construction                                       \n",
       "7  Pipe renewal                                                               \n",
       "8  Road improvement                                                           \n",
       "9  Facility/infrastructure construction                                       \n",
       "10 Facility/infrastructure construction                                       \n",
       "11 Road improvement , Road maintenance                                        \n",
       "12 Pipe renewal                                                               \n",
       "13 Pipe renewal                                                               \n",
       "14 Pipe renewal                                                               \n",
       "15 Pipe renewal                                                               \n",
       "16 Pipe renewal                                                               \n",
       "17 Facility/infrastructure maintenance                                        \n",
       "18 Road maintenance                                                           \n",
       "19 Pipe renewal                                                               \n",
       "20 Road improvement , Road maintenance                                        \n",
       "21 Road improvement , Road maintenance                                        \n",
       "22 Facility/infrastructure construction                                       \n",
       "23 Pipe renewal                                                               \n",
       "24 Pipe renewal                                                               \n",
       "25 Facility/infrastructure construction , Road improvement                    \n",
       "26 Pipe renewal                                                               \n",
       "27 Facility/infrastructure construction                                       \n",
       "28 Facility/infrastructure maintenance                                        \n",
       "29 Pipe renewal                                                               \n",
       "30 Pipe renewal                                                               \n",
       "31 Pipe renewal                                                               \n",
       "32 Pipe renewal                                                               \n",
       "33 Road improvement , Road maintenance                                        \n",
       "34 Road improvement                                                           \n",
       "35 Pipe renewal                                                               \n",
       "36 Pipe renewal                                                               \n",
       "37 Facility/infrastructure construction , Facility/infrastructure maintenance \n",
       "38 Facility/infrastructure maintenance                                        \n",
       "39 Pipe renewal                                                               \n",
       "40 Pipe renewal                                                               \n",
       "41 Pipe renewal                                                               \n",
       "42 Pipe renewal                                                               \n",
       "43 Pipe renewal                                                               \n",
       "   Impact                                                                                                                                                                \n",
       "1                                                                                                                                                                        \n",
       "2                                                                                                                                                                        \n",
       "3  Restricted on-street parking                                                                                                                                          \n",
       "4  Restricted access to property , Restricted on-street parking , Restricted pedestrian access , Road closure                                                            \n",
       "5  Restricted on-street parking                                                                                                                                          \n",
       "6  Traffic management                                                                                                                                                    \n",
       "7  Reduced speed limits , Restricted pedestrian access , Road closure , Traffic management                                                                               \n",
       "8  Road closure                                                                                                                                                          \n",
       "9                                                                                                                                                                        \n",
       "10 Reduced speed limits , Restricted pedestrian access , Traffic management                                                                                              \n",
       "11 Restricted on-street parking , Restricted pedestrian access , Traffic management                                                                                      \n",
       "12 Restricted access to property , Restricted on-street parking , Restricted pedestrian access , Traffic management                                                      \n",
       "13 Restricted access to property , Restricted on-street parking , Restricted pedestrian access , Traffic management                                                      \n",
       "14 Restricted access to property , Restricted on-street parking , Restricted pedestrian access , Traffic management                                                      \n",
       "15 Restricted access to property , Restricted on-street parking , Restricted pedestrian access , Traffic management                                                      \n",
       "16 Restricted on-street parking , Traffic management                                                                                                                     \n",
       "17 Traffic management                                                                                                                                                    \n",
       "18 Restricted access to property , Road closure                                                                                                                          \n",
       "19 Restricted access to property , Restricted on-street parking , Restricted pedestrian access , Water shut-off                                                          \n",
       "20 Restricted on-street parking , Restricted pedestrian access , Traffic management                                                                                      \n",
       "21                                                                                                                                                                       \n",
       "22 Reduced speed limits , Traffic management                                                                                                                             \n",
       "23 Restricted access to property , Restricted on-street parking , Restricted pedestrian access                                                                           \n",
       "24 Traffic management                                                                                                                                                    \n",
       "25                                                                                                                                                                       \n",
       "26 Restricted on-street parking , Traffic management                                                                                                                     \n",
       "27 Reduced speed limits , Restricted access to property , Restricted pedestrian access , Traffic management                                                              \n",
       "28 Traffic management                                                                                                                                                    \n",
       "29 Road closure , Traffic management                                                                                                                                     \n",
       "30 Restricted access to property , Restricted on-street parking , Restricted pedestrian access                                                                           \n",
       "31 Restricted access to property , Restricted on-street parking , Restricted pedestrian access                                                                           \n",
       "32 Reduced speed limits , Restricted access to property , Restricted on-street parking , Restricted pedestrian access                                                    \n",
       "33 Reduced speed limits , Restricted on-street parking , Restricted pedestrian access                                                                                    \n",
       "34 Traffic management                                                                                                                                                    \n",
       "35 Restricted access to property , Restricted on-street parking , Road closure                                                                                           \n",
       "36 Traffic management                                                                                                                                                    \n",
       "37 Restricted access to property , Restricted pedestrian access , Traffic management                                                                                     \n",
       "38                                                                                                                                                                       \n",
       "39 Reduced speed limits , Restricted access to property , Restricted on-street parking , Traffic management                                                              \n",
       "40 Restricted access to property , Restricted on-street parking , Restricted pedestrian access                                                                           \n",
       "41 Restricted pedestrian access                                                                                                                                          \n",
       "42 Restricted access to property                                                                                                                                         \n",
       "43 Lane closure , Reduced speed limits , Restricted access to property , Restricted on-street parking , Restricted pedestrian access , Road closure , Traffic management \n",
       "   Start_date  Expected_end_date\n",
       "1  3 May 2022  30 Nov 2022      \n",
       "2  30 Sep 2022 10 Oct 2022      \n",
       "3  12 Aug 2022 31 Dec 2022      \n",
       "4  12 Sep 2022 21 Oct 2022      \n",
       "5  4 Oct 2022  10 Feb 2023      \n",
       "6  24 Jan 2022 30 Jun 2023      \n",
       "7  1 May 2022  1 Apr 2023       \n",
       "8  10 Jul 2022 31 Dec 2022      \n",
       "9  11 Jul 2022 30 Nov 2022      \n",
       "10 3 Oct 2022  29 Sep 2023      \n",
       "11 3 Oct 2022  28 Oct 2022      \n",
       "12 3 Oct 2022  24 Feb 2023      \n",
       "13 3 Oct 2022  24 Feb 2023      \n",
       "14 3 Oct 2022  24 Feb 2023      \n",
       "15 3 Oct 2022  24 Feb 2023      \n",
       "16 22 Oct 2021 22 Oct 2022      \n",
       "17 2 May 2022  1 May 2023       \n",
       "18 3 Oct 2022  29 Oct 2022      \n",
       "19 12 Sep 2022 31 Mar 2023      \n",
       "20 27 Sep 2022 28 Oct 2022      \n",
       "21 3 Oct 2022  21 Oct 2022      \n",
       "22 22 Nov 2021 19 Mar 2023      \n",
       "23 5 Oct 2022  30 Nov 2022      \n",
       "24 1 Jul 2022  31 Dec 2022      \n",
       "25 15 Jul 2022 31 Oct 2022      \n",
       "26 8 Aug 2022  23 Dec 2022      \n",
       "27 9 Sep 2022  11 Nov 2022      \n",
       "28 29 Nov 2021 17 Jul 2023      \n",
       "29 23 Jun 2022 31 Oct 2022      \n",
       "30 15 Sep 2022 28 Oct 2022      \n",
       "31 15 Sep 2022 28 Oct 2022      \n",
       "32 4 Oct 2022  30 Dec 2022      \n",
       "33 3 Oct 2022  17 Dec 2022      \n",
       "34 19 Apr 2022 31 Oct 2022      \n",
       "35 13 May 2022 21 Oct 2022      \n",
       "36 2 May 2022  31 Jan 2023      \n",
       "37 10 Oct 2022 31 Oct 2022      \n",
       "38 8 Jul 2022  1 Dec 2022       \n",
       "39 3 Oct 2022  28 Oct 2022      \n",
       "40 3 Oct 2022  11 Nov 2022      \n",
       "41 1 Sep 2022  31 Jan 2024      \n",
       "42 13 Oct 2022 11 Nov 2022      \n",
       "43 1 Sep 2022  28 Feb 2023      "
      ]
     },
     "metadata": {},
     "output_type": "display_data"
    }
   ],
   "source": [
    "# In this section i am using tibble to display the data in a simple table \n",
    "Simple_table <- tibble(Suburb = suburb,\n",
    "                 Location = location, \n",
    "                Type = type,\n",
    "                Impact =impact,\n",
    "                Start_date = start_date,\n",
    "                Expected_end_date =Expected_end_date) \n",
    "Simple_table # Here i am displaying the whole table as i want to show that i ahve all of the data. "
   ]
  },
  {
   "cell_type": "code",
   "execution_count": 9,
   "metadata": {},
   "outputs": [],
   "source": [
    "# Here in this section i am using two for loops to go through the occurences of the the suburbs and counts how many, \n",
    "# differnt road works are currnently going on \n",
    "distinct_suburb <- list() # This is a list that will hold each suburb each occuring once \n",
    "counts <- list() # This list holds how many times each suburb appears in the data set \n",
    "# Note that these are seperate lists but will be combinned in a table latter on and will still line up correctly \n",
    "cur_count <- 0  # This is to hold the current count \n",
    "\n",
    "for (i in suburb) { # The first for loop going throght the suburbs \n",
    "    if (!(i %in% distinct_suburb)) { # Checking if i (a suburb) has already been checked \n",
    "        for (j in suburb) { # This goes through the suburbs again looking for occurences of i \n",
    "            if (j == i){\n",
    "                cur_count <- cur_count + 1  # Add one to the current total    \n",
    "            }\n",
    "        }\n",
    "        counts <- append(counts, cur_count) # Appends the count to the count list\n",
    "        distinct_suburb <- append(distinct_suburb, toString(i))  # Appends the suburb that is being counted\n",
    "        cur_count <- 0 # Re-sets the current count to 0 \n",
    "    }\n",
    "}"
   ]
  },
  {
   "cell_type": "code",
   "execution_count": 10,
   "metadata": {},
   "outputs": [
    {
     "data": {
      "text/html": [
       "<table class=\"dataframe\">\n",
       "<caption>A tibble: 25 × 2</caption>\n",
       "<thead>\n",
       "\t<tr><th scope=col>Suburb</th><th scope=col>Num_of_jobs</th></tr>\n",
       "\t<tr><th scope=col>&lt;chr&gt;</th><th scope=col>&lt;dbl&gt;</th></tr>\n",
       "</thead>\n",
       "<tbody>\n",
       "\t<tr><td>Addington         </td><td>2</td></tr>\n",
       "\t<tr><td>Akaroa            </td><td>3</td></tr>\n",
       "\t<tr><td>Bexley            </td><td>1</td></tr>\n",
       "\t<tr><td>Cashmere          </td><td>5</td></tr>\n",
       "\t<tr><td>Duvauchelle       </td><td>4</td></tr>\n",
       "\t<tr><td>Fendalton         </td><td>2</td></tr>\n",
       "\t<tr><td>Harewood          </td><td>1</td></tr>\n",
       "\t<tr><td>Heathcote Valley  </td><td>1</td></tr>\n",
       "\t<tr><td>Hoon Hay          </td><td>2</td></tr>\n",
       "\t<tr><td>Hornby            </td><td>1</td></tr>\n",
       "\t<tr><td>Linwood           </td><td>1</td></tr>\n",
       "\t<tr><td>Little River      </td><td>1</td></tr>\n",
       "\t<tr><td>Lyttelton         </td><td>3</td></tr>\n",
       "\t<tr><td>Mt Pleasant       </td><td>1</td></tr>\n",
       "\t<tr><td>North New Brighton</td><td>1</td></tr>\n",
       "\t<tr><td>Papanui           </td><td>2</td></tr>\n",
       "\t<tr><td>Riccarton         </td><td>2</td></tr>\n",
       "\t<tr><td>Richmond          </td><td>2</td></tr>\n",
       "\t<tr><td>Somerfield        </td><td>1</td></tr>\n",
       "\t<tr><td>Spencerville      </td><td>1</td></tr>\n",
       "\t<tr><td>St Albans         </td><td>1</td></tr>\n",
       "\t<tr><td>St Martins        </td><td>2</td></tr>\n",
       "\t<tr><td>Sydenham          </td><td>1</td></tr>\n",
       "\t<tr><td>Wainoni           </td><td>1</td></tr>\n",
       "\t<tr><td>Waltham           </td><td>1</td></tr>\n",
       "</tbody>\n",
       "</table>\n"
      ],
      "text/latex": [
       "A tibble: 25 × 2\n",
       "\\begin{tabular}{ll}\n",
       " Suburb & Num\\_of\\_jobs\\\\\n",
       " <chr> & <dbl>\\\\\n",
       "\\hline\n",
       "\t Addington          & 2\\\\\n",
       "\t Akaroa             & 3\\\\\n",
       "\t Bexley             & 1\\\\\n",
       "\t Cashmere           & 5\\\\\n",
       "\t Duvauchelle        & 4\\\\\n",
       "\t Fendalton          & 2\\\\\n",
       "\t Harewood           & 1\\\\\n",
       "\t Heathcote Valley   & 1\\\\\n",
       "\t Hoon Hay           & 2\\\\\n",
       "\t Hornby             & 1\\\\\n",
       "\t Linwood            & 1\\\\\n",
       "\t Little River       & 1\\\\\n",
       "\t Lyttelton          & 3\\\\\n",
       "\t Mt Pleasant        & 1\\\\\n",
       "\t North New Brighton & 1\\\\\n",
       "\t Papanui            & 2\\\\\n",
       "\t Riccarton          & 2\\\\\n",
       "\t Richmond           & 2\\\\\n",
       "\t Somerfield         & 1\\\\\n",
       "\t Spencerville       & 1\\\\\n",
       "\t St Albans          & 1\\\\\n",
       "\t St Martins         & 2\\\\\n",
       "\t Sydenham           & 1\\\\\n",
       "\t Wainoni            & 1\\\\\n",
       "\t Waltham            & 1\\\\\n",
       "\\end{tabular}\n"
      ],
      "text/markdown": [
       "\n",
       "A tibble: 25 × 2\n",
       "\n",
       "| Suburb &lt;chr&gt; | Num_of_jobs &lt;dbl&gt; |\n",
       "|---|---|\n",
       "| Addington          | 2 |\n",
       "| Akaroa             | 3 |\n",
       "| Bexley             | 1 |\n",
       "| Cashmere           | 5 |\n",
       "| Duvauchelle        | 4 |\n",
       "| Fendalton          | 2 |\n",
       "| Harewood           | 1 |\n",
       "| Heathcote Valley   | 1 |\n",
       "| Hoon Hay           | 2 |\n",
       "| Hornby             | 1 |\n",
       "| Linwood            | 1 |\n",
       "| Little River       | 1 |\n",
       "| Lyttelton          | 3 |\n",
       "| Mt Pleasant        | 1 |\n",
       "| North New Brighton | 1 |\n",
       "| Papanui            | 2 |\n",
       "| Riccarton          | 2 |\n",
       "| Richmond           | 2 |\n",
       "| Somerfield         | 1 |\n",
       "| Spencerville       | 1 |\n",
       "| St Albans          | 1 |\n",
       "| St Martins         | 2 |\n",
       "| Sydenham           | 1 |\n",
       "| Wainoni            | 1 |\n",
       "| Waltham            | 1 |\n",
       "\n"
      ],
      "text/plain": [
       "   Suburb             Num_of_jobs\n",
       "1  Addington          2          \n",
       "2  Akaroa             3          \n",
       "3  Bexley             1          \n",
       "4  Cashmere           5          \n",
       "5  Duvauchelle        4          \n",
       "6  Fendalton          2          \n",
       "7  Harewood           1          \n",
       "8  Heathcote Valley   1          \n",
       "9  Hoon Hay           2          \n",
       "10 Hornby             1          \n",
       "11 Linwood            1          \n",
       "12 Little River       1          \n",
       "13 Lyttelton          3          \n",
       "14 Mt Pleasant        1          \n",
       "15 North New Brighton 1          \n",
       "16 Papanui            2          \n",
       "17 Riccarton          2          \n",
       "18 Richmond           2          \n",
       "19 Somerfield         1          \n",
       "20 Spencerville       1          \n",
       "21 St Albans          1          \n",
       "22 St Martins         2          \n",
       "23 Sydenham           1          \n",
       "24 Wainoni            1          \n",
       "25 Waltham            1          "
      ]
     },
     "metadata": {},
     "output_type": "display_data"
    }
   ],
   "source": [
    "# In this section i am combining the two lists that i made above in to a table \n",
    "# I made the table using tibble \n",
    "table <- tibble(Suburb = unlist(distinct_suburb),# In this part i am using the function 'unlist()' as i ran into some trouble latter on\n",
    "                Num_of_jobs = unlist(counts))    # when trying to plot list, so i chnaged them into 'chr' and 'dbl' so that they can now be\n",
    "                                                 # plotted\n",
    "table # To display the table "
   ]
  },
  {
   "cell_type": "markdown",
   "metadata": {},
   "source": [
    "### Task (c): automate it (5 marks)\n",
    "\n",
    "Now it's the time to scrape everything else in the website. Turn your code for tasks (a) and (b) into a function and using `purrr` (and its `map_` functions, possibly in combination with `possibly`) apply that function to all the pages you are interested in (as we have done in lab 6); the output of the task should be a relation dataset (i.e., one or more dataframes, and if more than one, explicit their relationships)."
   ]
  },
  {
   "cell_type": "code",
   "execution_count": 11,
   "metadata": {
    "vscode": {
     "languageId": "r"
    }
   },
   "outputs": [
    {
     "data": {
      "text/html": [
       "43"
      ],
      "text/latex": [
       "43"
      ],
      "text/markdown": [
       "43"
      ],
      "text/plain": [
       "[1] 43"
      ]
     },
     "metadata": {},
     "output_type": "display_data"
    }
   ],
   "source": [
    "# In this section i am just checking that i have the right class for the link that \n",
    "# i want to use for my function.\n",
    "page %>%\n",
    "  html_nodes(\".results a\") %>%\n",
    "  html_attrs() %>%\n",
    "  map_chr(\"href\") %>% # This part is selecting all the links of the class results a \n",
    "  length() # This part is showing me how many links there are which should be 43 "
   ]
  },
  {
   "cell_type": "code",
   "execution_count": 12,
   "metadata": {},
   "outputs": [
    {
     "data": {
      "text/html": [
       "<table class=\"dataframe\">\n",
       "<caption>A tibble: 6 × 7</caption>\n",
       "<thead>\n",
       "\t<tr><th scope=col>Suburb</th><th scope=col>Location</th><th scope=col>Type</th><th scope=col>Impact</th><th scope=col>Link</th><th scope=col>Start_date</th><th scope=col>Expected_end_date</th></tr>\n",
       "\t<tr><th scope=col>&lt;chr&gt;</th><th scope=col>&lt;chr&gt;</th><th scope=col>&lt;chr&gt;</th><th scope=col>&lt;chr&gt;</th><th scope=col>&lt;chr&gt;</th><th scope=col>&lt;chr&gt;</th><th scope=col>&lt;chr&gt;</th></tr>\n",
       "</thead>\n",
       "<tbody>\n",
       "\t<tr><td>Addington</td><td>Lincoln Road between Moorhouse Avenue and Whiteleigh Avenue, Addington.                                                 </td><td>Road improvement                                                           </td><td>                                                                                                           </td><td>/transport/works-3/show/939 </td><td>3 May 2022 </td><td>30 Nov 2022</td></tr>\n",
       "\t<tr><td>Addington</td><td>The intersection of Lincoln Road, Whiteleigh Avenue and Barrington Street, Addington, Christchurch.                     </td><td>Road improvement , Road maintenance                                        </td><td>                                                                                                           </td><td>/transport/works-3/show/1048</td><td>30 Sep 2022</td><td>10 Oct 2022</td></tr>\n",
       "\t<tr><td>Akaroa   </td><td>Akaroa Lighthouse at 135 Beach Road, Akaroa.                                                                            </td><td>Facility/infrastructure maintenance                                        </td><td>Restricted on-street parking                                                                               </td><td>/transport/works-3/show/1024</td><td>12 Aug 2022</td><td>31 Dec 2022</td></tr>\n",
       "\t<tr><td>Akaroa   </td><td>From Aylmers Valley Road intersection to 7 Newton Place.                                                                </td><td>Pipe renewal                                                               </td><td>Restricted access to property , Restricted on-street parking , Restricted pedestrian access , Road closure </td><td>/transport/works-3/show/1051</td><td>12 Sep 2022</td><td>21 Oct 2022</td></tr>\n",
       "\t<tr><td>Akaroa   </td><td>Ōnuku landfill is located at 293 Beach Road, Akaroa. Site access for the works will be gained from Ōnuku Road in Akaroa.</td><td>Facility/infrastructure construction , Facility/infrastructure maintenance </td><td>Restricted on-street parking                                                                               </td><td>/transport/works-3/show/1052</td><td>4 Oct 2022 </td><td>10 Feb 2023</td></tr>\n",
       "\t<tr><td>Bexley   </td><td>The entire area bound by the Ōtākaro Avon River, Pages Road and Anzac Drive.                                            </td><td>Facility/infrastructure construction                                       </td><td>Traffic management                                                                                         </td><td>/transport/works-3/show/892 </td><td>24 Jan 2022</td><td>30 Jun 2023</td></tr>\n",
       "</tbody>\n",
       "</table>\n"
      ],
      "text/latex": [
       "A tibble: 6 × 7\n",
       "\\begin{tabular}{lllllll}\n",
       " Suburb & Location & Type & Impact & Link & Start\\_date & Expected\\_end\\_date\\\\\n",
       " <chr> & <chr> & <chr> & <chr> & <chr> & <chr> & <chr>\\\\\n",
       "\\hline\n",
       "\t Addington & Lincoln Road between Moorhouse Avenue and Whiteleigh Avenue, Addington.                                                  & Road improvement                                                            &                                                                                                             & /transport/works-3/show/939  & 3 May 2022  & 30 Nov 2022\\\\\n",
       "\t Addington & The intersection of Lincoln Road, Whiteleigh Avenue and Barrington Street, Addington, Christchurch.                      & Road improvement , Road maintenance                                         &                                                                                                             & /transport/works-3/show/1048 & 30 Sep 2022 & 10 Oct 2022\\\\\n",
       "\t Akaroa    & Akaroa Lighthouse at 135 Beach Road, Akaroa.                                                                             & Facility/infrastructure maintenance                                         & Restricted on-street parking                                                                                & /transport/works-3/show/1024 & 12 Aug 2022 & 31 Dec 2022\\\\\n",
       "\t Akaroa    & From Aylmers Valley Road intersection to 7 Newton Place.                                                                 & Pipe renewal                                                                & Restricted access to property , Restricted on-street parking , Restricted pedestrian access , Road closure  & /transport/works-3/show/1051 & 12 Sep 2022 & 21 Oct 2022\\\\\n",
       "\t Akaroa    & Ōnuku landfill is located at 293 Beach Road, Akaroa. Site access for the works will be gained from Ōnuku Road in Akaroa. & Facility/infrastructure construction , Facility/infrastructure maintenance  & Restricted on-street parking                                                                                & /transport/works-3/show/1052 & 4 Oct 2022  & 10 Feb 2023\\\\\n",
       "\t Bexley    & The entire area bound by the Ōtākaro Avon River, Pages Road and Anzac Drive.                                             & Facility/infrastructure construction                                        & Traffic management                                                                                          & /transport/works-3/show/892  & 24 Jan 2022 & 30 Jun 2023\\\\\n",
       "\\end{tabular}\n"
      ],
      "text/markdown": [
       "\n",
       "A tibble: 6 × 7\n",
       "\n",
       "| Suburb &lt;chr&gt; | Location &lt;chr&gt; | Type &lt;chr&gt; | Impact &lt;chr&gt; | Link &lt;chr&gt; | Start_date &lt;chr&gt; | Expected_end_date &lt;chr&gt; |\n",
       "|---|---|---|---|---|---|---|\n",
       "| Addington | Lincoln Road between Moorhouse Avenue and Whiteleigh Avenue, Addington.                                                  | Road improvement                                                            | <!----> | /transport/works-3/show/939  | 3 May 2022  | 30 Nov 2022 |\n",
       "| Addington | The intersection of Lincoln Road, Whiteleigh Avenue and Barrington Street, Addington, Christchurch.                      | Road improvement , Road maintenance                                         | <!----> | /transport/works-3/show/1048 | 30 Sep 2022 | 10 Oct 2022 |\n",
       "| Akaroa    | Akaroa Lighthouse at 135 Beach Road, Akaroa.                                                                             | Facility/infrastructure maintenance                                         | Restricted on-street parking                                                                                | /transport/works-3/show/1024 | 12 Aug 2022 | 31 Dec 2022 |\n",
       "| Akaroa    | From Aylmers Valley Road intersection to 7 Newton Place.                                                                 | Pipe renewal                                                                | Restricted access to property , Restricted on-street parking , Restricted pedestrian access , Road closure  | /transport/works-3/show/1051 | 12 Sep 2022 | 21 Oct 2022 |\n",
       "| Akaroa    | Ōnuku landfill is located at 293 Beach Road, Akaroa. Site access for the works will be gained from Ōnuku Road in Akaroa. | Facility/infrastructure construction , Facility/infrastructure maintenance  | Restricted on-street parking                                                                                | /transport/works-3/show/1052 | 4 Oct 2022  | 10 Feb 2023 |\n",
       "| Bexley    | The entire area bound by the Ōtākaro Avon River, Pages Road and Anzac Drive.                                             | Facility/infrastructure construction                                        | Traffic management                                                                                          | /transport/works-3/show/892  | 24 Jan 2022 | 30 Jun 2023 |\n",
       "\n"
      ],
      "text/plain": [
       "  Suburb   \n",
       "1 Addington\n",
       "2 Addington\n",
       "3 Akaroa   \n",
       "4 Akaroa   \n",
       "5 Akaroa   \n",
       "6 Bexley   \n",
       "  Location                                                                                                                \n",
       "1 Lincoln Road between Moorhouse Avenue and Whiteleigh Avenue, Addington.                                                 \n",
       "2 The intersection of Lincoln Road, Whiteleigh Avenue and Barrington Street, Addington, Christchurch.                     \n",
       "3 Akaroa Lighthouse at 135 Beach Road, Akaroa.                                                                            \n",
       "4 From Aylmers Valley Road intersection to 7 Newton Place.                                                                \n",
       "5 Ōnuku landfill is located at 293 Beach Road, Akaroa. Site access for the works will be gained from Ōnuku Road in Akaroa.\n",
       "6 The entire area bound by the Ōtākaro Avon River, Pages Road and Anzac Drive.                                            \n",
       "  Type                                                                       \n",
       "1 Road improvement                                                           \n",
       "2 Road improvement , Road maintenance                                        \n",
       "3 Facility/infrastructure maintenance                                        \n",
       "4 Pipe renewal                                                               \n",
       "5 Facility/infrastructure construction , Facility/infrastructure maintenance \n",
       "6 Facility/infrastructure construction                                       \n",
       "  Impact                                                                                                     \n",
       "1                                                                                                            \n",
       "2                                                                                                            \n",
       "3 Restricted on-street parking                                                                               \n",
       "4 Restricted access to property , Restricted on-street parking , Restricted pedestrian access , Road closure \n",
       "5 Restricted on-street parking                                                                               \n",
       "6 Traffic management                                                                                         \n",
       "  Link                         Start_date  Expected_end_date\n",
       "1 /transport/works-3/show/939  3 May 2022  30 Nov 2022      \n",
       "2 /transport/works-3/show/1048 30 Sep 2022 10 Oct 2022      \n",
       "3 /transport/works-3/show/1024 12 Aug 2022 31 Dec 2022      \n",
       "4 /transport/works-3/show/1051 12 Sep 2022 21 Oct 2022      \n",
       "5 /transport/works-3/show/1052 4 Oct 2022  10 Feb 2023      \n",
       "6 /transport/works-3/show/892  24 Jan 2022 30 Jun 2023      "
      ]
     },
     "metadata": {},
     "output_type": "display_data"
    }
   ],
   "source": [
    "# In this section i am mutating the simple table that i made before as adding in the link for extra,\n",
    "# information that i want to scrape. \n",
    "Simple_table <- Simple_table %>% # This is a new table with the link of the next page in in as an atrubute \n",
    "  mutate(Link = page %>%\n",
    "  html_nodes(\".results a\") %>%\n",
    "  html_attr(\"href\"))\n",
    "\n",
    "# Here i am changing the order of the cols just because i like this look better and makes the links easier to see as,\n",
    "# it is the links that i want to look at at the monment \n",
    "Simple_table <- Simple_table[c(\"Suburb\", \"Location\", \"Type\", \"Impact\", \"Link\", \"Start_date\", \"Expected_end_date\")]\n",
    "\n",
    "Simple_table %>% # Displaying the table \n",
    "  head() # Here i am only displaying the head of the table as the whole thable is very long "
   ]
  },
  {
   "cell_type": "code",
   "execution_count": null,
   "metadata": {},
   "outputs": [],
   "source": [
    "# Here in this section i needed to test and find the correct class for the information that i wanted to get \n",
    "# In this case i want to get the listed reason for the roadwork\n",
    "\n",
    "url_reasons <- glue(\"https://ccc.govt.nz{Simple_table$Link[11]}\")\n",
    "\n",
    "url_reasons %>%\n",
    "  read_html() %>%\n",
    "  html_nodes(\".table-work-notice tr td\") %>%\n",
    "html_text() # This is giving me a list of all the information that is listed on the new page, this list contains the, \n",
    "            # reason for the roadworks (and i cant get it by itself) so i am just going to select the second element, \n",
    "            # which is the reason for the roadwork. "
   ]
  },
  {
   "cell_type": "code",
   "execution_count": 13,
   "metadata": {},
   "outputs": [],
   "source": [
    "# In this section i am creating a function to get the reason for a specfic roadwork \n",
    "get_reason <- function(link){\n",
    "    \n",
    "  reason_data <- glue(\"https://ccc.govt.nz{link}\") %>%\n",
    "    read_html() %>%\n",
    "    html_nodes(\".table-work-notice tr td\")\n",
    "    \n",
    "  reason <- reason_data[seq(2, length(reason_data), 5)] %>% # This is where i am selecting only the second element of the \n",
    "    html_text( ) %>%                                        # list of information that is on the second page. \n",
    "   glue_collapse(sep =  \"\\n\")\n",
    "  return(reason) # Returns only the reason for the roadwork.\n",
    "}"
   ]
  },
  {
   "cell_type": "code",
   "execution_count": 14,
   "metadata": {},
   "outputs": [
    {
     "name": "stdout",
     "output_type": "stream",
     "text": [
      "To create more reliable journey times to get everyone where they want to go on time and to improve safety for all road users.\n"
     ]
    }
   ],
   "source": [
    "# In this section i am doing a sanity check to see of the function works \n",
    "Simple_table$Link[1] %>%\n",
    "  get_reason() %>%\n",
    "  print()\n",
    "# Looks like it works "
   ]
  },
  {
   "cell_type": "code",
   "execution_count": 15,
   "metadata": {},
   "outputs": [],
   "source": [
    "# In this section i am adding in the seciton for the reason for the roadwork using the function, \n",
    "# that i made.\n",
    "compltete_table <- Simple_table %>%\n",
    "  mutate(Reasons = map_chr(Link, get_reason)) # Here i am going through and putting the link into the function that i made which, \n",
    "                                             # is returning the reasons and putting that reason into a new column calles Reasons\n",
    "\n",
    "# Here i am just changing the order of the rows as i think that this way is more readable \n",
    "compltete_table <- compltete_table[c(\"Suburb\", \"Location\", \"Type\", \"Impact\", \"Reasons\", \"Start_date\", \"Expected_end_date\", \"Link\")]"
   ]
  },
  {
   "cell_type": "code",
   "execution_count": 16,
   "metadata": {},
   "outputs": [
    {
     "data": {
      "text/html": [
       "<table class=\"dataframe\">\n",
       "<caption>A tibble: 6 × 8</caption>\n",
       "<thead>\n",
       "\t<tr><th scope=col>Suburb</th><th scope=col>Location</th><th scope=col>Type</th><th scope=col>Impact</th><th scope=col>Reasons</th><th scope=col>Start_date</th><th scope=col>Expected_end_date</th><th scope=col>Link</th></tr>\n",
       "\t<tr><th scope=col>&lt;chr&gt;</th><th scope=col>&lt;chr&gt;</th><th scope=col>&lt;chr&gt;</th><th scope=col>&lt;chr&gt;</th><th scope=col>&lt;chr&gt;</th><th scope=col>&lt;chr&gt;</th><th scope=col>&lt;chr&gt;</th><th scope=col>&lt;chr&gt;</th></tr>\n",
       "</thead>\n",
       "<tbody>\n",
       "\t<tr><td>Addington</td><td>Lincoln Road between Moorhouse Avenue and Whiteleigh Avenue, Addington.                                                 </td><td>Road improvement                                                           </td><td>                                                                                                           </td><td>To create more reliable journey times to get everyone where they want to go on time and to improve safety for all road users.                                                                                 </td><td>3 May 2022 </td><td>30 Nov 2022</td><td>/transport/works-3/show/939 </td></tr>\n",
       "\t<tr><td>Addington</td><td>The intersection of Lincoln Road, Whiteleigh Avenue and Barrington Street, Addington, Christchurch.                     </td><td>Road improvement , Road maintenance                                        </td><td>                                                                                                           </td><td>Installation of a raised safety platform and final resurfacing.                                                                                                                                               </td><td>30 Sep 2022</td><td>10 Oct 2022</td><td>/transport/works-3/show/1048</td></tr>\n",
       "\t<tr><td>Akaroa   </td><td>Akaroa Lighthouse at 135 Beach Road, Akaroa.                                                                            </td><td>Facility/infrastructure maintenance                                        </td><td>Restricted on-street parking                                                                               </td><td>Undertake stabilisation works on a slip that is undermine the road reserve area adjacent to the Akaroa Lighthouse.                                                                                            </td><td>12 Aug 2022</td><td>31 Dec 2022</td><td>/transport/works-3/show/1024</td></tr>\n",
       "\t<tr><td><span style=white-space:pre-wrap>Akaroa   </span></td><td><span style=white-space:pre-wrap>From Aylmers Valley Road intersection to 7 Newton Place.                                                                </span></td><td><span style=white-space:pre-wrap>Pipe renewal                                                               </span></td><td>Restricted access to property , Restricted on-street parking , Restricted pedestrian access , Road closure </td><td><span style=white-space:pre-wrap>The wastewater &amp; water pipes are being replaced due to their age and condition.                                                                                                                               </span></td><td>12 Sep 2022</td><td>21 Oct 2022</td><td>/transport/works-3/show/1051</td></tr>\n",
       "\t<tr><td>Akaroa   </td><td>Ōnuku landfill is located at 293 Beach Road, Akaroa. Site access for the works will be gained from Ōnuku Road in Akaroa.</td><td>Facility/infrastructure construction , Facility/infrastructure maintenance </td><td>Restricted on-street parking                                                                               </td><td>The existing landfill cap has eroded and is no longer deemed fit for purpose. A new landfill cap on the southern face is required to protect the landfill.                                                    </td><td>4 Oct 2022 </td><td>10 Feb 2023</td><td>/transport/works-3/show/1052</td></tr>\n",
       "\t<tr><td>Bexley   </td><td>The entire area bound by the Ōtākaro Avon River, Pages Road and Anzac Drive.                                            </td><td>Facility/infrastructure construction                                       </td><td>Traffic management                                                                                         </td><td>To improve stormwater management and flood protection for neighbouring communities, and to ecologically restore this valuable area of the Ōtākaro Avon River Corridor in line with the OARC Regeneration Plan.</td><td>24 Jan 2022</td><td>30 Jun 2023</td><td>/transport/works-3/show/892 </td></tr>\n",
       "</tbody>\n",
       "</table>\n"
      ],
      "text/latex": [
       "A tibble: 6 × 8\n",
       "\\begin{tabular}{llllllll}\n",
       " Suburb & Location & Type & Impact & Reasons & Start\\_date & Expected\\_end\\_date & Link\\\\\n",
       " <chr> & <chr> & <chr> & <chr> & <chr> & <chr> & <chr> & <chr>\\\\\n",
       "\\hline\n",
       "\t Addington & Lincoln Road between Moorhouse Avenue and Whiteleigh Avenue, Addington.                                                  & Road improvement                                                            &                                                                                                             & To create more reliable journey times to get everyone where they want to go on time and to improve safety for all road users.                                                                                  & 3 May 2022  & 30 Nov 2022 & /transport/works-3/show/939 \\\\\n",
       "\t Addington & The intersection of Lincoln Road, Whiteleigh Avenue and Barrington Street, Addington, Christchurch.                      & Road improvement , Road maintenance                                         &                                                                                                             & Installation of a raised safety platform and final resurfacing.                                                                                                                                                & 30 Sep 2022 & 10 Oct 2022 & /transport/works-3/show/1048\\\\\n",
       "\t Akaroa    & Akaroa Lighthouse at 135 Beach Road, Akaroa.                                                                             & Facility/infrastructure maintenance                                         & Restricted on-street parking                                                                                & Undertake stabilisation works on a slip that is undermine the road reserve area adjacent to the Akaroa Lighthouse.                                                                                             & 12 Aug 2022 & 31 Dec 2022 & /transport/works-3/show/1024\\\\\n",
       "\t Akaroa    & From Aylmers Valley Road intersection to 7 Newton Place.                                                                 & Pipe renewal                                                                & Restricted access to property , Restricted on-street parking , Restricted pedestrian access , Road closure  & The wastewater \\& water pipes are being replaced due to their age and condition.                                                                                                                                & 12 Sep 2022 & 21 Oct 2022 & /transport/works-3/show/1051\\\\\n",
       "\t Akaroa    & Ōnuku landfill is located at 293 Beach Road, Akaroa. Site access for the works will be gained from Ōnuku Road in Akaroa. & Facility/infrastructure construction , Facility/infrastructure maintenance  & Restricted on-street parking                                                                                & The existing landfill cap has eroded and is no longer deemed fit for purpose. A new landfill cap on the southern face is required to protect the landfill.                                                     & 4 Oct 2022  & 10 Feb 2023 & /transport/works-3/show/1052\\\\\n",
       "\t Bexley    & The entire area bound by the Ōtākaro Avon River, Pages Road and Anzac Drive.                                             & Facility/infrastructure construction                                        & Traffic management                                                                                          & To improve stormwater management and flood protection for neighbouring communities, and to ecologically restore this valuable area of the Ōtākaro Avon River Corridor in line with the OARC Regeneration Plan. & 24 Jan 2022 & 30 Jun 2023 & /transport/works-3/show/892 \\\\\n",
       "\\end{tabular}\n"
      ],
      "text/markdown": [
       "\n",
       "A tibble: 6 × 8\n",
       "\n",
       "| Suburb &lt;chr&gt; | Location &lt;chr&gt; | Type &lt;chr&gt; | Impact &lt;chr&gt; | Reasons &lt;chr&gt; | Start_date &lt;chr&gt; | Expected_end_date &lt;chr&gt; | Link &lt;chr&gt; |\n",
       "|---|---|---|---|---|---|---|---|\n",
       "| Addington | Lincoln Road between Moorhouse Avenue and Whiteleigh Avenue, Addington.                                                  | Road improvement                                                            | <!----> | To create more reliable journey times to get everyone where they want to go on time and to improve safety for all road users.                                                                                  | 3 May 2022  | 30 Nov 2022 | /transport/works-3/show/939  |\n",
       "| Addington | The intersection of Lincoln Road, Whiteleigh Avenue and Barrington Street, Addington, Christchurch.                      | Road improvement , Road maintenance                                         | <!----> | Installation of a raised safety platform and final resurfacing.                                                                                                                                                | 30 Sep 2022 | 10 Oct 2022 | /transport/works-3/show/1048 |\n",
       "| Akaroa    | Akaroa Lighthouse at 135 Beach Road, Akaroa.                                                                             | Facility/infrastructure maintenance                                         | Restricted on-street parking                                                                                | Undertake stabilisation works on a slip that is undermine the road reserve area adjacent to the Akaroa Lighthouse.                                                                                             | 12 Aug 2022 | 31 Dec 2022 | /transport/works-3/show/1024 |\n",
       "| Akaroa    | From Aylmers Valley Road intersection to 7 Newton Place.                                                                 | Pipe renewal                                                                | Restricted access to property , Restricted on-street parking , Restricted pedestrian access , Road closure  | The wastewater &amp; water pipes are being replaced due to their age and condition.                                                                                                                                | 12 Sep 2022 | 21 Oct 2022 | /transport/works-3/show/1051 |\n",
       "| Akaroa    | Ōnuku landfill is located at 293 Beach Road, Akaroa. Site access for the works will be gained from Ōnuku Road in Akaroa. | Facility/infrastructure construction , Facility/infrastructure maintenance  | Restricted on-street parking                                                                                | The existing landfill cap has eroded and is no longer deemed fit for purpose. A new landfill cap on the southern face is required to protect the landfill.                                                     | 4 Oct 2022  | 10 Feb 2023 | /transport/works-3/show/1052 |\n",
       "| Bexley    | The entire area bound by the Ōtākaro Avon River, Pages Road and Anzac Drive.                                             | Facility/infrastructure construction                                        | Traffic management                                                                                          | To improve stormwater management and flood protection for neighbouring communities, and to ecologically restore this valuable area of the Ōtākaro Avon River Corridor in line with the OARC Regeneration Plan. | 24 Jan 2022 | 30 Jun 2023 | /transport/works-3/show/892  |\n",
       "\n"
      ],
      "text/plain": [
       "  Suburb   \n",
       "1 Addington\n",
       "2 Addington\n",
       "3 Akaroa   \n",
       "4 Akaroa   \n",
       "5 Akaroa   \n",
       "6 Bexley   \n",
       "  Location                                                                                                                \n",
       "1 Lincoln Road between Moorhouse Avenue and Whiteleigh Avenue, Addington.                                                 \n",
       "2 The intersection of Lincoln Road, Whiteleigh Avenue and Barrington Street, Addington, Christchurch.                     \n",
       "3 Akaroa Lighthouse at 135 Beach Road, Akaroa.                                                                            \n",
       "4 From Aylmers Valley Road intersection to 7 Newton Place.                                                                \n",
       "5 Ōnuku landfill is located at 293 Beach Road, Akaroa. Site access for the works will be gained from Ōnuku Road in Akaroa.\n",
       "6 The entire area bound by the Ōtākaro Avon River, Pages Road and Anzac Drive.                                            \n",
       "  Type                                                                       \n",
       "1 Road improvement                                                           \n",
       "2 Road improvement , Road maintenance                                        \n",
       "3 Facility/infrastructure maintenance                                        \n",
       "4 Pipe renewal                                                               \n",
       "5 Facility/infrastructure construction , Facility/infrastructure maintenance \n",
       "6 Facility/infrastructure construction                                       \n",
       "  Impact                                                                                                     \n",
       "1                                                                                                            \n",
       "2                                                                                                            \n",
       "3 Restricted on-street parking                                                                               \n",
       "4 Restricted access to property , Restricted on-street parking , Restricted pedestrian access , Road closure \n",
       "5 Restricted on-street parking                                                                               \n",
       "6 Traffic management                                                                                         \n",
       "  Reasons                                                                                                                                                                                                       \n",
       "1 To create more reliable journey times to get everyone where they want to go on time and to improve safety for all road users.                                                                                 \n",
       "2 Installation of a raised safety platform and final resurfacing.                                                                                                                                               \n",
       "3 Undertake stabilisation works on a slip that is undermine the road reserve area adjacent to the Akaroa Lighthouse.                                                                                            \n",
       "4 The wastewater & water pipes are being replaced due to their age and condition.                                                                                                                               \n",
       "5 The existing landfill cap has eroded and is no longer deemed fit for purpose. A new landfill cap on the southern face is required to protect the landfill.                                                    \n",
       "6 To improve stormwater management and flood protection for neighbouring communities, and to ecologically restore this valuable area of the Ōtākaro Avon River Corridor in line with the OARC Regeneration Plan.\n",
       "  Start_date  Expected_end_date Link                        \n",
       "1 3 May 2022  30 Nov 2022       /transport/works-3/show/939 \n",
       "2 30 Sep 2022 10 Oct 2022       /transport/works-3/show/1048\n",
       "3 12 Aug 2022 31 Dec 2022       /transport/works-3/show/1024\n",
       "4 12 Sep 2022 21 Oct 2022       /transport/works-3/show/1051\n",
       "5 4 Oct 2022  10 Feb 2023       /transport/works-3/show/1052\n",
       "6 24 Jan 2022 30 Jun 2023       /transport/works-3/show/892 "
      ]
     },
     "metadata": {},
     "output_type": "display_data"
    }
   ],
   "source": [
    "compltete_table  %>% # Here i have this in a differnt section as the one above takes a very long to time\n",
    "  head() # Here i am only displaying the head of the table as the whole table is very long "
   ]
  },
  {
   "cell_type": "markdown",
   "metadata": {},
   "source": [
    "### Task (d): plot it (2 marks)\n",
    "\n",
    "Use graphics (via `ggplot`) to represent the data you collected in a meaningful way."
   ]
  },
  {
   "cell_type": "code",
   "execution_count": 17,
   "metadata": {
    "vscode": {
     "languageId": "r"
    }
   },
   "outputs": [
    {
     "data": {
      "image/png": "[encoded data removed]",
      "text/plain": [
       "plot without title"
      ]
     },
     "metadata": {
      "image/png": {
       "height": 420,
       "width": 420
      }
     },
     "output_type": "display_data"
    }
   ],
   "source": [
    "# Here in this section i am plotting some of the infromation that i gathered above \n",
    "table %>% \n",
    "    ggplot(aes(x = Num_of_jobs, y = Suburb)) +\n",
    "    geom_point()\n",
    "# This graph displays all the suburbs that are in chch that have current road works as well as the number of differnt works that, \n",
    "# are going to in that area"
   ]
  },
  {
   "cell_type": "markdown",
   "metadata": {},
   "source": [
    "### Task (e): APIs (2 marks)\n",
    "\n",
    "Identify a web service offering data through an API. Access the API using `httr` and collect the information you care about. Convert the data into a dataframe (or more than one). Represent it graphically in a meaningful way."
   ]
  },
  {
   "cell_type": "code",
   "execution_count": 18,
   "metadata": {
    "vscode": {
     "languageId": "r"
    }
   },
   "outputs": [
    {
     "data": {
      "text/plain": [
       "Response [http://api.open-notify.org/astros.json]\n",
       "  Date: 2022-10-08 07:09\n",
       "  Status: 200\n",
       "  Content-Type: application/json\n",
       "  Size: 681 B\n"
      ]
     },
     "metadata": {},
     "output_type": "display_data"
    }
   ],
   "source": [
    "# Here i have found an API that has the names of the current people who are in space, i will use the API to show there names,\n",
    "# and which craft they are on. \n",
    "result <- GET(\"http://api.open-notify.org/astros.json\") # Here i am making an APi request,\n",
    "result # 'result' holds the infromation that is returned by the API sever "
   ]
  },
  {
   "cell_type": "code",
   "execution_count": 19,
   "metadata": {},
   "outputs": [],
   "source": [
    "data <- fromJSON(rawToChar(result$content)) # Here we are converting the raw code into character using rawToChar()"
   ]
  },
  {
   "cell_type": "code",
   "execution_count": 20,
   "metadata": {},
   "outputs": [
    {
     "data": {
      "text/html": [
       "<table class=\"dataframe\">\n",
       "<caption>A data.frame: 14 × 2</caption>\n",
       "<thead>\n",
       "\t<tr><th></th><th scope=col>craft</th><th scope=col>name</th></tr>\n",
       "\t<tr><th></th><th scope=col>&lt;chr&gt;</th><th scope=col>&lt;chr&gt;</th></tr>\n",
       "</thead>\n",
       "<tbody>\n",
       "\t<tr><th scope=row>1</th><td>ISS      </td><td>Kjell Lindgren        </td></tr>\n",
       "\t<tr><th scope=row>2</th><td>ISS      </td><td>Bob Hines             </td></tr>\n",
       "\t<tr><th scope=row>3</th><td>ISS      </td><td>Samantha Cristoforetti</td></tr>\n",
       "\t<tr><th scope=row>4</th><td>ISS      </td><td>Jessica Watkins       </td></tr>\n",
       "\t<tr><th scope=row>5</th><td>Tiangong </td><td>Cai Xuzhe             </td></tr>\n",
       "\t<tr><th scope=row>6</th><td>Tiangong </td><td>Chen Dong             </td></tr>\n",
       "\t<tr><th scope=row>7</th><td>Tiangong </td><td>Liu Yang              </td></tr>\n",
       "\t<tr><th scope=row>8</th><td>ISS      </td><td>Sergey Prokopyev      </td></tr>\n",
       "\t<tr><th scope=row>9</th><td>ISS      </td><td>Dmitry Petelin        </td></tr>\n",
       "\t<tr><th scope=row>10</th><td>ISS      </td><td>Frank Rubio           </td></tr>\n",
       "\t<tr><th scope=row>11</th><td>Endurance</td><td>Nicole Mann           </td></tr>\n",
       "\t<tr><th scope=row>12</th><td>Endurance</td><td>Josh Cassada          </td></tr>\n",
       "\t<tr><th scope=row>13</th><td>Endurance</td><td>Koichi Wakata         </td></tr>\n",
       "\t<tr><th scope=row>14</th><td>Endurance</td><td>Anna Kikina           </td></tr>\n",
       "</tbody>\n",
       "</table>\n"
      ],
      "text/latex": [
       "A data.frame: 14 × 2\n",
       "\\begin{tabular}{r|ll}\n",
       "  & craft & name\\\\\n",
       "  & <chr> & <chr>\\\\\n",
       "\\hline\n",
       "\t1 & ISS       & Kjell Lindgren        \\\\\n",
       "\t2 & ISS       & Bob Hines             \\\\\n",
       "\t3 & ISS       & Samantha Cristoforetti\\\\\n",
       "\t4 & ISS       & Jessica Watkins       \\\\\n",
       "\t5 & Tiangong  & Cai Xuzhe             \\\\\n",
       "\t6 & Tiangong  & Chen Dong             \\\\\n",
       "\t7 & Tiangong  & Liu Yang              \\\\\n",
       "\t8 & ISS       & Sergey Prokopyev      \\\\\n",
       "\t9 & ISS       & Dmitry Petelin        \\\\\n",
       "\t10 & ISS       & Frank Rubio           \\\\\n",
       "\t11 & Endurance & Nicole Mann           \\\\\n",
       "\t12 & Endurance & Josh Cassada          \\\\\n",
       "\t13 & Endurance & Koichi Wakata         \\\\\n",
       "\t14 & Endurance & Anna Kikina           \\\\\n",
       "\\end{tabular}\n"
      ],
      "text/markdown": [
       "\n",
       "A data.frame: 14 × 2\n",
       "\n",
       "| <!--/--> | craft &lt;chr&gt; | name &lt;chr&gt; |\n",
       "|---|---|---|\n",
       "| 1 | ISS       | Kjell Lindgren         |\n",
       "| 2 | ISS       | Bob Hines              |\n",
       "| 3 | ISS       | Samantha Cristoforetti |\n",
       "| 4 | ISS       | Jessica Watkins        |\n",
       "| 5 | Tiangong  | Cai Xuzhe              |\n",
       "| 6 | Tiangong  | Chen Dong              |\n",
       "| 7 | Tiangong  | Liu Yang               |\n",
       "| 8 | ISS       | Sergey Prokopyev       |\n",
       "| 9 | ISS       | Dmitry Petelin         |\n",
       "| 10 | ISS       | Frank Rubio            |\n",
       "| 11 | Endurance | Nicole Mann            |\n",
       "| 12 | Endurance | Josh Cassada           |\n",
       "| 13 | Endurance | Koichi Wakata          |\n",
       "| 14 | Endurance | Anna Kikina            |\n",
       "\n"
      ],
      "text/plain": [
       "   craft     name                  \n",
       "1  ISS       Kjell Lindgren        \n",
       "2  ISS       Bob Hines             \n",
       "3  ISS       Samantha Cristoforetti\n",
       "4  ISS       Jessica Watkins       \n",
       "5  Tiangong  Cai Xuzhe             \n",
       "6  Tiangong  Chen Dong             \n",
       "7  Tiangong  Liu Yang              \n",
       "8  ISS       Sergey Prokopyev      \n",
       "9  ISS       Dmitry Petelin        \n",
       "10 ISS       Frank Rubio           \n",
       "11 Endurance Nicole Mann           \n",
       "12 Endurance Josh Cassada          \n",
       "13 Endurance Koichi Wakata         \n",
       "14 Endurance Anna Kikina           "
      ]
     },
     "metadata": {},
     "output_type": "display_data"
    }
   ],
   "source": [
    "# This is creating a table of the crafts and which people are in them\n",
    "space <- data$people  # This here is selecting the data from the API about the people \n",
    "space # Here i am just displaying the table "
   ]
  },
  {
   "cell_type": "code",
   "execution_count": 21,
   "metadata": {},
   "outputs": [
    {
     "data": {
      "image/png": "[encoded data removed]",
      "text/plain": [
       "plot without title"
      ]
     },
     "metadata": {
      "image/png": {
       "height": 420,
       "width": 420
      }
     },
     "output_type": "display_data"
    }
   ],
   "source": [
    "# Here in this section i am creating a graph of the table above just displating it in a diffent way \n",
    "space %>% \n",
    "    ggplot(aes(x = craft, y = name)) +\n",
    "    geom_point()"
   ]
  },
  {
   "cell_type": "markdown",
   "metadata": {},
   "source": [
    "### Comment, explain and present the work in a clear way (1 marks)"
   ]
  }
 ],
 "metadata": {
  "kernelspec": {
   "display_name": "R",
   "language": "R",
   "name": "ir"
  },
  "language_info": {
   "codemirror_mode": "r",
   "file_extension": ".r",
   "mimetype": "text/x-r-source",
   "name": "R",
   "pygments_lexer": "r",
   "version": "4.2.1"
  }
 },
 "nbformat": 4,
 "nbformat_minor": 4
}

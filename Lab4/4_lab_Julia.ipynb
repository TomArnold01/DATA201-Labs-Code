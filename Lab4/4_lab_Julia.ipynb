{
 "cells": [
  {
   "cell_type": "markdown",
   "metadata": {},
   "source": [
    "# Comma police in Julia"
   ]
  },
  {
   "cell_type": "markdown",
   "metadata": {},
   "source": [
    "Julia can read and write csv files as well.\n",
    "\n",
    "The straight forward way is using `load()` and `save()`. Julia will try to guess the format of the file by its extension (e.g., if the file is called \"blablab.csv\" it will assume it is a csv file. `load()` can also load entire directories of files in one go: just provide the path to the directory. It will try to produce "
   ]
  },
  {
   "cell_type": "markdown",
   "metadata": {},
   "source": [
    "The Input and Output of Files is handled in genral by the package `FileIO`. You already have it if you have installed Queryverse in the previous labs. You can load it either directly (in \"isolation\"):"
   ]
  },
  {
   "cell_type": "code",
   "execution_count": 1,
   "metadata": {},
   "outputs": [],
   "source": [
    "using Pkg"
   ]
  },
  {
   "cell_type": "code",
   "execution_count": 4,
   "metadata": {},
   "outputs": [
    {
     "name": "stderr",
     "output_type": "stream",
     "text": [
      "\u001b[32m\u001b[1m    Updating\u001b[22m\u001b[39m registry at `C:\\Users\\thoma\\.julia\\registries\\General`\n",
      "\u001b[32m\u001b[1m    Updating\u001b[22m\u001b[39m git-repo `https://github.com/JuliaRegistries/General.git`\n",
      "\u001b[32m\u001b[1m   Resolving\u001b[22m\u001b[39m package versions...\n",
      "\u001b[32m\u001b[1m   Installed\u001b[22m\u001b[39m Libiconv_jll ─ v1.16.1+1\n",
      "\u001b[32m\u001b[1m   Installed\u001b[22m\u001b[39m Zstd_jll ───── v1.5.0+0\n",
      "\u001b[32m\u001b[1m   Installed\u001b[22m\u001b[39m XML2_jll ───── v2.9.12+0\n",
      "\u001b[32m\u001b[1m   Installed\u001b[22m\u001b[39m Queryverse ─── v0.7.0\n",
      "\u001b[32m\u001b[1m    Updating\u001b[22m\u001b[39m `C:\\Users\\thoma\\.julia\\environments\\v1.6\\Project.toml`\n",
      " \u001b[90m [612083be] \u001b[39m\u001b[92m+ Queryverse v0.7.0\u001b[39m\n",
      "\u001b[32m\u001b[1m    Updating\u001b[22m\u001b[39m `C:\\Users\\thoma\\.julia\\environments\\v1.6\\Manifest.toml`\n",
      " \u001b[90m [69666777] \u001b[39m\u001b[92m+ Arrow v0.2.4\u001b[39m\n",
      " \u001b[90m [b99e7846] \u001b[39m\u001b[92m+ BinaryProvider v0.5.10\u001b[39m\n",
      " \u001b[90m [5d742f6a] \u001b[39m\u001b[92m+ CSVFiles v1.0.1\u001b[39m\n",
      " \u001b[90m [324d7699] \u001b[39m\u001b[92m+ CategoricalArrays v0.8.3\u001b[39m\n",
      " \u001b[90m [6b39b394] \u001b[39m\u001b[92m+ CodecZstd v0.7.0\u001b[39m\n",
      " \u001b[90m [743a1d0a] \u001b[39m\u001b[92m+ DataTables v0.1.0\u001b[39m\n",
      " \u001b[90m [5721bf48] \u001b[39m\u001b[92m+ DataVoyager v1.0.2\u001b[39m\n",
      " \u001b[90m [a1bb12fb] \u001b[39m\u001b[92m+ Electron v3.1.2\u001b[39m\n",
      " \u001b[90m [89b67f3b] \u001b[39m\u001b[92m+ ExcelFiles v1.0.0\u001b[39m\n",
      " \u001b[90m [c04bee98] \u001b[39m\u001b[92m+ ExcelReaders v0.11.0\u001b[39m\n",
      " \u001b[90m [8f5d6c58] \u001b[39m\u001b[92m+ EzXML v1.1.0\u001b[39m\n",
      " \u001b[90m [b675d258] \u001b[39m\u001b[92m+ FeatherFiles v0.8.1\u001b[39m\n",
      " \u001b[90m [409f5150] \u001b[39m\u001b[92m+ FeatherLib v0.2.0\u001b[39m\n",
      " \u001b[90m [53afe959] \u001b[39m\u001b[92m+ FlatBuffers v0.5.4\u001b[39m\n",
      " \u001b[90m [f9f48841] \u001b[39m\u001b[92m+ MemPool v0.2.0\u001b[39m\n",
      " \u001b[90m [d96e819e] \u001b[39m\u001b[92m+ Parameters v0.12.2\u001b[39m\n",
      " \u001b[90m [626c502c] \u001b[39m\u001b[92m+ Parquet v0.4.0\u001b[39m\n",
      " \u001b[90m [46a55296] \u001b[39m\u001b[92m+ ParquetFiles v0.2.0\u001b[39m\n",
      " \u001b[90m [3349acd9] \u001b[39m\u001b[92m+ ProtoBuf v0.8.0\u001b[39m\n",
      " \u001b[90m [438e738f] \u001b[39m\u001b[92m+ PyCall v1.92.3\u001b[39m\n",
      " \u001b[90m [612083be] \u001b[39m\u001b[92m+ Queryverse v0.7.0\u001b[39m\n",
      " \u001b[90m [988b38a3] \u001b[39m\u001b[92m+ ReadOnlyArrays v0.1.1\u001b[39m\n",
      " \u001b[90m [d71aba96] \u001b[39m\u001b[92m+ ReadStat v1.1.0\u001b[39m\n",
      " \u001b[90m [59d4ed8c] \u001b[39m\u001b[92m+ Snappy v0.3.0\u001b[39m\n",
      " \u001b[90m [1463e38c] \u001b[39m\u001b[92m+ StatFiles v0.8.0\u001b[39m\n",
      " \u001b[90m [856f2bd8] \u001b[39m\u001b[92m+ StructTypes v1.7.2\u001b[39m\n",
      " \u001b[90m [8d9c9c80] \u001b[39m\u001b[92m+ Thrift v0.6.2\u001b[39m\n",
      " \u001b[90m [3a884ed6] \u001b[39m\u001b[92m+ UnPack v1.0.2\u001b[39m\n",
      " \u001b[90m [fdbf4ff8] \u001b[39m\u001b[92m+ XLSX v0.7.6\u001b[39m\n",
      " \u001b[90m [94ce4f54] \u001b[39m\u001b[92m+ Libiconv_jll v1.16.1+1\u001b[39m\n",
      " \u001b[90m [a4dc8951] \u001b[39m\u001b[92m+ ReadStat_jll v1.1.5+0\u001b[39m\n",
      " \u001b[90m [02c8fc9c] \u001b[39m\u001b[92m+ XML2_jll v2.9.12+0\u001b[39m\n",
      " \u001b[90m [3161d3a3] \u001b[39m\u001b[92m+ Zstd_jll v1.5.0+0\u001b[39m\n",
      "\u001b[32m\u001b[1mPrecompiling\u001b[22m\u001b[39m project...\n",
      "\u001b[32m  ✓ \u001b[39m\u001b[90mReadOnlyArrays\u001b[39m\n",
      "\u001b[32m  ✓ \u001b[39m\u001b[90mUnPack\u001b[39m\n",
      "\u001b[32m  ✓ \u001b[39m\u001b[90mStructTypes\u001b[39m\n",
      "\u001b[32m  ✓ \u001b[39m\u001b[90mMemPool\u001b[39m\n",
      "\u001b[32m  ✓ \u001b[39m\u001b[90mLibiconv_jll\u001b[39m\n",
      "\u001b[32m  ✓ \u001b[39m\u001b[90mZstd_jll\u001b[39m\n",
      "\u001b[32m  ✓ \u001b[39m\u001b[90mElectron\u001b[39m\n",
      "\u001b[32m  ✓ \u001b[39m\u001b[90mProtoBuf\u001b[39m\n",
      "\u001b[32m  ✓ \u001b[39m\u001b[90mParameters\u001b[39m\n",
      "\u001b[32m  ✓ \u001b[39m\u001b[90mDataTables\u001b[39m\n",
      "\u001b[32m  ✓ \u001b[39m\u001b[90mCodecZstd\u001b[39m\n",
      "\u001b[32m  ✓ \u001b[39m\u001b[90mXML2_jll\u001b[39m\n",
      "\u001b[32m  ✓ \u001b[39m\u001b[90mCategoricalArrays\u001b[39m\n",
      "\u001b[32m  ✓ \u001b[39m\u001b[90mReadStat_jll\u001b[39m\n",
      "\u001b[32m  ✓ \u001b[39m\u001b[90mBinaryProvider\u001b[39m\n",
      "\u001b[32m  ✓ \u001b[39m\u001b[90mCSVFiles\u001b[39m\n",
      "\u001b[32m  ✓ \u001b[39m\u001b[90mFlatBuffers\u001b[39m\n",
      "\u001b[32m  ✓ \u001b[39m\u001b[90mSnappy\u001b[39m\n",
      "\u001b[32m  ✓ \u001b[39m\u001b[90mEzXML\u001b[39m\n",
      "\u001b[32m  ✓ \u001b[39m\u001b[90mReadStat\u001b[39m\n",
      "\u001b[32m  ✓ \u001b[39m\u001b[90mDataVoyager\u001b[39m\n",
      "\u001b[32m  ✓ \u001b[39m\u001b[90mThrift\u001b[39m\n",
      "\u001b[32m  ✓ \u001b[39m\u001b[90mArrow\u001b[39m\n",
      "\u001b[32m  ✓ \u001b[39m\u001b[90mStatFiles\u001b[39m\n",
      "\u001b[32m  ✓ \u001b[39m\u001b[90mXLSX\u001b[39m\n",
      "\u001b[32m  ✓ \u001b[39m\u001b[90mParquet\u001b[39m\n",
      "\u001b[32m  ✓ \u001b[39m\u001b[90mPyCall\u001b[39m\n",
      "\u001b[32m  ✓ \u001b[39m\u001b[90mFeatherLib\u001b[39m\n",
      "\u001b[32m  ✓ \u001b[39m\u001b[90mParquetFiles\u001b[39m\n",
      "\u001b[32m  ✓ \u001b[39m\u001b[90mFeatherFiles\u001b[39m\n",
      "\u001b[32m  ✓ \u001b[39m\u001b[90mExcelReaders\u001b[39m\n",
      "\u001b[32m  ✓ \u001b[39m\u001b[90mExcelFiles\u001b[39m\n",
      "\u001b[32m  ✓ \u001b[39mQueryverse\n",
      "  33 dependencies successfully precompiled in 36 seconds (76 already precompiled)\n"
     ]
    }
   ],
   "source": [
    "# using FileIO\n",
    "Pkg.add(\"Queryverse\")"
   ]
  },
  {
   "cell_type": "markdown",
   "metadata": {},
   "source": [
    "or loading the full Queryverse. The Queryverse has very good documentation https://www.queryverse.org/, get familiar with it."
   ]
  },
  {
   "cell_type": "code",
   "execution_count": 5,
   "metadata": {},
   "outputs": [],
   "source": [
    "using Queryverse"
   ]
  },
  {
   "cell_type": "markdown",
   "metadata": {},
   "source": [
    "and we load also the rest of the packages we need"
   ]
  },
  {
   "cell_type": "code",
   "execution_count": 6,
   "metadata": {},
   "outputs": [],
   "source": [
    "using VegaDatasets, VegaLite"
   ]
  },
  {
   "cell_type": "markdown",
   "metadata": {},
   "source": [
    "To write a csv is quite easy: pass a dataframe (or any  other format for tabular data) to `save()` specifying the name of the file you want to create:"
   ]
  },
  {
   "cell_type": "code",
   "execution_count": 7,
   "metadata": {},
   "outputs": [],
   "source": [
    "dataset(\"cars\") |>\n",
    "  save(\"Data/cars.csv\")"
   ]
  },
  {
   "cell_type": "markdown",
   "metadata": {},
   "source": [
    "Uh, what happens there? Well, let's read. Apparently, the folder \"Data\" is not there. And indeed, it is not there, yet. If we start a cell with \";\" then we can pass any shell command. We use this to create the folder we need."
   ]
  },
  {
   "cell_type": "code",
   "execution_count": 10,
   "metadata": {},
   "outputs": [
    {
     "name": "stderr",
     "output_type": "stream",
     "text": [
      "mkdir: cannot create directory 'Data': File exists\n"
     ]
    }
   ],
   "source": [
    "; mkdir Data"
   ]
  },
  {
   "cell_type": "markdown",
   "metadata": {},
   "source": [
    "And then we try again."
   ]
  },
  {
   "cell_type": "code",
   "execution_count": 11,
   "metadata": {},
   "outputs": [],
   "source": [
    "dataset(\"cars\") |>\n",
    "  save(\"Data/cars.csv\")"
   ]
  },
  {
   "cell_type": "markdown",
   "metadata": {},
   "source": [
    "Reading a csv requires to know where it is:"
   ]
  },
  {
   "cell_type": "code",
   "execution_count": 12,
   "metadata": {},
   "outputs": [
    {
     "data": {
      "application/vnd.dataresource+json": {
       "data": [
        {
         "Acceleration": 12,
         "Cylinders": 8,
         "Displacement": 307,
         "Horsepower": 130,
         "Miles_per_Gallon": 18,
         "Name": "chevrolet chevelle malibu",
         "Origin": "USA",
         "Weight_in_lbs": 3504,
         "Year": "1970-01-01"
        },
        {
         "Acceleration": 11.5,
         "Cylinders": 8,
         "Displacement": 350,
         "Horsepower": 165,
         "Miles_per_Gallon": 15,
         "Name": "buick skylark 320",
         "Origin": "USA",
         "Weight_in_lbs": 3693,
         "Year": "1970-01-01"
        },
        {
         "Acceleration": 11,
         "Cylinders": 8,
         "Displacement": 318,
         "Horsepower": 150,
         "Miles_per_Gallon": 18,
         "Name": "plymouth satellite",
         "Origin": "USA",
         "Weight_in_lbs": 3436,
         "Year": "1970-01-01"
        },
        {
         "Acceleration": 12,
         "Cylinders": 8,
         "Displacement": 304,
         "Horsepower": 150,
         "Miles_per_Gallon": 16,
         "Name": "amc rebel sst",
         "Origin": "USA",
         "Weight_in_lbs": 3433,
         "Year": "1970-01-01"
        },
        {
         "Acceleration": 10.5,
         "Cylinders": 8,
         "Displacement": 302,
         "Horsepower": 140,
         "Miles_per_Gallon": 17,
         "Name": "ford torino",
         "Origin": "USA",
         "Weight_in_lbs": 3449,
         "Year": "1970-01-01"
        },
        {
         "Acceleration": 10,
         "Cylinders": 8,
         "Displacement": 429,
         "Horsepower": 198,
         "Miles_per_Gallon": 15,
         "Name": "ford galaxie 500",
         "Origin": "USA",
         "Weight_in_lbs": 4341,
         "Year": "1970-01-01"
        },
        {
         "Acceleration": 9,
         "Cylinders": 8,
         "Displacement": 454,
         "Horsepower": 220,
         "Miles_per_Gallon": 14,
         "Name": "chevrolet impala",
         "Origin": "USA",
         "Weight_in_lbs": 4354,
         "Year": "1970-01-01"
        },
        {
         "Acceleration": 8.5,
         "Cylinders": 8,
         "Displacement": 440,
         "Horsepower": 215,
         "Miles_per_Gallon": 14,
         "Name": "plymouth fury iii",
         "Origin": "USA",
         "Weight_in_lbs": 4312,
         "Year": "1970-01-01"
        },
        {
         "Acceleration": 10,
         "Cylinders": 8,
         "Displacement": 455,
         "Horsepower": 225,
         "Miles_per_Gallon": 14,
         "Name": "pontiac catalina",
         "Origin": "USA",
         "Weight_in_lbs": 4425,
         "Year": "1970-01-01"
        },
        {
         "Acceleration": 8.5,
         "Cylinders": 8,
         "Displacement": 390,
         "Horsepower": 190,
         "Miles_per_Gallon": 15,
         "Name": "amc ambassador dpl",
         "Origin": "USA",
         "Weight_in_lbs": 3850,
         "Year": "1970-01-01"
        },
        {
         "Acceleration": 17.5,
         "Cylinders": 4,
         "Displacement": 133,
         "Horsepower": 115,
         "Miles_per_Gallon": null,
         "Name": "citroen ds-21 pallas",
         "Origin": "Europe",
         "Weight_in_lbs": 3090,
         "Year": "1970-01-01"
        },
        {
         "Acceleration": 11.5,
         "Cylinders": 8,
         "Displacement": 350,
         "Horsepower": 165,
         "Miles_per_Gallon": null,
         "Name": "chevrolet chevelle concours (sw)",
         "Origin": "USA",
         "Weight_in_lbs": 4142,
         "Year": "1970-01-01"
        },
        {
         "Acceleration": 11,
         "Cylinders": 8,
         "Displacement": 351,
         "Horsepower": 153,
         "Miles_per_Gallon": null,
         "Name": "ford torino (sw)",
         "Origin": "USA",
         "Weight_in_lbs": 4034,
         "Year": "1970-01-01"
        },
        {
         "Acceleration": 10.5,
         "Cylinders": 8,
         "Displacement": 383,
         "Horsepower": 175,
         "Miles_per_Gallon": null,
         "Name": "plymouth satellite (sw)",
         "Origin": "USA",
         "Weight_in_lbs": 4166,
         "Year": "1970-01-01"
        },
        {
         "Acceleration": 11,
         "Cylinders": 8,
         "Displacement": 360,
         "Horsepower": 175,
         "Miles_per_Gallon": null,
         "Name": "amc rebel sst (sw)",
         "Origin": "USA",
         "Weight_in_lbs": 3850,
         "Year": "1970-01-01"
        },
        {
         "Acceleration": 10,
         "Cylinders": 8,
         "Displacement": 383,
         "Horsepower": 170,
         "Miles_per_Gallon": 15,
         "Name": "dodge challenger se",
         "Origin": "USA",
         "Weight_in_lbs": 3563,
         "Year": "1970-01-01"
        },
        {
         "Acceleration": 8,
         "Cylinders": 8,
         "Displacement": 340,
         "Horsepower": 160,
         "Miles_per_Gallon": 14,
         "Name": "plymouth 'cuda 340",
         "Origin": "USA",
         "Weight_in_lbs": 3609,
         "Year": "1970-01-01"
        },
        {
         "Acceleration": 8,
         "Cylinders": 8,
         "Displacement": 302,
         "Horsepower": 140,
         "Miles_per_Gallon": null,
         "Name": "ford mustang boss 302",
         "Origin": "USA",
         "Weight_in_lbs": 3353,
         "Year": "1970-01-01"
        },
        {
         "Acceleration": 9.5,
         "Cylinders": 8,
         "Displacement": 400,
         "Horsepower": 150,
         "Miles_per_Gallon": 15,
         "Name": "chevrolet monte carlo",
         "Origin": "USA",
         "Weight_in_lbs": 3761,
         "Year": "1970-01-01"
        },
        {
         "Acceleration": 10,
         "Cylinders": 8,
         "Displacement": 455,
         "Horsepower": 225,
         "Miles_per_Gallon": 14,
         "Name": "buick estate wagon (sw)",
         "Origin": "USA",
         "Weight_in_lbs": 3086,
         "Year": "1970-01-01"
        },
        {
         "Acceleration": 15,
         "Cylinders": 4,
         "Displacement": 113,
         "Horsepower": 95,
         "Miles_per_Gallon": 24,
         "Name": "toyota corona mark ii",
         "Origin": "Japan",
         "Weight_in_lbs": 2372,
         "Year": "1970-01-01"
        },
        {
         "Acceleration": 15.5,
         "Cylinders": 6,
         "Displacement": 198,
         "Horsepower": 95,
         "Miles_per_Gallon": 22,
         "Name": "plymouth duster",
         "Origin": "USA",
         "Weight_in_lbs": 2833,
         "Year": "1970-01-01"
        },
        {
         "Acceleration": 15.5,
         "Cylinders": 6,
         "Displacement": 199,
         "Horsepower": 97,
         "Miles_per_Gallon": 18,
         "Name": "amc hornet",
         "Origin": "USA",
         "Weight_in_lbs": 2774,
         "Year": "1970-01-01"
        },
        {
         "Acceleration": 16,
         "Cylinders": 6,
         "Displacement": 200,
         "Horsepower": 85,
         "Miles_per_Gallon": 21,
         "Name": "ford maverick",
         "Origin": "USA",
         "Weight_in_lbs": 2587,
         "Year": "1970-01-01"
        },
        {
         "Acceleration": 14.5,
         "Cylinders": 4,
         "Displacement": 97,
         "Horsepower": 88,
         "Miles_per_Gallon": 27,
         "Name": "datsun pl510",
         "Origin": "Japan",
         "Weight_in_lbs": 2130,
         "Year": "1970-01-01"
        },
        {
         "Acceleration": 20.5,
         "Cylinders": 4,
         "Displacement": 97,
         "Horsepower": 46,
         "Miles_per_Gallon": 26,
         "Name": "volkswagen 1131 deluxe sedan",
         "Origin": "Europe",
         "Weight_in_lbs": 1835,
         "Year": "1970-01-01"
        },
        {
         "Acceleration": 17.5,
         "Cylinders": 4,
         "Displacement": 110,
         "Horsepower": 87,
         "Miles_per_Gallon": 25,
         "Name": "peugeot 504",
         "Origin": "Europe",
         "Weight_in_lbs": 2672,
         "Year": "1970-01-01"
        },
        {
         "Acceleration": 14.5,
         "Cylinders": 4,
         "Displacement": 107,
         "Horsepower": 90,
         "Miles_per_Gallon": 24,
         "Name": "audi 100 ls",
         "Origin": "Europe",
         "Weight_in_lbs": 2430,
         "Year": "1970-01-01"
        },
        {
         "Acceleration": 17.5,
         "Cylinders": 4,
         "Displacement": 104,
         "Horsepower": 95,
         "Miles_per_Gallon": 25,
         "Name": "saab 99e",
         "Origin": "Europe",
         "Weight_in_lbs": 2375,
         "Year": "1970-01-01"
        },
        {
         "Acceleration": 12.5,
         "Cylinders": 4,
         "Displacement": 121,
         "Horsepower": 113,
         "Miles_per_Gallon": 26,
         "Name": "bmw 2002",
         "Origin": "Europe",
         "Weight_in_lbs": 2234,
         "Year": "1970-01-01"
        },
        {
         "Acceleration": 15,
         "Cylinders": 6,
         "Displacement": 199,
         "Horsepower": 90,
         "Miles_per_Gallon": 21,
         "Name": "amc gremlin",
         "Origin": "USA",
         "Weight_in_lbs": 2648,
         "Year": "1970-01-01"
        },
        {
         "Acceleration": 14,
         "Cylinders": 8,
         "Displacement": 360,
         "Horsepower": 215,
         "Miles_per_Gallon": 10,
         "Name": "ford f250",
         "Origin": "USA",
         "Weight_in_lbs": 4615,
         "Year": "1970-01-01"
        },
        {
         "Acceleration": 15,
         "Cylinders": 8,
         "Displacement": 307,
         "Horsepower": 200,
         "Miles_per_Gallon": 10,
         "Name": "chevy c20",
         "Origin": "USA",
         "Weight_in_lbs": 4376,
         "Year": "1970-01-01"
        },
        {
         "Acceleration": 13.5,
         "Cylinders": 8,
         "Displacement": 318,
         "Horsepower": 210,
         "Miles_per_Gallon": 11,
         "Name": "dodge d200",
         "Origin": "USA",
         "Weight_in_lbs": 4382,
         "Year": "1970-01-01"
        },
        {
         "Acceleration": 18.5,
         "Cylinders": 8,
         "Displacement": 304,
         "Horsepower": 193,
         "Miles_per_Gallon": 9,
         "Name": "hi 1200d",
         "Origin": "USA",
         "Weight_in_lbs": 4732,
         "Year": "1970-01-01"
        },
        {
         "Acceleration": 14.5,
         "Cylinders": 4,
         "Displacement": 97,
         "Horsepower": 88,
         "Miles_per_Gallon": 27,
         "Name": "datsun pl510",
         "Origin": "Japan",
         "Weight_in_lbs": 2130,
         "Year": "1971-01-01"
        },
        {
         "Acceleration": 15.5,
         "Cylinders": 4,
         "Displacement": 140,
         "Horsepower": 90,
         "Miles_per_Gallon": 28,
         "Name": "chevrolet vega 2300",
         "Origin": "USA",
         "Weight_in_lbs": 2264,
         "Year": "1971-01-01"
        },
        {
         "Acceleration": 14,
         "Cylinders": 4,
         "Displacement": 113,
         "Horsepower": 95,
         "Miles_per_Gallon": 25,
         "Name": "toyota corona",
         "Origin": "Japan",
         "Weight_in_lbs": 2228,
         "Year": "1971-01-01"
        },
        {
         "Acceleration": 19,
         "Cylinders": 4,
         "Displacement": 98,
         "Horsepower": null,
         "Miles_per_Gallon": 25,
         "Name": "ford pinto",
         "Origin": "USA",
         "Weight_in_lbs": 2046,
         "Year": "1971-01-01"
        },
        {
         "Acceleration": 20,
         "Cylinders": 4,
         "Displacement": 97,
         "Horsepower": 48,
         "Miles_per_Gallon": null,
         "Name": "volkswagen super beetle 117",
         "Origin": "Europe",
         "Weight_in_lbs": 1978,
         "Year": "1971-01-01"
        },
        {
         "Acceleration": 13,
         "Cylinders": 6,
         "Displacement": 232,
         "Horsepower": 100,
         "Miles_per_Gallon": 19,
         "Name": "amc gremlin",
         "Origin": "USA",
         "Weight_in_lbs": 2634,
         "Year": "1971-01-01"
        },
        {
         "Acceleration": 15.5,
         "Cylinders": 6,
         "Displacement": 225,
         "Horsepower": 105,
         "Miles_per_Gallon": 16,
         "Name": "plymouth satellite custom",
         "Origin": "USA",
         "Weight_in_lbs": 3439,
         "Year": "1971-01-01"
        },
        {
         "Acceleration": 15.5,
         "Cylinders": 6,
         "Displacement": 250,
         "Horsepower": 100,
         "Miles_per_Gallon": 17,
         "Name": "chevrolet chevelle malibu",
         "Origin": "USA",
         "Weight_in_lbs": 3329,
         "Year": "1971-01-01"
        },
        {
         "Acceleration": 15.5,
         "Cylinders": 6,
         "Displacement": 250,
         "Horsepower": 88,
         "Miles_per_Gallon": 19,
         "Name": "ford torino 500",
         "Origin": "USA",
         "Weight_in_lbs": 3302,
         "Year": "1971-01-01"
        },
        {
         "Acceleration": 15.5,
         "Cylinders": 6,
         "Displacement": 232,
         "Horsepower": 100,
         "Miles_per_Gallon": 18,
         "Name": "amc matador",
         "Origin": "USA",
         "Weight_in_lbs": 3288,
         "Year": "1971-01-01"
        },
        {
         "Acceleration": 12,
         "Cylinders": 8,
         "Displacement": 350,
         "Horsepower": 165,
         "Miles_per_Gallon": 14,
         "Name": "chevrolet impala",
         "Origin": "USA",
         "Weight_in_lbs": 4209,
         "Year": "1971-01-01"
        },
        {
         "Acceleration": 11.5,
         "Cylinders": 8,
         "Displacement": 400,
         "Horsepower": 175,
         "Miles_per_Gallon": 14,
         "Name": "pontiac catalina brougham",
         "Origin": "USA",
         "Weight_in_lbs": 4464,
         "Year": "1971-01-01"
        },
        {
         "Acceleration": 13.5,
         "Cylinders": 8,
         "Displacement": 351,
         "Horsepower": 153,
         "Miles_per_Gallon": 14,
         "Name": "ford galaxie 500",
         "Origin": "USA",
         "Weight_in_lbs": 4154,
         "Year": "1971-01-01"
        },
        {
         "Acceleration": 13,
         "Cylinders": 8,
         "Displacement": 318,
         "Horsepower": 150,
         "Miles_per_Gallon": 14,
         "Name": "plymouth fury iii",
         "Origin": "USA",
         "Weight_in_lbs": 4096,
         "Year": "1971-01-01"
        },
        {
         "Acceleration": 11.5,
         "Cylinders": 8,
         "Displacement": 383,
         "Horsepower": 180,
         "Miles_per_Gallon": 12,
         "Name": "dodge monaco (sw)",
         "Origin": "USA",
         "Weight_in_lbs": 4955,
         "Year": "1971-01-01"
        },
        {
         "Acceleration": 12,
         "Cylinders": 8,
         "Displacement": 400,
         "Horsepower": 170,
         "Miles_per_Gallon": 13,
         "Name": "ford country squire (sw)",
         "Origin": "USA",
         "Weight_in_lbs": 4746,
         "Year": "1971-01-01"
        },
        {
         "Acceleration": 12,
         "Cylinders": 8,
         "Displacement": 400,
         "Horsepower": 175,
         "Miles_per_Gallon": 13,
         "Name": "pontiac safari (sw)",
         "Origin": "USA",
         "Weight_in_lbs": 5140,
         "Year": "1971-01-01"
        },
        {
         "Acceleration": 13.5,
         "Cylinders": 6,
         "Displacement": 258,
         "Horsepower": 110,
         "Miles_per_Gallon": 18,
         "Name": "amc hornet sportabout (sw)",
         "Origin": "USA",
         "Weight_in_lbs": 2962,
         "Year": "1971-01-01"
        },
        {
         "Acceleration": 19,
         "Cylinders": 4,
         "Displacement": 140,
         "Horsepower": 72,
         "Miles_per_Gallon": 22,
         "Name": "chevrolet vega (sw)",
         "Origin": "USA",
         "Weight_in_lbs": 2408,
         "Year": "1971-01-01"
        },
        {
         "Acceleration": 15,
         "Cylinders": 6,
         "Displacement": 250,
         "Horsepower": 100,
         "Miles_per_Gallon": 19,
         "Name": "pontiac firebird",
         "Origin": "USA",
         "Weight_in_lbs": 3282,
         "Year": "1971-01-01"
        },
        {
         "Acceleration": 14.5,
         "Cylinders": 6,
         "Displacement": 250,
         "Horsepower": 88,
         "Miles_per_Gallon": 18,
         "Name": "ford mustang",
         "Origin": "USA",
         "Weight_in_lbs": 3139,
         "Year": "1971-01-01"
        },
        {
         "Acceleration": 14,
         "Cylinders": 4,
         "Displacement": 122,
         "Horsepower": 86,
         "Miles_per_Gallon": 23,
         "Name": "mercury capri 2000",
         "Origin": "USA",
         "Weight_in_lbs": 2220,
         "Year": "1971-01-01"
        },
        {
         "Acceleration": 14,
         "Cylinders": 4,
         "Displacement": 116,
         "Horsepower": 90,
         "Miles_per_Gallon": 28,
         "Name": "opel 1900",
         "Origin": "Europe",
         "Weight_in_lbs": 2123,
         "Year": "1971-01-01"
        },
        {
         "Acceleration": 19.5,
         "Cylinders": 4,
         "Displacement": 79,
         "Horsepower": 70,
         "Miles_per_Gallon": 30,
         "Name": "peugeot 304",
         "Origin": "Europe",
         "Weight_in_lbs": 2074,
         "Year": "1971-01-01"
        },
        {
         "Acceleration": 14.5,
         "Cylinders": 4,
         "Displacement": 88,
         "Horsepower": 76,
         "Miles_per_Gallon": 30,
         "Name": "fiat 124b",
         "Origin": "Europe",
         "Weight_in_lbs": 2065,
         "Year": "1971-01-01"
        },
        {
         "Acceleration": 19,
         "Cylinders": 4,
         "Displacement": 71,
         "Horsepower": 65,
         "Miles_per_Gallon": 31,
         "Name": "toyota corolla 1200",
         "Origin": "Japan",
         "Weight_in_lbs": 1773,
         "Year": "1971-01-01"
        },
        {
         "Acceleration": 18,
         "Cylinders": 4,
         "Displacement": 72,
         "Horsepower": 69,
         "Miles_per_Gallon": 35,
         "Name": "datsun 1200",
         "Origin": "Japan",
         "Weight_in_lbs": 1613,
         "Year": "1971-01-01"
        },
        {
         "Acceleration": 19,
         "Cylinders": 4,
         "Displacement": 97,
         "Horsepower": 60,
         "Miles_per_Gallon": 27,
         "Name": "volkswagen model 111",
         "Origin": "Europe",
         "Weight_in_lbs": 1834,
         "Year": "1971-01-01"
        },
        {
         "Acceleration": 20.5,
         "Cylinders": 4,
         "Displacement": 91,
         "Horsepower": 70,
         "Miles_per_Gallon": 26,
         "Name": "plymouth cricket",
         "Origin": "USA",
         "Weight_in_lbs": 1955,
         "Year": "1971-01-01"
        },
        {
         "Acceleration": 15.5,
         "Cylinders": 4,
         "Displacement": 113,
         "Horsepower": 95,
         "Miles_per_Gallon": 24,
         "Name": "toyota corona hardtop",
         "Origin": "Japan",
         "Weight_in_lbs": 2278,
         "Year": "1972-01-01"
        },
        {
         "Acceleration": 17,
         "Cylinders": 4,
         "Displacement": 97.5,
         "Horsepower": 80,
         "Miles_per_Gallon": 25,
         "Name": "dodge colt hardtop",
         "Origin": "USA",
         "Weight_in_lbs": 2126,
         "Year": "1972-01-01"
        },
        {
         "Acceleration": 23.5,
         "Cylinders": 4,
         "Displacement": 97,
         "Horsepower": 54,
         "Miles_per_Gallon": 23,
         "Name": "volkswagen type 3",
         "Origin": "Europe",
         "Weight_in_lbs": 2254,
         "Year": "1972-01-01"
        },
        {
         "Acceleration": 19.5,
         "Cylinders": 4,
         "Displacement": 140,
         "Horsepower": 90,
         "Miles_per_Gallon": 20,
         "Name": "chevrolet vega",
         "Origin": "USA",
         "Weight_in_lbs": 2408,
         "Year": "1972-01-01"
        },
        {
         "Acceleration": 16.5,
         "Cylinders": 4,
         "Displacement": 122,
         "Horsepower": 86,
         "Miles_per_Gallon": 21,
         "Name": "ford pinto runabout",
         "Origin": "USA",
         "Weight_in_lbs": 2226,
         "Year": "1972-01-01"
        },
        {
         "Acceleration": 12,
         "Cylinders": 8,
         "Displacement": 350,
         "Horsepower": 165,
         "Miles_per_Gallon": 13,
         "Name": "chevrolet impala",
         "Origin": "USA",
         "Weight_in_lbs": 4274,
         "Year": "1972-01-01"
        },
        {
         "Acceleration": 12,
         "Cylinders": 8,
         "Displacement": 400,
         "Horsepower": 175,
         "Miles_per_Gallon": 14,
         "Name": "pontiac catalina",
         "Origin": "USA",
         "Weight_in_lbs": 4385,
         "Year": "1972-01-01"
        },
        {
         "Acceleration": 13.5,
         "Cylinders": 8,
         "Displacement": 318,
         "Horsepower": 150,
         "Miles_per_Gallon": 15,
         "Name": "plymouth fury iii",
         "Origin": "USA",
         "Weight_in_lbs": 4135,
         "Year": "1972-01-01"
        },
        {
         "Acceleration": 13,
         "Cylinders": 8,
         "Displacement": 351,
         "Horsepower": 153,
         "Miles_per_Gallon": 14,
         "Name": "ford galaxie 500",
         "Origin": "USA",
         "Weight_in_lbs": 4129,
         "Year": "1972-01-01"
        },
        {
         "Acceleration": 11.5,
         "Cylinders": 8,
         "Displacement": 304,
         "Horsepower": 150,
         "Miles_per_Gallon": 17,
         "Name": "amc ambassador sst",
         "Origin": "USA",
         "Weight_in_lbs": 3672,
         "Year": "1972-01-01"
        },
        {
         "Acceleration": 11,
         "Cylinders": 8,
         "Displacement": 429,
         "Horsepower": 208,
         "Miles_per_Gallon": 11,
         "Name": "mercury marquis",
         "Origin": "USA",
         "Weight_in_lbs": 4633,
         "Year": "1972-01-01"
        },
        {
         "Acceleration": 13.5,
         "Cylinders": 8,
         "Displacement": 350,
         "Horsepower": 155,
         "Miles_per_Gallon": 13,
         "Name": "buick lesabre custom",
         "Origin": "USA",
         "Weight_in_lbs": 4502,
         "Year": "1972-01-01"
        },
        {
         "Acceleration": 13.5,
         "Cylinders": 8,
         "Displacement": 350,
         "Horsepower": 160,
         "Miles_per_Gallon": 12,
         "Name": "oldsmobile delta 88 royale",
         "Origin": "USA",
         "Weight_in_lbs": 4456,
         "Year": "1972-01-01"
        },
        {
         "Acceleration": 12.5,
         "Cylinders": 8,
         "Displacement": 400,
         "Horsepower": 190,
         "Miles_per_Gallon": 13,
         "Name": "chrysler newport royal",
         "Origin": "USA",
         "Weight_in_lbs": 4422,
         "Year": "1972-01-01"
        },
        {
         "Acceleration": 13.5,
         "Cylinders": 3,
         "Displacement": 70,
         "Horsepower": 97,
         "Miles_per_Gallon": 19,
         "Name": "mazda rx2 coupe",
         "Origin": "Japan",
         "Weight_in_lbs": 2330,
         "Year": "1972-01-01"
        },
        {
         "Acceleration": 12.5,
         "Cylinders": 8,
         "Displacement": 304,
         "Horsepower": 150,
         "Miles_per_Gallon": 15,
         "Name": "amc matador (sw)",
         "Origin": "USA",
         "Weight_in_lbs": 3892,
         "Year": "1972-01-01"
        },
        {
         "Acceleration": 14,
         "Cylinders": 8,
         "Displacement": 307,
         "Horsepower": 130,
         "Miles_per_Gallon": 13,
         "Name": "chevrolet chevelle concours (sw)",
         "Origin": "USA",
         "Weight_in_lbs": 4098,
         "Year": "1972-01-01"
        },
        {
         "Acceleration": 16,
         "Cylinders": 8,
         "Displacement": 302,
         "Horsepower": 140,
         "Miles_per_Gallon": 13,
         "Name": "ford gran torino (sw)",
         "Origin": "USA",
         "Weight_in_lbs": 4294,
         "Year": "1972-01-01"
        },
        {
         "Acceleration": 14,
         "Cylinders": 8,
         "Displacement": 318,
         "Horsepower": 150,
         "Miles_per_Gallon": 14,
         "Name": "plymouth satellite custom (sw)",
         "Origin": "USA",
         "Weight_in_lbs": 4077,
         "Year": "1972-01-01"
        },
        {
         "Acceleration": 14.5,
         "Cylinders": 4,
         "Displacement": 121,
         "Horsepower": 112,
         "Miles_per_Gallon": 18,
         "Name": "volvo 145e (sw)",
         "Origin": "Europe",
         "Weight_in_lbs": 2933,
         "Year": "1972-01-01"
        },
        {
         "Acceleration": 18,
         "Cylinders": 4,
         "Displacement": 121,
         "Horsepower": 76,
         "Miles_per_Gallon": 22,
         "Name": "volkswagen 411 (sw)",
         "Origin": "Europe",
         "Weight_in_lbs": 2511,
         "Year": "1972-01-01"
        },
        {
         "Acceleration": 19.5,
         "Cylinders": 4,
         "Displacement": 120,
         "Horsepower": 87,
         "Miles_per_Gallon": 21,
         "Name": "peugeot 504 (sw)",
         "Origin": "Europe",
         "Weight_in_lbs": 2979,
         "Year": "1972-01-01"
        },
        {
         "Acceleration": 18,
         "Cylinders": 4,
         "Displacement": 96,
         "Horsepower": 69,
         "Miles_per_Gallon": 26,
         "Name": "renault 12 (sw)",
         "Origin": "Europe",
         "Weight_in_lbs": 2189,
         "Year": "1972-01-01"
        },
        {
         "Acceleration": 16,
         "Cylinders": 4,
         "Displacement": 122,
         "Horsepower": 86,
         "Miles_per_Gallon": 22,
         "Name": "ford pinto (sw)",
         "Origin": "USA",
         "Weight_in_lbs": 2395,
         "Year": "1972-01-01"
        },
        {
         "Acceleration": 17,
         "Cylinders": 4,
         "Displacement": 97,
         "Horsepower": 92,
         "Miles_per_Gallon": 28,
         "Name": "datsun 510 (sw)",
         "Origin": "Japan",
         "Weight_in_lbs": 2288,
         "Year": "1972-01-01"
        },
        {
         "Acceleration": 14.5,
         "Cylinders": 4,
         "Displacement": 120,
         "Horsepower": 97,
         "Miles_per_Gallon": 23,
         "Name": "toyouta corona mark ii (sw)",
         "Origin": "Japan",
         "Weight_in_lbs": 2506,
         "Year": "1972-01-01"
        },
        {
         "Acceleration": 15,
         "Cylinders": 4,
         "Displacement": 98,
         "Horsepower": 80,
         "Miles_per_Gallon": 28,
         "Name": "dodge colt (sw)",
         "Origin": "USA",
         "Weight_in_lbs": 2164,
         "Year": "1972-01-01"
        },
        {
         "Acceleration": 16.5,
         "Cylinders": 4,
         "Displacement": 97,
         "Horsepower": 88,
         "Miles_per_Gallon": 27,
         "Name": "toyota corolla 1600 (sw)",
         "Origin": "Japan",
         "Weight_in_lbs": 2100,
         "Year": "1972-01-01"
        },
        {
         "Acceleration": 13,
         "Cylinders": 8,
         "Displacement": 350,
         "Horsepower": 175,
         "Miles_per_Gallon": 13,
         "Name": "buick century 350",
         "Origin": "USA",
         "Weight_in_lbs": 4100,
         "Year": "1973-01-01"
        },
        {
         "Acceleration": 11.5,
         "Cylinders": 8,
         "Displacement": 304,
         "Horsepower": 150,
         "Miles_per_Gallon": 14,
         "Name": "amc matador",
         "Origin": "USA",
         "Weight_in_lbs": 3672,
         "Year": "1973-01-01"
        },
        {
         "Acceleration": 13,
         "Cylinders": 8,
         "Displacement": 350,
         "Horsepower": 145,
         "Miles_per_Gallon": 13,
         "Name": "chevrolet malibu",
         "Origin": "USA",
         "Weight_in_lbs": 3988,
         "Year": "1973-01-01"
        },
        {
         "Acceleration": 14.5,
         "Cylinders": 8,
         "Displacement": 302,
         "Horsepower": 137,
         "Miles_per_Gallon": 14,
         "Name": "ford gran torino",
         "Origin": "USA",
         "Weight_in_lbs": 4042,
         "Year": "1973-01-01"
        },
        {
         "Acceleration": 12.5,
         "Cylinders": 8,
         "Displacement": 318,
         "Horsepower": 150,
         "Miles_per_Gallon": 15,
         "Name": "dodge coronet custom",
         "Origin": "USA",
         "Weight_in_lbs": 3777,
         "Year": "1973-01-01"
        },
        {
         "Acceleration": 11.5,
         "Cylinders": 8,
         "Displacement": 429,
         "Horsepower": 198,
         "Miles_per_Gallon": 12,
         "Name": "mercury marquis brougham",
         "Origin": "USA",
         "Weight_in_lbs": 4952,
         "Year": "1973-01-01"
        },
        {
         "Acceleration": 12,
         "Cylinders": 8,
         "Displacement": 400,
         "Horsepower": 150,
         "Miles_per_Gallon": 13,
         "Name": "chevrolet caprice classic",
         "Origin": "USA",
         "Weight_in_lbs": 4464,
         "Year": "1973-01-01"
        },
        {
         "Acceleration": 13,
         "Cylinders": 8,
         "Displacement": 351,
         "Horsepower": 158,
         "Miles_per_Gallon": 13,
         "Name": "ford ltd",
         "Origin": "USA",
         "Weight_in_lbs": 4363,
         "Year": "1973-01-01"
        },
        {
         "Acceleration": 14.5,
         "Cylinders": 8,
         "Displacement": 318,
         "Horsepower": 150,
         "Miles_per_Gallon": 14,
         "Name": "plymouth fury gran sedan",
         "Origin": "USA",
         "Weight_in_lbs": 4237,
         "Year": "1973-01-01"
        },
        {
         "Acceleration": 11,
         "Cylinders": 8,
         "Displacement": 440,
         "Horsepower": 215,
         "Miles_per_Gallon": 13,
         "Name": "chrysler new yorker brougham",
         "Origin": "USA",
         "Weight_in_lbs": 4735,
         "Year": "1973-01-01"
        },
        {
         "Acceleration": 11,
         "Cylinders": 8,
         "Displacement": 455,
         "Horsepower": 225,
         "Miles_per_Gallon": 12,
         "Name": "buick electra 225 custom",
         "Origin": "USA",
         "Weight_in_lbs": 4951,
         "Year": "1973-01-01"
        },
        {
         "Acceleration": 11,
         "Cylinders": 8,
         "Displacement": 360,
         "Horsepower": 175,
         "Miles_per_Gallon": 13,
         "Name": "amc ambassador brougham",
         "Origin": "USA",
         "Weight_in_lbs": 3821,
         "Year": "1973-01-01"
        },
        {
         "Acceleration": 16.5,
         "Cylinders": 6,
         "Displacement": 225,
         "Horsepower": 105,
         "Miles_per_Gallon": 18,
         "Name": "plymouth valiant",
         "Origin": "USA",
         "Weight_in_lbs": 3121,
         "Year": "1973-01-01"
        },
        {
         "Acceleration": 18,
         "Cylinders": 6,
         "Displacement": 250,
         "Horsepower": 100,
         "Miles_per_Gallon": 16,
         "Name": "chevrolet nova custom",
         "Origin": "USA",
         "Weight_in_lbs": 3278,
         "Year": "1973-01-01"
        },
        {
         "Acceleration": 16,
         "Cylinders": 6,
         "Displacement": 232,
         "Horsepower": 100,
         "Miles_per_Gallon": 18,
         "Name": "amc hornet",
         "Origin": "USA",
         "Weight_in_lbs": 2945,
         "Year": "1973-01-01"
        },
        {
         "Acceleration": 16.5,
         "Cylinders": 6,
         "Displacement": 250,
         "Horsepower": 88,
         "Miles_per_Gallon": 18,
         "Name": "ford maverick",
         "Origin": "USA",
         "Weight_in_lbs": 3021,
         "Year": "1973-01-01"
        },
        {
         "Acceleration": 16,
         "Cylinders": 6,
         "Displacement": 198,
         "Horsepower": 95,
         "Miles_per_Gallon": 23,
         "Name": "plymouth duster",
         "Origin": "USA",
         "Weight_in_lbs": 2904,
         "Year": "1973-01-01"
        },
        {
         "Acceleration": 21,
         "Cylinders": 4,
         "Displacement": 97,
         "Horsepower": 46,
         "Miles_per_Gallon": 26,
         "Name": "volkswagen super beetle",
         "Origin": "Europe",
         "Weight_in_lbs": 1950,
         "Year": "1973-01-01"
        },
        {
         "Acceleration": 14,
         "Cylinders": 8,
         "Displacement": 400,
         "Horsepower": 150,
         "Miles_per_Gallon": 11,
         "Name": "chevrolet impala",
         "Origin": "USA",
         "Weight_in_lbs": 4997,
         "Year": "1973-01-01"
        },
        {
         "Acceleration": 12.5,
         "Cylinders": 8,
         "Displacement": 400,
         "Horsepower": 167,
         "Miles_per_Gallon": 12,
         "Name": "ford country",
         "Origin": "USA",
         "Weight_in_lbs": 4906,
         "Year": "1973-01-01"
        },
        {
         "Acceleration": 13,
         "Cylinders": 8,
         "Displacement": 360,
         "Horsepower": 170,
         "Miles_per_Gallon": 13,
         "Name": "plymouth custom suburb",
         "Origin": "USA",
         "Weight_in_lbs": 4654,
         "Year": "1973-01-01"
        },
        {
         "Acceleration": 12.5,
         "Cylinders": 8,
         "Displacement": 350,
         "Horsepower": 180,
         "Miles_per_Gallon": 12,
         "Name": "oldsmobile vista cruiser",
         "Origin": "USA",
         "Weight_in_lbs": 4499,
         "Year": "1973-01-01"
        },
        {
         "Acceleration": 15,
         "Cylinders": 6,
         "Displacement": 232,
         "Horsepower": 100,
         "Miles_per_Gallon": 18,
         "Name": "amc gremlin",
         "Origin": "USA",
         "Weight_in_lbs": 2789,
         "Year": "1973-01-01"
        },
        {
         "Acceleration": 19,
         "Cylinders": 4,
         "Displacement": 97,
         "Horsepower": 88,
         "Miles_per_Gallon": 20,
         "Name": "toyota carina",
         "Origin": "Japan",
         "Weight_in_lbs": 2279,
         "Year": "1973-01-01"
        },
        {
         "Acceleration": 19.5,
         "Cylinders": 4,
         "Displacement": 140,
         "Horsepower": 72,
         "Miles_per_Gallon": 21,
         "Name": "chevrolet vega",
         "Origin": "USA",
         "Weight_in_lbs": 2401,
         "Year": "1973-01-01"
        },
        {
         "Acceleration": 16.5,
         "Cylinders": 4,
         "Displacement": 108,
         "Horsepower": 94,
         "Miles_per_Gallon": 22,
         "Name": "datsun 610",
         "Origin": "Japan",
         "Weight_in_lbs": 2379,
         "Year": "1973-01-01"
        },
        {
         "Acceleration": 13.5,
         "Cylinders": 3,
         "Displacement": 70,
         "Horsepower": 90,
         "Miles_per_Gallon": 18,
         "Name": "maxda rx3",
         "Origin": "Japan",
         "Weight_in_lbs": 2124,
         "Year": "1973-01-01"
        },
        {
         "Acceleration": 18.5,
         "Cylinders": 4,
         "Displacement": 122,
         "Horsepower": 85,
         "Miles_per_Gallon": 19,
         "Name": "ford pinto",
         "Origin": "USA",
         "Weight_in_lbs": 2310,
         "Year": "1973-01-01"
        },
        {
         "Acceleration": 14,
         "Cylinders": 6,
         "Displacement": 155,
         "Horsepower": 107,
         "Miles_per_Gallon": 21,
         "Name": "mercury capri v6",
         "Origin": "USA",
         "Weight_in_lbs": 2472,
         "Year": "1973-01-01"
        },
        {
         "Acceleration": 15.5,
         "Cylinders": 4,
         "Displacement": 98,
         "Horsepower": 90,
         "Miles_per_Gallon": 26,
         "Name": "fiat 124 sport coupe",
         "Origin": "Europe",
         "Weight_in_lbs": 2265,
         "Year": "1973-01-01"
        },
        {
         "Acceleration": 13,
         "Cylinders": 8,
         "Displacement": 350,
         "Horsepower": 145,
         "Miles_per_Gallon": 15,
         "Name": "chevrolet monte carlo s",
         "Origin": "USA",
         "Weight_in_lbs": 4082,
         "Year": "1973-01-01"
        },
        {
         "Acceleration": 9.5,
         "Cylinders": 8,
         "Displacement": 400,
         "Horsepower": 230,
         "Miles_per_Gallon": 16,
         "Name": "pontiac grand prix",
         "Origin": "USA",
         "Weight_in_lbs": 4278,
         "Year": "1973-01-01"
        },
        {
         "Acceleration": 19.5,
         "Cylinders": 4,
         "Displacement": 68,
         "Horsepower": 49,
         "Miles_per_Gallon": 29,
         "Name": "fiat 128",
         "Origin": "Europe",
         "Weight_in_lbs": 1867,
         "Year": "1973-01-01"
        },
        {
         "Acceleration": 15.5,
         "Cylinders": 4,
         "Displacement": 116,
         "Horsepower": 75,
         "Miles_per_Gallon": 24,
         "Name": "opel manta",
         "Origin": "Europe",
         "Weight_in_lbs": 2158,
         "Year": "1973-01-01"
        },
        {
         "Acceleration": 14,
         "Cylinders": 4,
         "Displacement": 114,
         "Horsepower": 91,
         "Miles_per_Gallon": 20,
         "Name": "audi 100ls",
         "Origin": "Europe",
         "Weight_in_lbs": 2582,
         "Year": "1973-01-01"
        },
        {
         "Acceleration": 15.5,
         "Cylinders": 4,
         "Displacement": 121,
         "Horsepower": 112,
         "Miles_per_Gallon": 19,
         "Name": "volvo 144ea",
         "Origin": "Europe",
         "Weight_in_lbs": 2868,
         "Year": "1973-01-01"
        },
        {
         "Acceleration": 11,
         "Cylinders": 8,
         "Displacement": 318,
         "Horsepower": 150,
         "Miles_per_Gallon": 15,
         "Name": "dodge dart custom",
         "Origin": "USA",
         "Weight_in_lbs": 3399,
         "Year": "1973-01-01"
        },
        {
         "Acceleration": 14,
         "Cylinders": 4,
         "Displacement": 121,
         "Horsepower": 110,
         "Miles_per_Gallon": 24,
         "Name": "saab 99le",
         "Origin": "Europe",
         "Weight_in_lbs": 2660,
         "Year": "1973-01-01"
        },
        {
         "Acceleration": 13.5,
         "Cylinders": 6,
         "Displacement": 156,
         "Horsepower": 122,
         "Miles_per_Gallon": 20,
         "Name": "toyota mark ii",
         "Origin": "Japan",
         "Weight_in_lbs": 2807,
         "Year": "1973-01-01"
        },
        {
         "Acceleration": 11,
         "Cylinders": 8,
         "Displacement": 350,
         "Horsepower": 180,
         "Miles_per_Gallon": 11,
         "Name": "oldsmobile omega",
         "Origin": "USA",
         "Weight_in_lbs": 3664,
         "Year": "1973-01-01"
        },
        {
         "Acceleration": 16.5,
         "Cylinders": 6,
         "Displacement": 198,
         "Horsepower": 95,
         "Miles_per_Gallon": 20,
         "Name": "plymouth duster",
         "Origin": "USA",
         "Weight_in_lbs": 3102,
         "Year": "1974-01-01"
        },
        {
         "Acceleration": 17,
         "Cylinders": 6,
         "Displacement": 200,
         "Horsepower": null,
         "Miles_per_Gallon": 21,
         "Name": "ford maverick",
         "Origin": "USA",
         "Weight_in_lbs": 2875,
         "Year": "1974-01-01"
        },
        {
         "Acceleration": 16,
         "Cylinders": 6,
         "Displacement": 232,
         "Horsepower": 100,
         "Miles_per_Gallon": 19,
         "Name": "amc hornet",
         "Origin": "USA",
         "Weight_in_lbs": 2901,
         "Year": "1974-01-01"
        },
        {
         "Acceleration": 17,
         "Cylinders": 6,
         "Displacement": 250,
         "Horsepower": 100,
         "Miles_per_Gallon": 15,
         "Name": "chevrolet nova",
         "Origin": "USA",
         "Weight_in_lbs": 3336,
         "Year": "1974-01-01"
        },
        {
         "Acceleration": 19,
         "Cylinders": 4,
         "Displacement": 79,
         "Horsepower": 67,
         "Miles_per_Gallon": 31,
         "Name": "datsun b210",
         "Origin": "Japan",
         "Weight_in_lbs": 1950,
         "Year": "1974-01-01"
        },
        {
         "Acceleration": 16.5,
         "Cylinders": 4,
         "Displacement": 122,
         "Horsepower": 80,
         "Miles_per_Gallon": 26,
         "Name": "ford pinto",
         "Origin": "USA",
         "Weight_in_lbs": 2451,
         "Year": "1974-01-01"
        },
        {
         "Acceleration": 21,
         "Cylinders": 4,
         "Displacement": 71,
         "Horsepower": 65,
         "Miles_per_Gallon": 32,
         "Name": "toyota corolla 1200",
         "Origin": "Japan",
         "Weight_in_lbs": 1836,
         "Year": "1974-01-01"
        },
        {
         "Acceleration": 17,
         "Cylinders": 4,
         "Displacement": 140,
         "Horsepower": 75,
         "Miles_per_Gallon": 25,
         "Name": "chevrolet vega",
         "Origin": "USA",
         "Weight_in_lbs": 2542,
         "Year": "1974-01-01"
        },
        {
         "Acceleration": 17,
         "Cylinders": 6,
         "Displacement": 250,
         "Horsepower": 100,
         "Miles_per_Gallon": 16,
         "Name": "chevrolet chevelle malibu classic",
         "Origin": "USA",
         "Weight_in_lbs": 3781,
         "Year": "1974-01-01"
        },
        {
         "Acceleration": 18,
         "Cylinders": 6,
         "Displacement": 258,
         "Horsepower": 110,
         "Miles_per_Gallon": 16,
         "Name": "amc matador",
         "Origin": "USA",
         "Weight_in_lbs": 3632,
         "Year": "1974-01-01"
        },
        {
         "Acceleration": 16.5,
         "Cylinders": 6,
         "Displacement": 225,
         "Horsepower": 105,
         "Miles_per_Gallon": 18,
         "Name": "plymouth satellite sebring",
         "Origin": "USA",
         "Weight_in_lbs": 3613,
         "Year": "1974-01-01"
        },
        {
         "Acceleration": 14,
         "Cylinders": 8,
         "Displacement": 302,
         "Horsepower": 140,
         "Miles_per_Gallon": 16,
         "Name": "ford gran torino",
         "Origin": "USA",
         "Weight_in_lbs": 4141,
         "Year": "1974-01-01"
        },
        {
         "Acceleration": 14.5,
         "Cylinders": 8,
         "Displacement": 350,
         "Horsepower": 150,
         "Miles_per_Gallon": 13,
         "Name": "buick century luxus (sw)",
         "Origin": "USA",
         "Weight_in_lbs": 4699,
         "Year": "1974-01-01"
        },
        {
         "Acceleration": 13.5,
         "Cylinders": 8,
         "Displacement": 318,
         "Horsepower": 150,
         "Miles_per_Gallon": 14,
         "Name": "dodge coronet custom (sw)",
         "Origin": "USA",
         "Weight_in_lbs": 4457,
         "Year": "1974-01-01"
        },
        {
         "Acceleration": 16,
         "Cylinders": 8,
         "Displacement": 302,
         "Horsepower": 140,
         "Miles_per_Gallon": 14,
         "Name": "ford gran torino (sw)",
         "Origin": "USA",
         "Weight_in_lbs": 4638,
         "Year": "1974-01-01"
        },
        {
         "Acceleration": 15.5,
         "Cylinders": 8,
         "Displacement": 304,
         "Horsepower": 150,
         "Miles_per_Gallon": 14,
         "Name": "amc matador (sw)",
         "Origin": "USA",
         "Weight_in_lbs": 4257,
         "Year": "1974-01-01"
        },
        {
         "Acceleration": 16.5,
         "Cylinders": 4,
         "Displacement": 98,
         "Horsepower": 83,
         "Miles_per_Gallon": 29,
         "Name": "audi fox",
         "Origin": "Europe",
         "Weight_in_lbs": 2219,
         "Year": "1974-01-01"
        },
        {
         "Acceleration": 15.5,
         "Cylinders": 4,
         "Displacement": 79,
         "Horsepower": 67,
         "Miles_per_Gallon": 26,
         "Name": "volkswagen dasher",
         "Origin": "Europe",
         "Weight_in_lbs": 1963,
         "Year": "1974-01-01"
        },
        {
         "Acceleration": 14.5,
         "Cylinders": 4,
         "Displacement": 97,
         "Horsepower": 78,
         "Miles_per_Gallon": 26,
         "Name": "opel manta",
         "Origin": "Europe",
         "Weight_in_lbs": 2300,
         "Year": "1974-01-01"
        },
        {
         "Acceleration": 16.5,
         "Cylinders": 4,
         "Displacement": 76,
         "Horsepower": 52,
         "Miles_per_Gallon": 31,
         "Name": "toyota corona",
         "Origin": "Japan",
         "Weight_in_lbs": 1649,
         "Year": "1974-01-01"
        },
        {
         "Acceleration": 19,
         "Cylinders": 4,
         "Displacement": 83,
         "Horsepower": 61,
         "Miles_per_Gallon": 32,
         "Name": "datsun 710",
         "Origin": "Japan",
         "Weight_in_lbs": 2003,
         "Year": "1974-01-01"
        },
        {
         "Acceleration": 14.5,
         "Cylinders": 4,
         "Displacement": 90,
         "Horsepower": 75,
         "Miles_per_Gallon": 28,
         "Name": "dodge colt",
         "Origin": "USA",
         "Weight_in_lbs": 2125,
         "Year": "1974-01-01"
        },
        {
         "Acceleration": 15.5,
         "Cylinders": 4,
         "Displacement": 90,
         "Horsepower": 75,
         "Miles_per_Gallon": 24,
         "Name": "fiat 128",
         "Origin": "Europe",
         "Weight_in_lbs": 2108,
         "Year": "1974-01-01"
        },
        {
         "Acceleration": 14,
         "Cylinders": 4,
         "Displacement": 116,
         "Horsepower": 75,
         "Miles_per_Gallon": 26,
         "Name": "fiat 124 tc",
         "Origin": "Europe",
         "Weight_in_lbs": 2246,
         "Year": "1974-01-01"
        },
        {
         "Acceleration": 15,
         "Cylinders": 4,
         "Displacement": 120,
         "Horsepower": 97,
         "Miles_per_Gallon": 24,
         "Name": "honda civic",
         "Origin": "Japan",
         "Weight_in_lbs": 2489,
         "Year": "1974-01-01"
        },
        {
         "Acceleration": 15.5,
         "Cylinders": 4,
         "Displacement": 108,
         "Horsepower": 93,
         "Miles_per_Gallon": 26,
         "Name": "subaru",
         "Origin": "Japan",
         "Weight_in_lbs": 2391,
         "Year": "1974-01-01"
        },
        {
         "Acceleration": 16,
         "Cylinders": 4,
         "Displacement": 79,
         "Horsepower": 67,
         "Miles_per_Gallon": 31,
         "Name": "fiat x1.9",
         "Origin": "Europe",
         "Weight_in_lbs": 2000,
         "Year": "1974-01-01"
        },
        {
         "Acceleration": 16,
         "Cylinders": 6,
         "Displacement": 225,
         "Horsepower": 95,
         "Miles_per_Gallon": 19,
         "Name": "plymouth valiant custom",
         "Origin": "USA",
         "Weight_in_lbs": 3264,
         "Year": "1975-01-01"
        },
        {
         "Acceleration": 16,
         "Cylinders": 6,
         "Displacement": 250,
         "Horsepower": 105,
         "Miles_per_Gallon": 18,
         "Name": "chevrolet nova",
         "Origin": "USA",
         "Weight_in_lbs": 3459,
         "Year": "1975-01-01"
        },
        {
         "Acceleration": 21,
         "Cylinders": 6,
         "Displacement": 250,
         "Horsepower": 72,
         "Miles_per_Gallon": 15,
         "Name": "mercury monarch",
         "Origin": "USA",
         "Weight_in_lbs": 3432,
         "Year": "1975-01-01"
        },
        {
         "Acceleration": 19.5,
         "Cylinders": 6,
         "Displacement": 250,
         "Horsepower": 72,
         "Miles_per_Gallon": 15,
         "Name": "ford maverick",
         "Origin": "USA",
         "Weight_in_lbs": 3158,
         "Year": "1975-01-01"
        },
        {
         "Acceleration": 11.5,
         "Cylinders": 8,
         "Displacement": 400,
         "Horsepower": 170,
         "Miles_per_Gallon": 16,
         "Name": "pontiac catalina",
         "Origin": "USA",
         "Weight_in_lbs": 4668,
         "Year": "1975-01-01"
        },
        {
         "Acceleration": 14,
         "Cylinders": 8,
         "Displacement": 350,
         "Horsepower": 145,
         "Miles_per_Gallon": 15,
         "Name": "chevrolet bel air",
         "Origin": "USA",
         "Weight_in_lbs": 4440,
         "Year": "1975-01-01"
        },
        {
         "Acceleration": 14.5,
         "Cylinders": 8,
         "Displacement": 318,
         "Horsepower": 150,
         "Miles_per_Gallon": 16,
         "Name": "plymouth grand fury",
         "Origin": "USA",
         "Weight_in_lbs": 4498,
         "Year": "1975-01-01"
        },
        {
         "Acceleration": 13.5,
         "Cylinders": 8,
         "Displacement": 351,
         "Horsepower": 148,
         "Miles_per_Gallon": 14,
         "Name": "ford ltd",
         "Origin": "USA",
         "Weight_in_lbs": 4657,
         "Year": "1975-01-01"
        },
        {
         "Acceleration": 21,
         "Cylinders": 6,
         "Displacement": 231,
         "Horsepower": 110,
         "Miles_per_Gallon": 17,
         "Name": "buick century",
         "Origin": "USA",
         "Weight_in_lbs": 3907,
         "Year": "1975-01-01"
        },
        {
         "Acceleration": 18.5,
         "Cylinders": 6,
         "Displacement": 250,
         "Horsepower": 105,
         "Miles_per_Gallon": 16,
         "Name": "chevroelt chevelle malibu",
         "Origin": "USA",
         "Weight_in_lbs": 3897,
         "Year": "1975-01-01"
        },
        {
         "Acceleration": 19,
         "Cylinders": 6,
         "Displacement": 258,
         "Horsepower": 110,
         "Miles_per_Gallon": 15,
         "Name": "amc matador",
         "Origin": "USA",
         "Weight_in_lbs": 3730,
         "Year": "1975-01-01"
        },
        {
         "Acceleration": 19,
         "Cylinders": 6,
         "Displacement": 225,
         "Horsepower": 95,
         "Miles_per_Gallon": 18,
         "Name": "plymouth fury",
         "Origin": "USA",
         "Weight_in_lbs": 3785,
         "Year": "1975-01-01"
        },
        {
         "Acceleration": 15,
         "Cylinders": 6,
         "Displacement": 231,
         "Horsepower": 110,
         "Miles_per_Gallon": 21,
         "Name": "buick skyhawk",
         "Origin": "USA",
         "Weight_in_lbs": 3039,
         "Year": "1975-01-01"
        },
        {
         "Acceleration": 13.5,
         "Cylinders": 8,
         "Displacement": 262,
         "Horsepower": 110,
         "Miles_per_Gallon": 20,
         "Name": "chevrolet monza 2+2",
         "Origin": "USA",
         "Weight_in_lbs": 3221,
         "Year": "1975-01-01"
        },
        {
         "Acceleration": 12,
         "Cylinders": 8,
         "Displacement": 302,
         "Horsepower": 129,
         "Miles_per_Gallon": 13,
         "Name": "ford mustang ii",
         "Origin": "USA",
         "Weight_in_lbs": 3169,
         "Year": "1975-01-01"
        },
        {
         "Acceleration": 16,
         "Cylinders": 4,
         "Displacement": 97,
         "Horsepower": 75,
         "Miles_per_Gallon": 29,
         "Name": "toyota corolla",
         "Origin": "Japan",
         "Weight_in_lbs": 2171,
         "Year": "1975-01-01"
        },
        {
         "Acceleration": 17,
         "Cylinders": 4,
         "Displacement": 140,
         "Horsepower": 83,
         "Miles_per_Gallon": 23,
         "Name": "ford pinto",
         "Origin": "USA",
         "Weight_in_lbs": 2639,
         "Year": "1975-01-01"
        },
        {
         "Acceleration": 16,
         "Cylinders": 6,
         "Displacement": 232,
         "Horsepower": 100,
         "Miles_per_Gallon": 20,
         "Name": "amc gremlin",
         "Origin": "USA",
         "Weight_in_lbs": 2914,
         "Year": "1975-01-01"
        },
        {
         "Acceleration": 18.5,
         "Cylinders": 4,
         "Displacement": 140,
         "Horsepower": 78,
         "Miles_per_Gallon": 23,
         "Name": "pontiac astro",
         "Origin": "USA",
         "Weight_in_lbs": 2592,
         "Year": "1975-01-01"
        },
        {
         "Acceleration": 13.5,
         "Cylinders": 4,
         "Displacement": 134,
         "Horsepower": 96,
         "Miles_per_Gallon": 24,
         "Name": "toyota corona",
         "Origin": "Japan",
         "Weight_in_lbs": 2702,
         "Year": "1975-01-01"
        },
        {
         "Acceleration": 16.5,
         "Cylinders": 4,
         "Displacement": 90,
         "Horsepower": 71,
         "Miles_per_Gallon": 25,
         "Name": "volkswagen dasher",
         "Origin": "Europe",
         "Weight_in_lbs": 2223,
         "Year": "1975-01-01"
        },
        {
         "Acceleration": 17,
         "Cylinders": 4,
         "Displacement": 119,
         "Horsepower": 97,
         "Miles_per_Gallon": 24,
         "Name": "datsun 710",
         "Origin": "Japan",
         "Weight_in_lbs": 2545,
         "Year": "1975-01-01"
        },
        {
         "Acceleration": 14.5,
         "Cylinders": 6,
         "Displacement": 171,
         "Horsepower": 97,
         "Miles_per_Gallon": 18,
         "Name": "ford pinto",
         "Origin": "USA",
         "Weight_in_lbs": 2984,
         "Year": "1975-01-01"
        },
        {
         "Acceleration": 14,
         "Cylinders": 4,
         "Displacement": 90,
         "Horsepower": 70,
         "Miles_per_Gallon": 29,
         "Name": "volkswagen rabbit",
         "Origin": "Europe",
         "Weight_in_lbs": 1937,
         "Year": "1975-01-01"
        },
        {
         "Acceleration": 17,
         "Cylinders": 6,
         "Displacement": 232,
         "Horsepower": 90,
         "Miles_per_Gallon": 19,
         "Name": "amc pacer",
         "Origin": "USA",
         "Weight_in_lbs": 3211,
         "Year": "1975-01-01"
        },
        {
         "Acceleration": 15,
         "Cylinders": 4,
         "Displacement": 115,
         "Horsepower": 95,
         "Miles_per_Gallon": 23,
         "Name": "audi 100ls",
         "Origin": "Europe",
         "Weight_in_lbs": 2694,
         "Year": "1975-01-01"
        },
        {
         "Acceleration": 17,
         "Cylinders": 4,
         "Displacement": 120,
         "Horsepower": 88,
         "Miles_per_Gallon": 23,
         "Name": "peugeot 504",
         "Origin": "Europe",
         "Weight_in_lbs": 2957,
         "Year": "1975-01-01"
        },
        {
         "Acceleration": 14.5,
         "Cylinders": 4,
         "Displacement": 121,
         "Horsepower": 98,
         "Miles_per_Gallon": 22,
         "Name": "volvo 244dl",
         "Origin": "Europe",
         "Weight_in_lbs": 2945,
         "Year": "1975-01-01"
        },
        {
         "Acceleration": 13.5,
         "Cylinders": 4,
         "Displacement": 121,
         "Horsepower": 115,
         "Miles_per_Gallon": 25,
         "Name": "saab 99le",
         "Origin": "Europe",
         "Weight_in_lbs": 2671,
         "Year": "1975-01-01"
        },
        {
         "Acceleration": 17.5,
         "Cylinders": 4,
         "Displacement": 91,
         "Horsepower": 53,
         "Miles_per_Gallon": 33,
         "Name": "honda civic cvcc",
         "Origin": "Japan",
         "Weight_in_lbs": 1795,
         "Year": "1975-01-01"
        },
        {
         "Acceleration": 15.5,
         "Cylinders": 4,
         "Displacement": 107,
         "Horsepower": 86,
         "Miles_per_Gallon": 28,
         "Name": "fiat 131",
         "Origin": "Europe",
         "Weight_in_lbs": 2464,
         "Year": "1976-01-01"
        },
        {
         "Acceleration": 16.9,
         "Cylinders": 4,
         "Displacement": 116,
         "Horsepower": 81,
         "Miles_per_Gallon": 25,
         "Name": "opel 1900",
         "Origin": "Europe",
         "Weight_in_lbs": 2220,
         "Year": "1976-01-01"
        },
        {
         "Acceleration": 14.9,
         "Cylinders": 4,
         "Displacement": 140,
         "Horsepower": 92,
         "Miles_per_Gallon": 25,
         "Name": "capri ii",
         "Origin": "USA",
         "Weight_in_lbs": 2572,
         "Year": "1976-01-01"
        },
        {
         "Acceleration": 17.7,
         "Cylinders": 4,
         "Displacement": 98,
         "Horsepower": 79,
         "Miles_per_Gallon": 26,
         "Name": "dodge colt",
         "Origin": "USA",
         "Weight_in_lbs": 2255,
         "Year": "1976-01-01"
        },
        {
         "Acceleration": 15.3,
         "Cylinders": 4,
         "Displacement": 101,
         "Horsepower": 83,
         "Miles_per_Gallon": 27,
         "Name": "renault 12tl",
         "Origin": "Europe",
         "Weight_in_lbs": 2202,
         "Year": "1976-01-01"
        },
        {
         "Acceleration": 13,
         "Cylinders": 8,
         "Displacement": 305,
         "Horsepower": 140,
         "Miles_per_Gallon": 17.5,
         "Name": "chevrolet chevelle malibu classic",
         "Origin": "USA",
         "Weight_in_lbs": 4215,
         "Year": "1976-01-01"
        },
        {
         "Acceleration": 13,
         "Cylinders": 8,
         "Displacement": 318,
         "Horsepower": 150,
         "Miles_per_Gallon": 16,
         "Name": "dodge coronet brougham",
         "Origin": "USA",
         "Weight_in_lbs": 4190,
         "Year": "1976-01-01"
        },
        {
         "Acceleration": 13.9,
         "Cylinders": 8,
         "Displacement": 304,
         "Horsepower": 120,
         "Miles_per_Gallon": 15.5,
         "Name": "amc matador",
         "Origin": "USA",
         "Weight_in_lbs": 3962,
         "Year": "1976-01-01"
        },
        {
         "Acceleration": 12.8,
         "Cylinders": 8,
         "Displacement": 351,
         "Horsepower": 152,
         "Miles_per_Gallon": 14.5,
         "Name": "ford gran torino",
         "Origin": "USA",
         "Weight_in_lbs": 4215,
         "Year": "1976-01-01"
        },
        {
         "Acceleration": 15.4,
         "Cylinders": 6,
         "Displacement": 225,
         "Horsepower": 100,
         "Miles_per_Gallon": 22,
         "Name": "plymouth valiant",
         "Origin": "USA",
         "Weight_in_lbs": 3233,
         "Year": "1976-01-01"
        },
        {
         "Acceleration": 14.5,
         "Cylinders": 6,
         "Displacement": 250,
         "Horsepower": 105,
         "Miles_per_Gallon": 22,
         "Name": "chevrolet nova",
         "Origin": "USA",
         "Weight_in_lbs": 3353,
         "Year": "1976-01-01"
        },
        {
         "Acceleration": 17.6,
         "Cylinders": 6,
         "Displacement": 200,
         "Horsepower": 81,
         "Miles_per_Gallon": 24,
         "Name": "ford maverick",
         "Origin": "USA",
         "Weight_in_lbs": 3012,
         "Year": "1976-01-01"
        },
        {
         "Acceleration": 17.6,
         "Cylinders": 6,
         "Displacement": 232,
         "Horsepower": 90,
         "Miles_per_Gallon": 22.5,
         "Name": "amc hornet",
         "Origin": "USA",
         "Weight_in_lbs": 3085,
         "Year": "1976-01-01"
        },
        {
         "Acceleration": 22.2,
         "Cylinders": 4,
         "Displacement": 85,
         "Horsepower": 52,
         "Miles_per_Gallon": 29,
         "Name": "chevrolet chevette",
         "Origin": "USA",
         "Weight_in_lbs": 2035,
         "Year": "1976-01-01"
        },
        {
         "Acceleration": 22.1,
         "Cylinders": 4,
         "Displacement": 98,
         "Horsepower": 60,
         "Miles_per_Gallon": 24.5,
         "Name": "chevrolet woody",
         "Origin": "USA",
         "Weight_in_lbs": 2164,
         "Year": "1976-01-01"
        },
        {
         "Acceleration": 14.2,
         "Cylinders": 4,
         "Displacement": 90,
         "Horsepower": 70,
         "Miles_per_Gallon": 29,
         "Name": "vw rabbit",
         "Origin": "Europe",
         "Weight_in_lbs": 1937,
         "Year": "1976-01-01"
        },
        {
         "Acceleration": 17.4,
         "Cylinders": 4,
         "Displacement": 91,
         "Horsepower": 53,
         "Miles_per_Gallon": 33,
         "Name": "honda civic",
         "Origin": "Japan",
         "Weight_in_lbs": 1795,
         "Year": "1976-01-01"
        },
        {
         "Acceleration": 17.7,
         "Cylinders": 6,
         "Displacement": 225,
         "Horsepower": 100,
         "Miles_per_Gallon": 20,
         "Name": "dodge aspen se",
         "Origin": "USA",
         "Weight_in_lbs": 3651,
         "Year": "1976-01-01"
        },
        {
         "Acceleration": 21,
         "Cylinders": 6,
         "Displacement": 250,
         "Horsepower": 78,
         "Miles_per_Gallon": 18,
         "Name": "ford granada ghia",
         "Origin": "USA",
         "Weight_in_lbs": 3574,
         "Year": "1976-01-01"
        },
        {
         "Acceleration": 16.2,
         "Cylinders": 6,
         "Displacement": 250,
         "Horsepower": 110,
         "Miles_per_Gallon": 18.5,
         "Name": "pontiac ventura sj",
         "Origin": "USA",
         "Weight_in_lbs": 3645,
         "Year": "1976-01-01"
        },
        {
         "Acceleration": 17.8,
         "Cylinders": 6,
         "Displacement": 258,
         "Horsepower": 95,
         "Miles_per_Gallon": 17.5,
         "Name": "amc pacer d/l",
         "Origin": "USA",
         "Weight_in_lbs": 3193,
         "Year": "1976-01-01"
        },
        {
         "Acceleration": 12.2,
         "Cylinders": 4,
         "Displacement": 97,
         "Horsepower": 71,
         "Miles_per_Gallon": 29.5,
         "Name": "volkswagen rabbit",
         "Origin": "Europe",
         "Weight_in_lbs": 1825,
         "Year": "1976-01-01"
        },
        {
         "Acceleration": 17,
         "Cylinders": 4,
         "Displacement": 85,
         "Horsepower": 70,
         "Miles_per_Gallon": 32,
         "Name": "datsun b-210",
         "Origin": "Japan",
         "Weight_in_lbs": 1990,
         "Year": "1976-01-01"
        },
        {
         "Acceleration": 16.4,
         "Cylinders": 4,
         "Displacement": 97,
         "Horsepower": 75,
         "Miles_per_Gallon": 28,
         "Name": "toyota corolla",
         "Origin": "Japan",
         "Weight_in_lbs": 2155,
         "Year": "1976-01-01"
        },
        {
         "Acceleration": 13.6,
         "Cylinders": 4,
         "Displacement": 140,
         "Horsepower": 72,
         "Miles_per_Gallon": 26.5,
         "Name": "ford pinto",
         "Origin": "USA",
         "Weight_in_lbs": 2565,
         "Year": "1976-01-01"
        },
        {
         "Acceleration": 15.7,
         "Cylinders": 4,
         "Displacement": 130,
         "Horsepower": 102,
         "Miles_per_Gallon": 20,
         "Name": "volvo 245",
         "Origin": "Europe",
         "Weight_in_lbs": 3150,
         "Year": "1976-01-01"
        },
        {
         "Acceleration": 13.2,
         "Cylinders": 8,
         "Displacement": 318,
         "Horsepower": 150,
         "Miles_per_Gallon": 13,
         "Name": "plymouth volare premier v8",
         "Origin": "USA",
         "Weight_in_lbs": 3940,
         "Year": "1976-01-01"
        },
        {
         "Acceleration": 21.9,
         "Cylinders": 4,
         "Displacement": 120,
         "Horsepower": 88,
         "Miles_per_Gallon": 19,
         "Name": "peugeot 504",
         "Origin": "Europe",
         "Weight_in_lbs": 3270,
         "Year": "1976-01-01"
        },
        {
         "Acceleration": 15.5,
         "Cylinders": 6,
         "Displacement": 156,
         "Horsepower": 108,
         "Miles_per_Gallon": 19,
         "Name": "toyota mark ii",
         "Origin": "Japan",
         "Weight_in_lbs": 2930,
         "Year": "1976-01-01"
        },
        {
         "Acceleration": 16.7,
         "Cylinders": 6,
         "Displacement": 168,
         "Horsepower": 120,
         "Miles_per_Gallon": 16.5,
         "Name": "mercedes-benz 280s",
         "Origin": "Europe",
         "Weight_in_lbs": 3820,
         "Year": "1976-01-01"
        },
        {
         "Acceleration": 12.1,
         "Cylinders": 8,
         "Displacement": 350,
         "Horsepower": 180,
         "Miles_per_Gallon": 16.5,
         "Name": "cadillac seville",
         "Origin": "USA",
         "Weight_in_lbs": 4380,
         "Year": "1976-01-01"
        },
        {
         "Acceleration": 12,
         "Cylinders": 8,
         "Displacement": 350,
         "Horsepower": 145,
         "Miles_per_Gallon": 13,
         "Name": "chevy c10",
         "Origin": "USA",
         "Weight_in_lbs": 4055,
         "Year": "1976-01-01"
        },
        {
         "Acceleration": 15,
         "Cylinders": 8,
         "Displacement": 302,
         "Horsepower": 130,
         "Miles_per_Gallon": 13,
         "Name": "ford f108",
         "Origin": "USA",
         "Weight_in_lbs": 3870,
         "Year": "1976-01-01"
        },
        {
         "Acceleration": 14,
         "Cylinders": 8,
         "Displacement": 318,
         "Horsepower": 150,
         "Miles_per_Gallon": 13,
         "Name": "dodge d100",
         "Origin": "USA",
         "Weight_in_lbs": 3755,
         "Year": "1976-01-01"
        },
        {
         "Acceleration": 18.5,
         "Cylinders": 4,
         "Displacement": 98,
         "Horsepower": 68,
         "Miles_per_Gallon": 31.5,
         "Name": "honda Accelerationord cvcc",
         "Origin": "Japan",
         "Weight_in_lbs": 2045,
         "Year": "1977-01-01"
        },
        {
         "Acceleration": 14.8,
         "Cylinders": 4,
         "Displacement": 111,
         "Horsepower": 80,
         "Miles_per_Gallon": 30,
         "Name": "buick opel isuzu deluxe",
         "Origin": "USA",
         "Weight_in_lbs": 2155,
         "Year": "1977-01-01"
        },
        {
         "Acceleration": 18.6,
         "Cylinders": 4,
         "Displacement": 79,
         "Horsepower": 58,
         "Miles_per_Gallon": 36,
         "Name": "renault 5 gtl",
         "Origin": "Europe",
         "Weight_in_lbs": 1825,
         "Year": "1977-01-01"
        },
        {
         "Acceleration": 15.5,
         "Cylinders": 4,
         "Displacement": 122,
         "Horsepower": 96,
         "Miles_per_Gallon": 25.5,
         "Name": "plymouth arrow gs",
         "Origin": "USA",
         "Weight_in_lbs": 2300,
         "Year": "1977-01-01"
        },
        {
         "Acceleration": 16.8,
         "Cylinders": 4,
         "Displacement": 85,
         "Horsepower": 70,
         "Miles_per_Gallon": 33.5,
         "Name": "datsun f-10 hatchback",
         "Origin": "Japan",
         "Weight_in_lbs": 1945,
         "Year": "1977-01-01"
        },
        {
         "Acceleration": 12.5,
         "Cylinders": 8,
         "Displacement": 305,
         "Horsepower": 145,
         "Miles_per_Gallon": 17.5,
         "Name": "chevrolet caprice classic",
         "Origin": "USA",
         "Weight_in_lbs": 3880,
         "Year": "1977-01-01"
        },
        {
         "Acceleration": 19,
         "Cylinders": 8,
         "Displacement": 260,
         "Horsepower": 110,
         "Miles_per_Gallon": 17,
         "Name": "oldsmobile cutlass supreme",
         "Origin": "USA",
         "Weight_in_lbs": 4060,
         "Year": "1977-01-01"
        },
        {
         "Acceleration": 13.7,
         "Cylinders": 8,
         "Displacement": 318,
         "Horsepower": 145,
         "Miles_per_Gallon": 15.5,
         "Name": "dodge monaco brougham",
         "Origin": "USA",
         "Weight_in_lbs": 4140,
         "Year": "1977-01-01"
        },
        {
         "Acceleration": 14.9,
         "Cylinders": 8,
         "Displacement": 302,
         "Horsepower": 130,
         "Miles_per_Gallon": 15,
         "Name": "mercury cougar brougham",
         "Origin": "USA",
         "Weight_in_lbs": 4295,
         "Year": "1977-01-01"
        },
        {
         "Acceleration": 16.4,
         "Cylinders": 6,
         "Displacement": 250,
         "Horsepower": 110,
         "Miles_per_Gallon": 17.5,
         "Name": "chevrolet concours",
         "Origin": "USA",
         "Weight_in_lbs": 3520,
         "Year": "1977-01-01"
        },
        {
         "Acceleration": 16.9,
         "Cylinders": 6,
         "Displacement": 231,
         "Horsepower": 105,
         "Miles_per_Gallon": 20.5,
         "Name": "buick skylark",
         "Origin": "USA",
         "Weight_in_lbs": 3425,
         "Year": "1977-01-01"
        },
        {
         "Acceleration": 17.7,
         "Cylinders": 6,
         "Displacement": 225,
         "Horsepower": 100,
         "Miles_per_Gallon": 19,
         "Name": "plymouth volare custom",
         "Origin": "USA",
         "Weight_in_lbs": 3630,
         "Year": "1977-01-01"
        },
        {
         "Acceleration": 19,
         "Cylinders": 6,
         "Displacement": 250,
         "Horsepower": 98,
         "Miles_per_Gallon": 18.5,
         "Name": "ford granada",
         "Origin": "USA",
         "Weight_in_lbs": 3525,
         "Year": "1977-01-01"
        },
        {
         "Acceleration": 11.1,
         "Cylinders": 8,
         "Displacement": 400,
         "Horsepower": 180,
         "Miles_per_Gallon": 16,
         "Name": "pontiac grand prix lj",
         "Origin": "USA",
         "Weight_in_lbs": 4220,
         "Year": "1977-01-01"
        },
        {
         "Acceleration": 11.4,
         "Cylinders": 8,
         "Displacement": 350,
         "Horsepower": 170,
         "Miles_per_Gallon": 15.5,
         "Name": "chevrolet monte carlo landau",
         "Origin": "USA",
         "Weight_in_lbs": 4165,
         "Year": "1977-01-01"
        },
        {
         "Acceleration": 12.2,
         "Cylinders": 8,
         "Displacement": 400,
         "Horsepower": 190,
         "Miles_per_Gallon": 15.5,
         "Name": "chrysler cordoba",
         "Origin": "USA",
         "Weight_in_lbs": 4325,
         "Year": "1977-01-01"
        },
        {
         "Acceleration": 14.5,
         "Cylinders": 8,
         "Displacement": 351,
         "Horsepower": 149,
         "Miles_per_Gallon": 16,
         "Name": "ford thunderbird",
         "Origin": "USA",
         "Weight_in_lbs": 4335,
         "Year": "1977-01-01"
        },
        {
         "Acceleration": 14.5,
         "Cylinders": 4,
         "Displacement": 97,
         "Horsepower": 78,
         "Miles_per_Gallon": 29,
         "Name": "volkswagen rabbit custom",
         "Origin": "Europe",
         "Weight_in_lbs": 1940,
         "Year": "1977-01-01"
        },
        {
         "Acceleration": 16,
         "Cylinders": 4,
         "Displacement": 151,
         "Horsepower": 88,
         "Miles_per_Gallon": 24.5,
         "Name": "pontiac sunbird coupe",
         "Origin": "USA",
         "Weight_in_lbs": 2740,
         "Year": "1977-01-01"
        },
        {
         "Acceleration": 18.2,
         "Cylinders": 4,
         "Displacement": 97,
         "Horsepower": 75,
         "Miles_per_Gallon": 26,
         "Name": "toyota corolla liftback",
         "Origin": "Japan",
         "Weight_in_lbs": 2265,
         "Year": "1977-01-01"
        },
        {
         "Acceleration": 15.8,
         "Cylinders": 4,
         "Displacement": 140,
         "Horsepower": 89,
         "Miles_per_Gallon": 25.5,
         "Name": "ford mustang ii 2+2",
         "Origin": "USA",
         "Weight_in_lbs": 2755,
         "Year": "1977-01-01"
        },
        {
         "Acceleration": 17,
         "Cylinders": 4,
         "Displacement": 98,
         "Horsepower": 63,
         "Miles_per_Gallon": 30.5,
         "Name": "chevrolet chevette",
         "Origin": "USA",
         "Weight_in_lbs": 2051,
         "Year": "1977-01-01"
        },
        {
         "Acceleration": 15.9,
         "Cylinders": 4,
         "Displacement": 98,
         "Horsepower": 83,
         "Miles_per_Gallon": 33.5,
         "Name": "dodge colt m/m",
         "Origin": "USA",
         "Weight_in_lbs": 2075,
         "Year": "1977-01-01"
        },
        {
         "Acceleration": 16.4,
         "Cylinders": 4,
         "Displacement": 97,
         "Horsepower": 67,
         "Miles_per_Gallon": 30,
         "Name": "subaru dl",
         "Origin": "Japan",
         "Weight_in_lbs": 1985,
         "Year": "1977-01-01"
        },
        {
         "Acceleration": 14.1,
         "Cylinders": 4,
         "Displacement": 97,
         "Horsepower": 78,
         "Miles_per_Gallon": 30.5,
         "Name": "volkswagen dasher",
         "Origin": "Europe",
         "Weight_in_lbs": 2190,
         "Year": "1977-01-01"
        },
        {
         "Acceleration": 14.5,
         "Cylinders": 6,
         "Displacement": 146,
         "Horsepower": 97,
         "Miles_per_Gallon": 22,
         "Name": "datsun 810",
         "Origin": "Japan",
         "Weight_in_lbs": 2815,
         "Year": "1977-01-01"
        },
        {
         "Acceleration": 12.8,
         "Cylinders": 4,
         "Displacement": 121,
         "Horsepower": 110,
         "Miles_per_Gallon": 21.5,
         "Name": "bmw 320i",
         "Origin": "Europe",
         "Weight_in_lbs": 2600,
         "Year": "1977-01-01"
        },
        {
         "Acceleration": 13.5,
         "Cylinders": 3,
         "Displacement": 80,
         "Horsepower": 110,
         "Miles_per_Gallon": 21.5,
         "Name": "mazda rx-4",
         "Origin": "Japan",
         "Weight_in_lbs": 2720,
         "Year": "1977-01-01"
        },
        {
         "Acceleration": 21.5,
         "Cylinders": 4,
         "Displacement": 90,
         "Horsepower": 48,
         "Miles_per_Gallon": 43.1,
         "Name": "volkswagen rabbit custom diesel",
         "Origin": "Europe",
         "Weight_in_lbs": 1985,
         "Year": "1978-01-01"
        },
        {
         "Acceleration": 14.4,
         "Cylinders": 4,
         "Displacement": 98,
         "Horsepower": 66,
         "Miles_per_Gallon": 36.1,
         "Name": "ford fiesta",
         "Origin": "USA",
         "Weight_in_lbs": 1800,
         "Year": "1978-01-01"
        },
        {
         "Acceleration": 19.4,
         "Cylinders": 4,
         "Displacement": 78,
         "Horsepower": 52,
         "Miles_per_Gallon": 32.8,
         "Name": "mazda glc deluxe",
         "Origin": "Japan",
         "Weight_in_lbs": 1985,
         "Year": "1978-01-01"
        },
        {
         "Acceleration": 18.6,
         "Cylinders": 4,
         "Displacement": 85,
         "Horsepower": 70,
         "Miles_per_Gallon": 39.4,
         "Name": "datsun b210 gx",
         "Origin": "Japan",
         "Weight_in_lbs": 2070,
         "Year": "1978-01-01"
        },
        {
         "Acceleration": 16.4,
         "Cylinders": 4,
         "Displacement": 91,
         "Horsepower": 60,
         "Miles_per_Gallon": 36.1,
         "Name": "honda civic cvcc",
         "Origin": "Japan",
         "Weight_in_lbs": 1800,
         "Year": "1978-01-01"
        },
        {
         "Acceleration": 15.5,
         "Cylinders": 8,
         "Displacement": 260,
         "Horsepower": 110,
         "Miles_per_Gallon": 19.9,
         "Name": "oldsmobile cutlass salon brougham",
         "Origin": "USA",
         "Weight_in_lbs": 3365,
         "Year": "1978-01-01"
        },
        {
         "Acceleration": 13.2,
         "Cylinders": 8,
         "Displacement": 318,
         "Horsepower": 140,
         "Miles_per_Gallon": 19.4,
         "Name": "dodge diplomat",
         "Origin": "USA",
         "Weight_in_lbs": 3735,
         "Year": "1978-01-01"
        },
        {
         "Acceleration": 12.8,
         "Cylinders": 8,
         "Displacement": 302,
         "Horsepower": 139,
         "Miles_per_Gallon": 20.2,
         "Name": "mercury monarch ghia",
         "Origin": "USA",
         "Weight_in_lbs": 3570,
         "Year": "1978-01-01"
        },
        {
         "Acceleration": 19.2,
         "Cylinders": 6,
         "Displacement": 231,
         "Horsepower": 105,
         "Miles_per_Gallon": 19.2,
         "Name": "pontiac phoenix lj",
         "Origin": "USA",
         "Weight_in_lbs": 3535,
         "Year": "1978-01-01"
        },
        {
         "Acceleration": 18.2,
         "Cylinders": 6,
         "Displacement": 200,
         "Horsepower": 95,
         "Miles_per_Gallon": 20.5,
         "Name": "chevrolet malibu",
         "Origin": "USA",
         "Weight_in_lbs": 3155,
         "Year": "1978-01-01"
        },
        {
         "Acceleration": 15.8,
         "Cylinders": 6,
         "Displacement": 200,
         "Horsepower": 85,
         "Miles_per_Gallon": 20.2,
         "Name": "ford fairmont (auto)",
         "Origin": "USA",
         "Weight_in_lbs": 2965,
         "Year": "1978-01-01"
        },
        {
         "Acceleration": 15.4,
         "Cylinders": 4,
         "Displacement": 140,
         "Horsepower": 88,
         "Miles_per_Gallon": 25.1,
         "Name": "ford fairmont (man)",
         "Origin": "USA",
         "Weight_in_lbs": 2720,
         "Year": "1978-01-01"
        },
        {
         "Acceleration": 17.2,
         "Cylinders": 6,
         "Displacement": 225,
         "Horsepower": 100,
         "Miles_per_Gallon": 20.5,
         "Name": "plymouth volare",
         "Origin": "USA",
         "Weight_in_lbs": 3430,
         "Year": "1978-01-01"
        },
        {
         "Acceleration": 17.2,
         "Cylinders": 6,
         "Displacement": 232,
         "Horsepower": 90,
         "Miles_per_Gallon": 19.4,
         "Name": "amc concord",
         "Origin": "USA",
         "Weight_in_lbs": 3210,
         "Year": "1978-01-01"
        },
        {
         "Acceleration": 15.8,
         "Cylinders": 6,
         "Displacement": 231,
         "Horsepower": 105,
         "Miles_per_Gallon": 20.6,
         "Name": "buick century special",
         "Origin": "USA",
         "Weight_in_lbs": 3380,
         "Year": "1978-01-01"
        },
        {
         "Acceleration": 16.7,
         "Cylinders": 6,
         "Displacement": 200,
         "Horsepower": 85,
         "Miles_per_Gallon": 20.8,
         "Name": "mercury zephyr",
         "Origin": "USA",
         "Weight_in_lbs": 3070,
         "Year": "1978-01-01"
        },
        {
         "Acceleration": 18.7,
         "Cylinders": 6,
         "Displacement": 225,
         "Horsepower": 110,
         "Miles_per_Gallon": 18.6,
         "Name": "dodge aspen",
         "Origin": "USA",
         "Weight_in_lbs": 3620,
         "Year": "1978-01-01"
        },
        {
         "Acceleration": 15.1,
         "Cylinders": 6,
         "Displacement": 258,
         "Horsepower": 120,
         "Miles_per_Gallon": 18.1,
         "Name": "amc concord d/l",
         "Origin": "USA",
         "Weight_in_lbs": 3410,
         "Year": "1978-01-01"
        },
        {
         "Acceleration": 13.2,
         "Cylinders": 8,
         "Displacement": 305,
         "Horsepower": 145,
         "Miles_per_Gallon": 19.2,
         "Name": "chevrolet monte carlo landau",
         "Origin": "USA",
         "Weight_in_lbs": 3425,
         "Year": "1978-01-01"
        },
        {
         "Acceleration": 13.4,
         "Cylinders": 6,
         "Displacement": 231,
         "Horsepower": 165,
         "Miles_per_Gallon": 17.7,
         "Name": "buick regal sport coupe (turbo)",
         "Origin": "USA",
         "Weight_in_lbs": 3445,
         "Year": "1978-01-01"
        },
        {
         "Acceleration": 11.2,
         "Cylinders": 8,
         "Displacement": 302,
         "Horsepower": 139,
         "Miles_per_Gallon": 18.1,
         "Name": "ford futura",
         "Origin": "USA",
         "Weight_in_lbs": 3205,
         "Year": "1978-01-01"
        },
        {
         "Acceleration": 13.7,
         "Cylinders": 8,
         "Displacement": 318,
         "Horsepower": 140,
         "Miles_per_Gallon": 17.5,
         "Name": "dodge magnum xe",
         "Origin": "USA",
         "Weight_in_lbs": 4080,
         "Year": "1978-01-01"
        },
        {
         "Acceleration": 16.5,
         "Cylinders": 4,
         "Displacement": 98,
         "Horsepower": 68,
         "Miles_per_Gallon": 30,
         "Name": "chevrolet chevette",
         "Origin": "USA",
         "Weight_in_lbs": 2155,
         "Year": "1978-01-01"
        },
        {
         "Acceleration": 14.2,
         "Cylinders": 4,
         "Displacement": 134,
         "Horsepower": 95,
         "Miles_per_Gallon": 27.5,
         "Name": "toyota corona",
         "Origin": "Japan",
         "Weight_in_lbs": 2560,
         "Year": "1978-01-01"
        },
        {
         "Acceleration": 14.7,
         "Cylinders": 4,
         "Displacement": 119,
         "Horsepower": 97,
         "Miles_per_Gallon": 27.2,
         "Name": "datsun 510",
         "Origin": "Japan",
         "Weight_in_lbs": 2300,
         "Year": "1978-01-01"
        },
        {
         "Acceleration": 14.5,
         "Cylinders": 4,
         "Displacement": 105,
         "Horsepower": 75,
         "Miles_per_Gallon": 30.9,
         "Name": "dodge omni",
         "Origin": "USA",
         "Weight_in_lbs": 2230,
         "Year": "1978-01-01"
        },
        {
         "Acceleration": 14.8,
         "Cylinders": 4,
         "Displacement": 134,
         "Horsepower": 95,
         "Miles_per_Gallon": 21.1,
         "Name": "toyota celica gt liftback",
         "Origin": "Japan",
         "Weight_in_lbs": 2515,
         "Year": "1978-01-01"
        },
        {
         "Acceleration": 16.7,
         "Cylinders": 4,
         "Displacement": 156,
         "Horsepower": 105,
         "Miles_per_Gallon": 23.2,
         "Name": "plymouth sapporo",
         "Origin": "USA",
         "Weight_in_lbs": 2745,
         "Year": "1978-01-01"
        },
        {
         "Acceleration": 17.6,
         "Cylinders": 4,
         "Displacement": 151,
         "Horsepower": 85,
         "Miles_per_Gallon": 23.8,
         "Name": "oldsmobile starfire sx",
         "Origin": "USA",
         "Weight_in_lbs": 2855,
         "Year": "1978-01-01"
        },
        {
         "Acceleration": 14.9,
         "Cylinders": 4,
         "Displacement": 119,
         "Horsepower": 97,
         "Miles_per_Gallon": 23.9,
         "Name": "datsun 200-sx",
         "Origin": "Japan",
         "Weight_in_lbs": 2405,
         "Year": "1978-01-01"
        },
        {
         "Acceleration": 15.9,
         "Cylinders": 5,
         "Displacement": 131,
         "Horsepower": 103,
         "Miles_per_Gallon": 20.3,
         "Name": "audi 5000",
         "Origin": "Europe",
         "Weight_in_lbs": 2830,
         "Year": "1978-01-01"
        },
        {
         "Acceleration": 13.6,
         "Cylinders": 6,
         "Displacement": 163,
         "Horsepower": 125,
         "Miles_per_Gallon": 17,
         "Name": "volvo 264gl",
         "Origin": "Europe",
         "Weight_in_lbs": 3140,
         "Year": "1978-01-01"
        },
        {
         "Acceleration": 15.7,
         "Cylinders": 4,
         "Displacement": 121,
         "Horsepower": 115,
         "Miles_per_Gallon": 21.6,
         "Name": "saab 99gle",
         "Origin": "Europe",
         "Weight_in_lbs": 2795,
         "Year": "1978-01-01"
        },
        {
         "Acceleration": 15.8,
         "Cylinders": 6,
         "Displacement": 163,
         "Horsepower": 133,
         "Miles_per_Gallon": 16.2,
         "Name": "peugeot 604sl",
         "Origin": "Europe",
         "Weight_in_lbs": 3410,
         "Year": "1978-01-01"
        },
        {
         "Acceleration": 14.9,
         "Cylinders": 4,
         "Displacement": 89,
         "Horsepower": 71,
         "Miles_per_Gallon": 31.5,
         "Name": "volkswagen scirocco",
         "Origin": "Europe",
         "Weight_in_lbs": 1990,
         "Year": "1978-01-01"
        },
        {
         "Acceleration": 16.6,
         "Cylinders": 4,
         "Displacement": 98,
         "Horsepower": 68,
         "Miles_per_Gallon": 29.5,
         "Name": "honda Accelerationord lx",
         "Origin": "Japan",
         "Weight_in_lbs": 2135,
         "Year": "1978-01-01"
        },
        {
         "Acceleration": 15.4,
         "Cylinders": 6,
         "Displacement": 231,
         "Horsepower": 115,
         "Miles_per_Gallon": 21.5,
         "Name": "pontiac lemans v6",
         "Origin": "USA",
         "Weight_in_lbs": 3245,
         "Year": "1979-01-01"
        },
        {
         "Acceleration": 18.2,
         "Cylinders": 6,
         "Displacement": 200,
         "Horsepower": 85,
         "Miles_per_Gallon": 19.8,
         "Name": "mercury zephyr 6",
         "Origin": "USA",
         "Weight_in_lbs": 2990,
         "Year": "1979-01-01"
        },
        {
         "Acceleration": 17.3,
         "Cylinders": 4,
         "Displacement": 140,
         "Horsepower": 88,
         "Miles_per_Gallon": 22.3,
         "Name": "ford fairmont 4",
         "Origin": "USA",
         "Weight_in_lbs": 2890,
         "Year": "1979-01-01"
        },
        {
         "Acceleration": 18.2,
         "Cylinders": 6,
         "Displacement": 232,
         "Horsepower": 90,
         "Miles_per_Gallon": 20.2,
         "Name": "amc concord dl 6",
         "Origin": "USA",
         "Weight_in_lbs": 3265,
         "Year": "1979-01-01"
        },
        {
         "Acceleration": 16.6,
         "Cylinders": 6,
         "Displacement": 225,
         "Horsepower": 110,
         "Miles_per_Gallon": 20.6,
         "Name": "dodge aspen 6",
         "Origin": "USA",
         "Weight_in_lbs": 3360,
         "Year": "1979-01-01"
        },
        {
         "Acceleration": 15.4,
         "Cylinders": 8,
         "Displacement": 305,
         "Horsepower": 130,
         "Miles_per_Gallon": 17,
         "Name": "chevrolet caprice classic",
         "Origin": "USA",
         "Weight_in_lbs": 3840,
         "Year": "1979-01-01"
        },
        {
         "Acceleration": 13.4,
         "Cylinders": 8,
         "Displacement": 302,
         "Horsepower": 129,
         "Miles_per_Gallon": 17.6,
         "Name": "ford ltd landau",
         "Origin": "USA",
         "Weight_in_lbs": 3725,
         "Year": "1979-01-01"
        },
        {
         "Acceleration": 13.2,
         "Cylinders": 8,
         "Displacement": 351,
         "Horsepower": 138,
         "Miles_per_Gallon": 16.5,
         "Name": "mercury grand marquis",
         "Origin": "USA",
         "Weight_in_lbs": 3955,
         "Year": "1979-01-01"
        },
        {
         "Acceleration": 15.2,
         "Cylinders": 8,
         "Displacement": 318,
         "Horsepower": 135,
         "Miles_per_Gallon": 18.2,
         "Name": "dodge st. regis",
         "Origin": "USA",
         "Weight_in_lbs": 3830,
         "Year": "1979-01-01"
        },
        {
         "Acceleration": 14.9,
         "Cylinders": 8,
         "Displacement": 350,
         "Horsepower": 155,
         "Miles_per_Gallon": 16.9,
         "Name": "buick estate wagon (sw)",
         "Origin": "USA",
         "Weight_in_lbs": 4360,
         "Year": "1979-01-01"
        },
        {
         "Acceleration": 14.3,
         "Cylinders": 8,
         "Displacement": 351,
         "Horsepower": 142,
         "Miles_per_Gallon": 15.5,
         "Name": "ford country squire (sw)",
         "Origin": "USA",
         "Weight_in_lbs": 4054,
         "Year": "1979-01-01"
        },
        {
         "Acceleration": 15,
         "Cylinders": 8,
         "Displacement": 267,
         "Horsepower": 125,
         "Miles_per_Gallon": 19.2,
         "Name": "chevrolet malibu classic (sw)",
         "Origin": "USA",
         "Weight_in_lbs": 3605,
         "Year": "1979-01-01"
        },
        {
         "Acceleration": 13,
         "Cylinders": 8,
         "Displacement": 360,
         "Horsepower": 150,
         "Miles_per_Gallon": 18.5,
         "Name": "chrysler lebaron town @ country (sw)",
         "Origin": "USA",
         "Weight_in_lbs": 3940,
         "Year": "1979-01-01"
        },
        {
         "Acceleration": 14,
         "Cylinders": 4,
         "Displacement": 89,
         "Horsepower": 71,
         "Miles_per_Gallon": 31.9,
         "Name": "vw rabbit custom",
         "Origin": "Europe",
         "Weight_in_lbs": 1925,
         "Year": "1979-01-01"
        },
        {
         "Acceleration": 15.2,
         "Cylinders": 4,
         "Displacement": 86,
         "Horsepower": 65,
         "Miles_per_Gallon": 34.1,
         "Name": "maxda glc deluxe",
         "Origin": "Japan",
         "Weight_in_lbs": 1975,
         "Year": "1979-01-01"
        },
        {
         "Acceleration": 14.4,
         "Cylinders": 4,
         "Displacement": 98,
         "Horsepower": 80,
         "Miles_per_Gallon": 35.7,
         "Name": "dodge colt hatchback custom",
         "Origin": "USA",
         "Weight_in_lbs": 1915,
         "Year": "1979-01-01"
        },
        {
         "Acceleration": 15,
         "Cylinders": 4,
         "Displacement": 121,
         "Horsepower": 80,
         "Miles_per_Gallon": 27.4,
         "Name": "amc spirit dl",
         "Origin": "USA",
         "Weight_in_lbs": 2670,
         "Year": "1979-01-01"
        },
        {
         "Acceleration": 20.1,
         "Cylinders": 5,
         "Displacement": 183,
         "Horsepower": 77,
         "Miles_per_Gallon": 25.4,
         "Name": "mercedes benz 300d",
         "Origin": "Europe",
         "Weight_in_lbs": 3530,
         "Year": "1979-01-01"
        },
        {
         "Acceleration": 17.4,
         "Cylinders": 8,
         "Displacement": 350,
         "Horsepower": 125,
         "Miles_per_Gallon": 23,
         "Name": "cadillac eldorado",
         "Origin": "USA",
         "Weight_in_lbs": 3900,
         "Year": "1979-01-01"
        },
        {
         "Acceleration": 24.8,
         "Cylinders": 4,
         "Displacement": 141,
         "Horsepower": 71,
         "Miles_per_Gallon": 27.2,
         "Name": "peugeot 504",
         "Origin": "Europe",
         "Weight_in_lbs": 3190,
         "Year": "1979-01-01"
        },
        {
         "Acceleration": 22.2,
         "Cylinders": 8,
         "Displacement": 260,
         "Horsepower": 90,
         "Miles_per_Gallon": 23.9,
         "Name": "oldsmobile cutlass salon brougham",
         "Origin": "USA",
         "Weight_in_lbs": 3420,
         "Year": "1979-01-01"
        },
        {
         "Acceleration": 13.2,
         "Cylinders": 4,
         "Displacement": 105,
         "Horsepower": 70,
         "Miles_per_Gallon": 34.2,
         "Name": "plymouth horizon",
         "Origin": "USA",
         "Weight_in_lbs": 2200,
         "Year": "1979-01-01"
        },
        {
         "Acceleration": 14.9,
         "Cylinders": 4,
         "Displacement": 105,
         "Horsepower": 70,
         "Miles_per_Gallon": 34.5,
         "Name": "plymouth horizon tc3",
         "Origin": "USA",
         "Weight_in_lbs": 2150,
         "Year": "1979-01-01"
        },
        {
         "Acceleration": 19.2,
         "Cylinders": 4,
         "Displacement": 85,
         "Horsepower": 65,
         "Miles_per_Gallon": 31.8,
         "Name": "datsun 210",
         "Origin": "Japan",
         "Weight_in_lbs": 2020,
         "Year": "1979-01-01"
        },
        {
         "Acceleration": 14.7,
         "Cylinders": 4,
         "Displacement": 91,
         "Horsepower": 69,
         "Miles_per_Gallon": 37.3,
         "Name": "fiat strada custom",
         "Origin": "Europe",
         "Weight_in_lbs": 2130,
         "Year": "1979-01-01"
        },
        {
         "Acceleration": 16,
         "Cylinders": 4,
         "Displacement": 151,
         "Horsepower": 90,
         "Miles_per_Gallon": 28.4,
         "Name": "buick skylark limited",
         "Origin": "USA",
         "Weight_in_lbs": 2670,
         "Year": "1979-01-01"
        },
        {
         "Acceleration": 11.3,
         "Cylinders": 6,
         "Displacement": 173,
         "Horsepower": 115,
         "Miles_per_Gallon": 28.8,
         "Name": "chevrolet citation",
         "Origin": "USA",
         "Weight_in_lbs": 2595,
         "Year": "1979-01-01"
        },
        {
         "Acceleration": 12.9,
         "Cylinders": 6,
         "Displacement": 173,
         "Horsepower": 115,
         "Miles_per_Gallon": 26.8,
         "Name": "oldsmobile omega brougham",
         "Origin": "USA",
         "Weight_in_lbs": 2700,
         "Year": "1979-01-01"
        },
        {
         "Acceleration": 13.2,
         "Cylinders": 4,
         "Displacement": 151,
         "Horsepower": 90,
         "Miles_per_Gallon": 33.5,
         "Name": "pontiac phoenix",
         "Origin": "USA",
         "Weight_in_lbs": 2556,
         "Year": "1979-01-01"
        },
        {
         "Acceleration": 14.7,
         "Cylinders": 4,
         "Displacement": 98,
         "Horsepower": 76,
         "Miles_per_Gallon": 41.5,
         "Name": "vw rabbit",
         "Origin": "Europe",
         "Weight_in_lbs": 2144,
         "Year": "1980-01-01"
        },
        {
         "Acceleration": 18.8,
         "Cylinders": 4,
         "Displacement": 89,
         "Horsepower": 60,
         "Miles_per_Gallon": 38.1,
         "Name": "toyota corolla tercel",
         "Origin": "Japan",
         "Weight_in_lbs": 1968,
         "Year": "1980-01-01"
        },
        {
         "Acceleration": 15.5,
         "Cylinders": 4,
         "Displacement": 98,
         "Horsepower": 70,
         "Miles_per_Gallon": 32.1,
         "Name": "chevrolet chevette",
         "Origin": "USA",
         "Weight_in_lbs": 2120,
         "Year": "1980-01-01"
        },
        {
         "Acceleration": 16.4,
         "Cylinders": 4,
         "Displacement": 86,
         "Horsepower": 65,
         "Miles_per_Gallon": 37.2,
         "Name": "datsun 310",
         "Origin": "Japan",
         "Weight_in_lbs": 2019,
         "Year": "1980-01-01"
        },
        {
         "Acceleration": 16.5,
         "Cylinders": 4,
         "Displacement": 151,
         "Horsepower": 90,
         "Miles_per_Gallon": 28,
         "Name": "chevrolet citation",
         "Origin": "USA",
         "Weight_in_lbs": 2678,
         "Year": "1980-01-01"
        },
        {
         "Acceleration": 18.1,
         "Cylinders": 4,
         "Displacement": 140,
         "Horsepower": 88,
         "Miles_per_Gallon": 26.4,
         "Name": "ford fairmont",
         "Origin": "USA",
         "Weight_in_lbs": 2870,
         "Year": "1980-01-01"
        },
        {
         "Acceleration": 20.1,
         "Cylinders": 4,
         "Displacement": 151,
         "Horsepower": 90,
         "Miles_per_Gallon": 24.3,
         "Name": "amc concord",
         "Origin": "USA",
         "Weight_in_lbs": 3003,
         "Year": "1980-01-01"
        },
        {
         "Acceleration": 18.7,
         "Cylinders": 6,
         "Displacement": 225,
         "Horsepower": 90,
         "Miles_per_Gallon": 19.1,
         "Name": "dodge aspen",
         "Origin": "USA",
         "Weight_in_lbs": 3381,
         "Year": "1980-01-01"
        },
        {
         "Acceleration": 15.8,
         "Cylinders": 4,
         "Displacement": 97,
         "Horsepower": 78,
         "Miles_per_Gallon": 34.3,
         "Name": "audi 4000",
         "Origin": "Europe",
         "Weight_in_lbs": 2188,
         "Year": "1980-01-01"
        },
        {
         "Acceleration": 15.5,
         "Cylinders": 4,
         "Displacement": 134,
         "Horsepower": 90,
         "Miles_per_Gallon": 29.8,
         "Name": "toyota corona liftback",
         "Origin": "Japan",
         "Weight_in_lbs": 2711,
         "Year": "1980-01-01"
        },
        {
         "Acceleration": 17.5,
         "Cylinders": 4,
         "Displacement": 120,
         "Horsepower": 75,
         "Miles_per_Gallon": 31.3,
         "Name": "mazda 626",
         "Origin": "Japan",
         "Weight_in_lbs": 2542,
         "Year": "1980-01-01"
        },
        {
         "Acceleration": 15,
         "Cylinders": 4,
         "Displacement": 119,
         "Horsepower": 92,
         "Miles_per_Gallon": 37,
         "Name": "datsun 510 hatchback",
         "Origin": "Japan",
         "Weight_in_lbs": 2434,
         "Year": "1980-01-01"
        },
        {
         "Acceleration": 15.2,
         "Cylinders": 4,
         "Displacement": 108,
         "Horsepower": 75,
         "Miles_per_Gallon": 32.2,
         "Name": "toyota corolla",
         "Origin": "Japan",
         "Weight_in_lbs": 2265,
         "Year": "1980-01-01"
        },
        {
         "Acceleration": 17.9,
         "Cylinders": 4,
         "Displacement": 86,
         "Horsepower": 65,
         "Miles_per_Gallon": 46.6,
         "Name": "mazda glc",
         "Origin": "Japan",
         "Weight_in_lbs": 2110,
         "Year": "1980-01-01"
        },
        {
         "Acceleration": 14.4,
         "Cylinders": 4,
         "Displacement": 156,
         "Horsepower": 105,
         "Miles_per_Gallon": 27.9,
         "Name": "dodge colt",
         "Origin": "USA",
         "Weight_in_lbs": 2800,
         "Year": "1980-01-01"
        },
        {
         "Acceleration": 19.2,
         "Cylinders": 4,
         "Displacement": 85,
         "Horsepower": 65,
         "Miles_per_Gallon": 40.8,
         "Name": "datsun 210",
         "Origin": "Japan",
         "Weight_in_lbs": 2110,
         "Year": "1980-01-01"
        },
        {
         "Acceleration": 21.7,
         "Cylinders": 4,
         "Displacement": 90,
         "Horsepower": 48,
         "Miles_per_Gallon": 44.3,
         "Name": "vw rabbit c (diesel)",
         "Origin": "Europe",
         "Weight_in_lbs": 2085,
         "Year": "1980-01-01"
        },
        {
         "Acceleration": 23.7,
         "Cylinders": 4,
         "Displacement": 90,
         "Horsepower": 48,
         "Miles_per_Gallon": 43.4,
         "Name": "vw dasher (diesel)",
         "Origin": "Europe",
         "Weight_in_lbs": 2335,
         "Year": "1980-01-01"
        },
        {
         "Acceleration": 19.9,
         "Cylinders": 5,
         "Displacement": 121,
         "Horsepower": 67,
         "Miles_per_Gallon": 36.4,
         "Name": "audi 5000s (diesel)",
         "Origin": "Europe",
         "Weight_in_lbs": 2950,
         "Year": "1980-01-01"
        },
        {
         "Acceleration": 21.8,
         "Cylinders": 4,
         "Displacement": 146,
         "Horsepower": 67,
         "Miles_per_Gallon": 30,
         "Name": "mercedes-benz 240d",
         "Origin": "Europe",
         "Weight_in_lbs": 3250,
         "Year": "1980-01-01"
        },
        {
         "Acceleration": 13.8,
         "Cylinders": 4,
         "Displacement": 91,
         "Horsepower": 67,
         "Miles_per_Gallon": 44.6,
         "Name": "honda civic 1500 gl",
         "Origin": "Japan",
         "Weight_in_lbs": 1850,
         "Year": "1980-01-01"
        },
        {
         "Acceleration": 17.3,
         "Cylinders": 4,
         "Displacement": 85,
         "Horsepower": null,
         "Miles_per_Gallon": 40.9,
         "Name": "renault lecar deluxe",
         "Origin": "Europe",
         "Weight_in_lbs": 1835,
         "Year": "1980-01-01"
        },
        {
         "Acceleration": 18,
         "Cylinders": 4,
         "Displacement": 97,
         "Horsepower": 67,
         "Miles_per_Gallon": 33.8,
         "Name": "subaru dl",
         "Origin": "Japan",
         "Weight_in_lbs": 2145,
         "Year": "1980-01-01"
        },
        {
         "Acceleration": 15.3,
         "Cylinders": 4,
         "Displacement": 89,
         "Horsepower": 62,
         "Miles_per_Gallon": 29.8,
         "Name": "vokswagen rabbit",
         "Origin": "Europe",
         "Weight_in_lbs": 1845,
         "Year": "1980-01-01"
        },
        {
         "Acceleration": 11.4,
         "Cylinders": 6,
         "Displacement": 168,
         "Horsepower": 132,
         "Miles_per_Gallon": 32.7,
         "Name": "datsun 280-zx",
         "Origin": "Japan",
         "Weight_in_lbs": 2910,
         "Year": "1980-01-01"
        },
        {
         "Acceleration": 12.5,
         "Cylinders": 3,
         "Displacement": 70,
         "Horsepower": 100,
         "Miles_per_Gallon": 23.7,
         "Name": "mazda rx-7 gs",
         "Origin": "Japan",
         "Weight_in_lbs": 2420,
         "Year": "1980-01-01"
        },
        {
         "Acceleration": 15.1,
         "Cylinders": 4,
         "Displacement": 122,
         "Horsepower": 88,
         "Miles_per_Gallon": 35,
         "Name": "triumph tr7 coupe",
         "Origin": "Europe",
         "Weight_in_lbs": 2500,
         "Year": "1980-01-01"
        },
        {
         "Acceleration": 14.3,
         "Cylinders": 4,
         "Displacement": 140,
         "Horsepower": null,
         "Miles_per_Gallon": 23.6,
         "Name": "ford mustang cobra",
         "Origin": "USA",
         "Weight_in_lbs": 2905,
         "Year": "1980-01-01"
        },
        {
         "Acceleration": 17,
         "Cylinders": 4,
         "Displacement": 107,
         "Horsepower": 72,
         "Miles_per_Gallon": 32.4,
         "Name": "honda Accelerationord",
         "Origin": "Japan",
         "Weight_in_lbs": 2290,
         "Year": "1980-01-01"
        },
        {
         "Acceleration": 15.7,
         "Cylinders": 4,
         "Displacement": 135,
         "Horsepower": 84,
         "Miles_per_Gallon": 27.2,
         "Name": "plymouth reliant",
         "Origin": "USA",
         "Weight_in_lbs": 2490,
         "Year": "1982-01-01"
        },
        {
         "Acceleration": 16.4,
         "Cylinders": 4,
         "Displacement": 151,
         "Horsepower": 84,
         "Miles_per_Gallon": 26.6,
         "Name": "buick skylark",
         "Origin": "USA",
         "Weight_in_lbs": 2635,
         "Year": "1982-01-01"
        },
        {
         "Acceleration": 14.4,
         "Cylinders": 4,
         "Displacement": 156,
         "Horsepower": 92,
         "Miles_per_Gallon": 25.8,
         "Name": "dodge aries wagon (sw)",
         "Origin": "USA",
         "Weight_in_lbs": 2620,
         "Year": "1982-01-01"
        },
        {
         "Acceleration": 12.6,
         "Cylinders": 6,
         "Displacement": 173,
         "Horsepower": 110,
         "Miles_per_Gallon": 23.5,
         "Name": "chevrolet citation",
         "Origin": "USA",
         "Weight_in_lbs": 2725,
         "Year": "1982-01-01"
        },
        {
         "Acceleration": 12.9,
         "Cylinders": 4,
         "Displacement": 135,
         "Horsepower": 84,
         "Miles_per_Gallon": 30,
         "Name": "plymouth reliant",
         "Origin": "USA",
         "Weight_in_lbs": 2385,
         "Year": "1982-01-01"
        },
        {
         "Acceleration": 16.9,
         "Cylinders": 4,
         "Displacement": 79,
         "Horsepower": 58,
         "Miles_per_Gallon": 39.1,
         "Name": "toyota starlet",
         "Origin": "Japan",
         "Weight_in_lbs": 1755,
         "Year": "1982-01-01"
        },
        {
         "Acceleration": 16.4,
         "Cylinders": 4,
         "Displacement": 86,
         "Horsepower": 64,
         "Miles_per_Gallon": 39,
         "Name": "plymouth champ",
         "Origin": "USA",
         "Weight_in_lbs": 1875,
         "Year": "1982-01-01"
        },
        {
         "Acceleration": 16.1,
         "Cylinders": 4,
         "Displacement": 81,
         "Horsepower": 60,
         "Miles_per_Gallon": 35.1,
         "Name": "honda civic 1300",
         "Origin": "Japan",
         "Weight_in_lbs": 1760,
         "Year": "1982-01-01"
        },
        {
         "Acceleration": 17.8,
         "Cylinders": 4,
         "Displacement": 97,
         "Horsepower": 67,
         "Miles_per_Gallon": 32.3,
         "Name": "subaru",
         "Origin": "Japan",
         "Weight_in_lbs": 2065,
         "Year": "1982-01-01"
        },
        {
         "Acceleration": 19.4,
         "Cylinders": 4,
         "Displacement": 85,
         "Horsepower": 65,
         "Miles_per_Gallon": 37,
         "Name": "datsun 210",
         "Origin": "Japan",
         "Weight_in_lbs": 1975,
         "Year": "1982-01-01"
        },
        {
         "Acceleration": 17.3,
         "Cylinders": 4,
         "Displacement": 89,
         "Horsepower": 62,
         "Miles_per_Gallon": 37.7,
         "Name": "toyota tercel",
         "Origin": "Japan",
         "Weight_in_lbs": 2050,
         "Year": "1982-01-01"
        },
        {
         "Acceleration": 16,
         "Cylinders": 4,
         "Displacement": 91,
         "Horsepower": 68,
         "Miles_per_Gallon": 34.1,
         "Name": "mazda glc 4",
         "Origin": "Japan",
         "Weight_in_lbs": 1985,
         "Year": "1982-01-01"
        },
        {
         "Acceleration": 14.9,
         "Cylinders": 4,
         "Displacement": 105,
         "Horsepower": 63,
         "Miles_per_Gallon": 34.7,
         "Name": "plymouth horizon 4",
         "Origin": "USA",
         "Weight_in_lbs": 2215,
         "Year": "1982-01-01"
        },
        {
         "Acceleration": 16.2,
         "Cylinders": 4,
         "Displacement": 98,
         "Horsepower": 65,
         "Miles_per_Gallon": 34.4,
         "Name": "ford escort 4w",
         "Origin": "USA",
         "Weight_in_lbs": 2045,
         "Year": "1982-01-01"
        },
        {
         "Acceleration": 20.7,
         "Cylinders": 4,
         "Displacement": 98,
         "Horsepower": 65,
         "Miles_per_Gallon": 29.9,
         "Name": "ford escort 2h",
         "Origin": "USA",
         "Weight_in_lbs": 2380,
         "Year": "1982-01-01"
        },
        {
         "Acceleration": 14.2,
         "Cylinders": 4,
         "Displacement": 105,
         "Horsepower": 74,
         "Miles_per_Gallon": 33,
         "Name": "volkswagen jetta",
         "Origin": "Europe",
         "Weight_in_lbs": 2190,
         "Year": "1982-01-01"
        },
        {
         "Acceleration": 15.8,
         "Cylinders": 4,
         "Displacement": 100,
         "Horsepower": null,
         "Miles_per_Gallon": 34.5,
         "Name": "renault 18i",
         "Origin": "Europe",
         "Weight_in_lbs": 2320,
         "Year": "1982-01-01"
        },
        {
         "Acceleration": 14.4,
         "Cylinders": 4,
         "Displacement": 107,
         "Horsepower": 75,
         "Miles_per_Gallon": 33.7,
         "Name": "honda prelude",
         "Origin": "Japan",
         "Weight_in_lbs": 2210,
         "Year": "1982-01-01"
        },
        {
         "Acceleration": 16.8,
         "Cylinders": 4,
         "Displacement": 108,
         "Horsepower": 75,
         "Miles_per_Gallon": 32.4,
         "Name": "toyota corolla",
         "Origin": "Japan",
         "Weight_in_lbs": 2350,
         "Year": "1982-01-01"
        },
        {
         "Acceleration": 14.8,
         "Cylinders": 4,
         "Displacement": 119,
         "Horsepower": 100,
         "Miles_per_Gallon": 32.9,
         "Name": "datsun 200sx",
         "Origin": "Japan",
         "Weight_in_lbs": 2615,
         "Year": "1982-01-01"
        },
        {
         "Acceleration": 18.3,
         "Cylinders": 4,
         "Displacement": 120,
         "Horsepower": 74,
         "Miles_per_Gallon": 31.6,
         "Name": "mazda 626",
         "Origin": "Japan",
         "Weight_in_lbs": 2635,
         "Year": "1982-01-01"
        },
        {
         "Acceleration": 20.4,
         "Cylinders": 4,
         "Displacement": 141,
         "Horsepower": 80,
         "Miles_per_Gallon": 28.1,
         "Name": "peugeot 505s turbo diesel",
         "Origin": "Europe",
         "Weight_in_lbs": 3230,
         "Year": "1982-01-01"
        },
        {
         "Acceleration": 15.4,
         "Cylinders": 4,
         "Displacement": 121,
         "Horsepower": 110,
         "Miles_per_Gallon": null,
         "Name": "saab 900s",
         "Origin": "Europe",
         "Weight_in_lbs": 2800,
         "Year": "1982-01-01"
        },
        {
         "Acceleration": 19.6,
         "Cylinders": 6,
         "Displacement": 145,
         "Horsepower": 76,
         "Miles_per_Gallon": 30.7,
         "Name": "volvo diesel",
         "Origin": "Europe",
         "Weight_in_lbs": 3160,
         "Year": "1982-01-01"
        },
        {
         "Acceleration": 12.6,
         "Cylinders": 6,
         "Displacement": 168,
         "Horsepower": 116,
         "Miles_per_Gallon": 25.4,
         "Name": "toyota cressida",
         "Origin": "Japan",
         "Weight_in_lbs": 2900,
         "Year": "1982-01-01"
        },
        {
         "Acceleration": 13.8,
         "Cylinders": 6,
         "Displacement": 146,
         "Horsepower": 120,
         "Miles_per_Gallon": 24.2,
         "Name": "datsun 810 maxima",
         "Origin": "Japan",
         "Weight_in_lbs": 2930,
         "Year": "1982-01-01"
        },
        {
         "Acceleration": 15.8,
         "Cylinders": 6,
         "Displacement": 231,
         "Horsepower": 110,
         "Miles_per_Gallon": 22.4,
         "Name": "buick century",
         "Origin": "USA",
         "Weight_in_lbs": 3415,
         "Year": "1982-01-01"
        },
        {
         "Acceleration": 19,
         "Cylinders": 8,
         "Displacement": 350,
         "Horsepower": 105,
         "Miles_per_Gallon": 26.6,
         "Name": "oldsmobile cutlass ls",
         "Origin": "USA",
         "Weight_in_lbs": 3725,
         "Year": "1982-01-01"
        },
        {
         "Acceleration": 17.1,
         "Cylinders": 6,
         "Displacement": 200,
         "Horsepower": 88,
         "Miles_per_Gallon": 20.2,
         "Name": "ford granada gl",
         "Origin": "USA",
         "Weight_in_lbs": 3060,
         "Year": "1982-01-01"
        },
        {
         "Acceleration": 16.6,
         "Cylinders": 6,
         "Displacement": 225,
         "Horsepower": 85,
         "Miles_per_Gallon": 17.6,
         "Name": "chrysler lebaron salon",
         "Origin": "USA",
         "Weight_in_lbs": 3465,
         "Year": "1982-01-01"
        },
        {
         "Acceleration": 19.6,
         "Cylinders": 4,
         "Displacement": 112,
         "Horsepower": 88,
         "Miles_per_Gallon": 28,
         "Name": "chevrolet cavalier",
         "Origin": "USA",
         "Weight_in_lbs": 2605,
         "Year": "1982-01-01"
        },
        {
         "Acceleration": 18.6,
         "Cylinders": 4,
         "Displacement": 112,
         "Horsepower": 88,
         "Miles_per_Gallon": 27,
         "Name": "chevrolet cavalier wagon",
         "Origin": "USA",
         "Weight_in_lbs": 2640,
         "Year": "1982-01-01"
        },
        {
         "Acceleration": 18,
         "Cylinders": 4,
         "Displacement": 112,
         "Horsepower": 88,
         "Miles_per_Gallon": 34,
         "Name": "chevrolet cavalier 2-door",
         "Origin": "USA",
         "Weight_in_lbs": 2395,
         "Year": "1982-01-01"
        },
        {
         "Acceleration": 16.2,
         "Cylinders": 4,
         "Displacement": 112,
         "Horsepower": 85,
         "Miles_per_Gallon": 31,
         "Name": "pontiac j2000 se hatchback",
         "Origin": "USA",
         "Weight_in_lbs": 2575,
         "Year": "1982-01-01"
        },
        {
         "Acceleration": 16,
         "Cylinders": 4,
         "Displacement": 135,
         "Horsepower": 84,
         "Miles_per_Gallon": 29,
         "Name": "dodge aries se",
         "Origin": "USA",
         "Weight_in_lbs": 2525,
         "Year": "1982-01-01"
        },
        {
         "Acceleration": 18,
         "Cylinders": 4,
         "Displacement": 151,
         "Horsepower": 90,
         "Miles_per_Gallon": 27,
         "Name": "pontiac phoenix",
         "Origin": "USA",
         "Weight_in_lbs": 2735,
         "Year": "1982-01-01"
        },
        {
         "Acceleration": 16.4,
         "Cylinders": 4,
         "Displacement": 140,
         "Horsepower": 92,
         "Miles_per_Gallon": 24,
         "Name": "ford fairmont futura",
         "Origin": "USA",
         "Weight_in_lbs": 2865,
         "Year": "1982-01-01"
        },
        {
         "Acceleration": 20.5,
         "Cylinders": 4,
         "Displacement": 151,
         "Horsepower": null,
         "Miles_per_Gallon": 23,
         "Name": "amc concord dl",
         "Origin": "USA",
         "Weight_in_lbs": 3035,
         "Year": "1982-01-01"
        },
        {
         "Acceleration": 15.3,
         "Cylinders": 4,
         "Displacement": 105,
         "Horsepower": 74,
         "Miles_per_Gallon": 36,
         "Name": "volkswagen rabbit l",
         "Origin": "Europe",
         "Weight_in_lbs": 1980,
         "Year": "1982-01-01"
        },
        {
         "Acceleration": 18.2,
         "Cylinders": 4,
         "Displacement": 91,
         "Horsepower": 68,
         "Miles_per_Gallon": 37,
         "Name": "mazda glc custom l",
         "Origin": "Japan",
         "Weight_in_lbs": 2025,
         "Year": "1982-01-01"
        },
        {
         "Acceleration": 17.6,
         "Cylinders": 4,
         "Displacement": 91,
         "Horsepower": 68,
         "Miles_per_Gallon": 31,
         "Name": "mazda glc custom",
         "Origin": "Japan",
         "Weight_in_lbs": 1970,
         "Year": "1982-01-01"
        },
        {
         "Acceleration": 14.7,
         "Cylinders": 4,
         "Displacement": 105,
         "Horsepower": 63,
         "Miles_per_Gallon": 38,
         "Name": "plymouth horizon miser",
         "Origin": "USA",
         "Weight_in_lbs": 2125,
         "Year": "1982-01-01"
        },
        {
         "Acceleration": 17.3,
         "Cylinders": 4,
         "Displacement": 98,
         "Horsepower": 70,
         "Miles_per_Gallon": 36,
         "Name": "mercury lynx l",
         "Origin": "USA",
         "Weight_in_lbs": 2125,
         "Year": "1982-01-01"
        },
        {
         "Acceleration": 14.5,
         "Cylinders": 4,
         "Displacement": 120,
         "Horsepower": 88,
         "Miles_per_Gallon": 36,
         "Name": "nissan stanza xe",
         "Origin": "Japan",
         "Weight_in_lbs": 2160,
         "Year": "1982-01-01"
        },
        {
         "Acceleration": 14.5,
         "Cylinders": 4,
         "Displacement": 107,
         "Horsepower": 75,
         "Miles_per_Gallon": 36,
         "Name": "honda Accelerationord",
         "Origin": "Japan",
         "Weight_in_lbs": 2205,
         "Year": "1982-01-01"
        },
        {
         "Acceleration": 16.9,
         "Cylinders": 4,
         "Displacement": 108,
         "Horsepower": 70,
         "Miles_per_Gallon": 34,
         "Name": "toyota corolla",
         "Origin": "Japan",
         "Weight_in_lbs": 2245,
         "Year": "1982-01-01"
        },
        {
         "Acceleration": 15,
         "Cylinders": 4,
         "Displacement": 91,
         "Horsepower": 67,
         "Miles_per_Gallon": 38,
         "Name": "honda civic",
         "Origin": "Japan",
         "Weight_in_lbs": 1965,
         "Year": "1982-01-01"
        },
        {
         "Acceleration": 15.7,
         "Cylinders": 4,
         "Displacement": 91,
         "Horsepower": 67,
         "Miles_per_Gallon": 32,
         "Name": "honda civic (auto)",
         "Origin": "Japan",
         "Weight_in_lbs": 1965,
         "Year": "1982-01-01"
        },
        {
         "Acceleration": 16.2,
         "Cylinders": 4,
         "Displacement": 91,
         "Horsepower": 67,
         "Miles_per_Gallon": 38,
         "Name": "datsun 310 gx",
         "Origin": "Japan",
         "Weight_in_lbs": 1995,
         "Year": "1982-01-01"
        },
        {
         "Acceleration": 16.4,
         "Cylinders": 6,
         "Displacement": 181,
         "Horsepower": 110,
         "Miles_per_Gallon": 25,
         "Name": "buick century limited",
         "Origin": "USA",
         "Weight_in_lbs": 2945,
         "Year": "1982-01-01"
        },
        {
         "Acceleration": 17,
         "Cylinders": 6,
         "Displacement": 262,
         "Horsepower": 85,
         "Miles_per_Gallon": 38,
         "Name": "oldsmobile cutlass ciera (diesel)",
         "Origin": "USA",
         "Weight_in_lbs": 3015,
         "Year": "1982-01-01"
        },
        {
         "Acceleration": 14.5,
         "Cylinders": 4,
         "Displacement": 156,
         "Horsepower": 92,
         "Miles_per_Gallon": 26,
         "Name": "chrysler lebaron medallion",
         "Origin": "USA",
         "Weight_in_lbs": 2585,
         "Year": "1982-01-01"
        },
        {
         "Acceleration": 14.7,
         "Cylinders": 6,
         "Displacement": 232,
         "Horsepower": 112,
         "Miles_per_Gallon": 22,
         "Name": "ford granada l",
         "Origin": "USA",
         "Weight_in_lbs": 2835,
         "Year": "1982-01-01"
        },
        {
         "Acceleration": 13.9,
         "Cylinders": 4,
         "Displacement": 144,
         "Horsepower": 96,
         "Miles_per_Gallon": 32,
         "Name": "toyota celica gt",
         "Origin": "Japan",
         "Weight_in_lbs": 2665,
         "Year": "1982-01-01"
        },
        {
         "Acceleration": 13,
         "Cylinders": 4,
         "Displacement": 135,
         "Horsepower": 84,
         "Miles_per_Gallon": 36,
         "Name": "dodge charger 2.2",
         "Origin": "USA",
         "Weight_in_lbs": 2370,
         "Year": "1982-01-01"
        },
        {
         "Acceleration": 17.3,
         "Cylinders": 4,
         "Displacement": 151,
         "Horsepower": 90,
         "Miles_per_Gallon": 27,
         "Name": "chevrolet camaro",
         "Origin": "USA",
         "Weight_in_lbs": 2950,
         "Year": "1982-01-01"
        },
        {
         "Acceleration": 15.6,
         "Cylinders": 4,
         "Displacement": 140,
         "Horsepower": 86,
         "Miles_per_Gallon": 27,
         "Name": "ford mustang gl",
         "Origin": "USA",
         "Weight_in_lbs": 2790,
         "Year": "1982-01-01"
        },
        {
         "Acceleration": 24.6,
         "Cylinders": 4,
         "Displacement": 97,
         "Horsepower": 52,
         "Miles_per_Gallon": 44,
         "Name": "vw pickup",
         "Origin": "Europe",
         "Weight_in_lbs": 2130,
         "Year": "1982-01-01"
        },
        {
         "Acceleration": 11.6,
         "Cylinders": 4,
         "Displacement": 135,
         "Horsepower": 84,
         "Miles_per_Gallon": 32,
         "Name": "dodge rampage",
         "Origin": "USA",
         "Weight_in_lbs": 2295,
         "Year": "1982-01-01"
        },
        {
         "Acceleration": 18.6,
         "Cylinders": 4,
         "Displacement": 120,
         "Horsepower": 79,
         "Miles_per_Gallon": 28,
         "Name": "ford ranger",
         "Origin": "USA",
         "Weight_in_lbs": 2625,
         "Year": "1982-01-01"
        },
        {
         "Acceleration": 19.4,
         "Cylinders": 4,
         "Displacement": 119,
         "Horsepower": 82,
         "Miles_per_Gallon": 31,
         "Name": "chevy s-10",
         "Origin": "USA",
         "Weight_in_lbs": 2720,
         "Year": "1982-01-01"
        }
       ],
       "schema": {
        "fields": [
         {
          "name": "Name",
          "type": "string"
         },
         {
          "name": "Miles_per_Gallon",
          "type": "number"
         },
         {
          "name": "Cylinders",
          "type": "integer"
         },
         {
          "name": "Displacement",
          "type": "number"
         },
         {
          "name": "Horsepower",
          "type": "integer"
         },
         {
          "name": "Weight_in_lbs",
          "type": "integer"
         },
         {
          "name": "Acceleration",
          "type": "number"
         },
         {
          "name": "Year",
          "type": "date"
         },
         {
          "name": "Origin",
          "type": "string"
         }
        ]
       }
      },
      "text/html": [
       "<table><thead><tr><th>Name</th><th>Miles_per_Gallon</th><th>Cylinders</th><th>Displacement</th><th>Horsepower</th><th>Weight_in_lbs</th><th>Acceleration</th><th>Year</th><th>Origin</th></tr></thead><tbody><tr><td>&quot;chevrolet chevelle malibu&quot;</td><td>18.0</td><td>8</td><td>307.0</td><td>130</td><td>3504</td><td>12.0</td><td>Date&#40;&quot;1970-01-01&quot;&#41;</td><td>&quot;USA&quot;</td></tr><tr><td>&quot;buick skylark 320&quot;</td><td>15.0</td><td>8</td><td>350.0</td><td>165</td><td>3693</td><td>11.5</td><td>Date&#40;&quot;1970-01-01&quot;&#41;</td><td>&quot;USA&quot;</td></tr><tr><td>&quot;plymouth satellite&quot;</td><td>18.0</td><td>8</td><td>318.0</td><td>150</td><td>3436</td><td>11.0</td><td>Date&#40;&quot;1970-01-01&quot;&#41;</td><td>&quot;USA&quot;</td></tr><tr><td>&quot;amc rebel sst&quot;</td><td>16.0</td><td>8</td><td>304.0</td><td>150</td><td>3433</td><td>12.0</td><td>Date&#40;&quot;1970-01-01&quot;&#41;</td><td>&quot;USA&quot;</td></tr><tr><td>&quot;ford torino&quot;</td><td>17.0</td><td>8</td><td>302.0</td><td>140</td><td>3449</td><td>10.5</td><td>Date&#40;&quot;1970-01-01&quot;&#41;</td><td>&quot;USA&quot;</td></tr><tr><td>&quot;ford galaxie 500&quot;</td><td>15.0</td><td>8</td><td>429.0</td><td>198</td><td>4341</td><td>10.0</td><td>Date&#40;&quot;1970-01-01&quot;&#41;</td><td>&quot;USA&quot;</td></tr><tr><td>&quot;chevrolet impala&quot;</td><td>14.0</td><td>8</td><td>454.0</td><td>220</td><td>4354</td><td>9.0</td><td>Date&#40;&quot;1970-01-01&quot;&#41;</td><td>&quot;USA&quot;</td></tr><tr><td>&quot;plymouth fury iii&quot;</td><td>14.0</td><td>8</td><td>440.0</td><td>215</td><td>4312</td><td>8.5</td><td>Date&#40;&quot;1970-01-01&quot;&#41;</td><td>&quot;USA&quot;</td></tr><tr><td>&quot;pontiac catalina&quot;</td><td>14.0</td><td>8</td><td>455.0</td><td>225</td><td>4425</td><td>10.0</td><td>Date&#40;&quot;1970-01-01&quot;&#41;</td><td>&quot;USA&quot;</td></tr><tr><td>&quot;amc ambassador dpl&quot;</td><td>15.0</td><td>8</td><td>390.0</td><td>190</td><td>3850</td><td>8.5</td><td>Date&#40;&quot;1970-01-01&quot;&#41;</td><td>&quot;USA&quot;</td></tr><tr><td>&vellip;</td><td>&vellip;</td><td>&vellip;</td><td>&vellip;</td><td>&vellip;</td><td>&vellip;</td><td>&vellip;</td><td>&vellip;</td><td>&vellip;</td></tr></tbody></table><p>... with 396 more rows.</p>"
      ],
      "text/plain": [
       "406x9 CSV file\n",
       "Name                      │ Miles_per_Gallon │ Cylinders │ Displacement\n",
       "──────────────────────────┼──────────────────┼───────────┼─────────────\n",
       "chevrolet chevelle malibu │ 18.0             │ 8         │ 307.0       \n",
       "buick skylark 320         │ 15.0             │ 8         │ 350.0       \n",
       "plymouth satellite        │ 18.0             │ 8         │ 318.0       \n",
       "amc rebel sst             │ 16.0             │ 8         │ 304.0       \n",
       "ford torino               │ 17.0             │ 8         │ 302.0       \n",
       "ford galaxie 500          │ 15.0             │ 8         │ 429.0       \n",
       "chevrolet impala          │ 14.0             │ 8         │ 454.0       \n",
       "plymouth fury iii         │ 14.0             │ 8         │ 440.0       \n",
       "pontiac catalina          │ 14.0             │ 8         │ 455.0       \n",
       "amc ambassador dpl        │ 15.0             │ 8         │ 390.0       \n",
       "... with 396 more rows, and 5 more columns: Horsepower, Weight_in_lbs, Acceleration, Year, Origin"
      ]
     },
     "execution_count": 12,
     "metadata": {},
     "output_type": "execute_result"
    }
   ],
   "source": [
    "cars = load(\"Data/cars.csv\")"
   ]
  },
  {
   "cell_type": "markdown",
   "metadata": {},
   "source": [
    "The ouput of `load()` is NOT a dataframe, but ... a CSVFiles. This is because Julia does not read ALL the file in memory, but it keeps on disk and access it as it needs it."
   ]
  },
  {
   "cell_type": "code",
   "execution_count": 13,
   "metadata": {},
   "outputs": [
    {
     "data": {
      "text/plain": [
       "CSVFiles.CSVFile"
      ]
     },
     "execution_count": 13,
     "metadata": {},
     "output_type": "execute_result"
    }
   ],
   "source": [
    "cars |>\n",
    " typeof"
   ]
  },
  {
   "cell_type": "markdown",
   "metadata": {},
   "source": [
    "Yet, the output is still tabular data, in particular an \"IndexedTable\" (in the Queryverse jargon), and so we can filer and operate on it as we do with dataframes:"
   ]
  },
  {
   "cell_type": "code",
   "execution_count": 14,
   "metadata": {},
   "outputs": [
    {
     "data": {
      "application/vnd.vegalite.v4+json": {
       "data": {
        "values": [
         {
          "Acceleration": 17.5,
          "Cylinders": 4,
          "Displacement": 133,
          "Horsepower": 115,
          "Miles_per_Gallon": null,
          "Name": "citroen ds-21 pallas",
          "Origin": "Europe",
          "Weight_in_lbs": 3090,
          "Year": "1970-01-01"
         },
         {
          "Acceleration": 20.5,
          "Cylinders": 4,
          "Displacement": 97,
          "Horsepower": 46,
          "Miles_per_Gallon": 26,
          "Name": "volkswagen 1131 deluxe sedan",
          "Origin": "Europe",
          "Weight_in_lbs": 1835,
          "Year": "1970-01-01"
         },
         {
          "Acceleration": 17.5,
          "Cylinders": 4,
          "Displacement": 110,
          "Horsepower": 87,
          "Miles_per_Gallon": 25,
          "Name": "peugeot 504",
          "Origin": "Europe",
          "Weight_in_lbs": 2672,
          "Year": "1970-01-01"
         },
         {
          "Acceleration": 14.5,
          "Cylinders": 4,
          "Displacement": 107,
          "Horsepower": 90,
          "Miles_per_Gallon": 24,
          "Name": "audi 100 ls",
          "Origin": "Europe",
          "Weight_in_lbs": 2430,
          "Year": "1970-01-01"
         },
         {
          "Acceleration": 17.5,
          "Cylinders": 4,
          "Displacement": 104,
          "Horsepower": 95,
          "Miles_per_Gallon": 25,
          "Name": "saab 99e",
          "Origin": "Europe",
          "Weight_in_lbs": 2375,
          "Year": "1970-01-01"
         },
         {
          "Acceleration": 12.5,
          "Cylinders": 4,
          "Displacement": 121,
          "Horsepower": 113,
          "Miles_per_Gallon": 26,
          "Name": "bmw 2002",
          "Origin": "Europe",
          "Weight_in_lbs": 2234,
          "Year": "1970-01-01"
         },
         {
          "Acceleration": 20,
          "Cylinders": 4,
          "Displacement": 97,
          "Horsepower": 48,
          "Miles_per_Gallon": null,
          "Name": "volkswagen super beetle 117",
          "Origin": "Europe",
          "Weight_in_lbs": 1978,
          "Year": "1971-01-01"
         },
         {
          "Acceleration": 14,
          "Cylinders": 4,
          "Displacement": 116,
          "Horsepower": 90,
          "Miles_per_Gallon": 28,
          "Name": "opel 1900",
          "Origin": "Europe",
          "Weight_in_lbs": 2123,
          "Year": "1971-01-01"
         },
         {
          "Acceleration": 19.5,
          "Cylinders": 4,
          "Displacement": 79,
          "Horsepower": 70,
          "Miles_per_Gallon": 30,
          "Name": "peugeot 304",
          "Origin": "Europe",
          "Weight_in_lbs": 2074,
          "Year": "1971-01-01"
         },
         {
          "Acceleration": 14.5,
          "Cylinders": 4,
          "Displacement": 88,
          "Horsepower": 76,
          "Miles_per_Gallon": 30,
          "Name": "fiat 124b",
          "Origin": "Europe",
          "Weight_in_lbs": 2065,
          "Year": "1971-01-01"
         },
         {
          "Acceleration": 19,
          "Cylinders": 4,
          "Displacement": 97,
          "Horsepower": 60,
          "Miles_per_Gallon": 27,
          "Name": "volkswagen model 111",
          "Origin": "Europe",
          "Weight_in_lbs": 1834,
          "Year": "1971-01-01"
         },
         {
          "Acceleration": 23.5,
          "Cylinders": 4,
          "Displacement": 97,
          "Horsepower": 54,
          "Miles_per_Gallon": 23,
          "Name": "volkswagen type 3",
          "Origin": "Europe",
          "Weight_in_lbs": 2254,
          "Year": "1972-01-01"
         },
         {
          "Acceleration": 14.5,
          "Cylinders": 4,
          "Displacement": 121,
          "Horsepower": 112,
          "Miles_per_Gallon": 18,
          "Name": "volvo 145e (sw)",
          "Origin": "Europe",
          "Weight_in_lbs": 2933,
          "Year": "1972-01-01"
         },
         {
          "Acceleration": 18,
          "Cylinders": 4,
          "Displacement": 121,
          "Horsepower": 76,
          "Miles_per_Gallon": 22,
          "Name": "volkswagen 411 (sw)",
          "Origin": "Europe",
          "Weight_in_lbs": 2511,
          "Year": "1972-01-01"
         },
         {
          "Acceleration": 19.5,
          "Cylinders": 4,
          "Displacement": 120,
          "Horsepower": 87,
          "Miles_per_Gallon": 21,
          "Name": "peugeot 504 (sw)",
          "Origin": "Europe",
          "Weight_in_lbs": 2979,
          "Year": "1972-01-01"
         },
         {
          "Acceleration": 18,
          "Cylinders": 4,
          "Displacement": 96,
          "Horsepower": 69,
          "Miles_per_Gallon": 26,
          "Name": "renault 12 (sw)",
          "Origin": "Europe",
          "Weight_in_lbs": 2189,
          "Year": "1972-01-01"
         },
         {
          "Acceleration": 21,
          "Cylinders": 4,
          "Displacement": 97,
          "Horsepower": 46,
          "Miles_per_Gallon": 26,
          "Name": "volkswagen super beetle",
          "Origin": "Europe",
          "Weight_in_lbs": 1950,
          "Year": "1973-01-01"
         },
         {
          "Acceleration": 15.5,
          "Cylinders": 4,
          "Displacement": 98,
          "Horsepower": 90,
          "Miles_per_Gallon": 26,
          "Name": "fiat 124 sport coupe",
          "Origin": "Europe",
          "Weight_in_lbs": 2265,
          "Year": "1973-01-01"
         },
         {
          "Acceleration": 19.5,
          "Cylinders": 4,
          "Displacement": 68,
          "Horsepower": 49,
          "Miles_per_Gallon": 29,
          "Name": "fiat 128",
          "Origin": "Europe",
          "Weight_in_lbs": 1867,
          "Year": "1973-01-01"
         },
         {
          "Acceleration": 15.5,
          "Cylinders": 4,
          "Displacement": 116,
          "Horsepower": 75,
          "Miles_per_Gallon": 24,
          "Name": "opel manta",
          "Origin": "Europe",
          "Weight_in_lbs": 2158,
          "Year": "1973-01-01"
         },
         {
          "Acceleration": 14,
          "Cylinders": 4,
          "Displacement": 114,
          "Horsepower": 91,
          "Miles_per_Gallon": 20,
          "Name": "audi 100ls",
          "Origin": "Europe",
          "Weight_in_lbs": 2582,
          "Year": "1973-01-01"
         },
         {
          "Acceleration": 15.5,
          "Cylinders": 4,
          "Displacement": 121,
          "Horsepower": 112,
          "Miles_per_Gallon": 19,
          "Name": "volvo 144ea",
          "Origin": "Europe",
          "Weight_in_lbs": 2868,
          "Year": "1973-01-01"
         },
         {
          "Acceleration": 14,
          "Cylinders": 4,
          "Displacement": 121,
          "Horsepower": 110,
          "Miles_per_Gallon": 24,
          "Name": "saab 99le",
          "Origin": "Europe",
          "Weight_in_lbs": 2660,
          "Year": "1973-01-01"
         },
         {
          "Acceleration": 16.5,
          "Cylinders": 4,
          "Displacement": 98,
          "Horsepower": 83,
          "Miles_per_Gallon": 29,
          "Name": "audi fox",
          "Origin": "Europe",
          "Weight_in_lbs": 2219,
          "Year": "1974-01-01"
         },
         {
          "Acceleration": 15.5,
          "Cylinders": 4,
          "Displacement": 79,
          "Horsepower": 67,
          "Miles_per_Gallon": 26,
          "Name": "volkswagen dasher",
          "Origin": "Europe",
          "Weight_in_lbs": 1963,
          "Year": "1974-01-01"
         },
         {
          "Acceleration": 14.5,
          "Cylinders": 4,
          "Displacement": 97,
          "Horsepower": 78,
          "Miles_per_Gallon": 26,
          "Name": "opel manta",
          "Origin": "Europe",
          "Weight_in_lbs": 2300,
          "Year": "1974-01-01"
         },
         {
          "Acceleration": 15.5,
          "Cylinders": 4,
          "Displacement": 90,
          "Horsepower": 75,
          "Miles_per_Gallon": 24,
          "Name": "fiat 128",
          "Origin": "Europe",
          "Weight_in_lbs": 2108,
          "Year": "1974-01-01"
         },
         {
          "Acceleration": 14,
          "Cylinders": 4,
          "Displacement": 116,
          "Horsepower": 75,
          "Miles_per_Gallon": 26,
          "Name": "fiat 124 tc",
          "Origin": "Europe",
          "Weight_in_lbs": 2246,
          "Year": "1974-01-01"
         },
         {
          "Acceleration": 16,
          "Cylinders": 4,
          "Displacement": 79,
          "Horsepower": 67,
          "Miles_per_Gallon": 31,
          "Name": "fiat x1.9",
          "Origin": "Europe",
          "Weight_in_lbs": 2000,
          "Year": "1974-01-01"
         },
         {
          "Acceleration": 16.5,
          "Cylinders": 4,
          "Displacement": 90,
          "Horsepower": 71,
          "Miles_per_Gallon": 25,
          "Name": "volkswagen dasher",
          "Origin": "Europe",
          "Weight_in_lbs": 2223,
          "Year": "1975-01-01"
         },
         {
          "Acceleration": 14,
          "Cylinders": 4,
          "Displacement": 90,
          "Horsepower": 70,
          "Miles_per_Gallon": 29,
          "Name": "volkswagen rabbit",
          "Origin": "Europe",
          "Weight_in_lbs": 1937,
          "Year": "1975-01-01"
         },
         {
          "Acceleration": 15,
          "Cylinders": 4,
          "Displacement": 115,
          "Horsepower": 95,
          "Miles_per_Gallon": 23,
          "Name": "audi 100ls",
          "Origin": "Europe",
          "Weight_in_lbs": 2694,
          "Year": "1975-01-01"
         },
         {
          "Acceleration": 17,
          "Cylinders": 4,
          "Displacement": 120,
          "Horsepower": 88,
          "Miles_per_Gallon": 23,
          "Name": "peugeot 504",
          "Origin": "Europe",
          "Weight_in_lbs": 2957,
          "Year": "1975-01-01"
         },
         {
          "Acceleration": 14.5,
          "Cylinders": 4,
          "Displacement": 121,
          "Horsepower": 98,
          "Miles_per_Gallon": 22,
          "Name": "volvo 244dl",
          "Origin": "Europe",
          "Weight_in_lbs": 2945,
          "Year": "1975-01-01"
         },
         {
          "Acceleration": 13.5,
          "Cylinders": 4,
          "Displacement": 121,
          "Horsepower": 115,
          "Miles_per_Gallon": 25,
          "Name": "saab 99le",
          "Origin": "Europe",
          "Weight_in_lbs": 2671,
          "Year": "1975-01-01"
         },
         {
          "Acceleration": 15.5,
          "Cylinders": 4,
          "Displacement": 107,
          "Horsepower": 86,
          "Miles_per_Gallon": 28,
          "Name": "fiat 131",
          "Origin": "Europe",
          "Weight_in_lbs": 2464,
          "Year": "1976-01-01"
         },
         {
          "Acceleration": 16.9,
          "Cylinders": 4,
          "Displacement": 116,
          "Horsepower": 81,
          "Miles_per_Gallon": 25,
          "Name": "opel 1900",
          "Origin": "Europe",
          "Weight_in_lbs": 2220,
          "Year": "1976-01-01"
         },
         {
          "Acceleration": 15.3,
          "Cylinders": 4,
          "Displacement": 101,
          "Horsepower": 83,
          "Miles_per_Gallon": 27,
          "Name": "renault 12tl",
          "Origin": "Europe",
          "Weight_in_lbs": 2202,
          "Year": "1976-01-01"
         },
         {
          "Acceleration": 14.2,
          "Cylinders": 4,
          "Displacement": 90,
          "Horsepower": 70,
          "Miles_per_Gallon": 29,
          "Name": "vw rabbit",
          "Origin": "Europe",
          "Weight_in_lbs": 1937,
          "Year": "1976-01-01"
         },
         {
          "Acceleration": 12.2,
          "Cylinders": 4,
          "Displacement": 97,
          "Horsepower": 71,
          "Miles_per_Gallon": 29.5,
          "Name": "volkswagen rabbit",
          "Origin": "Europe",
          "Weight_in_lbs": 1825,
          "Year": "1976-01-01"
         },
         {
          "Acceleration": 15.7,
          "Cylinders": 4,
          "Displacement": 130,
          "Horsepower": 102,
          "Miles_per_Gallon": 20,
          "Name": "volvo 245",
          "Origin": "Europe",
          "Weight_in_lbs": 3150,
          "Year": "1976-01-01"
         },
         {
          "Acceleration": 21.9,
          "Cylinders": 4,
          "Displacement": 120,
          "Horsepower": 88,
          "Miles_per_Gallon": 19,
          "Name": "peugeot 504",
          "Origin": "Europe",
          "Weight_in_lbs": 3270,
          "Year": "1976-01-01"
         },
         {
          "Acceleration": 16.7,
          "Cylinders": 6,
          "Displacement": 168,
          "Horsepower": 120,
          "Miles_per_Gallon": 16.5,
          "Name": "mercedes-benz 280s",
          "Origin": "Europe",
          "Weight_in_lbs": 3820,
          "Year": "1976-01-01"
         },
         {
          "Acceleration": 18.6,
          "Cylinders": 4,
          "Displacement": 79,
          "Horsepower": 58,
          "Miles_per_Gallon": 36,
          "Name": "renault 5 gtl",
          "Origin": "Europe",
          "Weight_in_lbs": 1825,
          "Year": "1977-01-01"
         },
         {
          "Acceleration": 14.5,
          "Cylinders": 4,
          "Displacement": 97,
          "Horsepower": 78,
          "Miles_per_Gallon": 29,
          "Name": "volkswagen rabbit custom",
          "Origin": "Europe",
          "Weight_in_lbs": 1940,
          "Year": "1977-01-01"
         },
         {
          "Acceleration": 14.1,
          "Cylinders": 4,
          "Displacement": 97,
          "Horsepower": 78,
          "Miles_per_Gallon": 30.5,
          "Name": "volkswagen dasher",
          "Origin": "Europe",
          "Weight_in_lbs": 2190,
          "Year": "1977-01-01"
         },
         {
          "Acceleration": 12.8,
          "Cylinders": 4,
          "Displacement": 121,
          "Horsepower": 110,
          "Miles_per_Gallon": 21.5,
          "Name": "bmw 320i",
          "Origin": "Europe",
          "Weight_in_lbs": 2600,
          "Year": "1977-01-01"
         },
         {
          "Acceleration": 21.5,
          "Cylinders": 4,
          "Displacement": 90,
          "Horsepower": 48,
          "Miles_per_Gallon": 43.1,
          "Name": "volkswagen rabbit custom diesel",
          "Origin": "Europe",
          "Weight_in_lbs": 1985,
          "Year": "1978-01-01"
         },
         {
          "Acceleration": 15.9,
          "Cylinders": 5,
          "Displacement": 131,
          "Horsepower": 103,
          "Miles_per_Gallon": 20.3,
          "Name": "audi 5000",
          "Origin": "Europe",
          "Weight_in_lbs": 2830,
          "Year": "1978-01-01"
         },
         {
          "Acceleration": 13.6,
          "Cylinders": 6,
          "Displacement": 163,
          "Horsepower": 125,
          "Miles_per_Gallon": 17,
          "Name": "volvo 264gl",
          "Origin": "Europe",
          "Weight_in_lbs": 3140,
          "Year": "1978-01-01"
         },
         {
          "Acceleration": 15.7,
          "Cylinders": 4,
          "Displacement": 121,
          "Horsepower": 115,
          "Miles_per_Gallon": 21.6,
          "Name": "saab 99gle",
          "Origin": "Europe",
          "Weight_in_lbs": 2795,
          "Year": "1978-01-01"
         },
         {
          "Acceleration": 15.8,
          "Cylinders": 6,
          "Displacement": 163,
          "Horsepower": 133,
          "Miles_per_Gallon": 16.2,
          "Name": "peugeot 604sl",
          "Origin": "Europe",
          "Weight_in_lbs": 3410,
          "Year": "1978-01-01"
         },
         {
          "Acceleration": 14.9,
          "Cylinders": 4,
          "Displacement": 89,
          "Horsepower": 71,
          "Miles_per_Gallon": 31.5,
          "Name": "volkswagen scirocco",
          "Origin": "Europe",
          "Weight_in_lbs": 1990,
          "Year": "1978-01-01"
         },
         {
          "Acceleration": 14,
          "Cylinders": 4,
          "Displacement": 89,
          "Horsepower": 71,
          "Miles_per_Gallon": 31.9,
          "Name": "vw rabbit custom",
          "Origin": "Europe",
          "Weight_in_lbs": 1925,
          "Year": "1979-01-01"
         },
         {
          "Acceleration": 20.1,
          "Cylinders": 5,
          "Displacement": 183,
          "Horsepower": 77,
          "Miles_per_Gallon": 25.4,
          "Name": "mercedes benz 300d",
          "Origin": "Europe",
          "Weight_in_lbs": 3530,
          "Year": "1979-01-01"
         },
         {
          "Acceleration": 24.8,
          "Cylinders": 4,
          "Displacement": 141,
          "Horsepower": 71,
          "Miles_per_Gallon": 27.2,
          "Name": "peugeot 504",
          "Origin": "Europe",
          "Weight_in_lbs": 3190,
          "Year": "1979-01-01"
         },
         {
          "Acceleration": 14.7,
          "Cylinders": 4,
          "Displacement": 91,
          "Horsepower": 69,
          "Miles_per_Gallon": 37.3,
          "Name": "fiat strada custom",
          "Origin": "Europe",
          "Weight_in_lbs": 2130,
          "Year": "1979-01-01"
         },
         {
          "Acceleration": 14.7,
          "Cylinders": 4,
          "Displacement": 98,
          "Horsepower": 76,
          "Miles_per_Gallon": 41.5,
          "Name": "vw rabbit",
          "Origin": "Europe",
          "Weight_in_lbs": 2144,
          "Year": "1980-01-01"
         },
         {
          "Acceleration": 15.8,
          "Cylinders": 4,
          "Displacement": 97,
          "Horsepower": 78,
          "Miles_per_Gallon": 34.3,
          "Name": "audi 4000",
          "Origin": "Europe",
          "Weight_in_lbs": 2188,
          "Year": "1980-01-01"
         },
         {
          "Acceleration": 21.7,
          "Cylinders": 4,
          "Displacement": 90,
          "Horsepower": 48,
          "Miles_per_Gallon": 44.3,
          "Name": "vw rabbit c (diesel)",
          "Origin": "Europe",
          "Weight_in_lbs": 2085,
          "Year": "1980-01-01"
         },
         {
          "Acceleration": 23.7,
          "Cylinders": 4,
          "Displacement": 90,
          "Horsepower": 48,
          "Miles_per_Gallon": 43.4,
          "Name": "vw dasher (diesel)",
          "Origin": "Europe",
          "Weight_in_lbs": 2335,
          "Year": "1980-01-01"
         },
         {
          "Acceleration": 19.9,
          "Cylinders": 5,
          "Displacement": 121,
          "Horsepower": 67,
          "Miles_per_Gallon": 36.4,
          "Name": "audi 5000s (diesel)",
          "Origin": "Europe",
          "Weight_in_lbs": 2950,
          "Year": "1980-01-01"
         },
         {
          "Acceleration": 21.8,
          "Cylinders": 4,
          "Displacement": 146,
          "Horsepower": 67,
          "Miles_per_Gallon": 30,
          "Name": "mercedes-benz 240d",
          "Origin": "Europe",
          "Weight_in_lbs": 3250,
          "Year": "1980-01-01"
         },
         {
          "Acceleration": 17.3,
          "Cylinders": 4,
          "Displacement": 85,
          "Horsepower": null,
          "Miles_per_Gallon": 40.9,
          "Name": "renault lecar deluxe",
          "Origin": "Europe",
          "Weight_in_lbs": 1835,
          "Year": "1980-01-01"
         },
         {
          "Acceleration": 15.3,
          "Cylinders": 4,
          "Displacement": 89,
          "Horsepower": 62,
          "Miles_per_Gallon": 29.8,
          "Name": "vokswagen rabbit",
          "Origin": "Europe",
          "Weight_in_lbs": 1845,
          "Year": "1980-01-01"
         },
         {
          "Acceleration": 15.1,
          "Cylinders": 4,
          "Displacement": 122,
          "Horsepower": 88,
          "Miles_per_Gallon": 35,
          "Name": "triumph tr7 coupe",
          "Origin": "Europe",
          "Weight_in_lbs": 2500,
          "Year": "1980-01-01"
         },
         {
          "Acceleration": 14.2,
          "Cylinders": 4,
          "Displacement": 105,
          "Horsepower": 74,
          "Miles_per_Gallon": 33,
          "Name": "volkswagen jetta",
          "Origin": "Europe",
          "Weight_in_lbs": 2190,
          "Year": "1982-01-01"
         },
         {
          "Acceleration": 15.8,
          "Cylinders": 4,
          "Displacement": 100,
          "Horsepower": null,
          "Miles_per_Gallon": 34.5,
          "Name": "renault 18i",
          "Origin": "Europe",
          "Weight_in_lbs": 2320,
          "Year": "1982-01-01"
         },
         {
          "Acceleration": 20.4,
          "Cylinders": 4,
          "Displacement": 141,
          "Horsepower": 80,
          "Miles_per_Gallon": 28.1,
          "Name": "peugeot 505s turbo diesel",
          "Origin": "Europe",
          "Weight_in_lbs": 3230,
          "Year": "1982-01-01"
         },
         {
          "Acceleration": 15.4,
          "Cylinders": 4,
          "Displacement": 121,
          "Horsepower": 110,
          "Miles_per_Gallon": null,
          "Name": "saab 900s",
          "Origin": "Europe",
          "Weight_in_lbs": 2800,
          "Year": "1982-01-01"
         },
         {
          "Acceleration": 19.6,
          "Cylinders": 6,
          "Displacement": 145,
          "Horsepower": 76,
          "Miles_per_Gallon": 30.7,
          "Name": "volvo diesel",
          "Origin": "Europe",
          "Weight_in_lbs": 3160,
          "Year": "1982-01-01"
         },
         {
          "Acceleration": 15.3,
          "Cylinders": 4,
          "Displacement": 105,
          "Horsepower": 74,
          "Miles_per_Gallon": 36,
          "Name": "volkswagen rabbit l",
          "Origin": "Europe",
          "Weight_in_lbs": 1980,
          "Year": "1982-01-01"
         },
         {
          "Acceleration": 24.6,
          "Cylinders": 4,
          "Displacement": 97,
          "Horsepower": 52,
          "Miles_per_Gallon": 44,
          "Name": "vw pickup",
          "Origin": "Europe",
          "Weight_in_lbs": 2130,
          "Year": "1982-01-01"
         }
        ]
       },
       "encoding": {
        "color": {
         "field": "Cylinders",
         "type": "nominal"
        },
        "x": {
         "field": "Horsepower",
         "type": "quantitative"
        },
        "y": {
         "field": "Acceleration",
         "type": "quantitative"
        }
       },
       "mark": "point"
      },
      "image/png": "[encoded data removed]",
      "image/svg+xml": [
       "<?xml version=\"1.0\" encoding=\"utf-8\"?>\n",
       "<!DOCTYPE svg PUBLIC \"-//W3C//DTD SVG 1.1//EN\" \"http://www.w3.org/Graphics/SVG/1.1/DTD/svg11.dtd\">\n",
       "<svg xmlns=\"http://www.w3.org/2000/svg\" xmlns:xlink=\"http://www.w3.org/1999/xlink\" version=\"1.1\" class=\"marks\" width=\"311\" height=\"242\" viewBox=\"0 0 311 242\"><rect width=\"311\" height=\"242\" fill=\"white\"/><g fill=\"none\" stroke-miterlimit=\"10\" transform=\"translate(37,5)\"><g class=\"mark-group role-frame root\" role=\"graphics-object\" aria-roledescription=\"group mark container\"><g transform=\"translate(0,0)\"><path class=\"background\" aria-hidden=\"true\" d=\"M0.5,0.5h200v200h-200Z\" stroke=\"#ddd\"/><g><g class=\"mark-group role-axis\" aria-hidden=\"true\"><g transform=\"translate(0.5,200.5)\"><path class=\"background\" aria-hidden=\"true\" d=\"M0,0h0v0h0Z\" pointer-events=\"none\"/><g><g class=\"mark-rule role-axis-grid\" pointer-events=\"none\"><line transform=\"translate(0,-200)\" x2=\"0\" y2=\"200\" stroke=\"#ddd\" stroke-width=\"1\" opacity=\"1\"/><line transform=\"translate(29,-200)\" x2=\"0\" y2=\"200\" stroke=\"#ddd\" stroke-width=\"1\" opacity=\"1\"/><line transform=\"translate(57,-200)\" x2=\"0\" y2=\"200\" stroke=\"#ddd\" stroke-width=\"1\" opacity=\"1\"/><line transform=\"translate(86,-200)\" x2=\"0\" y2=\"200\" stroke=\"#ddd\" stroke-width=\"1\" opacity=\"1\"/><line transform=\"translate(114,-200)\" x2=\"0\" y2=\"200\" stroke=\"#ddd\" stroke-width=\"1\" opacity=\"1\"/><line transform=\"translate(143,-200)\" x2=\"0\" y2=\"200\" stroke=\"#ddd\" stroke-width=\"1\" opacity=\"1\"/><line transform=\"translate(171,-200)\" x2=\"0\" y2=\"200\" stroke=\"#ddd\" stroke-width=\"1\" opacity=\"1\"/><line transform=\"translate(200,-200)\" x2=\"0\" y2=\"200\" stroke=\"#ddd\" stroke-width=\"1\" opacity=\"1\"/></g></g><path class=\"foreground\" aria-hidden=\"true\" d=\"\" pointer-events=\"none\" display=\"none\"/></g></g><g class=\"mark-group role-axis\" aria-hidden=\"true\"><g transform=\"translate(0.5,0.5)\"><path class=\"background\" aria-hidden=\"true\" d=\"M0,0h0v0h0Z\" pointer-events=\"none\"/><g><g class=\"mark-rule role-axis-grid\" pointer-events=\"none\"><line transform=\"translate(0,200)\" x2=\"200\" y2=\"0\" stroke=\"#ddd\" stroke-width=\"1\" opacity=\"1\"/><line transform=\"translate(0,162)\" x2=\"200\" y2=\"0\" stroke=\"#ddd\" stroke-width=\"1\" opacity=\"1\"/><line transform=\"translate(0,123)\" x2=\"200\" y2=\"0\" stroke=\"#ddd\" stroke-width=\"1\" opacity=\"1\"/><line transform=\"translate(0,85)\" x2=\"200\" y2=\"0\" stroke=\"#ddd\" stroke-width=\"1\" opacity=\"1\"/><line transform=\"translate(0,46)\" x2=\"200\" y2=\"0\" stroke=\"#ddd\" stroke-width=\"1\" opacity=\"1\"/><line transform=\"translate(0,8)\" x2=\"200\" y2=\"0\" stroke=\"#ddd\" stroke-width=\"1\" opacity=\"1\"/></g></g><path class=\"foreground\" aria-hidden=\"true\" d=\"\" pointer-events=\"none\" display=\"none\"/></g></g><g class=\"mark-group role-axis\" role=\"graphics-symbol\" aria-roledescription=\"axis\" aria-label=\"X-axis titled 'Horsepower' for a linear scale with values from 0 to 140\"><g transform=\"translate(0.5,200.5)\"><path class=\"background\" aria-hidden=\"true\" d=\"M0,0h0v0h0Z\" pointer-events=\"none\"/><g><g class=\"mark-rule role-axis-tick\" pointer-events=\"none\"><line transform=\"translate(0,0)\" x2=\"0\" y2=\"5\" stroke=\"#888\" stroke-width=\"1\" opacity=\"1\"/><line transform=\"translate(29,0)\" x2=\"0\" y2=\"5\" stroke=\"#888\" stroke-width=\"1\" opacity=\"1\"/><line transform=\"translate(57,0)\" x2=\"0\" y2=\"5\" stroke=\"#888\" stroke-width=\"1\" opacity=\"1\"/><line transform=\"translate(86,0)\" x2=\"0\" y2=\"5\" stroke=\"#888\" stroke-width=\"1\" opacity=\"1\"/><line transform=\"translate(114,0)\" x2=\"0\" y2=\"5\" stroke=\"#888\" stroke-width=\"1\" opacity=\"1\"/><line transform=\"translate(143,0)\" x2=\"0\" y2=\"5\" stroke=\"#888\" stroke-width=\"1\" opacity=\"1\"/><line transform=\"translate(171,0)\" x2=\"0\" y2=\"5\" stroke=\"#888\" stroke-width=\"1\" opacity=\"1\"/><line transform=\"translate(200,0)\" x2=\"0\" y2=\"5\" stroke=\"#888\" stroke-width=\"1\" opacity=\"1\"/></g><g class=\"mark-text role-axis-label\" pointer-events=\"none\"><text text-anchor=\"start\" transform=\"translate(0,15)\" font-family=\"sans-serif\" font-size=\"10px\" fill=\"#000\" opacity=\"1\">0</text><text text-anchor=\"middle\" transform=\"translate(28.57142857142857,15)\" font-family=\"sans-serif\" font-size=\"10px\" fill=\"#000\" opacity=\"1\">20</text><text text-anchor=\"middle\" transform=\"translate(57.14285714285714,15)\" font-family=\"sans-serif\" font-size=\"10px\" fill=\"#000\" opacity=\"1\">40</text><text text-anchor=\"middle\" transform=\"translate(85.71428571428571,15)\" font-family=\"sans-serif\" font-size=\"10px\" fill=\"#000\" opacity=\"1\">60</text><text text-anchor=\"middle\" transform=\"translate(114.28571428571428,15)\" font-family=\"sans-serif\" font-size=\"10px\" fill=\"#000\" opacity=\"1\">80</text><text text-anchor=\"middle\" transform=\"translate(142.85714285714286,15)\" font-family=\"sans-serif\" font-size=\"10px\" fill=\"#000\" opacity=\"1\">100</text><text text-anchor=\"middle\" transform=\"translate(171.42857142857142,15)\" font-family=\"sans-serif\" font-size=\"10px\" fill=\"#000\" opacity=\"1\">120</text><text text-anchor=\"end\" transform=\"translate(200,15)\" font-family=\"sans-serif\" font-size=\"10px\" fill=\"#000\" opacity=\"1\">140</text></g><g class=\"mark-rule role-axis-domain\" pointer-events=\"none\"><line transform=\"translate(0,0)\" x2=\"200\" y2=\"0\" stroke=\"#888\" stroke-width=\"1\" opacity=\"1\"/></g><g class=\"mark-text role-axis-title\" pointer-events=\"none\"><text text-anchor=\"middle\" transform=\"translate(100,30)\" font-family=\"sans-serif\" font-size=\"11px\" font-weight=\"bold\" fill=\"#000\" opacity=\"1\">Horsepower</text></g></g><path class=\"foreground\" aria-hidden=\"true\" d=\"\" pointer-events=\"none\" display=\"none\"/></g></g><g class=\"mark-group role-axis\" role=\"graphics-symbol\" aria-roledescription=\"axis\" aria-label=\"Y-axis titled 'Acceleration' for a linear scale with values from 0 to 26\"><g transform=\"translate(0.5,0.5)\"><path class=\"background\" aria-hidden=\"true\" d=\"M0,0h0v0h0Z\" pointer-events=\"none\"/><g><g class=\"mark-rule role-axis-tick\" pointer-events=\"none\"><line transform=\"translate(0,200)\" x2=\"-5\" y2=\"0\" stroke=\"#888\" stroke-width=\"1\" opacity=\"1\"/><line transform=\"translate(0,162)\" x2=\"-5\" y2=\"0\" stroke=\"#888\" stroke-width=\"1\" opacity=\"1\"/><line transform=\"translate(0,123)\" x2=\"-5\" y2=\"0\" stroke=\"#888\" stroke-width=\"1\" opacity=\"1\"/><line transform=\"translate(0,85)\" x2=\"-5\" y2=\"0\" stroke=\"#888\" stroke-width=\"1\" opacity=\"1\"/><line transform=\"translate(0,46)\" x2=\"-5\" y2=\"0\" stroke=\"#888\" stroke-width=\"1\" opacity=\"1\"/><line transform=\"translate(0,8)\" x2=\"-5\" y2=\"0\" stroke=\"#888\" stroke-width=\"1\" opacity=\"1\"/></g><g class=\"mark-text role-axis-label\" pointer-events=\"none\"><text text-anchor=\"end\" transform=\"translate(-7,203)\" font-family=\"sans-serif\" font-size=\"10px\" fill=\"#000\" opacity=\"1\">0</text><text text-anchor=\"end\" transform=\"translate(-7,164.53846153846155)\" font-family=\"sans-serif\" font-size=\"10px\" fill=\"#000\" opacity=\"1\">5</text><text text-anchor=\"end\" transform=\"translate(-7,126.07692307692308)\" font-family=\"sans-serif\" font-size=\"10px\" fill=\"#000\" opacity=\"1\">10</text><text text-anchor=\"end\" transform=\"translate(-7,87.61538461538463)\" font-family=\"sans-serif\" font-size=\"10px\" fill=\"#000\" opacity=\"1\">15</text><text text-anchor=\"end\" transform=\"translate(-7,49.153846153846146)\" font-family=\"sans-serif\" font-size=\"10px\" fill=\"#000\" opacity=\"1\">20</text><text text-anchor=\"end\" transform=\"translate(-7,10.692307692307686)\" font-family=\"sans-serif\" font-size=\"10px\" fill=\"#000\" opacity=\"1\">25</text></g><g class=\"mark-rule role-axis-domain\" pointer-events=\"none\"><line transform=\"translate(0,200)\" x2=\"0\" y2=\"-200\" stroke=\"#888\" stroke-width=\"1\" opacity=\"1\"/></g><g class=\"mark-text role-axis-title\" pointer-events=\"none\"><text text-anchor=\"middle\" transform=\"translate(-21,100) rotate(-90) translate(0,-2)\" font-family=\"sans-serif\" font-size=\"11px\" font-weight=\"bold\" fill=\"#000\" opacity=\"1\">Acceleration</text></g></g><path class=\"foreground\" aria-hidden=\"true\" d=\"\" pointer-events=\"none\" display=\"none\"/></g></g><g class=\"mark-symbol role-mark marks\" role=\"graphics-object\" aria-roledescription=\"symbol mark container\"><path aria-label=\"Horsepower: 115; Acceleration: 17.5; Cylinders: 4\" role=\"graphics-symbol\" aria-roledescription=\"point\" transform=\"translate(164.28571428571428,65.38461538461537)\" d=\"M2.7386127875258306,0A2.7386127875258306,2.7386127875258306,0,1,1,-2.7386127875258306,0A2.7386127875258306,2.7386127875258306,0,1,1,2.7386127875258306,0\" stroke=\"#4c78a8\" stroke-width=\"2\" opacity=\"0.7\"/><path aria-label=\"Horsepower: 46; Acceleration: 20.5; Cylinders: 4\" role=\"graphics-symbol\" aria-roledescription=\"point\" transform=\"translate(65.71428571428571,42.307692307692314)\" d=\"M2.7386127875258306,0A2.7386127875258306,2.7386127875258306,0,1,1,-2.7386127875258306,0A2.7386127875258306,2.7386127875258306,0,1,1,2.7386127875258306,0\" stroke=\"#4c78a8\" stroke-width=\"2\" opacity=\"0.7\"/><path aria-label=\"Horsepower: 87; Acceleration: 17.5; Cylinders: 4\" role=\"graphics-symbol\" aria-roledescription=\"point\" transform=\"translate(124.28571428571429,65.38461538461537)\" d=\"M2.7386127875258306,0A2.7386127875258306,2.7386127875258306,0,1,1,-2.7386127875258306,0A2.7386127875258306,2.7386127875258306,0,1,1,2.7386127875258306,0\" stroke=\"#4c78a8\" stroke-width=\"2\" opacity=\"0.7\"/><path aria-label=\"Horsepower: 90; Acceleration: 14.5; Cylinders: 4\" role=\"graphics-symbol\" aria-roledescription=\"point\" transform=\"translate(128.57142857142858,88.46153846153845)\" d=\"M2.7386127875258306,0A2.7386127875258306,2.7386127875258306,0,1,1,-2.7386127875258306,0A2.7386127875258306,2.7386127875258306,0,1,1,2.7386127875258306,0\" stroke=\"#4c78a8\" stroke-width=\"2\" opacity=\"0.7\"/><path aria-label=\"Horsepower: 95; Acceleration: 17.5; Cylinders: 4\" role=\"graphics-symbol\" aria-roledescription=\"point\" transform=\"translate(135.71428571428572,65.38461538461537)\" d=\"M2.7386127875258306,0A2.7386127875258306,2.7386127875258306,0,1,1,-2.7386127875258306,0A2.7386127875258306,2.7386127875258306,0,1,1,2.7386127875258306,0\" stroke=\"#4c78a8\" stroke-width=\"2\" opacity=\"0.7\"/><path aria-label=\"Horsepower: 113; Acceleration: 12.5; Cylinders: 4\" role=\"graphics-symbol\" aria-roledescription=\"point\" transform=\"translate(161.42857142857144,103.84615384615384)\" d=\"M2.7386127875258306,0A2.7386127875258306,2.7386127875258306,0,1,1,-2.7386127875258306,0A2.7386127875258306,2.7386127875258306,0,1,1,2.7386127875258306,0\" stroke=\"#4c78a8\" stroke-width=\"2\" opacity=\"0.7\"/><path aria-label=\"Horsepower: 48; Acceleration: 20; Cylinders: 4\" role=\"graphics-symbol\" aria-roledescription=\"point\" transform=\"translate(68.57142857142857,46.153846153846146)\" d=\"M2.7386127875258306,0A2.7386127875258306,2.7386127875258306,0,1,1,-2.7386127875258306,0A2.7386127875258306,2.7386127875258306,0,1,1,2.7386127875258306,0\" stroke=\"#4c78a8\" stroke-width=\"2\" opacity=\"0.7\"/><path aria-label=\"Horsepower: 90; Acceleration: 14; Cylinders: 4\" role=\"graphics-symbol\" aria-roledescription=\"point\" transform=\"translate(128.57142857142858,92.3076923076923)\" d=\"M2.7386127875258306,0A2.7386127875258306,2.7386127875258306,0,1,1,-2.7386127875258306,0A2.7386127875258306,2.7386127875258306,0,1,1,2.7386127875258306,0\" stroke=\"#4c78a8\" stroke-width=\"2\" opacity=\"0.7\"/><path aria-label=\"Horsepower: 70; Acceleration: 19.5; Cylinders: 4\" role=\"graphics-symbol\" aria-roledescription=\"point\" transform=\"translate(100,50)\" d=\"M2.7386127875258306,0A2.7386127875258306,2.7386127875258306,0,1,1,-2.7386127875258306,0A2.7386127875258306,2.7386127875258306,0,1,1,2.7386127875258306,0\" stroke=\"#4c78a8\" stroke-width=\"2\" opacity=\"0.7\"/><path aria-label=\"Horsepower: 76; Acceleration: 14.5; Cylinders: 4\" role=\"graphics-symbol\" aria-roledescription=\"point\" transform=\"translate(108.57142857142857,88.46153846153845)\" d=\"M2.7386127875258306,0A2.7386127875258306,2.7386127875258306,0,1,1,-2.7386127875258306,0A2.7386127875258306,2.7386127875258306,0,1,1,2.7386127875258306,0\" stroke=\"#4c78a8\" stroke-width=\"2\" opacity=\"0.7\"/><path aria-label=\"Horsepower: 60; Acceleration: 19; Cylinders: 4\" role=\"graphics-symbol\" aria-roledescription=\"point\" transform=\"translate(85.71428571428571,53.846153846153854)\" d=\"M2.7386127875258306,0A2.7386127875258306,2.7386127875258306,0,1,1,-2.7386127875258306,0A2.7386127875258306,2.7386127875258306,0,1,1,2.7386127875258306,0\" stroke=\"#4c78a8\" stroke-width=\"2\" opacity=\"0.7\"/><path aria-label=\"Horsepower: 54; Acceleration: 23.5; Cylinders: 4\" role=\"graphics-symbol\" aria-roledescription=\"point\" transform=\"translate(77.14285714285715,19.23076923076923)\" d=\"M2.7386127875258306,0A2.7386127875258306,2.7386127875258306,0,1,1,-2.7386127875258306,0A2.7386127875258306,2.7386127875258306,0,1,1,2.7386127875258306,0\" stroke=\"#4c78a8\" stroke-width=\"2\" opacity=\"0.7\"/><path aria-label=\"Horsepower: 112; Acceleration: 14.5; Cylinders: 4\" role=\"graphics-symbol\" aria-roledescription=\"point\" transform=\"translate(160,88.46153846153845)\" d=\"M2.7386127875258306,0A2.7386127875258306,2.7386127875258306,0,1,1,-2.7386127875258306,0A2.7386127875258306,2.7386127875258306,0,1,1,2.7386127875258306,0\" stroke=\"#4c78a8\" stroke-width=\"2\" opacity=\"0.7\"/><path aria-label=\"Horsepower: 76; Acceleration: 18; Cylinders: 4\" role=\"graphics-symbol\" aria-roledescription=\"point\" transform=\"translate(108.57142857142857,61.53846153846154)\" d=\"M2.7386127875258306,0A2.7386127875258306,2.7386127875258306,0,1,1,-2.7386127875258306,0A2.7386127875258306,2.7386127875258306,0,1,1,2.7386127875258306,0\" stroke=\"#4c78a8\" stroke-width=\"2\" opacity=\"0.7\"/><path aria-label=\"Horsepower: 87; Acceleration: 19.5; Cylinders: 4\" role=\"graphics-symbol\" aria-roledescription=\"point\" transform=\"translate(124.28571428571429,50)\" d=\"M2.7386127875258306,0A2.7386127875258306,2.7386127875258306,0,1,1,-2.7386127875258306,0A2.7386127875258306,2.7386127875258306,0,1,1,2.7386127875258306,0\" stroke=\"#4c78a8\" stroke-width=\"2\" opacity=\"0.7\"/><path aria-label=\"Horsepower: 69; Acceleration: 18; Cylinders: 4\" role=\"graphics-symbol\" aria-roledescription=\"point\" transform=\"translate(98.57142857142858,61.53846153846154)\" d=\"M2.7386127875258306,0A2.7386127875258306,2.7386127875258306,0,1,1,-2.7386127875258306,0A2.7386127875258306,2.7386127875258306,0,1,1,2.7386127875258306,0\" stroke=\"#4c78a8\" stroke-width=\"2\" opacity=\"0.7\"/><path aria-label=\"Horsepower: 46; Acceleration: 21; Cylinders: 4\" role=\"graphics-symbol\" aria-roledescription=\"point\" transform=\"translate(65.71428571428571,38.46153846153846)\" d=\"M2.7386127875258306,0A2.7386127875258306,2.7386127875258306,0,1,1,-2.7386127875258306,0A2.7386127875258306,2.7386127875258306,0,1,1,2.7386127875258306,0\" stroke=\"#4c78a8\" stroke-width=\"2\" opacity=\"0.7\"/><path aria-label=\"Horsepower: 90; Acceleration: 15.5; Cylinders: 4\" role=\"graphics-symbol\" aria-roledescription=\"point\" transform=\"translate(128.57142857142858,80.76923076923077)\" d=\"M2.7386127875258306,0A2.7386127875258306,2.7386127875258306,0,1,1,-2.7386127875258306,0A2.7386127875258306,2.7386127875258306,0,1,1,2.7386127875258306,0\" stroke=\"#4c78a8\" stroke-width=\"2\" opacity=\"0.7\"/><path aria-label=\"Horsepower: 49; Acceleration: 19.5; Cylinders: 4\" role=\"graphics-symbol\" aria-roledescription=\"point\" transform=\"translate(70,50)\" d=\"M2.7386127875258306,0A2.7386127875258306,2.7386127875258306,0,1,1,-2.7386127875258306,0A2.7386127875258306,2.7386127875258306,0,1,1,2.7386127875258306,0\" stroke=\"#4c78a8\" stroke-width=\"2\" opacity=\"0.7\"/><path aria-label=\"Horsepower: 75; Acceleration: 15.5; Cylinders: 4\" role=\"graphics-symbol\" aria-roledescription=\"point\" transform=\"translate(107.14285714285714,80.76923076923077)\" d=\"M2.7386127875258306,0A2.7386127875258306,2.7386127875258306,0,1,1,-2.7386127875258306,0A2.7386127875258306,2.7386127875258306,0,1,1,2.7386127875258306,0\" stroke=\"#4c78a8\" stroke-width=\"2\" opacity=\"0.7\"/><path aria-label=\"Horsepower: 91; Acceleration: 14; Cylinders: 4\" role=\"graphics-symbol\" aria-roledescription=\"point\" transform=\"translate(130,92.3076923076923)\" d=\"M2.7386127875258306,0A2.7386127875258306,2.7386127875258306,0,1,1,-2.7386127875258306,0A2.7386127875258306,2.7386127875258306,0,1,1,2.7386127875258306,0\" stroke=\"#4c78a8\" stroke-width=\"2\" opacity=\"0.7\"/><path aria-label=\"Horsepower: 112; Acceleration: 15.5; Cylinders: 4\" role=\"graphics-symbol\" aria-roledescription=\"point\" transform=\"translate(160,80.76923076923077)\" d=\"M2.7386127875258306,0A2.7386127875258306,2.7386127875258306,0,1,1,-2.7386127875258306,0A2.7386127875258306,2.7386127875258306,0,1,1,2.7386127875258306,0\" stroke=\"#4c78a8\" stroke-width=\"2\" opacity=\"0.7\"/><path aria-label=\"Horsepower: 110; Acceleration: 14; Cylinders: 4\" role=\"graphics-symbol\" aria-roledescription=\"point\" transform=\"translate(157.14285714285714,92.3076923076923)\" d=\"M2.7386127875258306,0A2.7386127875258306,2.7386127875258306,0,1,1,-2.7386127875258306,0A2.7386127875258306,2.7386127875258306,0,1,1,2.7386127875258306,0\" stroke=\"#4c78a8\" stroke-width=\"2\" opacity=\"0.7\"/><path aria-label=\"Horsepower: 83; Acceleration: 16.5; Cylinders: 4\" role=\"graphics-symbol\" aria-roledescription=\"point\" transform=\"translate(118.57142857142857,73.07692307692308)\" d=\"M2.7386127875258306,0A2.7386127875258306,2.7386127875258306,0,1,1,-2.7386127875258306,0A2.7386127875258306,2.7386127875258306,0,1,1,2.7386127875258306,0\" stroke=\"#4c78a8\" stroke-width=\"2\" opacity=\"0.7\"/><path aria-label=\"Horsepower: 67; Acceleration: 15.5; Cylinders: 4\" role=\"graphics-symbol\" aria-roledescription=\"point\" transform=\"translate(95.71428571428572,80.76923076923077)\" d=\"M2.7386127875258306,0A2.7386127875258306,2.7386127875258306,0,1,1,-2.7386127875258306,0A2.7386127875258306,2.7386127875258306,0,1,1,2.7386127875258306,0\" stroke=\"#4c78a8\" stroke-width=\"2\" opacity=\"0.7\"/><path aria-label=\"Horsepower: 78; Acceleration: 14.5; Cylinders: 4\" role=\"graphics-symbol\" aria-roledescription=\"point\" transform=\"translate(111.42857142857143,88.46153846153845)\" d=\"M2.7386127875258306,0A2.7386127875258306,2.7386127875258306,0,1,1,-2.7386127875258306,0A2.7386127875258306,2.7386127875258306,0,1,1,2.7386127875258306,0\" stroke=\"#4c78a8\" stroke-width=\"2\" opacity=\"0.7\"/><path aria-label=\"Horsepower: 75; Acceleration: 15.5; Cylinders: 4\" role=\"graphics-symbol\" aria-roledescription=\"point\" transform=\"translate(107.14285714285714,80.76923076923077)\" d=\"M2.7386127875258306,0A2.7386127875258306,2.7386127875258306,0,1,1,-2.7386127875258306,0A2.7386127875258306,2.7386127875258306,0,1,1,2.7386127875258306,0\" stroke=\"#4c78a8\" stroke-width=\"2\" opacity=\"0.7\"/><path aria-label=\"Horsepower: 75; Acceleration: 14; Cylinders: 4\" role=\"graphics-symbol\" aria-roledescription=\"point\" transform=\"translate(107.14285714285714,92.3076923076923)\" d=\"M2.7386127875258306,0A2.7386127875258306,2.7386127875258306,0,1,1,-2.7386127875258306,0A2.7386127875258306,2.7386127875258306,0,1,1,2.7386127875258306,0\" stroke=\"#4c78a8\" stroke-width=\"2\" opacity=\"0.7\"/><path aria-label=\"Horsepower: 67; Acceleration: 16; Cylinders: 4\" role=\"graphics-symbol\" aria-roledescription=\"point\" transform=\"translate(95.71428571428572,76.92307692307692)\" d=\"M2.7386127875258306,0A2.7386127875258306,2.7386127875258306,0,1,1,-2.7386127875258306,0A2.7386127875258306,2.7386127875258306,0,1,1,2.7386127875258306,0\" stroke=\"#4c78a8\" stroke-width=\"2\" opacity=\"0.7\"/><path aria-label=\"Horsepower: 71; Acceleration: 16.5; Cylinders: 4\" role=\"graphics-symbol\" aria-roledescription=\"point\" transform=\"translate(101.42857142857142,73.07692307692308)\" d=\"M2.7386127875258306,0A2.7386127875258306,2.7386127875258306,0,1,1,-2.7386127875258306,0A2.7386127875258306,2.7386127875258306,0,1,1,2.7386127875258306,0\" stroke=\"#4c78a8\" stroke-width=\"2\" opacity=\"0.7\"/><path aria-label=\"Horsepower: 70; Acceleration: 14; Cylinders: 4\" role=\"graphics-symbol\" aria-roledescription=\"point\" transform=\"translate(100,92.3076923076923)\" d=\"M2.7386127875258306,0A2.7386127875258306,2.7386127875258306,0,1,1,-2.7386127875258306,0A2.7386127875258306,2.7386127875258306,0,1,1,2.7386127875258306,0\" stroke=\"#4c78a8\" stroke-width=\"2\" opacity=\"0.7\"/><path aria-label=\"Horsepower: 95; Acceleration: 15; Cylinders: 4\" role=\"graphics-symbol\" aria-roledescription=\"point\" transform=\"translate(135.71428571428572,84.61538461538463)\" d=\"M2.7386127875258306,0A2.7386127875258306,2.7386127875258306,0,1,1,-2.7386127875258306,0A2.7386127875258306,2.7386127875258306,0,1,1,2.7386127875258306,0\" stroke=\"#4c78a8\" stroke-width=\"2\" opacity=\"0.7\"/><path aria-label=\"Horsepower: 88; Acceleration: 17; Cylinders: 4\" role=\"graphics-symbol\" aria-roledescription=\"point\" transform=\"translate(125.71428571428571,69.23076923076923)\" d=\"M2.7386127875258306,0A2.7386127875258306,2.7386127875258306,0,1,1,-2.7386127875258306,0A2.7386127875258306,2.7386127875258306,0,1,1,2.7386127875258306,0\" stroke=\"#4c78a8\" stroke-width=\"2\" opacity=\"0.7\"/><path aria-label=\"Horsepower: 98; Acceleration: 14.5; Cylinders: 4\" role=\"graphics-symbol\" aria-roledescription=\"point\" transform=\"translate(140,88.46153846153845)\" d=\"M2.7386127875258306,0A2.7386127875258306,2.7386127875258306,0,1,1,-2.7386127875258306,0A2.7386127875258306,2.7386127875258306,0,1,1,2.7386127875258306,0\" stroke=\"#4c78a8\" stroke-width=\"2\" opacity=\"0.7\"/><path aria-label=\"Horsepower: 115; Acceleration: 13.5; Cylinders: 4\" role=\"graphics-symbol\" aria-roledescription=\"point\" transform=\"translate(164.28571428571428,96.15384615384615)\" d=\"M2.7386127875258306,0A2.7386127875258306,2.7386127875258306,0,1,1,-2.7386127875258306,0A2.7386127875258306,2.7386127875258306,0,1,1,2.7386127875258306,0\" stroke=\"#4c78a8\" stroke-width=\"2\" opacity=\"0.7\"/><path aria-label=\"Horsepower: 86; Acceleration: 15.5; Cylinders: 4\" role=\"graphics-symbol\" aria-roledescription=\"point\" transform=\"translate(122.85714285714286,80.76923076923077)\" d=\"M2.7386127875258306,0A2.7386127875258306,2.7386127875258306,0,1,1,-2.7386127875258306,0A2.7386127875258306,2.7386127875258306,0,1,1,2.7386127875258306,0\" stroke=\"#4c78a8\" stroke-width=\"2\" opacity=\"0.7\"/><path aria-label=\"Horsepower: 81; Acceleration: 16.9; Cylinders: 4\" role=\"graphics-symbol\" aria-roledescription=\"point\" transform=\"translate(115.71428571428572,70.00000000000001)\" d=\"M2.7386127875258306,0A2.7386127875258306,2.7386127875258306,0,1,1,-2.7386127875258306,0A2.7386127875258306,2.7386127875258306,0,1,1,2.7386127875258306,0\" stroke=\"#4c78a8\" stroke-width=\"2\" opacity=\"0.7\"/><path aria-label=\"Horsepower: 83; Acceleration: 15.3; Cylinders: 4\" role=\"graphics-symbol\" aria-roledescription=\"point\" transform=\"translate(118.57142857142857,82.3076923076923)\" d=\"M2.7386127875258306,0A2.7386127875258306,2.7386127875258306,0,1,1,-2.7386127875258306,0A2.7386127875258306,2.7386127875258306,0,1,1,2.7386127875258306,0\" stroke=\"#4c78a8\" stroke-width=\"2\" opacity=\"0.7\"/><path aria-label=\"Horsepower: 70; Acceleration: 14.2; Cylinders: 4\" role=\"graphics-symbol\" aria-roledescription=\"point\" transform=\"translate(100,90.76923076923077)\" d=\"M2.7386127875258306,0A2.7386127875258306,2.7386127875258306,0,1,1,-2.7386127875258306,0A2.7386127875258306,2.7386127875258306,0,1,1,2.7386127875258306,0\" stroke=\"#4c78a8\" stroke-width=\"2\" opacity=\"0.7\"/><path aria-label=\"Horsepower: 71; Acceleration: 12.2; Cylinders: 4\" role=\"graphics-symbol\" aria-roledescription=\"point\" transform=\"translate(101.42857142857142,106.15384615384616)\" d=\"M2.7386127875258306,0A2.7386127875258306,2.7386127875258306,0,1,1,-2.7386127875258306,0A2.7386127875258306,2.7386127875258306,0,1,1,2.7386127875258306,0\" stroke=\"#4c78a8\" stroke-width=\"2\" opacity=\"0.7\"/><path aria-label=\"Horsepower: 102; Acceleration: 15.7; Cylinders: 4\" role=\"graphics-symbol\" aria-roledescription=\"point\" transform=\"translate(145.7142857142857,79.23076923076924)\" d=\"M2.7386127875258306,0A2.7386127875258306,2.7386127875258306,0,1,1,-2.7386127875258306,0A2.7386127875258306,2.7386127875258306,0,1,1,2.7386127875258306,0\" stroke=\"#4c78a8\" stroke-width=\"2\" opacity=\"0.7\"/><path aria-label=\"Horsepower: 88; Acceleration: 21.9; Cylinders: 4\" role=\"graphics-symbol\" aria-roledescription=\"point\" transform=\"translate(125.71428571428571,31.53846153846156)\" d=\"M2.7386127875258306,0A2.7386127875258306,2.7386127875258306,0,1,1,-2.7386127875258306,0A2.7386127875258306,2.7386127875258306,0,1,1,2.7386127875258306,0\" stroke=\"#4c78a8\" stroke-width=\"2\" opacity=\"0.7\"/><path aria-label=\"Horsepower: 120; Acceleration: 16.7; Cylinders: 6\" role=\"graphics-symbol\" aria-roledescription=\"point\" transform=\"translate(171.42857142857142,71.53846153846155)\" d=\"M2.7386127875258306,0A2.7386127875258306,2.7386127875258306,0,1,1,-2.7386127875258306,0A2.7386127875258306,2.7386127875258306,0,1,1,2.7386127875258306,0\" stroke=\"#e45756\" stroke-width=\"2\" opacity=\"0.7\"/><path aria-label=\"Horsepower: 58; Acceleration: 18.6; Cylinders: 4\" role=\"graphics-symbol\" aria-roledescription=\"point\" transform=\"translate(82.85714285714286,56.92307692307692)\" d=\"M2.7386127875258306,0A2.7386127875258306,2.7386127875258306,0,1,1,-2.7386127875258306,0A2.7386127875258306,2.7386127875258306,0,1,1,2.7386127875258306,0\" stroke=\"#4c78a8\" stroke-width=\"2\" opacity=\"0.7\"/><path aria-label=\"Horsepower: 78; Acceleration: 14.5; Cylinders: 4\" role=\"graphics-symbol\" aria-roledescription=\"point\" transform=\"translate(111.42857142857143,88.46153846153845)\" d=\"M2.7386127875258306,0A2.7386127875258306,2.7386127875258306,0,1,1,-2.7386127875258306,0A2.7386127875258306,2.7386127875258306,0,1,1,2.7386127875258306,0\" stroke=\"#4c78a8\" stroke-width=\"2\" opacity=\"0.7\"/><path aria-label=\"Horsepower: 78; Acceleration: 14.1; Cylinders: 4\" role=\"graphics-symbol\" aria-roledescription=\"point\" transform=\"translate(111.42857142857143,91.53846153846155)\" d=\"M2.7386127875258306,0A2.7386127875258306,2.7386127875258306,0,1,1,-2.7386127875258306,0A2.7386127875258306,2.7386127875258306,0,1,1,2.7386127875258306,0\" stroke=\"#4c78a8\" stroke-width=\"2\" opacity=\"0.7\"/><path aria-label=\"Horsepower: 110; Acceleration: 12.8; Cylinders: 4\" role=\"graphics-symbol\" aria-roledescription=\"point\" transform=\"translate(157.14285714285714,101.53846153846153)\" d=\"M2.7386127875258306,0A2.7386127875258306,2.7386127875258306,0,1,1,-2.7386127875258306,0A2.7386127875258306,2.7386127875258306,0,1,1,2.7386127875258306,0\" stroke=\"#4c78a8\" stroke-width=\"2\" opacity=\"0.7\"/><path aria-label=\"Horsepower: 48; Acceleration: 21.5; Cylinders: 4\" role=\"graphics-symbol\" aria-roledescription=\"point\" transform=\"translate(68.57142857142857,34.61538461538463)\" d=\"M2.7386127875258306,0A2.7386127875258306,2.7386127875258306,0,1,1,-2.7386127875258306,0A2.7386127875258306,2.7386127875258306,0,1,1,2.7386127875258306,0\" stroke=\"#4c78a8\" stroke-width=\"2\" opacity=\"0.7\"/><path aria-label=\"Horsepower: 103; Acceleration: 15.9; Cylinders: 5\" role=\"graphics-symbol\" aria-roledescription=\"point\" transform=\"translate(147.14285714285717,77.69230769230768)\" d=\"M2.7386127875258306,0A2.7386127875258306,2.7386127875258306,0,1,1,-2.7386127875258306,0A2.7386127875258306,2.7386127875258306,0,1,1,2.7386127875258306,0\" stroke=\"#f58518\" stroke-width=\"2\" opacity=\"0.7\"/><path aria-label=\"Horsepower: 125; Acceleration: 13.6; Cylinders: 6\" role=\"graphics-symbol\" aria-roledescription=\"point\" transform=\"translate(178.57142857142858,95.38461538461537)\" d=\"M2.7386127875258306,0A2.7386127875258306,2.7386127875258306,0,1,1,-2.7386127875258306,0A2.7386127875258306,2.7386127875258306,0,1,1,2.7386127875258306,0\" stroke=\"#e45756\" stroke-width=\"2\" opacity=\"0.7\"/><path aria-label=\"Horsepower: 115; Acceleration: 15.7; Cylinders: 4\" role=\"graphics-symbol\" aria-roledescription=\"point\" transform=\"translate(164.28571428571428,79.23076923076924)\" d=\"M2.7386127875258306,0A2.7386127875258306,2.7386127875258306,0,1,1,-2.7386127875258306,0A2.7386127875258306,2.7386127875258306,0,1,1,2.7386127875258306,0\" stroke=\"#4c78a8\" stroke-width=\"2\" opacity=\"0.7\"/><path aria-label=\"Horsepower: 133; Acceleration: 15.8; Cylinders: 6\" role=\"graphics-symbol\" aria-roledescription=\"point\" transform=\"translate(190,78.46153846153845)\" d=\"M2.7386127875258306,0A2.7386127875258306,2.7386127875258306,0,1,1,-2.7386127875258306,0A2.7386127875258306,2.7386127875258306,0,1,1,2.7386127875258306,0\" stroke=\"#e45756\" stroke-width=\"2\" opacity=\"0.7\"/><path aria-label=\"Horsepower: 71; Acceleration: 14.9; Cylinders: 4\" role=\"graphics-symbol\" aria-roledescription=\"point\" transform=\"translate(101.42857142857142,85.38461538461539)\" d=\"M2.7386127875258306,0A2.7386127875258306,2.7386127875258306,0,1,1,-2.7386127875258306,0A2.7386127875258306,2.7386127875258306,0,1,1,2.7386127875258306,0\" stroke=\"#4c78a8\" stroke-width=\"2\" opacity=\"0.7\"/><path aria-label=\"Horsepower: 71; Acceleration: 14; Cylinders: 4\" role=\"graphics-symbol\" aria-roledescription=\"point\" transform=\"translate(101.42857142857142,92.3076923076923)\" d=\"M2.7386127875258306,0A2.7386127875258306,2.7386127875258306,0,1,1,-2.7386127875258306,0A2.7386127875258306,2.7386127875258306,0,1,1,2.7386127875258306,0\" stroke=\"#4c78a8\" stroke-width=\"2\" opacity=\"0.7\"/><path aria-label=\"Horsepower: 77; Acceleration: 20.1; Cylinders: 5\" role=\"graphics-symbol\" aria-roledescription=\"point\" transform=\"translate(110.00000000000001,45.38461538461538)\" d=\"M2.7386127875258306,0A2.7386127875258306,2.7386127875258306,0,1,1,-2.7386127875258306,0A2.7386127875258306,2.7386127875258306,0,1,1,2.7386127875258306,0\" stroke=\"#f58518\" stroke-width=\"2\" opacity=\"0.7\"/><path aria-label=\"Horsepower: 71; Acceleration: 24.8; Cylinders: 4\" role=\"graphics-symbol\" aria-roledescription=\"point\" transform=\"translate(101.42857142857142,9.23076923076922)\" d=\"M2.7386127875258306,0A2.7386127875258306,2.7386127875258306,0,1,1,-2.7386127875258306,0A2.7386127875258306,2.7386127875258306,0,1,1,2.7386127875258306,0\" stroke=\"#4c78a8\" stroke-width=\"2\" opacity=\"0.7\"/><path aria-label=\"Horsepower: 69; Acceleration: 14.7; Cylinders: 4\" role=\"graphics-symbol\" aria-roledescription=\"point\" transform=\"translate(98.57142857142858,86.92307692307692)\" d=\"M2.7386127875258306,0A2.7386127875258306,2.7386127875258306,0,1,1,-2.7386127875258306,0A2.7386127875258306,2.7386127875258306,0,1,1,2.7386127875258306,0\" stroke=\"#4c78a8\" stroke-width=\"2\" opacity=\"0.7\"/><path aria-label=\"Horsepower: 76; Acceleration: 14.7; Cylinders: 4\" role=\"graphics-symbol\" aria-roledescription=\"point\" transform=\"translate(108.57142857142857,86.92307692307692)\" d=\"M2.7386127875258306,0A2.7386127875258306,2.7386127875258306,0,1,1,-2.7386127875258306,0A2.7386127875258306,2.7386127875258306,0,1,1,2.7386127875258306,0\" stroke=\"#4c78a8\" stroke-width=\"2\" opacity=\"0.7\"/><path aria-label=\"Horsepower: 78; Acceleration: 15.8; Cylinders: 4\" role=\"graphics-symbol\" aria-roledescription=\"point\" transform=\"translate(111.42857142857143,78.46153846153845)\" d=\"M2.7386127875258306,0A2.7386127875258306,2.7386127875258306,0,1,1,-2.7386127875258306,0A2.7386127875258306,2.7386127875258306,0,1,1,2.7386127875258306,0\" stroke=\"#4c78a8\" stroke-width=\"2\" opacity=\"0.7\"/><path aria-label=\"Horsepower: 48; Acceleration: 21.7; Cylinders: 4\" role=\"graphics-symbol\" aria-roledescription=\"point\" transform=\"translate(68.57142857142857,33.076923076923094)\" d=\"M2.7386127875258306,0A2.7386127875258306,2.7386127875258306,0,1,1,-2.7386127875258306,0A2.7386127875258306,2.7386127875258306,0,1,1,2.7386127875258306,0\" stroke=\"#4c78a8\" stroke-width=\"2\" opacity=\"0.7\"/><path aria-label=\"Horsepower: 48; Acceleration: 23.7; Cylinders: 4\" role=\"graphics-symbol\" aria-roledescription=\"point\" transform=\"translate(68.57142857142857,17.692307692307697)\" d=\"M2.7386127875258306,0A2.7386127875258306,2.7386127875258306,0,1,1,-2.7386127875258306,0A2.7386127875258306,2.7386127875258306,0,1,1,2.7386127875258306,0\" stroke=\"#4c78a8\" stroke-width=\"2\" opacity=\"0.7\"/><path aria-label=\"Horsepower: 67; Acceleration: 19.9; Cylinders: 5\" role=\"graphics-symbol\" aria-roledescription=\"point\" transform=\"translate(95.71428571428572,46.923076923076934)\" d=\"M2.7386127875258306,0A2.7386127875258306,2.7386127875258306,0,1,1,-2.7386127875258306,0A2.7386127875258306,2.7386127875258306,0,1,1,2.7386127875258306,0\" stroke=\"#f58518\" stroke-width=\"2\" opacity=\"0.7\"/><path aria-label=\"Horsepower: 67; Acceleration: 21.8; Cylinders: 4\" role=\"graphics-symbol\" aria-roledescription=\"point\" transform=\"translate(95.71428571428572,32.30769230769231)\" d=\"M2.7386127875258306,0A2.7386127875258306,2.7386127875258306,0,1,1,-2.7386127875258306,0A2.7386127875258306,2.7386127875258306,0,1,1,2.7386127875258306,0\" stroke=\"#4c78a8\" stroke-width=\"2\" opacity=\"0.7\"/><path aria-label=\"Horsepower: 62; Acceleration: 15.3; Cylinders: 4\" role=\"graphics-symbol\" aria-roledescription=\"point\" transform=\"translate(88.57142857142857,82.3076923076923)\" d=\"M2.7386127875258306,0A2.7386127875258306,2.7386127875258306,0,1,1,-2.7386127875258306,0A2.7386127875258306,2.7386127875258306,0,1,1,2.7386127875258306,0\" stroke=\"#4c78a8\" stroke-width=\"2\" opacity=\"0.7\"/><path aria-label=\"Horsepower: 88; Acceleration: 15.1; Cylinders: 4\" role=\"graphics-symbol\" aria-roledescription=\"point\" transform=\"translate(125.71428571428571,83.84615384615385)\" d=\"M2.7386127875258306,0A2.7386127875258306,2.7386127875258306,0,1,1,-2.7386127875258306,0A2.7386127875258306,2.7386127875258306,0,1,1,2.7386127875258306,0\" stroke=\"#4c78a8\" stroke-width=\"2\" opacity=\"0.7\"/><path aria-label=\"Horsepower: 74; Acceleration: 14.2; Cylinders: 4\" role=\"graphics-symbol\" aria-roledescription=\"point\" transform=\"translate(105.71428571428572,90.76923076923077)\" d=\"M2.7386127875258306,0A2.7386127875258306,2.7386127875258306,0,1,1,-2.7386127875258306,0A2.7386127875258306,2.7386127875258306,0,1,1,2.7386127875258306,0\" stroke=\"#4c78a8\" stroke-width=\"2\" opacity=\"0.7\"/><path aria-label=\"Horsepower: 80; Acceleration: 20.4; Cylinders: 4\" role=\"graphics-symbol\" aria-roledescription=\"point\" transform=\"translate(114.28571428571428,43.07692307692308)\" d=\"M2.7386127875258306,0A2.7386127875258306,2.7386127875258306,0,1,1,-2.7386127875258306,0A2.7386127875258306,2.7386127875258306,0,1,1,2.7386127875258306,0\" stroke=\"#4c78a8\" stroke-width=\"2\" opacity=\"0.7\"/><path aria-label=\"Horsepower: 110; Acceleration: 15.4; Cylinders: 4\" role=\"graphics-symbol\" aria-roledescription=\"point\" transform=\"translate(157.14285714285714,81.53846153846153)\" d=\"M2.7386127875258306,0A2.7386127875258306,2.7386127875258306,0,1,1,-2.7386127875258306,0A2.7386127875258306,2.7386127875258306,0,1,1,2.7386127875258306,0\" stroke=\"#4c78a8\" stroke-width=\"2\" opacity=\"0.7\"/><path aria-label=\"Horsepower: 76; Acceleration: 19.6; Cylinders: 6\" role=\"graphics-symbol\" aria-roledescription=\"point\" transform=\"translate(108.57142857142857,49.23076923076921)\" d=\"M2.7386127875258306,0A2.7386127875258306,2.7386127875258306,0,1,1,-2.7386127875258306,0A2.7386127875258306,2.7386127875258306,0,1,1,2.7386127875258306,0\" stroke=\"#e45756\" stroke-width=\"2\" opacity=\"0.7\"/><path aria-label=\"Horsepower: 74; Acceleration: 15.3; Cylinders: 4\" role=\"graphics-symbol\" aria-roledescription=\"point\" transform=\"translate(105.71428571428572,82.3076923076923)\" d=\"M2.7386127875258306,0A2.7386127875258306,2.7386127875258306,0,1,1,-2.7386127875258306,0A2.7386127875258306,2.7386127875258306,0,1,1,2.7386127875258306,0\" stroke=\"#4c78a8\" stroke-width=\"2\" opacity=\"0.7\"/><path aria-label=\"Horsepower: 52; Acceleration: 24.6; Cylinders: 4\" role=\"graphics-symbol\" aria-roledescription=\"point\" transform=\"translate(74.28571428571429,10.769230769230752)\" d=\"M2.7386127875258306,0A2.7386127875258306,2.7386127875258306,0,1,1,-2.7386127875258306,0A2.7386127875258306,2.7386127875258306,0,1,1,2.7386127875258306,0\" stroke=\"#4c78a8\" stroke-width=\"2\" opacity=\"0.7\"/></g><g class=\"mark-group role-legend\" role=\"graphics-symbol\" aria-roledescription=\"legend\" aria-label=\"Symbol legend titled 'Cylinders' for stroke color with 3 values: 4, 5, 6\"><g transform=\"translate(218,0)\"><path class=\"background\" aria-hidden=\"true\" d=\"M0,0h51v61h-51Z\" pointer-events=\"none\"/><g><g class=\"mark-group role-legend-entry\"><g transform=\"translate(0,16)\"><path class=\"background\" aria-hidden=\"true\" d=\"M0,0h0v0h0Z\" pointer-events=\"none\"/><g><g class=\"mark-group role-scope\" role=\"graphics-object\" aria-roledescription=\"group mark container\"><g transform=\"translate(0,0)\"><path class=\"background\" aria-hidden=\"true\" d=\"M0,0h21v12.5h-21Z\" pointer-events=\"none\" opacity=\"1\"/><g><g class=\"mark-symbol role-legend-symbol\" pointer-events=\"none\"><path transform=\"translate(6,6)\" d=\"M5,0A5,5,0,1,1,-5,0A5,5,0,1,1,5,0\" stroke=\"#4c78a8\" stroke-width=\"1.5\" opacity=\"0.7\"/></g><g class=\"mark-text role-legend-label\" pointer-events=\"none\"><text text-anchor=\"start\" transform=\"translate(16,9)\" font-family=\"sans-serif\" font-size=\"10px\" fill=\"#000\" opacity=\"1\">4</text></g></g><path class=\"foreground\" aria-hidden=\"true\" d=\"\" pointer-events=\"none\" display=\"none\"/></g><g transform=\"translate(0,16)\"><path class=\"background\" aria-hidden=\"true\" d=\"M0,0h21v12.5h-21Z\" pointer-events=\"none\" opacity=\"1\"/><g><g class=\"mark-symbol role-legend-symbol\" pointer-events=\"none\"><path transform=\"translate(6,6)\" d=\"M5,0A5,5,0,1,1,-5,0A5,5,0,1,1,5,0\" stroke=\"#f58518\" stroke-width=\"1.5\" opacity=\"0.7\"/></g><g class=\"mark-text role-legend-label\" pointer-events=\"none\"><text text-anchor=\"start\" transform=\"translate(16,9)\" font-family=\"sans-serif\" font-size=\"10px\" fill=\"#000\" opacity=\"1\">5</text></g></g><path class=\"foreground\" aria-hidden=\"true\" d=\"\" pointer-events=\"none\" display=\"none\"/></g><g transform=\"translate(0,32)\"><path class=\"background\" aria-hidden=\"true\" d=\"M0,0h21v12.5h-21Z\" pointer-events=\"none\" opacity=\"1\"/><g><g class=\"mark-symbol role-legend-symbol\" pointer-events=\"none\"><path transform=\"translate(6,6)\" d=\"M5,0A5,5,0,1,1,-5,0A5,5,0,1,1,5,0\" stroke=\"#e45756\" stroke-width=\"1.5\" opacity=\"0.7\"/></g><g class=\"mark-text role-legend-label\" pointer-events=\"none\"><text text-anchor=\"start\" transform=\"translate(16,9)\" font-family=\"sans-serif\" font-size=\"10px\" fill=\"#000\" opacity=\"1\">6</text></g></g><path class=\"foreground\" aria-hidden=\"true\" d=\"\" pointer-events=\"none\" display=\"none\"/></g></g></g><path class=\"foreground\" aria-hidden=\"true\" d=\"\" pointer-events=\"none\" display=\"none\"/></g></g><g class=\"mark-text role-legend-title\" pointer-events=\"none\"><text text-anchor=\"start\" transform=\"translate(0,9)\" font-family=\"sans-serif\" font-size=\"11px\" font-weight=\"bold\" fill=\"#000\" opacity=\"1\">Cylinders</text></g></g><path class=\"foreground\" aria-hidden=\"true\" d=\"\" pointer-events=\"none\" display=\"none\"/></g></g></g><path class=\"foreground\" aria-hidden=\"true\" d=\"\" display=\"none\"/></g></g></g></svg>\n"
      ],
      "text/plain": [
       "@vlplot(\n",
       "    mark=\"point\",\n",
       "    encoding={\n",
       "        x={\n",
       "            field=\"Horsepower\"\n",
       "        },\n",
       "        y={\n",
       "            field=\"Acceleration\"\n",
       "        },\n",
       "        color={\n",
       "            field=\"Cylinders\",\n",
       "            type=\"nominal\"\n",
       "        }\n",
       "    },\n",
       "    data={\n",
       "        values=...\n",
       "    }\n",
       ")"
      ]
     },
     "execution_count": 14,
     "metadata": {},
     "output_type": "execute_result"
    }
   ],
   "source": [
    "cars |>\n",
    "  @filter(_.Origin==\"Europe\") |>\n",
    "  @vlplot(:point, x=:Horsepower, y=:Acceleration, color=\"Cylinders:n\")"
   ]
  },
  {
   "cell_type": "markdown",
   "metadata": {},
   "source": [
    "And we can always transform it into a dataframe:"
   ]
  },
  {
   "cell_type": "code",
   "execution_count": 15,
   "metadata": {},
   "outputs": [
    {
     "data": {
      "text/html": [
       "<div class=\"data-frame\"><p>9 rows × 7 columns (omitted printing of 1 columns)</p><table class=\"data-frame\"><thead><tr><th></th><th>variable</th><th>mean</th><th>min</th><th>median</th><th>max</th><th>nmissing</th></tr><tr><th></th><th title=\"Symbol\">Symbol</th><th title=\"Union{Nothing, Float64}\">Union…</th><th title=\"Any\">Any</th><th title=\"Union{Nothing, Float64}\">Union…</th><th title=\"Any\">Any</th><th title=\"Int64\">Int64</th></tr></thead><tbody><tr><th>1</th><td>Name</td><td></td><td>amc ambassador brougham</td><td></td><td>vw rabbit custom</td><td>0</td></tr><tr><th>2</th><td>Miles_per_Gallon</td><td>23.5146</td><td>9.0</td><td>23.0</td><td>46.6</td><td>8</td></tr><tr><th>3</th><td>Cylinders</td><td>5.47537</td><td>3</td><td>4.0</td><td>8</td><td>0</td></tr><tr><th>4</th><td>Displacement</td><td>194.78</td><td>68.0</td><td>151.0</td><td>455.0</td><td>0</td></tr><tr><th>5</th><td>Horsepower</td><td>105.082</td><td>46</td><td>95.0</td><td>230</td><td>6</td></tr><tr><th>6</th><td>Weight_in_lbs</td><td>2979.41</td><td>1613</td><td>2822.5</td><td>5140</td><td>0</td></tr><tr><th>7</th><td>Acceleration</td><td>15.5197</td><td>8.0</td><td>15.5</td><td>24.8</td><td>0</td></tr><tr><th>8</th><td>Year</td><td></td><td>1970-01-01</td><td></td><td>1982-01-01</td><td>0</td></tr><tr><th>9</th><td>Origin</td><td></td><td>Europe</td><td></td><td>USA</td><td>0</td></tr></tbody></table></div>"
      ],
      "text/latex": [
       "\\begin{tabular}{r|ccccccc}\n",
       "\t& variable & mean & min & median & max & nmissing & \\\\\n",
       "\t\\hline\n",
       "\t& Symbol & Union… & Any & Union… & Any & Int64 & \\\\\n",
       "\t\\hline\n",
       "\t1 & Name &  & amc ambassador brougham &  & vw rabbit custom & 0 & $\\dots$ \\\\\n",
       "\t2 & Miles\\_per\\_Gallon & 23.5146 & 9.0 & 23.0 & 46.6 & 8 & $\\dots$ \\\\\n",
       "\t3 & Cylinders & 5.47537 & 3 & 4.0 & 8 & 0 & $\\dots$ \\\\\n",
       "\t4 & Displacement & 194.78 & 68.0 & 151.0 & 455.0 & 0 & $\\dots$ \\\\\n",
       "\t5 & Horsepower & 105.082 & 46 & 95.0 & 230 & 6 & $\\dots$ \\\\\n",
       "\t6 & Weight\\_in\\_lbs & 2979.41 & 1613 & 2822.5 & 5140 & 0 & $\\dots$ \\\\\n",
       "\t7 & Acceleration & 15.5197 & 8.0 & 15.5 & 24.8 & 0 & $\\dots$ \\\\\n",
       "\t8 & Year &  & 1970-01-01 &  & 1982-01-01 & 0 & $\\dots$ \\\\\n",
       "\t9 & Origin &  & Europe &  & USA & 0 & $\\dots$ \\\\\n",
       "\\end{tabular}\n"
      ],
      "text/plain": [
       "\u001b[1m9×7 DataFrame\u001b[0m\n",
       "\u001b[1m Row \u001b[0m│\u001b[1m variable         \u001b[0m\u001b[1m mean    \u001b[0m\u001b[1m min                     \u001b[0m\u001b[1m median \u001b[0m\u001b[1m max        \u001b[0m ⋯\n",
       "\u001b[1m     \u001b[0m│\u001b[90m Symbol           \u001b[0m\u001b[90m Union…  \u001b[0m\u001b[90m Any                     \u001b[0m\u001b[90m Union… \u001b[0m\u001b[90m Any        \u001b[0m ⋯\n",
       "─────┼──────────────────────────────────────────────────────────────────────────\n",
       "   1 │ Name             \u001b[90m         \u001b[0m amc ambassador brougham \u001b[90m        \u001b[0m vw rabbit c ⋯\n",
       "   2 │ Miles_per_Gallon  23.5146  9.0                      23.0    46.6\n",
       "   3 │ Cylinders         5.47537  3                        4.0     8\n",
       "   4 │ Displacement      194.78   68.0                     151.0   455.0\n",
       "   5 │ Horsepower        105.082  46                       95.0    230         ⋯\n",
       "   6 │ Weight_in_lbs     2979.41  1613                     2822.5  5140\n",
       "   7 │ Acceleration      15.5197  8.0                      15.5    24.8\n",
       "   8 │ Year             \u001b[90m         \u001b[0m 1970-01-01              \u001b[90m        \u001b[0m 1982-01-01\n",
       "   9 │ Origin           \u001b[90m         \u001b[0m Europe                  \u001b[90m        \u001b[0m USA         ⋯\n",
       "\u001b[36m                                                               3 columns omitted\u001b[0m"
      ]
     },
     "execution_count": 15,
     "metadata": {},
     "output_type": "execute_result"
    }
   ],
   "source": [
    "cars |>\n",
    "  DataFrame |>\n",
    "  describe"
   ]
  },
  {
   "cell_type": "markdown",
   "metadata": {},
   "source": [
    "### beyond csv\n",
    "\n",
    "`load()` is able to load a bunch of different formats: csv and excel files, but also SPSS, Stat and SAS files. And more. \n",
    "\n",
    "For the time being, `save()` is more limited and can save in csv and two special formats (feather and bedgraph).\n",
    "\n",
    "For more details see here: http://www.david-anthoff.com/jl4ds/stable/fileio/#The-load-and-save-function-1"
   ]
  },
  {
   "cell_type": "markdown",
   "metadata": {},
   "source": [
    "## Complicated csvs"
   ]
  },
  {
   "cell_type": "markdown",
   "metadata": {},
   "source": [
    "If you find some nasty and complicated csv, which `load()` are not able to handle, the way out is using the dedicated package [CSV](http://juliadata.github.io/CSV.jl/stable/index.html#High-level-interface-1)."
   ]
  },
  {
   "cell_type": "code",
   "execution_count": 16,
   "metadata": {},
   "outputs": [
    {
     "name": "stderr",
     "output_type": "stream",
     "text": [
      "\u001b[32m\u001b[1m   Resolving\u001b[22m\u001b[39m package versions...\n",
      "\u001b[32m\u001b[1m   Installed\u001b[22m\u001b[39m CSV ─ v0.8.5\n",
      "\u001b[32m\u001b[1m    Updating\u001b[22m\u001b[39m `C:\\Users\\thoma\\.julia\\environments\\v1.6\\Project.toml`\n",
      " \u001b[90m [336ed68f] \u001b[39m\u001b[92m+ CSV v0.8.5\u001b[39m\n",
      "\u001b[32m\u001b[1m    Updating\u001b[22m\u001b[39m `C:\\Users\\thoma\\.julia\\environments\\v1.6\\Manifest.toml`\n",
      " \u001b[90m [336ed68f] \u001b[39m\u001b[92m+ CSV v0.8.5\u001b[39m\n",
      " \u001b[90m [91c51154] \u001b[39m\u001b[92m+ SentinelArrays v1.3.5\u001b[39m\n",
      "\u001b[32m\u001b[1mPrecompiling\u001b[22m\u001b[39m project...\n",
      "\u001b[32m  ✓ \u001b[39m\u001b[90mSentinelArrays\u001b[39m\n",
      "\u001b[32m  ✓ \u001b[39mCSV\n",
      "  2 dependencies successfully precompiled in 15 seconds (109 already precompiled)\n"
     ]
    }
   ],
   "source": [
    "Pkg.add(\"CSV\")"
   ]
  },
  {
   "cell_type": "code",
   "execution_count": 17,
   "metadata": {},
   "outputs": [],
   "source": [
    "using CSV"
   ]
  },
  {
   "cell_type": "markdown",
   "metadata": {},
   "source": [
    "The main functions here are `CSV.write()` to write a csv, `CSV.read()` to read a csv, and `CSV.validate()` to get information about why the reading of a csv file fails."
   ]
  },
  {
   "cell_type": "markdown",
   "metadata": {},
   "source": [
    "## Excelles"
   ]
  },
  {
   "cell_type": "markdown",
   "metadata": {},
   "source": [
    "Julia handles excel files in a similar way that `readxl` in R does. The package in this case is `ExcelFiles` (see: https://github.com/queryverse/ExcelFiles.jl )."
   ]
  },
  {
   "cell_type": "code",
   "execution_count": 18,
   "metadata": {},
   "outputs": [
    {
     "name": "stderr",
     "output_type": "stream",
     "text": [
      "\u001b[32m\u001b[1m   Resolving\u001b[22m\u001b[39m package versions...\n",
      "\u001b[32m\u001b[1m    Updating\u001b[22m\u001b[39m `C:\\Users\\thoma\\.julia\\environments\\v1.6\\Project.toml`\n",
      " \u001b[90m [89b67f3b] \u001b[39m\u001b[92m+ ExcelFiles v1.0.0\u001b[39m\n",
      "\u001b[32m\u001b[1m  No Changes\u001b[22m\u001b[39m to `C:\\Users\\thoma\\.julia\\environments\\v1.6\\Manifest.toml`\n"
     ]
    }
   ],
   "source": [
    "Pkg.add(\"ExcelFiles\")"
   ]
  },
  {
   "cell_type": "code",
   "execution_count": 19,
   "metadata": {},
   "outputs": [],
   "source": [
    "using ExcelFiles"
   ]
  },
  {
   "cell_type": "markdown",
   "metadata": {},
   "source": [
    "The main functions here are named similary to the CSV package."
   ]
  },
  {
   "cell_type": "markdown",
   "metadata": {},
   "source": [
    "# Your turn\n",
    "\n",
    "Load a dataset from VegaDataset (e.g., `dataset(\"iris\")`), do some wrangling, and write it to disk as a csv. Then read it back"
   ]
  },
  {
   "cell_type": "code",
   "execution_count": 20,
   "metadata": {},
   "outputs": [],
   "source": [
    "# your code here."
   ]
  },
  {
   "cell_type": "code",
   "execution_count": null,
   "metadata": {},
   "outputs": [],
   "source": []
  },
  {
   "cell_type": "code",
   "execution_count": null,
   "metadata": {},
   "outputs": [],
   "source": []
  },
  {
   "cell_type": "code",
   "execution_count": null,
   "metadata": {},
   "outputs": [],
   "source": []
  }
 ],
 "metadata": {
  "kernelspec": {
   "display_name": "Julia 1.6.2",
   "language": "julia",
   "name": "julia-1.6"
  },
  "language_info": {
   "file_extension": ".jl",
   "mimetype": "application/julia",
   "name": "julia",
   "version": "1.6.2"
  }
 },
 "nbformat": 4,
 "nbformat_minor": 4
}

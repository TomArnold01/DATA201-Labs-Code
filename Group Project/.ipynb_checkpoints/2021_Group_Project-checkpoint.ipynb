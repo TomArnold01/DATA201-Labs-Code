{
 "cells": [
  {
   "cell_type": "markdown",
   "metadata": {},
   "source": [
    "# Data 201/422 Group Assignment"
   ]
  },
  {
   "cell_type": "markdown",
   "metadata": {},
   "source": [
    "**you are supposed to work as a team, that means that you are expected to participate in the lab sessions with your group**\n",
    "\n",
    "**So, show up, on zoom or in person**"
   ]
  },
  {
   "cell_type": "markdown",
   "metadata": {},
   "source": [
    "### Lab Calendar\n",
    "\n",
    "| Week | When? | What?|\n",
    "|-------|------|-----|\n",
    "| 8 | Lab | group project official launch |\n",
    "| 9 | Lab | fast prototyping |\n",
    "| 10 | Lab | group work |\n",
    "| 11 | Lab | usability sessions |\n",
    "| 12 | Lab | group work (for presentation) |\n",
    "\n",
    "\n",
    "### Due Dates\n",
    "\n",
    "| Week | When? | What?|\n",
    "|-------|------|-----|\n",
    "| 10 | your lab stream time | Project Idea |\n",
    "| 12 | your lab stream time | PUBLIC presentation - During Lab |\n",
    "| 12 | Friday, 22 October, 1:00 PM | Data + Report |\n"
   ]
  },
  {
   "cell_type": "markdown",
   "metadata": {},
   "source": [
    "### Goals\n",
    "\n",
    "Your goals as a team are to:  \n",
    "1. identify interesting data sources to work on;\n",
    "2. wrangle the data sources into a suitable target data model;\n",
    "3. present the data to a larger audience.  \n",
    "\n",
    "Throughout the project, you should aim to exhibit that you can apply what we learnt in the class (and so some R coding in 201, and some R and Julia coding if in 422)"
   ]
  },
  {
   "cell_type": "markdown",
   "metadata": {},
   "source": [
    "### Deliverable\n",
    "\n",
    "The deliverable that we ask you to submit by the end of the group work (Friday, 23 October, 1:00 PM) is a compressed folder (a zipped folder) containing:\n",
    "\n",
    "1. A project report. The report should clearly describe:\n",
    "   1. what data sources you used\n",
    "   2. why you chose those data sources\n",
    "   3. what target you chose (i.e., what is the intended use of the data, ...)\n",
    "   4. what difficulties you had to overcome to wrangle the data sources into the target data model\n",
    "   5. what techniques you did use\n",
    "   6. what you managed to achieve and what you failed to do\n",
    "2. A project diary: every day you work on the project, take a detailed note of who-did-what in a text file. Even when you work by yourself, take note of what you did and then report that into the group diary\n",
    "3. Slides or any other material for the data presentation\n",
    "4. Jupyter notebooks with all the code you wrote to do the various wrangling tasks, well documented and commented. If you use more than one Jupyter notebook, you should also include a document explaining how the notebooks are linked (i.e., in which sequence should we run the notebooks to reproduce your analysis, what do they perform, ...)\n",
    "5. The data you produced, or a link to access the data you produced, and all the relevant documentation for us to access and understand the data. If we can access the data with the information you give us, we consider that a non-submission.\n",
    "\n",
    "All documents must be either in .pdf, markdown or jupyter notebooks; absolutely no word documents or similar proprietary formats."
   ]
  },
  {
   "cell_type": "markdown",
   "metadata": {},
   "source": [
    "### Steps:\n",
    "\n",
    "Working in group on a data science project is a skill in itself.  \n",
    "In the labs from here to the end of the course we are suggesting you one way to structure your work.\n",
    "You are highly encouraged to find some time to work together as a group during the next weeks: in my experience, new teams needs to be sitting in the same room to keep their efforts coordinated.\n",
    "\n",
    "Also, this may be the right time to try and get used to some version control and team management workflows/software. My suggestion is to use github (a very short introduction [here](https://guides.github.com/activities/hello-world/) ) or gitlab (a more comprehensive introduction [here](https://docs.gitlab.com/ee/gitlab-basics/README.html) ). This are standards in industry, and learning them is surely worth the effort. If you decide to go down this road, we can help you :-)\n",
    "\n",
    "**More detailed information for steps after 1. are offered closer to the step time**"
   ]
  },
  {
   "cell_type": "markdown",
   "metadata": {},
   "source": [
    "#### 1. Launch and fast prototyping\n",
    "\n",
    "This is the phase of exploration and prototyping.\n",
    "\n",
    "##### Exploration\n",
    "\n",
    "As a team, you need to identify _good_ set of data sources. A _good_ datasource for this projects is a source of data that:  \n",
    "1. you can read and handle, or learn to read and handle in a very short time. Formats that are too exotique may be very interesting, but they may also require a too long time to import into anything familiar to you. To be fair, most of the datasets you can find in the sources we suggest you are in a good format. _pro tip_: avoid data presented in pdf tables, unless you are ready to do a lot of hand work (if you do, it's great).\n",
    "2. it is not already in the most suitable data model. If the source dataset is already perfect, there's little you can do and you won't have the opportunity to exhibit your skills. Government or NGO data is usually quite dirty, so they represent good choices.\n",
    "3. it is _interesting_ for you. I don't have a strong interest in cars, and for me working a month on car data set would be a boring hell. But maybe you LOVE cars, than that dataset would be perfect for you. Try to consider your passions, or look at the news to see what may be a hot topic. Avoid abused datasets (i.e., _iris_ or _mtcars_ or _titanic_ or ...): we have already seen all possible projects about that stuff.\n",
    "4. it is _joined_ or _joinable_ to other data sources. Consider the presence of common identifiers (things as: region names, product ids, years or dates, ...) that you may use to connect two or more data sources and tell a story (great data stories often emerge from connections)."
   ]
  },
  {
   "cell_type": "markdown",
   "metadata": {},
   "source": [
    "### Suggested data sources\n",
    "\n",
    "There's no hard boundary: if you do identify a data source we did not think about, even better.\n",
    "\n",
    "Our data repositories suggestions are:\n",
    "\n",
    "1. https://data.govt.nz/ : a large repository of New Zealand Governmental Datasets, in various formats, most of local interest.\n",
    "2. http://www.who.int/gho/en/ : a database of information from the World Health Organization, of global interest.\n",
    "3. http://data.un.org/ : a collection of databases from the United Nations, of global interest.\n",
    "4. https://www.google.com/publicdata/directory : a directory of public data from Google.\n",
    "5. https://www.gdeltproject.org: Global Database of Events, Language, and Tone: a comprehensive, high resolution open database of human society events.\n",
    "\n",
    "\n",
    "Google offers (a beta version of) a search engine for finding datasets: https://toolbox.google.com/datasetsearch"
   ]
  },
  {
   "cell_type": "markdown",
   "metadata": {},
   "source": [
    "##### Prototyping\n",
    "\n",
    "You won't find the best data sources at the first go.\n",
    "\n",
    "Once you have identified a candidate set of data sources, try and write down what use you want to make of it. A good way is to try and write down some question you would like to answer with the data sources (good questions are question that do require some wrangling and cannot be simply answered using only one of the data sources).\n",
    "\n",
    "After that, **prototype** your data wrangling: you may decide to work on a limited subset of data to see you can quickly write some code to get closer to answering your questions. The code does not need to be perfect, nor the questions need to be answered at this stage. Yet, if the questions look to easy or too hard consider (1) changing question, or (2) changing data sources and questions.\n",
    "\n",
    "Fail fast, fail often. Trying and hitting a wall as soon as possible you can avoid to find yourself stuck at the mid of your project."
   ]
  },
  {
   "cell_type": "markdown",
   "metadata": {},
   "source": [
    "#### 2. Feedback Sessions\n",
    "\n",
    "A feedback session is a collaborative effort between 2 groups.\n",
    "\n",
    "In the first hour, group A will expose its sources, targets, work done and future plans to group B. Group B gives feedback about all the phases: they can suggest slightly improved questions, point toward possible weakness in the methodology (for example, data contamination risks, ...), rise ethical questions, and suggest solutions to problems group A is facing. After the first hour, groups swap roles."
   ]
  },
  {
   "cell_type": "markdown",
   "metadata": {},
   "source": [
    "#### 3. group work\n",
    "\n",
    "Unstructured time. You'll have the opportunity to work with the teachers and TAs to progress in your group project."
   ]
  },
  {
   "cell_type": "markdown",
   "metadata": {},
   "source": [
    "#### 4. Presentations\n",
    "\n",
    "Impress us! Tell us what you have done, and what is interesting in the data you wrangled. What wonderful very distant data sets you managed to get together and clean and make sense of. Tell us how the data model you shaped your data into allows for other data scientists to work on that data. Use animation, visualization and your best communication skills.\n",
    "\n",
    "Presentation times 7 minutes + 1 minute for Q&A from the audience.\n",
    "\n",
    "Presentation are marked separetely, and are worth 10% of the course final grade."
   ]
  },
  {
   "cell_type": "markdown",
   "metadata": {},
   "source": [
    "## Marks and policy\n",
    "\n",
    "The group project is worth 40% of the final course grade.\n",
    "\n",
    "We will evaluate the delivarable you submit. Out of 40 marks:\n",
    "\n",
    "1. Project report: 15 marks (1 for writing, 1 for visualization, 1 for clearness in the report, 5 for suitability of the target data model, 7 for depth and extension of the project)\n",
    "2. Project diary: 5 marks (2 for detail, 2 for presentation, and 1 for rigorous keeping)\n",
    "3. Presentation material: no marks (presentation are evaluated separetely)\n",
    "4. Code Notebooks: 15 marks (10 for code quality and skills, 5 for documentation quality)\n",
    "5. Final Data and Documentation: 5 marks (2 for the data availability, 3 for the quality of documentation)\n",
    "\n",
    "Bonus points may be given for use of github or other special efforts.\n",
    "\n",
    "**Data 422 students**: notice that some Julia code is required if you want to get the full marks for the code notebooks and the depth and extension of the project. Try to identify a task that you can do with Julia. You don't need to repeat/replicate something you have done in R: it is probably the best to do something different in Julia, so you don't waste energy in a redundant job.\n",
    "\n",
    "**Late submissions** are strongly discouraged.\n",
    "You have more than month of time to get your project together, if you find yourself short in time for very serious problems let me know and we'll find a solution. A good idea is to work on incremental improvement, starting from a rough project and getting it better and better, so that whenever you stop you have something ready to be submit.\n",
    "Otherwise, if not agreed differently between us (Giulio and Thomas) and you, the standard departmental late submission policy will be applied."
   ]
  },
  {
   "cell_type": "markdown",
   "metadata": {},
   "source": [
    "## Final note\n",
    "\n",
    "\n",
    "**This document may be updated during the month of the group project in order to provide more detailed information, if and where needed**"
   ]
  },
  {
   "cell_type": "code",
   "execution_count": 1,
   "metadata": {},
   "outputs": [
    {
     "name": "stderr",
     "output_type": "stream",
     "text": [
      "── \u001b[1mAttaching packages\u001b[22m ─────────────────────────────────────────────────────────────────────────────── tidyverse 1.3.2 ──\n",
      "\u001b[32m✔\u001b[39m \u001b[34mggplot2\u001b[39m 3.3.6     \u001b[32m✔\u001b[39m \u001b[34mpurrr  \u001b[39m 0.3.4\n",
      "\u001b[32m✔\u001b[39m \u001b[34mtibble \u001b[39m 3.1.7     \u001b[32m✔\u001b[39m \u001b[34mdplyr  \u001b[39m 1.0.9\n",
      "\u001b[32m✔\u001b[39m \u001b[34mtidyr  \u001b[39m 1.2.0     \u001b[32m✔\u001b[39m \u001b[34mstringr\u001b[39m 1.4.0\n",
      "\u001b[32m✔\u001b[39m \u001b[34mreadr  \u001b[39m 2.1.2     \u001b[32m✔\u001b[39m \u001b[34mforcats\u001b[39m 0.5.1\n",
      "── \u001b[1mConflicts\u001b[22m ────────────────────────────────────────────────────────────────────────────────── tidyverse_conflicts() ──\n",
      "\u001b[31m✖\u001b[39m \u001b[34mdplyr\u001b[39m::\u001b[32mfilter()\u001b[39m masks \u001b[34mstats\u001b[39m::filter()\n",
      "\u001b[31m✖\u001b[39m \u001b[34mdplyr\u001b[39m::\u001b[32mlag()\u001b[39m    masks \u001b[34mstats\u001b[39m::lag()\n",
      "\n",
      "Attaching package: 'rvest'\n",
      "\n",
      "\n",
      "The following object is masked from 'package:readr':\n",
      "\n",
      "    guess_encoding\n",
      "\n",
      "\n"
     ]
    }
   ],
   "source": [
    "library(tidyverse)\n",
    "#this section is just gettign all of the liabarys that are needed \n",
    "library(rvest) # this is installing the requried library\n",
    "library(polite) # this library is jsut a better version of the rvest library \n",
    "library(xml2) # makes it easier to work with HTML and XML from R"
   ]
  },
  {
   "cell_type": "code",
   "execution_count": 5,
   "metadata": {},
   "outputs": [],
   "source": [
    "url_titles <- \"https://neatplaces.co.nz/places/christchurch-canterbury/eat-drink?category=cafes\" # this is the base url from where the scraping starts\n",
    "page_title <- read_html(url_titles)"
   ]
  },
  {
   "cell_type": "code",
   "execution_count": 6,
   "metadata": {},
   "outputs": [
    {
     "data": {
      "text/html": [
       "'list'"
      ],
      "text/latex": [
       "'list'"
      ],
      "text/markdown": [
       "'list'"
      ],
      "text/plain": [
       "[1] \"list\""
      ]
     },
     "metadata": {},
     "output_type": "display_data"
    },
    {
     "name": "stdout",
     "output_type": "stream",
     "text": [
      "List of 2\n",
      " $ node:<externalptr> \n",
      " $ doc :<externalptr> \n",
      " - attr(*, \"class\")= chr [1:2] \"xml_document\" \"xml_node\"\n"
     ]
    }
   ],
   "source": [
    "page_title %>% typeof()\n",
    "page_title %>% glimpse()"
   ]
  },
  {
   "cell_type": "code",
   "execution_count": 10,
   "metadata": {},
   "outputs": [
    {
     "data": {
      "text/html": [
       "<style>\n",
       ".list-inline {list-style: none; margin:0; padding: 0}\n",
       ".list-inline>li {display: inline-block}\n",
       ".list-inline>li:not(:last-child)::after {content: \"\\00b7\"; padding: 0 .5ex}\n",
       "</style>\n",
       "<ol class=list-inline><li>'Child Sister'</li><li>'Tom\\'s'</li><li>'Bonobo Café'</li><li>'Pilgrim'</li><li>'General Post'</li><li>'Truffle Café'</li><li>'The Mediterranean Food Company'</li><li>'Addington Coffee Co-op'</li><li>'Six Ounces'</li><li>'Mona Vale Homestead &amp; Pantry'</li><li>'Niche Coffee + Eatery'</li><li>'Native Café'</li><li>'South Town Club'</li><li>'Saturdays'</li><li>'Barefoot Eatery'</li><li>'Little River Café and Store'</li><li>'Rollickin\\' Gelato Cashel Street'</li><li>'Posh Porridge'</li><li>'Foundation Café'</li><li>'Gelato &amp; Tea'</li><li>'The Welder'</li><li>'Riverside Market'</li><li>'Sweet Soul Patisserie'</li><li>'Grain Coffee'</li><li>'Evil Genius Bar &amp; Eatery'</li><li>'J\\'aime les Macarons'</li><li>'Old School Collective'</li><li>'Grater Goods'</li><li>'Westend Stories'</li><li>'Switch New Brighton'</li><li>'Prima Roastery'</li><li>'Dux Dine'</li><li>'Little Poms'</li><li>'The Birdwood'</li><li>'The Arts Centre'</li><li>'BOXed Quarter'</li><li>'Miro'</li><li>'Little Vintage Espresso'</li><li>'Allpress Espresso'</li><li>'Herba Gourmet'</li><li>'Lyttelton Coffee Company'</li><li>'The Origin'</li><li>'Dispense Espresso'</li><li>'The Tannery'</li><li>'Rollickin\\' Gelato'</li><li>'Peninsula General Store'</li><li>'Park Ranger'</li><li>'Dose Diner'</li><li>'Coffee Embassy'</li></ol>\n"
      ],
      "text/latex": [
       "\\begin{enumerate*}\n",
       "\\item 'Child Sister'\n",
       "\\item 'Tom\\textbackslash{}'s'\n",
       "\\item 'Bonobo Café'\n",
       "\\item 'Pilgrim'\n",
       "\\item 'General Post'\n",
       "\\item 'Truffle Café'\n",
       "\\item 'The Mediterranean Food Company'\n",
       "\\item 'Addington Coffee Co-op'\n",
       "\\item 'Six Ounces'\n",
       "\\item 'Mona Vale Homestead \\& Pantry'\n",
       "\\item 'Niche Coffee + Eatery'\n",
       "\\item 'Native Café'\n",
       "\\item 'South Town Club'\n",
       "\\item 'Saturdays'\n",
       "\\item 'Barefoot Eatery'\n",
       "\\item 'Little River Café and Store'\n",
       "\\item 'Rollickin\\textbackslash{}' Gelato Cashel Street'\n",
       "\\item 'Posh Porridge'\n",
       "\\item 'Foundation Café'\n",
       "\\item 'Gelato \\& Tea'\n",
       "\\item 'The Welder'\n",
       "\\item 'Riverside Market'\n",
       "\\item 'Sweet Soul Patisserie'\n",
       "\\item 'Grain Coffee'\n",
       "\\item 'Evil Genius Bar \\& Eatery'\n",
       "\\item 'J\\textbackslash{}'aime les Macarons'\n",
       "\\item 'Old School Collective'\n",
       "\\item 'Grater Goods'\n",
       "\\item 'Westend Stories'\n",
       "\\item 'Switch New Brighton'\n",
       "\\item 'Prima Roastery'\n",
       "\\item 'Dux Dine'\n",
       "\\item 'Little Poms'\n",
       "\\item 'The Birdwood'\n",
       "\\item 'The Arts Centre'\n",
       "\\item 'BOXed Quarter'\n",
       "\\item 'Miro'\n",
       "\\item 'Little Vintage Espresso'\n",
       "\\item 'Allpress Espresso'\n",
       "\\item 'Herba Gourmet'\n",
       "\\item 'Lyttelton Coffee Company'\n",
       "\\item 'The Origin'\n",
       "\\item 'Dispense Espresso'\n",
       "\\item 'The Tannery'\n",
       "\\item 'Rollickin\\textbackslash{}' Gelato'\n",
       "\\item 'Peninsula General Store'\n",
       "\\item 'Park Ranger'\n",
       "\\item 'Dose Diner'\n",
       "\\item 'Coffee Embassy'\n",
       "\\end{enumerate*}\n"
      ],
      "text/markdown": [
       "1. 'Child Sister'\n",
       "2. 'Tom\\'s'\n",
       "3. 'Bonobo Café'\n",
       "4. 'Pilgrim'\n",
       "5. 'General Post'\n",
       "6. 'Truffle Café'\n",
       "7. 'The Mediterranean Food Company'\n",
       "8. 'Addington Coffee Co-op'\n",
       "9. 'Six Ounces'\n",
       "10. 'Mona Vale Homestead &amp; Pantry'\n",
       "11. 'Niche Coffee + Eatery'\n",
       "12. 'Native Café'\n",
       "13. 'South Town Club'\n",
       "14. 'Saturdays'\n",
       "15. 'Barefoot Eatery'\n",
       "16. 'Little River Café and Store'\n",
       "17. 'Rollickin\\' Gelato Cashel Street'\n",
       "18. 'Posh Porridge'\n",
       "19. 'Foundation Café'\n",
       "20. 'Gelato &amp; Tea'\n",
       "21. 'The Welder'\n",
       "22. 'Riverside Market'\n",
       "23. 'Sweet Soul Patisserie'\n",
       "24. 'Grain Coffee'\n",
       "25. 'Evil Genius Bar &amp; Eatery'\n",
       "26. 'J\\'aime les Macarons'\n",
       "27. 'Old School Collective'\n",
       "28. 'Grater Goods'\n",
       "29. 'Westend Stories'\n",
       "30. 'Switch New Brighton'\n",
       "31. 'Prima Roastery'\n",
       "32. 'Dux Dine'\n",
       "33. 'Little Poms'\n",
       "34. 'The Birdwood'\n",
       "35. 'The Arts Centre'\n",
       "36. 'BOXed Quarter'\n",
       "37. 'Miro'\n",
       "38. 'Little Vintage Espresso'\n",
       "39. 'Allpress Espresso'\n",
       "40. 'Herba Gourmet'\n",
       "41. 'Lyttelton Coffee Company'\n",
       "42. 'The Origin'\n",
       "43. 'Dispense Espresso'\n",
       "44. 'The Tannery'\n",
       "45. 'Rollickin\\' Gelato'\n",
       "46. 'Peninsula General Store'\n",
       "47. 'Park Ranger'\n",
       "48. 'Dose Diner'\n",
       "49. 'Coffee Embassy'\n",
       "\n",
       "\n"
      ],
      "text/plain": [
       " [1] \"Child Sister\"                    \"Tom's\"                          \n",
       " [3] \"Bonobo Café\"                     \"Pilgrim\"                        \n",
       " [5] \"General Post\"                    \"Truffle Café\"                   \n",
       " [7] \"The Mediterranean Food Company\"  \"Addington Coffee Co-op\"         \n",
       " [9] \"Six Ounces\"                      \"Mona Vale Homestead & Pantry\"   \n",
       "[11] \"Niche Coffee + Eatery\"           \"Native Café\"                    \n",
       "[13] \"South Town Club\"                 \"Saturdays\"                      \n",
       "[15] \"Barefoot Eatery\"                 \"Little River Café and Store\"    \n",
       "[17] \"Rollickin' Gelato Cashel Street\" \"Posh Porridge\"                  \n",
       "[19] \"Foundation Café\"                 \"Gelato & Tea\"                   \n",
       "[21] \"The Welder\"                      \"Riverside Market\"               \n",
       "[23] \"Sweet Soul Patisserie\"           \"Grain Coffee\"                   \n",
       "[25] \"Evil Genius Bar & Eatery\"        \"J'aime les Macarons\"            \n",
       "[27] \"Old School Collective\"           \"Grater Goods\"                   \n",
       "[29] \"Westend Stories\"                 \"Switch New Brighton\"            \n",
       "[31] \"Prima Roastery\"                  \"Dux Dine\"                       \n",
       "[33] \"Little Poms\"                     \"The Birdwood\"                   \n",
       "[35] \"The Arts Centre\"                 \"BOXed Quarter\"                  \n",
       "[37] \"Miro\"                            \"Little Vintage Espresso\"        \n",
       "[39] \"Allpress Espresso\"               \"Herba Gourmet\"                  \n",
       "[41] \"Lyttelton Coffee Company\"        \"The Origin\"                     \n",
       "[43] \"Dispense Espresso\"               \"The Tannery\"                    \n",
       "[45] \"Rollickin' Gelato\"               \"Peninsula General Store\"        \n",
       "[47] \"Park Ranger\"                     \"Dose Diner\"                     \n",
       "[49] \"Coffee Embassy\"                 "
      ]
     },
     "metadata": {},
     "output_type": "display_data"
    }
   ],
   "source": [
    "title_names <- page_title %>%\n",
    "  html_nodes(\".list-item-title p\") %>%\n",
    "  html_text()\n",
    "\n",
    "title_names"
   ]
  },
  {
   "cell_type": "code",
   "execution_count": null,
   "metadata": {},
   "outputs": [],
   "source": []
  }
 ],
 "metadata": {
  "kernelspec": {
   "display_name": "R",
   "language": "R",
   "name": "ir"
  },
  "language_info": {
   "codemirror_mode": "r",
   "file_extension": ".r",
   "mimetype": "text/x-r-source",
   "name": "R",
   "pygments_lexer": "r",
   "version": "4.2.1"
  }
 },
 "nbformat": 4,
 "nbformat_minor": 4
}

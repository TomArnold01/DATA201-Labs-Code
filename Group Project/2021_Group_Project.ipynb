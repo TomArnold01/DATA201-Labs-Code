{
 "cells": [
  {
   "cell_type": "markdown",
   "metadata": {},
   "source": [
    "# Data 201/422 Group Assignment"
   ]
  },
  {
   "cell_type": "markdown",
   "metadata": {},
   "source": [
    "**you are supposed to work as a team, that means that you are expected to participate in the lab sessions with your group**\n",
    "\n",
    "**So, show up, on zoom or in person**"
   ]
  },
  {
   "cell_type": "markdown",
   "metadata": {},
   "source": [
    "### Lab Calendar\n",
    "\n",
    "| Week | When? | What?|\n",
    "|-------|------|-----|\n",
    "| 8 | Lab | group project official launch |\n",
    "| 9 | Lab | fast prototyping |\n",
    "| 10 | Lab | group work |\n",
    "| 11 | Lab | usability sessions |\n",
    "| 12 | Lab | group work (for presentation) |\n",
    "\n",
    "\n",
    "### Due Dates\n",
    "\n",
    "| Week | When? | What?|\n",
    "|-------|------|-----|\n",
    "| 10 | your lab stream time | Project Idea |\n",
    "| 12 | your lab stream time | PUBLIC presentation - During Lab |\n",
    "| 12 | Friday, 22 October, 1:00 PM | Data + Report |\n"
   ]
  },
  {
   "cell_type": "markdown",
   "metadata": {},
   "source": [
    "### Goals\n",
    "\n",
    "Your goals as a team are to:  \n",
    "1. identify interesting data sources to work on;\n",
    "2. wrangle the data sources into a suitable target data model;\n",
    "3. present the data to a larger audience.  \n",
    "\n",
    "Throughout the project, you should aim to exhibit that you can apply what we learnt in the class (and so some R coding in 201, and some R and Julia coding if in 422)"
   ]
  },
  {
   "cell_type": "markdown",
   "metadata": {},
   "source": [
    "### Deliverable\n",
    "\n",
    "The deliverable that we ask you to submit by the end of the group work (Friday, 23 October, 1:00 PM) is a compressed folder (a zipped folder) containing:\n",
    "\n",
    "1. A project report. The report should clearly describe:\n",
    "   1. what data sources you used\n",
    "   2. why you chose those data sources\n",
    "   3. what target you chose (i.e., what is the intended use of the data, ...)\n",
    "   4. what difficulties you had to overcome to wrangle the data sources into the target data model\n",
    "   5. what techniques you did use\n",
    "   6. what you managed to achieve and what you failed to do\n",
    "2. A project diary: every day you work on the project, take a detailed note of who-did-what in a text file. Even when you work by yourself, take note of what you did and then report that into the group diary\n",
    "3. Slides or any other material for the data presentation\n",
    "4. Jupyter notebooks with all the code you wrote to do the various wrangling tasks, well documented and commented. If you use more than one Jupyter notebook, you should also include a document explaining how the notebooks are linked (i.e., in which sequence should we run the notebooks to reproduce your analysis, what do they perform, ...)\n",
    "5. The data you produced, or a link to access the data you produced, and all the relevant documentation for us to access and understand the data. If we can access the data with the information you give us, we consider that a non-submission.\n",
    "\n",
    "All documents must be either in .pdf, markdown or jupyter notebooks; absolutely no word documents or similar proprietary formats."
   ]
  },
  {
   "cell_type": "markdown",
   "metadata": {},
   "source": [
    "### Steps:\n",
    "\n",
    "Working in group on a data science project is a skill in itself.  \n",
    "In the labs from here to the end of the course we are suggesting you one way to structure your work.\n",
    "You are highly encouraged to find some time to work together as a group during the next weeks: in my experience, new teams needs to be sitting in the same room to keep their efforts coordinated.\n",
    "\n",
    "Also, this may be the right time to try and get used to some version control and team management workflows/software. My suggestion is to use github (a very short introduction [here](https://guides.github.com/activities/hello-world/) ) or gitlab (a more comprehensive introduction [here](https://docs.gitlab.com/ee/gitlab-basics/README.html) ). This are standards in industry, and learning them is surely worth the effort. If you decide to go down this road, we can help you :-)\n",
    "\n",
    "**More detailed information for steps after 1. are offered closer to the step time**"
   ]
  },
  {
   "cell_type": "markdown",
   "metadata": {},
   "source": [
    "#### 1. Launch and fast prototyping\n",
    "\n",
    "This is the phase of exploration and prototyping.\n",
    "\n",
    "##### Exploration\n",
    "\n",
    "As a team, you need to identify _good_ set of data sources. A _good_ datasource for this projects is a source of data that:  \n",
    "1. you can read and handle, or learn to read and handle in a very short time. Formats that are too exotique may be very interesting, but they may also require a too long time to import into anything familiar to you. To be fair, most of the datasets you can find in the sources we suggest you are in a good format. _pro tip_: avoid data presented in pdf tables, unless you are ready to do a lot of hand work (if you do, it's great).\n",
    "2. it is not already in the most suitable data model. If the source dataset is already perfect, there's little you can do and you won't have the opportunity to exhibit your skills. Government or NGO data is usually quite dirty, so they represent good choices.\n",
    "3. it is _interesting_ for you. I don't have a strong interest in cars, and for me working a month on car data set would be a boring hell. But maybe you LOVE cars, than that dataset would be perfect for you. Try to consider your passions, or look at the news to see what may be a hot topic. Avoid abused datasets (i.e., _iris_ or _mtcars_ or _titanic_ or ...): we have already seen all possible projects about that stuff.\n",
    "4. it is _joined_ or _joinable_ to other data sources. Consider the presence of common identifiers (things as: region names, product ids, years or dates, ...) that you may use to connect two or more data sources and tell a story (great data stories often emerge from connections)."
   ]
  },
  {
   "cell_type": "markdown",
   "metadata": {},
   "source": [
    "### Suggested data sources\n",
    "\n",
    "There's no hard boundary: if you do identify a data source we did not think about, even better.\n",
    "\n",
    "Our data repositories suggestions are:\n",
    "\n",
    "1. https://data.govt.nz/ : a large repository of New Zealand Governmental Datasets, in various formats, most of local interest.\n",
    "2. http://www.who.int/gho/en/ : a database of information from the World Health Organization, of global interest.\n",
    "3. http://data.un.org/ : a collection of databases from the United Nations, of global interest.\n",
    "4. https://www.google.com/publicdata/directory : a directory of public data from Google.\n",
    "5. https://www.gdeltproject.org: Global Database of Events, Language, and Tone: a comprehensive, high resolution open database of human society events.\n",
    "\n",
    "\n",
    "Google offers (a beta version of) a search engine for finding datasets: https://toolbox.google.com/datasetsearch"
   ]
  },
  {
   "cell_type": "markdown",
   "metadata": {},
   "source": [
    "##### Prototyping\n",
    "\n",
    "You won't find the best data sources at the first go.\n",
    "\n",
    "Once you have identified a candidate set of data sources, try and write down what use you want to make of it. A good way is to try and write down some question you would like to answer with the data sources (good questions are question that do require some wrangling and cannot be simply answered using only one of the data sources).\n",
    "\n",
    "After that, **prototype** your data wrangling: you may decide to work on a limited subset of data to see you can quickly write some code to get closer to answering your questions. The code does not need to be perfect, nor the questions need to be answered at this stage. Yet, if the questions look to easy or too hard consider (1) changing question, or (2) changing data sources and questions.\n",
    "\n",
    "Fail fast, fail often. Trying and hitting a wall as soon as possible you can avoid to find yourself stuck at the mid of your project."
   ]
  },
  {
   "cell_type": "markdown",
   "metadata": {},
   "source": [
    "#### 2. Feedback Sessions\n",
    "\n",
    "A feedback session is a collaborative effort between 2 groups.\n",
    "\n",
    "In the first hour, group A will expose its sources, targets, work done and future plans to group B. Group B gives feedback about all the phases: they can suggest slightly improved questions, point toward possible weakness in the methodology (for example, data contamination risks, ...), rise ethical questions, and suggest solutions to problems group A is facing. After the first hour, groups swap roles."
   ]
  },
  {
   "cell_type": "markdown",
   "metadata": {},
   "source": [
    "#### 3. group work\n",
    "\n",
    "Unstructured time. You'll have the opportunity to work with the teachers and TAs to progress in your group project."
   ]
  },
  {
   "cell_type": "markdown",
   "metadata": {
    "tags": []
   },
   "source": [
    "#### 4. Presentations\n",
    "\n",
    "Impress us! Tell us what you have done, and what is interesting in the data you wrangled. What wonderful very distant data sets you managed to get together and clean and make sense of. Tell us how the data model you shaped your data into allows for other data scientists to work on that data. Use animation, visualization and your best communication skills.\n",
    "\n",
    "Presentation times 7 minutes + 1 minute for Q&A from the audience.\n",
    "\n",
    "Presentation are marked separetely, and are worth 10% of the course final grade."
   ]
  },
  {
   "cell_type": "markdown",
   "metadata": {},
   "source": [
    "## Marks and policy\n",
    "\n",
    "The group project is worth 40% of the final course grade.\n",
    "\n",
    "We will evaluate the delivarable you submit. Out of 40 marks:\n",
    "\n",
    "1. Project report: 15 marks (1 for writing, 1 for visualization, 1 for clearness in the report, 5 for suitability of the target data model, 7 for depth and extension of the project)\n",
    "2. Project diary: 5 marks (2 for detail, 2 for presentation, and 1 for rigorous keeping)\n",
    "3. Presentation material: no marks (presentation are evaluated separetely)\n",
    "4. Code Notebooks: 15 marks (10 for code quality and skills, 5 for documentation quality)\n",
    "5. Final Data and Documentation: 5 marks (2 for the data availability, 3 for the quality of documentation)\n",
    "\n",
    "Bonus points may be given for use of github or other special efforts.\n",
    "\n",
    "**Data 422 students**: notice that some Julia code is required if you want to get the full marks for the code notebooks and the depth and extension of the project. Try to identify a task that you can do with Julia. You don't need to repeat/replicate something you have done in R: it is probably the best to do something different in Julia, so you don't waste energy in a redundant job.\n",
    "\n",
    "**Late submissions** are strongly discouraged.\n",
    "You have more than month of time to get your project together, if you find yourself short in time for very serious problems let me know and we'll find a solution. A good idea is to work on incremental improvement, starting from a rough project and getting it better and better, so that whenever you stop you have something ready to be submit.\n",
    "Otherwise, if not agreed differently between us (Giulio and Thomas) and you, the standard departmental late submission policy will be applied."
   ]
  },
  {
   "cell_type": "markdown",
   "metadata": {},
   "source": [
    "## Final note\n",
    "\n",
    "\n",
    "**This document may be updated during the month of the group project in order to provide more detailed information, if and where needed**"
   ]
  },
  {
   "cell_type": "code",
   "execution_count": 2,
   "metadata": {},
   "outputs": [
    {
     "name": "stderr",
     "output_type": "stream",
     "text": [
      "── \u001b[1mAttaching packages\u001b[22m ─────────────────────────────────────────────────────────────────────────────── tidyverse 1.3.2 ──\n",
      "\u001b[32m✔\u001b[39m \u001b[34mggplot2\u001b[39m 3.3.6     \u001b[32m✔\u001b[39m \u001b[34mpurrr  \u001b[39m 0.3.4\n",
      "\u001b[32m✔\u001b[39m \u001b[34mtibble \u001b[39m 3.1.7     \u001b[32m✔\u001b[39m \u001b[34mdplyr  \u001b[39m 1.0.9\n",
      "\u001b[32m✔\u001b[39m \u001b[34mtidyr  \u001b[39m 1.2.0     \u001b[32m✔\u001b[39m \u001b[34mstringr\u001b[39m 1.4.0\n",
      "\u001b[32m✔\u001b[39m \u001b[34mreadr  \u001b[39m 2.1.2     \u001b[32m✔\u001b[39m \u001b[34mforcats\u001b[39m 0.5.1\n",
      "── \u001b[1mConflicts\u001b[22m ────────────────────────────────────────────────────────────────────────────────── tidyverse_conflicts() ──\n",
      "\u001b[31m✖\u001b[39m \u001b[34mdplyr\u001b[39m::\u001b[32mfilter()\u001b[39m masks \u001b[34mstats\u001b[39m::filter()\n",
      "\u001b[31m✖\u001b[39m \u001b[34mdplyr\u001b[39m::\u001b[32mlag()\u001b[39m    masks \u001b[34mstats\u001b[39m::lag()\n",
      "\n",
      "Attaching package: 'rvest'\n",
      "\n",
      "\n",
      "The following object is masked from 'package:readr':\n",
      "\n",
      "    guess_encoding\n",
      "\n",
      "\n"
     ]
    }
   ],
   "source": [
    "library(tidyverse)\n",
    "#this section is just gettign all of the liabarys that are needed \n",
    "library(rvest) # this is installing the requried library\n",
    "library(polite) # this library is jsut a better version of the rvest library \n",
    "library(xml2) # makes it easier to work with HTML and XML from R"
   ]
  },
  {
   "cell_type": "code",
   "execution_count": 3,
   "metadata": {},
   "outputs": [],
   "source": [
    "url <- \"https://neatplaces.co.nz/places/christchurch-canterbury/eat-drink?category=cafes\" # this is the base url from where the scraping starts\n",
    "page <- read_html(url)"
   ]
  },
  {
   "cell_type": "code",
   "execution_count": 4,
   "metadata": {},
   "outputs": [
    {
     "data": {
      "text/html": [
       "'list'"
      ],
      "text/latex": [
       "'list'"
      ],
      "text/markdown": [
       "'list'"
      ],
      "text/plain": [
       "[1] \"list\""
      ]
     },
     "metadata": {},
     "output_type": "display_data"
    },
    {
     "name": "stdout",
     "output_type": "stream",
     "text": [
      "List of 2\n",
      " $ node:<externalptr> \n",
      " $ doc :<externalptr> \n",
      " - attr(*, \"class\")= chr [1:2] \"xml_document\" \"xml_node\"\n"
     ]
    }
   ],
   "source": [
    "page %>% typeof()\n",
    "page %>% glimpse()"
   ]
  },
  {
   "cell_type": "code",
   "execution_count": 5,
   "metadata": {},
   "outputs": [
    {
     "data": {
      "text/html": [
       "<style>\n",
       ".list-inline {list-style: none; margin:0; padding: 0}\n",
       ".list-inline>li {display: inline-block}\n",
       ".list-inline>li:not(:last-child)::after {content: \"\\00b7\"; padding: 0 .5ex}\n",
       "</style>\n",
       "<ol class=list-inline><li>'Downstairs Bar'</li><li>'Pretty Good Pizza'</li><li>'Black Burger'</li><li>'Three Donkeys'</li><li>'Child Sister'</li><li>'Tom\\'s'</li><li>'Sumner Social'</li><li>'Bonobo Café'</li><li>'Pilgrim'</li><li>'The Old Vicarage'</li><li>'General Post'</li><li>'Tussock Hill Vineyard'</li><li>'Seven'</li><li>'Truffle Café'</li><li>'Paddy McNaughton\\'s'</li><li>'The Mediterranean Food Company'</li><li>'Empire Chicken'</li><li>'Bellbird Bakery'</li><li>'Addington Coffee Co-op'</li><li>'Story'</li><li>'Austin Club'</li><li>'Six Ounces'</li><li>'Kung Fu Dumplings'</li><li>'The Great Pastry Shop'</li><li>'Mona Vale Homestead &amp; Pantry'</li><li>'Soul Quarter'</li><li>'Niche Coffee + Eatery'</li><li>'Pizza Trap'</li><li>'Tramway Restaurant'</li><li>'Native Café'</li><li>'South Town Club'</li><li>'Otahuna Lodge'</li><li>'Arbour Woodfire Pizza'</li><li>'Pink Lady'</li><li>'Dice and Slice'</li><li>'The Spirits Workshop'</li><li>'Saturdays'</li><li>'Brew Academy'</li><li>'Grizzly Baked Goods CBD'</li><li>'Bottle &amp; Stone'</li><li>'Gatherings'</li><li>'El Quincho'</li><li>'Riccarton Noodle House'</li><li>'The Last Word'</li><li>'Georges Road Wines'</li><li>'Greystone Wines'</li><li>'Fire and Slice Woodfired Pizza'</li><li>'Barefoot Eatery'</li><li>'12 Bar'</li><li>'Riverside Kitchen'</li><li>'Little River Café and Store'</li><li>'Midnight Shanghai'</li><li>'Rollickin\\' Gelato Cashel Street'</li><li>'Posh Porridge'</li><li>'Cellar Door'</li><li>'Ally &amp; Sid'</li><li>'Foundation Café'</li><li>'Moon Under Water'</li><li>'Gelato &amp; Tea'</li><li>'Three Boys Brewery'</li><li>'Ramen Ria'</li><li>'Canterbury Brewers\\' Collective'</li><li>'Bohemian Bakery Central City'</li><li>'Utopia Ice Central City'</li><li>'The Welder'</li><li>'Riverside Market'</li><li>'Sweet Soul Patisserie'</li><li>'Gelato Lab'</li><li>'Grain Coffee'</li><li>'Evil Genius Bar &amp; Eatery'</li><li>'J\\'aime les Macarons'</li><li>'gin gin'</li><li>'Old School Collective'</li><li>'Grater Goods'</li><li>'The Burger Joint'</li><li>'Westend Stories'</li><li>'Miss Peppercorn'</li><li>'Switch New Brighton'</li><li>'Prima Roastery'</li><li>'Earl'</li><li>'Dux Central'</li><li>'Dux Dine'</li><li>'Grizzly Baked Goods'</li><li>'Ilex Café'</li><li>'50 Bistro'</li><li>'Smokey T\\'s'</li><li>'Little Poms'</li><li>'The Birdwood'</li><li>'The Arts Centre'</li><li>'BOXed Quarter'</li><li>'5th Street'</li><li>'Francesca\\'s Italian Kitchen Christchurch'</li><li>'Barrys Bay Cheese'</li><li>'The Craft Embassy'</li><li>'Miro'</li><li>'Little Vintage Espresso'</li><li>'Pegasus Bay'</li><li>'SUPER'</li><li>'Terrace Edge Wines'</li><li>'OGB'</li><li>'Rona\\'s'</li><li>'Akaroa Butchery'</li><li>'Utopia Ice Sumner'</li><li>'Bessie'</li><li>'Allpress Espresso'</li><li>'Sun Dog Diner'</li><li>'Punky Brewster'</li><li>'Black Estate'</li><li>'Dispense Espresso'</li><li>'Civil and Naval'</li><li>'The Origin'</li><li>'The Monday Room'</li><li>'Smash Palace'</li><li>'Lyttelton Coffee Company'</li><li>'Cultivate Christchurch'</li><li>'Chillingworth Road'</li><li>'Unknown Chapter'</li><li>'Park Ranger'</li><li>'The Laboratory'</li><li>'Bohemian Bakery Sumner'</li><li>'Fiddlesticks'</li><li>'Coffee Embassy'</li><li>'Herba Gourmet'</li><li>'The Tannery'</li><li>'Tomi Japanese Restaurant'</li><li>'Dose Diner'</li><li>'Rollickin\\' Gelato'</li><li>'Twenty Seven Steps'</li><li>'The Little High Eatery'</li><li>'Boo\\'s'</li><li>'Harbour Co-Op'</li><li>'Peninsula General Store'</li><li>'Ōtoromiro Hotel'</li><li>'Inati'</li></ol>\n"
      ],
      "text/latex": [
       "\\begin{enumerate*}\n",
       "\\item 'Downstairs Bar'\n",
       "\\item 'Pretty Good Pizza'\n",
       "\\item 'Black Burger'\n",
       "\\item 'Three Donkeys'\n",
       "\\item 'Child Sister'\n",
       "\\item 'Tom\\textbackslash{}'s'\n",
       "\\item 'Sumner Social'\n",
       "\\item 'Bonobo Café'\n",
       "\\item 'Pilgrim'\n",
       "\\item 'The Old Vicarage'\n",
       "\\item 'General Post'\n",
       "\\item 'Tussock Hill Vineyard'\n",
       "\\item 'Seven'\n",
       "\\item 'Truffle Café'\n",
       "\\item 'Paddy McNaughton\\textbackslash{}'s'\n",
       "\\item 'The Mediterranean Food Company'\n",
       "\\item 'Empire Chicken'\n",
       "\\item 'Bellbird Bakery'\n",
       "\\item 'Addington Coffee Co-op'\n",
       "\\item 'Story'\n",
       "\\item 'Austin Club'\n",
       "\\item 'Six Ounces'\n",
       "\\item 'Kung Fu Dumplings'\n",
       "\\item 'The Great Pastry Shop'\n",
       "\\item 'Mona Vale Homestead \\& Pantry'\n",
       "\\item 'Soul Quarter'\n",
       "\\item 'Niche Coffee + Eatery'\n",
       "\\item 'Pizza Trap'\n",
       "\\item 'Tramway Restaurant'\n",
       "\\item 'Native Café'\n",
       "\\item 'South Town Club'\n",
       "\\item 'Otahuna Lodge'\n",
       "\\item 'Arbour Woodfire Pizza'\n",
       "\\item 'Pink Lady'\n",
       "\\item 'Dice and Slice'\n",
       "\\item 'The Spirits Workshop'\n",
       "\\item 'Saturdays'\n",
       "\\item 'Brew Academy'\n",
       "\\item 'Grizzly Baked Goods CBD'\n",
       "\\item 'Bottle \\& Stone'\n",
       "\\item 'Gatherings'\n",
       "\\item 'El Quincho'\n",
       "\\item 'Riccarton Noodle House'\n",
       "\\item 'The Last Word'\n",
       "\\item 'Georges Road Wines'\n",
       "\\item 'Greystone Wines'\n",
       "\\item 'Fire and Slice Woodfired Pizza'\n",
       "\\item 'Barefoot Eatery'\n",
       "\\item '12 Bar'\n",
       "\\item 'Riverside Kitchen'\n",
       "\\item 'Little River Café and Store'\n",
       "\\item 'Midnight Shanghai'\n",
       "\\item 'Rollickin\\textbackslash{}' Gelato Cashel Street'\n",
       "\\item 'Posh Porridge'\n",
       "\\item 'Cellar Door'\n",
       "\\item 'Ally \\& Sid'\n",
       "\\item 'Foundation Café'\n",
       "\\item 'Moon Under Water'\n",
       "\\item 'Gelato \\& Tea'\n",
       "\\item 'Three Boys Brewery'\n",
       "\\item 'Ramen Ria'\n",
       "\\item 'Canterbury Brewers\\textbackslash{}' Collective'\n",
       "\\item 'Bohemian Bakery Central City'\n",
       "\\item 'Utopia Ice Central City'\n",
       "\\item 'The Welder'\n",
       "\\item 'Riverside Market'\n",
       "\\item 'Sweet Soul Patisserie'\n",
       "\\item 'Gelato Lab'\n",
       "\\item 'Grain Coffee'\n",
       "\\item 'Evil Genius Bar \\& Eatery'\n",
       "\\item 'J\\textbackslash{}'aime les Macarons'\n",
       "\\item 'gin gin'\n",
       "\\item 'Old School Collective'\n",
       "\\item 'Grater Goods'\n",
       "\\item 'The Burger Joint'\n",
       "\\item 'Westend Stories'\n",
       "\\item 'Miss Peppercorn'\n",
       "\\item 'Switch New Brighton'\n",
       "\\item 'Prima Roastery'\n",
       "\\item 'Earl'\n",
       "\\item 'Dux Central'\n",
       "\\item 'Dux Dine'\n",
       "\\item 'Grizzly Baked Goods'\n",
       "\\item 'Ilex Café'\n",
       "\\item '50 Bistro'\n",
       "\\item 'Smokey T\\textbackslash{}'s'\n",
       "\\item 'Little Poms'\n",
       "\\item 'The Birdwood'\n",
       "\\item 'The Arts Centre'\n",
       "\\item 'BOXed Quarter'\n",
       "\\item '5th Street'\n",
       "\\item 'Francesca\\textbackslash{}'s Italian Kitchen Christchurch'\n",
       "\\item 'Barrys Bay Cheese'\n",
       "\\item 'The Craft Embassy'\n",
       "\\item 'Miro'\n",
       "\\item 'Little Vintage Espresso'\n",
       "\\item 'Pegasus Bay'\n",
       "\\item 'SUPER'\n",
       "\\item 'Terrace Edge Wines'\n",
       "\\item 'OGB'\n",
       "\\item 'Rona\\textbackslash{}'s'\n",
       "\\item 'Akaroa Butchery'\n",
       "\\item 'Utopia Ice Sumner'\n",
       "\\item 'Bessie'\n",
       "\\item 'Allpress Espresso'\n",
       "\\item 'Sun Dog Diner'\n",
       "\\item 'Punky Brewster'\n",
       "\\item 'Black Estate'\n",
       "\\item 'Dispense Espresso'\n",
       "\\item 'Civil and Naval'\n",
       "\\item 'The Origin'\n",
       "\\item 'The Monday Room'\n",
       "\\item 'Smash Palace'\n",
       "\\item 'Lyttelton Coffee Company'\n",
       "\\item 'Cultivate Christchurch'\n",
       "\\item 'Chillingworth Road'\n",
       "\\item 'Unknown Chapter'\n",
       "\\item 'Park Ranger'\n",
       "\\item 'The Laboratory'\n",
       "\\item 'Bohemian Bakery Sumner'\n",
       "\\item 'Fiddlesticks'\n",
       "\\item 'Coffee Embassy'\n",
       "\\item 'Herba Gourmet'\n",
       "\\item 'The Tannery'\n",
       "\\item 'Tomi Japanese Restaurant'\n",
       "\\item 'Dose Diner'\n",
       "\\item 'Rollickin\\textbackslash{}' Gelato'\n",
       "\\item 'Twenty Seven Steps'\n",
       "\\item 'The Little High Eatery'\n",
       "\\item 'Boo\\textbackslash{}'s'\n",
       "\\item 'Harbour Co-Op'\n",
       "\\item 'Peninsula General Store'\n",
       "\\item 'Ōtoromiro Hotel'\n",
       "\\item 'Inati'\n",
       "\\end{enumerate*}\n"
      ],
      "text/markdown": [
       "1. 'Downstairs Bar'\n",
       "2. 'Pretty Good Pizza'\n",
       "3. 'Black Burger'\n",
       "4. 'Three Donkeys'\n",
       "5. 'Child Sister'\n",
       "6. 'Tom\\'s'\n",
       "7. 'Sumner Social'\n",
       "8. 'Bonobo Café'\n",
       "9. 'Pilgrim'\n",
       "10. 'The Old Vicarage'\n",
       "11. 'General Post'\n",
       "12. 'Tussock Hill Vineyard'\n",
       "13. 'Seven'\n",
       "14. 'Truffle Café'\n",
       "15. 'Paddy McNaughton\\'s'\n",
       "16. 'The Mediterranean Food Company'\n",
       "17. 'Empire Chicken'\n",
       "18. 'Bellbird Bakery'\n",
       "19. 'Addington Coffee Co-op'\n",
       "20. 'Story'\n",
       "21. 'Austin Club'\n",
       "22. 'Six Ounces'\n",
       "23. 'Kung Fu Dumplings'\n",
       "24. 'The Great Pastry Shop'\n",
       "25. 'Mona Vale Homestead &amp; Pantry'\n",
       "26. 'Soul Quarter'\n",
       "27. 'Niche Coffee + Eatery'\n",
       "28. 'Pizza Trap'\n",
       "29. 'Tramway Restaurant'\n",
       "30. 'Native Café'\n",
       "31. 'South Town Club'\n",
       "32. 'Otahuna Lodge'\n",
       "33. 'Arbour Woodfire Pizza'\n",
       "34. 'Pink Lady'\n",
       "35. 'Dice and Slice'\n",
       "36. 'The Spirits Workshop'\n",
       "37. 'Saturdays'\n",
       "38. 'Brew Academy'\n",
       "39. 'Grizzly Baked Goods CBD'\n",
       "40. 'Bottle &amp; Stone'\n",
       "41. 'Gatherings'\n",
       "42. 'El Quincho'\n",
       "43. 'Riccarton Noodle House'\n",
       "44. 'The Last Word'\n",
       "45. 'Georges Road Wines'\n",
       "46. 'Greystone Wines'\n",
       "47. 'Fire and Slice Woodfired Pizza'\n",
       "48. 'Barefoot Eatery'\n",
       "49. '12 Bar'\n",
       "50. 'Riverside Kitchen'\n",
       "51. 'Little River Café and Store'\n",
       "52. 'Midnight Shanghai'\n",
       "53. 'Rollickin\\' Gelato Cashel Street'\n",
       "54. 'Posh Porridge'\n",
       "55. 'Cellar Door'\n",
       "56. 'Ally &amp; Sid'\n",
       "57. 'Foundation Café'\n",
       "58. 'Moon Under Water'\n",
       "59. 'Gelato &amp; Tea'\n",
       "60. 'Three Boys Brewery'\n",
       "61. 'Ramen Ria'\n",
       "62. 'Canterbury Brewers\\' Collective'\n",
       "63. 'Bohemian Bakery Central City'\n",
       "64. 'Utopia Ice Central City'\n",
       "65. 'The Welder'\n",
       "66. 'Riverside Market'\n",
       "67. 'Sweet Soul Patisserie'\n",
       "68. 'Gelato Lab'\n",
       "69. 'Grain Coffee'\n",
       "70. 'Evil Genius Bar &amp; Eatery'\n",
       "71. 'J\\'aime les Macarons'\n",
       "72. 'gin gin'\n",
       "73. 'Old School Collective'\n",
       "74. 'Grater Goods'\n",
       "75. 'The Burger Joint'\n",
       "76. 'Westend Stories'\n",
       "77. 'Miss Peppercorn'\n",
       "78. 'Switch New Brighton'\n",
       "79. 'Prima Roastery'\n",
       "80. 'Earl'\n",
       "81. 'Dux Central'\n",
       "82. 'Dux Dine'\n",
       "83. 'Grizzly Baked Goods'\n",
       "84. 'Ilex Café'\n",
       "85. '50 Bistro'\n",
       "86. 'Smokey T\\'s'\n",
       "87. 'Little Poms'\n",
       "88. 'The Birdwood'\n",
       "89. 'The Arts Centre'\n",
       "90. 'BOXed Quarter'\n",
       "91. '5th Street'\n",
       "92. 'Francesca\\'s Italian Kitchen Christchurch'\n",
       "93. 'Barrys Bay Cheese'\n",
       "94. 'The Craft Embassy'\n",
       "95. 'Miro'\n",
       "96. 'Little Vintage Espresso'\n",
       "97. 'Pegasus Bay'\n",
       "98. 'SUPER'\n",
       "99. 'Terrace Edge Wines'\n",
       "100. 'OGB'\n",
       "101. 'Rona\\'s'\n",
       "102. 'Akaroa Butchery'\n",
       "103. 'Utopia Ice Sumner'\n",
       "104. 'Bessie'\n",
       "105. 'Allpress Espresso'\n",
       "106. 'Sun Dog Diner'\n",
       "107. 'Punky Brewster'\n",
       "108. 'Black Estate'\n",
       "109. 'Dispense Espresso'\n",
       "110. 'Civil and Naval'\n",
       "111. 'The Origin'\n",
       "112. 'The Monday Room'\n",
       "113. 'Smash Palace'\n",
       "114. 'Lyttelton Coffee Company'\n",
       "115. 'Cultivate Christchurch'\n",
       "116. 'Chillingworth Road'\n",
       "117. 'Unknown Chapter'\n",
       "118. 'Park Ranger'\n",
       "119. 'The Laboratory'\n",
       "120. 'Bohemian Bakery Sumner'\n",
       "121. 'Fiddlesticks'\n",
       "122. 'Coffee Embassy'\n",
       "123. 'Herba Gourmet'\n",
       "124. 'The Tannery'\n",
       "125. 'Tomi Japanese Restaurant'\n",
       "126. 'Dose Diner'\n",
       "127. 'Rollickin\\' Gelato'\n",
       "128. 'Twenty Seven Steps'\n",
       "129. 'The Little High Eatery'\n",
       "130. 'Boo\\'s'\n",
       "131. 'Harbour Co-Op'\n",
       "132. 'Peninsula General Store'\n",
       "133. 'Ōtoromiro Hotel'\n",
       "134. 'Inati'\n",
       "\n",
       "\n"
      ],
      "text/plain": [
       "  [1] \"Downstairs Bar\"                          \n",
       "  [2] \"Pretty Good Pizza\"                       \n",
       "  [3] \"Black Burger\"                            \n",
       "  [4] \"Three Donkeys\"                           \n",
       "  [5] \"Child Sister\"                            \n",
       "  [6] \"Tom's\"                                   \n",
       "  [7] \"Sumner Social\"                           \n",
       "  [8] \"Bonobo Café\"                             \n",
       "  [9] \"Pilgrim\"                                 \n",
       " [10] \"The Old Vicarage\"                        \n",
       " [11] \"General Post\"                            \n",
       " [12] \"Tussock Hill Vineyard\"                   \n",
       " [13] \"Seven\"                                   \n",
       " [14] \"Truffle Café\"                            \n",
       " [15] \"Paddy McNaughton's\"                      \n",
       " [16] \"The Mediterranean Food Company\"          \n",
       " [17] \"Empire Chicken\"                          \n",
       " [18] \"Bellbird Bakery\"                         \n",
       " [19] \"Addington Coffee Co-op\"                  \n",
       " [20] \"Story\"                                   \n",
       " [21] \"Austin Club\"                             \n",
       " [22] \"Six Ounces\"                              \n",
       " [23] \"Kung Fu Dumplings\"                       \n",
       " [24] \"The Great Pastry Shop\"                   \n",
       " [25] \"Mona Vale Homestead & Pantry\"            \n",
       " [26] \"Soul Quarter\"                            \n",
       " [27] \"Niche Coffee + Eatery\"                   \n",
       " [28] \"Pizza Trap\"                              \n",
       " [29] \"Tramway Restaurant\"                      \n",
       " [30] \"Native Café\"                             \n",
       " [31] \"South Town Club\"                         \n",
       " [32] \"Otahuna Lodge\"                           \n",
       " [33] \"Arbour Woodfire Pizza\"                   \n",
       " [34] \"Pink Lady\"                               \n",
       " [35] \"Dice and Slice\"                          \n",
       " [36] \"The Spirits Workshop\"                    \n",
       " [37] \"Saturdays\"                               \n",
       " [38] \"Brew Academy\"                            \n",
       " [39] \"Grizzly Baked Goods CBD\"                 \n",
       " [40] \"Bottle & Stone\"                          \n",
       " [41] \"Gatherings\"                              \n",
       " [42] \"El Quincho\"                              \n",
       " [43] \"Riccarton Noodle House\"                  \n",
       " [44] \"The Last Word\"                           \n",
       " [45] \"Georges Road Wines\"                      \n",
       " [46] \"Greystone Wines\"                         \n",
       " [47] \"Fire and Slice Woodfired Pizza\"          \n",
       " [48] \"Barefoot Eatery\"                         \n",
       " [49] \"12 Bar\"                                  \n",
       " [50] \"Riverside Kitchen\"                       \n",
       " [51] \"Little River Café and Store\"             \n",
       " [52] \"Midnight Shanghai\"                       \n",
       " [53] \"Rollickin' Gelato Cashel Street\"         \n",
       " [54] \"Posh Porridge\"                           \n",
       " [55] \"Cellar Door\"                             \n",
       " [56] \"Ally & Sid\"                              \n",
       " [57] \"Foundation Café\"                         \n",
       " [58] \"Moon Under Water\"                        \n",
       " [59] \"Gelato & Tea\"                            \n",
       " [60] \"Three Boys Brewery\"                      \n",
       " [61] \"Ramen Ria\"                               \n",
       " [62] \"Canterbury Brewers' Collective\"          \n",
       " [63] \"Bohemian Bakery Central City\"            \n",
       " [64] \"Utopia Ice Central City\"                 \n",
       " [65] \"The Welder\"                              \n",
       " [66] \"Riverside Market\"                        \n",
       " [67] \"Sweet Soul Patisserie\"                   \n",
       " [68] \"Gelato Lab\"                              \n",
       " [69] \"Grain Coffee\"                            \n",
       " [70] \"Evil Genius Bar & Eatery\"                \n",
       " [71] \"J'aime les Macarons\"                     \n",
       " [72] \"gin gin\"                                 \n",
       " [73] \"Old School Collective\"                   \n",
       " [74] \"Grater Goods\"                            \n",
       " [75] \"The Burger Joint\"                        \n",
       " [76] \"Westend Stories\"                         \n",
       " [77] \"Miss Peppercorn\"                         \n",
       " [78] \"Switch New Brighton\"                     \n",
       " [79] \"Prima Roastery\"                          \n",
       " [80] \"Earl\"                                    \n",
       " [81] \"Dux Central\"                             \n",
       " [82] \"Dux Dine\"                                \n",
       " [83] \"Grizzly Baked Goods\"                     \n",
       " [84] \"Ilex Café\"                               \n",
       " [85] \"50 Bistro\"                               \n",
       " [86] \"Smokey T's\"                              \n",
       " [87] \"Little Poms\"                             \n",
       " [88] \"The Birdwood\"                            \n",
       " [89] \"The Arts Centre\"                         \n",
       " [90] \"BOXed Quarter\"                           \n",
       " [91] \"5th Street\"                              \n",
       " [92] \"Francesca's Italian Kitchen Christchurch\"\n",
       " [93] \"Barrys Bay Cheese\"                       \n",
       " [94] \"The Craft Embassy\"                       \n",
       " [95] \"Miro\"                                    \n",
       " [96] \"Little Vintage Espresso\"                 \n",
       " [97] \"Pegasus Bay\"                             \n",
       " [98] \"SUPER\"                                   \n",
       " [99] \"Terrace Edge Wines\"                      \n",
       "[100] \"OGB\"                                     \n",
       "[101] \"Rona's\"                                  \n",
       "[102] \"Akaroa Butchery\"                         \n",
       "[103] \"Utopia Ice Sumner\"                       \n",
       "[104] \"Bessie\"                                  \n",
       "[105] \"Allpress Espresso\"                       \n",
       "[106] \"Sun Dog Diner\"                           \n",
       "[107] \"Punky Brewster\"                          \n",
       "[108] \"Black Estate\"                            \n",
       "[109] \"Dispense Espresso\"                       \n",
       "[110] \"Civil and Naval\"                         \n",
       "[111] \"The Origin\"                              \n",
       "[112] \"The Monday Room\"                         \n",
       "[113] \"Smash Palace\"                            \n",
       "[114] \"Lyttelton Coffee Company\"                \n",
       "[115] \"Cultivate Christchurch\"                  \n",
       "[116] \"Chillingworth Road\"                      \n",
       "[117] \"Unknown Chapter\"                         \n",
       "[118] \"Park Ranger\"                             \n",
       "[119] \"The Laboratory\"                          \n",
       "[120] \"Bohemian Bakery Sumner\"                  \n",
       "[121] \"Fiddlesticks\"                            \n",
       "[122] \"Coffee Embassy\"                          \n",
       "[123] \"Herba Gourmet\"                           \n",
       "[124] \"The Tannery\"                             \n",
       "[125] \"Tomi Japanese Restaurant\"                \n",
       "[126] \"Dose Diner\"                              \n",
       "[127] \"Rollickin' Gelato\"                       \n",
       "[128] \"Twenty Seven Steps\"                      \n",
       "[129] \"The Little High Eatery\"                  \n",
       "[130] \"Boo's\"                                   \n",
       "[131] \"Harbour Co-Op\"                           \n",
       "[132] \"Peninsula General Store\"                 \n",
       "[133] \"Ōtoromiro Hotel\"                         \n",
       "[134] \"Inati\"                                   "
      ]
     },
     "metadata": {},
     "output_type": "display_data"
    }
   ],
   "source": [
    "names <- page %>%\n",
    "  html_nodes(\".list-item-title p\") %>%\n",
    "  html_text()\n",
    "\n",
    "names"
   ]
  },
  {
   "cell_type": "code",
   "execution_count": 6,
   "metadata": {},
   "outputs": [
    {
     "data": {
      "text/html": [
       "<style>\n",
       ".list-inline {list-style: none; margin:0; padding: 0}\n",
       ".list-inline>li {display: inline-block}\n",
       ".list-inline>li:not(:last-child)::after {content: \"\\00b7\"; padding: 0 .5ex}\n",
       "</style>\n",
       "<ol class=list-inline><li>'\\nWhat do you get when you marry the cosy vibes of an intimate pub with the sophistication of an inner city wine bar? You end up with the best of both worlds and the result is Downstairs on New Regent Street.\\n'</li><li>'\\nPicture this… an old-school cozy Italian pizza restaurant, but make it modern and set it in Christchurch\\'s Riverside Market.\\n'</li><li>'\\nFound in the heart of the hustle and bustle of Christchurch\\'s Riverside Market, is the small but perfectly primed kitchen that Black Burger calls home.\\n'</li><li>'\\nLocated in the heart of New Brighton, Three Donkeys is a small restaurant focused on an authentic yet elegantly modern take on Indian and Japanese cuisine.\\n'</li><li>'\\nSeeking a calm environment with aesthetically-pleasing interior decor, complete with incredible coffee and delicious food to match? Then look no further, Child Sister has...\\n'</li><li>'\\nIf you are a sando aficionado and find yourself in the South Town area of Christchurch city centre, keep an eye out for the striking cobalt blue hue of Tom’s.\\n'</li></ol>\n"
      ],
      "text/latex": [
       "\\begin{enumerate*}\n",
       "\\item '\\textbackslash{}nWhat do you get when you marry the cosy vibes of an intimate pub with the sophistication of an inner city wine bar? You end up with the best of both worlds and the result is Downstairs on New Regent Street.\\textbackslash{}n'\n",
       "\\item '\\textbackslash{}nPicture this… an old-school cozy Italian pizza restaurant, but make it modern and set it in Christchurch\\textbackslash{}'s Riverside Market.\\textbackslash{}n'\n",
       "\\item '\\textbackslash{}nFound in the heart of the hustle and bustle of Christchurch\\textbackslash{}'s Riverside Market, is the small but perfectly primed kitchen that Black Burger calls home.\\textbackslash{}n'\n",
       "\\item '\\textbackslash{}nLocated in the heart of New Brighton, Three Donkeys is a small restaurant focused on an authentic yet elegantly modern take on Indian and Japanese cuisine.\\textbackslash{}n'\n",
       "\\item '\\textbackslash{}nSeeking a calm environment with aesthetically-pleasing interior decor, complete with incredible coffee and delicious food to match? Then look no further, Child Sister has...\\textbackslash{}n'\n",
       "\\item '\\textbackslash{}nIf you are a sando aficionado and find yourself in the South Town area of Christchurch city centre, keep an eye out for the striking cobalt blue hue of Tom’s.\\textbackslash{}n'\n",
       "\\end{enumerate*}\n"
      ],
      "text/markdown": [
       "1. '\\nWhat do you get when you marry the cosy vibes of an intimate pub with the sophistication of an inner city wine bar? You end up with the best of both worlds and the result is Downstairs on New Regent Street.\\n'\n",
       "2. '\\nPicture this… an old-school cozy Italian pizza restaurant, but make it modern and set it in Christchurch\\'s Riverside Market.\\n'\n",
       "3. '\\nFound in the heart of the hustle and bustle of Christchurch\\'s Riverside Market, is the small but perfectly primed kitchen that Black Burger calls home.\\n'\n",
       "4. '\\nLocated in the heart of New Brighton, Three Donkeys is a small restaurant focused on an authentic yet elegantly modern take on Indian and Japanese cuisine.\\n'\n",
       "5. '\\nSeeking a calm environment with aesthetically-pleasing interior decor, complete with incredible coffee and delicious food to match? Then look no further, Child Sister has...\\n'\n",
       "6. '\\nIf you are a sando aficionado and find yourself in the South Town area of Christchurch city centre, keep an eye out for the striking cobalt blue hue of Tom’s.\\n'\n",
       "\n",
       "\n"
      ],
      "text/plain": [
       "[1] \"\\nWhat do you get when you marry the cosy vibes of an intimate pub with the sophistication of an inner city wine bar? You end up with the best of both worlds and the result is Downstairs on New Regent Street.\\n\"\n",
       "[2] \"\\nPicture this… an old-school cozy Italian pizza restaurant, but make it modern and set it in Christchurch's Riverside Market.\\n\"                                                                                  \n",
       "[3] \"\\nFound in the heart of the hustle and bustle of Christchurch's Riverside Market, is the small but perfectly primed kitchen that Black Burger calls home.\\n\"                                                       \n",
       "[4] \"\\nLocated in the heart of New Brighton, Three Donkeys is a small restaurant focused on an authentic yet elegantly modern take on Indian and Japanese cuisine.\\n\"                                                   \n",
       "[5] \"\\nSeeking a calm environment with aesthetically-pleasing interior decor, complete with incredible coffee and delicious food to match? Then look no further, Child Sister has...\\n\"                                 \n",
       "[6] \"\\nIf you are a sando aficionado and find yourself in the South Town area of Christchurch city centre, keep an eye out for the striking cobalt blue hue of Tom’s.\\n\"                                                "
      ]
     },
     "metadata": {},
     "output_type": "display_data"
    }
   ],
   "source": [
    "summary <- page %>%\n",
    "  html_nodes(\".summary\") %>%\n",
    "  html_text()\n",
    "summary %>%\n",
    " head()"
   ]
  },
  {
   "cell_type": "code",
   "execution_count": 8,
   "metadata": {},
   "outputs": [
    {
     "data": {
      "text/html": [
       "<table class=\"dataframe\">\n",
       "<caption>A tibble: 6 × 2</caption>\n",
       "<thead>\n",
       "\t<tr><th scope=col>cafe_name</th><th scope=col>link</th></tr>\n",
       "\t<tr><th scope=col>&lt;chr&gt;</th><th scope=col>&lt;chr&gt;</th></tr>\n",
       "</thead>\n",
       "<tbody>\n",
       "\t<tr><td>\n",
       "Downstairs Bar\n",
       "   </td><td>/places/christchurch-canterbury/eat-drink/downstairs-bar   </td></tr>\n",
       "\t<tr><td>\n",
       "Pretty Good Pizza\n",
       "</td><td>/places/christchurch-canterbury/eat-drink/pretty-good-pizza</td></tr>\n",
       "\t<tr><td>\n",
       "Black Burger\n",
       "     </td><td>/places/christchurch-canterbury/eat-drink/black-burger     </td></tr>\n",
       "\t<tr><td>\n",
       "Three Donkeys\n",
       "    </td><td>/places/christchurch-canterbury/eat-drink/three-donkeys    </td></tr>\n",
       "\t<tr><td>\n",
       "Child Sister\n",
       "     </td><td>/places/christchurch-canterbury/eat-drink/child-sister     </td></tr>\n",
       "\t<tr><td>\n",
       "Tom's\n",
       "            </td><td>/places/christchurch-canterbury/eat-drink/toms             </td></tr>\n",
       "</tbody>\n",
       "</table>\n"
      ],
      "text/latex": [
       "A tibble: 6 × 2\n",
       "\\begin{tabular}{ll}\n",
       " cafe\\_name & link\\\\\n",
       " <chr> & <chr>\\\\\n",
       "\\hline\n",
       "\t \n",
       "Downstairs Bar\n",
       "    & /places/christchurch-canterbury/eat-drink/downstairs-bar   \\\\\n",
       "\t \n",
       "Pretty Good Pizza\n",
       " & /places/christchurch-canterbury/eat-drink/pretty-good-pizza\\\\\n",
       "\t \n",
       "Black Burger\n",
       "      & /places/christchurch-canterbury/eat-drink/black-burger     \\\\\n",
       "\t \n",
       "Three Donkeys\n",
       "     & /places/christchurch-canterbury/eat-drink/three-donkeys    \\\\\n",
       "\t \n",
       "Child Sister\n",
       "      & /places/christchurch-canterbury/eat-drink/child-sister     \\\\\n",
       "\t \n",
       "Tom's\n",
       "             & /places/christchurch-canterbury/eat-drink/toms             \\\\\n",
       "\\end{tabular}\n"
      ],
      "text/markdown": [
       "\n",
       "A tibble: 6 × 2\n",
       "\n",
       "| cafe_name &lt;chr&gt; | link &lt;chr&gt; |\n",
       "|---|---|\n",
       "| \n",
       "Downstairs Bar\n",
       "    | /places/christchurch-canterbury/eat-drink/downstairs-bar    |\n",
       "| \n",
       "Pretty Good Pizza\n",
       " | /places/christchurch-canterbury/eat-drink/pretty-good-pizza |\n",
       "| \n",
       "Black Burger\n",
       "      | /places/christchurch-canterbury/eat-drink/black-burger      |\n",
       "| \n",
       "Three Donkeys\n",
       "     | /places/christchurch-canterbury/eat-drink/three-donkeys     |\n",
       "| \n",
       "Child Sister\n",
       "      | /places/christchurch-canterbury/eat-drink/child-sister      |\n",
       "| \n",
       "Tom's\n",
       "             | /places/christchurch-canterbury/eat-drink/toms              |\n",
       "\n"
      ],
      "text/plain": [
       "  cafe_name            \n",
       "1 \\nDownstairs Bar\\n   \n",
       "2 \\nPretty Good Pizza\\n\n",
       "3 \\nBlack Burger\\n     \n",
       "4 \\nThree Donkeys\\n    \n",
       "5 \\nChild Sister\\n     \n",
       "6 \\nTom's\\n            \n",
       "  link                                                       \n",
       "1 /places/christchurch-canterbury/eat-drink/downstairs-bar   \n",
       "2 /places/christchurch-canterbury/eat-drink/pretty-good-pizza\n",
       "3 /places/christchurch-canterbury/eat-drink/black-burger     \n",
       "4 /places/christchurch-canterbury/eat-drink/three-donkeys    \n",
       "5 /places/christchurch-canterbury/eat-drink/child-sister     \n",
       "6 /places/christchurch-canterbury/eat-drink/toms             "
      ]
     },
     "metadata": {},
     "output_type": "display_data"
    }
   ],
   "source": [
    "\n",
    "cafe_name <- page %>% \n",
    "   html_nodes(\".list-item-title\") %>% \n",
    "   html_text()\n",
    "\n",
    "link <- page %>% \n",
    "  html_nodes(\".list-item a\") %>% \n",
    "  html_attr('href')\n",
    "\n",
    "test <- tibble(cafe_name, link)\n",
    "\n",
    "test %>%\n",
    "   head()"
   ]
  },
  {
   "cell_type": "code",
   "execution_count": 33,
   "metadata": {},
   "outputs": [
    {
     "data": {
      "text/plain": [
       "{html_document}\n",
       "<html class=\"no-js not-initialised font-not-loaded \">\n",
       "[1] <head itemscope itemtype=\"https://schema.org/WebPage\">\\n<meta http-equiv= ...\n",
       "[2] <body class=\"directory-section  show-locales has-region has-locales categ ..."
      ]
     },
     "metadata": {},
     "output_type": "display_data"
    }
   ],
   "source": [
    "url %>%\n",
    " read_html()"
   ]
  },
  {
   "cell_type": "code",
   "execution_count": 34,
   "metadata": {},
   "outputs": [],
   "source": [
    "new_url = \"https://neatplaces.co.nz/places/christchurch-canterbury/eat-drink/child-sister\"\n",
    "test_page <- read_html(url)"
   ]
  },
  {
   "cell_type": "code",
   "execution_count": 35,
   "metadata": {},
   "outputs": [
    {
     "data": {
      "text/plain": [
       "{html_document}\n",
       "<html class=\"no-js not-initialised font-not-loaded \">\n",
       "[1] <head itemscope itemtype=\"https://schema.org/WebPage\">\\n<meta http-equiv= ...\n",
       "[2] <body class=\"directory-section phone-breadcrumbs hide-site-sections-phone ..."
      ]
     },
     "metadata": {},
     "output_type": "display_data"
    }
   ],
   "source": [
    "new_url %>%\n",
    " read_html()"
   ]
  },
  {
   "cell_type": "code",
   "execution_count": 74,
   "metadata": {},
   "outputs": [
    {
     "data": {
      "text/plain": [
       "{xml_nodeset (0)}"
      ]
     },
     "metadata": {},
     "output_type": "display_data"
    }
   ],
   "source": [
    "test_page %>% \n",
    "   html_nodes(\"scrollbalance-column p\") "
   ]
  },
  {
   "cell_type": "code",
   "execution_count": 12,
   "metadata": {},
   "outputs": [],
   "source": [
    "get_details <- function(link){\n",
    "  \n",
    "  lyrics_chunks <- glue(\"https://neatplaces.co.nz{link}#\") %>%\n",
    "   read_html() %>%\n",
    "   html_nodes(\"[class='address']\")\n",
    "    \n",
    "  details <- lyrics_chunks %>%\n",
    "   html_text() \n",
    "  \n",
    "  return(details)\n",
    "}"
   ]
  },
  {
   "cell_type": "code",
   "execution_count": 13,
   "metadata": {},
   "outputs": [
    {
     "ename": "ERROR",
     "evalue": "Error in glue(\"https://neatplaces.co.nz{link}#\"): could not find function \"glue\"\n",
     "output_type": "error",
     "traceback": [
      "Error in glue(\"https://neatplaces.co.nz{link}#\"): could not find function \"glue\"\nTraceback:\n",
      "1. test$Link[1] %>% get_details() %>% print()",
      "2. print(.)",
      "3. get_details(.)",
      "4. glue(\"https://neatplaces.co.nz{link}#\") %>% read_html() %>% html_nodes(\"[class='address']\")   # at line 3-5 of file <text>",
      "5. html_nodes(., \"[class='address']\")",
      "6. html_elements(...)",
      "7. read_html(.)"
     ]
    }
   ],
   "source": [
    "test$Link[1] %>%\n",
    "  get_details() %>%\n",
    "  print()"
   ]
  },
  {
   "cell_type": "code",
   "execution_count": null,
   "metadata": {},
   "outputs": [],
   "source": [
    "SLS_df <- tibble(Name = names,\n",
    "                     Summary = summary) \n",
    "SLS_df"
   ]
  },
  {
   "cell_type": "code",
   "execution_count": null,
   "metadata": {},
   "outputs": [],
   "source": []
  }
 ],
 "metadata": {
  "kernelspec": {
   "display_name": "R",
   "language": "R",
   "name": "ir"
  },
  "language_info": {
   "codemirror_mode": "r",
   "file_extension": ".r",
   "mimetype": "text/x-r-source",
   "name": "R",
   "pygments_lexer": "r",
   "version": "4.2.1"
  }
 },
 "nbformat": 4,
 "nbformat_minor": 4
}

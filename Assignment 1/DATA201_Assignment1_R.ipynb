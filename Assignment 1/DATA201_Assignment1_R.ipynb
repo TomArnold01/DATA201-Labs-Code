{
 "cells": [
  {
   "cell_type": "markdown",
   "metadata": {
    "tags": []
   },
   "source": [
    "# Data 201\n",
    "\n",
    "### Data Wrangling\n",
    "\n",
    "## Assignement 1\n",
    "\n",
    "**20% of final grade** Total marks is **100 marks** (100 for R).\n",
    "\n",
    "## Due date: 5pm Wednesday 24 August 2021\n",
    "\n",
    "The assignment must be submitted on the DATA 201 and 422 Learn page and should be **your own work, or done in pairs**.\n",
    "\n",
    "### Avoid plagiarism (see this [video on academic plagiarism](https://www.youtube.com/embed/reGGPUrEsC0) ). If you are not sure what may constitute code plagiarism, read this [explanation on source code plagiarism](http://web.science.mq.edu.au/~mtaylor/ponline/index.php?id=source-code-plagiarism). Remember, when in doubt **declare your sources**. \n",
    "\n",
    "If you have any issues that affects your ability to work during the time allocated for the assignement, please DO CONTACT ME. We will find a suitable solution. In general this WON'T be an extension to the deadline (so that in the rest of the semester you are free from preoccupations). Most probably, I will ask you to submit what you have ready by the time the assignment is due, even if it is not everything we required, and I'll take into account special considerations. For any particular problem, please contact [Thomas Li](thomas.li@canterbury.ac.nz) or the TAs."
   ]
  },
  {
   "cell_type": "markdown",
   "metadata": {},
   "source": [
    "## Instruction\n",
    "\n",
    "For this assignment you will work with a _.csv_ data-set. Your goal is to read it in, wrangle it, produce some plotting, in order to demonstrate that you are able to use the functions, plotting, and markdown format we have been learning.  \n",
    "You shall hand in your work as a jupyter-lab R notebook comprehending the code, the plots and, **very important**, enough comments and explanations for us to understand what you did, how you did it, and why you did it. Remember: no comments, no marks.  \n",
    "You can either modify this notebook or write a new one from scratch: in that case, clearly indicate which question you are asking at each step. Notice that you may well want to **use more than one cell** per answer (using some cell for the code, some for the text, and so forth)."
   ]
  },
  {
   "cell_type": "markdown",
   "metadata": {},
   "source": [
    "## Comment, explain, present your work in a clear way (10 marks)"
   ]
  },
  {
   "cell_type": "markdown",
   "metadata": {},
   "source": [
    "## R part (overall 100 marks)\n",
    "\n",
    "Do use the tidyverse syntax I introduced in class and labs. If in doubt, refresh the lab material 1 to 4."
   ]
  },
  {
   "cell_type": "markdown",
   "metadata": {},
   "source": [
    "The first thing you may want to do is to load **tidyverse**:"
   ]
  },
  {
   "cell_type": "code",
   "execution_count": 178,
   "metadata": {},
   "outputs": [],
   "source": [
    "library(tidyverse)                                  "
   ]
  },
  {
   "cell_type": "markdown",
   "metadata": {
    "tags": []
   },
   "source": [
    "### Task (a): import (10 marks)\n",
    "\n",
    "Import the **hour.csv** dataset into R as a dataframe (we'll call it `bike_df`, but you can call it what you want). You can read about the dataset in the file `DataSet_Dictionary.txt`. (Alternatively, you might use your own .csv dataset of choice, but talk with me about it before doing it). \n",
    "\n",
    "Then perform the routine checks about the types of the columns, the missing values, and output a quick summary of the dataset.\n",
    "\n",
    "_hint_ useful functions: `read_csv()`, `glimpse()`  \n",
    "_hint_ useful libraries: `tidyverse`, `readr`, `skimr`, `vis_dat`"
   ]
  },
  {
   "cell_type": "code",
   "execution_count": 179,
   "metadata": {},
   "outputs": [
    {
     "name": "stderr",
     "output_type": "stream",
     "text": [
      "\u001b[1mRows: \u001b[22m\u001b[34m17379\u001b[39m \u001b[1mColumns: \u001b[22m\u001b[34m17\u001b[39m\n",
      "\u001b[36m──\u001b[39m \u001b[1mColumn specification\u001b[22m \u001b[36m────────────────────────────────────────────────────────────────────────────────────────────────\u001b[39m\n",
      "\u001b[1mDelimiter:\u001b[22m \",\"\n",
      "\u001b[32mdbl\u001b[39m  (16): instant, season, yr, mnth, hr, holiday, weekday, workingday, weat...\n",
      "\u001b[34mdate\u001b[39m  (1): dteday\n",
      "\n",
      "\u001b[36mℹ\u001b[39m Use `spec()` to retrieve the full column specification for this data.\n",
      "\u001b[36mℹ\u001b[39m Specify the column types or set `show_col_types = FALSE` to quiet this message.\n"
     ]
    }
   ],
   "source": [
    "bike_df <- read_csv(file = \"hour.csv\") # read hour.csv into the name \"bike_df\""
   ]
  },
  {
   "cell_type": "code",
   "execution_count": 180,
   "metadata": {},
   "outputs": [
    {
     "name": "stdout",
     "output_type": "stream",
     "text": [
      "Rows: 17,379\n",
      "Columns: 17\n",
      "$ instant    \u001b[3m\u001b[90m<dbl>\u001b[39m\u001b[23m 1, 2, 3, 4, 5, 6, 7, 8, 9, 10, 11, 12, 13, 14, 15, 16, 17, …\n",
      "$ dteday     \u001b[3m\u001b[90m<date>\u001b[39m\u001b[23m 2011-01-01, 2011-01-01, 2011-01-01, 2011-01-01, 2011-01-01…\n",
      "$ season     \u001b[3m\u001b[90m<dbl>\u001b[39m\u001b[23m 1, 1, 1, 1, 1, 1, 1, 1, 1, 1, 1, 1, 1, 1, 1, 1, 1, 1, 1, 1,…\n",
      "$ yr         \u001b[3m\u001b[90m<dbl>\u001b[39m\u001b[23m 0, 0, 0, 0, 0, 0, 0, 0, 0, 0, 0, 0, 0, 0, 0, 0, 0, 0, 0, 0,…\n",
      "$ mnth       \u001b[3m\u001b[90m<dbl>\u001b[39m\u001b[23m 1, 1, 1, 1, 1, 1, 1, 1, 1, 1, 1, 1, 1, 1, 1, 1, 1, 1, 1, 1,…\n",
      "$ hr         \u001b[3m\u001b[90m<dbl>\u001b[39m\u001b[23m 0, 1, 2, 3, 4, 5, 6, 7, 8, 9, 10, 11, 12, 13, 14, 15, 16, 1…\n",
      "$ holiday    \u001b[3m\u001b[90m<dbl>\u001b[39m\u001b[23m 0, 0, 0, 0, 0, 0, 0, 0, 0, 0, 0, 0, 0, 0, 0, 0, 0, 0, 0, 0,…\n",
      "$ weekday    \u001b[3m\u001b[90m<dbl>\u001b[39m\u001b[23m 6, 6, 6, 6, 6, 6, 6, 6, 6, 6, 6, 6, 6, 6, 6, 6, 6, 6, 6, 6,…\n",
      "$ workingday \u001b[3m\u001b[90m<dbl>\u001b[39m\u001b[23m 0, 0, 0, 0, 0, 0, 0, 0, 0, 0, 0, 0, 0, 0, 0, 0, 0, 0, 0, 0,…\n",
      "$ weathersit \u001b[3m\u001b[90m<dbl>\u001b[39m\u001b[23m 1, 1, 1, 1, 1, 2, 1, 1, 1, 1, 1, 1, 1, 2, 2, 2, 2, 2, 3, 3,…\n",
      "$ temp       \u001b[3m\u001b[90m<dbl>\u001b[39m\u001b[23m 0.24, 0.22, 0.22, 0.24, 0.24, 0.24, 0.22, 0.20, 0.24, 0.32,…\n",
      "$ atemp      \u001b[3m\u001b[90m<dbl>\u001b[39m\u001b[23m 0.2879, 0.2727, 0.2727, 0.2879, 0.2879, 0.2576, 0.2727, 0.2…\n",
      "$ hum        \u001b[3m\u001b[90m<dbl>\u001b[39m\u001b[23m 0.81, 0.80, 0.80, 0.75, 0.75, 0.75, 0.80, 0.86, 0.75, 0.76,…\n",
      "$ windspeed  \u001b[3m\u001b[90m<dbl>\u001b[39m\u001b[23m 0.0000, 0.0000, 0.0000, 0.0000, 0.0000, 0.0896, 0.0000, 0.0…\n",
      "$ casual     \u001b[3m\u001b[90m<dbl>\u001b[39m\u001b[23m 3, 8, 5, 3, 0, 0, 2, 1, 1, 8, 12, 26, 29, 47, 35, 40, 41, 1…\n",
      "$ registered \u001b[3m\u001b[90m<dbl>\u001b[39m\u001b[23m 13, 32, 27, 10, 1, 1, 0, 2, 7, 6, 24, 30, 55, 47, 71, 70, 5…\n",
      "$ cnt        \u001b[3m\u001b[90m<dbl>\u001b[39m\u001b[23m 16, 40, 32, 13, 1, 1, 2, 3, 8, 14, 36, 56, 84, 94, 106, 110…\n"
     ]
    }
   ],
   "source": [
    "bike_df %>% \n",
    "  glimpse() # here we print out a small 'glimpse' into the dataset "
   ]
  },
  {
   "cell_type": "code",
   "execution_count": 6,
   "metadata": {},
   "outputs": [],
   "source": []
  },
  {
   "cell_type": "code",
   "execution_count": 181,
   "metadata": {},
   "outputs": [
    {
     "name": "stderr",
     "output_type": "stream",
     "text": [
      "Warning message:\n",
      "\"package 'knitr' is in use and will not be installed\"\n"
     ]
    }
   ],
   "source": [
    "library(skimr)  #loading in 'skimr' so we can use skim() to get a look at a summary of the data \n",
    "install.packages(\"knitr\")\n",
    "library(knitr)  \n",
    "# I have to install and load in 'knitr' so i am able to use kable() to get a cleaner summary of the dataset than just skim() would"
   ]
  },
  {
   "cell_type": "code",
   "execution_count": 183,
   "metadata": {},
   "outputs": [
    {
     "data": {
      "text/plain": [
       "\n",
       "\n",
       "|skim_type |skim_variable | n_missing| complete_rate|Date.min   |Date.max   |Date.median | Date.n_unique| numeric.mean|   numeric.sd| numeric.p0| numeric.p25| numeric.p50| numeric.p75| numeric.p100|numeric.hist |\n",
       "|:---------|:-------------|---------:|-------------:|:----------|:----------|:-----------|-------------:|------------:|------------:|----------:|-----------:|-----------:|-----------:|------------:|:------------|\n",
       "|Date      |dteday        |         0|             1|2011-01-01 |2012-12-31 |2012-01-02  |           731|           NA|           NA|         NA|          NA|          NA|          NA|           NA|NA           |\n",
       "|numeric   |instant       |         0|             1|NA         |NA         |NA          |            NA| 8690.0000000| 5017.0294996|       1.00|   4345.5000|   8690.0000|  13034.5000|   17379.0000|▇▇▇▇▇        |\n",
       "|numeric   |season        |         0|             1|NA         |NA         |NA          |            NA|    2.5016399|    1.1069181|       1.00|      2.0000|      3.0000|      3.0000|       4.0000|▇▇▁▇▇        |\n",
       "|numeric   |yr            |         0|             1|NA         |NA         |NA          |            NA|    0.5025606|    0.5000078|       0.00|      0.0000|      1.0000|      1.0000|       1.0000|▇▁▁▁▇        |\n",
       "|numeric   |mnth          |         0|             1|NA         |NA         |NA          |            NA|    6.5377755|    3.4387757|       1.00|      4.0000|      7.0000|     10.0000|      12.0000|▇▆▆▅▇        |\n",
       "|numeric   |hr            |         0|             1|NA         |NA         |NA          |            NA|   11.5467518|    6.9144051|       0.00|      6.0000|     12.0000|     18.0000|      23.0000|▇▇▆▇▇        |\n",
       "|numeric   |holiday       |         0|             1|NA         |NA         |NA          |            NA|    0.0287704|    0.1671653|       0.00|      0.0000|      0.0000|      0.0000|       1.0000|▇▁▁▁▁        |\n",
       "|numeric   |weekday       |         0|             1|NA         |NA         |NA          |            NA|    3.0036826|    2.0057715|       0.00|      1.0000|      3.0000|      5.0000|       6.0000|▇▃▃▃▇        |\n",
       "|numeric   |workingday    |         0|             1|NA         |NA         |NA          |            NA|    0.6827205|    0.4654306|       0.00|      0.0000|      1.0000|      1.0000|       1.0000|▃▁▁▁▇        |\n",
       "|numeric   |weathersit    |         0|             1|NA         |NA         |NA          |            NA|    1.4252834|    0.6393569|       1.00|      1.0000|      1.0000|      2.0000|       4.0000|▇▃▁▁▁        |\n",
       "|numeric   |temp          |         0|             1|NA         |NA         |NA          |            NA|    0.4969872|    0.1925561|       0.02|      0.3400|      0.5000|      0.6600|       1.0000|▂▇▇▇▁        |\n",
       "|numeric   |atemp         |         0|             1|NA         |NA         |NA          |            NA|    0.4757751|    0.1718502|       0.00|      0.3333|      0.4848|      0.6212|       1.0000|▁▆▇▆▁        |\n",
       "|numeric   |hum           |         0|             1|NA         |NA         |NA          |            NA|    0.6272288|    0.1929298|       0.00|      0.4800|      0.6300|      0.7800|       1.0000|▁▃▇▇▆        |\n",
       "|numeric   |windspeed     |         0|             1|NA         |NA         |NA          |            NA|    0.1900976|    0.1223402|       0.00|      0.1045|      0.1940|      0.2537|       0.8507|▇▆▂▁▁        |\n",
       "|numeric   |casual        |         0|             1|NA         |NA         |NA          |            NA|   35.6762184|   49.3050304|       0.00|      4.0000|     17.0000|     48.0000|     367.0000|▇▁▁▁▁        |\n",
       "|numeric   |registered    |         0|             1|NA         |NA         |NA          |            NA|  153.7868692|  151.3572859|       0.00|     34.0000|    115.0000|    220.0000|     886.0000|▇▃▁▁▁        |\n",
       "|numeric   |cnt           |         0|             1|NA         |NA         |NA          |            NA|  189.4630876|  181.3875991|       1.00|     40.0000|    142.0000|    281.0000|     977.0000|▇▃▁▁▁        |"
      ]
     },
     "metadata": {},
     "output_type": "display_data"
    }
   ],
   "source": [
    "bike_df %>%\n",
    "  skim() %>%\n",
    "  kable() \n",
    "#Here i am piping in the dataset to to skim then kable to get a summary of the data that is more detailed than the glimpse was"
   ]
  },
  {
   "cell_type": "code",
   "execution_count": 184,
   "metadata": {},
   "outputs": [],
   "source": [
    "library(visdat)"
   ]
  },
  {
   "cell_type": "code",
   "execution_count": 185,
   "metadata": {},
   "outputs": [
    {
     "data": {
      "image/png": "[encoded data removed]",
      "text/plain": [
       "plot without title"
      ]
     },
     "metadata": {
      "image/png": {
       "height": 420,
       "width": 420
      }
     },
     "output_type": "display_data"
    }
   ],
   "source": [
    "bike_df %>%\n",
    "  vis_miss() # here i am looking for missing data which it looks like there is none"
   ]
  },
  {
   "cell_type": "code",
   "execution_count": 186,
   "metadata": {},
   "outputs": [],
   "source": [
    "#The graph above tells us that all data is included for every instants of the data.\n",
    "#We can also see this is the graph that kable() gave us when looking at the n_missing col (col number 3)"
   ]
  },
  {
   "cell_type": "markdown",
   "metadata": {
    "tags": []
   },
   "source": [
    "### Task (b): working on rows (10 marks)\n",
    "\n",
    "\n",
    "Working on `bike_df`, show that you can operate on rows: arranging them, getting the top _n_ according to some variable of your choice, filtering them (eventually using your own functions).\n",
    "\n",
    "_hint_ useful functions: `arrange()`, `top_n()`, `filter()`  \n",
    "_hint_ to define a function: `myfunction <- function(myargument,anotherargument) { bodyofthefunction }`"
   ]
  },
  {
   "cell_type": "code",
   "execution_count": 188,
   "metadata": {},
   "outputs": [
    {
     "data": {
      "text/html": [
       "<table class=\"dataframe\">\n",
       "<caption>A spec_tbl_df: 10 × 17</caption>\n",
       "<thead>\n",
       "\t<tr><th scope=col>instant</th><th scope=col>dteday</th><th scope=col>season</th><th scope=col>yr</th><th scope=col>mnth</th><th scope=col>hr</th><th scope=col>holiday</th><th scope=col>weekday</th><th scope=col>workingday</th><th scope=col>weathersit</th><th scope=col>temp</th><th scope=col>atemp</th><th scope=col>hum</th><th scope=col>windspeed</th><th scope=col>casual</th><th scope=col>registered</th><th scope=col>cnt</th></tr>\n",
       "\t<tr><th scope=col>&lt;dbl&gt;</th><th scope=col>&lt;date&gt;</th><th scope=col>&lt;dbl&gt;</th><th scope=col>&lt;dbl&gt;</th><th scope=col>&lt;dbl&gt;</th><th scope=col>&lt;dbl&gt;</th><th scope=col>&lt;dbl&gt;</th><th scope=col>&lt;dbl&gt;</th><th scope=col>&lt;dbl&gt;</th><th scope=col>&lt;dbl&gt;</th><th scope=col>&lt;dbl&gt;</th><th scope=col>&lt;dbl&gt;</th><th scope=col>&lt;dbl&gt;</th><th scope=col>&lt;dbl&gt;</th><th scope=col>&lt;dbl&gt;</th><th scope=col>&lt;dbl&gt;</th><th scope=col>&lt;dbl&gt;</th></tr>\n",
       "</thead>\n",
       "<tbody>\n",
       "\t<tr><td> 4316</td><td>2011-07-03</td><td>3</td><td>0</td><td>7</td><td>17</td><td>0</td><td>0</td><td>0</td><td>3</td><td>0.80</td><td>0.7424</td><td>0.49</td><td>0.8507</td><td>181</td><td>177</td><td>358</td></tr>\n",
       "\t<tr><td> 4317</td><td>2011-07-03</td><td>3</td><td>0</td><td>7</td><td>18</td><td>0</td><td>0</td><td>0</td><td>3</td><td>0.80</td><td>0.7424</td><td>0.49</td><td>0.8507</td><td> 74</td><td>107</td><td>181</td></tr>\n",
       "\t<tr><td> 5636</td><td>2011-08-27</td><td>3</td><td>0</td><td>8</td><td>17</td><td>0</td><td>6</td><td>0</td><td>3</td><td>0.64</td><td>0.5758</td><td>0.89</td><td>0.8358</td><td>  2</td><td> 14</td><td> 16</td></tr>\n",
       "\t<tr><td> 1260</td><td>2011-02-25</td><td>1</td><td>0</td><td>2</td><td>15</td><td>0</td><td>5</td><td>1</td><td>1</td><td>0.46</td><td>0.4545</td><td>0.41</td><td>0.8060</td><td>  5</td><td> 50</td><td> 55</td></tr>\n",
       "\t<tr><td> 9957</td><td>2012-02-24</td><td>1</td><td>1</td><td>2</td><td>21</td><td>0</td><td>5</td><td>1</td><td>1</td><td>0.42</td><td>0.4242</td><td>0.35</td><td>0.8060</td><td>  1</td><td>151</td><td>152</td></tr>\n",
       "\t<tr><td> 1018</td><td>2011-02-15</td><td>1</td><td>0</td><td>2</td><td> 1</td><td>0</td><td>2</td><td>1</td><td>1</td><td>0.30</td><td>0.2424</td><td>0.42</td><td>0.7761</td><td>  0</td><td>  5</td><td>  5</td></tr>\n",
       "\t<tr><td> 1126</td><td>2011-02-19</td><td>1</td><td>0</td><td>2</td><td>15</td><td>0</td><td>6</td><td>0</td><td>1</td><td>0.44</td><td>0.4394</td><td>0.16</td><td>0.7463</td><td> 84</td><td> 87</td><td>171</td></tr>\n",
       "\t<tr><td> 1262</td><td>2011-02-25</td><td>1</td><td>0</td><td>2</td><td>17</td><td>0</td><td>5</td><td>1</td><td>1</td><td>0.32</td><td>0.2727</td><td>0.49</td><td>0.7463</td><td>  8</td><td>181</td><td>189</td></tr>\n",
       "\t<tr><td> 9654</td><td>2012-02-12</td><td>1</td><td>1</td><td>2</td><td> 4</td><td>0</td><td>0</td><td>0</td><td>2</td><td>0.10</td><td>0.0455</td><td>0.46</td><td>0.7164</td><td>  0</td><td>  1</td><td>  1</td></tr>\n",
       "\t<tr><td>11025</td><td>2012-04-09</td><td>2</td><td>1</td><td>4</td><td>12</td><td>0</td><td>1</td><td>1</td><td>1</td><td>0.54</td><td>0.5152</td><td>0.28</td><td>0.7164</td><td> 94</td><td>186</td><td>280</td></tr>\n",
       "</tbody>\n",
       "</table>\n"
      ],
      "text/latex": [
       "A spec\\_tbl\\_df: 10 × 17\n",
       "\\begin{tabular}{lllllllllllllllll}\n",
       " instant & dteday & season & yr & mnth & hr & holiday & weekday & workingday & weathersit & temp & atemp & hum & windspeed & casual & registered & cnt\\\\\n",
       " <dbl> & <date> & <dbl> & <dbl> & <dbl> & <dbl> & <dbl> & <dbl> & <dbl> & <dbl> & <dbl> & <dbl> & <dbl> & <dbl> & <dbl> & <dbl> & <dbl>\\\\\n",
       "\\hline\n",
       "\t  4316 & 2011-07-03 & 3 & 0 & 7 & 17 & 0 & 0 & 0 & 3 & 0.80 & 0.7424 & 0.49 & 0.8507 & 181 & 177 & 358\\\\\n",
       "\t  4317 & 2011-07-03 & 3 & 0 & 7 & 18 & 0 & 0 & 0 & 3 & 0.80 & 0.7424 & 0.49 & 0.8507 &  74 & 107 & 181\\\\\n",
       "\t  5636 & 2011-08-27 & 3 & 0 & 8 & 17 & 0 & 6 & 0 & 3 & 0.64 & 0.5758 & 0.89 & 0.8358 &   2 &  14 &  16\\\\\n",
       "\t  1260 & 2011-02-25 & 1 & 0 & 2 & 15 & 0 & 5 & 1 & 1 & 0.46 & 0.4545 & 0.41 & 0.8060 &   5 &  50 &  55\\\\\n",
       "\t  9957 & 2012-02-24 & 1 & 1 & 2 & 21 & 0 & 5 & 1 & 1 & 0.42 & 0.4242 & 0.35 & 0.8060 &   1 & 151 & 152\\\\\n",
       "\t  1018 & 2011-02-15 & 1 & 0 & 2 &  1 & 0 & 2 & 1 & 1 & 0.30 & 0.2424 & 0.42 & 0.7761 &   0 &   5 &   5\\\\\n",
       "\t  1126 & 2011-02-19 & 1 & 0 & 2 & 15 & 0 & 6 & 0 & 1 & 0.44 & 0.4394 & 0.16 & 0.7463 &  84 &  87 & 171\\\\\n",
       "\t  1262 & 2011-02-25 & 1 & 0 & 2 & 17 & 0 & 5 & 1 & 1 & 0.32 & 0.2727 & 0.49 & 0.7463 &   8 & 181 & 189\\\\\n",
       "\t  9654 & 2012-02-12 & 1 & 1 & 2 &  4 & 0 & 0 & 0 & 2 & 0.10 & 0.0455 & 0.46 & 0.7164 &   0 &   1 &   1\\\\\n",
       "\t 11025 & 2012-04-09 & 2 & 1 & 4 & 12 & 0 & 1 & 1 & 1 & 0.54 & 0.5152 & 0.28 & 0.7164 &  94 & 186 & 280\\\\\n",
       "\\end{tabular}\n"
      ],
      "text/markdown": [
       "\n",
       "A spec_tbl_df: 10 × 17\n",
       "\n",
       "| instant &lt;dbl&gt; | dteday &lt;date&gt; | season &lt;dbl&gt; | yr &lt;dbl&gt; | mnth &lt;dbl&gt; | hr &lt;dbl&gt; | holiday &lt;dbl&gt; | weekday &lt;dbl&gt; | workingday &lt;dbl&gt; | weathersit &lt;dbl&gt; | temp &lt;dbl&gt; | atemp &lt;dbl&gt; | hum &lt;dbl&gt; | windspeed &lt;dbl&gt; | casual &lt;dbl&gt; | registered &lt;dbl&gt; | cnt &lt;dbl&gt; |\n",
       "|---|---|---|---|---|---|---|---|---|---|---|---|---|---|---|---|---|\n",
       "|  4316 | 2011-07-03 | 3 | 0 | 7 | 17 | 0 | 0 | 0 | 3 | 0.80 | 0.7424 | 0.49 | 0.8507 | 181 | 177 | 358 |\n",
       "|  4317 | 2011-07-03 | 3 | 0 | 7 | 18 | 0 | 0 | 0 | 3 | 0.80 | 0.7424 | 0.49 | 0.8507 |  74 | 107 | 181 |\n",
       "|  5636 | 2011-08-27 | 3 | 0 | 8 | 17 | 0 | 6 | 0 | 3 | 0.64 | 0.5758 | 0.89 | 0.8358 |   2 |  14 |  16 |\n",
       "|  1260 | 2011-02-25 | 1 | 0 | 2 | 15 | 0 | 5 | 1 | 1 | 0.46 | 0.4545 | 0.41 | 0.8060 |   5 |  50 |  55 |\n",
       "|  9957 | 2012-02-24 | 1 | 1 | 2 | 21 | 0 | 5 | 1 | 1 | 0.42 | 0.4242 | 0.35 | 0.8060 |   1 | 151 | 152 |\n",
       "|  1018 | 2011-02-15 | 1 | 0 | 2 |  1 | 0 | 2 | 1 | 1 | 0.30 | 0.2424 | 0.42 | 0.7761 |   0 |   5 |   5 |\n",
       "|  1126 | 2011-02-19 | 1 | 0 | 2 | 15 | 0 | 6 | 0 | 1 | 0.44 | 0.4394 | 0.16 | 0.7463 |  84 |  87 | 171 |\n",
       "|  1262 | 2011-02-25 | 1 | 0 | 2 | 17 | 0 | 5 | 1 | 1 | 0.32 | 0.2727 | 0.49 | 0.7463 |   8 | 181 | 189 |\n",
       "|  9654 | 2012-02-12 | 1 | 1 | 2 |  4 | 0 | 0 | 0 | 2 | 0.10 | 0.0455 | 0.46 | 0.7164 |   0 |   1 |   1 |\n",
       "| 11025 | 2012-04-09 | 2 | 1 | 4 | 12 | 0 | 1 | 1 | 1 | 0.54 | 0.5152 | 0.28 | 0.7164 |  94 | 186 | 280 |\n",
       "\n"
      ],
      "text/plain": [
       "   instant dteday     season yr mnth hr holiday weekday workingday weathersit\n",
       "1   4316   2011-07-03 3      0  7    17 0       0       0          3         \n",
       "2   4317   2011-07-03 3      0  7    18 0       0       0          3         \n",
       "3   5636   2011-08-27 3      0  8    17 0       6       0          3         \n",
       "4   1260   2011-02-25 1      0  2    15 0       5       1          1         \n",
       "5   9957   2012-02-24 1      1  2    21 0       5       1          1         \n",
       "6   1018   2011-02-15 1      0  2     1 0       2       1          1         \n",
       "7   1126   2011-02-19 1      0  2    15 0       6       0          1         \n",
       "8   1262   2011-02-25 1      0  2    17 0       5       1          1         \n",
       "9   9654   2012-02-12 1      1  2     4 0       0       0          2         \n",
       "10 11025   2012-04-09 2      1  4    12 0       1       1          1         \n",
       "   temp atemp  hum  windspeed casual registered cnt\n",
       "1  0.80 0.7424 0.49 0.8507    181    177        358\n",
       "2  0.80 0.7424 0.49 0.8507     74    107        181\n",
       "3  0.64 0.5758 0.89 0.8358      2     14         16\n",
       "4  0.46 0.4545 0.41 0.8060      5     50         55\n",
       "5  0.42 0.4242 0.35 0.8060      1    151        152\n",
       "6  0.30 0.2424 0.42 0.7761      0      5          5\n",
       "7  0.44 0.4394 0.16 0.7463     84     87        171\n",
       "8  0.32 0.2727 0.49 0.7463      8    181        189\n",
       "9  0.10 0.0455 0.46 0.7164      0      1          1\n",
       "10 0.54 0.5152 0.28 0.7164     94    186        280"
      ]
     },
     "metadata": {},
     "output_type": "display_data"
    }
   ],
   "source": [
    "bike_df %>%\n",
    "  arrange(desc(windspeed)) %>%  # Here i have arranged the data so that it is in order according to the windspeed, with the highest wind speed at the top of the list.\n",
    "  top_n(10, windspeed) # Here i am selecting the top n (what ever is currently in the brackets) rows ordering in terms of windspeed.\n",
    "\n",
    "# these lines of code will give the top 10 highest windspeeds form highest instant 4316 decreasing. \n"
   ]
  },
  {
   "cell_type": "code",
   "execution_count": 189,
   "metadata": {},
   "outputs": [
    {
     "data": {
      "text/html": [
       "<table class=\"dataframe\">\n",
       "<caption>A spec_tbl_df: 15 × 17</caption>\n",
       "<thead>\n",
       "\t<tr><th scope=col>instant</th><th scope=col>dteday</th><th scope=col>season</th><th scope=col>yr</th><th scope=col>mnth</th><th scope=col>hr</th><th scope=col>holiday</th><th scope=col>weekday</th><th scope=col>workingday</th><th scope=col>weathersit</th><th scope=col>temp</th><th scope=col>atemp</th><th scope=col>hum</th><th scope=col>windspeed</th><th scope=col>casual</th><th scope=col>registered</th><th scope=col>cnt</th></tr>\n",
       "\t<tr><th scope=col>&lt;dbl&gt;</th><th scope=col>&lt;date&gt;</th><th scope=col>&lt;dbl&gt;</th><th scope=col>&lt;dbl&gt;</th><th scope=col>&lt;dbl&gt;</th><th scope=col>&lt;dbl&gt;</th><th scope=col>&lt;dbl&gt;</th><th scope=col>&lt;dbl&gt;</th><th scope=col>&lt;dbl&gt;</th><th scope=col>&lt;dbl&gt;</th><th scope=col>&lt;dbl&gt;</th><th scope=col>&lt;dbl&gt;</th><th scope=col>&lt;dbl&gt;</th><th scope=col>&lt;dbl&gt;</th><th scope=col>&lt;dbl&gt;</th><th scope=col>&lt;dbl&gt;</th><th scope=col>&lt;dbl&gt;</th></tr>\n",
       "</thead>\n",
       "<tbody>\n",
       "\t<tr><td> 4316</td><td>2011-07-03</td><td>3</td><td>0</td><td>7</td><td>17</td><td>0</td><td>0</td><td>0</td><td>3</td><td>0.80</td><td>0.7424</td><td>0.49</td><td>0.8507</td><td>181</td><td>177</td><td>358</td></tr>\n",
       "\t<tr><td> 4317</td><td>2011-07-03</td><td>3</td><td>0</td><td>7</td><td>18</td><td>0</td><td>0</td><td>0</td><td>3</td><td>0.80</td><td>0.7424</td><td>0.49</td><td>0.8507</td><td> 74</td><td>107</td><td>181</td></tr>\n",
       "\t<tr><td> 5636</td><td>2011-08-27</td><td>3</td><td>0</td><td>8</td><td>17</td><td>0</td><td>6</td><td>0</td><td>3</td><td>0.64</td><td>0.5758</td><td>0.89</td><td>0.8358</td><td>  2</td><td> 14</td><td> 16</td></tr>\n",
       "\t<tr><td> 5156</td><td>2011-08-07</td><td>3</td><td>0</td><td>8</td><td>17</td><td>0</td><td>0</td><td>0</td><td>3</td><td>0.74</td><td>0.7121</td><td>0.74</td><td>0.6418</td><td> 63</td><td>131</td><td>194</td></tr>\n",
       "\t<tr><td>14910</td><td>2012-09-18</td><td>3</td><td>1</td><td>9</td><td>10</td><td>0</td><td>2</td><td>1</td><td>3</td><td>0.68</td><td>0.6364</td><td>0.79</td><td>0.6418</td><td> 30</td><td>130</td><td>160</td></tr>\n",
       "\t<tr><td>14911</td><td>2012-09-18</td><td>3</td><td>1</td><td>9</td><td>11</td><td>0</td><td>2</td><td>1</td><td>2</td><td>0.68</td><td>0.6364</td><td>0.79</td><td>0.6418</td><td> 36</td><td>115</td><td>151</td></tr>\n",
       "\t<tr><td> 5640</td><td>2011-08-28</td><td>3</td><td>0</td><td>8</td><td>10</td><td>0</td><td>0</td><td>0</td><td>1</td><td>0.70</td><td>0.6515</td><td>0.61</td><td>0.6119</td><td> 27</td><td>115</td><td>142</td></tr>\n",
       "\t<tr><td> 6077</td><td>2011-09-15</td><td>3</td><td>0</td><td>9</td><td>18</td><td>0</td><td>4</td><td>1</td><td>3</td><td>0.48</td><td>0.4697</td><td>0.67</td><td>0.6119</td><td> 22</td><td>222</td><td>244</td></tr>\n",
       "\t<tr><td>13625</td><td>2012-07-26</td><td>3</td><td>1</td><td>7</td><td>21</td><td>0</td><td>4</td><td>1</td><td>1</td><td>0.80</td><td>0.7424</td><td>0.49</td><td>0.6119</td><td> 35</td><td>236</td><td>271</td></tr>\n",
       "\t<tr><td>13626</td><td>2012-07-26</td><td>3</td><td>1</td><td>7</td><td>22</td><td>0</td><td>4</td><td>1</td><td>1</td><td>0.80</td><td>0.7424</td><td>0.49</td><td>0.6119</td><td> 33</td><td>201</td><td>234</td></tr>\n",
       "\t<tr><td> 5844</td><td>2011-09-05</td><td>3</td><td>0</td><td>9</td><td>22</td><td>1</td><td>1</td><td>0</td><td>2</td><td>0.60</td><td>0.5455</td><td>0.88</td><td>0.5821</td><td> 15</td><td> 49</td><td> 64</td></tr>\n",
       "\t<tr><td>13380</td><td>2012-07-16</td><td>3</td><td>1</td><td>7</td><td>16</td><td>0</td><td>1</td><td>1</td><td>3</td><td>0.76</td><td>0.7273</td><td>0.66</td><td>0.5821</td><td> 77</td><td>309</td><td>386</td></tr>\n",
       "\t<tr><td>13381</td><td>2012-07-16</td><td>3</td><td>1</td><td>7</td><td>17</td><td>0</td><td>1</td><td>1</td><td>3</td><td>0.76</td><td>0.7273</td><td>0.66</td><td>0.5821</td><td> 86</td><td>669</td><td>755</td></tr>\n",
       "\t<tr><td>14909</td><td>2012-09-18</td><td>3</td><td>1</td><td>9</td><td> 9</td><td>0</td><td>2</td><td>1</td><td>2</td><td>0.66</td><td>0.6061</td><td>0.83</td><td>0.5821</td><td> 27</td><td>266</td><td>293</td></tr>\n",
       "\t<tr><td>14913</td><td>2012-09-18</td><td>3</td><td>1</td><td>9</td><td>13</td><td>0</td><td>2</td><td>1</td><td>2</td><td>0.70</td><td>0.6667</td><td>0.74</td><td>0.5821</td><td> 17</td><td> 97</td><td>114</td></tr>\n",
       "</tbody>\n",
       "</table>\n"
      ],
      "text/latex": [
       "A spec\\_tbl\\_df: 15 × 17\n",
       "\\begin{tabular}{lllllllllllllllll}\n",
       " instant & dteday & season & yr & mnth & hr & holiday & weekday & workingday & weathersit & temp & atemp & hum & windspeed & casual & registered & cnt\\\\\n",
       " <dbl> & <date> & <dbl> & <dbl> & <dbl> & <dbl> & <dbl> & <dbl> & <dbl> & <dbl> & <dbl> & <dbl> & <dbl> & <dbl> & <dbl> & <dbl> & <dbl>\\\\\n",
       "\\hline\n",
       "\t  4316 & 2011-07-03 & 3 & 0 & 7 & 17 & 0 & 0 & 0 & 3 & 0.80 & 0.7424 & 0.49 & 0.8507 & 181 & 177 & 358\\\\\n",
       "\t  4317 & 2011-07-03 & 3 & 0 & 7 & 18 & 0 & 0 & 0 & 3 & 0.80 & 0.7424 & 0.49 & 0.8507 &  74 & 107 & 181\\\\\n",
       "\t  5636 & 2011-08-27 & 3 & 0 & 8 & 17 & 0 & 6 & 0 & 3 & 0.64 & 0.5758 & 0.89 & 0.8358 &   2 &  14 &  16\\\\\n",
       "\t  5156 & 2011-08-07 & 3 & 0 & 8 & 17 & 0 & 0 & 0 & 3 & 0.74 & 0.7121 & 0.74 & 0.6418 &  63 & 131 & 194\\\\\n",
       "\t 14910 & 2012-09-18 & 3 & 1 & 9 & 10 & 0 & 2 & 1 & 3 & 0.68 & 0.6364 & 0.79 & 0.6418 &  30 & 130 & 160\\\\\n",
       "\t 14911 & 2012-09-18 & 3 & 1 & 9 & 11 & 0 & 2 & 1 & 2 & 0.68 & 0.6364 & 0.79 & 0.6418 &  36 & 115 & 151\\\\\n",
       "\t  5640 & 2011-08-28 & 3 & 0 & 8 & 10 & 0 & 0 & 0 & 1 & 0.70 & 0.6515 & 0.61 & 0.6119 &  27 & 115 & 142\\\\\n",
       "\t  6077 & 2011-09-15 & 3 & 0 & 9 & 18 & 0 & 4 & 1 & 3 & 0.48 & 0.4697 & 0.67 & 0.6119 &  22 & 222 & 244\\\\\n",
       "\t 13625 & 2012-07-26 & 3 & 1 & 7 & 21 & 0 & 4 & 1 & 1 & 0.80 & 0.7424 & 0.49 & 0.6119 &  35 & 236 & 271\\\\\n",
       "\t 13626 & 2012-07-26 & 3 & 1 & 7 & 22 & 0 & 4 & 1 & 1 & 0.80 & 0.7424 & 0.49 & 0.6119 &  33 & 201 & 234\\\\\n",
       "\t  5844 & 2011-09-05 & 3 & 0 & 9 & 22 & 1 & 1 & 0 & 2 & 0.60 & 0.5455 & 0.88 & 0.5821 &  15 &  49 &  64\\\\\n",
       "\t 13380 & 2012-07-16 & 3 & 1 & 7 & 16 & 0 & 1 & 1 & 3 & 0.76 & 0.7273 & 0.66 & 0.5821 &  77 & 309 & 386\\\\\n",
       "\t 13381 & 2012-07-16 & 3 & 1 & 7 & 17 & 0 & 1 & 1 & 3 & 0.76 & 0.7273 & 0.66 & 0.5821 &  86 & 669 & 755\\\\\n",
       "\t 14909 & 2012-09-18 & 3 & 1 & 9 &  9 & 0 & 2 & 1 & 2 & 0.66 & 0.6061 & 0.83 & 0.5821 &  27 & 266 & 293\\\\\n",
       "\t 14913 & 2012-09-18 & 3 & 1 & 9 & 13 & 0 & 2 & 1 & 2 & 0.70 & 0.6667 & 0.74 & 0.5821 &  17 &  97 & 114\\\\\n",
       "\\end{tabular}\n"
      ],
      "text/markdown": [
       "\n",
       "A spec_tbl_df: 15 × 17\n",
       "\n",
       "| instant &lt;dbl&gt; | dteday &lt;date&gt; | season &lt;dbl&gt; | yr &lt;dbl&gt; | mnth &lt;dbl&gt; | hr &lt;dbl&gt; | holiday &lt;dbl&gt; | weekday &lt;dbl&gt; | workingday &lt;dbl&gt; | weathersit &lt;dbl&gt; | temp &lt;dbl&gt; | atemp &lt;dbl&gt; | hum &lt;dbl&gt; | windspeed &lt;dbl&gt; | casual &lt;dbl&gt; | registered &lt;dbl&gt; | cnt &lt;dbl&gt; |\n",
       "|---|---|---|---|---|---|---|---|---|---|---|---|---|---|---|---|---|\n",
       "|  4316 | 2011-07-03 | 3 | 0 | 7 | 17 | 0 | 0 | 0 | 3 | 0.80 | 0.7424 | 0.49 | 0.8507 | 181 | 177 | 358 |\n",
       "|  4317 | 2011-07-03 | 3 | 0 | 7 | 18 | 0 | 0 | 0 | 3 | 0.80 | 0.7424 | 0.49 | 0.8507 |  74 | 107 | 181 |\n",
       "|  5636 | 2011-08-27 | 3 | 0 | 8 | 17 | 0 | 6 | 0 | 3 | 0.64 | 0.5758 | 0.89 | 0.8358 |   2 |  14 |  16 |\n",
       "|  5156 | 2011-08-07 | 3 | 0 | 8 | 17 | 0 | 0 | 0 | 3 | 0.74 | 0.7121 | 0.74 | 0.6418 |  63 | 131 | 194 |\n",
       "| 14910 | 2012-09-18 | 3 | 1 | 9 | 10 | 0 | 2 | 1 | 3 | 0.68 | 0.6364 | 0.79 | 0.6418 |  30 | 130 | 160 |\n",
       "| 14911 | 2012-09-18 | 3 | 1 | 9 | 11 | 0 | 2 | 1 | 2 | 0.68 | 0.6364 | 0.79 | 0.6418 |  36 | 115 | 151 |\n",
       "|  5640 | 2011-08-28 | 3 | 0 | 8 | 10 | 0 | 0 | 0 | 1 | 0.70 | 0.6515 | 0.61 | 0.6119 |  27 | 115 | 142 |\n",
       "|  6077 | 2011-09-15 | 3 | 0 | 9 | 18 | 0 | 4 | 1 | 3 | 0.48 | 0.4697 | 0.67 | 0.6119 |  22 | 222 | 244 |\n",
       "| 13625 | 2012-07-26 | 3 | 1 | 7 | 21 | 0 | 4 | 1 | 1 | 0.80 | 0.7424 | 0.49 | 0.6119 |  35 | 236 | 271 |\n",
       "| 13626 | 2012-07-26 | 3 | 1 | 7 | 22 | 0 | 4 | 1 | 1 | 0.80 | 0.7424 | 0.49 | 0.6119 |  33 | 201 | 234 |\n",
       "|  5844 | 2011-09-05 | 3 | 0 | 9 | 22 | 1 | 1 | 0 | 2 | 0.60 | 0.5455 | 0.88 | 0.5821 |  15 |  49 |  64 |\n",
       "| 13380 | 2012-07-16 | 3 | 1 | 7 | 16 | 0 | 1 | 1 | 3 | 0.76 | 0.7273 | 0.66 | 0.5821 |  77 | 309 | 386 |\n",
       "| 13381 | 2012-07-16 | 3 | 1 | 7 | 17 | 0 | 1 | 1 | 3 | 0.76 | 0.7273 | 0.66 | 0.5821 |  86 | 669 | 755 |\n",
       "| 14909 | 2012-09-18 | 3 | 1 | 9 |  9 | 0 | 2 | 1 | 2 | 0.66 | 0.6061 | 0.83 | 0.5821 |  27 | 266 | 293 |\n",
       "| 14913 | 2012-09-18 | 3 | 1 | 9 | 13 | 0 | 2 | 1 | 2 | 0.70 | 0.6667 | 0.74 | 0.5821 |  17 |  97 | 114 |\n",
       "\n"
      ],
      "text/plain": [
       "   instant dteday     season yr mnth hr holiday weekday workingday weathersit\n",
       "1   4316   2011-07-03 3      0  7    17 0       0       0          3         \n",
       "2   4317   2011-07-03 3      0  7    18 0       0       0          3         \n",
       "3   5636   2011-08-27 3      0  8    17 0       6       0          3         \n",
       "4   5156   2011-08-07 3      0  8    17 0       0       0          3         \n",
       "5  14910   2012-09-18 3      1  9    10 0       2       1          3         \n",
       "6  14911   2012-09-18 3      1  9    11 0       2       1          2         \n",
       "7   5640   2011-08-28 3      0  8    10 0       0       0          1         \n",
       "8   6077   2011-09-15 3      0  9    18 0       4       1          3         \n",
       "9  13625   2012-07-26 3      1  7    21 0       4       1          1         \n",
       "10 13626   2012-07-26 3      1  7    22 0       4       1          1         \n",
       "11  5844   2011-09-05 3      0  9    22 1       1       0          2         \n",
       "12 13380   2012-07-16 3      1  7    16 0       1       1          3         \n",
       "13 13381   2012-07-16 3      1  7    17 0       1       1          3         \n",
       "14 14909   2012-09-18 3      1  9     9 0       2       1          2         \n",
       "15 14913   2012-09-18 3      1  9    13 0       2       1          2         \n",
       "   temp atemp  hum  windspeed casual registered cnt\n",
       "1  0.80 0.7424 0.49 0.8507    181    177        358\n",
       "2  0.80 0.7424 0.49 0.8507     74    107        181\n",
       "3  0.64 0.5758 0.89 0.8358      2     14         16\n",
       "4  0.74 0.7121 0.74 0.6418     63    131        194\n",
       "5  0.68 0.6364 0.79 0.6418     30    130        160\n",
       "6  0.68 0.6364 0.79 0.6418     36    115        151\n",
       "7  0.70 0.6515 0.61 0.6119     27    115        142\n",
       "8  0.48 0.4697 0.67 0.6119     22    222        244\n",
       "9  0.80 0.7424 0.49 0.6119     35    236        271\n",
       "10 0.80 0.7424 0.49 0.6119     33    201        234\n",
       "11 0.60 0.5455 0.88 0.5821     15     49         64\n",
       "12 0.76 0.7273 0.66 0.5821     77    309        386\n",
       "13 0.76 0.7273 0.66 0.5821     86    669        755\n",
       "14 0.66 0.6061 0.83 0.5821     27    266        293\n",
       "15 0.70 0.6667 0.74 0.5821     17     97        114"
      ]
     },
     "metadata": {},
     "output_type": "display_data"
    }
   ],
   "source": [
    "bike_df %>%\n",
    "  arrange(desc(windspeed)) %>%  # Here i have arranged the data so that it is in order according to the windspeed, with the highest wind speed at the top of the list.\n",
    "  top_n(100, windspeed) %>% # Here i am selecting the top n (what ever is currently in the brackets) rows ordering in terms of windspeed.\n",
    "  filter(season == 3) # Here i am filtering the data to show only instants that were in season 3\n",
    "\n",
    "# These lines of code as the same as the one above it but with the addition of only showing the highests wind speeds in the 3rd season"
   ]
  },
  {
   "cell_type": "code",
   "execution_count": 191,
   "metadata": {},
   "outputs": [
    {
     "data": {
      "text/html": [
       "<table class=\"dataframe\">\n",
       "<caption>A tibble: 6 × 17</caption>\n",
       "<thead>\n",
       "\t<tr><th scope=col>instant</th><th scope=col>dteday</th><th scope=col>season</th><th scope=col>yr</th><th scope=col>mnth</th><th scope=col>hr</th><th scope=col>holiday</th><th scope=col>weekday</th><th scope=col>workingday</th><th scope=col>weathersit</th><th scope=col>temp</th><th scope=col>atemp</th><th scope=col>hum</th><th scope=col>windspeed</th><th scope=col>casual</th><th scope=col>registered</th><th scope=col>cnt</th></tr>\n",
       "\t<tr><th scope=col>&lt;dbl&gt;</th><th scope=col>&lt;date&gt;</th><th scope=col>&lt;dbl&gt;</th><th scope=col>&lt;dbl&gt;</th><th scope=col>&lt;dbl&gt;</th><th scope=col>&lt;dbl&gt;</th><th scope=col>&lt;dbl&gt;</th><th scope=col>&lt;dbl&gt;</th><th scope=col>&lt;dbl&gt;</th><th scope=col>&lt;dbl&gt;</th><th scope=col>&lt;dbl&gt;</th><th scope=col>&lt;dbl&gt;</th><th scope=col>&lt;dbl&gt;</th><th scope=col>&lt;dbl&gt;</th><th scope=col>&lt;dbl&gt;</th><th scope=col>&lt;dbl&gt;</th><th scope=col>&lt;dbl&gt;</th></tr>\n",
       "</thead>\n",
       "<tbody>\n",
       "\t<tr><td>1808</td><td>2011-03-21</td><td>2</td><td>0</td><td>3</td><td>0</td><td>0</td><td>1</td><td>1</td><td>3</td><td>0.34</td><td>0.303</td><td>0.66</td><td>0.3881</td><td>2</td><td>11</td><td>13</td></tr>\n",
       "\t<tr><td>1809</td><td>2011-03-21</td><td>2</td><td>0</td><td>3</td><td>1</td><td>0</td><td>1</td><td>1</td><td>2</td><td>0.34</td><td>0.303</td><td>0.71</td><td>0.3881</td><td>1</td><td> 6</td><td> 7</td></tr>\n",
       "\t<tr><td>1810</td><td>2011-03-21</td><td>2</td><td>0</td><td>3</td><td>2</td><td>0</td><td>1</td><td>1</td><td>2</td><td>0.34</td><td>0.303</td><td>0.71</td><td>0.3284</td><td>1</td><td> 5</td><td> 6</td></tr>\n",
       "\t<tr><td>1811</td><td>2011-03-21</td><td>2</td><td>0</td><td>3</td><td>3</td><td>0</td><td>1</td><td>1</td><td>2</td><td>0.34</td><td>0.303</td><td>0.71</td><td>0.3284</td><td>0</td><td> 1</td><td> 1</td></tr>\n",
       "\t<tr><td>1812</td><td>2011-03-21</td><td>2</td><td>0</td><td>3</td><td>5</td><td>0</td><td>1</td><td>1</td><td>1</td><td>0.32</td><td>0.303</td><td>0.81</td><td>0.2985</td><td>1</td><td> 1</td><td> 2</td></tr>\n",
       "\t<tr><td>1813</td><td>2011-03-21</td><td>2</td><td>0</td><td>3</td><td>6</td><td>0</td><td>1</td><td>1</td><td>3</td><td>0.32</td><td>0.303</td><td>0.76</td><td>0.2537</td><td>2</td><td>30</td><td>32</td></tr>\n",
       "</tbody>\n",
       "</table>\n"
      ],
      "text/latex": [
       "A tibble: 6 × 17\n",
       "\\begin{tabular}{lllllllllllllllll}\n",
       " instant & dteday & season & yr & mnth & hr & holiday & weekday & workingday & weathersit & temp & atemp & hum & windspeed & casual & registered & cnt\\\\\n",
       " <dbl> & <date> & <dbl> & <dbl> & <dbl> & <dbl> & <dbl> & <dbl> & <dbl> & <dbl> & <dbl> & <dbl> & <dbl> & <dbl> & <dbl> & <dbl> & <dbl>\\\\\n",
       "\\hline\n",
       "\t 1808 & 2011-03-21 & 2 & 0 & 3 & 0 & 0 & 1 & 1 & 3 & 0.34 & 0.303 & 0.66 & 0.3881 & 2 & 11 & 13\\\\\n",
       "\t 1809 & 2011-03-21 & 2 & 0 & 3 & 1 & 0 & 1 & 1 & 2 & 0.34 & 0.303 & 0.71 & 0.3881 & 1 &  6 &  7\\\\\n",
       "\t 1810 & 2011-03-21 & 2 & 0 & 3 & 2 & 0 & 1 & 1 & 2 & 0.34 & 0.303 & 0.71 & 0.3284 & 1 &  5 &  6\\\\\n",
       "\t 1811 & 2011-03-21 & 2 & 0 & 3 & 3 & 0 & 1 & 1 & 2 & 0.34 & 0.303 & 0.71 & 0.3284 & 0 &  1 &  1\\\\\n",
       "\t 1812 & 2011-03-21 & 2 & 0 & 3 & 5 & 0 & 1 & 1 & 1 & 0.32 & 0.303 & 0.81 & 0.2985 & 1 &  1 &  2\\\\\n",
       "\t 1813 & 2011-03-21 & 2 & 0 & 3 & 6 & 0 & 1 & 1 & 3 & 0.32 & 0.303 & 0.76 & 0.2537 & 2 & 30 & 32\\\\\n",
       "\\end{tabular}\n"
      ],
      "text/markdown": [
       "\n",
       "A tibble: 6 × 17\n",
       "\n",
       "| instant &lt;dbl&gt; | dteday &lt;date&gt; | season &lt;dbl&gt; | yr &lt;dbl&gt; | mnth &lt;dbl&gt; | hr &lt;dbl&gt; | holiday &lt;dbl&gt; | weekday &lt;dbl&gt; | workingday &lt;dbl&gt; | weathersit &lt;dbl&gt; | temp &lt;dbl&gt; | atemp &lt;dbl&gt; | hum &lt;dbl&gt; | windspeed &lt;dbl&gt; | casual &lt;dbl&gt; | registered &lt;dbl&gt; | cnt &lt;dbl&gt; |\n",
       "|---|---|---|---|---|---|---|---|---|---|---|---|---|---|---|---|---|\n",
       "| 1808 | 2011-03-21 | 2 | 0 | 3 | 0 | 0 | 1 | 1 | 3 | 0.34 | 0.303 | 0.66 | 0.3881 | 2 | 11 | 13 |\n",
       "| 1809 | 2011-03-21 | 2 | 0 | 3 | 1 | 0 | 1 | 1 | 2 | 0.34 | 0.303 | 0.71 | 0.3881 | 1 |  6 |  7 |\n",
       "| 1810 | 2011-03-21 | 2 | 0 | 3 | 2 | 0 | 1 | 1 | 2 | 0.34 | 0.303 | 0.71 | 0.3284 | 1 |  5 |  6 |\n",
       "| 1811 | 2011-03-21 | 2 | 0 | 3 | 3 | 0 | 1 | 1 | 2 | 0.34 | 0.303 | 0.71 | 0.3284 | 0 |  1 |  1 |\n",
       "| 1812 | 2011-03-21 | 2 | 0 | 3 | 5 | 0 | 1 | 1 | 1 | 0.32 | 0.303 | 0.81 | 0.2985 | 1 |  1 |  2 |\n",
       "| 1813 | 2011-03-21 | 2 | 0 | 3 | 6 | 0 | 1 | 1 | 3 | 0.32 | 0.303 | 0.76 | 0.2537 | 2 | 30 | 32 |\n",
       "\n"
      ],
      "text/plain": [
       "  instant dteday     season yr mnth hr holiday weekday workingday weathersit\n",
       "1 1808    2011-03-21 2      0  3    0  0       1       1          3         \n",
       "2 1809    2011-03-21 2      0  3    1  0       1       1          2         \n",
       "3 1810    2011-03-21 2      0  3    2  0       1       1          2         \n",
       "4 1811    2011-03-21 2      0  3    3  0       1       1          2         \n",
       "5 1812    2011-03-21 2      0  3    5  0       1       1          1         \n",
       "6 1813    2011-03-21 2      0  3    6  0       1       1          3         \n",
       "  temp atemp hum  windspeed casual registered cnt\n",
       "1 0.34 0.303 0.66 0.3881    2      11         13 \n",
       "2 0.34 0.303 0.71 0.3881    1       6          7 \n",
       "3 0.34 0.303 0.71 0.3284    1       5          6 \n",
       "4 0.34 0.303 0.71 0.3284    0       1          1 \n",
       "5 0.32 0.303 0.81 0.2985    1       1          2 \n",
       "6 0.32 0.303 0.76 0.2537    2      30         32 "
      ]
     },
     "metadata": {},
     "output_type": "display_data"
    }
   ],
   "source": [
    "# this is a very simple function that takes a data set and a season and returns all instants from the inputed season\n",
    "season <- function(data, is_season) {\n",
    "  filtered <- data %>%\n",
    "    filter(is_season == season)\n",
    "    return(filtered)\n",
    "}\n",
    "# Just to show that my function is working i will filter out all instants where the season is not 2 (or what ever number you put in)\n",
    "bike_df %>%\n",
    "  season(is_season = 2) %>%\n",
    "  head() #to show a small amount of the data so not to take up heaps of room with the output "
   ]
  },
  {
   "cell_type": "code",
   "execution_count": 192,
   "metadata": {},
   "outputs": [
    {
     "data": {
      "text/html": [
       "<table class=\"dataframe\">\n",
       "<caption>A tibble: 6 × 17</caption>\n",
       "<thead>\n",
       "\t<tr><th scope=col>instant</th><th scope=col>dteday</th><th scope=col>season</th><th scope=col>yr</th><th scope=col>mnth</th><th scope=col>hr</th><th scope=col>holiday</th><th scope=col>weekday</th><th scope=col>workingday</th><th scope=col>weathersit</th><th scope=col>temp</th><th scope=col>atemp</th><th scope=col>hum</th><th scope=col>windspeed</th><th scope=col>casual</th><th scope=col>registered</th><th scope=col>cnt</th></tr>\n",
       "\t<tr><th scope=col>&lt;dbl&gt;</th><th scope=col>&lt;date&gt;</th><th scope=col>&lt;dbl&gt;</th><th scope=col>&lt;dbl&gt;</th><th scope=col>&lt;dbl&gt;</th><th scope=col>&lt;dbl&gt;</th><th scope=col>&lt;dbl&gt;</th><th scope=col>&lt;dbl&gt;</th><th scope=col>&lt;dbl&gt;</th><th scope=col>&lt;dbl&gt;</th><th scope=col>&lt;dbl&gt;</th><th scope=col>&lt;dbl&gt;</th><th scope=col>&lt;dbl&gt;</th><th scope=col>&lt;dbl&gt;</th><th scope=col>&lt;dbl&gt;</th><th scope=col>&lt;dbl&gt;</th><th scope=col>&lt;dbl&gt;</th></tr>\n",
       "</thead>\n",
       "<tbody>\n",
       "\t<tr><td>48</td><td>2011-01-03</td><td>1</td><td>0</td><td>1</td><td>0</td><td>0</td><td>1</td><td>1</td><td>1</td><td>0.22</td><td>0.1970</td><td>0.44</td><td>0.3582</td><td>0</td><td> 5</td><td> 5</td></tr>\n",
       "\t<tr><td>49</td><td>2011-01-03</td><td>1</td><td>0</td><td>1</td><td>1</td><td>0</td><td>1</td><td>1</td><td>1</td><td>0.20</td><td>0.1667</td><td>0.44</td><td>0.4179</td><td>0</td><td> 2</td><td> 2</td></tr>\n",
       "\t<tr><td>50</td><td>2011-01-03</td><td>1</td><td>0</td><td>1</td><td>4</td><td>0</td><td>1</td><td>1</td><td>1</td><td>0.16</td><td>0.1364</td><td>0.47</td><td>0.3881</td><td>0</td><td> 1</td><td> 1</td></tr>\n",
       "\t<tr><td>51</td><td>2011-01-03</td><td>1</td><td>0</td><td>1</td><td>5</td><td>0</td><td>1</td><td>1</td><td>1</td><td>0.16</td><td>0.1364</td><td>0.47</td><td>0.2836</td><td>0</td><td> 3</td><td> 3</td></tr>\n",
       "\t<tr><td>52</td><td>2011-01-03</td><td>1</td><td>0</td><td>1</td><td>6</td><td>0</td><td>1</td><td>1</td><td>1</td><td>0.14</td><td>0.1061</td><td>0.50</td><td>0.3881</td><td>0</td><td>30</td><td>30</td></tr>\n",
       "\t<tr><td>53</td><td>2011-01-03</td><td>1</td><td>0</td><td>1</td><td>7</td><td>0</td><td>1</td><td>1</td><td>1</td><td>0.14</td><td>0.1364</td><td>0.50</td><td>0.1940</td><td>1</td><td>63</td><td>64</td></tr>\n",
       "</tbody>\n",
       "</table>\n"
      ],
      "text/latex": [
       "A tibble: 6 × 17\n",
       "\\begin{tabular}{lllllllllllllllll}\n",
       " instant & dteday & season & yr & mnth & hr & holiday & weekday & workingday & weathersit & temp & atemp & hum & windspeed & casual & registered & cnt\\\\\n",
       " <dbl> & <date> & <dbl> & <dbl> & <dbl> & <dbl> & <dbl> & <dbl> & <dbl> & <dbl> & <dbl> & <dbl> & <dbl> & <dbl> & <dbl> & <dbl> & <dbl>\\\\\n",
       "\\hline\n",
       "\t 48 & 2011-01-03 & 1 & 0 & 1 & 0 & 0 & 1 & 1 & 1 & 0.22 & 0.1970 & 0.44 & 0.3582 & 0 &  5 &  5\\\\\n",
       "\t 49 & 2011-01-03 & 1 & 0 & 1 & 1 & 0 & 1 & 1 & 1 & 0.20 & 0.1667 & 0.44 & 0.4179 & 0 &  2 &  2\\\\\n",
       "\t 50 & 2011-01-03 & 1 & 0 & 1 & 4 & 0 & 1 & 1 & 1 & 0.16 & 0.1364 & 0.47 & 0.3881 & 0 &  1 &  1\\\\\n",
       "\t 51 & 2011-01-03 & 1 & 0 & 1 & 5 & 0 & 1 & 1 & 1 & 0.16 & 0.1364 & 0.47 & 0.2836 & 0 &  3 &  3\\\\\n",
       "\t 52 & 2011-01-03 & 1 & 0 & 1 & 6 & 0 & 1 & 1 & 1 & 0.14 & 0.1061 & 0.50 & 0.3881 & 0 & 30 & 30\\\\\n",
       "\t 53 & 2011-01-03 & 1 & 0 & 1 & 7 & 0 & 1 & 1 & 1 & 0.14 & 0.1364 & 0.50 & 0.1940 & 1 & 63 & 64\\\\\n",
       "\\end{tabular}\n"
      ],
      "text/markdown": [
       "\n",
       "A tibble: 6 × 17\n",
       "\n",
       "| instant &lt;dbl&gt; | dteday &lt;date&gt; | season &lt;dbl&gt; | yr &lt;dbl&gt; | mnth &lt;dbl&gt; | hr &lt;dbl&gt; | holiday &lt;dbl&gt; | weekday &lt;dbl&gt; | workingday &lt;dbl&gt; | weathersit &lt;dbl&gt; | temp &lt;dbl&gt; | atemp &lt;dbl&gt; | hum &lt;dbl&gt; | windspeed &lt;dbl&gt; | casual &lt;dbl&gt; | registered &lt;dbl&gt; | cnt &lt;dbl&gt; |\n",
       "|---|---|---|---|---|---|---|---|---|---|---|---|---|---|---|---|---|\n",
       "| 48 | 2011-01-03 | 1 | 0 | 1 | 0 | 0 | 1 | 1 | 1 | 0.22 | 0.1970 | 0.44 | 0.3582 | 0 |  5 |  5 |\n",
       "| 49 | 2011-01-03 | 1 | 0 | 1 | 1 | 0 | 1 | 1 | 1 | 0.20 | 0.1667 | 0.44 | 0.4179 | 0 |  2 |  2 |\n",
       "| 50 | 2011-01-03 | 1 | 0 | 1 | 4 | 0 | 1 | 1 | 1 | 0.16 | 0.1364 | 0.47 | 0.3881 | 0 |  1 |  1 |\n",
       "| 51 | 2011-01-03 | 1 | 0 | 1 | 5 | 0 | 1 | 1 | 1 | 0.16 | 0.1364 | 0.47 | 0.2836 | 0 |  3 |  3 |\n",
       "| 52 | 2011-01-03 | 1 | 0 | 1 | 6 | 0 | 1 | 1 | 1 | 0.14 | 0.1061 | 0.50 | 0.3881 | 0 | 30 | 30 |\n",
       "| 53 | 2011-01-03 | 1 | 0 | 1 | 7 | 0 | 1 | 1 | 1 | 0.14 | 0.1364 | 0.50 | 0.1940 | 1 | 63 | 64 |\n",
       "\n"
      ],
      "text/plain": [
       "  instant dteday     season yr mnth hr holiday weekday workingday weathersit\n",
       "1 48      2011-01-03 1      0  1    0  0       1       1          1         \n",
       "2 49      2011-01-03 1      0  1    1  0       1       1          1         \n",
       "3 50      2011-01-03 1      0  1    4  0       1       1          1         \n",
       "4 51      2011-01-03 1      0  1    5  0       1       1          1         \n",
       "5 52      2011-01-03 1      0  1    6  0       1       1          1         \n",
       "6 53      2011-01-03 1      0  1    7  0       1       1          1         \n",
       "  temp atemp  hum  windspeed casual registered cnt\n",
       "1 0.22 0.1970 0.44 0.3582    0       5          5 \n",
       "2 0.20 0.1667 0.44 0.4179    0       2          2 \n",
       "3 0.16 0.1364 0.47 0.3881    0       1          1 \n",
       "4 0.16 0.1364 0.47 0.2836    0       3          3 \n",
       "5 0.14 0.1061 0.50 0.3881    0      30         30 \n",
       "6 0.14 0.1364 0.50 0.1940    1      63         64 "
      ]
     },
     "metadata": {},
     "output_type": "display_data"
    }
   ],
   "source": [
    "# this is a another simple funtcion that takes a data set and a day and returns all of the instants from that day ie mondays,\n",
    "# tuesdays...\n",
    "day <- function(data, is_day) {\n",
    "  filtered <- data %>%\n",
    "    filter(is_day == weekday)\n",
    "    return(filtered)\n",
    "}\n",
    "# just to show that my function is working i will filter out all instants where is is not a holiday \n",
    "bike_df %>%\n",
    "  day(is_day = 1) %>%\n",
    "  head() #to show a small amount of the data so not to take up heaps of room with the output"
   ]
  },
  {
   "cell_type": "markdown",
   "metadata": {
    "tags": []
   },
   "source": [
    "### Task (c): working on columns (10 marks)\n",
    "\n",
    "Working on `bike_df`, show that you can operate on columns: selecting some of them, dropping other, renaming them, reordering them, ...\n",
    "\n",
    "\n",
    "_hint_ useful functions: `select()`, `rename()`, ..."
   ]
  },
  {
   "cell_type": "code",
   "execution_count": 194,
   "metadata": {},
   "outputs": [
    {
     "data": {
      "text/html": [
       "<style>\n",
       ".list-inline {list-style: none; margin:0; padding: 0}\n",
       ".list-inline>li {display: inline-block}\n",
       ".list-inline>li:not(:last-child)::after {content: \"\\00b7\"; padding: 0 .5ex}\n",
       "</style>\n",
       "<ol class=list-inline><li>'instant'</li><li>'dteday'</li><li>'season'</li><li>'yr'</li><li>'mnth'</li><li>'hr'</li><li>'holiday'</li><li>'weekday'</li><li>'workingday'</li><li>'weathersit'</li><li>'temp'</li><li>'atemp'</li><li>'hum'</li><li>'windspeed'</li><li>'casual'</li><li>'registered'</li><li>'cnt'</li></ol>\n"
      ],
      "text/latex": [
       "\\begin{enumerate*}\n",
       "\\item 'instant'\n",
       "\\item 'dteday'\n",
       "\\item 'season'\n",
       "\\item 'yr'\n",
       "\\item 'mnth'\n",
       "\\item 'hr'\n",
       "\\item 'holiday'\n",
       "\\item 'weekday'\n",
       "\\item 'workingday'\n",
       "\\item 'weathersit'\n",
       "\\item 'temp'\n",
       "\\item 'atemp'\n",
       "\\item 'hum'\n",
       "\\item 'windspeed'\n",
       "\\item 'casual'\n",
       "\\item 'registered'\n",
       "\\item 'cnt'\n",
       "\\end{enumerate*}\n"
      ],
      "text/markdown": [
       "1. 'instant'\n",
       "2. 'dteday'\n",
       "3. 'season'\n",
       "4. 'yr'\n",
       "5. 'mnth'\n",
       "6. 'hr'\n",
       "7. 'holiday'\n",
       "8. 'weekday'\n",
       "9. 'workingday'\n",
       "10. 'weathersit'\n",
       "11. 'temp'\n",
       "12. 'atemp'\n",
       "13. 'hum'\n",
       "14. 'windspeed'\n",
       "15. 'casual'\n",
       "16. 'registered'\n",
       "17. 'cnt'\n",
       "\n",
       "\n"
      ],
      "text/plain": [
       " [1] \"instant\"    \"dteday\"     \"season\"     \"yr\"         \"mnth\"      \n",
       " [6] \"hr\"         \"holiday\"    \"weekday\"    \"workingday\" \"weathersit\"\n",
       "[11] \"temp\"       \"atemp\"      \"hum\"        \"windspeed\"  \"casual\"    \n",
       "[16] \"registered\" \"cnt\"       "
      ]
     },
     "metadata": {},
     "output_type": "display_data"
    },
    {
     "data": {
      "text/html": [
       "<style>\n",
       ".list-inline {list-style: none; margin:0; padding: 0}\n",
       ".list-inline>li {display: inline-block}\n",
       ".list-inline>li:not(:last-child)::after {content: \"\\00b7\"; padding: 0 .5ex}\n",
       "</style>\n",
       "<ol class=list-inline><li>'instant'</li><li>'date'</li><li>'season'</li><li>'yr'</li><li>'mnth'</li><li>'hr'</li><li>'holiday'</li><li>'weekday'</li><li>'workingday'</li><li>'weathersit'</li><li>'temp'</li><li>'atemp'</li><li>'hum'</li><li>'windspeed'</li><li>'casual'</li><li>'registered'</li><li>'cnt'</li></ol>\n"
      ],
      "text/latex": [
       "\\begin{enumerate*}\n",
       "\\item 'instant'\n",
       "\\item 'date'\n",
       "\\item 'season'\n",
       "\\item 'yr'\n",
       "\\item 'mnth'\n",
       "\\item 'hr'\n",
       "\\item 'holiday'\n",
       "\\item 'weekday'\n",
       "\\item 'workingday'\n",
       "\\item 'weathersit'\n",
       "\\item 'temp'\n",
       "\\item 'atemp'\n",
       "\\item 'hum'\n",
       "\\item 'windspeed'\n",
       "\\item 'casual'\n",
       "\\item 'registered'\n",
       "\\item 'cnt'\n",
       "\\end{enumerate*}\n"
      ],
      "text/markdown": [
       "1. 'instant'\n",
       "2. 'date'\n",
       "3. 'season'\n",
       "4. 'yr'\n",
       "5. 'mnth'\n",
       "6. 'hr'\n",
       "7. 'holiday'\n",
       "8. 'weekday'\n",
       "9. 'workingday'\n",
       "10. 'weathersit'\n",
       "11. 'temp'\n",
       "12. 'atemp'\n",
       "13. 'hum'\n",
       "14. 'windspeed'\n",
       "15. 'casual'\n",
       "16. 'registered'\n",
       "17. 'cnt'\n",
       "\n",
       "\n"
      ],
      "text/plain": [
       " [1] \"instant\"    \"date\"       \"season\"     \"yr\"         \"mnth\"      \n",
       " [6] \"hr\"         \"holiday\"    \"weekday\"    \"workingday\" \"weathersit\"\n",
       "[11] \"temp\"       \"atemp\"      \"hum\"        \"windspeed\"  \"casual\"    \n",
       "[16] \"registered\" \"cnt\"       "
      ]
     },
     "metadata": {},
     "output_type": "display_data"
    }
   ],
   "source": [
    "colnames(bike_df) # to print out the current column names \n",
    "\n",
    "names(bike_df)[2] = \"date\"  # here i am changing the name of the second column\n",
    "\n",
    "colnames(bike_df) # to print out the new column names \n",
    "\n",
    "names(bike_df)[2] = \"dteday\" # here i am changing the name of col 2 back as it is easier and keep it the same as the readme file"
   ]
  },
  {
   "cell_type": "code",
   "execution_count": 196,
   "metadata": {},
   "outputs": [
    {
     "data": {
      "text/html": [
       "<table class=\"dataframe\">\n",
       "<caption>A tibble: 6 × 5</caption>\n",
       "<thead>\n",
       "\t<tr><th scope=col>dteday</th><th scope=col>temp</th><th scope=col>atemp</th><th scope=col>hum</th><th scope=col>windspeed</th></tr>\n",
       "\t<tr><th scope=col>&lt;date&gt;</th><th scope=col>&lt;dbl&gt;</th><th scope=col>&lt;dbl&gt;</th><th scope=col>&lt;dbl&gt;</th><th scope=col>&lt;dbl&gt;</th></tr>\n",
       "</thead>\n",
       "<tbody>\n",
       "\t<tr><td>2011-01-01</td><td>0.24</td><td>0.2879</td><td>0.81</td><td>0.0000</td></tr>\n",
       "\t<tr><td>2011-01-01</td><td>0.22</td><td>0.2727</td><td>0.80</td><td>0.0000</td></tr>\n",
       "\t<tr><td>2011-01-01</td><td>0.22</td><td>0.2727</td><td>0.80</td><td>0.0000</td></tr>\n",
       "\t<tr><td>2011-01-01</td><td>0.24</td><td>0.2879</td><td>0.75</td><td>0.0000</td></tr>\n",
       "\t<tr><td>2011-01-01</td><td>0.24</td><td>0.2879</td><td>0.75</td><td>0.0000</td></tr>\n",
       "\t<tr><td>2011-01-01</td><td>0.24</td><td>0.2576</td><td>0.75</td><td>0.0896</td></tr>\n",
       "</tbody>\n",
       "</table>\n"
      ],
      "text/latex": [
       "A tibble: 6 × 5\n",
       "\\begin{tabular}{lllll}\n",
       " dteday & temp & atemp & hum & windspeed\\\\\n",
       " <date> & <dbl> & <dbl> & <dbl> & <dbl>\\\\\n",
       "\\hline\n",
       "\t 2011-01-01 & 0.24 & 0.2879 & 0.81 & 0.0000\\\\\n",
       "\t 2011-01-01 & 0.22 & 0.2727 & 0.80 & 0.0000\\\\\n",
       "\t 2011-01-01 & 0.22 & 0.2727 & 0.80 & 0.0000\\\\\n",
       "\t 2011-01-01 & 0.24 & 0.2879 & 0.75 & 0.0000\\\\\n",
       "\t 2011-01-01 & 0.24 & 0.2879 & 0.75 & 0.0000\\\\\n",
       "\t 2011-01-01 & 0.24 & 0.2576 & 0.75 & 0.0896\\\\\n",
       "\\end{tabular}\n"
      ],
      "text/markdown": [
       "\n",
       "A tibble: 6 × 5\n",
       "\n",
       "| dteday &lt;date&gt; | temp &lt;dbl&gt; | atemp &lt;dbl&gt; | hum &lt;dbl&gt; | windspeed &lt;dbl&gt; |\n",
       "|---|---|---|---|---|\n",
       "| 2011-01-01 | 0.24 | 0.2879 | 0.81 | 0.0000 |\n",
       "| 2011-01-01 | 0.22 | 0.2727 | 0.80 | 0.0000 |\n",
       "| 2011-01-01 | 0.22 | 0.2727 | 0.80 | 0.0000 |\n",
       "| 2011-01-01 | 0.24 | 0.2879 | 0.75 | 0.0000 |\n",
       "| 2011-01-01 | 0.24 | 0.2879 | 0.75 | 0.0000 |\n",
       "| 2011-01-01 | 0.24 | 0.2576 | 0.75 | 0.0896 |\n",
       "\n"
      ],
      "text/plain": [
       "  dteday     temp atemp  hum  windspeed\n",
       "1 2011-01-01 0.24 0.2879 0.81 0.0000   \n",
       "2 2011-01-01 0.22 0.2727 0.80 0.0000   \n",
       "3 2011-01-01 0.22 0.2727 0.80 0.0000   \n",
       "4 2011-01-01 0.24 0.2879 0.75 0.0000   \n",
       "5 2011-01-01 0.24 0.2879 0.75 0.0000   \n",
       "6 2011-01-01 0.24 0.2576 0.75 0.0896   "
      ]
     },
     "metadata": {},
     "output_type": "display_data"
    }
   ],
   "source": [
    "bike_df %>%\n",
    "  select(dteday, temp, atemp, hum, windspeed) %>% # i am only selecting the columns that are connected to the weather in some way \n",
    "  head() # this is just to show a small amount of the data so not to take up heaps of room with the output "
   ]
  },
  {
   "cell_type": "code",
   "execution_count": 197,
   "metadata": {},
   "outputs": [
    {
     "data": {
      "text/html": [
       "<table class=\"dataframe\">\n",
       "<caption>A tibble: 6 × 17</caption>\n",
       "<thead>\n",
       "\t<tr><th scope=col>instant</th><th scope=col>dteday</th><th scope=col>season</th><th scope=col>yr</th><th scope=col>mnth</th><th scope=col>hr</th><th scope=col>holiday</th><th scope=col>weekday</th><th scope=col>workingday</th><th scope=col>weathersit</th><th scope=col>temp</th><th scope=col>atemp</th><th scope=col>hum</th><th scope=col>windspeed</th><th scope=col>casual</th><th scope=col>registered</th><th scope=col>cnt</th></tr>\n",
       "\t<tr><th scope=col>&lt;dbl&gt;</th><th scope=col>&lt;date&gt;</th><th scope=col>&lt;dbl&gt;</th><th scope=col>&lt;dbl&gt;</th><th scope=col>&lt;dbl&gt;</th><th scope=col>&lt;dbl&gt;</th><th scope=col>&lt;dbl&gt;</th><th scope=col>&lt;dbl&gt;</th><th scope=col>&lt;dbl&gt;</th><th scope=col>&lt;dbl&gt;</th><th scope=col>&lt;dbl&gt;</th><th scope=col>&lt;dbl&gt;</th><th scope=col>&lt;dbl&gt;</th><th scope=col>&lt;dbl&gt;</th><th scope=col>&lt;dbl&gt;</th><th scope=col>&lt;dbl&gt;</th><th scope=col>&lt;dbl&gt;</th></tr>\n",
       "</thead>\n",
       "<tbody>\n",
       "\t<tr><td>1</td><td>2011-01-01</td><td>1</td><td>0</td><td>1</td><td>0</td><td>0</td><td>6</td><td>0</td><td>1</td><td>0.24</td><td>0.2879</td><td>0.81</td><td>0.0000</td><td>3</td><td>13</td><td>16</td></tr>\n",
       "\t<tr><td>2</td><td>2011-01-01</td><td>1</td><td>0</td><td>1</td><td>1</td><td>0</td><td>6</td><td>0</td><td>1</td><td>0.22</td><td>0.2727</td><td>0.80</td><td>0.0000</td><td>8</td><td>32</td><td>40</td></tr>\n",
       "\t<tr><td>3</td><td>2011-01-01</td><td>1</td><td>0</td><td>1</td><td>2</td><td>0</td><td>6</td><td>0</td><td>1</td><td>0.22</td><td>0.2727</td><td>0.80</td><td>0.0000</td><td>5</td><td>27</td><td>32</td></tr>\n",
       "\t<tr><td>4</td><td>2011-01-01</td><td>1</td><td>0</td><td>1</td><td>3</td><td>0</td><td>6</td><td>0</td><td>1</td><td>0.24</td><td>0.2879</td><td>0.75</td><td>0.0000</td><td>3</td><td>10</td><td>13</td></tr>\n",
       "\t<tr><td>5</td><td>2011-01-01</td><td>1</td><td>0</td><td>1</td><td>4</td><td>0</td><td>6</td><td>0</td><td>1</td><td>0.24</td><td>0.2879</td><td>0.75</td><td>0.0000</td><td>0</td><td> 1</td><td> 1</td></tr>\n",
       "\t<tr><td>6</td><td>2011-01-01</td><td>1</td><td>0</td><td>1</td><td>5</td><td>0</td><td>6</td><td>0</td><td>2</td><td>0.24</td><td>0.2576</td><td>0.75</td><td>0.0896</td><td>0</td><td> 1</td><td> 1</td></tr>\n",
       "</tbody>\n",
       "</table>\n"
      ],
      "text/latex": [
       "A tibble: 6 × 17\n",
       "\\begin{tabular}{lllllllllllllllll}\n",
       " instant & dteday & season & yr & mnth & hr & holiday & weekday & workingday & weathersit & temp & atemp & hum & windspeed & casual & registered & cnt\\\\\n",
       " <dbl> & <date> & <dbl> & <dbl> & <dbl> & <dbl> & <dbl> & <dbl> & <dbl> & <dbl> & <dbl> & <dbl> & <dbl> & <dbl> & <dbl> & <dbl> & <dbl>\\\\\n",
       "\\hline\n",
       "\t 1 & 2011-01-01 & 1 & 0 & 1 & 0 & 0 & 6 & 0 & 1 & 0.24 & 0.2879 & 0.81 & 0.0000 & 3 & 13 & 16\\\\\n",
       "\t 2 & 2011-01-01 & 1 & 0 & 1 & 1 & 0 & 6 & 0 & 1 & 0.22 & 0.2727 & 0.80 & 0.0000 & 8 & 32 & 40\\\\\n",
       "\t 3 & 2011-01-01 & 1 & 0 & 1 & 2 & 0 & 6 & 0 & 1 & 0.22 & 0.2727 & 0.80 & 0.0000 & 5 & 27 & 32\\\\\n",
       "\t 4 & 2011-01-01 & 1 & 0 & 1 & 3 & 0 & 6 & 0 & 1 & 0.24 & 0.2879 & 0.75 & 0.0000 & 3 & 10 & 13\\\\\n",
       "\t 5 & 2011-01-01 & 1 & 0 & 1 & 4 & 0 & 6 & 0 & 1 & 0.24 & 0.2879 & 0.75 & 0.0000 & 0 &  1 &  1\\\\\n",
       "\t 6 & 2011-01-01 & 1 & 0 & 1 & 5 & 0 & 6 & 0 & 2 & 0.24 & 0.2576 & 0.75 & 0.0896 & 0 &  1 &  1\\\\\n",
       "\\end{tabular}\n"
      ],
      "text/markdown": [
       "\n",
       "A tibble: 6 × 17\n",
       "\n",
       "| instant &lt;dbl&gt; | dteday &lt;date&gt; | season &lt;dbl&gt; | yr &lt;dbl&gt; | mnth &lt;dbl&gt; | hr &lt;dbl&gt; | holiday &lt;dbl&gt; | weekday &lt;dbl&gt; | workingday &lt;dbl&gt; | weathersit &lt;dbl&gt; | temp &lt;dbl&gt; | atemp &lt;dbl&gt; | hum &lt;dbl&gt; | windspeed &lt;dbl&gt; | casual &lt;dbl&gt; | registered &lt;dbl&gt; | cnt &lt;dbl&gt; |\n",
       "|---|---|---|---|---|---|---|---|---|---|---|---|---|---|---|---|---|\n",
       "| 1 | 2011-01-01 | 1 | 0 | 1 | 0 | 0 | 6 | 0 | 1 | 0.24 | 0.2879 | 0.81 | 0.0000 | 3 | 13 | 16 |\n",
       "| 2 | 2011-01-01 | 1 | 0 | 1 | 1 | 0 | 6 | 0 | 1 | 0.22 | 0.2727 | 0.80 | 0.0000 | 8 | 32 | 40 |\n",
       "| 3 | 2011-01-01 | 1 | 0 | 1 | 2 | 0 | 6 | 0 | 1 | 0.22 | 0.2727 | 0.80 | 0.0000 | 5 | 27 | 32 |\n",
       "| 4 | 2011-01-01 | 1 | 0 | 1 | 3 | 0 | 6 | 0 | 1 | 0.24 | 0.2879 | 0.75 | 0.0000 | 3 | 10 | 13 |\n",
       "| 5 | 2011-01-01 | 1 | 0 | 1 | 4 | 0 | 6 | 0 | 1 | 0.24 | 0.2879 | 0.75 | 0.0000 | 0 |  1 |  1 |\n",
       "| 6 | 2011-01-01 | 1 | 0 | 1 | 5 | 0 | 6 | 0 | 2 | 0.24 | 0.2576 | 0.75 | 0.0896 | 0 |  1 |  1 |\n",
       "\n"
      ],
      "text/plain": [
       "  instant dteday     season yr mnth hr holiday weekday workingday weathersit\n",
       "1 1       2011-01-01 1      0  1    0  0       6       0          1         \n",
       "2 2       2011-01-01 1      0  1    1  0       6       0          1         \n",
       "3 3       2011-01-01 1      0  1    2  0       6       0          1         \n",
       "4 4       2011-01-01 1      0  1    3  0       6       0          1         \n",
       "5 5       2011-01-01 1      0  1    4  0       6       0          1         \n",
       "6 6       2011-01-01 1      0  1    5  0       6       0          2         \n",
       "  temp atemp  hum  windspeed casual registered cnt\n",
       "1 0.24 0.2879 0.81 0.0000    3      13         16 \n",
       "2 0.22 0.2727 0.80 0.0000    8      32         40 \n",
       "3 0.22 0.2727 0.80 0.0000    5      27         32 \n",
       "4 0.24 0.2879 0.75 0.0000    3      10         13 \n",
       "5 0.24 0.2879 0.75 0.0000    0       1          1 \n",
       "6 0.24 0.2576 0.75 0.0896    0       1          1 "
      ]
     },
     "metadata": {},
     "output_type": "display_data"
    },
    {
     "data": {
      "text/html": [
       "<table class=\"dataframe\">\n",
       "<caption>A tibble: 6 × 17</caption>\n",
       "<thead>\n",
       "\t<tr><th scope=col>dteday</th><th scope=col>instant</th><th scope=col>yr</th><th scope=col>season</th><th scope=col>hr</th><th scope=col>mnth</th><th scope=col>weekday</th><th scope=col>holiday</th><th scope=col>weathersit</th><th scope=col>workingday</th><th scope=col>temp</th><th scope=col>atemp</th><th scope=col>hum</th><th scope=col>windspeed</th><th scope=col>casual</th><th scope=col>registered</th><th scope=col>cnt</th></tr>\n",
       "\t<tr><th scope=col>&lt;date&gt;</th><th scope=col>&lt;dbl&gt;</th><th scope=col>&lt;dbl&gt;</th><th scope=col>&lt;dbl&gt;</th><th scope=col>&lt;dbl&gt;</th><th scope=col>&lt;dbl&gt;</th><th scope=col>&lt;dbl&gt;</th><th scope=col>&lt;dbl&gt;</th><th scope=col>&lt;dbl&gt;</th><th scope=col>&lt;dbl&gt;</th><th scope=col>&lt;dbl&gt;</th><th scope=col>&lt;dbl&gt;</th><th scope=col>&lt;dbl&gt;</th><th scope=col>&lt;dbl&gt;</th><th scope=col>&lt;dbl&gt;</th><th scope=col>&lt;dbl&gt;</th><th scope=col>&lt;dbl&gt;</th></tr>\n",
       "</thead>\n",
       "<tbody>\n",
       "\t<tr><td>2011-01-01</td><td>1</td><td>0</td><td>1</td><td>0</td><td>1</td><td>6</td><td>0</td><td>1</td><td>0</td><td>0.24</td><td>0.2879</td><td>0.81</td><td>0.0000</td><td>3</td><td>13</td><td>16</td></tr>\n",
       "\t<tr><td>2011-01-01</td><td>2</td><td>0</td><td>1</td><td>1</td><td>1</td><td>6</td><td>0</td><td>1</td><td>0</td><td>0.22</td><td>0.2727</td><td>0.80</td><td>0.0000</td><td>8</td><td>32</td><td>40</td></tr>\n",
       "\t<tr><td>2011-01-01</td><td>3</td><td>0</td><td>1</td><td>2</td><td>1</td><td>6</td><td>0</td><td>1</td><td>0</td><td>0.22</td><td>0.2727</td><td>0.80</td><td>0.0000</td><td>5</td><td>27</td><td>32</td></tr>\n",
       "\t<tr><td>2011-01-01</td><td>4</td><td>0</td><td>1</td><td>3</td><td>1</td><td>6</td><td>0</td><td>1</td><td>0</td><td>0.24</td><td>0.2879</td><td>0.75</td><td>0.0000</td><td>3</td><td>10</td><td>13</td></tr>\n",
       "\t<tr><td>2011-01-01</td><td>5</td><td>0</td><td>1</td><td>4</td><td>1</td><td>6</td><td>0</td><td>1</td><td>0</td><td>0.24</td><td>0.2879</td><td>0.75</td><td>0.0000</td><td>0</td><td> 1</td><td> 1</td></tr>\n",
       "\t<tr><td>2011-01-01</td><td>6</td><td>0</td><td>1</td><td>5</td><td>1</td><td>6</td><td>0</td><td>2</td><td>0</td><td>0.24</td><td>0.2576</td><td>0.75</td><td>0.0896</td><td>0</td><td> 1</td><td> 1</td></tr>\n",
       "</tbody>\n",
       "</table>\n"
      ],
      "text/latex": [
       "A tibble: 6 × 17\n",
       "\\begin{tabular}{lllllllllllllllll}\n",
       " dteday & instant & yr & season & hr & mnth & weekday & holiday & weathersit & workingday & temp & atemp & hum & windspeed & casual & registered & cnt\\\\\n",
       " <date> & <dbl> & <dbl> & <dbl> & <dbl> & <dbl> & <dbl> & <dbl> & <dbl> & <dbl> & <dbl> & <dbl> & <dbl> & <dbl> & <dbl> & <dbl> & <dbl>\\\\\n",
       "\\hline\n",
       "\t 2011-01-01 & 1 & 0 & 1 & 0 & 1 & 6 & 0 & 1 & 0 & 0.24 & 0.2879 & 0.81 & 0.0000 & 3 & 13 & 16\\\\\n",
       "\t 2011-01-01 & 2 & 0 & 1 & 1 & 1 & 6 & 0 & 1 & 0 & 0.22 & 0.2727 & 0.80 & 0.0000 & 8 & 32 & 40\\\\\n",
       "\t 2011-01-01 & 3 & 0 & 1 & 2 & 1 & 6 & 0 & 1 & 0 & 0.22 & 0.2727 & 0.80 & 0.0000 & 5 & 27 & 32\\\\\n",
       "\t 2011-01-01 & 4 & 0 & 1 & 3 & 1 & 6 & 0 & 1 & 0 & 0.24 & 0.2879 & 0.75 & 0.0000 & 3 & 10 & 13\\\\\n",
       "\t 2011-01-01 & 5 & 0 & 1 & 4 & 1 & 6 & 0 & 1 & 0 & 0.24 & 0.2879 & 0.75 & 0.0000 & 0 &  1 &  1\\\\\n",
       "\t 2011-01-01 & 6 & 0 & 1 & 5 & 1 & 6 & 0 & 2 & 0 & 0.24 & 0.2576 & 0.75 & 0.0896 & 0 &  1 &  1\\\\\n",
       "\\end{tabular}\n"
      ],
      "text/markdown": [
       "\n",
       "A tibble: 6 × 17\n",
       "\n",
       "| dteday &lt;date&gt; | instant &lt;dbl&gt; | yr &lt;dbl&gt; | season &lt;dbl&gt; | hr &lt;dbl&gt; | mnth &lt;dbl&gt; | weekday &lt;dbl&gt; | holiday &lt;dbl&gt; | weathersit &lt;dbl&gt; | workingday &lt;dbl&gt; | temp &lt;dbl&gt; | atemp &lt;dbl&gt; | hum &lt;dbl&gt; | windspeed &lt;dbl&gt; | casual &lt;dbl&gt; | registered &lt;dbl&gt; | cnt &lt;dbl&gt; |\n",
       "|---|---|---|---|---|---|---|---|---|---|---|---|---|---|---|---|---|\n",
       "| 2011-01-01 | 1 | 0 | 1 | 0 | 1 | 6 | 0 | 1 | 0 | 0.24 | 0.2879 | 0.81 | 0.0000 | 3 | 13 | 16 |\n",
       "| 2011-01-01 | 2 | 0 | 1 | 1 | 1 | 6 | 0 | 1 | 0 | 0.22 | 0.2727 | 0.80 | 0.0000 | 8 | 32 | 40 |\n",
       "| 2011-01-01 | 3 | 0 | 1 | 2 | 1 | 6 | 0 | 1 | 0 | 0.22 | 0.2727 | 0.80 | 0.0000 | 5 | 27 | 32 |\n",
       "| 2011-01-01 | 4 | 0 | 1 | 3 | 1 | 6 | 0 | 1 | 0 | 0.24 | 0.2879 | 0.75 | 0.0000 | 3 | 10 | 13 |\n",
       "| 2011-01-01 | 5 | 0 | 1 | 4 | 1 | 6 | 0 | 1 | 0 | 0.24 | 0.2879 | 0.75 | 0.0000 | 0 |  1 |  1 |\n",
       "| 2011-01-01 | 6 | 0 | 1 | 5 | 1 | 6 | 0 | 2 | 0 | 0.24 | 0.2576 | 0.75 | 0.0896 | 0 |  1 |  1 |\n",
       "\n"
      ],
      "text/plain": [
       "  dteday     instant yr season hr mnth weekday holiday weathersit workingday\n",
       "1 2011-01-01 1       0  1      0  1    6       0       1          0         \n",
       "2 2011-01-01 2       0  1      1  1    6       0       1          0         \n",
       "3 2011-01-01 3       0  1      2  1    6       0       1          0         \n",
       "4 2011-01-01 4       0  1      3  1    6       0       1          0         \n",
       "5 2011-01-01 5       0  1      4  1    6       0       1          0         \n",
       "6 2011-01-01 6       0  1      5  1    6       0       2          0         \n",
       "  temp atemp  hum  windspeed casual registered cnt\n",
       "1 0.24 0.2879 0.81 0.0000    3      13         16 \n",
       "2 0.22 0.2727 0.80 0.0000    8      32         40 \n",
       "3 0.22 0.2727 0.80 0.0000    5      27         32 \n",
       "4 0.24 0.2879 0.75 0.0000    3      10         13 \n",
       "5 0.24 0.2879 0.75 0.0000    0       1          1 \n",
       "6 0.24 0.2576 0.75 0.0896    0       1          1 "
      ]
     },
     "metadata": {},
     "output_type": "display_data"
    }
   ],
   "source": [
    "bike_df %>% # to show what the current order of the columns are\n",
    "  head()  # to show a small amount of the data so not to take up heaps of room with the output\n",
    "\n",
    "bike_df <- bike_df[, c(2,1,4,3,6,5,8,7,10,9,11,12,13,14,15,16,17)]  # this will change the order of the columns\n",
    "\n",
    "bike_df %>% #to show what the new order of the columns are\n",
    "  head() #to show a small amount of the data so not to take up heaps of room with the output\n",
    "\n",
    "\n",
    "bike_df <- bike_df[, c(2,1,4,3,6,5,8,7,10,9,11,12,13,14,15,16,17)]  # this is so that the data will go back to the order that i got to keep it the same as the readme file"
   ]
  },
  {
   "cell_type": "markdown",
   "metadata": {
    "tags": []
   },
   "source": [
    "### Task (d): groups and not (10 marks)\n",
    "\n",
    "Working on `bike_df`, show that you can produce new variables (columns) and modify existing one; show also that you can operate on the dataframe as a whole and on groups. See *Readme.txt* to get an understanding of the variable scaling applied.\n",
    "\n",
    "_hint_ useful functions: `mutate()`, `group_by()`, `summarise()`, `tally()`, ..."
   ]
  },
  {
   "cell_type": "code",
   "execution_count": 198,
   "metadata": {},
   "outputs": [
    {
     "data": {
      "text/html": [
       "<table class=\"dataframe\">\n",
       "<caption>A tibble: 6 × 19</caption>\n",
       "<thead>\n",
       "\t<tr><th scope=col>instant</th><th scope=col>dteday</th><th scope=col>season</th><th scope=col>yr</th><th scope=col>mnth</th><th scope=col>hr</th><th scope=col>holiday</th><th scope=col>weekday</th><th scope=col>workingday</th><th scope=col>weathersit</th><th scope=col>temp</th><th scope=col>atemp</th><th scope=col>hum</th><th scope=col>windspeed</th><th scope=col>casual</th><th scope=col>registered</th><th scope=col>cnt</th><th scope=col>casual_%</th><th scope=col>registered_%</th></tr>\n",
       "\t<tr><th scope=col>&lt;dbl&gt;</th><th scope=col>&lt;date&gt;</th><th scope=col>&lt;dbl&gt;</th><th scope=col>&lt;dbl&gt;</th><th scope=col>&lt;dbl&gt;</th><th scope=col>&lt;dbl&gt;</th><th scope=col>&lt;dbl&gt;</th><th scope=col>&lt;dbl&gt;</th><th scope=col>&lt;dbl&gt;</th><th scope=col>&lt;dbl&gt;</th><th scope=col>&lt;dbl&gt;</th><th scope=col>&lt;dbl&gt;</th><th scope=col>&lt;dbl&gt;</th><th scope=col>&lt;dbl&gt;</th><th scope=col>&lt;dbl&gt;</th><th scope=col>&lt;dbl&gt;</th><th scope=col>&lt;dbl&gt;</th><th scope=col>&lt;dbl&gt;</th><th scope=col>&lt;dbl&gt;</th></tr>\n",
       "</thead>\n",
       "<tbody>\n",
       "\t<tr><td>1</td><td>2011-01-01</td><td>1</td><td>0</td><td>1</td><td>0</td><td>0</td><td>6</td><td>0</td><td>1</td><td>0.24</td><td>0.2879</td><td>0.81</td><td>0.0000</td><td>3</td><td>13</td><td>16</td><td>18.75000</td><td> 81.25000</td></tr>\n",
       "\t<tr><td>2</td><td>2011-01-01</td><td>1</td><td>0</td><td>1</td><td>1</td><td>0</td><td>6</td><td>0</td><td>1</td><td>0.22</td><td>0.2727</td><td>0.80</td><td>0.0000</td><td>8</td><td>32</td><td>40</td><td>20.00000</td><td> 80.00000</td></tr>\n",
       "\t<tr><td>3</td><td>2011-01-01</td><td>1</td><td>0</td><td>1</td><td>2</td><td>0</td><td>6</td><td>0</td><td>1</td><td>0.22</td><td>0.2727</td><td>0.80</td><td>0.0000</td><td>5</td><td>27</td><td>32</td><td>15.62500</td><td> 84.37500</td></tr>\n",
       "\t<tr><td>4</td><td>2011-01-01</td><td>1</td><td>0</td><td>1</td><td>3</td><td>0</td><td>6</td><td>0</td><td>1</td><td>0.24</td><td>0.2879</td><td>0.75</td><td>0.0000</td><td>3</td><td>10</td><td>13</td><td>23.07692</td><td> 76.92308</td></tr>\n",
       "\t<tr><td>5</td><td>2011-01-01</td><td>1</td><td>0</td><td>1</td><td>4</td><td>0</td><td>6</td><td>0</td><td>1</td><td>0.24</td><td>0.2879</td><td>0.75</td><td>0.0000</td><td>0</td><td> 1</td><td> 1</td><td> 0.00000</td><td>100.00000</td></tr>\n",
       "\t<tr><td>6</td><td>2011-01-01</td><td>1</td><td>0</td><td>1</td><td>5</td><td>0</td><td>6</td><td>0</td><td>2</td><td>0.24</td><td>0.2576</td><td>0.75</td><td>0.0896</td><td>0</td><td> 1</td><td> 1</td><td> 0.00000</td><td>100.00000</td></tr>\n",
       "</tbody>\n",
       "</table>\n"
      ],
      "text/latex": [
       "A tibble: 6 × 19\n",
       "\\begin{tabular}{lllllllllllllllllll}\n",
       " instant & dteday & season & yr & mnth & hr & holiday & weekday & workingday & weathersit & temp & atemp & hum & windspeed & casual & registered & cnt & casual\\_\\% & registered\\_\\%\\\\\n",
       " <dbl> & <date> & <dbl> & <dbl> & <dbl> & <dbl> & <dbl> & <dbl> & <dbl> & <dbl> & <dbl> & <dbl> & <dbl> & <dbl> & <dbl> & <dbl> & <dbl> & <dbl> & <dbl>\\\\\n",
       "\\hline\n",
       "\t 1 & 2011-01-01 & 1 & 0 & 1 & 0 & 0 & 6 & 0 & 1 & 0.24 & 0.2879 & 0.81 & 0.0000 & 3 & 13 & 16 & 18.75000 &  81.25000\\\\\n",
       "\t 2 & 2011-01-01 & 1 & 0 & 1 & 1 & 0 & 6 & 0 & 1 & 0.22 & 0.2727 & 0.80 & 0.0000 & 8 & 32 & 40 & 20.00000 &  80.00000\\\\\n",
       "\t 3 & 2011-01-01 & 1 & 0 & 1 & 2 & 0 & 6 & 0 & 1 & 0.22 & 0.2727 & 0.80 & 0.0000 & 5 & 27 & 32 & 15.62500 &  84.37500\\\\\n",
       "\t 4 & 2011-01-01 & 1 & 0 & 1 & 3 & 0 & 6 & 0 & 1 & 0.24 & 0.2879 & 0.75 & 0.0000 & 3 & 10 & 13 & 23.07692 &  76.92308\\\\\n",
       "\t 5 & 2011-01-01 & 1 & 0 & 1 & 4 & 0 & 6 & 0 & 1 & 0.24 & 0.2879 & 0.75 & 0.0000 & 0 &  1 &  1 &  0.00000 & 100.00000\\\\\n",
       "\t 6 & 2011-01-01 & 1 & 0 & 1 & 5 & 0 & 6 & 0 & 2 & 0.24 & 0.2576 & 0.75 & 0.0896 & 0 &  1 &  1 &  0.00000 & 100.00000\\\\\n",
       "\\end{tabular}\n"
      ],
      "text/markdown": [
       "\n",
       "A tibble: 6 × 19\n",
       "\n",
       "| instant &lt;dbl&gt; | dteday &lt;date&gt; | season &lt;dbl&gt; | yr &lt;dbl&gt; | mnth &lt;dbl&gt; | hr &lt;dbl&gt; | holiday &lt;dbl&gt; | weekday &lt;dbl&gt; | workingday &lt;dbl&gt; | weathersit &lt;dbl&gt; | temp &lt;dbl&gt; | atemp &lt;dbl&gt; | hum &lt;dbl&gt; | windspeed &lt;dbl&gt; | casual &lt;dbl&gt; | registered &lt;dbl&gt; | cnt &lt;dbl&gt; | casual_% &lt;dbl&gt; | registered_% &lt;dbl&gt; |\n",
       "|---|---|---|---|---|---|---|---|---|---|---|---|---|---|---|---|---|---|---|\n",
       "| 1 | 2011-01-01 | 1 | 0 | 1 | 0 | 0 | 6 | 0 | 1 | 0.24 | 0.2879 | 0.81 | 0.0000 | 3 | 13 | 16 | 18.75000 |  81.25000 |\n",
       "| 2 | 2011-01-01 | 1 | 0 | 1 | 1 | 0 | 6 | 0 | 1 | 0.22 | 0.2727 | 0.80 | 0.0000 | 8 | 32 | 40 | 20.00000 |  80.00000 |\n",
       "| 3 | 2011-01-01 | 1 | 0 | 1 | 2 | 0 | 6 | 0 | 1 | 0.22 | 0.2727 | 0.80 | 0.0000 | 5 | 27 | 32 | 15.62500 |  84.37500 |\n",
       "| 4 | 2011-01-01 | 1 | 0 | 1 | 3 | 0 | 6 | 0 | 1 | 0.24 | 0.2879 | 0.75 | 0.0000 | 3 | 10 | 13 | 23.07692 |  76.92308 |\n",
       "| 5 | 2011-01-01 | 1 | 0 | 1 | 4 | 0 | 6 | 0 | 1 | 0.24 | 0.2879 | 0.75 | 0.0000 | 0 |  1 |  1 |  0.00000 | 100.00000 |\n",
       "| 6 | 2011-01-01 | 1 | 0 | 1 | 5 | 0 | 6 | 0 | 2 | 0.24 | 0.2576 | 0.75 | 0.0896 | 0 |  1 |  1 |  0.00000 | 100.00000 |\n",
       "\n"
      ],
      "text/plain": [
       "  instant dteday     season yr mnth hr holiday weekday workingday weathersit\n",
       "1 1       2011-01-01 1      0  1    0  0       6       0          1         \n",
       "2 2       2011-01-01 1      0  1    1  0       6       0          1         \n",
       "3 3       2011-01-01 1      0  1    2  0       6       0          1         \n",
       "4 4       2011-01-01 1      0  1    3  0       6       0          1         \n",
       "5 5       2011-01-01 1      0  1    4  0       6       0          1         \n",
       "6 6       2011-01-01 1      0  1    5  0       6       0          2         \n",
       "  temp atemp  hum  windspeed casual registered cnt casual_% registered_%\n",
       "1 0.24 0.2879 0.81 0.0000    3      13         16  18.75000  81.25000   \n",
       "2 0.22 0.2727 0.80 0.0000    8      32         40  20.00000  80.00000   \n",
       "3 0.22 0.2727 0.80 0.0000    5      27         32  15.62500  84.37500   \n",
       "4 0.24 0.2879 0.75 0.0000    3      10         13  23.07692  76.92308   \n",
       "5 0.24 0.2879 0.75 0.0000    0       1          1   0.00000 100.00000   \n",
       "6 0.24 0.2576 0.75 0.0896    0       1          1   0.00000 100.00000   "
      ]
     },
     "metadata": {},
     "output_type": "display_data"
    }
   ],
   "source": [
    "bike_df <- bike_df %>% # here i am adding in a new col with the percentage of casual riders \n",
    "  mutate(\"casual_%\" = (casual/cnt)*100)\n",
    "\n",
    "bike_df <- bike_df %>% # here i am adding in a new col with the percentage of reg riders \n",
    "  mutate(\"registered_%\" = (registered/cnt)*100)\n",
    "\n",
    "bike_df %>%\n",
    "  head() #to show a small amount of the data so not to take up heaps of room with the output\n",
    "\n",
    "#dropping the two columns that i made so it stays the same as the readme file\n",
    "bike_df <- bike_df[,-c(18,19)]"
   ]
  },
  {
   "cell_type": "code",
   "execution_count": 199,
   "metadata": {},
   "outputs": [
    {
     "data": {
      "text/html": [
       "<table class=\"dataframe\">\n",
       "<caption>A tibble: 12 × 2</caption>\n",
       "<thead>\n",
       "\t<tr><th scope=col>mnth</th><th scope=col>median_windspeed</th></tr>\n",
       "\t<tr><th scope=col>&lt;dbl&gt;</th><th scope=col>&lt;dbl&gt;</th></tr>\n",
       "</thead>\n",
       "<tbody>\n",
       "\t<tr><td> 1</td><td>0.1940</td></tr>\n",
       "\t<tr><td> 2</td><td>0.1940</td></tr>\n",
       "\t<tr><td> 3</td><td>0.2239</td></tr>\n",
       "\t<tr><td> 4</td><td>0.2239</td></tr>\n",
       "\t<tr><td> 5</td><td>0.1642</td></tr>\n",
       "\t<tr><td> 6</td><td>0.1642</td></tr>\n",
       "\t<tr><td> 7</td><td>0.1642</td></tr>\n",
       "\t<tr><td> 8</td><td>0.1642</td></tr>\n",
       "\t<tr><td> 9</td><td>0.1642</td></tr>\n",
       "\t<tr><td>10</td><td>0.1642</td></tr>\n",
       "\t<tr><td>11</td><td>0.1642</td></tr>\n",
       "\t<tr><td>12</td><td>0.1642</td></tr>\n",
       "</tbody>\n",
       "</table>\n"
      ],
      "text/latex": [
       "A tibble: 12 × 2\n",
       "\\begin{tabular}{ll}\n",
       " mnth & median\\_windspeed\\\\\n",
       " <dbl> & <dbl>\\\\\n",
       "\\hline\n",
       "\t  1 & 0.1940\\\\\n",
       "\t  2 & 0.1940\\\\\n",
       "\t  3 & 0.2239\\\\\n",
       "\t  4 & 0.2239\\\\\n",
       "\t  5 & 0.1642\\\\\n",
       "\t  6 & 0.1642\\\\\n",
       "\t  7 & 0.1642\\\\\n",
       "\t  8 & 0.1642\\\\\n",
       "\t  9 & 0.1642\\\\\n",
       "\t 10 & 0.1642\\\\\n",
       "\t 11 & 0.1642\\\\\n",
       "\t 12 & 0.1642\\\\\n",
       "\\end{tabular}\n"
      ],
      "text/markdown": [
       "\n",
       "A tibble: 12 × 2\n",
       "\n",
       "| mnth &lt;dbl&gt; | median_windspeed &lt;dbl&gt; |\n",
       "|---|---|\n",
       "|  1 | 0.1940 |\n",
       "|  2 | 0.1940 |\n",
       "|  3 | 0.2239 |\n",
       "|  4 | 0.2239 |\n",
       "|  5 | 0.1642 |\n",
       "|  6 | 0.1642 |\n",
       "|  7 | 0.1642 |\n",
       "|  8 | 0.1642 |\n",
       "|  9 | 0.1642 |\n",
       "| 10 | 0.1642 |\n",
       "| 11 | 0.1642 |\n",
       "| 12 | 0.1642 |\n",
       "\n"
      ],
      "text/plain": [
       "   mnth median_windspeed\n",
       "1   1   0.1940          \n",
       "2   2   0.1940          \n",
       "3   3   0.2239          \n",
       "4   4   0.2239          \n",
       "5   5   0.1642          \n",
       "6   6   0.1642          \n",
       "7   7   0.1642          \n",
       "8   8   0.1642          \n",
       "9   9   0.1642          \n",
       "10 10   0.1642          \n",
       "11 11   0.1642          \n",
       "12 12   0.1642          "
      ]
     },
     "metadata": {},
     "output_type": "display_data"
    }
   ],
   "source": [
    "bike_df %>% \n",
    "  group_by(mnth) %>% # grouping my month\n",
    "  summarise(median_windspeed = median(windspeed)) # making a new col of median_windseed and summarising it "
   ]
  },
  {
   "cell_type": "markdown",
   "metadata": {
    "tags": []
   },
   "source": [
    "### Task (e): wide, long, tidy (10 marks)\n",
    "\n",
    "Show that you can go back and forth between the long and the wide format of a dataframe. Then produce a tidy version of `bike_df` (or, if you think the original one is is already in the tidy data shape, explain why).\n",
    "\n",
    "_hint_ useful functions: `spread()`, `gather()`, `na.omit()`, ..."
   ]
  },
  {
   "cell_type": "code",
   "execution_count": 203,
   "metadata": {},
   "outputs": [
    {
     "data": {
      "text/html": [
       "<table class=\"dataframe\">\n",
       "<caption>A tibble: 260685 × 4</caption>\n",
       "<thead>\n",
       "\t<tr><th scope=col>instant</th><th scope=col>dteday</th><th scope=col>condition</th><th scope=col>measurement</th></tr>\n",
       "\t<tr><th scope=col>&lt;dbl&gt;</th><th scope=col>&lt;date&gt;</th><th scope=col>&lt;chr&gt;</th><th scope=col>&lt;dbl&gt;</th></tr>\n",
       "</thead>\n",
       "<tbody>\n",
       "\t<tr><td> 1</td><td>2011-01-01</td><td>season</td><td>1</td></tr>\n",
       "\t<tr><td> 2</td><td>2011-01-01</td><td>season</td><td>1</td></tr>\n",
       "\t<tr><td> 3</td><td>2011-01-01</td><td>season</td><td>1</td></tr>\n",
       "\t<tr><td> 4</td><td>2011-01-01</td><td>season</td><td>1</td></tr>\n",
       "\t<tr><td> 5</td><td>2011-01-01</td><td>season</td><td>1</td></tr>\n",
       "\t<tr><td> 6</td><td>2011-01-01</td><td>season</td><td>1</td></tr>\n",
       "\t<tr><td> 7</td><td>2011-01-01</td><td>season</td><td>1</td></tr>\n",
       "\t<tr><td> 8</td><td>2011-01-01</td><td>season</td><td>1</td></tr>\n",
       "\t<tr><td> 9</td><td>2011-01-01</td><td>season</td><td>1</td></tr>\n",
       "\t<tr><td>10</td><td>2011-01-01</td><td>season</td><td>1</td></tr>\n",
       "\t<tr><td>11</td><td>2011-01-01</td><td>season</td><td>1</td></tr>\n",
       "\t<tr><td>12</td><td>2011-01-01</td><td>season</td><td>1</td></tr>\n",
       "\t<tr><td>13</td><td>2011-01-01</td><td>season</td><td>1</td></tr>\n",
       "\t<tr><td>14</td><td>2011-01-01</td><td>season</td><td>1</td></tr>\n",
       "\t<tr><td>15</td><td>2011-01-01</td><td>season</td><td>1</td></tr>\n",
       "\t<tr><td>16</td><td>2011-01-01</td><td>season</td><td>1</td></tr>\n",
       "\t<tr><td>17</td><td>2011-01-01</td><td>season</td><td>1</td></tr>\n",
       "\t<tr><td>18</td><td>2011-01-01</td><td>season</td><td>1</td></tr>\n",
       "\t<tr><td>19</td><td>2011-01-01</td><td>season</td><td>1</td></tr>\n",
       "\t<tr><td>20</td><td>2011-01-01</td><td>season</td><td>1</td></tr>\n",
       "\t<tr><td>21</td><td>2011-01-01</td><td>season</td><td>1</td></tr>\n",
       "\t<tr><td>22</td><td>2011-01-01</td><td>season</td><td>1</td></tr>\n",
       "\t<tr><td>23</td><td>2011-01-01</td><td>season</td><td>1</td></tr>\n",
       "\t<tr><td>24</td><td>2011-01-01</td><td>season</td><td>1</td></tr>\n",
       "\t<tr><td>25</td><td>2011-01-02</td><td>season</td><td>1</td></tr>\n",
       "\t<tr><td>26</td><td>2011-01-02</td><td>season</td><td>1</td></tr>\n",
       "\t<tr><td>27</td><td>2011-01-02</td><td>season</td><td>1</td></tr>\n",
       "\t<tr><td>28</td><td>2011-01-02</td><td>season</td><td>1</td></tr>\n",
       "\t<tr><td>29</td><td>2011-01-02</td><td>season</td><td>1</td></tr>\n",
       "\t<tr><td>30</td><td>2011-01-02</td><td>season</td><td>1</td></tr>\n",
       "\t<tr><td>⋮</td><td>⋮</td><td>⋮</td><td>⋮</td></tr>\n",
       "\t<tr><td>17350</td><td>2012-12-30</td><td>cnt</td><td>125</td></tr>\n",
       "\t<tr><td>17351</td><td>2012-12-30</td><td>cnt</td><td>102</td></tr>\n",
       "\t<tr><td>17352</td><td>2012-12-30</td><td>cnt</td><td> 72</td></tr>\n",
       "\t<tr><td>17353</td><td>2012-12-30</td><td>cnt</td><td> 47</td></tr>\n",
       "\t<tr><td>17354</td><td>2012-12-30</td><td>cnt</td><td> 36</td></tr>\n",
       "\t<tr><td>17355</td><td>2012-12-30</td><td>cnt</td><td> 49</td></tr>\n",
       "\t<tr><td>17356</td><td>2012-12-31</td><td>cnt</td><td> 34</td></tr>\n",
       "\t<tr><td>17357</td><td>2012-12-31</td><td>cnt</td><td> 19</td></tr>\n",
       "\t<tr><td>17358</td><td>2012-12-31</td><td>cnt</td><td> 11</td></tr>\n",
       "\t<tr><td>17359</td><td>2012-12-31</td><td>cnt</td><td>  1</td></tr>\n",
       "\t<tr><td>17360</td><td>2012-12-31</td><td>cnt</td><td>  3</td></tr>\n",
       "\t<tr><td>17361</td><td>2012-12-31</td><td>cnt</td><td>  9</td></tr>\n",
       "\t<tr><td>17362</td><td>2012-12-31</td><td>cnt</td><td> 40</td></tr>\n",
       "\t<tr><td>17363</td><td>2012-12-31</td><td>cnt</td><td> 85</td></tr>\n",
       "\t<tr><td>17364</td><td>2012-12-31</td><td>cnt</td><td>196</td></tr>\n",
       "\t<tr><td>17365</td><td>2012-12-31</td><td>cnt</td><td>157</td></tr>\n",
       "\t<tr><td>17366</td><td>2012-12-31</td><td>cnt</td><td>120</td></tr>\n",
       "\t<tr><td>17367</td><td>2012-12-31</td><td>cnt</td><td>157</td></tr>\n",
       "\t<tr><td>17368</td><td>2012-12-31</td><td>cnt</td><td>224</td></tr>\n",
       "\t<tr><td>17369</td><td>2012-12-31</td><td>cnt</td><td>203</td></tr>\n",
       "\t<tr><td>17370</td><td>2012-12-31</td><td>cnt</td><td>247</td></tr>\n",
       "\t<tr><td>17371</td><td>2012-12-31</td><td>cnt</td><td>315</td></tr>\n",
       "\t<tr><td>17372</td><td>2012-12-31</td><td>cnt</td><td>214</td></tr>\n",
       "\t<tr><td>17373</td><td>2012-12-31</td><td>cnt</td><td>164</td></tr>\n",
       "\t<tr><td>17374</td><td>2012-12-31</td><td>cnt</td><td>122</td></tr>\n",
       "\t<tr><td>17375</td><td>2012-12-31</td><td>cnt</td><td>119</td></tr>\n",
       "\t<tr><td>17376</td><td>2012-12-31</td><td>cnt</td><td> 89</td></tr>\n",
       "\t<tr><td>17377</td><td>2012-12-31</td><td>cnt</td><td> 90</td></tr>\n",
       "\t<tr><td>17378</td><td>2012-12-31</td><td>cnt</td><td> 61</td></tr>\n",
       "\t<tr><td>17379</td><td>2012-12-31</td><td>cnt</td><td> 49</td></tr>\n",
       "</tbody>\n",
       "</table>\n"
      ],
      "text/latex": [
       "A tibble: 260685 × 4\n",
       "\\begin{tabular}{llll}\n",
       " instant & dteday & condition & measurement\\\\\n",
       " <dbl> & <date> & <chr> & <dbl>\\\\\n",
       "\\hline\n",
       "\t  1 & 2011-01-01 & season & 1\\\\\n",
       "\t  2 & 2011-01-01 & season & 1\\\\\n",
       "\t  3 & 2011-01-01 & season & 1\\\\\n",
       "\t  4 & 2011-01-01 & season & 1\\\\\n",
       "\t  5 & 2011-01-01 & season & 1\\\\\n",
       "\t  6 & 2011-01-01 & season & 1\\\\\n",
       "\t  7 & 2011-01-01 & season & 1\\\\\n",
       "\t  8 & 2011-01-01 & season & 1\\\\\n",
       "\t  9 & 2011-01-01 & season & 1\\\\\n",
       "\t 10 & 2011-01-01 & season & 1\\\\\n",
       "\t 11 & 2011-01-01 & season & 1\\\\\n",
       "\t 12 & 2011-01-01 & season & 1\\\\\n",
       "\t 13 & 2011-01-01 & season & 1\\\\\n",
       "\t 14 & 2011-01-01 & season & 1\\\\\n",
       "\t 15 & 2011-01-01 & season & 1\\\\\n",
       "\t 16 & 2011-01-01 & season & 1\\\\\n",
       "\t 17 & 2011-01-01 & season & 1\\\\\n",
       "\t 18 & 2011-01-01 & season & 1\\\\\n",
       "\t 19 & 2011-01-01 & season & 1\\\\\n",
       "\t 20 & 2011-01-01 & season & 1\\\\\n",
       "\t 21 & 2011-01-01 & season & 1\\\\\n",
       "\t 22 & 2011-01-01 & season & 1\\\\\n",
       "\t 23 & 2011-01-01 & season & 1\\\\\n",
       "\t 24 & 2011-01-01 & season & 1\\\\\n",
       "\t 25 & 2011-01-02 & season & 1\\\\\n",
       "\t 26 & 2011-01-02 & season & 1\\\\\n",
       "\t 27 & 2011-01-02 & season & 1\\\\\n",
       "\t 28 & 2011-01-02 & season & 1\\\\\n",
       "\t 29 & 2011-01-02 & season & 1\\\\\n",
       "\t 30 & 2011-01-02 & season & 1\\\\\n",
       "\t ⋮ & ⋮ & ⋮ & ⋮\\\\\n",
       "\t 17350 & 2012-12-30 & cnt & 125\\\\\n",
       "\t 17351 & 2012-12-30 & cnt & 102\\\\\n",
       "\t 17352 & 2012-12-30 & cnt &  72\\\\\n",
       "\t 17353 & 2012-12-30 & cnt &  47\\\\\n",
       "\t 17354 & 2012-12-30 & cnt &  36\\\\\n",
       "\t 17355 & 2012-12-30 & cnt &  49\\\\\n",
       "\t 17356 & 2012-12-31 & cnt &  34\\\\\n",
       "\t 17357 & 2012-12-31 & cnt &  19\\\\\n",
       "\t 17358 & 2012-12-31 & cnt &  11\\\\\n",
       "\t 17359 & 2012-12-31 & cnt &   1\\\\\n",
       "\t 17360 & 2012-12-31 & cnt &   3\\\\\n",
       "\t 17361 & 2012-12-31 & cnt &   9\\\\\n",
       "\t 17362 & 2012-12-31 & cnt &  40\\\\\n",
       "\t 17363 & 2012-12-31 & cnt &  85\\\\\n",
       "\t 17364 & 2012-12-31 & cnt & 196\\\\\n",
       "\t 17365 & 2012-12-31 & cnt & 157\\\\\n",
       "\t 17366 & 2012-12-31 & cnt & 120\\\\\n",
       "\t 17367 & 2012-12-31 & cnt & 157\\\\\n",
       "\t 17368 & 2012-12-31 & cnt & 224\\\\\n",
       "\t 17369 & 2012-12-31 & cnt & 203\\\\\n",
       "\t 17370 & 2012-12-31 & cnt & 247\\\\\n",
       "\t 17371 & 2012-12-31 & cnt & 315\\\\\n",
       "\t 17372 & 2012-12-31 & cnt & 214\\\\\n",
       "\t 17373 & 2012-12-31 & cnt & 164\\\\\n",
       "\t 17374 & 2012-12-31 & cnt & 122\\\\\n",
       "\t 17375 & 2012-12-31 & cnt & 119\\\\\n",
       "\t 17376 & 2012-12-31 & cnt &  89\\\\\n",
       "\t 17377 & 2012-12-31 & cnt &  90\\\\\n",
       "\t 17378 & 2012-12-31 & cnt &  61\\\\\n",
       "\t 17379 & 2012-12-31 & cnt &  49\\\\\n",
       "\\end{tabular}\n"
      ],
      "text/markdown": [
       "\n",
       "A tibble: 260685 × 4\n",
       "\n",
       "| instant &lt;dbl&gt; | dteday &lt;date&gt; | condition &lt;chr&gt; | measurement &lt;dbl&gt; |\n",
       "|---|---|---|---|\n",
       "|  1 | 2011-01-01 | season | 1 |\n",
       "|  2 | 2011-01-01 | season | 1 |\n",
       "|  3 | 2011-01-01 | season | 1 |\n",
       "|  4 | 2011-01-01 | season | 1 |\n",
       "|  5 | 2011-01-01 | season | 1 |\n",
       "|  6 | 2011-01-01 | season | 1 |\n",
       "|  7 | 2011-01-01 | season | 1 |\n",
       "|  8 | 2011-01-01 | season | 1 |\n",
       "|  9 | 2011-01-01 | season | 1 |\n",
       "| 10 | 2011-01-01 | season | 1 |\n",
       "| 11 | 2011-01-01 | season | 1 |\n",
       "| 12 | 2011-01-01 | season | 1 |\n",
       "| 13 | 2011-01-01 | season | 1 |\n",
       "| 14 | 2011-01-01 | season | 1 |\n",
       "| 15 | 2011-01-01 | season | 1 |\n",
       "| 16 | 2011-01-01 | season | 1 |\n",
       "| 17 | 2011-01-01 | season | 1 |\n",
       "| 18 | 2011-01-01 | season | 1 |\n",
       "| 19 | 2011-01-01 | season | 1 |\n",
       "| 20 | 2011-01-01 | season | 1 |\n",
       "| 21 | 2011-01-01 | season | 1 |\n",
       "| 22 | 2011-01-01 | season | 1 |\n",
       "| 23 | 2011-01-01 | season | 1 |\n",
       "| 24 | 2011-01-01 | season | 1 |\n",
       "| 25 | 2011-01-02 | season | 1 |\n",
       "| 26 | 2011-01-02 | season | 1 |\n",
       "| 27 | 2011-01-02 | season | 1 |\n",
       "| 28 | 2011-01-02 | season | 1 |\n",
       "| 29 | 2011-01-02 | season | 1 |\n",
       "| 30 | 2011-01-02 | season | 1 |\n",
       "| ⋮ | ⋮ | ⋮ | ⋮ |\n",
       "| 17350 | 2012-12-30 | cnt | 125 |\n",
       "| 17351 | 2012-12-30 | cnt | 102 |\n",
       "| 17352 | 2012-12-30 | cnt |  72 |\n",
       "| 17353 | 2012-12-30 | cnt |  47 |\n",
       "| 17354 | 2012-12-30 | cnt |  36 |\n",
       "| 17355 | 2012-12-30 | cnt |  49 |\n",
       "| 17356 | 2012-12-31 | cnt |  34 |\n",
       "| 17357 | 2012-12-31 | cnt |  19 |\n",
       "| 17358 | 2012-12-31 | cnt |  11 |\n",
       "| 17359 | 2012-12-31 | cnt |   1 |\n",
       "| 17360 | 2012-12-31 | cnt |   3 |\n",
       "| 17361 | 2012-12-31 | cnt |   9 |\n",
       "| 17362 | 2012-12-31 | cnt |  40 |\n",
       "| 17363 | 2012-12-31 | cnt |  85 |\n",
       "| 17364 | 2012-12-31 | cnt | 196 |\n",
       "| 17365 | 2012-12-31 | cnt | 157 |\n",
       "| 17366 | 2012-12-31 | cnt | 120 |\n",
       "| 17367 | 2012-12-31 | cnt | 157 |\n",
       "| 17368 | 2012-12-31 | cnt | 224 |\n",
       "| 17369 | 2012-12-31 | cnt | 203 |\n",
       "| 17370 | 2012-12-31 | cnt | 247 |\n",
       "| 17371 | 2012-12-31 | cnt | 315 |\n",
       "| 17372 | 2012-12-31 | cnt | 214 |\n",
       "| 17373 | 2012-12-31 | cnt | 164 |\n",
       "| 17374 | 2012-12-31 | cnt | 122 |\n",
       "| 17375 | 2012-12-31 | cnt | 119 |\n",
       "| 17376 | 2012-12-31 | cnt |  89 |\n",
       "| 17377 | 2012-12-31 | cnt |  90 |\n",
       "| 17378 | 2012-12-31 | cnt |  61 |\n",
       "| 17379 | 2012-12-31 | cnt |  49 |\n",
       "\n"
      ],
      "text/plain": [
       "       instant dteday     condition measurement\n",
       "1       1      2011-01-01 season    1          \n",
       "2       2      2011-01-01 season    1          \n",
       "3       3      2011-01-01 season    1          \n",
       "4       4      2011-01-01 season    1          \n",
       "5       5      2011-01-01 season    1          \n",
       "6       6      2011-01-01 season    1          \n",
       "7       7      2011-01-01 season    1          \n",
       "8       8      2011-01-01 season    1          \n",
       "9       9      2011-01-01 season    1          \n",
       "10     10      2011-01-01 season    1          \n",
       "11     11      2011-01-01 season    1          \n",
       "12     12      2011-01-01 season    1          \n",
       "13     13      2011-01-01 season    1          \n",
       "14     14      2011-01-01 season    1          \n",
       "15     15      2011-01-01 season    1          \n",
       "16     16      2011-01-01 season    1          \n",
       "17     17      2011-01-01 season    1          \n",
       "18     18      2011-01-01 season    1          \n",
       "19     19      2011-01-01 season    1          \n",
       "20     20      2011-01-01 season    1          \n",
       "21     21      2011-01-01 season    1          \n",
       "22     22      2011-01-01 season    1          \n",
       "23     23      2011-01-01 season    1          \n",
       "24     24      2011-01-01 season    1          \n",
       "25     25      2011-01-02 season    1          \n",
       "26     26      2011-01-02 season    1          \n",
       "27     27      2011-01-02 season    1          \n",
       "28     28      2011-01-02 season    1          \n",
       "29     29      2011-01-02 season    1          \n",
       "30     30      2011-01-02 season    1          \n",
       "⋮      ⋮       ⋮          ⋮         ⋮          \n",
       "260656 17350   2012-12-30 cnt       125        \n",
       "260657 17351   2012-12-30 cnt       102        \n",
       "260658 17352   2012-12-30 cnt        72        \n",
       "260659 17353   2012-12-30 cnt        47        \n",
       "260660 17354   2012-12-30 cnt        36        \n",
       "260661 17355   2012-12-30 cnt        49        \n",
       "260662 17356   2012-12-31 cnt        34        \n",
       "260663 17357   2012-12-31 cnt        19        \n",
       "260664 17358   2012-12-31 cnt        11        \n",
       "260665 17359   2012-12-31 cnt         1        \n",
       "260666 17360   2012-12-31 cnt         3        \n",
       "260667 17361   2012-12-31 cnt         9        \n",
       "260668 17362   2012-12-31 cnt        40        \n",
       "260669 17363   2012-12-31 cnt        85        \n",
       "260670 17364   2012-12-31 cnt       196        \n",
       "260671 17365   2012-12-31 cnt       157        \n",
       "260672 17366   2012-12-31 cnt       120        \n",
       "260673 17367   2012-12-31 cnt       157        \n",
       "260674 17368   2012-12-31 cnt       224        \n",
       "260675 17369   2012-12-31 cnt       203        \n",
       "260676 17370   2012-12-31 cnt       247        \n",
       "260677 17371   2012-12-31 cnt       315        \n",
       "260678 17372   2012-12-31 cnt       214        \n",
       "260679 17373   2012-12-31 cnt       164        \n",
       "260680 17374   2012-12-31 cnt       122        \n",
       "260681 17375   2012-12-31 cnt       119        \n",
       "260682 17376   2012-12-31 cnt        89        \n",
       "260683 17377   2012-12-31 cnt        90        \n",
       "260684 17378   2012-12-31 cnt        61        \n",
       "260685 17379   2012-12-31 cnt        49        "
      ]
     },
     "metadata": {},
     "output_type": "display_data"
    }
   ],
   "source": [
    "bike_long <- bike_df %>%\n",
    "gather(key = condition,\n",
    "       value = measurement, \n",
    "       season: cnt)  # Here i have changed the wide data into a long data format with the new col 'condition' with temp, atemp, hum, and windspeed \n",
    "                          # inside that col then another col 'measurement' that displays the measurement of the condition\n",
    "\n",
    "bike_long # this will show the output"
   ]
  },
  {
   "cell_type": "code",
   "execution_count": 204,
   "metadata": {},
   "outputs": [
    {
     "data": {
      "text/html": [
       "<table class=\"dataframe\">\n",
       "<caption>A tibble: 6 × 17</caption>\n",
       "<thead>\n",
       "\t<tr><th scope=col>instant</th><th scope=col>dteday</th><th scope=col>atemp</th><th scope=col>casual</th><th scope=col>cnt</th><th scope=col>holiday</th><th scope=col>hr</th><th scope=col>hum</th><th scope=col>mnth</th><th scope=col>registered</th><th scope=col>season</th><th scope=col>temp</th><th scope=col>weathersit</th><th scope=col>weekday</th><th scope=col>windspeed</th><th scope=col>workingday</th><th scope=col>yr</th></tr>\n",
       "\t<tr><th scope=col>&lt;dbl&gt;</th><th scope=col>&lt;date&gt;</th><th scope=col>&lt;dbl&gt;</th><th scope=col>&lt;dbl&gt;</th><th scope=col>&lt;dbl&gt;</th><th scope=col>&lt;dbl&gt;</th><th scope=col>&lt;dbl&gt;</th><th scope=col>&lt;dbl&gt;</th><th scope=col>&lt;dbl&gt;</th><th scope=col>&lt;dbl&gt;</th><th scope=col>&lt;dbl&gt;</th><th scope=col>&lt;dbl&gt;</th><th scope=col>&lt;dbl&gt;</th><th scope=col>&lt;dbl&gt;</th><th scope=col>&lt;dbl&gt;</th><th scope=col>&lt;dbl&gt;</th><th scope=col>&lt;dbl&gt;</th></tr>\n",
       "</thead>\n",
       "<tbody>\n",
       "\t<tr><td>1</td><td>2011-01-01</td><td>0.2879</td><td>3</td><td>16</td><td>0</td><td>0</td><td>0.81</td><td>1</td><td>13</td><td>1</td><td>0.24</td><td>1</td><td>6</td><td>0.0000</td><td>0</td><td>0</td></tr>\n",
       "\t<tr><td>2</td><td>2011-01-01</td><td>0.2727</td><td>8</td><td>40</td><td>0</td><td>1</td><td>0.80</td><td>1</td><td>32</td><td>1</td><td>0.22</td><td>1</td><td>6</td><td>0.0000</td><td>0</td><td>0</td></tr>\n",
       "\t<tr><td>3</td><td>2011-01-01</td><td>0.2727</td><td>5</td><td>32</td><td>0</td><td>2</td><td>0.80</td><td>1</td><td>27</td><td>1</td><td>0.22</td><td>1</td><td>6</td><td>0.0000</td><td>0</td><td>0</td></tr>\n",
       "\t<tr><td>4</td><td>2011-01-01</td><td>0.2879</td><td>3</td><td>13</td><td>0</td><td>3</td><td>0.75</td><td>1</td><td>10</td><td>1</td><td>0.24</td><td>1</td><td>6</td><td>0.0000</td><td>0</td><td>0</td></tr>\n",
       "\t<tr><td>5</td><td>2011-01-01</td><td>0.2879</td><td>0</td><td> 1</td><td>0</td><td>4</td><td>0.75</td><td>1</td><td> 1</td><td>1</td><td>0.24</td><td>1</td><td>6</td><td>0.0000</td><td>0</td><td>0</td></tr>\n",
       "\t<tr><td>6</td><td>2011-01-01</td><td>0.2576</td><td>0</td><td> 1</td><td>0</td><td>5</td><td>0.75</td><td>1</td><td> 1</td><td>1</td><td>0.24</td><td>2</td><td>6</td><td>0.0896</td><td>0</td><td>0</td></tr>\n",
       "</tbody>\n",
       "</table>\n"
      ],
      "text/latex": [
       "A tibble: 6 × 17\n",
       "\\begin{tabular}{lllllllllllllllll}\n",
       " instant & dteday & atemp & casual & cnt & holiday & hr & hum & mnth & registered & season & temp & weathersit & weekday & windspeed & workingday & yr\\\\\n",
       " <dbl> & <date> & <dbl> & <dbl> & <dbl> & <dbl> & <dbl> & <dbl> & <dbl> & <dbl> & <dbl> & <dbl> & <dbl> & <dbl> & <dbl> & <dbl> & <dbl>\\\\\n",
       "\\hline\n",
       "\t 1 & 2011-01-01 & 0.2879 & 3 & 16 & 0 & 0 & 0.81 & 1 & 13 & 1 & 0.24 & 1 & 6 & 0.0000 & 0 & 0\\\\\n",
       "\t 2 & 2011-01-01 & 0.2727 & 8 & 40 & 0 & 1 & 0.80 & 1 & 32 & 1 & 0.22 & 1 & 6 & 0.0000 & 0 & 0\\\\\n",
       "\t 3 & 2011-01-01 & 0.2727 & 5 & 32 & 0 & 2 & 0.80 & 1 & 27 & 1 & 0.22 & 1 & 6 & 0.0000 & 0 & 0\\\\\n",
       "\t 4 & 2011-01-01 & 0.2879 & 3 & 13 & 0 & 3 & 0.75 & 1 & 10 & 1 & 0.24 & 1 & 6 & 0.0000 & 0 & 0\\\\\n",
       "\t 5 & 2011-01-01 & 0.2879 & 0 &  1 & 0 & 4 & 0.75 & 1 &  1 & 1 & 0.24 & 1 & 6 & 0.0000 & 0 & 0\\\\\n",
       "\t 6 & 2011-01-01 & 0.2576 & 0 &  1 & 0 & 5 & 0.75 & 1 &  1 & 1 & 0.24 & 2 & 6 & 0.0896 & 0 & 0\\\\\n",
       "\\end{tabular}\n"
      ],
      "text/markdown": [
       "\n",
       "A tibble: 6 × 17\n",
       "\n",
       "| instant &lt;dbl&gt; | dteday &lt;date&gt; | atemp &lt;dbl&gt; | casual &lt;dbl&gt; | cnt &lt;dbl&gt; | holiday &lt;dbl&gt; | hr &lt;dbl&gt; | hum &lt;dbl&gt; | mnth &lt;dbl&gt; | registered &lt;dbl&gt; | season &lt;dbl&gt; | temp &lt;dbl&gt; | weathersit &lt;dbl&gt; | weekday &lt;dbl&gt; | windspeed &lt;dbl&gt; | workingday &lt;dbl&gt; | yr &lt;dbl&gt; |\n",
       "|---|---|---|---|---|---|---|---|---|---|---|---|---|---|---|---|---|\n",
       "| 1 | 2011-01-01 | 0.2879 | 3 | 16 | 0 | 0 | 0.81 | 1 | 13 | 1 | 0.24 | 1 | 6 | 0.0000 | 0 | 0 |\n",
       "| 2 | 2011-01-01 | 0.2727 | 8 | 40 | 0 | 1 | 0.80 | 1 | 32 | 1 | 0.22 | 1 | 6 | 0.0000 | 0 | 0 |\n",
       "| 3 | 2011-01-01 | 0.2727 | 5 | 32 | 0 | 2 | 0.80 | 1 | 27 | 1 | 0.22 | 1 | 6 | 0.0000 | 0 | 0 |\n",
       "| 4 | 2011-01-01 | 0.2879 | 3 | 13 | 0 | 3 | 0.75 | 1 | 10 | 1 | 0.24 | 1 | 6 | 0.0000 | 0 | 0 |\n",
       "| 5 | 2011-01-01 | 0.2879 | 0 |  1 | 0 | 4 | 0.75 | 1 |  1 | 1 | 0.24 | 1 | 6 | 0.0000 | 0 | 0 |\n",
       "| 6 | 2011-01-01 | 0.2576 | 0 |  1 | 0 | 5 | 0.75 | 1 |  1 | 1 | 0.24 | 2 | 6 | 0.0896 | 0 | 0 |\n",
       "\n"
      ],
      "text/plain": [
       "  instant dteday     atemp  casual cnt holiday hr hum  mnth registered season\n",
       "1 1       2011-01-01 0.2879 3      16  0       0  0.81 1    13         1     \n",
       "2 2       2011-01-01 0.2727 8      40  0       1  0.80 1    32         1     \n",
       "3 3       2011-01-01 0.2727 5      32  0       2  0.80 1    27         1     \n",
       "4 4       2011-01-01 0.2879 3      13  0       3  0.75 1    10         1     \n",
       "5 5       2011-01-01 0.2879 0       1  0       4  0.75 1     1         1     \n",
       "6 6       2011-01-01 0.2576 0       1  0       5  0.75 1     1         1     \n",
       "  temp weathersit weekday windspeed workingday yr\n",
       "1 0.24 1          6       0.0000    0          0 \n",
       "2 0.22 1          6       0.0000    0          0 \n",
       "3 0.22 1          6       0.0000    0          0 \n",
       "4 0.24 1          6       0.0000    0          0 \n",
       "5 0.24 1          6       0.0000    0          0 \n",
       "6 0.24 2          6       0.0896    0          0 "
      ]
     },
     "metadata": {},
     "output_type": "display_data"
    }
   ],
   "source": [
    "bike_wide <- bike_long %>%\n",
    "  tibble() %>%\n",
    "    spread(key = condition,\n",
    "           value = measurement) # Here i am taking the long data set that i just made and turning to back into a a wide data\n",
    "                             #set using the spread function \n",
    "bike_wide %>%\n",
    "  head()    #to show a small amount of the data so not to take up heaps of room with the output"
   ]
  },
  {
   "cell_type": "code",
   "execution_count": 205,
   "metadata": {},
   "outputs": [],
   "source": [
    "# The data in 'bike_df' (the table above) is already in tidy data shape , i beleve this because...\n",
    "# every column is a variable, \n",
    "# every row is an observation, \n",
    "# and every cell has a single vaule.\n",
    "# There is no missing data or columns with more than one vaule, \n",
    "# the data is also in a wide form which i think is easier to read from aswell  "
   ]
  },
  {
   "cell_type": "markdown",
   "metadata": {
    "tags": []
   },
   "source": [
    "### Task (f): plot (10 marks)\n",
    "\n",
    "Produce a beautiful graphical representation of the data in `bike_df` or of _some_ of the data in `bike_df`. You can try different geometries, themes, mappings, ... . Make sure you label the plots with titles, and axis labels. Notice that the focus is on the use of *plotting as a data model*, rather than on the *statistical modelling* of the data.\n",
    "\\[ Hint: if you can't find any plotting idea, try focusing on the count of total rental bikes, and how it varies through time, season, weather, temperature, humidty, wind-speed. \\]\n",
    "\n",
    "_hint_ useful functions: `ggplot()`, `ylab()`, `xlab()`, `geom_...()`, `aes()`, `facet_...()`, ..."
   ]
  },
  {
   "cell_type": "code",
   "execution_count": 207,
   "metadata": {},
   "outputs": [
    {
     "data": {
      "image/png": "[encoded data removed]",
      "text/plain": [
       "plot without title"
      ]
     },
     "metadata": {
      "image/png": {
       "height": 420,
       "width": 420
      }
     },
     "output_type": "display_data"
    }
   ],
   "source": [
    "plot = bike_df %>%  # calling the graph 'plot'\n",
    "  ggplot(aes(x = dteday, y = cnt, colour = cnt)) + # here i have made a graph that shows the relationship between the total number of rides and the date they were taken\n",
    "  theme(plot.title = element_text(hjust=0.5)) +  # This makes the title look better and become centred on the top of the graph \n",
    "  xlab(\"Date\") +  # labeling the x axes 'Date'\n",
    "  ylab(\"Number of rides\") +  # Labeling the y axes 'Number of rides' \n",
    "  ggtitle(\"Total number of rides\") +  # creating the title\n",
    "  geom_line() # having the data represented by lines\n",
    "\n",
    "plot # this will show the graph "
   ]
  },
  {
   "cell_type": "markdown",
   "metadata": {
    "tags": []
   },
   "source": [
    "### Task (g): save (10 marks)\n",
    "\n",
    "Save your plot from Task (f) and your tidy dataset from Task (e) to disk. \n",
    "\n",
    "_hint_ useful functions: `write_csv()`, `ggsave()`,..."
   ]
  },
  {
   "cell_type": "code",
   "execution_count": 208,
   "metadata": {},
   "outputs": [
    {
     "name": "stderr",
     "output_type": "stream",
     "text": [
      "Saving 6.67 x 6.67 in image\n",
      "\n"
     ]
    }
   ],
   "source": [
    "ggsave(\"Number of rides.jpg\", plot = plot, device = \"jpg\") # this will save the graph (plot) "
   ]
  },
  {
   "cell_type": "markdown",
   "metadata": {
    "tags": []
   },
   "source": [
    "### Challenge question (20 marks)\n",
    "\n",
    "You are the data scientist working for a bike rental company. The `hour.csv` is the data you have available. The bike rental CEO sometimes wakes up in the morning with these strange ideas, and you get to test them.\n",
    "\n",
    "One of the key element for the company is being sure that there are always enough bikes available for the users. So, we need to understand what makes a user rent a bike and what makes a user NOT rent a bike.\n",
    "Your CEO noticed thinks that one of the peak times for the registered users renting bikes is between 6am and 10am.\n",
    "\n",
    "Task (1): make a plot to check that (take seasonality into account in the plot).\n",
    "\n",
    "She also thought about an interesting hypothesis. A registered user usually finish working around 5pm. Between 5pm and 10pm, they notice the weather: in particular, the registered users are sensible to how good the weather is, and how stable it is. The morning after, between 6am and 10am, the amount of registered users renting a bike to go to work depends on the previous afternoon weather.\n",
    "\n",
    "Task (2): make one or more plot to test this hypothesis (again, consider seasonality in the plot).\n",
    "\n",
    "**Hint: Make your plots with some colour, good font size and visualisation.**"
   ]
  },
  {
   "cell_type": "code",
   "execution_count": 209,
   "metadata": {},
   "outputs": [
    {
     "data": {
      "image/png": "[encoded data removed]",
      "text/plain": [
       "plot without title"
      ]
     },
     "metadata": {
      "image/png": {
       "height": 420,
       "width": 420
      }
     },
     "output_type": "display_data"
    }
   ],
   "source": [
    "# -----------------------------TASK(1)--------------------------------\n",
    "avg_rides_per_hour = bike_df %>% # Here i am creating a new table that groups together the hours 0 to 23 and then getting the median of the number of rides per hour\n",
    "group_by(hr) %>%  # this is grouping by hours\n",
    "  summarise(cnt = median(cnt)) # this will give the median of the number of rides for each hour\n",
    "\n",
    "avg_rides_per_hour %>%\n",
    "  ggplot(aes(x = hr, y = cnt, colour = cnt)) + # here i have made a graph that shows the average number of rides per hour\n",
    "  xlab(\"Time of Day (hour)\") +  # labeling the x axes \"Time of Day (hours 0-23)\"\n",
    "  ylab(\"Number of Rides\") +  # Labeling the y axes \"Number of Rides\"\n",
    "  ggtitle(\"Peak Times\") + # creating the title\n",
    "  theme(plot.title = element_text(color = \"blue\", size = 20)) + # here i am making the title look better with a larger font size and some colour\n",
    "  theme(plot.title = element_text(hjust = 0.5)) +  # This makes the title look better and become centred on the top of the graph \n",
    "  geom_line(size = 2) # having the data represented by a line wiht thickness of 2"
   ]
  },
  {
   "cell_type": "code",
   "execution_count": 210,
   "metadata": {},
   "outputs": [],
   "source": [
    "# -----------------------------TASK(1)--------------------------------\n",
    "# Here we can see that the peak time of the number of rides is not during 6am and 10am, although it is almost a peak time,\n",
    "# From this graph we can see that the peak time is from 10am till 6pm,\n",
    "# I have taken the median of each hour so to account for seasonality.\n"
   ]
  },
  {
   "cell_type": "code",
   "execution_count": null,
   "metadata": {},
   "outputs": [],
   "source": []
  },
  {
   "cell_type": "code",
   "execution_count": 211,
   "metadata": {},
   "outputs": [],
   "source": [
    "# -----------------------------TASK(2)--------------------------------\n",
    "avg_reg_rides_per_hour = bike_df %>% # Here i am creating a new table that groups together the hours 0 to 23 and then getting the median of the number of rides per hour\n",
    "group_by(hr) %>%  # this is grouping by hours\n",
    "  summarise(registered = median(registered)) # this will give the median of the number of rides for each hour\n",
    "\n",
    "avg_reg_rides_per_hour_plot = avg_reg_rides_per_hour %>%\n",
    "  ggplot(aes(x = hr, y = registered, colour = registered)) + # here i have made a graph that shows the relationship between the average number of rides per hour\n",
    "  xlab(\"Time of Day (hours (0-23))\") +  # labeling the x axes \"Time of Day (hours (0-23))\"\n",
    "  ylab(\"Average Number of Registered Rides\") +  # Labeling the y axes \"Average Number of Registered Rides\"\n",
    "  ggtitle(\"Peak Times\") + # creating the title\n",
    "  theme(plot.title = element_text(color = \"blue\", size = 20)) + # here i am making the title look better with a larger font size and some colour\n",
    "  theme(plot.title = element_text(hjust = 0.5)) +  # This makes the title look better and become centred on the top of the graph \n",
    "  geom_line(size = 2) # having the data represented by a line wiht thickness of 2"
   ]
  },
  {
   "cell_type": "code",
   "execution_count": 212,
   "metadata": {},
   "outputs": [],
   "source": [
    "# -----------------------------TASK(2)--------------------------------\n",
    "avg_temp_per_hour = bike_df %>% # Here i am creating a new table that groups together the hours 0 to 23 and then getting the median of the temp per hour\n",
    "group_by(hr) %>%  # this is grouping by hours\n",
    "  summarise(temp = median(temp)) # this will give the median of the temp for each hour\n",
    "\n",
    "avg_temp_per_hour_plot = avg_temp_per_hour %>%\n",
    "  ggplot(aes(x = hr, y = temp, colour = temp)) + # here i have made a graph that shows the relationship between the average number of rides per hour\n",
    "  xlab(\"Time of Day (hours (0-23))\") +  # labeling the x axes \"Time of Day (hours (0-23))\"\n",
    "  ylab(\"Average Temp\") +  # Labeling the y axes \"Average Temp\"\n",
    "  ggtitle(\"Previous Days Weather\") + # creating the title \"Previous Days Weather\"\n",
    "  theme(plot.title = element_text(color = \"green\", size = 20)) + # here i am making the title look better with a larger font size and some colour\n",
    "  theme(plot.title = element_text(hjust = 0.5)) +  # This makes the title look better and become centred on the top of the graph \n",
    "  geom_line(size = 2) # having the data represented by a line wiht thickness of 2"
   ]
  },
  {
   "cell_type": "code",
   "execution_count": 213,
   "metadata": {},
   "outputs": [],
   "source": [
    "# -----------------------------TASK(2)--------------------------------\n",
    "temp_reg_riders = bike_df %>% # Here i am creating a new table that groups together the number of registered rides to the median temp\n",
    "group_by(registered) %>%  # this is grouping by registered\n",
    "  summarise(temp = median(temp)) # this will give the median temp for each of the registered rides \n",
    "\n",
    "temp_reg_riders_plot = test %>%\n",
    "  ggplot(aes(x = temp, y = registered, colour = registered)) + # here i have made a graph that shows the relationship between the average number of rides per hour\n",
    "  xlab(\"Temp\") +  # labeling the x axes \"Temp\"\n",
    "  ylab(\"Number of Registered Riders\") +  # Labeling the y axes \"Number of Registered Riders\"\n",
    "  ggtitle(\"Average Registered Riders Compared to Temp\") + # creating the title \"Average Registered Riders Compared to Temp\"\n",
    "  theme(plot.title = element_text(color = \"green\", size = 20)) + # here i am making the title look better with a larger font size and some colour\n",
    "  theme(plot.title = element_text(hjust = 0.5)) +  # This makes the title look better and become centred on the top of the graph \n",
    "  geom_point(size = 2) # having the data represented by a line wiht thickness of 2\n"
   ]
  },
  {
   "cell_type": "code",
   "execution_count": 214,
   "metadata": {},
   "outputs": [
    {
     "data": {
      "image/png": "[encoded data removed]",
      "text/plain": [
       "plot without title"
      ]
     },
     "metadata": {
      "image/png": {
       "height": 420,
       "width": 420
      }
     },
     "output_type": "display_data"
    }
   ],
   "source": [
    "avg_reg_rides_per_hour_plot # prints first plot "
   ]
  },
  {
   "cell_type": "code",
   "execution_count": 215,
   "metadata": {},
   "outputs": [],
   "source": [
    "# This graph (above) shows the median number of registered rides per hour, from this graph we can see that is is similar to the graph \n",
    "# of the total numebr of rides with a few small differnces "
   ]
  },
  {
   "cell_type": "code",
   "execution_count": 216,
   "metadata": {},
   "outputs": [
    {
     "data": {
      "image/png": "[encoded data removed]",
      "text/plain": [
       "plot without title"
      ]
     },
     "metadata": {
      "image/png": {
       "height": 420,
       "width": 420
      }
     },
     "output_type": "display_data"
    }
   ],
   "source": [
    "avg_temp_per_hour_plot # prints second plot"
   ]
  },
  {
   "cell_type": "code",
   "execution_count": 217,
   "metadata": {},
   "outputs": [],
   "source": [
    "# This graph (above) shows us the median temp of each hour, together with the first graph it can be hard to see the relastionship \n",
    "# between the number of registered riders and the temp although it is good to have these plots to gather information about the peak \n",
    "# times and also when it is the hottest and coldest each day (with taking seasonality into account) "
   ]
  },
  {
   "cell_type": "code",
   "execution_count": 218,
   "metadata": {},
   "outputs": [
    {
     "data": {
      "image/png": "[encoded data removed]",
      "text/plain": [
       "plot without title"
      ]
     },
     "metadata": {
      "image/png": {
       "height": 420,
       "width": 420
      }
     },
     "output_type": "display_data"
    }
   ],
   "source": [
    "temp_reg_riders_plot"
   ]
  },
  {
   "cell_type": "code",
   "execution_count": 219,
   "metadata": {},
   "outputs": [],
   "source": [
    "# This graph (above) plots the relastionship between the the number of registered riders and the temp, form this graph we can see that\n",
    "# when the weather is colder there are fewer registered rides although there are some "
   ]
  },
  {
   "cell_type": "code",
   "execution_count": 220,
   "metadata": {},
   "outputs": [],
   "source": [
    "# from the information in these three graphs i would say the CEO is wirng with her hypothesis there is not enough \n",
    "# data to show that, for the large majority of registered riders, they depend on the temp of the pervous arvo to then go out \n",
    "# riding in the morning."
   ]
  },
  {
   "cell_type": "code",
   "execution_count": null,
   "metadata": {},
   "outputs": [],
   "source": []
  }
 ],
 "metadata": {
  "kernelspec": {
   "display_name": "R",
   "language": "R",
   "name": "ir"
  },
  "language_info": {
   "codemirror_mode": "r",
   "file_extension": ".r",
   "mimetype": "text/x-r-source",
   "name": "R",
   "pygments_lexer": "r",
   "version": "4.2.1"
  }
 },
 "nbformat": 4,
 "nbformat_minor": 4
}
